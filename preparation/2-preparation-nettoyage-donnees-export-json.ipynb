{
 "cells": [
  {
   "cell_type": "markdown",
   "metadata": {},
   "source": [
    "# préparation des données\n",
    "besoin de convertir les données du format tagtog vers spacy"
   ]
  },
  {
   "attachments": {},
   "cell_type": "markdown",
   "metadata": {},
   "source": [
    "On veut pouvoir utiliser l'objet [Scorer](https://spacy.io/api/scorer#score) qui nécessite la construction d'objets [Example](https://spacy.io/api/example).\n",
    "\n",
    "> An Example holds the information for one training instance. It stores two Doc objects: one for holding the gold-standard reference data, and one for holding the predictions of the pipeline."
   ]
  },
  {
   "attachments": {},
   "cell_type": "markdown",
   "metadata": {},
   "source": [
    "## Exemple de code de scoring avec Spacy\n",
    "On obtient un F-Score : c'est parfait."
   ]
  },
  {
   "cell_type": "code",
   "execution_count": 1,
   "metadata": {},
   "outputs": [
    {
     "name": "stdout",
     "output_type": "stream",
     "text": [
      "Pred.: [('Grégory Doucet', 'PER')]  ↔ Targ.: [('Grégory Doucet', 'PER')]\n",
      "Pred.: [('Londres', 'LOC'), ('Berlin', 'LOC')]  ↔ Targ.: [('Londres', 'LOC'), ('Berlin', 'LOC')]\n",
      "1.0\n",
      "{'ents_p': 1.0, 'ents_r': 1.0, 'ents_f': 1.0, 'ents_per_type': {'PER': {'p': 1.0, 'r': 1.0, 'f': 1.0}, 'LOC': {'p': 1.0, 'r': 1.0, 'f': 1.0}}}\n"
     ]
    }
   ],
   "source": [
    "import spacy\n",
    "from spacy.scorer import Scorer\n",
    "from spacy.training.example import Example\n",
    "\n",
    "text_and_target_entities: list[str, list[tuple[int, int, str]]] = [\n",
    "    (\"Qui est Grégory Doucet?\",\n",
    "     [(8, 22, 'PER')]),\n",
    "    (\"J'aime Londres et Berlin.\",\n",
    "     [(7, 14, 'LOC'), (18, 24, 'LOC')])\n",
    "]\n",
    "\n",
    "# Split text and target entities to enable the efficient use of the `pipe()` method.\n",
    "texts, target_entities = zip(*text_and_target_entities)\n",
    "\n",
    "\n",
    "def evaluate(ner_model, texts, target_entities, debug=False):\n",
    "    examples = []\n",
    "    pred_documents = ner_model.pipe(texts)\n",
    "    for pred_doc, text, entities in zip(pred_documents, texts, target_entities):\n",
    "        if debug:\n",
    "            print(\"Pred.:\", [(ent.text, ent.label_) for ent in pred_doc.ents], \" ↔ Targ.:\", [(text[e[0]:e[1]], e[2]) for e in entities])\n",
    "        example = Example.from_dict(pred_doc, {\"entities\": entities})\n",
    "        examples.append(example)\n",
    "    \n",
    "    scorer = Scorer()\n",
    "    scores = scorer.score_spans(examples, \"ents\")\n",
    "    print(scores[\"ents_f\"])\n",
    "    return scores\n",
    "\n",
    "ner_model = spacy.load('fr_core_news_sm') # for spaCy's pretrained use 'en_core_web_sm'\n",
    "results = evaluate(ner_model, texts, target_entities, debug=True)\n",
    "print(results)"
   ]
  },
  {
   "cell_type": "code",
   "execution_count": null,
   "metadata": {},
   "outputs": [],
   "source": []
  },
  {
   "attachments": {},
   "cell_type": "markdown",
   "metadata": {},
   "source": [
    "## Conversion du format TagTog vers Spacy"
   ]
  },
  {
   "cell_type": "code",
   "execution_count": 2,
   "metadata": {},
   "outputs": [
    {
     "name": "stdout",
     "output_type": "stream",
     "text": [
      "Found 100 files.\n"
     ]
    },
    {
     "data": {
      "text/plain": [
       "['/home/jchazalo/tmp/French_ELTEC_NER_Open_Dataset/annotations/pool/a.0MBIm18ieWUH8iyy4d4RIFZKSu-FRA02802_Mirbeau.txt.ann.json',\n",
       " '/home/jchazalo/tmp/French_ELTEC_NER_Open_Dataset/annotations/pool/a.GwmWhiyt0OKvDrD6b._1MxEt2K-FRA03101_Ponson.txt.ann.json',\n",
       " '/home/jchazalo/tmp/French_ELTEC_NER_Open_Dataset/annotations/pool/a.JUEoYT5Jt44vnpvLAg8WSk0iVm-FRA00901_Daudet.txt.ann.json',\n",
       " '/home/jchazalo/tmp/French_ELTEC_NER_Open_Dataset/annotations/pool/a.n8hDHVP39RVA3a5sKkRffFXIUO-FRA04102_Erckmann.txt.ann.json',\n",
       " '/home/jchazalo/tmp/French_ELTEC_NER_Open_Dataset/annotations/pool/a0z.I.nFSfzECA9d.L_J7DCWOZXm-FRA05801_Mille.txt.ann.json',\n",
       " '/home/jchazalo/tmp/French_ELTEC_NER_Open_Dataset/annotations/pool/a34P3V2Cg118Ym0ahNVjTy4.Ex5O-FRA04601_Bazin.txt.ann.json',\n",
       " '/home/jchazalo/tmp/French_ELTEC_NER_Open_Dataset/annotations/pool/a3MNF7TUrtea7XfRiJXn6Wk0b858-FRA07201_Montagne.txt.ann.json',\n",
       " '/home/jchazalo/tmp/French_ELTEC_NER_Open_Dataset/annotations/pool/a49_fmd9IHJ2wC1gsQKizy8CDYZi-FRA04001_Verne.txt.ann.json',\n",
       " '/home/jchazalo/tmp/French_ELTEC_NER_Open_Dataset/annotations/pool/a5.iqH.1H1PMZS_S9ADOeQldE17q-FRA01602_GautierJ.txt.ann.json',\n",
       " '/home/jchazalo/tmp/French_ELTEC_NER_Open_Dataset/annotations/pool/a5KaOu4YsuzLiiz0ROmtJI7AnhtG-FRA03702_Sand.txt.ann.json']"
      ]
     },
     "execution_count": 2,
     "metadata": {},
     "output_type": "execute_result"
    }
   ],
   "source": [
    "from glob import glob\n",
    "import os.path\n",
    "\n",
    "PATH_JSON_FILES_DIR = \"/home/jchazalo/tmp/French_ELTEC_NER_Open_Dataset/annotations/pool\"\n",
    "\n",
    "files = sorted(glob(os.path.join(PATH_JSON_FILES_DIR, \"*.json\")))\n",
    "print(\"Found\", len(files), \"files.\")\n",
    "files[:10]"
   ]
  },
  {
   "cell_type": "code",
   "execution_count": 3,
   "metadata": {},
   "outputs": [
    {
     "data": {
      "text/plain": [
       "'/home/jchazalo/tmp/French_ELTEC_NER_Open_Dataset/annotations/pool/aS22wZszAN02LNh6VcXvYm.zrhiq-FRA05401_Kock.txt.ann.json'"
      ]
     },
     "execution_count": 3,
     "metadata": {},
     "output_type": "execute_result"
    }
   ],
   "source": [
    "sample = files[50]\n",
    "sample"
   ]
  },
  {
   "cell_type": "code",
   "execution_count": 4,
   "metadata": {},
   "outputs": [],
   "source": [
    "import json"
   ]
  },
  {
   "cell_type": "code",
   "execution_count": 5,
   "metadata": {},
   "outputs": [],
   "source": [
    "TAGTOG_LABELS = {\n",
    "  \"e_8\" : \"EVENT\",\n",
    "  \"e_3\" : \"ORG\",\n",
    "  \"e_2\" : \"LOC\",\n",
    "  \"e_7\" : \"ROLE\",\n",
    "  \"e_5\" : \"WORK\",\n",
    "  \"e_6\" : \"DEMO\",\n",
    "  \"e_4\" : \"OTHER\",\n",
    "  \"e_1\" : \"PER\"\n",
    "}\n",
    "\n",
    "KEEP_TAGS = [\"LOC\", \"PER\"]"
   ]
  },
  {
   "cell_type": "code",
   "execution_count": 6,
   "metadata": {},
   "outputs": [],
   "source": [
    "def parse_tagtog_json(filename: str) -> list[tuple[int, int, str]]:\n",
    "    data = None\n",
    "    with open(filename, encoding=\"utf8\") as in_file:\n",
    "        data = json.load(in_file)\n",
    "    data = data[\"entities\"]\n",
    "    results = []\n",
    "    for elt in data:\n",
    "        label = TAGTOG_LABELS[elt.get(\"classId\")]\n",
    "        first_offset = elt[\"offsets\"][0]\n",
    "        start = first_offset[\"start\"]\n",
    "        text = first_offset[\"text\"]\n",
    "        if label in KEEP_TAGS:\n",
    "            results.append((start, start+len(text), label))\n",
    "    return results"
   ]
  },
  {
   "cell_type": "code",
   "execution_count": 7,
   "metadata": {},
   "outputs": [
    {
     "data": {
      "text/plain": [
       "[(0, 9, 'PER'),\n",
       " (1923, 1928, 'LOC'),\n",
       " (2852, 2863, 'LOC'),\n",
       " (3431, 3458, 'LOC'),\n",
       " (4425, 4431, 'PER'),\n",
       " (5222, 5228, 'PER'),\n",
       " (5284, 5290, 'PER'),\n",
       " (5745, 5750, 'LOC'),\n",
       " (5846, 5857, 'LOC'),\n",
       " (6284, 6290, 'PER'),\n",
       " (8483, 8489, 'PER'),\n",
       " (9569, 9575, 'PER')]"
      ]
     },
     "execution_count": 7,
     "metadata": {},
     "output_type": "execute_result"
    }
   ],
   "source": [
    "parse_tagtog_json(sample)"
   ]
  },
  {
   "attachments": {},
   "cell_type": "markdown",
   "metadata": {},
   "source": [
    "## Génération de données text ↔ targets pour le jeu de données complet"
   ]
  },
  {
   "cell_type": "code",
   "execution_count": 8,
   "metadata": {},
   "outputs": [
    {
     "name": "stdout",
     "output_type": "stream",
     "text": [
      "Found 100 JSON files.\n",
      "Found 100 text files.\n"
     ]
    }
   ],
   "source": [
    "PATH_DATASET_DIR = \"/home/jchazalo/tmp/French_ELTEC_NER_Open_Dataset\"\n",
    "\n",
    "json_files = glob(os.path.join(PATH_DATASET_DIR, \"annotations/pool/*.json\"))\n",
    "print(\"Found\", len(json_files), \"JSON files.\")\n",
    "\n",
    "\n",
    "text_files = glob(os.path.join(PATH_DATASET_DIR, \"texts/*.txt\"))\n",
    "print(\"Found\", len(text_files), \"text files.\")"
   ]
  },
  {
   "attachments": {},
   "cell_type": "markdown",
   "metadata": {},
   "source": [
    "Nous allons à présent mettre les fichiers en correspondance pour faciliter l'exploitation des annotations."
   ]
  },
  {
   "cell_type": "code",
   "execution_count": 9,
   "metadata": {},
   "outputs": [],
   "source": [
    "import re"
   ]
  },
  {
   "cell_type": "code",
   "execution_count": 10,
   "metadata": {},
   "outputs": [
    {
     "data": {
      "text/plain": [
       "{'FRA01203_Feval': '/home/jchazalo/tmp/French_ELTEC_NER_Open_Dataset/texts/tr_FRA01203_Feval.txt',\n",
       " 'FRA00701_Carraud': '/home/jchazalo/tmp/French_ELTEC_NER_Open_Dataset/texts/tr_FRA00701_Carraud.txt',\n",
       " 'FRA02301_Greville': '/home/jchazalo/tmp/French_ELTEC_NER_Open_Dataset/texts/tr_FRA02301_Greville.txt',\n",
       " 'FRA01602_GautierJ': '/home/jchazalo/tmp/French_ELTEC_NER_Open_Dataset/texts/tr_FRA01602_GautierJ.txt',\n",
       " 'FRA03401_Reybaud': '/home/jchazalo/tmp/French_ELTEC_NER_Open_Dataset/texts/tr_FRA03401_Reybaud.txt',\n",
       " 'FRA07601_Leroux': '/home/jchazalo/tmp/French_ELTEC_NER_Open_Dataset/texts/tr_FRA07601_Leroux.txt',\n",
       " 'FRA02901_Noailles': '/home/jchazalo/tmp/French_ELTEC_NER_Open_Dataset/texts/tr_FRA02901_Noailles.txt',\n",
       " 'FRA02202_Gouraud': '/home/jchazalo/tmp/French_ELTEC_NER_Open_Dataset/texts/tr_FRA02202_Gouraud.txt',\n",
       " 'FRA03704_Sand': '/home/jchazalo/tmp/French_ELTEC_NER_Open_Dataset/texts/tr_FRA03704_Sand.txt',\n",
       " 'FRA00102_Adam': '/home/jchazalo/tmp/French_ELTEC_NER_Open_Dataset/texts/tr_FRA00102_Adam.txt',\n",
       " 'FRA03003_Ohnet': '/home/jchazalo/tmp/French_ELTEC_NER_Open_Dataset/texts/tr_FRA03003_Ohnet.txt',\n",
       " 'FRA00201_Audoux': '/home/jchazalo/tmp/French_ELTEC_NER_Open_Dataset/texts/tr_FRA00201_Audoux.txt',\n",
       " 'FRA06001_Rebell': '/home/jchazalo/tmp/French_ELTEC_NER_Open_Dataset/texts/tr_FRA06001_Rebell.txt',\n",
       " 'FRA05101_Eekhoud': '/home/jchazalo/tmp/French_ELTEC_NER_Open_Dataset/texts/tr_FRA05101_Eekhoud.txt',\n",
       " 'FRA03201_Blandy': '/home/jchazalo/tmp/French_ELTEC_NER_Open_Dataset/texts/tr_FRA03201_Blandy.txt',\n",
       " 'FRA05401_Kock': '/home/jchazalo/tmp/French_ELTEC_NER_Open_Dataset/texts/tr_FRA05401_Kock.txt',\n",
       " 'FRA01601_GautierJ': '/home/jchazalo/tmp/French_ELTEC_NER_Open_Dataset/texts/tr_FRA01601_GautierJ.txt',\n",
       " 'FRA00301_Aimard': '/home/jchazalo/tmp/French_ELTEC_NER_Open_Dataset/texts/tr_FRA00301_Aimard.txt',\n",
       " 'FRA00503_Balzac': '/home/jchazalo/tmp/French_ELTEC_NER_Open_Dataset/texts/tr_FRA00503_Balzac.txt',\n",
       " 'FRA05501_Lermina': '/home/jchazalo/tmp/French_ELTEC_NER_Open_Dataset/texts/tr_FRA05501_Lermina.txt',\n",
       " 'FRA00901_Daudet': '/home/jchazalo/tmp/French_ELTEC_NER_Open_Dataset/texts/tr_FRA00901_Daudet.txt',\n",
       " 'FRA04601_Bazin': '/home/jchazalo/tmp/French_ELTEC_NER_Open_Dataset/texts/tr_FRA04601_Bazin.txt',\n",
       " 'FRA07401_Leblanc': '/home/jchazalo/tmp/French_ELTEC_NER_Open_Dataset/texts/tr_FRA07401_Leblanc.txt',\n",
       " 'FRA06201_Viel-Castel': '/home/jchazalo/tmp/French_ELTEC_NER_Open_Dataset/texts/tr_FRA06201_Viel-Castel.txt',\n",
       " 'FRA04701_Bourget': '/home/jchazalo/tmp/French_ELTEC_NER_Open_Dataset/texts/tr_FRA04701_Bourget.txt',\n",
       " 'FRA02401_LeRouge': '/home/jchazalo/tmp/French_ELTEC_NER_Open_Dataset/texts/tr_FRA02401_LeRouge.txt',\n",
       " 'FRA06401_Chandeneux': '/home/jchazalo/tmp/French_ELTEC_NER_Open_Dataset/texts/tr_FRA06401_Chandeneux.txt',\n",
       " 'FRA06501_Gyp': '/home/jchazalo/tmp/French_ELTEC_NER_Open_Dataset/texts/tr_FRA06501_Gyp.txt',\n",
       " 'FRA00101_Adam': '/home/jchazalo/tmp/French_ELTEC_NER_Open_Dataset/texts/tr_FRA00101_Adam.txt',\n",
       " 'FRA02501_Loti': '/home/jchazalo/tmp/French_ELTEC_NER_Open_Dataset/texts/tr_FRA02501_Loti.txt',\n",
       " 'FRA00401_Allais': '/home/jchazalo/tmp/French_ELTEC_NER_Open_Dataset/texts/tr_FRA00401_Allais.txt',\n",
       " 'FRA07001_Mendes': '/home/jchazalo/tmp/French_ELTEC_NER_Open_Dataset/texts/tr_FRA07001_Mendes.txt',\n",
       " 'FRA01302_Flaubert': '/home/jchazalo/tmp/French_ELTEC_NER_Open_Dataset/texts/tr_FRA01302_Flaubert.txt',\n",
       " 'FRA04901_Dumas': '/home/jchazalo/tmp/French_ELTEC_NER_Open_Dataset/texts/tr_FRA04901_Dumas.txt',\n",
       " 'FRA00501_Balzac': '/home/jchazalo/tmp/French_ELTEC_NER_Open_Dataset/texts/tr_FRA00501_Balzac.txt',\n",
       " 'FRA02303_Greville': '/home/jchazalo/tmp/French_ELTEC_NER_Open_Dataset/texts/tr_FRA02303_Greville.txt',\n",
       " 'FRA07301_Valgand': '/home/jchazalo/tmp/French_ELTEC_NER_Open_Dataset/texts/tr_FRA07301_Valgand.txt',\n",
       " 'FRA03002_Ohnet': '/home/jchazalo/tmp/French_ELTEC_NER_Open_Dataset/texts/tr_FRA03002_Ohnet.txt',\n",
       " 'FRA02603_Malot': '/home/jchazalo/tmp/French_ELTEC_NER_Open_Dataset/texts/tr_FRA02603_Malot.txt',\n",
       " 'FRA00801_Dash': '/home/jchazalo/tmp/French_ELTEC_NER_Open_Dataset/texts/tr_FRA00801_Dash.txt',\n",
       " 'FRA07501_Darien': '/home/jchazalo/tmp/French_ELTEC_NER_Open_Dataset/texts/tr_FRA07501_Darien.txt',\n",
       " 'FRA03701_Sand': '/home/jchazalo/tmp/French_ELTEC_NER_Open_Dataset/texts/tr_FRA03701_Sand.txt',\n",
       " 'FRA02201_Gouraud': '/home/jchazalo/tmp/French_ELTEC_NER_Open_Dataset/texts/tr_FRA02201_Gouraud.txt',\n",
       " 'FRA06901_Vignon': '/home/jchazalo/tmp/French_ELTEC_NER_Open_Dataset/texts/tr_FRA06901_Vignon.txt',\n",
       " 'FRA03802_Stern': '/home/jchazalo/tmp/French_ELTEC_NER_Open_Dataset/texts/tr_FRA03802_Stern.txt',\n",
       " 'FRA02701_Maupassant': '/home/jchazalo/tmp/French_ELTEC_NER_Open_Dataset/texts/tr_FRA02701_Maupassant.txt',\n",
       " 'FRA06301_Montepin': '/home/jchazalo/tmp/French_ELTEC_NER_Open_Dataset/texts/tr_FRA06301_Montepin.txt',\n",
       " 'FRA00502_Balzac': '/home/jchazalo/tmp/French_ELTEC_NER_Open_Dataset/texts/tr_FRA00502_Balzac.txt',\n",
       " 'FRA04102_Erckmann': '/home/jchazalo/tmp/French_ELTEC_NER_Open_Dataset/texts/tr_FRA04102_Erckmann.txt',\n",
       " 'FRA01403_Fleuriot': '/home/jchazalo/tmp/French_ELTEC_NER_Open_Dataset/texts/tr_FRA01403_Fleuriot.txt',\n",
       " 'FRA05801_Mille': '/home/jchazalo/tmp/French_ELTEC_NER_Open_Dataset/texts/tr_FRA05801_Mille.txt',\n",
       " 'FRA01401_Fleuriot': '/home/jchazalo/tmp/French_ELTEC_NER_Open_Dataset/texts/tr_FRA01401_Fleuriot.txt',\n",
       " 'FRA04401_Barbusse': '/home/jchazalo/tmp/French_ELTEC_NER_Open_Dataset/texts/tr_FRA04401_Barbusse.txt',\n",
       " 'FRA06101_Sandeau': '/home/jchazalo/tmp/French_ELTEC_NER_Open_Dataset/texts/tr_FRA06101_Sandeau.txt',\n",
       " 'FRA05602_Lesueur': '/home/jchazalo/tmp/French_ELTEC_NER_Open_Dataset/texts/tr_FRA05602_Lesueur.txt',\n",
       " 'FRA04202_Rolland': '/home/jchazalo/tmp/French_ELTEC_NER_Open_Dataset/texts/tr_FRA04202_Rolland.txt',\n",
       " 'FRA02802_Mirbeau': '/home/jchazalo/tmp/French_ELTEC_NER_Open_Dataset/texts/tr_FRA02802_Mirbeau.txt',\n",
       " 'FRA01303_Flaubert': '/home/jchazalo/tmp/French_ELTEC_NER_Open_Dataset/texts/tr_FRA01303_Flaubert.txt',\n",
       " 'FRA04301_Achard': '/home/jchazalo/tmp/French_ELTEC_NER_Open_Dataset/texts/tr_FRA04301_Achard.txt',\n",
       " 'FRA04801_Corday': '/home/jchazalo/tmp/French_ELTEC_NER_Open_Dataset/texts/tr_FRA04801_Corday.txt',\n",
       " 'FRA03601_Proust': '/home/jchazalo/tmp/French_ELTEC_NER_Open_Dataset/texts/tr_FRA03601_Proust.txt',\n",
       " 'FRA01801_Gay': '/home/jchazalo/tmp/French_ELTEC_NER_Open_Dataset/texts/tr_FRA01801_Gay.txt',\n",
       " 'FRA04501_Barres': '/home/jchazalo/tmp/French_ELTEC_NER_Open_Dataset/texts/tr_FRA04501_Barres.txt',\n",
       " 'FRA01202_Feval': '/home/jchazalo/tmp/French_ELTEC_NER_Open_Dataset/texts/tr_FRA01202_Feval.txt',\n",
       " 'FRA01902_Gaboriau': '/home/jchazalo/tmp/French_ELTEC_NER_Open_Dataset/texts/tr_FRA01902_Gaboriau.txt',\n",
       " 'FRA05702_Maquet': '/home/jchazalo/tmp/French_ELTEC_NER_Open_Dataset/texts/tr_FRA05702_Maquet.txt',\n",
       " 'FRA03001_Ohnet': '/home/jchazalo/tmp/French_ELTEC_NER_Open_Dataset/texts/tr_FRA03001_Ohnet.txt',\n",
       " 'FRA01201_Feval': '/home/jchazalo/tmp/French_ELTEC_NER_Open_Dataset/texts/tr_FRA01201_Feval.txt',\n",
       " 'FRA02601_Malot': '/home/jchazalo/tmp/French_ELTEC_NER_Open_Dataset/texts/tr_FRA02601_Malot.txt',\n",
       " 'FRA07201_Montagne': '/home/jchazalo/tmp/French_ELTEC_NER_Open_Dataset/texts/tr_FRA07201_Montagne.txt',\n",
       " 'FRA05201_Feuillet': '/home/jchazalo/tmp/French_ELTEC_NER_Open_Dataset/texts/tr_FRA05201_Feuillet.txt',\n",
       " 'FRA07101_Blondel': '/home/jchazalo/tmp/French_ELTEC_NER_Open_Dataset/texts/tr_FRA07101_Blondel.txt',\n",
       " 'FRA00602_Boisgobey': '/home/jchazalo/tmp/French_ELTEC_NER_Open_Dataset/texts/tr_FRA00602_Boisgobey.txt',\n",
       " 'FRA01603_GautierJ': '/home/jchazalo/tmp/French_ELTEC_NER_Open_Dataset/texts/tr_FRA01603_GautierJ.txt',\n",
       " 'FRA04002_Verne': '/home/jchazalo/tmp/French_ELTEC_NER_Open_Dataset/texts/tr_FRA04002_Verne.txt',\n",
       " 'FRA00302_Aimard': '/home/jchazalo/tmp/French_ELTEC_NER_Open_Dataset/texts/tr_FRA00302_Aimard.txt',\n",
       " 'FRA06601_Peladan': '/home/jchazalo/tmp/French_ELTEC_NER_Open_Dataset/texts/tr_FRA06601_Peladan.txt',\n",
       " 'FRA05301_Galopin': '/home/jchazalo/tmp/French_ELTEC_NER_Open_Dataset/texts/tr_FRA05301_Galopin.txt',\n",
       " 'FRA06701_Uchard': '/home/jchazalo/tmp/French_ELTEC_NER_Open_Dataset/texts/tr_FRA06701_Uchard.txt',\n",
       " 'FRA02101_Girardin': '/home/jchazalo/tmp/French_ELTEC_NER_Open_Dataset/texts/tr_FRA02101_Girardin.txt',\n",
       " 'FRA02001_Gilbert': '/home/jchazalo/tmp/French_ELTEC_NER_Open_Dataset/texts/tr_FRA02001_Gilbert.txt',\n",
       " 'FRA02302_Greville': '/home/jchazalo/tmp/French_ELTEC_NER_Open_Dataset/texts/tr_FRA02302_Greville.txt',\n",
       " 'FRA01002_DelarueMardrus': '/home/jchazalo/tmp/French_ELTEC_NER_Open_Dataset/texts/tr_FRA01002_DelarueMardrus.txt',\n",
       " 'FRA03302_Rattazzi': '/home/jchazalo/tmp/French_ELTEC_NER_Open_Dataset/texts/tr_FRA03302_Rattazzi.txt',\n",
       " 'FRA03903_Stolz': '/home/jchazalo/tmp/French_ELTEC_NER_Open_Dataset/texts/tr_FRA03903_Stolz.txt',\n",
       " 'FRA01101_Dombre': '/home/jchazalo/tmp/French_ELTEC_NER_Open_Dataset/texts/tr_FRA01101_Dombre.txt',\n",
       " 'FRA01501_France': '/home/jchazalo/tmp/French_ELTEC_NER_Open_Dataset/texts/tr_FRA01501_France.txt',\n",
       " 'FRA01102_Dombre': '/home/jchazalo/tmp/French_ELTEC_NER_Open_Dataset/texts/tr_FRA01102_Dombre.txt',\n",
       " 'FRA02203_Gouraud': '/home/jchazalo/tmp/French_ELTEC_NER_Open_Dataset/texts/tr_FRA02203_Gouraud.txt',\n",
       " 'FRA03101_Ponson': '/home/jchazalo/tmp/French_ELTEC_NER_Open_Dataset/texts/tr_FRA03101_Ponson.txt',\n",
       " 'FRA01301_Flaubert': '/home/jchazalo/tmp/French_ELTEC_NER_Open_Dataset/texts/tr_FRA01301_Flaubert.txt',\n",
       " 'FRA03702_Sand': '/home/jchazalo/tmp/French_ELTEC_NER_Open_Dataset/texts/tr_FRA03702_Sand.txt',\n",
       " 'FRA06801_Vaillant': '/home/jchazalo/tmp/French_ELTEC_NER_Open_Dataset/texts/tr_FRA06801_Vaillant.txt',\n",
       " 'FRA02602_Malot': '/home/jchazalo/tmp/French_ELTEC_NER_Open_Dataset/texts/tr_FRA02602_Malot.txt',\n",
       " 'FRA01402_Fleuriot': '/home/jchazalo/tmp/French_ELTEC_NER_Open_Dataset/texts/tr_FRA01402_Fleuriot.txt',\n",
       " 'FRA04001_Verne': '/home/jchazalo/tmp/French_ELTEC_NER_Open_Dataset/texts/tr_FRA04001_Verne.txt',\n",
       " 'FRA05901_Moselly': '/home/jchazalo/tmp/French_ELTEC_NER_Open_Dataset/texts/tr_FRA05901_Moselly.txt',\n",
       " 'FRA00601_Boisgobey': '/home/jchazalo/tmp/French_ELTEC_NER_Open_Dataset/texts/tr_FRA00601_Boisgobey.txt',\n",
       " 'FRA02702_Maupassant': '/home/jchazalo/tmp/French_ELTEC_NER_Open_Dataset/texts/tr_FRA02702_Maupassant.txt',\n",
       " 'FRA01701_GautierT': '/home/jchazalo/tmp/French_ELTEC_NER_Open_Dataset/texts/tr_FRA01701_GautierT.txt'}"
      ]
     },
     "execution_count": 10,
     "metadata": {},
     "output_type": "execute_result"
    }
   ],
   "source": [
    "# text filename format sample: \"tr_FRA00502_Balzac.txt\"\n",
    "# base identifier (like \"FRA00501_Balzac\") to full filename\n",
    "id_to_text_filename: dict[str, str] = {\n",
    "    re.match(r\".*/tr_(FRA[^/]*)\\.txt\", filename).group(1): filename for filename in text_files\n",
    "}\n",
    "id_to_text_filename"
   ]
  },
  {
   "cell_type": "code",
   "execution_count": 11,
   "metadata": {},
   "outputs": [
    {
     "data": {
      "text/plain": [
       "{'FRA01302_Flaubert': '/home/jchazalo/tmp/French_ELTEC_NER_Open_Dataset/annotations/pool/a_cdO7G8FaGY5emxh2eoIs4VTvWq-FRA01302_Flaubert.txt.ann.json',\n",
       " 'FRA02701_Maupassant': '/home/jchazalo/tmp/French_ELTEC_NER_Open_Dataset/annotations/pool/a7K9yh.2wyxHG509T8Fb8wCuufFy-FRA02701_Maupassant.txt.ann.json',\n",
       " 'FRA01101_Dombre': '/home/jchazalo/tmp/French_ELTEC_NER_Open_Dataset/annotations/pool/aW9XeObpMHpr3FpcV0GTZMD1ntlK-FRA01101_Dombre.txt.ann.json',\n",
       " 'FRA00501_Balzac': '/home/jchazalo/tmp/French_ELTEC_NER_Open_Dataset/annotations/pool/aHqzKMns1U.VfQU61Eidq6joaKY8-FRA00501_Balzac.txt.ann.json',\n",
       " 'FRA00401_Allais': '/home/jchazalo/tmp/French_ELTEC_NER_Open_Dataset/annotations/pool/aCQVyShyQUhBawtxZ9Eq7whm687a-FRA00401_Allais.txt.ann.json',\n",
       " 'FRA01603_GautierJ': '/home/jchazalo/tmp/French_ELTEC_NER_Open_Dataset/annotations/pool/a9_JuHi9In_5VsmgTMcy5iOTqgVe-FRA01603_GautierJ.txt.ann.json',\n",
       " 'FRA04002_Verne': '/home/jchazalo/tmp/French_ELTEC_NER_Open_Dataset/annotations/pool/abRcy3SO2ZZgE3XqxWkJ2goP1D30-FRA04002_Verne.txt.ann.json',\n",
       " 'FRA01403_Fleuriot': '/home/jchazalo/tmp/French_ELTEC_NER_Open_Dataset/annotations/pool/aWKzYsiJtoMDIhWYTDBWtOaMQUDG-FRA01403_Fleuriot.txt.ann.json',\n",
       " 'FRA02201_Gouraud': '/home/jchazalo/tmp/French_ELTEC_NER_Open_Dataset/annotations/pool/au8d_r3CRvJGVeD3BSAhJnkTySTi-FRA02201_Gouraud.txt.ann.json',\n",
       " 'FRA01801_Gay': '/home/jchazalo/tmp/French_ELTEC_NER_Open_Dataset/annotations/pool/aMZR68No2EuMXD9NXGsQEtfYuquS-FRA01801_Gay.txt.ann.json',\n",
       " 'FRA01201_Feval': '/home/jchazalo/tmp/French_ELTEC_NER_Open_Dataset/annotations/pool/a9FSAunkcRYSVp9TeHFuqJ5cVxIS-FRA01201_Feval.txt.ann.json',\n",
       " 'FRA07401_Leblanc': '/home/jchazalo/tmp/French_ELTEC_NER_Open_Dataset/annotations/pool/aeb6idLObyWMnd5MtaJys1554048-FRA07401_Leblanc.txt.ann.json',\n",
       " 'FRA02602_Malot': '/home/jchazalo/tmp/French_ELTEC_NER_Open_Dataset/annotations/pool/af67Kaz1_jylPOmtkzzx3n1glxgu-FRA02602_Malot.txt.ann.json',\n",
       " 'FRA03003_Ohnet': '/home/jchazalo/tmp/French_ELTEC_NER_Open_Dataset/annotations/pool/aRKaO1HTqsWZrkEblhrEyMnJaTke-FRA03003_Ohnet.txt.ann.json',\n",
       " 'FRA02901_Noailles': '/home/jchazalo/tmp/French_ELTEC_NER_Open_Dataset/annotations/pool/ajipOWiJD9GPyfbX6PqrIe8zjSaq-FRA02901_Noailles.txt.ann.json',\n",
       " 'FRA02203_Gouraud': '/home/jchazalo/tmp/French_ELTEC_NER_Open_Dataset/annotations/pool/a7p9e.No7R2GKqDgEh5gBOdCRhne-FRA02203_Gouraud.txt.ann.json',\n",
       " 'FRA06801_Vaillant': '/home/jchazalo/tmp/French_ELTEC_NER_Open_Dataset/annotations/pool/a7x9ILGFUg81t609xJAbRizBuA9K-FRA06801_Vaillant.txt.ann.json',\n",
       " 'FRA03001_Ohnet': '/home/jchazalo/tmp/French_ELTEC_NER_Open_Dataset/annotations/pool/axs3Hj9KXAuLCtKIRi416p2YrmmC-FRA03001_Ohnet.txt.ann.json',\n",
       " 'FRA02303_Greville': '/home/jchazalo/tmp/French_ELTEC_NER_Open_Dataset/annotations/pool/abAe3jd6lQovJLSTvdifwTjw14iK-FRA02303_Greville.txt.ann.json',\n",
       " 'FRA04401_Barbusse': '/home/jchazalo/tmp/French_ELTEC_NER_Open_Dataset/annotations/pool/aWhjJ.i8J0rR69twVQsYk70I8umq-FRA04401_Barbusse.txt.ann.json',\n",
       " 'FRA01301_Flaubert': '/home/jchazalo/tmp/French_ELTEC_NER_Open_Dataset/annotations/pool/aDXiGUcFvQ5eGRTuXHgEa3Jj7zQu-FRA01301_Flaubert.txt.ann.json',\n",
       " 'FRA01402_Fleuriot': '/home/jchazalo/tmp/French_ELTEC_NER_Open_Dataset/annotations/pool/aQMcTkc_8bmGK97Mddjf6.wBMR74-FRA01402_Fleuriot.txt.ann.json',\n",
       " 'FRA06901_Vignon': '/home/jchazalo/tmp/French_ELTEC_NER_Open_Dataset/annotations/pool/aatgMri5vGFFR91ztyo2Vpp4RLJ4-FRA06901_Vignon.txt.ann.json',\n",
       " 'FRA03101_Ponson': '/home/jchazalo/tmp/French_ELTEC_NER_Open_Dataset/annotations/pool/a.GwmWhiyt0OKvDrD6b._1MxEt2K-FRA03101_Ponson.txt.ann.json',\n",
       " 'FRA04001_Verne': '/home/jchazalo/tmp/French_ELTEC_NER_Open_Dataset/annotations/pool/a49_fmd9IHJ2wC1gsQKizy8CDYZi-FRA04001_Verne.txt.ann.json',\n",
       " 'FRA00301_Aimard': '/home/jchazalo/tmp/French_ELTEC_NER_Open_Dataset/annotations/pool/aQpnuNsLE_swa6vu75f8axlDHpaW-FRA00301_Aimard.txt.ann.json',\n",
       " 'FRA05101_Eekhoud': '/home/jchazalo/tmp/French_ELTEC_NER_Open_Dataset/annotations/pool/auKBnMUJlJYT0kIXYs26Mc9NvDVi-FRA05101_Eekhoud.txt.ann.json',\n",
       " 'FRA02202_Gouraud': '/home/jchazalo/tmp/French_ELTEC_NER_Open_Dataset/annotations/pool/a71F.BlguFo3ou6nE0MparHkmd_C-FRA02202_Gouraud.txt.ann.json',\n",
       " 'FRA07601_Leroux': '/home/jchazalo/tmp/French_ELTEC_NER_Open_Dataset/annotations/pool/apRNjaOFY5VhqHbJ1QCQ6BWo7QAG-FRA07601_Leroux.txt.ann.json',\n",
       " 'FRA05801_Mille': '/home/jchazalo/tmp/French_ELTEC_NER_Open_Dataset/annotations/pool/a0z.I.nFSfzECA9d.L_J7DCWOZXm-FRA05801_Mille.txt.ann.json',\n",
       " 'FRA00101_Adam': '/home/jchazalo/tmp/French_ELTEC_NER_Open_Dataset/annotations/pool/a6R7A7Zoq2ls3KXj7rL3NT_W4V6S-FRA00101_Adam.txt.ann.json',\n",
       " 'FRA02802_Mirbeau': '/home/jchazalo/tmp/French_ELTEC_NER_Open_Dataset/annotations/pool/a.0MBIm18ieWUH8iyy4d4RIFZKSu-FRA02802_Mirbeau.txt.ann.json',\n",
       " 'FRA05901_Moselly': '/home/jchazalo/tmp/French_ELTEC_NER_Open_Dataset/annotations/pool/aVsLobdZGQhwZQVfrVYk0W49xpqu-FRA05901_Moselly.txt.ann.json',\n",
       " 'FRA06401_Chandeneux': '/home/jchazalo/tmp/French_ELTEC_NER_Open_Dataset/annotations/pool/ayHhyo58Td1JOQQPB6UAy67azg_O-FRA06401_Chandeneux.txt.ann.json',\n",
       " 'FRA01102_Dombre': '/home/jchazalo/tmp/French_ELTEC_NER_Open_Dataset/annotations/pool/ae7pSxEUY74LSaal.Kro451VKTsq-FRA01102_Dombre.txt.ann.json',\n",
       " 'FRA01501_France': '/home/jchazalo/tmp/French_ELTEC_NER_Open_Dataset/annotations/pool/au1r7i2CdAMXL_66FKdlUjAeYR_S-FRA01501_France.txt.ann.json',\n",
       " 'FRA05501_Lermina': '/home/jchazalo/tmp/French_ELTEC_NER_Open_Dataset/annotations/pool/aEHUPuyJPVmulQZkJ8BakruAiyDW-FRA05501_Lermina.txt.ann.json',\n",
       " 'FRA05702_Maquet': '/home/jchazalo/tmp/French_ELTEC_NER_Open_Dataset/annotations/pool/a7KC5U74jME2kMN7UrkwepzFM77S-FRA05702_Maquet.txt.ann.json',\n",
       " 'FRA02302_Greville': '/home/jchazalo/tmp/French_ELTEC_NER_Open_Dataset/annotations/pool/a7hmKErzaA84WwEI1CA2P3X.8vOW-FRA02302_Greville.txt.ann.json',\n",
       " 'FRA02301_Greville': '/home/jchazalo/tmp/French_ELTEC_NER_Open_Dataset/annotations/pool/abBmPweZyAxzbqSOGsC_bzk_WIuG-FRA02301_Greville.txt.ann.json',\n",
       " 'FRA02501_Loti': '/home/jchazalo/tmp/French_ELTEC_NER_Open_Dataset/annotations/pool/auZmigexkcZAtLsTQcKBSTBTmaOi-FRA02501_Loti.txt.ann.json',\n",
       " 'FRA01202_Feval': '/home/jchazalo/tmp/French_ELTEC_NER_Open_Dataset/annotations/pool/aIReqXLmfG2XNR9EgVhsTm7g9Nwq-FRA01202_Feval.txt.ann.json',\n",
       " 'FRA04202_Rolland': '/home/jchazalo/tmp/French_ELTEC_NER_Open_Dataset/annotations/pool/aRsXx.vht_It2aJeIZUc7MyU8Pdu-FRA04202_Rolland.txt.ann.json',\n",
       " 'FRA00201_Audoux': '/home/jchazalo/tmp/French_ELTEC_NER_Open_Dataset/annotations/pool/arpPvk5rH.GEmSvcIuqvNk894DvC-FRA00201_Audoux.txt.ann.json',\n",
       " 'FRA04801_Corday': '/home/jchazalo/tmp/French_ELTEC_NER_Open_Dataset/annotations/pool/aAS0WZEtuwL67MLmDsJ3kLDhe33W-FRA04801_Corday.txt.ann.json',\n",
       " 'FRA02603_Malot': '/home/jchazalo/tmp/French_ELTEC_NER_Open_Dataset/annotations/pool/ajZkDlX3ay1ok7gRkblZSAtH9zqu-FRA02603_Malot.txt.ann.json',\n",
       " 'FRA03802_Stern': '/home/jchazalo/tmp/French_ELTEC_NER_Open_Dataset/annotations/pool/aeA9_2pkQRJejockZFU7lsVocD.m-FRA03802_Stern.txt.ann.json',\n",
       " 'FRA01203_Feval': '/home/jchazalo/tmp/French_ELTEC_NER_Open_Dataset/annotations/pool/amC03G616xHD2JuEngguPRbuYrUq-FRA01203_Feval.txt.ann.json',\n",
       " 'FRA00503_Balzac': '/home/jchazalo/tmp/French_ELTEC_NER_Open_Dataset/annotations/pool/aIxhb2vKFLTTMf2ar6HKtpfoykbu-FRA00503_Balzac.txt.ann.json',\n",
       " 'FRA07101_Blondel': '/home/jchazalo/tmp/French_ELTEC_NER_Open_Dataset/annotations/pool/azSpIJFtoHBLzVpZM3UCSIkAoQwC-FRA07101_Blondel.txt.ann.json',\n",
       " 'FRA03903_Stolz': '/home/jchazalo/tmp/French_ELTEC_NER_Open_Dataset/annotations/pool/alkA23MadVN2ldDkHGZVuuIZTrJ0-FRA03903_Stolz.txt.ann.json',\n",
       " 'FRA03002_Ohnet': '/home/jchazalo/tmp/French_ELTEC_NER_Open_Dataset/annotations/pool/aszTBqJICElzYQZ2KOuA80nSuzzO-FRA03002_Ohnet.txt.ann.json',\n",
       " 'FRA00602_Boisgobey': '/home/jchazalo/tmp/French_ELTEC_NER_Open_Dataset/annotations/pool/a8ifGWtH6jLsTLFEhsHz_ENJP11y-FRA00602_Boisgobey.txt.ann.json',\n",
       " 'FRA04102_Erckmann': '/home/jchazalo/tmp/French_ELTEC_NER_Open_Dataset/annotations/pool/a.n8hDHVP39RVA3a5sKkRffFXIUO-FRA04102_Erckmann.txt.ann.json',\n",
       " 'FRA01902_Gaboriau': '/home/jchazalo/tmp/French_ELTEC_NER_Open_Dataset/annotations/pool/aOjm9dSki.Gyp1bEbyCKUXvR3Z8O-FRA01902_Gaboriau.txt.ann.json',\n",
       " 'FRA06301_Montepin': '/home/jchazalo/tmp/French_ELTEC_NER_Open_Dataset/annotations/pool/aUUjL2CF6wN9In1aTr_rEIT5J23e-FRA06301_Montepin.txt.ann.json',\n",
       " 'FRA02601_Malot': '/home/jchazalo/tmp/French_ELTEC_NER_Open_Dataset/annotations/pool/aTZvAK.SNhyJlS.YZjENrPlhU8wC-FRA02601_Malot.txt.ann.json',\n",
       " 'FRA03601_Proust': '/home/jchazalo/tmp/French_ELTEC_NER_Open_Dataset/annotations/pool/a5af6lkwwCShnfYUFUypljWGfaOK-FRA03601_Proust.txt.ann.json',\n",
       " 'FRA03702_Sand': '/home/jchazalo/tmp/French_ELTEC_NER_Open_Dataset/annotations/pool/a5KaOu4YsuzLiiz0ROmtJI7AnhtG-FRA03702_Sand.txt.ann.json',\n",
       " 'FRA05401_Kock': '/home/jchazalo/tmp/French_ELTEC_NER_Open_Dataset/annotations/pool/aS22wZszAN02LNh6VcXvYm.zrhiq-FRA05401_Kock.txt.ann.json',\n",
       " 'FRA00701_Carraud': '/home/jchazalo/tmp/French_ELTEC_NER_Open_Dataset/annotations/pool/afvwbyoO7Lc3pbviRJ4voJDp9CFy-FRA00701_Carraud.txt.ann.json',\n",
       " 'FRA04601_Bazin': '/home/jchazalo/tmp/French_ELTEC_NER_Open_Dataset/annotations/pool/a34P3V2Cg118Ym0ahNVjTy4.Ex5O-FRA04601_Bazin.txt.ann.json',\n",
       " 'FRA07201_Montagne': '/home/jchazalo/tmp/French_ELTEC_NER_Open_Dataset/annotations/pool/a3MNF7TUrtea7XfRiJXn6Wk0b858-FRA07201_Montagne.txt.ann.json',\n",
       " 'FRA02401_LeRouge': '/home/jchazalo/tmp/French_ELTEC_NER_Open_Dataset/annotations/pool/aKkZSKV.hejO9ZW8qYAWkHXDvJDS-FRA02401_LeRouge.txt.ann.json',\n",
       " 'FRA03401_Reybaud': '/home/jchazalo/tmp/French_ELTEC_NER_Open_Dataset/annotations/pool/am4zRbLRf8dk_Aq0ezymar2pUN4C-FRA03401_Reybaud.txt.ann.json',\n",
       " 'FRA06201_Viel_Castel': '/home/jchazalo/tmp/French_ELTEC_NER_Open_Dataset/annotations/pool/aEf9W6iinoZdPr42zuEOPWW0TMPS-FRA06201_Viel_Castel.txt.ann.json',\n",
       " 'FRA05301_Galopin': '/home/jchazalo/tmp/French_ELTEC_NER_Open_Dataset/annotations/pool/aG49xz4Q9_gdA4MV1ZHTDJY7iTxu-FRA05301_Galopin.txt.ann.json',\n",
       " 'FRA00302_Aimard': '/home/jchazalo/tmp/French_ELTEC_NER_Open_Dataset/annotations/pool/apApNAN_NnyMmYsg0izGu5fIi02q-FRA00302_Aimard.txt.ann.json',\n",
       " 'FRA02001_Gilbert': '/home/jchazalo/tmp/French_ELTEC_NER_Open_Dataset/annotations/pool/af0u6DgsEdyVpxcbndj0QXkD5f8e-FRA02001_Gilbert.txt.ann.json',\n",
       " 'FRA00601_Boisgobey': '/home/jchazalo/tmp/French_ELTEC_NER_Open_Dataset/annotations/pool/aCBPDbOM5zaCJ.9M5n6m8l9RxWMC-FRA00601_Boisgobey.txt.ann.json',\n",
       " 'FRA01601_GautierJ': '/home/jchazalo/tmp/French_ELTEC_NER_Open_Dataset/annotations/pool/aH5qNy4.zUDTPvAx3QCcB2tmag.m-FRA01601_GautierJ.txt.ann.json',\n",
       " 'FRA00801_Dash': '/home/jchazalo/tmp/French_ELTEC_NER_Open_Dataset/annotations/pool/aaUXY5cOU5zVcD4h6kxELupRWNKC-FRA00801_Dash.txt.ann.json',\n",
       " 'FRA04501_Barres': '/home/jchazalo/tmp/French_ELTEC_NER_Open_Dataset/annotations/pool/ag93CAXG3E9n6DWgCGjk1_8VctWG-FRA04501_Barres.txt.ann.json',\n",
       " 'FRA03701_Sand': '/home/jchazalo/tmp/French_ELTEC_NER_Open_Dataset/annotations/pool/aDNsOWosoMcvWAOS7unI4MFI5va4-FRA03701_Sand.txt.ann.json',\n",
       " 'FRA00502_Balzac': '/home/jchazalo/tmp/French_ELTEC_NER_Open_Dataset/annotations/pool/aYfUdIZ4Enyib2yScShLWIV17L28-FRA00502_Balzac.txt.ann.json',\n",
       " 'FRA02101_Girardin': '/home/jchazalo/tmp/French_ELTEC_NER_Open_Dataset/annotations/pool/aEh3dvy7r5ksqjMb7fjWUtll7Zg8-FRA02101_Girardin.txt.ann.json',\n",
       " 'FRA01701_GautierT': '/home/jchazalo/tmp/French_ELTEC_NER_Open_Dataset/annotations/pool/apJyPBI2e_FpFsK_ZetwJmImElc8-FRA01701_GautierT.txt.ann.json',\n",
       " 'FRA00901_Daudet': '/home/jchazalo/tmp/French_ELTEC_NER_Open_Dataset/annotations/pool/a.JUEoYT5Jt44vnpvLAg8WSk0iVm-FRA00901_Daudet.txt.ann.json',\n",
       " 'FRA06101_Sandeau': '/home/jchazalo/tmp/French_ELTEC_NER_Open_Dataset/annotations/pool/aWPS3B83IFWYCcPBZBSr8630HPUm-FRA06101_Sandeau.txt.ann.json',\n",
       " 'FRA07001_Mendes': '/home/jchazalo/tmp/French_ELTEC_NER_Open_Dataset/annotations/pool/a_C54L4cLST4beyZLSbBM1qUuygK-FRA07001_Mendes.txt.ann.json',\n",
       " 'FRA05201_Feuillet': '/home/jchazalo/tmp/French_ELTEC_NER_Open_Dataset/annotations/pool/aAAH8jUAa3ntArp8vRpY5ugdwvLS-FRA05201_Feuillet.txt.ann.json',\n",
       " 'FRA03201_Blandy': '/home/jchazalo/tmp/French_ELTEC_NER_Open_Dataset/annotations/pool/aNCbIv5xgBC.YcGZOQCyOAqK2poS-FRA03201_Blandy.txt.ann.json',\n",
       " 'FRA01602_GautierJ': '/home/jchazalo/tmp/French_ELTEC_NER_Open_Dataset/annotations/pool/a5.iqH.1H1PMZS_S9ADOeQldE17q-FRA01602_GautierJ.txt.ann.json',\n",
       " 'FRA01401_Fleuriot': '/home/jchazalo/tmp/French_ELTEC_NER_Open_Dataset/annotations/pool/a9P3XY5QqtvJFE.mQfM9M23M4M4m-FRA01401_Fleuriot.txt.ann.json',\n",
       " 'FRA04301_Achard': '/home/jchazalo/tmp/French_ELTEC_NER_Open_Dataset/annotations/pool/afD.eCL61SdDPWRjTudoAM2jk9DS-FRA04301_Achard.txt.ann.json',\n",
       " 'FRA00102_Adam': '/home/jchazalo/tmp/French_ELTEC_NER_Open_Dataset/annotations/pool/akYsbhpc1oJq3Dehn4EHwAvA8AtO-FRA00102_Adam.txt.ann.json',\n",
       " 'FRA03704_Sand': '/home/jchazalo/tmp/French_ELTEC_NER_Open_Dataset/annotations/pool/ais.zEAqAoTv6LLSHmdQZZhpotOy-FRA03704_Sand.txt.ann.json',\n",
       " 'FRA07301_Valgand': '/home/jchazalo/tmp/French_ELTEC_NER_Open_Dataset/annotations/pool/aradq6esreGAcnK9UnA4GpsvPaDG-FRA07301_Valgand.txt.ann.json',\n",
       " 'FRA06501_Gyp': '/home/jchazalo/tmp/French_ELTEC_NER_Open_Dataset/annotations/pool/aap1i.sUcbMOHzBFrWagaR3v9YhK-FRA06501_Gyp.txt.ann.json',\n",
       " 'FRA03302_Rattazzi': '/home/jchazalo/tmp/French_ELTEC_NER_Open_Dataset/annotations/pool/aV6f6cXGmcgx5FnxTWk5NIZBGHce-FRA03302_Rattazzi.txt.ann.json',\n",
       " 'FRA06001_Rebell': '/home/jchazalo/tmp/French_ELTEC_NER_Open_Dataset/annotations/pool/aaNd0P7.1oMqW5ygGCMZqhCCzXZe-FRA06001_Rebell.txt.ann.json',\n",
       " 'FRA06701_Uchard': '/home/jchazalo/tmp/French_ELTEC_NER_Open_Dataset/annotations/pool/aEO_8KhvsTLAWv2QqX4SZ0IvY7hm-FRA06701_Uchard.txt.ann.json',\n",
       " 'FRA02702_Maupassant': '/home/jchazalo/tmp/French_ELTEC_NER_Open_Dataset/annotations/pool/afXwgQxPdGPe1nuqY7U97zHX_0YO-FRA02702_Maupassant.txt.ann.json',\n",
       " 'FRA05602_Lesueur': '/home/jchazalo/tmp/French_ELTEC_NER_Open_Dataset/annotations/pool/aOZ2nsgBpU4w83XtJzB_t5XIPaMK-FRA05602_Lesueur.txt.ann.json',\n",
       " 'FRA01002_DelarueMardrus': '/home/jchazalo/tmp/French_ELTEC_NER_Open_Dataset/annotations/pool/az2CA8KJWOb.PZ49ZQoBqRmF3SLO-FRA01002_DelarueMardrus.txt.ann.json',\n",
       " 'FRA04701_Bourget': '/home/jchazalo/tmp/French_ELTEC_NER_Open_Dataset/annotations/pool/aJQTThcaB8.Acw1DFtECxCK5vzt8-FRA04701_Bourget.txt.ann.json',\n",
       " 'FRA01303_Flaubert': '/home/jchazalo/tmp/French_ELTEC_NER_Open_Dataset/annotations/pool/aRkvpMC35BRiZLXyqejK7zHtvVTC-FRA01303_Flaubert.txt.ann.json',\n",
       " 'FRA04901_Dumas': '/home/jchazalo/tmp/French_ELTEC_NER_Open_Dataset/annotations/pool/a92twUwlsYoRjJ8euN0AMEhWGNQW-FRA04901_Dumas.txt.ann.json',\n",
       " 'FRA06601_Peladan': '/home/jchazalo/tmp/French_ELTEC_NER_Open_Dataset/annotations/pool/aGi__KH0QNZ1ANFO76o7qB8OvMXy-FRA06601_Peladan.txt.ann.json',\n",
       " 'FRA07501_Darien': '/home/jchazalo/tmp/French_ELTEC_NER_Open_Dataset/annotations/pool/aTq8HnN_Pw58oRJ1gClDvWtU8mqG-FRA07501_Darien.txt.ann.json'}"
      ]
     },
     "execution_count": 11,
     "metadata": {},
     "output_type": "execute_result"
    }
   ],
   "source": [
    "# JSON filename format sample: \"aHqzKMns1U.VfQU61Eidq6joaKY8-FRA00501_Balzac.txt.ann.json\"\n",
    "# base identifier (like \"FRA00501_Balzac\") to full filename\n",
    "id_to_json_filename: dict[str, str] = {\n",
    "    re.match(r\".*/[^/]*-(FRA[^/]*)\\.txt\\.ann\\.json\", filename).group(1): filename for filename in json_files\n",
    "}\n",
    "id_to_json_filename"
   ]
  },
  {
   "cell_type": "code",
   "execution_count": 12,
   "metadata": {},
   "outputs": [],
   "source": [
    "# Fix inconsistent naming\n",
    "id_to_json_filename[\"FRA06201_Viel-Castel\"] = id_to_json_filename[\"FRA06201_Viel_Castel\"]\n",
    "del id_to_json_filename[\"FRA06201_Viel_Castel\"]"
   ]
  },
  {
   "cell_type": "code",
   "execution_count": 13,
   "metadata": {},
   "outputs": [
    {
     "data": {
      "text/plain": [
       "100"
      ]
     },
     "execution_count": 13,
     "metadata": {},
     "output_type": "execute_result"
    }
   ],
   "source": [
    "# Merge everything\n",
    "id_to_text_and_json = {\n",
    "    k: (v, id_to_json_filename[k]) for (k,v) in id_to_text_filename.items()\n",
    "}\n",
    "len(id_to_text_and_json)"
   ]
  },
  {
   "cell_type": "code",
   "execution_count": 14,
   "metadata": {},
   "outputs": [
    {
     "data": {
      "text/plain": [
       "[('FRA01203_Feval',\n",
       "  ('/home/jchazalo/tmp/French_ELTEC_NER_Open_Dataset/texts/tr_FRA01203_Feval.txt',\n",
       "   '/home/jchazalo/tmp/French_ELTEC_NER_Open_Dataset/annotations/pool/amC03G616xHD2JuEngguPRbuYrUq-FRA01203_Feval.txt.ann.json')),\n",
       " ('FRA00701_Carraud',\n",
       "  ('/home/jchazalo/tmp/French_ELTEC_NER_Open_Dataset/texts/tr_FRA00701_Carraud.txt',\n",
       "   '/home/jchazalo/tmp/French_ELTEC_NER_Open_Dataset/annotations/pool/afvwbyoO7Lc3pbviRJ4voJDp9CFy-FRA00701_Carraud.txt.ann.json')),\n",
       " ('FRA02301_Greville',\n",
       "  ('/home/jchazalo/tmp/French_ELTEC_NER_Open_Dataset/texts/tr_FRA02301_Greville.txt',\n",
       "   '/home/jchazalo/tmp/French_ELTEC_NER_Open_Dataset/annotations/pool/abBmPweZyAxzbqSOGsC_bzk_WIuG-FRA02301_Greville.txt.ann.json'))]"
      ]
     },
     "execution_count": 14,
     "metadata": {},
     "output_type": "execute_result"
    }
   ],
   "source": [
    "list(id_to_text_and_json.items())[:3]"
   ]
  },
  {
   "attachments": {},
   "cell_type": "markdown",
   "metadata": {},
   "source": [
    "On fait un export rapide et moche de toute le contenu, et on fera un README propre pour ce dérivé du jeu de donnée original.\n",
    "\n",
    "Il faudra publier ce dérivé en [CC BY-SA 4.0](https://creativecommons.org/licenses/by-sa/4.0/) conformément à la licence du [travail original](https://dspace-clarin-it.ilc.cnr.it/repository/xmlui/handle/20.500.11752/OPEN-986)."
   ]
  },
  {
   "cell_type": "code",
   "execution_count": 15,
   "metadata": {},
   "outputs": [],
   "source": [
    "def read_text_file(filename: str) -> str:\n",
    "    with open(filename, encoding=\"utf8\") as in_file:\n",
    "        return \"\".join(in_file.readlines())"
   ]
  },
  {
   "cell_type": "code",
   "execution_count": 16,
   "metadata": {},
   "outputs": [
    {
     "data": {
      "text/plain": [
       "100"
      ]
     },
     "execution_count": 16,
     "metadata": {},
     "output_type": "execute_result"
    }
   ],
   "source": [
    "all_data: dict[str, tuple[str, list[tuple[int, int, str]]]] = {}  # id → (texte, liste entités sous la forme (start, end, type))\n",
    "for k, (text_filename, json_filename) in id_to_text_and_json.items():\n",
    "    all_data[k] = (\n",
    "        read_text_file(text_filename),\n",
    "        parse_tagtog_json(json_filename)\n",
    "    )\n",
    "len(all_data)"
   ]
  },
  {
   "cell_type": "code",
   "execution_count": 17,
   "metadata": {},
   "outputs": [],
   "source": [
    "# Fix duplicate entity which crashed spacy evaluation\n",
    "sample_id = \"FRA00502_Balzac\"\n",
    "sample_text, sample_target = all_data[sample_id]\n",
    "sample_target.remove((27270, 27275, 'PER'))"
   ]
  },
  {
   "cell_type": "code",
   "execution_count": 18,
   "metadata": {},
   "outputs": [],
   "source": [
    "# Fix FRA01002_DelarueMardrus where all indices are shifted left by 2 chars (Unicode BOM?)\n",
    "sample_id = \"FRA01002_DelarueMardrus\"\n",
    "sample_text, sample_target = all_data[sample_id]\n",
    "new_target = []\n",
    "for start, end, label in sample_target:\n",
    "    new_target.append((start+2, end+2, label))\n",
    "all_data[sample_id] = (sample_text, new_target)"
   ]
  },
  {
   "cell_type": "markdown",
   "metadata": {},
   "source": [
    "Now try to display some content."
   ]
  },
  {
   "cell_type": "code",
   "execution_count": 19,
   "metadata": {},
   "outputs": [
    {
     "name": "stdout",
     "output_type": "stream",
     "text": [
      "I -- La chanson\n",
      "Il n'y a pas encore bien longtemps, le voyageur qui allait de Paris à Brest, de la capitale du royaume à la première de nos cités maritimes, s'endormait et s'éveillait deux fois, bercé par les cahots de la diligence, avant d'apercevoir les maigres moissons, les pommiers trapus et les chênes ébranlés de la pauvre Bretagne. Il s'éveillait la première fois dans les fertiles plaines du Perche, tout près de la Beauce, ce paradis des négociants en farine : il se rendormait poursuivi par l'aigrelet parfum du cidre de l'Orne et par le patois nasillard des naturels de la Basse-Normandie. Le lendemain matin, le paysage avait changé ; c'était Vitré, la gothique momie, qui penche ses maisons noires et les ruines chevelues de son château sur la pente raide de sa colline ; c'était l'échiquier de prairies plantées çà et là de saules et d'oseraies où la Vilaine plie et replie en mille détours son étroit ruban d'azur. Le ciel, bleu la veille, était devenu gris ; l'horizon avait perdu son ampleur, l'air avait pris une saveur humide. Au loin, sur la droite, derrière une série de monticules arides et couverts de genêts, on apercevait une ligne noire. C'était la forêt de Rennes.\n",
      "La forêt de Rennes est bien déchue de sa gloire antique. Les exploitations industrielles ont fait, depuis ce temps, un terrible massacre de ses beaux arbres.\n",
      "MM. de Rohan, de Montbourcher, de Châteaubriant y couraient le cerf autrefois, en compagnie des seigneurs de Laval, invités tout exprès, et de M. l'intendant royal, dont on se serait passé volontiers. Maintenant, c'est à peine si les commis rougeauds des maîtres de forges y peuvent tuer à l'affût, de temps à autre, quelque chétif lapereau ou un chevreuil étique que le spleen porte à braver cet indigne trépas.\n",
      "On n'entend plus, sous le couvert, les éclatantes fanfares ; le sabot des nobles chevaux ne frappe plus le gazon des allées ; tout se tait, hormis les marteaux et la toux cyclopéenne de la pompe à feu.\n",
      "Certains se frottent les mains à l'aspect de ce résultat. Ils disent que les châteaux ne servaient à rien et que les usines font des clous. Nous avons peut-être, à ce sujet, une opinion arrêtée, mais nous la réserverons pour une occasion meilleure.\n",
      "Quoi qu'il en soit, au lieu de quelques kilomètres carrés, grevés de coupes accablantes, et dont les trois quarts sont à l'état de taillis, la forêt de Rennes avait, il y a cent cinquante ans, onze bonnes lieues de tour, et des tenues de futaie si haut lancées, si vastes et si bien fourrées de plantes à la racine, que les gardes eux-mêmes y perdaient leur chemin.\n",
      "En fait d'usines, on n'y trouvait que des saboteries dans les « fouteaux » ; et aussi, dans les châtaigneraies, quelques huttes où l'on faisait des cercles pour les tonneaux. Au centre des clairières, dix à douze loges groupées et comme entassées servaient de demeures aux charbonniers. Il y en avait un nombre fort considérable, et, en somme, la population de la forêt passait pour n'être point au-dessous de quatre à cinq mille habitants.\n",
      "C'était une caste à part, un peuple à demi sauvage, ennemi-né de toute innovation, et détestant par instinct et par intérêt tout régime autre que la coutume, laquelle lui accordait tacitement un droit d'usage illimité sur tous les produits de la forêt, sauf le gibier.\n",
      "De temps immémorial, sabotiers, tonneliers, charbonniers et vanniers avaient pu, non seulement ignorer jusqu'au nom d' impôt, mais encore prendre le bois nécessaire à leur industrie sans indemnité aucune. Dans leur croyance, la forêt était leur légitime patrimoine : ils y étaient nés ; ils avaient le droit imprescriptible d'y vivre et d'y mourir. Quiconque leur contestait ce droit devenait pour eux un oppresseur.\n",
      "Or ils n'étaient point gens à se laisser opprimer sans résistance.\n",
      "Louis XIV était mort. Philippe d'Orléans, au mépris du testament du monarque défunt, tenait la régence. Bien que ce prince, pour qui l'histoire a eu de sévères condamnations, mît volontairement en oubli la grande politique de son maître, cette politique subsistait par sa force propre, partout où des mains malhabiles ou perfides ne prenaient point à tâche de la miner sourdement.\n",
      "En Bretagne, la longue et vaillante résistance des États avait pris fin.\n",
      "Un intendant de l'impôt avait été installé à Rennes, et le pacte d'Union, violemment amendé, ne gardait plus ses fières stipulations en faveur des libertés de la province. Le parti breton était donc vaincu ; la Bretagne se faisait France en définitive : il n'y avait plus de frontière.\n",
      "Mais autre chose était de consentir une mesure en assemblée parlementaire, autre chose de faire passer cette mesure dans les mœurs d'un peuple dont l'entêtement est devenu proverbial. M. de Pontchartain, le nouvel intendant royal de l'impôt, avait l'investiture légale de ses fonctions ; il lui restait à exécuter son mandat, ce qui n'était point chose facile.\n",
      "Partout on accusa les États de forfaiture : on résistait partout.\n",
      "Lors de la conspiration de Cellamare, ce fut en Bretagne que la duchesse du Maine réunit ses plus hardis soldats. Les Chevaliers de la Mouche à miel qui se nommaient aussi les Frères bretons, formaient une véritable armée dont les chefs, MM. de Pontcallec, de Talhoët, de Rohan-Polduc et autres eurent la tête tranchée sous le Bouffay de Nantes, en 1718.\n",
      "Ce fut un rude coup. La conspiration rentra sous terre.\n",
      "Mais la ligue des Frères bretons, antérieure à la conspiration, et qui, en réalité, n'avait plus d'objet politique, continua d'exister et d'agir quand la conspiration fut morte.\n",
      "C'est le propre des assemblées secrètes de vivre sous terre. Les Frères bretons refusèrent d'abord l'impôt les armes à la main, puis ils cédèrent à leur tour, mais, tout en cédant, ils vécurent.\n"
     ]
    }
   ],
   "source": [
    "sample_id = \"FRA01203_Feval\"\n",
    "sample_text = all_data[sample_id][0]\n",
    "print(sample_text)"
   ]
  },
  {
   "cell_type": "code",
   "execution_count": 20,
   "metadata": {},
   "outputs": [
    {
     "name": "stdout",
     "output_type": "stream",
     "text": [
      "[(78, 83, 'LOC'), (86, 91, 'LOC'), (330, 338, 'LOC'), (401, 407, 'LOC'), (425, 431, 'LOC'), (534, 538, 'LOC'), (585, 600, 'LOC'), (656, 661, 'LOC'), (863, 873, 'LOC'), (1173, 1191, 'LOC'), (1193, 1211, 'LOC'), (1351, 1363, 'PER'), (1365, 1380, 'PER'), (1382, 1398, 'PER'), (1457, 1465, 'PER'), (2355, 2373, 'LOC'), (3775, 3784, 'PER'), (3797, 3815, 'PER'), (4159, 4167, 'LOC'), (4274, 4280, 'LOC'), (4437, 4448, 'LOC'), (4460, 4466, 'LOC'), (4699, 4717, 'PER'), (4990, 4998, 'LOC'), (5015, 5023, 'PER'), (5180, 5197, 'PER'), (5199, 5209, 'PER'), (5211, 5226, 'PER'), (5266, 5276, 'LOC'), (5280, 5286, 'LOC')]\n"
     ]
    }
   ],
   "source": [
    "sample_target = all_data[sample_id][1]\n",
    "print(sample_target)"
   ]
  },
  {
   "attachments": {},
   "cell_type": "markdown",
   "metadata": {},
   "source": [
    "On vérifie rapidement que le format semble OK pour Spacy (et displaCy)."
   ]
  },
  {
   "cell_type": "code",
   "execution_count": 21,
   "metadata": {},
   "outputs": [
    {
     "name": "stdout",
     "output_type": "stream",
     "text": [
      "0.41666666666666663\n"
     ]
    },
    {
     "data": {
      "text/plain": [
       "{'ents_p': 0.35714285714285715,\n",
       " 'ents_r': 0.5,\n",
       " 'ents_f': 0.41666666666666663,\n",
       " 'ents_per_type': {'LOC': {'p': 0.5,\n",
       "   'r': 0.6842105263157895,\n",
       "   'f': 0.5777777777777778},\n",
       "  'PER': {'p': 0.18181818181818182,\n",
       "   'r': 0.18181818181818182,\n",
       "   'f': 0.18181818181818182},\n",
       "  'MISC': {'p': 0.0, 'r': 0.0, 'f': 0.0}}}"
      ]
     },
     "execution_count": 21,
     "metadata": {},
     "output_type": "execute_result"
    }
   ],
   "source": [
    "evaluate(ner_model, [sample_text], [sample_target])"
   ]
  },
  {
   "cell_type": "code",
   "execution_count": 22,
   "metadata": {},
   "outputs": [],
   "source": [
    "doc = ner_model(sample_text)"
   ]
  },
  {
   "cell_type": "code",
   "execution_count": 23,
   "metadata": {},
   "outputs": [
    {
     "data": {
      "text/html": [
       "<span class=\"tex2jax_ignore\"><div class=\"entities\" style=\"line-height: 2.5; direction: ltr\">\n",
       "<mark class=\"entity\" style=\"background: #ff9561; padding: 0.45em 0.6em; margin: 0 0.25em; line-height: 1; border-radius: 0.35em;\">\n",
       "    I\n",
       "    <span style=\"font-size: 0.8em; font-weight: bold; line-height: 1; border-radius: 0.35em; vertical-align: middle; margin-left: 0.5rem\">LOC</span>\n",
       "</mark>\n",
       " -- La chanson<br>Il n'y a pas encore bien longtemps, le voyageur qui allait de \n",
       "<mark class=\"entity\" style=\"background: #ff9561; padding: 0.45em 0.6em; margin: 0 0.25em; line-height: 1; border-radius: 0.35em;\">\n",
       "    Paris\n",
       "    <span style=\"font-size: 0.8em; font-weight: bold; line-height: 1; border-radius: 0.35em; vertical-align: middle; margin-left: 0.5rem\">LOC</span>\n",
       "</mark>\n",
       " à \n",
       "<mark class=\"entity\" style=\"background: #ff9561; padding: 0.45em 0.6em; margin: 0 0.25em; line-height: 1; border-radius: 0.35em;\">\n",
       "    Brest\n",
       "    <span style=\"font-size: 0.8em; font-weight: bold; line-height: 1; border-radius: 0.35em; vertical-align: middle; margin-left: 0.5rem\">LOC</span>\n",
       "</mark>\n",
       ", de la capitale du royaume à la première de nos cités maritimes, s'endormait et s'éveillait deux fois, bercé par les cahots de la diligence, avant d'apercevoir les maigres moissons, les pommiers trapus et les chênes ébranlés de la \n",
       "<mark class=\"entity\" style=\"background: #ff9561; padding: 0.45em 0.6em; margin: 0 0.25em; line-height: 1; border-radius: 0.35em;\">\n",
       "    pauvre Bretagne\n",
       "    <span style=\"font-size: 0.8em; font-weight: bold; line-height: 1; border-radius: 0.35em; vertical-align: middle; margin-left: 0.5rem\">LOC</span>\n",
       "</mark>\n",
       ". Il s'éveillait la première fois dans les fertiles plaines du \n",
       "<mark class=\"entity\" style=\"background: #ff9561; padding: 0.45em 0.6em; margin: 0 0.25em; line-height: 1; border-radius: 0.35em;\">\n",
       "    Perche\n",
       "    <span style=\"font-size: 0.8em; font-weight: bold; line-height: 1; border-radius: 0.35em; vertical-align: middle; margin-left: 0.5rem\">LOC</span>\n",
       "</mark>\n",
       ", tout près de la \n",
       "<mark class=\"entity\" style=\"background: #ff9561; padding: 0.45em 0.6em; margin: 0 0.25em; line-height: 1; border-radius: 0.35em;\">\n",
       "    Beauce\n",
       "    <span style=\"font-size: 0.8em; font-weight: bold; line-height: 1; border-radius: 0.35em; vertical-align: middle; margin-left: 0.5rem\">LOC</span>\n",
       "</mark>\n",
       ", ce paradis des négociants en farine : il se rendormait poursuivi par l'aigrelet parfum du cidre de l'\n",
       "<mark class=\"entity\" style=\"background: #ff9561; padding: 0.45em 0.6em; margin: 0 0.25em; line-height: 1; border-radius: 0.35em;\">\n",
       "    Orne\n",
       "    <span style=\"font-size: 0.8em; font-weight: bold; line-height: 1; border-radius: 0.35em; vertical-align: middle; margin-left: 0.5rem\">LOC</span>\n",
       "</mark>\n",
       " et par le patois nasillard des naturels de la \n",
       "<mark class=\"entity\" style=\"background: #ff9561; padding: 0.45em 0.6em; margin: 0 0.25em; line-height: 1; border-radius: 0.35em;\">\n",
       "    Basse-Normandie\n",
       "    <span style=\"font-size: 0.8em; font-weight: bold; line-height: 1; border-radius: 0.35em; vertical-align: middle; margin-left: 0.5rem\">LOC</span>\n",
       "</mark>\n",
       ". Le lendemain matin, le paysage avait changé ; c'était \n",
       "<mark class=\"entity\" style=\"background: #ff9561; padding: 0.45em 0.6em; margin: 0 0.25em; line-height: 1; border-radius: 0.35em;\">\n",
       "    Vitré\n",
       "    <span style=\"font-size: 0.8em; font-weight: bold; line-height: 1; border-radius: 0.35em; vertical-align: middle; margin-left: 0.5rem\">LOC</span>\n",
       "</mark>\n",
       ", la gothique momie, qui penche ses maisons noires et les ruines chevelues de son château sur la pente raide de sa colline ; c'était l'échiquier de prairies plantées çà et là de saules et d'oseraies où \n",
       "<mark class=\"entity\" style=\"background: #ff9561; padding: 0.45em 0.6em; margin: 0 0.25em; line-height: 1; border-radius: 0.35em;\">\n",
       "    la Vilaine\n",
       "    <span style=\"font-size: 0.8em; font-weight: bold; line-height: 1; border-radius: 0.35em; vertical-align: middle; margin-left: 0.5rem\">LOC</span>\n",
       "</mark>\n",
       " plie et replie en mille détours son étroit ruban d'azur. Le ciel, bleu la veille, était devenu gris ; l'horizon avait perdu son ampleur, l'air avait pris une saveur humide. Au loin, sur la droite, derrière une série de monticules arides et couverts de genêts, on apercevait une ligne noire. C'était la forêt de \n",
       "<mark class=\"entity\" style=\"background: #ff9561; padding: 0.45em 0.6em; margin: 0 0.25em; line-height: 1; border-radius: 0.35em;\">\n",
       "    Rennes\n",
       "    <span style=\"font-size: 0.8em; font-weight: bold; line-height: 1; border-radius: 0.35em; vertical-align: middle; margin-left: 0.5rem\">LOC</span>\n",
       "</mark>\n",
       ".<br>La \n",
       "<mark class=\"entity\" style=\"background: #ff9561; padding: 0.45em 0.6em; margin: 0 0.25em; line-height: 1; border-radius: 0.35em;\">\n",
       "    forêt de Rennes\n",
       "    <span style=\"font-size: 0.8em; font-weight: bold; line-height: 1; border-radius: 0.35em; vertical-align: middle; margin-left: 0.5rem\">LOC</span>\n",
       "</mark>\n",
       " est bien déchue de sa gloire antique. Les exploitations industrielles ont fait, depuis ce temps, un terrible massacre de ses beaux arbres.<br>\n",
       "<mark class=\"entity\" style=\"background: #ddd; padding: 0.45em 0.6em; margin: 0 0.25em; line-height: 1; border-radius: 0.35em;\">\n",
       "    MM.\n",
       "    <span style=\"font-size: 0.8em; font-weight: bold; line-height: 1; border-radius: 0.35em; vertical-align: middle; margin-left: 0.5rem\">MISC</span>\n",
       "</mark>\n",
       " de \n",
       "<mark class=\"entity\" style=\"background: #ddd; padding: 0.45em 0.6em; margin: 0 0.25em; line-height: 1; border-radius: 0.35em;\">\n",
       "    Rohan\n",
       "    <span style=\"font-size: 0.8em; font-weight: bold; line-height: 1; border-radius: 0.35em; vertical-align: middle; margin-left: 0.5rem\">PER</span>\n",
       "</mark>\n",
       ", de \n",
       "<mark class=\"entity\" style=\"background: #ddd; padding: 0.45em 0.6em; margin: 0 0.25em; line-height: 1; border-radius: 0.35em;\">\n",
       "    Montbourcher\n",
       "    <span style=\"font-size: 0.8em; font-weight: bold; line-height: 1; border-radius: 0.35em; vertical-align: middle; margin-left: 0.5rem\">PER</span>\n",
       "</mark>\n",
       ", de \n",
       "<mark class=\"entity\" style=\"background: #ff9561; padding: 0.45em 0.6em; margin: 0 0.25em; line-height: 1; border-radius: 0.35em;\">\n",
       "    Châteaubriant\n",
       "    <span style=\"font-size: 0.8em; font-weight: bold; line-height: 1; border-radius: 0.35em; vertical-align: middle; margin-left: 0.5rem\">LOC</span>\n",
       "</mark>\n",
       " y couraient le cerf autrefois, en compagnie des seigneurs de \n",
       "<mark class=\"entity\" style=\"background: #ff9561; padding: 0.45em 0.6em; margin: 0 0.25em; line-height: 1; border-radius: 0.35em;\">\n",
       "    Laval\n",
       "    <span style=\"font-size: 0.8em; font-weight: bold; line-height: 1; border-radius: 0.35em; vertical-align: middle; margin-left: 0.5rem\">LOC</span>\n",
       "</mark>\n",
       ", invités tout exprès, et de \n",
       "<mark class=\"entity\" style=\"background: #ddd; padding: 0.45em 0.6em; margin: 0 0.25em; line-height: 1; border-radius: 0.35em;\">\n",
       "    M.\n",
       "    <span style=\"font-size: 0.8em; font-weight: bold; line-height: 1; border-radius: 0.35em; vertical-align: middle; margin-left: 0.5rem\">PER</span>\n",
       "</mark>\n",
       " l'intendant royal, dont on se serait passé volontiers. Maintenant, c'est à peine si les commis rougeauds des maîtres de forges y peuvent tuer à l'affût, de temps à autre, quelque chétif lapereau ou un chevreuil étique que le spleen porte à braver cet indigne trépas.<br>On n'entend plus, sous le couvert, les éclatantes fanfares ; le sabot des nobles chevaux ne frappe plus le gazon des allées ; tout se tait, hormis les marteaux et la toux cyclopéenne de la pompe à feu.<br>Certains se frottent les mains à l'aspect de ce résultat. Ils disent que les châteaux ne servaient à rien et que les usines font des clous. Nous avons peut-être, à ce sujet, une opinion arrêtée, mais nous la réserverons pour une occasion meilleure.<br>Quoi qu'il en soit, au lieu de quelques kilomètres carrés, grevés de coupes accablantes, et dont les trois quarts sont à l'état de \n",
       "<mark class=\"entity\" style=\"background: #ff9561; padding: 0.45em 0.6em; margin: 0 0.25em; line-height: 1; border-radius: 0.35em;\">\n",
       "    taillis\n",
       "    <span style=\"font-size: 0.8em; font-weight: bold; line-height: 1; border-radius: 0.35em; vertical-align: middle; margin-left: 0.5rem\">LOC</span>\n",
       "</mark>\n",
       ", la \n",
       "<mark class=\"entity\" style=\"background: #ff9561; padding: 0.45em 0.6em; margin: 0 0.25em; line-height: 1; border-radius: 0.35em;\">\n",
       "    forêt de Rennes\n",
       "    <span style=\"font-size: 0.8em; font-weight: bold; line-height: 1; border-radius: 0.35em; vertical-align: middle; margin-left: 0.5rem\">LOC</span>\n",
       "</mark>\n",
       " avait, il y a cent cinquante ans, onze bonnes lieues de tour, et des tenues de futaie si haut lancées, si vastes et si bien fourrées de plantes à la racine, que les gardes eux-mêmes y perdaient leur chemin.<br>En fait d'usines, on n'y trouvait que des saboteries dans les « fouteaux » ; et aussi, dans les châtaigneraies, quelques huttes où l'on faisait des cercles pour les tonneaux. Au centre des clairières, dix à douze loges groupées et comme entassées servaient de demeures aux charbonniers. Il y en avait un nombre fort considérable, et, en somme, la population de la forêt passait pour n'être point au-dessous de quatre à cinq mille habitants.<br>C'était une caste à part, un peuple à demi sauvage, ennemi-né de toute innovation, et détestant par instinct et par intérêt tout régime autre que la coutume, laquelle lui accordait tacitement un droit d'usage illimité sur tous les produits de la forêt, sauf le gibier.<br>De temps immémorial, sabotiers, \n",
       "<mark class=\"entity\" style=\"background: #ff9561; padding: 0.45em 0.6em; margin: 0 0.25em; line-height: 1; border-radius: 0.35em;\">\n",
       "    tonneliers\n",
       "    <span style=\"font-size: 0.8em; font-weight: bold; line-height: 1; border-radius: 0.35em; vertical-align: middle; margin-left: 0.5rem\">LOC</span>\n",
       "</mark>\n",
       ", charbonniers et vanniers avaient pu, non seulement ignorer jusqu'au nom d' impôt, mais encore prendre le bois nécessaire à leur industrie sans indemnité aucune. Dans leur croyance, la forêt était leur légitime patrimoine : ils y étaient nés ; ils avaient le droit imprescriptible d'y vivre et d'y mourir. Quiconque leur contestait ce droit devenait pour eux un oppresseur.<br>Or ils n'étaient point gens à se laisser opprimer sans résistance.<br>\n",
       "<mark class=\"entity\" style=\"background: #ddd; padding: 0.45em 0.6em; margin: 0 0.25em; line-height: 1; border-radius: 0.35em;\">\n",
       "    Louis XIV\n",
       "    <span style=\"font-size: 0.8em; font-weight: bold; line-height: 1; border-radius: 0.35em; vertical-align: middle; margin-left: 0.5rem\">PER</span>\n",
       "</mark>\n",
       " était mort. \n",
       "<mark class=\"entity\" style=\"background: #ddd; padding: 0.45em 0.6em; margin: 0 0.25em; line-height: 1; border-radius: 0.35em;\">\n",
       "    Philippe d'Orléans\n",
       "    <span style=\"font-size: 0.8em; font-weight: bold; line-height: 1; border-radius: 0.35em; vertical-align: middle; margin-left: 0.5rem\">PER</span>\n",
       "</mark>\n",
       ", au mépris du testament du monarque défunt, tenait la régence. Bien que ce prince, pour qui l'histoire a eu de sévères condamnations, mît volontairement en oubli la grande politique de son maître, cette politique subsistait par sa force propre, partout où des mains malhabiles ou \n",
       "<mark class=\"entity\" style=\"background: #ddd; padding: 0.45em 0.6em; margin: 0 0.25em; line-height: 1; border-radius: 0.35em;\">\n",
       "    perfides\n",
       "    <span style=\"font-size: 0.8em; font-weight: bold; line-height: 1; border-radius: 0.35em; vertical-align: middle; margin-left: 0.5rem\">PER</span>\n",
       "</mark>\n",
       " ne prenaient point à tâche de la miner sourdement.<br>En \n",
       "<mark class=\"entity\" style=\"background: #ff9561; padding: 0.45em 0.6em; margin: 0 0.25em; line-height: 1; border-radius: 0.35em;\">\n",
       "    Bretagne\n",
       "    <span style=\"font-size: 0.8em; font-weight: bold; line-height: 1; border-radius: 0.35em; vertical-align: middle; margin-left: 0.5rem\">LOC</span>\n",
       "</mark>\n",
       ", la longue et vaillante résistance des \n",
       "<mark class=\"entity\" style=\"background: #ff9561; padding: 0.45em 0.6em; margin: 0 0.25em; line-height: 1; border-radius: 0.35em;\">\n",
       "    États\n",
       "    <span style=\"font-size: 0.8em; font-weight: bold; line-height: 1; border-radius: 0.35em; vertical-align: middle; margin-left: 0.5rem\">LOC</span>\n",
       "</mark>\n",
       " avait pris fin.<br>Un intendant de l'impôt avait été installé à \n",
       "<mark class=\"entity\" style=\"background: #ff9561; padding: 0.45em 0.6em; margin: 0 0.25em; line-height: 1; border-radius: 0.35em;\">\n",
       "    Rennes\n",
       "    <span style=\"font-size: 0.8em; font-weight: bold; line-height: 1; border-radius: 0.35em; vertical-align: middle; margin-left: 0.5rem\">LOC</span>\n",
       "</mark>\n",
       ", et le pacte d'Union, violemment amendé, ne gardait plus ses fières stipulations en faveur des libertés de la province. Le parti breton était donc vaincu ; \n",
       "<mark class=\"entity\" style=\"background: #ff9561; padding: 0.45em 0.6em; margin: 0 0.25em; line-height: 1; border-radius: 0.35em;\">\n",
       "    la Bretagne\n",
       "    <span style=\"font-size: 0.8em; font-weight: bold; line-height: 1; border-radius: 0.35em; vertical-align: middle; margin-left: 0.5rem\">LOC</span>\n",
       "</mark>\n",
       " se faisait \n",
       "<mark class=\"entity\" style=\"background: #ff9561; padding: 0.45em 0.6em; margin: 0 0.25em; line-height: 1; border-radius: 0.35em;\">\n",
       "    France\n",
       "    <span style=\"font-size: 0.8em; font-weight: bold; line-height: 1; border-radius: 0.35em; vertical-align: middle; margin-left: 0.5rem\">LOC</span>\n",
       "</mark>\n",
       " en définitive : il n'y avait plus de frontière.<br>Mais autre chose était de consentir une mesure en assemblée parlementaire, autre chose de faire passer cette mesure dans les mœurs d'un peuple dont l'entêtement est devenu proverbial. M. \n",
       "<mark class=\"entity\" style=\"background: #ddd; padding: 0.45em 0.6em; margin: 0 0.25em; line-height: 1; border-radius: 0.35em;\">\n",
       "    de Pontchartain\n",
       "    <span style=\"font-size: 0.8em; font-weight: bold; line-height: 1; border-radius: 0.35em; vertical-align: middle; margin-left: 0.5rem\">PER</span>\n",
       "</mark>\n",
       ", le nouvel intendant royal de l'impôt, avait l'investiture légale de ses fonctions ; il lui restait à exécuter son mandat, ce qui n'était point chose facile.<br>Partout on accusa les \n",
       "<mark class=\"entity\" style=\"background: #ff9561; padding: 0.45em 0.6em; margin: 0 0.25em; line-height: 1; border-radius: 0.35em;\">\n",
       "    États de forfaiture\n",
       "    <span style=\"font-size: 0.8em; font-weight: bold; line-height: 1; border-radius: 0.35em; vertical-align: middle; margin-left: 0.5rem\">LOC</span>\n",
       "</mark>\n",
       " : on résistait partout.<br>Lors de la conspiration de \n",
       "<mark class=\"entity\" style=\"background: #ddd; padding: 0.45em 0.6em; margin: 0 0.25em; line-height: 1; border-radius: 0.35em;\">\n",
       "    Cellamare\n",
       "    <span style=\"font-size: 0.8em; font-weight: bold; line-height: 1; border-radius: 0.35em; vertical-align: middle; margin-left: 0.5rem\">PER</span>\n",
       "</mark>\n",
       ", ce fut en \n",
       "<mark class=\"entity\" style=\"background: #ff9561; padding: 0.45em 0.6em; margin: 0 0.25em; line-height: 1; border-radius: 0.35em;\">\n",
       "    Bretagne\n",
       "    <span style=\"font-size: 0.8em; font-weight: bold; line-height: 1; border-radius: 0.35em; vertical-align: middle; margin-left: 0.5rem\">LOC</span>\n",
       "</mark>\n",
       " que la \n",
       "<mark class=\"entity\" style=\"background: #ddd; padding: 0.45em 0.6em; margin: 0 0.25em; line-height: 1; border-radius: 0.35em;\">\n",
       "    duchesse du Maine\n",
       "    <span style=\"font-size: 0.8em; font-weight: bold; line-height: 1; border-radius: 0.35em; vertical-align: middle; margin-left: 0.5rem\">PER</span>\n",
       "</mark>\n",
       " réunit ses plus hardis soldats. Les \n",
       "<mark class=\"entity\" style=\"background: #ddd; padding: 0.45em 0.6em; margin: 0 0.25em; line-height: 1; border-radius: 0.35em;\">\n",
       "    Chevaliers de la Mouche\n",
       "    <span style=\"font-size: 0.8em; font-weight: bold; line-height: 1; border-radius: 0.35em; vertical-align: middle; margin-left: 0.5rem\">MISC</span>\n",
       "</mark>\n",
       " à miel qui se nommaient aussi les \n",
       "<mark class=\"entity\" style=\"background: #ddd; padding: 0.45em 0.6em; margin: 0 0.25em; line-height: 1; border-radius: 0.35em;\">\n",
       "    Frères bretons\n",
       "    <span style=\"font-size: 0.8em; font-weight: bold; line-height: 1; border-radius: 0.35em; vertical-align: middle; margin-left: 0.5rem\">MISC</span>\n",
       "</mark>\n",
       ", formaient une véritable armée dont les chefs, \n",
       "<mark class=\"entity\" style=\"background: #ddd; padding: 0.45em 0.6em; margin: 0 0.25em; line-height: 1; border-radius: 0.35em;\">\n",
       "    MM.\n",
       "    <span style=\"font-size: 0.8em; font-weight: bold; line-height: 1; border-radius: 0.35em; vertical-align: middle; margin-left: 0.5rem\">MISC</span>\n",
       "</mark>\n",
       " de \n",
       "<mark class=\"entity\" style=\"background: #ff9561; padding: 0.45em 0.6em; margin: 0 0.25em; line-height: 1; border-radius: 0.35em;\">\n",
       "    Pontcallec\n",
       "    <span style=\"font-size: 0.8em; font-weight: bold; line-height: 1; border-radius: 0.35em; vertical-align: middle; margin-left: 0.5rem\">LOC</span>\n",
       "</mark>\n",
       ", de \n",
       "<mark class=\"entity\" style=\"background: #ddd; padding: 0.45em 0.6em; margin: 0 0.25em; line-height: 1; border-radius: 0.35em;\">\n",
       "    Talhoët\n",
       "    <span style=\"font-size: 0.8em; font-weight: bold; line-height: 1; border-radius: 0.35em; vertical-align: middle; margin-left: 0.5rem\">PER</span>\n",
       "</mark>\n",
       ", de \n",
       "<mark class=\"entity\" style=\"background: #ddd; padding: 0.45em 0.6em; margin: 0 0.25em; line-height: 1; border-radius: 0.35em;\">\n",
       "    Rohan-Polduc\n",
       "    <span style=\"font-size: 0.8em; font-weight: bold; line-height: 1; border-radius: 0.35em; vertical-align: middle; margin-left: 0.5rem\">PER</span>\n",
       "</mark>\n",
       " et autres eurent la tête tranchée sous le \n",
       "<mark class=\"entity\" style=\"background: #ff9561; padding: 0.45em 0.6em; margin: 0 0.25em; line-height: 1; border-radius: 0.35em;\">\n",
       "    Bouffay de Nantes\n",
       "    <span style=\"font-size: 0.8em; font-weight: bold; line-height: 1; border-radius: 0.35em; vertical-align: middle; margin-left: 0.5rem\">LOC</span>\n",
       "</mark>\n",
       ", en 1718.<br>Ce fut un rude coup. La conspiration rentra sous terre.<br>Mais la ligue des Frères bretons, antérieure à la conspiration, et qui, en réalité, n'avait plus d'objet politique, continua d'exister et d'agir quand la conspiration fut morte.<br>C'est le propre des assemblées secrètes de vivre sous terre. \n",
       "<mark class=\"entity\" style=\"background: #ddd; padding: 0.45em 0.6em; margin: 0 0.25em; line-height: 1; border-radius: 0.35em;\">\n",
       "    Les Frères bretons\n",
       "    <span style=\"font-size: 0.8em; font-weight: bold; line-height: 1; border-radius: 0.35em; vertical-align: middle; margin-left: 0.5rem\">MISC</span>\n",
       "</mark>\n",
       " refusèrent d'abord l'impôt les armes à la main, puis ils cédèrent à leur tour, mais, tout en cédant, ils vécurent.</div></span>"
      ],
      "text/plain": [
       "<IPython.core.display.HTML object>"
      ]
     },
     "metadata": {},
     "output_type": "display_data"
    }
   ],
   "source": [
    "from spacy import displacy\n",
    "displacy.render(doc, style=\"ent\", jupyter=True)"
   ]
  },
  {
   "attachments": {},
   "cell_type": "markdown",
   "metadata": {},
   "source": [
    "On peut afficher la vérité terrain directement également <https://spacy.io/usage/visualizers#manual-usage>, après une petite conversion pour coller au format suivant, et en forçant le mode \"manuel\":\n",
    "```python\n",
    "{\n",
    "    \"text\": \"But Google is starting from behind.\",\n",
    "    \"ents\": [{\"start\": 4, \"end\": 10, \"label\": \"ORG\"}],\n",
    "    \"title\": None\n",
    "}\n",
    "```"
   ]
  },
  {
   "cell_type": "code",
   "execution_count": 24,
   "metadata": {},
   "outputs": [
    {
     "data": {
      "text/html": [
       "<span class=\"tex2jax_ignore\"><h2 style=\"margin: 0\">FRA01203_Feval</h2>\n",
       "\n",
       "<div class=\"entities\" style=\"line-height: 2.5; direction: ltr\">I -- La chanson<br>Il n'y a pas encore bien longtemps, le voyageur qui allait de \n",
       "<mark class=\"entity\" style=\"background: #ff9561; padding: 0.45em 0.6em; margin: 0 0.25em; line-height: 1; border-radius: 0.35em;\">\n",
       "    Paris\n",
       "    <span style=\"font-size: 0.8em; font-weight: bold; line-height: 1; border-radius: 0.35em; vertical-align: middle; margin-left: 0.5rem\">LOC</span>\n",
       "</mark>\n",
       " à \n",
       "<mark class=\"entity\" style=\"background: #ff9561; padding: 0.45em 0.6em; margin: 0 0.25em; line-height: 1; border-radius: 0.35em;\">\n",
       "    Brest\n",
       "    <span style=\"font-size: 0.8em; font-weight: bold; line-height: 1; border-radius: 0.35em; vertical-align: middle; margin-left: 0.5rem\">LOC</span>\n",
       "</mark>\n",
       ", de la capitale du royaume à la première de nos cités maritimes, s'endormait et s'éveillait deux fois, bercé par les cahots de la diligence, avant d'apercevoir les maigres moissons, les pommiers trapus et les chênes ébranlés de la pauvre \n",
       "<mark class=\"entity\" style=\"background: #ff9561; padding: 0.45em 0.6em; margin: 0 0.25em; line-height: 1; border-radius: 0.35em;\">\n",
       "    Bretagne\n",
       "    <span style=\"font-size: 0.8em; font-weight: bold; line-height: 1; border-radius: 0.35em; vertical-align: middle; margin-left: 0.5rem\">LOC</span>\n",
       "</mark>\n",
       ". Il s'éveillait la première fois dans les fertiles plaines du \n",
       "<mark class=\"entity\" style=\"background: #ff9561; padding: 0.45em 0.6em; margin: 0 0.25em; line-height: 1; border-radius: 0.35em;\">\n",
       "    Perche\n",
       "    <span style=\"font-size: 0.8em; font-weight: bold; line-height: 1; border-radius: 0.35em; vertical-align: middle; margin-left: 0.5rem\">LOC</span>\n",
       "</mark>\n",
       ", tout près de la \n",
       "<mark class=\"entity\" style=\"background: #ff9561; padding: 0.45em 0.6em; margin: 0 0.25em; line-height: 1; border-radius: 0.35em;\">\n",
       "    Beauce\n",
       "    <span style=\"font-size: 0.8em; font-weight: bold; line-height: 1; border-radius: 0.35em; vertical-align: middle; margin-left: 0.5rem\">LOC</span>\n",
       "</mark>\n",
       ", ce paradis des négociants en farine : il se rendormait poursuivi par l'aigrelet parfum du cidre de l'\n",
       "<mark class=\"entity\" style=\"background: #ff9561; padding: 0.45em 0.6em; margin: 0 0.25em; line-height: 1; border-radius: 0.35em;\">\n",
       "    Orne\n",
       "    <span style=\"font-size: 0.8em; font-weight: bold; line-height: 1; border-radius: 0.35em; vertical-align: middle; margin-left: 0.5rem\">LOC</span>\n",
       "</mark>\n",
       " et par le patois nasillard des naturels de la \n",
       "<mark class=\"entity\" style=\"background: #ff9561; padding: 0.45em 0.6em; margin: 0 0.25em; line-height: 1; border-radius: 0.35em;\">\n",
       "    Basse-Normandie\n",
       "    <span style=\"font-size: 0.8em; font-weight: bold; line-height: 1; border-radius: 0.35em; vertical-align: middle; margin-left: 0.5rem\">LOC</span>\n",
       "</mark>\n",
       ". Le lendemain matin, le paysage avait changé ; c'était \n",
       "<mark class=\"entity\" style=\"background: #ff9561; padding: 0.45em 0.6em; margin: 0 0.25em; line-height: 1; border-radius: 0.35em;\">\n",
       "    Vitré\n",
       "    <span style=\"font-size: 0.8em; font-weight: bold; line-height: 1; border-radius: 0.35em; vertical-align: middle; margin-left: 0.5rem\">LOC</span>\n",
       "</mark>\n",
       ", la gothique momie, qui penche ses maisons noires et les ruines chevelues de son château sur la pente raide de sa colline ; c'était l'échiquier de prairies plantées çà et là de saules et d'oseraies où \n",
       "<mark class=\"entity\" style=\"background: #ff9561; padding: 0.45em 0.6em; margin: 0 0.25em; line-height: 1; border-radius: 0.35em;\">\n",
       "    la Vilaine\n",
       "    <span style=\"font-size: 0.8em; font-weight: bold; line-height: 1; border-radius: 0.35em; vertical-align: middle; margin-left: 0.5rem\">LOC</span>\n",
       "</mark>\n",
       " plie et replie en mille détours son étroit ruban d'azur. Le ciel, bleu la veille, était devenu gris ; l'horizon avait perdu son ampleur, l'air avait pris une saveur humide. Au loin, sur la droite, derrière une série de monticules arides et couverts de genêts, on apercevait une ligne noire. C'était \n",
       "<mark class=\"entity\" style=\"background: #ff9561; padding: 0.45em 0.6em; margin: 0 0.25em; line-height: 1; border-radius: 0.35em;\">\n",
       "    la forêt de Rennes\n",
       "    <span style=\"font-size: 0.8em; font-weight: bold; line-height: 1; border-radius: 0.35em; vertical-align: middle; margin-left: 0.5rem\">LOC</span>\n",
       "</mark>\n",
       ".<br>\n",
       "<mark class=\"entity\" style=\"background: #ff9561; padding: 0.45em 0.6em; margin: 0 0.25em; line-height: 1; border-radius: 0.35em;\">\n",
       "    La forêt de Rennes\n",
       "    <span style=\"font-size: 0.8em; font-weight: bold; line-height: 1; border-radius: 0.35em; vertical-align: middle; margin-left: 0.5rem\">LOC</span>\n",
       "</mark>\n",
       " est bien déchue de sa gloire antique. Les exploitations industrielles ont fait, depuis ce temps, un terrible massacre de ses beaux arbres.<br>\n",
       "<mark class=\"entity\" style=\"background: #ddd; padding: 0.45em 0.6em; margin: 0 0.25em; line-height: 1; border-radius: 0.35em;\">\n",
       "    MM. de Rohan\n",
       "    <span style=\"font-size: 0.8em; font-weight: bold; line-height: 1; border-radius: 0.35em; vertical-align: middle; margin-left: 0.5rem\">PER</span>\n",
       "</mark>\n",
       ", \n",
       "<mark class=\"entity\" style=\"background: #ddd; padding: 0.45em 0.6em; margin: 0 0.25em; line-height: 1; border-radius: 0.35em;\">\n",
       "    de Montbourcher\n",
       "    <span style=\"font-size: 0.8em; font-weight: bold; line-height: 1; border-radius: 0.35em; vertical-align: middle; margin-left: 0.5rem\">PER</span>\n",
       "</mark>\n",
       ", \n",
       "<mark class=\"entity\" style=\"background: #ddd; padding: 0.45em 0.6em; margin: 0 0.25em; line-height: 1; border-radius: 0.35em;\">\n",
       "    de Châteaubriant\n",
       "    <span style=\"font-size: 0.8em; font-weight: bold; line-height: 1; border-radius: 0.35em; vertical-align: middle; margin-left: 0.5rem\">PER</span>\n",
       "</mark>\n",
       " y couraient le cerf autrefois, en compagnie des seigneurs \n",
       "<mark class=\"entity\" style=\"background: #ddd; padding: 0.45em 0.6em; margin: 0 0.25em; line-height: 1; border-radius: 0.35em;\">\n",
       "    de Laval\n",
       "    <span style=\"font-size: 0.8em; font-weight: bold; line-height: 1; border-radius: 0.35em; vertical-align: middle; margin-left: 0.5rem\">PER</span>\n",
       "</mark>\n",
       ", invités tout exprès, et de M. l'intendant royal, dont on se serait passé volontiers. Maintenant, c'est à peine si les commis rougeauds des maîtres de forges y peuvent tuer à l'affût, de temps à autre, quelque chétif lapereau ou un chevreuil étique que le spleen porte à braver cet indigne trépas.<br>On n'entend plus, sous le couvert, les éclatantes fanfares ; le sabot des nobles chevaux ne frappe plus le gazon des allées ; tout se tait, hormis les marteaux et la toux cyclopéenne de la pompe à feu.<br>Certains se frottent les mains à l'aspect de ce résultat. Ils disent que les châteaux ne servaient à rien et que les usines font des clous. Nous avons peut-être, à ce sujet, une opinion arrêtée, mais nous la réserverons pour une occasion meilleure.<br>Quoi qu'il en soit, au lieu de quelques kilomètres carrés, grevés de coupes accablantes, et dont les trois quarts sont à l'état de taillis, \n",
       "<mark class=\"entity\" style=\"background: #ff9561; padding: 0.45em 0.6em; margin: 0 0.25em; line-height: 1; border-radius: 0.35em;\">\n",
       "    la forêt de Rennes\n",
       "    <span style=\"font-size: 0.8em; font-weight: bold; line-height: 1; border-radius: 0.35em; vertical-align: middle; margin-left: 0.5rem\">LOC</span>\n",
       "</mark>\n",
       " avait, il y a cent cinquante ans, onze bonnes lieues de tour, et des tenues de futaie si haut lancées, si vastes et si bien fourrées de plantes à la racine, que les gardes eux-mêmes y perdaient leur chemin.<br>En fait d'usines, on n'y trouvait que des saboteries dans les « fouteaux » ; et aussi, dans les châtaigneraies, quelques huttes où l'on faisait des cercles pour les tonneaux. Au centre des clairières, dix à douze loges groupées et comme entassées servaient de demeures aux charbonniers. Il y en avait un nombre fort considérable, et, en somme, la population de la forêt passait pour n'être point au-dessous de quatre à cinq mille habitants.<br>C'était une caste à part, un peuple à demi sauvage, ennemi-né de toute innovation, et détestant par instinct et par intérêt tout régime autre que la coutume, laquelle lui accordait tacitement un droit d'usage illimité sur tous les produits de la forêt, sauf le gibier.<br>De temps immémorial, sabotiers, tonneliers, charbonniers et vanniers avaient pu, non seulement ignorer jusqu'au nom d' impôt, mais encore prendre le bois nécessaire à leur industrie sans indemnité aucune. Dans leur croyance, la forêt était leur légitime patrimoine : ils y étaient nés ; ils avaient le droit imprescriptible d'y vivre et d'y mourir. Quiconque leur contestait ce droit devenait pour eux un oppresseur.<br>Or ils n'étaient point gens à se laisser opprimer sans résistance.<br>\n",
       "<mark class=\"entity\" style=\"background: #ddd; padding: 0.45em 0.6em; margin: 0 0.25em; line-height: 1; border-radius: 0.35em;\">\n",
       "    Louis XIV\n",
       "    <span style=\"font-size: 0.8em; font-weight: bold; line-height: 1; border-radius: 0.35em; vertical-align: middle; margin-left: 0.5rem\">PER</span>\n",
       "</mark>\n",
       " était mort. \n",
       "<mark class=\"entity\" style=\"background: #ddd; padding: 0.45em 0.6em; margin: 0 0.25em; line-height: 1; border-radius: 0.35em;\">\n",
       "    Philippe d'Orléans\n",
       "    <span style=\"font-size: 0.8em; font-weight: bold; line-height: 1; border-radius: 0.35em; vertical-align: middle; margin-left: 0.5rem\">PER</span>\n",
       "</mark>\n",
       ", au mépris du testament du monarque défunt, tenait la régence. Bien que ce prince, pour qui l'histoire a eu de sévères condamnations, mît volontairement en oubli la grande politique de son maître, cette politique subsistait par sa force propre, partout où des mains malhabiles ou perfides ne prenaient point à tâche de la miner sourdement.<br>En \n",
       "<mark class=\"entity\" style=\"background: #ff9561; padding: 0.45em 0.6em; margin: 0 0.25em; line-height: 1; border-radius: 0.35em;\">\n",
       "    Bretagne\n",
       "    <span style=\"font-size: 0.8em; font-weight: bold; line-height: 1; border-radius: 0.35em; vertical-align: middle; margin-left: 0.5rem\">LOC</span>\n",
       "</mark>\n",
       ", la longue et vaillante résistance des États avait pris fin.<br>Un intendant de l'impôt avait été installé à \n",
       "<mark class=\"entity\" style=\"background: #ff9561; padding: 0.45em 0.6em; margin: 0 0.25em; line-height: 1; border-radius: 0.35em;\">\n",
       "    Rennes\n",
       "    <span style=\"font-size: 0.8em; font-weight: bold; line-height: 1; border-radius: 0.35em; vertical-align: middle; margin-left: 0.5rem\">LOC</span>\n",
       "</mark>\n",
       ", et le pacte d'Union, violemment amendé, ne gardait plus ses fières stipulations en faveur des libertés de la province. Le parti breton était donc vaincu ; \n",
       "<mark class=\"entity\" style=\"background: #ff9561; padding: 0.45em 0.6em; margin: 0 0.25em; line-height: 1; border-radius: 0.35em;\">\n",
       "    la Bretagne\n",
       "    <span style=\"font-size: 0.8em; font-weight: bold; line-height: 1; border-radius: 0.35em; vertical-align: middle; margin-left: 0.5rem\">LOC</span>\n",
       "</mark>\n",
       " se faisait \n",
       "<mark class=\"entity\" style=\"background: #ff9561; padding: 0.45em 0.6em; margin: 0 0.25em; line-height: 1; border-radius: 0.35em;\">\n",
       "    France\n",
       "    <span style=\"font-size: 0.8em; font-weight: bold; line-height: 1; border-radius: 0.35em; vertical-align: middle; margin-left: 0.5rem\">LOC</span>\n",
       "</mark>\n",
       " en définitive : il n'y avait plus de frontière.<br>Mais autre chose était de consentir une mesure en assemblée parlementaire, autre chose de faire passer cette mesure dans les mœurs d'un peuple dont l'entêtement est devenu proverbial. \n",
       "<mark class=\"entity\" style=\"background: #ddd; padding: 0.45em 0.6em; margin: 0 0.25em; line-height: 1; border-radius: 0.35em;\">\n",
       "    M. de Pontchartain\n",
       "    <span style=\"font-size: 0.8em; font-weight: bold; line-height: 1; border-radius: 0.35em; vertical-align: middle; margin-left: 0.5rem\">PER</span>\n",
       "</mark>\n",
       ", le nouvel intendant royal de l'impôt, avait l'investiture légale de ses fonctions ; il lui restait à exécuter son mandat, ce qui n'était point chose facile.<br>Partout on accusa les États de forfaiture : on résistait partout.<br>Lors de la conspiration de Cellamare, ce fut en \n",
       "<mark class=\"entity\" style=\"background: #ff9561; padding: 0.45em 0.6em; margin: 0 0.25em; line-height: 1; border-radius: 0.35em;\">\n",
       "    Bretagne\n",
       "    <span style=\"font-size: 0.8em; font-weight: bold; line-height: 1; border-radius: 0.35em; vertical-align: middle; margin-left: 0.5rem\">LOC</span>\n",
       "</mark>\n",
       " que la duchesse \n",
       "<mark class=\"entity\" style=\"background: #ddd; padding: 0.45em 0.6em; margin: 0 0.25em; line-height: 1; border-radius: 0.35em;\">\n",
       "    du Maine\n",
       "    <span style=\"font-size: 0.8em; font-weight: bold; line-height: 1; border-radius: 0.35em; vertical-align: middle; margin-left: 0.5rem\">PER</span>\n",
       "</mark>\n",
       " réunit ses plus hardis soldats. Les Chevaliers de la Mouche à miel qui se nommaient aussi les Frères bretons, formaient une véritable armée dont les chefs, \n",
       "<mark class=\"entity\" style=\"background: #ddd; padding: 0.45em 0.6em; margin: 0 0.25em; line-height: 1; border-radius: 0.35em;\">\n",
       "    MM. de Pontcallec\n",
       "    <span style=\"font-size: 0.8em; font-weight: bold; line-height: 1; border-radius: 0.35em; vertical-align: middle; margin-left: 0.5rem\">PER</span>\n",
       "</mark>\n",
       ", \n",
       "<mark class=\"entity\" style=\"background: #ddd; padding: 0.45em 0.6em; margin: 0 0.25em; line-height: 1; border-radius: 0.35em;\">\n",
       "    de Talhoët\n",
       "    <span style=\"font-size: 0.8em; font-weight: bold; line-height: 1; border-radius: 0.35em; vertical-align: middle; margin-left: 0.5rem\">PER</span>\n",
       "</mark>\n",
       ", \n",
       "<mark class=\"entity\" style=\"background: #ddd; padding: 0.45em 0.6em; margin: 0 0.25em; line-height: 1; border-radius: 0.35em;\">\n",
       "    de Rohan-Polduc\n",
       "    <span style=\"font-size: 0.8em; font-weight: bold; line-height: 1; border-radius: 0.35em; vertical-align: middle; margin-left: 0.5rem\">PER</span>\n",
       "</mark>\n",
       " et autres eurent la tête tranchée sous \n",
       "<mark class=\"entity\" style=\"background: #ff9561; padding: 0.45em 0.6em; margin: 0 0.25em; line-height: 1; border-radius: 0.35em;\">\n",
       "    le Bouffay\n",
       "    <span style=\"font-size: 0.8em; font-weight: bold; line-height: 1; border-radius: 0.35em; vertical-align: middle; margin-left: 0.5rem\">LOC</span>\n",
       "</mark>\n",
       " de \n",
       "<mark class=\"entity\" style=\"background: #ff9561; padding: 0.45em 0.6em; margin: 0 0.25em; line-height: 1; border-radius: 0.35em;\">\n",
       "    Nantes\n",
       "    <span style=\"font-size: 0.8em; font-weight: bold; line-height: 1; border-radius: 0.35em; vertical-align: middle; margin-left: 0.5rem\">LOC</span>\n",
       "</mark>\n",
       ", en 1718.<br>Ce fut un rude coup. La conspiration rentra sous terre.<br>Mais la ligue des Frères bretons, antérieure à la conspiration, et qui, en réalité, n'avait plus d'objet politique, continua d'exister et d'agir quand la conspiration fut morte.<br>C'est le propre des assemblées secrètes de vivre sous terre. Les Frères bretons refusèrent d'abord l'impôt les armes à la main, puis ils cédèrent à leur tour, mais, tout en cédant, ils vécurent.</div></span>"
      ],
      "text/plain": [
       "<IPython.core.display.HTML object>"
      ]
     },
     "metadata": {},
     "output_type": "display_data"
    }
   ],
   "source": [
    "manual_content = {\n",
    "    \"text\": sample_text,\n",
    "    \"ents\": [{\"start\": e[0], \"end\": e[1], \"label\": e[2]} for e in sample_target],\n",
    "    \"title\": sample_id\n",
    "}\n",
    "displacy.render(manual_content, manual=True, style=\"ent\", jupyter=True)"
   ]
  },
  {
   "cell_type": "markdown",
   "metadata": {},
   "source": [
    "## Export"
   ]
  },
  {
   "cell_type": "code",
   "execution_count": 25,
   "metadata": {},
   "outputs": [],
   "source": [
    "with open(\"../dataset/French_ELTEC_NER_Open_Dataset.json\", mode=\"w\", encoding=\"utf8\") as out_file:\n",
    "    json.dump(all_data, out_file, indent=1)"
   ]
  },
  {
   "cell_type": "code",
   "execution_count": 26,
   "metadata": {},
   "outputs": [
    {
     "name": "stdout",
     "output_type": "stream",
     "text": [
      "{\n",
      " \"FRA01203_Feval\": [\n",
      "  \"I -- La chanson\\nIl n'y a pas encore bien longtemps, le voyageur qui allait de Paris \\u00e0 Brest, de la capitale du royaume \\u00e0 la premi\\u00e8re de nos cit\\u00e9s maritimes, s'endormait et s'\\u00e9veillait deux fois, berc\\u00e9 par les cahots de la diligence, avant d'apercevoir les maigres moissons, les pommiers trapus et les ch\\u00eanes \\u00e9branl\\u00e9s de la pauvre Bretagne. Il s'\\u00e9veillait la premi\\u00e8re fois dans les fertiles plaines du Perche, tout pr\\u00e8s de la Beauce, ce paradis des n\\u00e9gociants en farine\\u00a0: il se rendormait poursuivi par l'aigrelet parfum du cidre de l'Orne et par le patois nasillard des naturels de la Basse-Normandie. Le lendemain matin, le paysage avait chang\\u00e9\\u00a0; c'\\u00e9tait Vitr\\u00e9, la gothique momie, qui penche ses maisons noires et les ruines chevelues de son ch\\u00e2teau sur la pente raide de sa colline\\u00a0; c'\\u00e9tait l'\\u00e9chiquier de prairies plant\\u00e9es \\u00e7\\u00e0 et l\\u00e0 de saules et d'oseraies o\\u00f9 la Vilaine plie et replie en mille d\\u00e9tours son \\u00e9troit ruban d'azur. Le ciel, bleu la veille, \\u00e9tait devenu gris\\u00a0; l'horizon avait perdu son ampleur, l'air avait pris une saveur humide. Au loin, sur la droite, derri\\u00e8re une s\\u00e9rie de monticules arides et couverts de gen\\u00eats, on apercevait une ligne noire. C'\\u00e9tait la for\\u00eat de Rennes.\\nLa for\\u00eat de Rennes est bien d\\u00e9chue de sa gloire antique. Les exploitations industrielles ont fait, depuis ce temps, un terrible massacre de ses beaux arbres.\\nMM.\\u00a0de\\u00a0Rohan, de Montbourcher, de Ch\\u00e2teaubriant y couraient le cerf autrefois, en compagnie des seigneurs de Laval, invit\\u00e9s tout expr\\u00e8s, et de M.\\u00a0l'intendant royal, dont on se serait pass\\u00e9 volontiers. Maintenant, c'est \\u00e0 peine si les commis rougeauds des ma\\u00eetres de forges y peuvent tuer \\u00e0 l'aff\\u00fbt, de temps \\u00e0 autre, quelque ch\\u00e9tif lapereau ou un chevreuil \\u00e9tique que le spleen porte \\u00e0 braver cet indigne tr\\u00e9pas.\\nOn n'entend plus, sous le couvert, les \\u00e9clatantes fanfares\\u00a0; le sabot des nobles chevaux ne frappe plus le gazon des all\\u00e9es\\u00a0; tout se tait, hormis les marteaux et la toux cyclop\\u00e9enne de la pompe \\u00e0 feu.\\nCertains se frottent les mains \\u00e0 l'aspect de ce r\\u00e9sultat. Ils disent que les ch\\u00e2teaux ne servaient \\u00e0 rien et que les usines font des clous. Nous avons peut-\\u00eatre, \\u00e0 ce sujet, une opinion arr\\u00eat\\u00e9e, mais nous la r\\u00e9serverons pour une occasion meilleure.\\nQuoi qu'il en soit, au lieu de quelques kilom\\u00e8tres carr\\u00e9s, grev\\u00e9s de coupes accablantes, et dont les trois quarts sont \\u00e0 l'\\u00e9tat de taillis, la for\\u00eat de Rennes avait, il y a cent cinquante ans, onze bonnes lieues de tour, et des tenues de futaie si haut lanc\\u00e9es, si vastes et si bien fourr\\u00e9es de plantes \\u00e0 la racine, que les gardes eux-m\\u00eames y perdaient leur chemin.\\nEn fait d'usines, on n'y trouvait que des saboteries dans les \\u00ab\\u00a0fouteaux\\u00a0\\u00bb\\u00a0; et aussi, dans les ch\\u00e2taigneraies, quelques huttes o\\u00f9 l'on faisait des cercles pour les tonneaux. Au centre des clairi\\u00e8res, dix \\u00e0 douze loges group\\u00e9es et comme entass\\u00e9es servaient de demeures aux charbonniers. Il y en avait un nombre fort consid\\u00e9rable, et, en somme, la population de la for\\u00eat passait pour n'\\u00eatre point au-dessous de quatre \\u00e0 cinq mille habitants.\\nC'\\u00e9tait une caste \\u00e0 part, un peuple \\u00e0 demi sauvage, ennemi-n\\u00e9 de toute innovation, et d\\u00e9testant par instinct et par int\\u00e9r\\u00eat tout r\\u00e9gime autre que la coutume, laquelle lui accordait tacitement un droit d'usage illimit\\u00e9 sur tous les produits de la for\\u00eat, sauf le gibier.\\nDe temps imm\\u00e9morial, sabotiers, tonneliers, charbonniers et vanniers avaient pu, non seulement ignorer jusqu'au nom d' imp\\u00f4t, mais encore prendre le bois n\\u00e9cessaire \\u00e0 leur industrie sans indemnit\\u00e9 aucune. Dans leur croyance, la for\\u00eat \\u00e9tait leur l\\u00e9gitime patrimoine\\u00a0: ils y \\u00e9taient n\\u00e9s\\u00a0; ils avaient le droit imprescriptible d'y vivre et d'y mourir. Quiconque leur contestait ce droit devenait pour eux un oppresseur.\\nOr ils n'\\u00e9taient point gens \\u00e0 se laisser opprimer sans r\\u00e9sistance.\\nLouis XIV \\u00e9tait mort. Philippe d'Orl\\u00e9ans, au m\\u00e9pris du testament du monarque d\\u00e9funt, tenait la r\\u00e9gence. Bien que ce prince, pour qui l'histoire a eu de s\\u00e9v\\u00e8res condamnations, m\\u00eet volontairement en oubli la grande politique de son ma\\u00eetre, cette politique subsistait par sa force propre, partout o\\u00f9 des mains malhabiles ou perfides ne prenaient point \\u00e0 t\\u00e2che de la miner sourdement.\\nEn Bretagne, la longue et vaillante r\\u00e9sistance des \\u00c9tats avait pris fin.\\nUn intendant de l'imp\\u00f4t avait \\u00e9t\\u00e9 install\\u00e9 \\u00e0 Rennes, et le pacte d'Union, violemment amend\\u00e9, ne gardait plus ses fi\\u00e8res stipulations en faveur des libert\\u00e9s de la province. Le parti breton \\u00e9tait donc vaincu\\u00a0; la Bretagne se faisait France en d\\u00e9finitive\\u00a0: il n'y avait plus de fronti\\u00e8re.\\nMais autre chose \\u00e9tait de consentir une mesure en assembl\\u00e9e parlementaire, autre chose de faire passer cette mesure dans les m\\u0153urs d'un peuple dont l'ent\\u00eatement est devenu proverbial. M.\\u00a0de\\u00a0Pontchartain, le nouvel intendant royal de l'imp\\u00f4t, avait l'investiture l\\u00e9gale de ses fonctions\\u00a0; il lui restait \\u00e0 ex\\u00e9cuter son mandat, ce qui n'\\u00e9tait point chose facile.\\nPartout on accusa les \\u00c9tats de forfaiture\\u00a0: on r\\u00e9sistait partout.\\nLors de la conspiration de Cellamare, ce fut en Bretagne que la duchesse du Maine r\\u00e9unit ses plus hardis soldats. Les Chevaliers de la Mouche \\u00e0 miel qui se nommaient aussi les Fr\\u00e8res bretons, formaient une v\\u00e9ritable arm\\u00e9e dont les chefs, MM.\\u00a0de\\u00a0Pontcallec, de Talho\\u00ebt, de Rohan-Polduc et autres eurent la t\\u00eate tranch\\u00e9e sous le Bouffay de Nantes, en 1718.\\nCe fut un rude coup. La conspiration rentra sous terre.\\nMais la ligue des Fr\\u00e8res bretons, ant\\u00e9rieure \\u00e0 la conspiration, et qui, en r\\u00e9alit\\u00e9, n'avait plus d'objet politique, continua d'exister et d'agir quand la conspiration fut morte.\\nC'est le propre des assembl\\u00e9es secr\\u00e8tes de vivre sous terre. Les Fr\\u00e8res bretons refus\\u00e8rent d'abord l'imp\\u00f4t les armes \\u00e0 la main, puis ils c\\u00e9d\\u00e8rent \\u00e0 leur tour, mais, tout en c\\u00e9dant, ils v\\u00e9curent.\",\n",
      "  [\n",
      "   [\n",
      "    78,\n",
      "    83,\n",
      "    \"LOC\"\n",
      "   ],\n",
      "   [\n"
     ]
    }
   ],
   "source": [
    "!head ../dataset/French_ELTEC_NER_Open_Dataset.json"
   ]
  }
 ],
 "metadata": {
  "kernelspec": {
   "display_name": "hn-ariane-ner-tuto-2023-5IA5eVhR",
   "language": "python",
   "name": "python3"
  },
  "language_info": {
   "codemirror_mode": {
    "name": "ipython",
    "version": 3
   },
   "file_extension": ".py",
   "mimetype": "text/x-python",
   "name": "python",
   "nbconvert_exporter": "python",
   "pygments_lexer": "ipython3",
   "version": "3.10.12"
  }
 },
 "nbformat": 4,
 "nbformat_minor": 2
}
