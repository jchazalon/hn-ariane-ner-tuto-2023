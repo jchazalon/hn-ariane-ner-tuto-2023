{
 "cells": [
  {
   "cell_type": "markdown",
   "metadata": {},
   "source": [
    "# Trouble with unaligned entities and tokens\n",
    "(aka I don't really like spacy's tokenizer)"
   ]
  },
  {
   "cell_type": "code",
   "execution_count": null,
   "metadata": {},
   "outputs": [
    {
     "name": "stdout",
     "output_type": "stream",
     "text": [
      "Produced a training set with 70 elements, and a test set with 30 elements.\n"
     ]
    }
   ],
   "source": [
    "# All objects are list with aligned content, \n",
    "# i.e. train_ids[i] is the document ID for the ith element,\n",
    "# train_texts[i] contains the text for this particular document,\n",
    "# and train_entities[i] contains the target entities for this document.\n",
    "# test_* variants are structured the same way, with 70% of the samples in train, and 30% in test.\n",
    "train_ids = []\n",
    "train_texts = []\n",
    "train_entities = []\n",
    "test_ids = []\n",
    "test_texts = []\n",
    "test_entities = []\n",
    "for count, (id, (text, entity)) in enumerate(dataset.items()):\n",
    "    # Switch the destination based on the percentage of elements already added\n",
    "    # dict storage is shuffled but deterministic, so no need to seed any RNG here\n",
    "    dst_ids, dst_texts, dst_entities = (\n",
    "        (train_ids, train_texts, train_entities)\n",
    "        if (100 * count / len(dataset)) < 70 else\n",
    "        (test_ids, test_texts, test_entities)\n",
    "    )\n",
    "    for dst, item in zip((dst_ids, dst_texts, dst_entities), (id, text, entity)):\n",
    "        dst.append(item)\n",
    "print(f\"Produced a training set with {len(train_ids)} elements, and a test set with {len(test_ids)} elements.\")"
   ]
  },
  {
   "cell_type": "code",
   "execution_count": null,
   "metadata": {},
   "outputs": [
    {
     "data": {
      "text/plain": [
       "[78, 83, 'LOC']"
      ]
     },
     "metadata": {},
     "output_type": "display_data"
    }
   ],
   "source": [
    "train_entities[0][0]"
   ]
  },
  {
   "cell_type": "code",
   "execution_count": null,
   "metadata": {},
   "outputs": [],
   "source": [
    "tt = [len(x) for x in train_entities]\n",
    "for id, ent_lst in zip(train_ids, train_entities):\n",
    "    if len(ent_lst) <= 0:\n",
    "        print(f\"Error with document '{id}'.\")"
   ]
  },
  {
   "cell_type": "code",
   "execution_count": null,
   "metadata": {},
   "outputs": [],
   "source": [
    "import spacy\n",
    "from spacy.tokens import DocBin\n",
    "\n",
    "def prepare_save_dataset(ids, texts, entities, dst_path):\n",
    "    nlp = spacy.blank(\"fr\")\n",
    "    # the DocBin will store the example documents\n",
    "    db = DocBin()\n",
    "    for id, text, annotations in zip(ids, texts, entities):\n",
    "        ents = None\n",
    "        try:\n",
    "            doc = nlp(text)\n",
    "            ents = []\n",
    "            for start, end, label in annotations:\n",
    "                span = doc.char_span(start, end, label=label)\n",
    "                ents.append(span)\n",
    "            doc.ents = ents\n",
    "            db.add(doc)\n",
    "        except Exception as e:\n",
    "            err_msg = f\"Problem generating train/val data for document '{id}'. \"\n",
    "            err_msg += getattr(e, \"msg\", str(e))\n",
    "            print(err_msg)\n",
    "            print(ents)\n",
    "            raise RuntimeError(err_msg)\n",
    "    db.to_disk(dst_path)"
   ]
  },
  {
   "cell_type": "code",
   "execution_count": null,
   "metadata": {},
   "outputs": [
    {
     "name": "stdout",
     "output_type": "stream",
     "text": [
      "Problem generating train/val data for document 'FRA01201_Feval'. object of type 'NoneType' has no len()\n",
      "[Fortune, Fortune, Paris, Florence, Turin, Espagne, Espagne, None, Jules Alberoni, Charles-quint, Suède, Italie, Allemagne, Turquie, Russie, France, Angleterre, France, Angleterre, Alberoni, Europe, Angleterre, France, France, Louis XIV, Bretagne, Angleterre, Stuarts, Écosse, Irlande, de Saint-Georges, roi Jacques, des Ursins, Alcala, Hénarès, Madrid, Fortune]\n"
     ]
    },
    {
     "ename": "RuntimeError",
     "evalue": "Problem generating train/val data for document 'FRA01201_Feval'. object of type 'NoneType' has no len()",
     "output_type": "error",
     "traceback": [
      "\u001b[0;31m---------------------------------------------------------------------------\u001b[0m\n",
      "\u001b[0;31mTypeError\u001b[0m                                 Traceback (most recent call last)\n",
      "Cell \u001b[0;32mIn[19], line 16\u001b[0m, in \u001b[0;36mprepare_save_dataset\u001b[0;34m(ids, texts, entities, dst_path)\u001b[0m\n",
      "\u001b[1;32m     15\u001b[0m     ents\u001b[39m.\u001b[39mappend(span)\n",
      "\u001b[0;32m---> 16\u001b[0m doc\u001b[39m.\u001b[39;49ments \u001b[39m=\u001b[39m ents\n",
      "\u001b[1;32m     17\u001b[0m db\u001b[39m.\u001b[39madd(doc)\n",
      "\n",
      "File \u001b[0;32m~/.virtualenvs/hn-ariane-ner-tuto-2023-PwR_0BG5/lib/python3.10/site-packages/spacy/tokens/doc.pyx:790\u001b[0m, in \u001b[0;36mspacy.tokens.doc.Doc.ents.__set__\u001b[0;34m()\u001b[0m\n",
      "\n",
      "File \u001b[0;32m~/.virtualenvs/hn-ariane-ner-tuto-2023-PwR_0BG5/lib/python3.10/site-packages/spacy/tokens/doc.pyx:2005\u001b[0m, in \u001b[0;36mspacy.tokens.doc.get_entity_info\u001b[0;34m()\u001b[0m\n",
      "\n",
      "\u001b[0;31mTypeError\u001b[0m: object of type 'NoneType' has no len()\n",
      "\n",
      "During handling of the above exception, another exception occurred:\n",
      "\n",
      "\u001b[0;31mRuntimeError\u001b[0m                              Traceback (most recent call last)\n",
      "Cell \u001b[0;32mIn[20], line 1\u001b[0m\n",
      "\u001b[0;32m----> 1\u001b[0m prepare_save_dataset(train_ids, train_texts, train_entities, \u001b[39m\"\u001b[39;49m\u001b[39m./tmp/train.spacy\u001b[39;49m\u001b[39m\"\u001b[39;49m)\n",
      "\u001b[1;32m      2\u001b[0m prepare_save_dataset(test_ids, test_texts, test_entities, \u001b[39m\"\u001b[39m\u001b[39m./tmp/test.spacy\u001b[39m\u001b[39m\"\u001b[39m)\n",
      "\n",
      "Cell \u001b[0;32mIn[19], line 23\u001b[0m, in \u001b[0;36mprepare_save_dataset\u001b[0;34m(ids, texts, entities, dst_path)\u001b[0m\n",
      "\u001b[1;32m     21\u001b[0m         \u001b[39mprint\u001b[39m(err_msg)\n",
      "\u001b[1;32m     22\u001b[0m         \u001b[39mprint\u001b[39m(ents)\n",
      "\u001b[0;32m---> 23\u001b[0m         \u001b[39mraise\u001b[39;00m \u001b[39mRuntimeError\u001b[39;00m(err_msg)\n",
      "\u001b[1;32m     24\u001b[0m db\u001b[39m.\u001b[39mto_disk(dst_path)\n",
      "\n",
      "\u001b[0;31mRuntimeError\u001b[0m: Problem generating train/val data for document 'FRA01201_Feval'. object of type 'NoneType' has no len()"
     ]
    }
   ],
   "source": [
    "prepare_save_dataset(train_ids, train_texts, train_entities, \"./tmp/train.spacy\")\n",
    "prepare_save_dataset(test_ids, test_texts, test_entities, \"./tmp/test.spacy\")"
   ]
  },
  {
   "cell_type": "code",
   "execution_count": null,
   "metadata": {},
   "outputs": [
    {
     "name": "stdout",
     "output_type": "stream",
     "text": [
      "PREMIÈRE PARTIE -- LA CONSPIRATION EN DENTELLES\n",
      "Où Fortune établit qu'il a une étoile.\n",
      "— Monseigneur, dit Fortune, nous autres Français nous n'avons point la vanterie des Espagnols. S'il y a chez nous un défaut, c'est que nous ne savons pas nous faire valoir suffisamment. Je suis brave, mes preuves sont faites, et quant à la prudence, j'en ai en vérité à revendre. À Paris, comme à Florence, à Turin et dans d'autres villes capitales, mon adresse passe en proverbe, et c'est justice, car aussitôt que j'entreprends une affaire elle est dans le sac. En me choisissant, Votre Éminence a eu la main heureuse : je lui en fais mon sincère compliment.\n",
      "C'était un magnifique garçon, à la taille élégante et robuste à la fois. Il disait tout cela en souriant, debout qu'il était, dans une attitude noble mais respectueuse, incliné à demi devant un personnage aux traits sévères et fortement accentués qui portait le costume de prêtre.\n",
      "Il avait, lui, notre beau jeune homme, l'accoutrement d'un cavalier d'Espagne.\n",
      "La plume de son feutre, qu'il tenait à la main et dont les bords étaient relevés à la Castillane, balayait presque le sol.\n",
      "L'expression de son visage était douce, franche, mais légèrement moqueuse, et ses traits auraient péché par une délicatesse un peu efféminée, sans une belle moustache soyeuse et noire, qui relevait ses crocs galamment tordus jusqu'au milieu de sa joue.\n",
      "Il y avait un singulier contraste entre cette figure jeune et charmante, où s'étalait en quelque sorte effrontément toute l'insouciance d'une jeunesse aventureuse, et le front maladif de ce prêtre qui semblait courbé sous les fatigues de la pensée.\n",
      "Ce prêtre était un Italien, fils de jardinier, ancien sonneur de la cathédrale de Plaisance, présentement cardinal, grand d'Espagne de première classe et ministre d'État du roi Philippe V.\n",
      "Il avait nom Jules Alberoni, et voulait refaire en plein dix-huitième siècle la grande monarchie de Charles-quint.\n",
      "La Suède, une portion de l'Italie, toute l'Allemagne du sud, la Turquie et jusqu'à la Russie, qui naissait à peine à l'existence politique, étaient pour lui les éléments d'une redoutable ligue sous laquelle il voulait écraser la France et l'Angleterre : La France, qu'il rêvait province espagnole, et l'Angleterre, où il prétendait réintégrer les Stuarts, sous cette condition que l'Église protestante serait anéantie.\n",
      "On était en 1717. Alberoni entrait dans sa cinquante cinquième année et atteignait le faîte de sa puissance politique.\n",
      "Dans toute l'Europe, les connaisseurs pariaient pour lui contre l'Angleterre et la France.\n",
      "Outre ces ennemis du dehors, la France avait en effet contre elle, à ce moment, les vices compromettants du régent, les menées des fils légitimes de Louis XIV et les troubles de la province de Bretagne. Quant à l'Angleterre, le parti des Stuarts y semblait si puissant en Écosse et aussi en Irlande, que la présence seule du chevalier de Saint-Georges, fils du roi Jacques, devait suffire, selon la croyance générale, à déterminer une révolution.\n",
      "Il nous reste à dire que la scène se passait à l'ancien palais d'été de la princesse des Ursins, dans la campagne de Alcala de Hénarès, près de Madrid.\n",
      "L'œil pensif et demi-clos du cardinal interrogeait avec distraction la riante physionomie de son jeune compagnon.\n",
      "Quand celui-ci eut achevé l'énumération de ses mérites, le cardinal dit entre haut et bas :\n",
      "— Avec cela, seigneur cavalier, vous regorgez de modestie ?\n",
      "— On s'accorde à le reconnaître, Monseigneur, répondit Fortune avec une entière bonne foi.\n",
      "Et il salua militairement.\n"
     ]
    },
    {
     "data": {
      "text/plain": [
       "[[51, 58, 'PER'],\n",
       " [106, 113, 'PER'],\n",
       " [369, 374, 'LOC'],\n",
       " [384, 392, 'LOC'],\n",
       " [396, 401, 'LOC'],\n",
       " [999, 1006, 'LOC'],\n",
       " [1757, 1764, 'LOC'],\n",
       " [1806, 1820, 'PER'],\n",
       " [1835, 1849, 'PER'],\n",
       " [1922, 1935, 'PER'],\n",
       " [1940, 1945, 'LOC'],\n",
       " [1964, 1970, 'LOC'],\n",
       " [1980, 1989, 'LOC'],\n",
       " [2001, 2008, 'LOC'],\n",
       " [2023, 2029, 'LOC'],\n",
       " [2166, 2172, 'LOC'],\n",
       " [2178, 2188, 'LOC'],\n",
       " [2194, 2200, 'LOC'],\n",
       " [2240, 2250, 'LOC'],\n",
       " [2374, 2382, 'PER'],\n",
       " [2488, 2494, 'LOC'],\n",
       " [2541, 2551, 'LOC'],\n",
       " [2558, 2564, 'LOC'],\n",
       " [2598, 2604, 'LOC'],\n",
       " [2715, 2724, 'PER'],\n",
       " [2759, 2767, 'LOC'],\n",
       " [2779, 2789, 'LOC'],\n",
       " [2804, 2811, 'PER'],\n",
       " [2838, 2844, 'LOC'],\n",
       " [2857, 2864, 'LOC'],\n",
       " [2901, 2917, 'PER'],\n",
       " [2927, 2938, 'PER'],\n",
       " [3098, 3108, 'PER'],\n",
       " [3130, 3136, 'LOC'],\n",
       " [3140, 3147, 'LOC'],\n",
       " [3157, 3163, 'LOC'],\n",
       " [3486, 3493, 'PER']]"
      ]
     },
     "metadata": {},
     "output_type": "display_data"
    }
   ],
   "source": [
    "ii = train_ids.index(\"FRA01201_Feval\")\n",
    "print(train_texts[ii])\n",
    "train_entities[ii]"
   ]
  },
  {
   "cell_type": "code",
   "execution_count": null,
   "metadata": {},
   "outputs": [
    {
     "data": {
      "text/html": [
       "<span class=\"tex2jax_ignore\"><h2 style=\"margin: 0\">FRA01201_Feval</h2>\n",
       "\n",
       "<div class=\"entities\" style=\"line-height: 2.5; direction: ltr\">PREMIÈRE PARTIE -- LA CONSPIRATION EN DENTELLES<br>Où \n",
       "<mark class=\"entity\" style=\"background: #ddd; padding: 0.45em 0.6em; margin: 0 0.25em; line-height: 1; border-radius: 0.35em;\">\n",
       "    Fortune\n",
       "    <span style=\"font-size: 0.8em; font-weight: bold; line-height: 1; border-radius: 0.35em; vertical-align: middle; margin-left: 0.5rem\">PER</span>\n",
       "</mark>\n",
       " établit qu'il a une étoile.<br>— Monseigneur, dit \n",
       "<mark class=\"entity\" style=\"background: #ddd; padding: 0.45em 0.6em; margin: 0 0.25em; line-height: 1; border-radius: 0.35em;\">\n",
       "    Fortune\n",
       "    <span style=\"font-size: 0.8em; font-weight: bold; line-height: 1; border-radius: 0.35em; vertical-align: middle; margin-left: 0.5rem\">PER</span>\n",
       "</mark>\n",
       ", nous autres Français nous n'avons point la vanterie des Espagnols. S'il y a chez nous un défaut, c'est que nous ne savons pas nous faire valoir suffisamment. Je suis brave, mes preuves sont faites, et quant à la prudence, j'en ai en vérité à revendre. À \n",
       "<mark class=\"entity\" style=\"background: #ff9561; padding: 0.45em 0.6em; margin: 0 0.25em; line-height: 1; border-radius: 0.35em;\">\n",
       "    Paris\n",
       "    <span style=\"font-size: 0.8em; font-weight: bold; line-height: 1; border-radius: 0.35em; vertical-align: middle; margin-left: 0.5rem\">LOC</span>\n",
       "</mark>\n",
       ", comme à \n",
       "<mark class=\"entity\" style=\"background: #ff9561; padding: 0.45em 0.6em; margin: 0 0.25em; line-height: 1; border-radius: 0.35em;\">\n",
       "    Florence\n",
       "    <span style=\"font-size: 0.8em; font-weight: bold; line-height: 1; border-radius: 0.35em; vertical-align: middle; margin-left: 0.5rem\">LOC</span>\n",
       "</mark>\n",
       ", à \n",
       "<mark class=\"entity\" style=\"background: #ff9561; padding: 0.45em 0.6em; margin: 0 0.25em; line-height: 1; border-radius: 0.35em;\">\n",
       "    Turin\n",
       "    <span style=\"font-size: 0.8em; font-weight: bold; line-height: 1; border-radius: 0.35em; vertical-align: middle; margin-left: 0.5rem\">LOC</span>\n",
       "</mark>\n",
       " et dans d'autres villes capitales, mon adresse passe en proverbe, et c'est justice, car aussitôt que j'entreprends une affaire elle est dans le sac. En me choisissant, Votre Éminence a eu la main heureuse : je lui en fais mon sincère compliment.<br>C'était un magnifique garçon, à la taille élégante et robuste à la fois. Il disait tout cela en souriant, debout qu'il était, dans une attitude noble mais respectueuse, incliné à demi devant un personnage aux traits sévères et fortement accentués qui portait le costume de prêtre.<br>Il avait, lui, notre beau jeune homme, l'accoutrement d'un cavalier d'\n",
       "<mark class=\"entity\" style=\"background: #ff9561; padding: 0.45em 0.6em; margin: 0 0.25em; line-height: 1; border-radius: 0.35em;\">\n",
       "    Espagne\n",
       "    <span style=\"font-size: 0.8em; font-weight: bold; line-height: 1; border-radius: 0.35em; vertical-align: middle; margin-left: 0.5rem\">LOC</span>\n",
       "</mark>\n",
       ".<br>La plume de son feutre, qu'il tenait à la main et dont les bords étaient relevés à la Castillane, balayait presque le sol.<br>L'expression de son visage était douce, franche, mais légèrement moqueuse, et ses traits auraient péché par une délicatesse un peu efféminée, sans une belle moustache soyeuse et noire, qui relevait ses crocs galamment tordus jusqu'au milieu de sa joue.<br>Il y avait un singulier contraste entre cette figure jeune et charmante, où s'étalait en quelque sorte effrontément toute l'insouciance d'une jeunesse aventureuse, et le front maladif de ce prêtre qui semblait courbé sous les fatigues de la pensée.<br>Ce prêtre était un Italien, fils de jardinier, ancien sonneur de la cathédrale de Plaisance, présentement cardinal, grand d'\n",
       "<mark class=\"entity\" style=\"background: #ff9561; padding: 0.45em 0.6em; margin: 0 0.25em; line-height: 1; border-radius: 0.35em;\">\n",
       "    Espagne\n",
       "    <span style=\"font-size: 0.8em; font-weight: bold; line-height: 1; border-radius: 0.35em; vertical-align: middle; margin-left: 0.5rem\">LOC</span>\n",
       "</mark>\n",
       " de première classe et ministre d'État du \n",
       "<mark class=\"entity\" style=\"background: #ddd; padding: 0.45em 0.6em; margin: 0 0.25em; line-height: 1; border-radius: 0.35em;\">\n",
       "    roi Philippe V\n",
       "    <span style=\"font-size: 0.8em; font-weight: bold; line-height: 1; border-radius: 0.35em; vertical-align: middle; margin-left: 0.5rem\">PER</span>\n",
       "</mark>\n",
       ".<br>Il avait nom \n",
       "<mark class=\"entity\" style=\"background: #ddd; padding: 0.45em 0.6em; margin: 0 0.25em; line-height: 1; border-radius: 0.35em;\">\n",
       "    Jules Alberoni\n",
       "    <span style=\"font-size: 0.8em; font-weight: bold; line-height: 1; border-radius: 0.35em; vertical-align: middle; margin-left: 0.5rem\">PER</span>\n",
       "</mark>\n",
       ", et voulait refaire en plein dix-huitième siècle la grande monarchie de \n",
       "<mark class=\"entity\" style=\"background: #ddd; padding: 0.45em 0.6em; margin: 0 0.25em; line-height: 1; border-radius: 0.35em;\">\n",
       "    Charles-quint\n",
       "    <span style=\"font-size: 0.8em; font-weight: bold; line-height: 1; border-radius: 0.35em; vertical-align: middle; margin-left: 0.5rem\">PER</span>\n",
       "</mark>\n",
       ".<br>La \n",
       "<mark class=\"entity\" style=\"background: #ff9561; padding: 0.45em 0.6em; margin: 0 0.25em; line-height: 1; border-radius: 0.35em;\">\n",
       "    Suède\n",
       "    <span style=\"font-size: 0.8em; font-weight: bold; line-height: 1; border-radius: 0.35em; vertical-align: middle; margin-left: 0.5rem\">LOC</span>\n",
       "</mark>\n",
       ", une portion de l'\n",
       "<mark class=\"entity\" style=\"background: #ff9561; padding: 0.45em 0.6em; margin: 0 0.25em; line-height: 1; border-radius: 0.35em;\">\n",
       "    Italie\n",
       "    <span style=\"font-size: 0.8em; font-weight: bold; line-height: 1; border-radius: 0.35em; vertical-align: middle; margin-left: 0.5rem\">LOC</span>\n",
       "</mark>\n",
       ", toute l'\n",
       "<mark class=\"entity\" style=\"background: #ff9561; padding: 0.45em 0.6em; margin: 0 0.25em; line-height: 1; border-radius: 0.35em;\">\n",
       "    Allemagne\n",
       "    <span style=\"font-size: 0.8em; font-weight: bold; line-height: 1; border-radius: 0.35em; vertical-align: middle; margin-left: 0.5rem\">LOC</span>\n",
       "</mark>\n",
       " du sud, la \n",
       "<mark class=\"entity\" style=\"background: #ff9561; padding: 0.45em 0.6em; margin: 0 0.25em; line-height: 1; border-radius: 0.35em;\">\n",
       "    Turquie\n",
       "    <span style=\"font-size: 0.8em; font-weight: bold; line-height: 1; border-radius: 0.35em; vertical-align: middle; margin-left: 0.5rem\">LOC</span>\n",
       "</mark>\n",
       " et jusqu'à la \n",
       "<mark class=\"entity\" style=\"background: #ff9561; padding: 0.45em 0.6em; margin: 0 0.25em; line-height: 1; border-radius: 0.35em;\">\n",
       "    Russie\n",
       "    <span style=\"font-size: 0.8em; font-weight: bold; line-height: 1; border-radius: 0.35em; vertical-align: middle; margin-left: 0.5rem\">LOC</span>\n",
       "</mark>\n",
       ", qui naissait à peine à l'existence politique, étaient pour lui les éléments d'une redoutable ligue sous laquelle il voulait écraser la \n",
       "<mark class=\"entity\" style=\"background: #ff9561; padding: 0.45em 0.6em; margin: 0 0.25em; line-height: 1; border-radius: 0.35em;\">\n",
       "    France\n",
       "    <span style=\"font-size: 0.8em; font-weight: bold; line-height: 1; border-radius: 0.35em; vertical-align: middle; margin-left: 0.5rem\">LOC</span>\n",
       "</mark>\n",
       " et l'\n",
       "<mark class=\"entity\" style=\"background: #ff9561; padding: 0.45em 0.6em; margin: 0 0.25em; line-height: 1; border-radius: 0.35em;\">\n",
       "    Angleterre\n",
       "    <span style=\"font-size: 0.8em; font-weight: bold; line-height: 1; border-radius: 0.35em; vertical-align: middle; margin-left: 0.5rem\">LOC</span>\n",
       "</mark>\n",
       " : La \n",
       "<mark class=\"entity\" style=\"background: #ff9561; padding: 0.45em 0.6em; margin: 0 0.25em; line-height: 1; border-radius: 0.35em;\">\n",
       "    France\n",
       "    <span style=\"font-size: 0.8em; font-weight: bold; line-height: 1; border-radius: 0.35em; vertical-align: middle; margin-left: 0.5rem\">LOC</span>\n",
       "</mark>\n",
       ", qu'il rêvait province espagnole, et l'\n",
       "<mark class=\"entity\" style=\"background: #ff9561; padding: 0.45em 0.6em; margin: 0 0.25em; line-height: 1; border-radius: 0.35em;\">\n",
       "    Angleterre\n",
       "    <span style=\"font-size: 0.8em; font-weight: bold; line-height: 1; border-radius: 0.35em; vertical-align: middle; margin-left: 0.5rem\">LOC</span>\n",
       "</mark>\n",
       ", où il prétendait réintégrer les Stuarts, sous cette condition que l'Église protestante serait anéantie.<br>On était en 1717. \n",
       "<mark class=\"entity\" style=\"background: #ddd; padding: 0.45em 0.6em; margin: 0 0.25em; line-height: 1; border-radius: 0.35em;\">\n",
       "    Alberoni\n",
       "    <span style=\"font-size: 0.8em; font-weight: bold; line-height: 1; border-radius: 0.35em; vertical-align: middle; margin-left: 0.5rem\">PER</span>\n",
       "</mark>\n",
       " entrait dans sa cinquante cinquième année et atteignait le faîte de sa puissance politique.<br>Dans toute l'\n",
       "<mark class=\"entity\" style=\"background: #ff9561; padding: 0.45em 0.6em; margin: 0 0.25em; line-height: 1; border-radius: 0.35em;\">\n",
       "    Europe\n",
       "    <span style=\"font-size: 0.8em; font-weight: bold; line-height: 1; border-radius: 0.35em; vertical-align: middle; margin-left: 0.5rem\">LOC</span>\n",
       "</mark>\n",
       ", les connaisseurs pariaient pour lui contre l'\n",
       "<mark class=\"entity\" style=\"background: #ff9561; padding: 0.45em 0.6em; margin: 0 0.25em; line-height: 1; border-radius: 0.35em;\">\n",
       "    Angleterre\n",
       "    <span style=\"font-size: 0.8em; font-weight: bold; line-height: 1; border-radius: 0.35em; vertical-align: middle; margin-left: 0.5rem\">LOC</span>\n",
       "</mark>\n",
       " et la \n",
       "<mark class=\"entity\" style=\"background: #ff9561; padding: 0.45em 0.6em; margin: 0 0.25em; line-height: 1; border-radius: 0.35em;\">\n",
       "    France\n",
       "    <span style=\"font-size: 0.8em; font-weight: bold; line-height: 1; border-radius: 0.35em; vertical-align: middle; margin-left: 0.5rem\">LOC</span>\n",
       "</mark>\n",
       ".<br>Outre ces ennemis du dehors, la \n",
       "<mark class=\"entity\" style=\"background: #ff9561; padding: 0.45em 0.6em; margin: 0 0.25em; line-height: 1; border-radius: 0.35em;\">\n",
       "    France\n",
       "    <span style=\"font-size: 0.8em; font-weight: bold; line-height: 1; border-radius: 0.35em; vertical-align: middle; margin-left: 0.5rem\">LOC</span>\n",
       "</mark>\n",
       " avait en effet contre elle, à ce moment, les vices compromettants du régent, les menées des fils légitimes de \n",
       "<mark class=\"entity\" style=\"background: #ddd; padding: 0.45em 0.6em; margin: 0 0.25em; line-height: 1; border-radius: 0.35em;\">\n",
       "    Louis XIV\n",
       "    <span style=\"font-size: 0.8em; font-weight: bold; line-height: 1; border-radius: 0.35em; vertical-align: middle; margin-left: 0.5rem\">PER</span>\n",
       "</mark>\n",
       " et les troubles de la province de \n",
       "<mark class=\"entity\" style=\"background: #ff9561; padding: 0.45em 0.6em; margin: 0 0.25em; line-height: 1; border-radius: 0.35em;\">\n",
       "    Bretagne\n",
       "    <span style=\"font-size: 0.8em; font-weight: bold; line-height: 1; border-radius: 0.35em; vertical-align: middle; margin-left: 0.5rem\">LOC</span>\n",
       "</mark>\n",
       ". Quant à l'\n",
       "<mark class=\"entity\" style=\"background: #ff9561; padding: 0.45em 0.6em; margin: 0 0.25em; line-height: 1; border-radius: 0.35em;\">\n",
       "    Angleterre\n",
       "    <span style=\"font-size: 0.8em; font-weight: bold; line-height: 1; border-radius: 0.35em; vertical-align: middle; margin-left: 0.5rem\">LOC</span>\n",
       "</mark>\n",
       ", le parti des \n",
       "<mark class=\"entity\" style=\"background: #ddd; padding: 0.45em 0.6em; margin: 0 0.25em; line-height: 1; border-radius: 0.35em;\">\n",
       "    Stuarts\n",
       "    <span style=\"font-size: 0.8em; font-weight: bold; line-height: 1; border-radius: 0.35em; vertical-align: middle; margin-left: 0.5rem\">PER</span>\n",
       "</mark>\n",
       " y semblait si puissant en \n",
       "<mark class=\"entity\" style=\"background: #ff9561; padding: 0.45em 0.6em; margin: 0 0.25em; line-height: 1; border-radius: 0.35em;\">\n",
       "    Écosse\n",
       "    <span style=\"font-size: 0.8em; font-weight: bold; line-height: 1; border-radius: 0.35em; vertical-align: middle; margin-left: 0.5rem\">LOC</span>\n",
       "</mark>\n",
       " et aussi en \n",
       "<mark class=\"entity\" style=\"background: #ff9561; padding: 0.45em 0.6em; margin: 0 0.25em; line-height: 1; border-radius: 0.35em;\">\n",
       "    Irlande\n",
       "    <span style=\"font-size: 0.8em; font-weight: bold; line-height: 1; border-radius: 0.35em; vertical-align: middle; margin-left: 0.5rem\">LOC</span>\n",
       "</mark>\n",
       ", que la présence seule du chevalier \n",
       "<mark class=\"entity\" style=\"background: #ddd; padding: 0.45em 0.6em; margin: 0 0.25em; line-height: 1; border-radius: 0.35em;\">\n",
       "    de Saint-Georges\n",
       "    <span style=\"font-size: 0.8em; font-weight: bold; line-height: 1; border-radius: 0.35em; vertical-align: middle; margin-left: 0.5rem\">PER</span>\n",
       "</mark>\n",
       ", fils du \n",
       "<mark class=\"entity\" style=\"background: #ddd; padding: 0.45em 0.6em; margin: 0 0.25em; line-height: 1; border-radius: 0.35em;\">\n",
       "    roi Jacques\n",
       "    <span style=\"font-size: 0.8em; font-weight: bold; line-height: 1; border-radius: 0.35em; vertical-align: middle; margin-left: 0.5rem\">PER</span>\n",
       "</mark>\n",
       ", devait suffire, selon la croyance générale, à déterminer une révolution.<br>Il nous reste à dire que la scène se passait à l'ancien palais d'été de la princesse \n",
       "<mark class=\"entity\" style=\"background: #ddd; padding: 0.45em 0.6em; margin: 0 0.25em; line-height: 1; border-radius: 0.35em;\">\n",
       "    des Ursins\n",
       "    <span style=\"font-size: 0.8em; font-weight: bold; line-height: 1; border-radius: 0.35em; vertical-align: middle; margin-left: 0.5rem\">PER</span>\n",
       "</mark>\n",
       ", dans la campagne de \n",
       "<mark class=\"entity\" style=\"background: #ff9561; padding: 0.45em 0.6em; margin: 0 0.25em; line-height: 1; border-radius: 0.35em;\">\n",
       "    Alcala\n",
       "    <span style=\"font-size: 0.8em; font-weight: bold; line-height: 1; border-radius: 0.35em; vertical-align: middle; margin-left: 0.5rem\">LOC</span>\n",
       "</mark>\n",
       " de \n",
       "<mark class=\"entity\" style=\"background: #ff9561; padding: 0.45em 0.6em; margin: 0 0.25em; line-height: 1; border-radius: 0.35em;\">\n",
       "    Hénarès\n",
       "    <span style=\"font-size: 0.8em; font-weight: bold; line-height: 1; border-radius: 0.35em; vertical-align: middle; margin-left: 0.5rem\">LOC</span>\n",
       "</mark>\n",
       ", près de \n",
       "<mark class=\"entity\" style=\"background: #ff9561; padding: 0.45em 0.6em; margin: 0 0.25em; line-height: 1; border-radius: 0.35em;\">\n",
       "    Madrid\n",
       "    <span style=\"font-size: 0.8em; font-weight: bold; line-height: 1; border-radius: 0.35em; vertical-align: middle; margin-left: 0.5rem\">LOC</span>\n",
       "</mark>\n",
       ".<br>L'œil pensif et demi-clos du cardinal interrogeait avec distraction la riante physionomie de son jeune compagnon.<br>Quand celui-ci eut achevé l'énumération de ses mérites, le cardinal dit entre haut et bas :<br>— Avec cela, seigneur cavalier, vous regorgez de modestie ?<br>— On s'accorde à le reconnaître, Monseigneur, répondit \n",
       "<mark class=\"entity\" style=\"background: #ddd; padding: 0.45em 0.6em; margin: 0 0.25em; line-height: 1; border-radius: 0.35em;\">\n",
       "    Fortune\n",
       "    <span style=\"font-size: 0.8em; font-weight: bold; line-height: 1; border-radius: 0.35em; vertical-align: middle; margin-left: 0.5rem\">PER</span>\n",
       "</mark>\n",
       " avec une entière bonne foi.<br>Et il salua militairement.</div></span>"
      ],
      "text/plain": [
       "<IPython.core.display.HTML object>"
      ]
     },
     "metadata": {},
     "output_type": "display_data"
    }
   ],
   "source": [
    "from spacy import displacy\n",
    "manual_content = {\n",
    "    \"text\": train_texts[ii],\n",
    "    \"ents\": [{\"start\": e[0], \"end\": e[1], \"label\": e[2]} for e in train_entities[ii]],\n",
    "    \"title\": train_ids[ii]\n",
    "}\n",
    "displacy.render(manual_content, manual=True, style=\"ent\", jupyter=True)"
   ]
  },
  {
   "cell_type": "code",
   "execution_count": null,
   "metadata": {},
   "outputs": [
    {
     "data": {
      "text/plain": [
       "\"d'État du roi Philippe V.\\nIl avait\""
      ]
     },
     "metadata": {},
     "output_type": "display_data"
    }
   ],
   "source": [
    "train_texts[ii][1806-10:1820+10]"
   ]
  },
  {
   "cell_type": "code",
   "execution_count": null,
   "metadata": {},
   "outputs": [
    {
     "name": "stdout",
     "output_type": "stream",
     "text": [
      "Warning: could align entity 'roi Philippe V' to computed tokens. Contracting to span 'roi Philippe'.\n"
     ]
    }
   ],
   "source": [
    "nlp = spacy.blank(\"fr\")\n",
    "doc = nlp(train_texts[ii])\n",
    "ents = []\n",
    "for start, end, label in train_entities[ii]:\n",
    "    # print(f\"start: '{start}', end: {end}, label: {label}\")\n",
    "    span = doc.char_span(start, end, label=label)\n",
    "    if span is None:\n",
    "        span = doc.char_span(start, end, label=label, alignment_mode=\"contract\")\n",
    "        print(f\"Warning: could align entity '{train_texts[ii][start:end]}' to computed tokens. Contracting to span '{span}'.\")\n",
    "    # print(f\"\\t{span}\")\n",
    "    ents.append(span)\n",
    "doc.ents = ents"
   ]
  },
  {
   "cell_type": "code",
   "execution_count": null,
   "metadata": {},
   "outputs": [
    {
     "name": "stdout",
     "output_type": "stream",
     "text": [
      "roi\n",
      "Philippe\n",
      "V.\n"
     ]
    }
   ],
   "source": [
    "found = False\n",
    "count = 3\n",
    "for tok in doc:\n",
    "    found = found or (tok.text == \"roi\")\n",
    "    if found:\n",
    "        print(tok,)\n",
    "        count -= 1\n",
    "    if count == 0:\n",
    "        break"
   ]
  }
 ],
 "metadata": {
  "language_info": {
   "name": "python"
  },
  "orig_nbformat": 4
 },
 "nbformat": 4,
 "nbformat_minor": 2
}
