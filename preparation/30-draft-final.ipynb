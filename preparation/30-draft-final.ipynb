{
 "cells": [
  {
   "attachments": {},
   "cell_type": "markdown",
   "metadata": {},
   "source": [
    "# Initiation à la 🔎 reconnaissance d'entités nommées 🔍 avec [Spacy](https://spacy.io/)\n",
    "\n",
    "FIXME AUTEURS / VERSION / DATE via makefile\n",
    "\n",
    "FIXME badge link\n",
    "<a target=\"_blank\" href=\"https://colab.research.google.com/github/jchazalon/hn-ariane-ner-tuto-2023/blob/main/preparation/30-draft-final.ipynb\">\n",
    "  <img src=\"https://colab.research.google.com/assets/colab-badge.svg\" alt=\"Open In Colab\"/>\n",
    "</a>"
   ]
  },
  {
   "attachments": {},
   "cell_type": "markdown",
   "metadata": {},
   "source": [
    "## 1. Introduction — *⏱️ 5 mn*"
   ]
  },
  {
   "attachments": {},
   "cell_type": "markdown",
   "metadata": {},
   "source": [
    "\n",
    "**👋 Bonjour !**\n",
    "\n",
    "Cette activité a pour objectif de vous apprendre à utiliser la bibliothèque [Spacy](https://spacy.io/) et de mettre en place un projet de reconnaissance d'entités nommées (*Named entities recognition*, ou *NER* en anglais).\n",
    "Au travers d'exercices et d'observations simples, vous allez prendre en main un ensemble minimaliste d'outils qui vous permettra d'envisager la chaîne de traitement de données dans son ensemble,\n",
    "et de réappliquer cette approches sur des données de votre choix, après cet atelier, en toute autonomie."
   ]
  },
  {
   "attachments": {},
   "cell_type": "markdown",
   "metadata": {},
   "source": [
    "\n",
    "### Contenu de cette activité"
   ]
  },
  {
   "cell_type": "markdown",
   "metadata": {},
   "source": [
    "\n",
    "TODO auto generate TOC\n",
    "1. [5 mn] introduction\n",
    "1. [5 mn] Installation et généralités à propos de Spacy, manipulation des objets de base\n",
    "1. [5 mn] utilisation d'un modèle de langage existant pour reconnaitre des entités nommées\n",
    "1. [5 mn] traitement des données de notre corpus d'exemple\n",
    "1. [5 mn] évaluation objective de la performance d'un modèle de langage\n",
    "1. [5 mn] aperçu du problème d'annotation pour avoir un jeu de données complet\n",
    "1. [10 mn] comparaison de la performance de modèles de langage pré-entraînés génériques et entraînement d'un modèle spécialisé\n",
    "1. [2 mn] export des données pour une utilisation ultérieure"
   ]
  },
  {
   "attachments": {},
   "cell_type": "markdown",
   "metadata": {},
   "source": [
    "### 🗺️ Symboles utilisés"
   ]
  },
  {
   "cell_type": "markdown",
   "metadata": {},
   "source": [
    "\n",
    "- Au cours de cette activité, vous aurez des actions à réaliser.\n",
    "  Celles-ci sont indiquées par les symboles 🚧, 🏗️, 🛠️.\n",
    "- Certains éléments nécessitant votre attention sont indiqués par des symboles comme 🚨, ⚠️, 👉.\n",
    "- Et finalement, certains éléments sont indiqués pour vous permettre de prolonger cette activité en dehors du créneau réservé, et sont indiqués par le symbole 🤓.\n"
   ]
  },
  {
   "attachments": {},
   "cell_type": "markdown",
   "metadata": {},
   "source": [
    "### Sources et licence"
   ]
  },
  {
   "attachments": {},
   "cell_type": "markdown",
   "metadata": {},
   "source": [
    "\n",
    "Cet atelier est largement tiré du cours “[NLP avancé avec Spacy](https://course.spacy.io/fr)” réalisé par [Ines Montani](https://twitter.com/_inesmontani) (créatrice de [Spacy](https://spacy.io/)) sous [licence MIT](https://www.tldrlegal.com/license/mit-license).\n",
    "Cette licence nous autorise à reprendre, modifier et diffuser son contenu tant que nous indiquons la licence originale :\n",
    "\n",
    ">The MIT License (MIT)\n",
    ">Copyright (C) 2019 Ines Montani\n",
    ">Permission is hereby granted, free of charge, to any person obtaining a copy of this software and associated documentation files (the \"Software\"), to deal in the Software without restriction, including without limitation the rights to use, copy, modify, merge, publish, distribute, sublicense, and/or sell copies of the Software, and to permit persons to whom the Software is furnished to do so, subject to the following conditions:\n",
    "The above copyright notice and this permission notice shall be included in all copies or substantial portions of the Software.\n",
    "THE SOFTWARE IS PROVIDED \"AS IS\", WITHOUT WARRANTY OF ANY KIND, EXPRESS OR IMPLIED, INCLUDING BUT NOT LIMITED TO THE WARRANTIES OF MERCHANTABILITY, FITNESS FOR A PARTICULAR PURPOSE AND NONINFRINGEMENT. IN NO EVENT SHALL THE AUTHORS OR COPYRIGHT HOLDERS BE LIABLE FOR ANY CLAIM, DAMAGES OR OTHER LIABILITY, WHETHER IN AN ACTION OF CONTRACT, TORT OR OTHERWISE, ARISING FROM, OUT OF OR IN CONNECTION WITH THE SOFTWARE OR THE USE OR OTHER DEALINGS IN THE SOFTWARE.\n",
    "\n",
    "\n",
    "Les données de cet atelier sont adaptées du “[French ELTEC NER Open Dataset](http://hdl.handle.net/20.500.11752/OPEN-986)” par Carmen Brando, Francesca Frontini, et Ioana Galleron sous licence [Creative Commons - Attribution-ShareAlike 4.0 International (CC BY-SA 4.0)](http://creativecommons.org/licenses/by-sa/4.0/). \n",
    "\n",
    "> Brando, Carmen; Frontini, Francesca and Galleron, Ioana, 2022, French ELTEC NER Open Dataset, ILC-CNR for CLARIN-IT repository hosted at Institute for Computational Linguistics \"A. Zampolli\", National Research Council, in Pisa, [http://hdl.handle.net/20.500.11752/OPEN-986](http://hdl.handle.net/20.500.11752/OPEN-986).\n",
    "\n",
    "Ce cours et les données associées sont sous licence [Creative Commons - Attribution-ShareAlike 4.0 International (CC BY-SA 4.0)](http://creativecommons.org/licenses/by-sa/4.0/).\n",
    "Pour citer ce travail, merci d'indiquer :\n",
    "\n",
    "> Consortium HumaNum Ariane, Joseph Chazalon, Atelier d'initiation à l'extraction d'entités nommées, en ligne: <https://github.com/jchazalon/hn-ariane-ner-tuto-2023>, 9 novembre 2023, Lyon."
   ]
  },
  {
   "attachments": {},
   "cell_type": "markdown",
   "metadata": {},
   "source": [
    "### 🚀 C'est parti !"
   ]
  },
  {
   "cell_type": "markdown",
   "metadata": {},
   "source": [
    "Voici le lien vers la présentation : <https://docs.google.com/presentation/d/1_RycfOOeQo8XZNojsx7SzaSDyhepj-8n8w7xMpf9UGI/edit>\n",
    "\n",
    "Vous pouvez aussi accéder à toute les fichiers de cette activité (pour les télécharger par exemple) sur GitHub : <https://github.com/jchazalon/hn-ariane-ner-tuto-2023>\n",
    "\n",
    "**Démarrez l'activité dès l'introduction générale par les formateurs terminée !**\n",
    "\n",
    "Parcourez ce *notebook* dans l'ordre, et n'hésitez pas à solliciter les formateurs dès que vous avez une question.\n",
    "Aux étapes clés de l'atelier, ces derniers utiliseront les supports de cours pour introduire certaines notions collectivement.\n",
    "Vous pouvez cependant avancer à votre rythme en toute autonomie."
   ]
  },
  {
   "attachments": {},
   "cell_type": "markdown",
   "metadata": {},
   "source": [
    "## 2. Installation et généralités à propos de Spacy — *⏱️ 5 mn*\n",
    "Dans cette section, nous allons installer *Spacy* et comprendre quelques principes de base essentiels.\n",
    "\n",
    "En particulier, nous allons nous intéresser aux objets représentant un modèle de langage et un « document » en cours d'analyse."
   ]
  },
  {
   "attachments": {},
   "cell_type": "markdown",
   "metadata": {},
   "source": [
    "### Installation de Spacy\n",
    "Avant toute autre chose, nous devons installer *Spacy* !\n",
    "\n",
    "Nous avons préparé un fichier décrivant les paquets Python nécessaires à la réalisation de cette activité.\n",
    "Si vous n'avez pas déjà installé et configuré un environnement de travail, vous pouvez exécuter la cellule suivante pour le faire.\n",
    "\n",
    "🤓 Notez le `!` qui précède l'instruction : il signifie que la ligne n'est pas une instruction Python mais une instruction shell, exécutée sur la machine qui exécute ce *notebook*."
   ]
  },
  {
   "attachments": {},
   "cell_type": "markdown",
   "metadata": {},
   "source": [
    "#### 🚧 Exécutez la cellule suivante pour installer Spacy et les autres outils nécessaires"
   ]
  },
  {
   "cell_type": "code",
   "execution_count": null,
   "metadata": {},
   "outputs": [],
   "source": [
    "!pip install -r requirements.txt"
   ]
  },
  {
   "attachments": {},
   "cell_type": "markdown",
   "metadata": {},
   "source": [
    "### Import de la bibliothèque\n",
    "Pour rendre disponible les objets, fonctions et autres éléments proposés par la bibliothèque, nous avons besoin de la charger et de définir un nom qui permet d'y faire référence.\n",
    "\n",
    "C'est le rôle de l'instruction `import`."
   ]
  },
  {
   "attachments": {},
   "cell_type": "markdown",
   "metadata": {},
   "source": [
    "#### 🚧 Exécutez la cellule suivante pour importer *Spacy* dans votre environnement d'exécution"
   ]
  },
  {
   "cell_type": "code",
   "execution_count": 2,
   "metadata": {},
   "outputs": [],
   "source": [
    "import spacy"
   ]
  },
  {
   "attachments": {},
   "cell_type": "markdown",
   "metadata": {},
   "source": [
    "### L'objet [`Language`](https://spacy.io/api/language)\n",
    "L'objet [`Language`](https://spacy.io/api/language) sert à représenter une chaîne de traitements qui \n",
    "- possède une représentation interne d'un langage \n",
    "- et permet de calculer un certain nombre d'éléments à partir d'un texte ou d'autres éléments déjà calculés.\n",
    "\n",
    "On peut construire une nouvelle chaîne de traitements de plusieurs façon.\n",
    "La manière la plus simple est de construire une chaîne de traitement **vide** (ou presque) pour le français à l'aide de la \"fabrique\" à chaînes de traitement [`spacy.blank(LANGAGE)`](https://spacy.io/api/top-level/#spacy.blank)."
   ]
  },
  {
   "attachments": {},
   "cell_type": "markdown",
   "metadata": {},
   "source": [
    "#### 🚧 Complétez et exécutez la cellule suivante pour créer un modèle de langue vide 🪹 pour le français 🇫🇷\n",
    "<details>\n",
    "<summary>Cliquez ici pour voir un indice</summary>\n",
    "\n",
    "N'hésitez pas à consulter l'aide officielle de la fonction [`spacy.blank(LANGAGE)`](https://spacy.io/api/top-level/#spacy.blank) pour savoir comment l'utiliser !\n",
    "\n",
    "</details>\n",
    "<br>\n",
    "<details>\n",
    "<summary>Cliquez ici pour voir la solution</summary>\n",
    "\n",
    "```python\n",
    "nlp = spacy.blank(\"fr\")\n",
    "```\n",
    "\n",
    "</details>"
   ]
  },
  {
   "cell_type": "code",
   "execution_count": null,
   "metadata": {},
   "outputs": [],
   "source": [
    "nlp = spacy._____(____)"
   ]
  },
  {
   "cell_type": "code",
   "execution_count": 3,
   "metadata": {
    "tags": [
     "teacher"
    ]
   },
   "outputs": [],
   "source": [
    "# TEACHER\n",
    "nlp = spacy.blank(\"fr\")"
   ]
  },
  {
   "cell_type": "markdown",
   "metadata": {},
   "source": [
    "\n",
    "La chaîne de traitements contient différents traitements appliqués les uns après les autres.\n",
    "On peut afficher cette liste de traitements à l'aide de l'attribut `pipe_names` de l'objet `nlp`."
   ]
  },
  {
   "cell_type": "code",
   "execution_count": 4,
   "metadata": {},
   "outputs": [
    {
     "data": {
      "text/plain": [
       "[]"
      ]
     },
     "execution_count": 4,
     "metadata": {},
     "output_type": "execute_result"
    }
   ],
   "source": [
    "nlp.pipe_names"
   ]
  },
  {
   "cell_type": "markdown",
   "metadata": {},
   "source": [
    "Par défaut, une chaîne de traitement ne contient rien… Sauf un *tokenizer*, d'où l'importance de préciser la langue !"
   ]
  },
  {
   "attachments": {},
   "cell_type": "markdown",
   "metadata": {},
   "source": [
    "### L'objet [`Doc`](https://spacy.io/api/doc)\n",
    "On obtient un objet [`Doc`](https://spacy.io/api/doc) en appliquant la chaîne de traitement [`Language`](https://spacy.io/api/language) à une chaîne de texte.\n",
    "\n",
    "Cet objet [`Doc`](https://spacy.io/api/doc) est central pour Spacy car il va être progressivement enrichi par chacun de traitements qui va venir y piocher les informations dont il a besoin en entrée, et ajouter les informations qu'il a calculées.\n",
    "\n",
    "Ce principe est résumé dans la figure suivante, extraire de la documentation officielle de Spacy :  \n",
    "![](https://spacy.io/images/pipeline.svg)\n",
    "\n",
    "Par exemple, le composant \"ner\" (que nous utiliserons plus tard) va venir affecter une étiquette (*\"label\"*) à chacun des *tokens* du document. Il va stocker cette information dans un nouvel attribut `doc.ents` du document.\n",
    "\n",
    "L'attribut `doc.text` contient quant à lui la liste des *tokens* extraits.\n",
    "\n",
    "<!-- More complex architecture diagram ![](https://spacy.io/images/architecture.svg) -->\n",
    "\n",
    "Pour appliquer un modèle de langue à une chaîne de texte, il suffit d'utiliser la variable `nlp` créé comme une fonction !"
   ]
  },
  {
   "attachments": {},
   "cell_type": "markdown",
   "metadata": {},
   "source": [
    "#### 🚧 Exécutez la cellule suivante"
   ]
  },
  {
   "cell_type": "code",
   "execution_count": 7,
   "metadata": {},
   "outputs": [],
   "source": [
    "# Créé en traitant une chaine de caractères avec l'objet nlp\n",
    "doc = nlp(\"Bonjour tout le monde !\")"
   ]
  },
  {
   "cell_type": "markdown",
   "metadata": {},
   "source": [
    "On peut parcourir les *tokens* extraits d'un [`Doc`](https://spacy.io/api/doc) à l'aide d'une boucle classique en Python."
   ]
  },
  {
   "attachments": {},
   "cell_type": "markdown",
   "metadata": {},
   "source": [
    "### L'objet [`Token`](https://spacy.io/api/token)"
   ]
  },
  {
   "attachments": {},
   "cell_type": "markdown",
   "metadata": {},
   "source": [
    "#### 🚧 Complétez et exécutez la cellule suivante pour afficher le contenu de chaque token du document\n",
    "Un objet [`Token`](https://spacy.io/api/token) contient un certain nombre d'[attributs](https://spacy.io/api/token#attributes) intéressants.\n",
    "\n",
    "Tous ces attributs ne sont pas nécessairement calculés avec un modèle de langue vide, mais il est déjà possible d'en observer un certain nombre.\n",
    "En particulier, vous devez utiliser l'attribut `Token.text` pour accéder à sa représentation textuelle.\n",
    "\n",
    "<details>\n",
    "<summary>Solution</summary>\n",
    "\n",
    "```python\n",
    "for token in doc:\n",
    "    print(token.text)\n",
    "```\n",
    "\n",
    "</details>"
   ]
  },
  {
   "cell_type": "code",
   "execution_count": 9,
   "metadata": {},
   "outputs": [
    {
     "name": "stdout",
     "output_type": "stream",
     "text": [
      "Bonjour\n",
      "tout\n",
      "le\n",
      "monde\n",
      "!\n"
     ]
    }
   ],
   "source": [
    "# Itère sur les tokens dans un Doc\n",
    "for ____ in ____:\n",
    "    print(____.____)"
   ]
  },
  {
   "cell_type": "code",
   "execution_count": 10,
   "metadata": {
    "tags": [
     "teacher"
    ]
   },
   "outputs": [
    {
     "name": "stdout",
     "output_type": "stream",
     "text": [
      "Bonjour\n",
      "tout\n",
      "le\n",
      "monde\n",
      "!\n"
     ]
    }
   ],
   "source": [
    "# TEACHER\n",
    "# Itère sur les tokens dans un Doc\n",
    "for token in doc:\n",
    "    print(token.text)\n",
    "    # REMARQUE : on peut utiliser `print(token)` directement,\n",
    "    # mais c'est piègeux car l'affichage semble être celui d'une chaîne de caractères"
   ]
  },
  {
   "attachments": {},
   "cell_type": "markdown",
   "metadata": {},
   "source": [
    "Il est possible d'obtenir des informations utile à propos des *tokens* de notre document sans même avoir besoin d'utiliser un modèle de langue complexe.\n",
    "\n",
    "Voici un exemple que vous pouvez observer, qui tire profit des [attributs](https://spacy.io/api/token#attributes) `Token.i` (qui indique l'identifiant du *token* au sein du document parent), `Token.is_alpha`, `Token.is_punct` et `Token.like_num`. "
   ]
  },
  {
   "cell_type": "markdown",
   "metadata": {},
   "source": [
    "#### 🚧 Exécutez la cellule suivante"
   ]
  },
  {
   "cell_type": "code",
   "execution_count": null,
   "metadata": {},
   "outputs": [
    {
     "name": "stdout",
     "output_type": "stream",
     "text": [
      "Index :    [0, 1, 2, 3, 4]\n",
      "Text :     ['Cela', 'coûte', '5', '€', '.']\n",
      "is_alpha : [True, True, False, False, False]\n",
      "is_punct : [False, False, False, False, True]\n",
      "like_num : [False, False, True, False, False]\n"
     ]
    }
   ],
   "source": [
    "## Autres attributs des tokens et des spans\n",
    "\n",
    "doc = nlp(\"Cela coûte 5 €.\")\n",
    "\n",
    "print(\"Index :   \", [token.i for token in doc])\n",
    "print(\"Text :    \", [token.text for token in doc])\n",
    "\n",
    "print(\"is_alpha :\", [token.is_alpha for token in doc])\n",
    "print(\"is_punct :\", [token.is_punct for token in doc])\n",
    "print(\"like_num :\", [token.like_num for token in doc])"
   ]
  },
  {
   "attachments": {},
   "cell_type": "markdown",
   "metadata": {},
   "source": [
    "Il est également possible d'accéder à un token particulier, grâce à son indice dans le document."
   ]
  },
  {
   "attachments": {},
   "cell_type": "markdown",
   "metadata": {},
   "source": [
    "#### 🚧 Exécutez la cellule suivante pour afficher le premier token du document\n",
    "N'hésitez pas à en afficher d'autres pour observer ce comportement.\n",
    "\n",
    "🤓 Notez qu'il n'est pas toujours nécessaire d'appeler `print()` avec Jupyter : la valeur de retour de la dernière instruction sera affichée, au format texte par défaut ou au format HTML si une représentation plus riche est disponible."
   ]
  },
  {
   "cell_type": "code",
   "execution_count": 11,
   "metadata": {},
   "outputs": [
    {
     "data": {
      "text/plain": [
       "Bonjour"
      ]
     },
     "execution_count": 11,
     "metadata": {},
     "output_type": "execute_result"
    }
   ],
   "source": [
    "# On peut sélectionner un token particulier, grâce à son indice dans le document\n",
    "token = doc[0]\n",
    "token"
   ]
  },
  {
   "cell_type": "markdown",
   "metadata": {},
   "source": [
    "### L'objet [Span](https://spacy.io/api/span)"
   ]
  },
  {
   "attachments": {},
   "cell_type": "markdown",
   "metadata": {},
   "source": [
    "L'objet [Span](https://spacy.io/api/span) est un autre objet utile à connaître, qui représente un séquence de *tokens* contiguë au sein d'un document."
   ]
  },
  {
   "attachments": {},
   "cell_type": "markdown",
   "metadata": {},
   "source": [
    "#### 🚧 <b>Essayez à présent de sélectionner et afficher les <i>tokens</i> \"tout le monde\".</b>\n",
    "\n",
    "<details>\n",
    "<summary>Indices</summary>\n",
    "\n",
    "Vous pouvez utiliser les *ranges* pour sélectionner plusieurs éléments d'un itérable. Voici un exemple de la syntaxe à utiliser :\n",
    "```python\n",
    "ma_liste = [0, 1, 2, 3]\n",
    "print(ma_liste[1:3])\n",
    "# Affiche : [1, 2]\n",
    "```\n",
    "</details>\n",
    "\n",
    "<details>\n",
    "<summary>Solution</summary>\n",
    "\n",
    "On applique cette syntaxe pour sélectionner les tokens du rang 1 (2e token, inclus) au rang 4 (non inclus) :\n",
    "\n",
    "```python\n",
    "span = doc[1:4]\n",
    "span\n",
    "```\n",
    "</details>\n"
   ]
  },
  {
   "cell_type": "code",
   "execution_count": null,
   "metadata": {},
   "outputs": [
    {
     "data": {
      "text/plain": [
       "tout le monde"
      ]
     },
     "metadata": {},
     "output_type": "display_data"
    }
   ],
   "source": [
    "# On peut également utiliser les \"ranges\" Python pour sélectionner plusieurs tokens\n",
    "span = doc[____]\n",
    "span"
   ]
  },
  {
   "cell_type": "code",
   "execution_count": 13,
   "metadata": {
    "tags": [
     "teacher"
    ]
   },
   "outputs": [
    {
     "data": {
      "text/plain": [
       "tout le monde"
      ]
     },
     "execution_count": 13,
     "metadata": {},
     "output_type": "execute_result"
    }
   ],
   "source": [
    "# TEACHER\n",
    "# On peut également utiliser les \"ranges\" Python pour sélectionner plusieurs tokens\n",
    "span = doc[1:4]\n",
    "span"
   ]
  },
  {
   "attachments": {},
   "cell_type": "markdown",
   "metadata": {},
   "source": [
    "À l'instar des objets Token, ils possèdent également des [attributs](https://spacy.io/api/span#attributes) intéressants, comme par exemple `Span.text` pour obtenir une représentation textuelle."
   ]
  },
  {
   "cell_type": "markdown",
   "metadata": {},
   "source": [
    "#### 🚧 Exécutez la cellule suivante"
   ]
  },
  {
   "cell_type": "code",
   "execution_count": 14,
   "metadata": {},
   "outputs": [
    {
     "data": {
      "text/plain": [
       "'tout le monde'"
      ]
     },
     "execution_count": 14,
     "metadata": {},
     "output_type": "execute_result"
    }
   ],
   "source": [
    "# On peut également accéder aux attributs d'un span\n",
    "span.text"
   ]
  },
  {
   "attachments": {},
   "cell_type": "markdown",
   "metadata": {},
   "source": [
    "\n",
    "## 3. Reconnaître des entités nommées avec un modèle existant, et visualiser les résultats — *⏱️ 5 mn*\n"
   ]
  },
  {
   "cell_type": "code",
   "execution_count": null,
   "metadata": {},
   "outputs": [],
   "source": []
  },
  {
   "cell_type": "code",
   "execution_count": null,
   "metadata": {},
   "outputs": [],
   "source": []
  },
  {
   "cell_type": "code",
   "execution_count": null,
   "metadata": {},
   "outputs": [],
   "source": []
  },
  {
   "cell_type": "code",
   "execution_count": null,
   "metadata": {},
   "outputs": [],
   "source": []
  },
  {
   "cell_type": "code",
   "execution_count": null,
   "metadata": {},
   "outputs": [],
   "source": []
  },
  {
   "attachments": {},
   "cell_type": "markdown",
   "metadata": {},
   "source": [
    "## 4. Traiter les données de notre corpus d'exemple — *⏱️ 5 mn*\n"
   ]
  },
  {
   "attachments": {},
   "cell_type": "markdown",
   "metadata": {},
   "source": [
    "## 5. Évaluer objective la performance d'un modèle de langage — *⏱️ 5 mn*\n",
    "\n",
    "Faire l'évaluation sur le jeu de données complet ici pour simplifier."
   ]
  },
  {
   "attachments": {},
   "cell_type": "markdown",
   "metadata": {},
   "source": [
    "## 6. Annoter un jeu de données complet : aperçu du problème — *⏱️ 5 mn*\n"
   ]
  },
  {
   "attachments": {},
   "cell_type": "markdown",
   "metadata": {},
   "source": [
    "## 7. Entraîner un modèle spécialisé et comparer sa performance — *⏱️ 10 mn*\n",
    "\n",
    "train/test split\n",
    "\n",
    "train\n",
    "\n",
    "load\n",
    "\n",
    "eval trained\n",
    "\n",
    "eval fr-sm, fr-lg\n",
    "\n",
    "comparer et conclure"
   ]
  },
  {
   "attachments": {},
   "cell_type": "markdown",
   "metadata": {},
   "source": [
    "## 8. Export des données pour une utilisation ultérieure — *⏱️ 2 mn*\n",
    "\n",
    "TODO code pour sauvegarde sur Google Drive, vérifier format avec Carmen si on connecte les 2 ateliers (inutile selon moi, il suffit de se baser sur la vérité terrain)"
   ]
  }
 ],
 "metadata": {
  "kernelspec": {
   "display_name": "hn-ariane-ner-tuto-2023-PwR_0BG5",
   "language": "python",
   "name": "python3"
  },
  "language_info": {
   "codemirror_mode": {
    "name": "ipython",
    "version": 3
   },
   "file_extension": ".py",
   "mimetype": "text/x-python",
   "name": "python",
   "nbconvert_exporter": "python",
   "pygments_lexer": "ipython3",
   "version": "3.10.12"
  },
  "orig_nbformat": 4
 },
 "nbformat": 4,
 "nbformat_minor": 2
}
