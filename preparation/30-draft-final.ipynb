{
 "cells": [
  {
   "attachments": {},
   "cell_type": "markdown",
   "metadata": {},
   "source": [
    "# Initiation à la 🔎 reconnaissance d'entités nommées 🔍 avec [Spacy](https://spacy.io/)\n",
    "\n",
    "FIXME AUTEURS / VERSION / DATE via makefile\n",
    "\n",
    "[![](https://img.shields.io/badge/Google_%20_Colab-Cliquez_ici_pour_éditer_ce_notebook-blue?logo=googlecolab)](https://colab.research.google.com/github/jchazalon/hn-ariane-ner-tuto-2023/blob/main/preparation/30-draft-final.ipynb)"
   ]
  },
  {
   "attachments": {},
   "cell_type": "markdown",
   "metadata": {},
   "source": [
    "## 1. Introduction — *⏱️ 5 mn*"
   ]
  },
  {
   "attachments": {},
   "cell_type": "markdown",
   "metadata": {},
   "source": [
    "\n",
    "**👋 Bonjour !**\n",
    "\n",
    "Cette activité a pour objectif de vous apprendre à utiliser la bibliothèque [Spacy](https://spacy.io/) et de mettre en place un projet de reconnaissance d'entités nommées (*[Named entities recognition](https://en.wikipedia.org/wiki/Named-entity_recognition)*, ou *NER* en anglais).\n",
    "\n",
    "Au travers d'exercices et d'observations simples qui vous permettront d'envisager la chaîne de traitement de données dans son ensemble, vous allez prendre en main quelques d'outils essentiels.\n",
    "Ainsi, vous devriez pouvoir réappliquer cette approche sur des données de votre choix, après cet atelier, en toute autonomie."
   ]
  },
  {
   "attachments": {},
   "cell_type": "markdown",
   "metadata": {},
   "source": [
    "\n",
    "### Contenu de cette activité"
   ]
  },
  {
   "cell_type": "markdown",
   "metadata": {},
   "source": [
    "\n",
    "TODO auto generate TOC\n",
    "1. [5 mn] introduction\n",
    "1. [5 mn] Installation et généralités à propos de Spacy, manipulation des objets de base\n",
    "1. [5 mn] utilisation d'un modèle de langage existant pour reconnaitre des entités nommées\n",
    "1. [5 mn] traitement des données de notre corpus d'exemple\n",
    "1. [5 mn] évaluation objective de la performance d'un modèle de langage\n",
    "1. [5 mn] aperçu du problème d'annotation pour avoir un jeu de données complet\n",
    "1. [10 mn] comparaison de la performance de modèles de langage pré-entraînés génériques et entraînement d'un modèle spécialisé\n",
    "1. [2 mn] export des données pour une utilisation ultérieure"
   ]
  },
  {
   "attachments": {},
   "cell_type": "markdown",
   "metadata": {},
   "source": [
    "### 🗺️ Symboles utilisés"
   ]
  },
  {
   "cell_type": "markdown",
   "metadata": {},
   "source": [
    "\n",
    "- Au cours de cette activité, vous aurez des actions à réaliser.\n",
    "  Celles-ci sont indiquées par les symboles 🚧, 🏗️, 🛠️, 👷.\n",
    "- Certains éléments nécessitant votre attention sont indiqués par des symboles comme 🚨, ⚠️, 👉.\n",
    "- Et finalement, certains éléments sont indiqués pour vous permettre de prolonger cette activité en dehors du créneau réservé et sont indiqués par le symbole 🤓.\n"
   ]
  },
  {
   "attachments": {},
   "cell_type": "markdown",
   "metadata": {},
   "source": [
    "### Sources et licence"
   ]
  },
  {
   "attachments": {},
   "cell_type": "markdown",
   "metadata": {},
   "source": [
    "\n",
    "Cet atelier est largement tiré du cours “[NLP avancé avec Spacy](https://course.spacy.io/fr)” réalisé par [Ines Montani](https://twitter.com/_inesmontani) (créatrice de [Spacy](https://spacy.io/)) sous [licence MIT](https://www.tldrlegal.com/license/mit-license).\n",
    "Cette licence nous autorise à reprendre, modifier et diffuser son contenu tant que nous indiquons la licence originale :\n",
    "\n",
    ">The MIT License (MIT)\n",
    ">Copyright (C) 2019 Ines Montani\n",
    ">Permission is hereby granted, free of charge, to any person obtaining a copy of this software and associated documentation files (the \"Software\"), to deal in the Software without restriction, including without limitation the rights to use, copy, modify, merge, publish, distribute, sublicense, and/or sell copies of the Software, and to permit persons to whom the Software is furnished to do so, subject to the following conditions:\n",
    "The above copyright notice and this permission notice shall be included in all copies or substantial portions of the Software.\n",
    "THE SOFTWARE IS PROVIDED \"AS IS\", WITHOUT WARRANTY OF ANY KIND, EXPRESS OR IMPLIED, INCLUDING BUT NOT LIMITED TO THE WARRANTIES OF MERCHANTABILITY, FITNESS FOR A PARTICULAR PURPOSE AND NONINFRINGEMENT. IN NO EVENT SHALL THE AUTHORS OR COPYRIGHT HOLDERS BE LIABLE FOR ANY CLAIM, DAMAGES OR OTHER LIABILITY, WHETHER IN AN ACTION OF CONTRACT, TORT OR OTHERWISE, ARISING FROM, OUT OF OR IN CONNECTION WITH THE SOFTWARE OR THE USE OR OTHER DEALINGS IN THE SOFTWARE.\n",
    "\n",
    "\n",
    "Les données de cet atelier sont adaptées du “[French ELTEC NER Open Dataset](http://hdl.handle.net/20.500.11752/OPEN-986)” par Carmen Brando, Francesca Frontini, et Ioana Galleron sous licence [Creative Commons - Attribution-ShareAlike 4.0 International (CC BY-SA 4.0)](http://creativecommons.org/licenses/by-sa/4.0/). \n",
    "\n",
    "> Brando, Carmen; Frontini, Francesca and Galleron, Ioana, 2022, French ELTEC NER Open Dataset, ILC-CNR for CLARIN-IT repository hosted at Institute for Computational Linguistics \"A. Zampolli\", National Research Council, in Pisa, [http://hdl.handle.net/20.500.11752/OPEN-986](http://hdl.handle.net/20.500.11752/OPEN-986).\n",
    "\n",
    "Ce cours et les données associées sont sous licence [Creative Commons - Attribution-ShareAlike 4.0 International (CC BY-SA 4.0)](http://creativecommons.org/licenses/by-sa/4.0/).\n",
    "Pour citer ce travail, merci d'indiquer :\n",
    "\n",
    "> Consortium HumaNum Ariane, Joseph Chazalon, Atelier d'initiation à l'extraction d'entités nommées, en ligne : <https://github.com/jchazalon/hn-ariane-ner-tuto-2023>, 9 novembre 2023, Lyon."
   ]
  },
  {
   "attachments": {},
   "cell_type": "markdown",
   "metadata": {},
   "source": [
    "### 🚀 C'est parti !"
   ]
  },
  {
   "cell_type": "markdown",
   "metadata": {},
   "source": [
    "Voici le lien vers la présentation : <https://docs.google.com/presentation/d/1_RycfOOeQo8XZNojsx7SzaSDyhepj-8n8w7xMpf9UGI/edit>\n",
    "\n",
    "Vous pouvez aussi accéder à tous les fichiers de cette activité (pour les télécharger par exemple) sur GitHub : <https://github.com/jchazalon/hn-ariane-ner-tuto-2023>\n",
    "\n",
    "**Démarrez l'activité dès l'introduction générale par les formateurs terminée !**\n",
    "\n",
    "Parcourez ce *notebook* dans l'ordre, et n'hésitez pas à solliciter les formateurs dès que vous avez une question.\n",
    "Aux étapes clés de l'atelier, ces derniers utiliseront les supports de cours pour introduire certaines notions collectivement.\n",
    "Vous pouvez cependant avancer à votre rythme en toute autonomie."
   ]
  },
  {
   "attachments": {},
   "cell_type": "markdown",
   "metadata": {},
   "source": [
    "## 2. Installation et généralités à propos de Spacy — *⏱️ 5 mn*\n",
    "Dans cette section, nous allons installer *Spacy* et comprendre quelques principes de base essentiels.\n",
    "\n",
    "En particulier, nous allons nous intéresser aux objets représentant un modèle de langage et un « document » en cours d'analyse."
   ]
  },
  {
   "attachments": {},
   "cell_type": "markdown",
   "metadata": {},
   "source": [
    "### Installation de Spacy\n",
    "Avant toute autre chose, nous devons installer *Spacy* !\n",
    "\n",
    "Nous avons préparé un fichier décrivant les paquets Python nécessaires à la réalisation de cette activité.\n",
    "Si vous n'avez pas déjà installé et configuré un environnement de travail, vous pouvez exécuter la cellule suivante pour le faire.\n",
    "\n",
    "🤓 Notez le `!` qui précède l'instruction : il signifie que la ligne n'est pas une instruction Python, mais une instruction shell exécutée sur la machine qui exécute ce *notebook*."
   ]
  },
  {
   "attachments": {},
   "cell_type": "markdown",
   "metadata": {},
   "source": [
    "#### 🚧 Exécutez la cellule suivante pour installer Spacy et les autres outils nécessaires"
   ]
  },
  {
   "cell_type": "code",
   "execution_count": null,
   "metadata": {},
   "outputs": [],
   "source": [
    "!pip install -r requirements.txt"
   ]
  },
  {
   "attachments": {},
   "cell_type": "markdown",
   "metadata": {},
   "source": [
    "### Import de la bibliothèque\n",
    "Pour rendre disponible les objets, fonctions et autres éléments proposés par la bibliothèque, nous avons besoin de la charger et de définir un nom qui permet d'y faire référence.\n",
    "\n",
    "C'est le rôle de l'instruction `import`."
   ]
  },
  {
   "attachments": {},
   "cell_type": "markdown",
   "metadata": {},
   "source": [
    "#### 🚧 Exécutez la cellule suivante pour importer *Spacy* dans votre environnement d'exécution"
   ]
  },
  {
   "cell_type": "code",
   "execution_count": 1,
   "metadata": {},
   "outputs": [],
   "source": [
    "import spacy"
   ]
  },
  {
   "attachments": {},
   "cell_type": "markdown",
   "metadata": {},
   "source": [
    "### L'objet [`Language`](https://spacy.io/api/language)\n",
    "L'objet [`Language`](https://spacy.io/api/language) sert à représenter une chaîne de traitements qui \n",
    "- possède une représentation interne d'un langage \n",
    "- et permet de calculer un certain nombre d'éléments à partir d'un texte ou d'autres éléments déjà calculés.\n",
    "\n",
    "On peut construire une nouvelle chaîne de traitements de plusieurs façons.\n",
    "La manière la plus simple est de construire une chaîne de traitement **vide** (ou presque) pour le français à l'aide de la \"fabrique\" à chaînes de traitement [`spacy.blank(LANGAGE)`](https://spacy.io/api/top-level/#spacy.blank)."
   ]
  },
  {
   "attachments": {},
   "cell_type": "markdown",
   "metadata": {},
   "source": [
    "#### 🚧 Complétez et exécutez la cellule suivante pour créer un modèle de langue vide 🪹 pour le français 🇫🇷\n",
    "<details>\n",
    "<summary>Cliquez ici pour voir un indice</summary>\n",
    "\n",
    "N'hésitez pas à consulter l'aide officielle de la fonction [`spacy.blank(LANGAGE)`](https://spacy.io/api/top-level/#spacy.blank) pour savoir comment l'utiliser !\n",
    "\n",
    "</details>\n",
    "<br>\n",
    "<details>\n",
    "<summary>Cliquez ici pour voir la solution</summary>\n",
    "\n",
    "```python\n",
    "nlp = spacy.blank(\"fr\")\n",
    "```\n",
    "\n",
    "</details>"
   ]
  },
  {
   "cell_type": "code",
   "execution_count": null,
   "metadata": {},
   "outputs": [],
   "source": [
    "nlp = spacy._____(____)"
   ]
  },
  {
   "cell_type": "code",
   "execution_count": 2,
   "metadata": {
    "tags": [
     "teacher"
    ]
   },
   "outputs": [],
   "source": [
    "# TEACHER\n",
    "nlp = spacy.blank(\"fr\")"
   ]
  },
  {
   "cell_type": "markdown",
   "metadata": {},
   "source": [
    "\n",
    "La chaîne de traitements contient différents traitements appliqués les uns après les autres.\n",
    "On peut afficher cette liste de traitements à l'aide de l'attribut `pipe_names` de l'objet `nlp`."
   ]
  },
  {
   "cell_type": "code",
   "execution_count": 3,
   "metadata": {},
   "outputs": [
    {
     "data": {
      "text/plain": [
       "[]"
      ]
     },
     "execution_count": 3,
     "metadata": {},
     "output_type": "execute_result"
    }
   ],
   "source": [
    "nlp.pipe_names"
   ]
  },
  {
   "cell_type": "markdown",
   "metadata": {},
   "source": [
    "Par défaut, une chaîne de traitement ne contient rien… Sauf un *tokenizer*, d'où l'importance de préciser la langue !"
   ]
  },
  {
   "attachments": {},
   "cell_type": "markdown",
   "metadata": {},
   "source": [
    "### L'objet [`Doc`](https://spacy.io/api/doc)\n",
    "On obtient un objet [`Doc`](https://spacy.io/api/doc) en appliquant la chaîne de traitement [`Language`](https://spacy.io/api/language) à une chaîne de texte.\n",
    "\n",
    "Cet objet [`Doc`](https://spacy.io/api/doc) est central pour Spacy car il va être progressivement enrichi par chacun de traitements qui va venir y piocher les informations dont il a besoin en entrée, et y ajouter les informations qu'il a calculées.\n",
    "\n",
    "Ce principe est résumé dans la figure suivante, extraire de la documentation officielle de Spacy :  \n",
    "![](https://spacy.io/images/pipeline.svg)\n",
    "\n",
    "Par exemple, le composant \"ner\" (que nous utiliserons plus tard) va venir affecter une étiquette (*\"label\"*) à chacun des *tokens* du document. Il va stocker cette information dans un nouvel attribut `doc.ents` du document.\n",
    "\n",
    "L'attribut `doc.text` contient quant à lui la liste des *tokens* extraits.\n",
    "\n",
    "<!-- More complex architecture diagram ![](https://spacy.io/images/architecture.svg) -->\n",
    "\n",
    "Pour appliquer un modèle de langue à une chaîne de texte, il suffit d'utiliser la variable `nlp` créé comme une fonction !"
   ]
  },
  {
   "attachments": {},
   "cell_type": "markdown",
   "metadata": {},
   "source": [
    "#### 🚧 Exécutez la cellule suivante"
   ]
  },
  {
   "cell_type": "code",
   "execution_count": 4,
   "metadata": {},
   "outputs": [],
   "source": [
    "# Créé en traitant une chaine de caractères avec l'objet nlp\n",
    "doc = nlp(\"Bonjour tout le monde !\")"
   ]
  },
  {
   "cell_type": "markdown",
   "metadata": {},
   "source": [
    "On peut parcourir les *tokens* extraits d'un [`Doc`](https://spacy.io/api/doc) à l'aide d'une boucle classique en Python."
   ]
  },
  {
   "attachments": {},
   "cell_type": "markdown",
   "metadata": {},
   "source": [
    "### L'objet [`Token`](https://spacy.io/api/token)"
   ]
  },
  {
   "attachments": {},
   "cell_type": "markdown",
   "metadata": {},
   "source": [
    "#### 🚧 Complétez et exécutez la cellule suivante pour afficher le contenu de chaque token du document\n",
    "Un objet [`Token`](https://spacy.io/api/token) contient un certain nombre d'[attributs](https://spacy.io/api/token#attributes) intéressants.\n",
    "\n",
    "Tous ces attributs ne sont pas nécessairement calculés avec un modèle de langue vide, mais il est déjà possible d'en observer un certain nombre.\n",
    "En particulier, vous devez utiliser l'attribut `Token.text` pour accéder à sa représentation textuelle.\n",
    "\n",
    "<details>\n",
    "<summary>Solution</summary>\n",
    "\n",
    "```python\n",
    "for token in doc:\n",
    "    print(token.text)\n",
    "```\n",
    "\n",
    "</details>"
   ]
  },
  {
   "cell_type": "code",
   "execution_count": null,
   "metadata": {},
   "outputs": [],
   "source": [
    "# Itère sur les tokens dans un Doc\n",
    "for ____ in ____:\n",
    "    print(____.____)"
   ]
  },
  {
   "cell_type": "code",
   "execution_count": null,
   "metadata": {
    "tags": [
     "teacher"
    ]
   },
   "outputs": [
    {
     "name": "stdout",
     "output_type": "stream",
     "text": [
      "Bonjour\n",
      "tout\n",
      "le\n",
      "monde\n",
      "!\n"
     ]
    }
   ],
   "source": [
    "# TEACHER\n",
    "# Itère sur les tokens dans un Doc\n",
    "for token in doc:\n",
    "    print(token.text)\n",
    "    # REMARQUE : on peut utiliser `print(token)` directement,\n",
    "    # mais c'est piègeux car l'affichage semble être celui d'une chaîne de caractères"
   ]
  },
  {
   "attachments": {},
   "cell_type": "markdown",
   "metadata": {},
   "source": [
    "Il est possible d'obtenir des informations utiles à propos des *tokens* de notre document sans même avoir besoin d'utiliser un modèle de langue complexe.\n",
    "\n",
    "Voici un exemple que vous pouvez observer, qui tire profit des [attributs](https://spacy.io/api/token#attributes) `Token.i` (qui indique l'identifiant du *token* au sein du document parent), `Token.is_alpha`, `Token.is_punct` et `Token.like_num`. "
   ]
  },
  {
   "cell_type": "markdown",
   "metadata": {},
   "source": [
    "#### 🚧 Exécutez la cellule suivante"
   ]
  },
  {
   "cell_type": "code",
   "execution_count": 6,
   "metadata": {},
   "outputs": [
    {
     "name": "stdout",
     "output_type": "stream",
     "text": [
      "Index :    [0, 1, 2, 3, 4]\n",
      "Text :     ['Cela', 'coûte', '5', '€', '.']\n",
      "is_alpha : [True, True, False, False, False]\n",
      "is_punct : [False, False, False, False, True]\n",
      "like_num : [False, False, True, False, False]\n"
     ]
    }
   ],
   "source": [
    "## Autres attributs des tokens et des spans\n",
    "\n",
    "doc2 = nlp(\"Cela coûte 5 €.\")\n",
    "\n",
    "print(\"Index :   \", [token.i for token in doc2])\n",
    "print(\"Text :    \", [token.text for token in doc2])\n",
    "\n",
    "print(\"is_alpha :\", [token.is_alpha for token in doc2])\n",
    "print(\"is_punct :\", [token.is_punct for token in doc2])\n",
    "print(\"like_num :\", [token.like_num for token in doc2])"
   ]
  },
  {
   "attachments": {},
   "cell_type": "markdown",
   "metadata": {},
   "source": [
    "Il est également possible d'accéder à un token particulier, grâce à son indice dans le document."
   ]
  },
  {
   "attachments": {},
   "cell_type": "markdown",
   "metadata": {},
   "source": [
    "#### 🚧 Exécutez la cellule suivante pour afficher le premier token du document\n",
    "N'hésitez pas à en afficher d'autres pour observer ce comportement.\n",
    "\n",
    "🤓 Notez qu'il n'est pas toujours nécessaire d'appeler `print()` avec Jupyter : la valeur de retour de la dernière instruction sera affichée, au format texte par défaut ou au format HTML si une représentation plus riche est disponible."
   ]
  },
  {
   "cell_type": "code",
   "execution_count": 7,
   "metadata": {},
   "outputs": [
    {
     "data": {
      "text/plain": [
       "Bonjour"
      ]
     },
     "execution_count": 7,
     "metadata": {},
     "output_type": "execute_result"
    }
   ],
   "source": [
    "# On peut sélectionner un token particulier, grâce à son indice dans le document\n",
    "token = doc[0]\n",
    "token"
   ]
  },
  {
   "cell_type": "markdown",
   "metadata": {},
   "source": [
    "### L'objet [Span](https://spacy.io/api/span)"
   ]
  },
  {
   "attachments": {},
   "cell_type": "markdown",
   "metadata": {},
   "source": [
    "L'objet [Span](https://spacy.io/api/span) est un autre objet utile à connaître, qui représente une séquence de *tokens* contiguë au sein d'un document."
   ]
  },
  {
   "attachments": {},
   "cell_type": "markdown",
   "metadata": {},
   "source": [
    "#### 🚧 <b>Essayez à présent de sélectionner et afficher les <i>tokens</i> \"tout le monde\".</b>\n",
    "\n",
    "<details>\n",
    "<summary>Indices</summary>\n",
    "\n",
    "Vous pouvez utiliser les *ranges* pour sélectionner plusieurs éléments d'un itérable. Voici un exemple de la syntaxe à utiliser :\n",
    "```python\n",
    "ma_liste = [0, 1, 2, 3]\n",
    "print(ma_liste[1:3])\n",
    "# Affiche : [1, 2]\n",
    "```\n",
    "</details>\n",
    "\n",
    "<details>\n",
    "<summary>Solution</summary>\n",
    "\n",
    "On applique cette syntaxe pour sélectionner les tokens du rang 1 (2e token, inclus) au rang 4 (non inclus) :\n",
    "\n",
    "```python\n",
    "span = doc[1:4]\n",
    "span\n",
    "```\n",
    "</details>\n"
   ]
  },
  {
   "cell_type": "code",
   "execution_count": null,
   "metadata": {},
   "outputs": [
    {
     "data": {
      "text/plain": [
       "tout le monde"
      ]
     },
     "metadata": {},
     "output_type": "display_data"
    }
   ],
   "source": [
    "# On peut également utiliser les \"ranges\" Python pour sélectionner plusieurs tokens\n",
    "span = doc[____]\n",
    "span"
   ]
  },
  {
   "cell_type": "code",
   "execution_count": 8,
   "metadata": {
    "tags": [
     "teacher"
    ]
   },
   "outputs": [
    {
     "data": {
      "text/plain": [
       "tout le monde"
      ]
     },
     "execution_count": 8,
     "metadata": {},
     "output_type": "execute_result"
    }
   ],
   "source": [
    "# TEACHER\n",
    "# On peut également utiliser les \"ranges\" Python pour sélectionner plusieurs tokens\n",
    "span = doc[1:4]\n",
    "span"
   ]
  },
  {
   "attachments": {},
   "cell_type": "markdown",
   "metadata": {},
   "source": [
    "À l'instar des objets Token, ils possèdent également des [attributs](https://spacy.io/api/span#attributes) intéressants, comme `Span.text` qui permet d'en obtenir une représentation textuelle."
   ]
  },
  {
   "cell_type": "markdown",
   "metadata": {},
   "source": [
    "#### 🚧 Exécutez la cellule suivante"
   ]
  },
  {
   "cell_type": "code",
   "execution_count": 9,
   "metadata": {},
   "outputs": [
    {
     "data": {
      "text/plain": [
       "'tout le monde'"
      ]
     },
     "execution_count": 9,
     "metadata": {},
     "output_type": "execute_result"
    }
   ],
   "source": [
    "# On peut également accéder aux attributs d'un span\n",
    "span.text"
   ]
  },
  {
   "attachments": {},
   "cell_type": "markdown",
   "metadata": {},
   "source": [
    "\n",
    "## 3. Reconnaître des entités nommées avec un modèle existant et visualiser les résultats — *⏱️ 5 mn*"
   ]
  },
  {
   "cell_type": "markdown",
   "metadata": {},
   "source": [
    "Nous allons à présent utiliser un modèle existant mis à disposition par les créateurs de Spacy pour comprendre le fonctionnement d'un modèle de langue intégrant un composant de reconnaissance d'entités nommées.\n",
    "\n",
    "Pour cela, nous allons commencer par utiliser une chaîne de traitement entraînée pour le français."
   ]
  },
  {
   "cell_type": "markdown",
   "metadata": {},
   "source": [
    "### Choix, installation et chargement du modèle"
   ]
  },
  {
   "cell_type": "markdown",
   "metadata": {},
   "source": [
    "#### 🏗️ Cherchez [dans la documentation](https://spacy.io/models/fr) un modèle adapté pour démarrer\n",
    "Trouvez le nom du **plus petit modèle contenant un composant NER** qui nous permettra de faire des premières expériences rapides.\n",
    "\n",
    "La taille du modèle est indiquée dans le champ *\"Size\"*.\n",
    "\n",
    "<details>\n",
    "<summary>Solution</summary>\n",
    "\n",
    "On trouve 4 modèles :\n",
    "1. `fr_core_news_sm` : un petit modèle adapté pour nos premières expériences, contenant tous les composants nécessaires 👈 *utilisez celui-ci pour mettre au point votre approche !*\n",
    "2. `fr_core_news_md` : un modèle de taille moyenne, contenant également tous les composants de base, adapté à des cas simples pour lesquels l'efficacité prime\n",
    "3. `fr_core_news_lg` : un modèle large, adapté au travail sur CPU, contenant tous les composants de base et offrant de bonnes performances.\n",
    "4. `fr_dep_news_trf` : un nouveau modèle qui devrait offrir les meilleures performances, mais ne disposant pas de composant NER pré-entraîné et pour lequel il faut préférer une exécution sur GPU.\n",
    "</details>\n"
   ]
  },
  {
   "attachments": {},
   "cell_type": "markdown",
   "metadata": {},
   "source": [
    "#### 🏗️ Complétez à présent la commande suivante pour télécharger les fichiers du modèle\n",
    "Indiquez le nom du modèle que vous avez sélectionné.\n",
    "\n",
    "<details>\n",
    "<summary>Solution</summary>\n",
    "\n",
    "```\n",
    "!python -m spacy download fr_core_news_sm\n",
    "```\n",
    "</details>"
   ]
  },
  {
   "cell_type": "code",
   "execution_count": null,
   "metadata": {},
   "outputs": [],
   "source": [
    "!python -m spacy download __________"
   ]
  },
  {
   "cell_type": "code",
   "execution_count": null,
   "metadata": {
    "tags": [
     "teacher"
    ]
   },
   "outputs": [],
   "source": [
    "# TEACHER\n",
    "!python -m spacy download fr_core_news_sm"
   ]
  },
  {
   "cell_type": "markdown",
   "metadata": {},
   "source": [
    "Nous pouvons à présent charger ce nouveau modèle à l'aide de la commande [`spacy.load(NOM_DU_MODÈLE)`](https://spacy.io/api/top-level#spacy.load)."
   ]
  },
  {
   "cell_type": "markdown",
   "metadata": {},
   "source": [
    "#### 🏗️ Complétez la cellule suivante pour charger le modèle que vous venez de télécharger.\n",
    "\n",
    "<details>\n",
    "<summary>Solution</summary>\n",
    "\n",
    "```python\n",
    "nlp = spacy.load(\"fr_core_news_sm\")\n",
    "````\n",
    "</details>\n"
   ]
  },
  {
   "cell_type": "code",
   "execution_count": null,
   "metadata": {},
   "outputs": [],
   "source": [
    "nlp = spacy.load(________)"
   ]
  },
  {
   "cell_type": "code",
   "execution_count": 10,
   "metadata": {
    "tags": [
     "teacher"
    ]
   },
   "outputs": [],
   "source": [
    "# TEACHER\n",
    "nlp = spacy.load(\"fr_core_news_sm\")"
   ]
  },
  {
   "cell_type": "markdown",
   "metadata": {},
   "source": [
    "#### 🏗️ Exécutez à présent la cellule suivante pour vérifier que nous disposons bien de nouveau composants"
   ]
  },
  {
   "cell_type": "code",
   "execution_count": 11,
   "metadata": {},
   "outputs": [
    {
     "data": {
      "text/plain": [
       "['tok2vec', 'morphologizer', 'parser', 'attribute_ruler', 'lemmatizer', 'ner']"
      ]
     },
     "execution_count": 11,
     "metadata": {},
     "output_type": "execute_result"
    }
   ],
   "source": [
    "nlp.pipe_names"
   ]
  },
  {
   "cell_type": "markdown",
   "metadata": {},
   "source": [
    "### Premiers pas avec un modèle sur étagère 📦"
   ]
  },
  {
   "cell_type": "markdown",
   "metadata": {},
   "source": [
    "Nous pouvons à présent utiliser notre modèle pour extraire des informations plus intéressantes d'un texte, comme de l'[étiquetage morpho-syntaxique](https://fr.wikipedia.org/wiki/%C3%89tiquetage_morpho-syntaxique), aussi appelé étiquetage grammatical, ou *POS tagging* (*part-of-speech tagging*) en anglais, pour jouer un peu avant de nous recentrer sur la reconnaissance d'entités nommées."
   ]
  },
  {
   "cell_type": "code",
   "execution_count": 12,
   "metadata": {},
   "outputs": [
    {
     "name": "stdout",
     "output_type": "stream",
     "text": [
      "     Token    POS    Synt. dep. rel.    Synt. parent\n",
      "--------------------------------------------------\n",
      "        La    DET                det         journée\n",
      "   journée   NOUN              nsubj         déroule\n",
      "        de    ADP               case       formation\n",
      " formation   NOUN               nmod         journée\n",
      "         à    ADP               case            Lyon\n",
      "      Lyon  PROPN               nmod         journée\n",
      "        se   PRON          expl:comp         déroule\n",
      "   déroule   VERB               ROOT         déroule\n",
      "      bien    ADV             advmod         déroule\n",
      "         .  PUNCT              punct         déroule\n"
     ]
    }
   ],
   "source": [
    "# POS tagging example\n",
    "doc = nlp(\"La journée de formation à Lyon se déroule bien.\")\n",
    "print(f\"{'Token':>10s}\", f\"{'POS':>6s}\", f\"{'Synt. dep. rel.':>18s}\", f\"{'Synt. parent':>15s}\")\n",
    "print(\"-\"*50)\n",
    "for token in doc:\n",
    "    print(f\"{token.text:>10s}\", f\"{token.pos_:>6s}\", f\"{token.dep_:>18s}\", f\"{token.head.text:>15s}\")"
   ]
  },
  {
   "cell_type": "markdown",
   "metadata": {},
   "source": [
    "🤓 Pourquoi certains [attributs des tokens](https://spacy.io/api/token#attributes) terminent-ils par un `_` ?  \n",
    "C'est parce que la valeur de base (sans le `_`) est un identifiant (un nombre entier) qui pointe vers une case d'un grand dictionnaire d'éléments connus. C'est une façon efficace, mais peu lisible, de stocker l'information. D'où la variante lisible !"
   ]
  },
  {
   "cell_type": "markdown",
   "metadata": {},
   "source": [
    "Il est également possible de demander à Spacy des explications sur un terme utilisé à l'aide de la fonction `spacy.explain()`.\n",
    "\n",
    "Vous pouvez modifier la cellule ci-dessous pour obtenir plus d'information sur un terme si vous le souhaitez."
   ]
  },
  {
   "cell_type": "code",
   "execution_count": 13,
   "metadata": {},
   "outputs": [
    {
     "data": {
      "text/plain": [
       "'adverbial modifier'"
      ]
     },
     "execution_count": 13,
     "metadata": {},
     "output_type": "execute_result"
    }
   ],
   "source": [
    "spacy.explain(\"advmod\")"
   ]
  },
  {
   "cell_type": "markdown",
   "metadata": {},
   "source": [
    "### Reconnaissance d'entités nommées"
   ]
  },
  {
   "cell_type": "markdown",
   "metadata": {},
   "source": [
    "Voici une nouvelle phrase qui contient deux entités classiques : une **personne** (à laquelle correspondra l'étiquette `PER`) et un **lieu** (qui sera repéré par l'étiquette `LOC`)."
   ]
  },
  {
   "cell_type": "markdown",
   "metadata": {},
   "source": [
    "#### 🏗️ Analysons-la avec notre nouveau modèle !\n",
    "Exécutez la cellule ci-dessous."
   ]
  },
  {
   "cell_type": "code",
   "execution_count": 14,
   "metadata": {},
   "outputs": [],
   "source": [
    "doc = nlp(\"Joseph est venu en train à Lyon.\")"
   ]
  },
  {
   "cell_type": "markdown",
   "metadata": {},
   "source": [
    "Bien qu'on puisse lire la valeur de l'attribut `ent_type_` de chaque objet [`Token`](https://spacy.io/api/token#attributes), il est souvent plus pratique de ne lister que les entités nommées détectées dans un document. De plus, certaines entités peuvent contenir plusieurs *tokens*, ce qui rend leur extraction manuelle plus délicate !\n",
    "\n",
    "Heureusement, l'objet [`Doc`](https://spacy.io/api/doc) dispose d'une propriété [`Doc.ents`](https://spacy.io/api/doc#ents) qui renvoie une liste d'objets [`Span`](https://spacy.io/api/span) qui représentent les positions des entités et les étiquettes (*labels*) qui leur sont associés."
   ]
  },
  {
   "cell_type": "markdown",
   "metadata": {},
   "source": [
    "#### 🏗️ Complétez le code de la cellule ci-dessous pour afficher le texte et le *label* de chaque entité\n",
    "- Utilisez les attributs `start`, `end` de chaque `Span` pour sélectionner le fragment de document couvert à l'aide d'un *range* Python\n",
    "- Utiliser leur attribut `label_` pour afficher le type d'entité détecté sous forme textuelle\n",
    "\n",
    "<details>\n",
    "<summary>Solution</summary>\n",
    "\n",
    "```python\n",
    "for ent in doc.ents:\n",
    "    print(doc[ent.start:ent.end], ent.label_)\n",
    "```\n",
    "</details>\n"
   ]
  },
  {
   "cell_type": "code",
   "execution_count": null,
   "metadata": {},
   "outputs": [
    {
     "name": "stdout",
     "output_type": "stream",
     "text": [
      "Joseph PER\n",
      "Lyon LOC\n"
     ]
    }
   ],
   "source": [
    "for ent in doc.____:\n",
    "    print(doc[____:____], ____)"
   ]
  },
  {
   "cell_type": "code",
   "execution_count": 15,
   "metadata": {
    "tags": [
     "teacher"
    ]
   },
   "outputs": [
    {
     "name": "stdout",
     "output_type": "stream",
     "text": [
      "Joseph PER\n",
      "Lyon LOC\n"
     ]
    }
   ],
   "source": [
    "# TEACHER\n",
    "for ent in doc.ents:\n",
    "    print(doc[ent.start:ent.end], ent.label_)\n",
    "    # print(ent, ent.label_)  # fonctionne aussi car le texte du Span est utilisé comme valeur à afficher\n",
    "    # print(ent.text, ent.label_)  # fonctionne également / plus simple : à privilégier ?"
   ]
  },
  {
   "cell_type": "markdown",
   "metadata": {},
   "source": [
    "### Visualisation\n"
   ]
  },
  {
   "cell_type": "markdown",
   "metadata": {},
   "source": [
    "Spacy dispose d'un moteur de visualisation très pratique, qui produit de très jolis résultats.\n",
    "\n",
    "Il est utilisable via le module [`displacy`](https://spacy.io/universe/project/displacy) qui permet de visualiser les informations extraites d'un document, en particulier les [entités nommées](https://spacy.io/usage/visualizers#ent).\n",
    "\n",
    "Encore mieux, il peut être [utilisé dans un notebook](https://spacy.io/usage/visualizers#jupyter) !"
   ]
  },
  {
   "cell_type": "code",
   "execution_count": 31,
   "metadata": {},
   "outputs": [
    {
     "data": {
      "text/html": [
       "<span class=\"tex2jax_ignore\"><div class=\"entities\" style=\"line-height: 2.5; direction: ltr\">\n",
       "<mark class=\"entity\" style=\"background: #ddd; padding: 0.45em 0.6em; margin: 0 0.25em; line-height: 1; border-radius: 0.35em;\">\n",
       "    Joseph\n",
       "    <span style=\"font-size: 0.8em; font-weight: bold; line-height: 1; border-radius: 0.35em; vertical-align: middle; margin-left: 0.5rem\">PER</span>\n",
       "</mark>\n",
       " est venu en train à \n",
       "<mark class=\"entity\" style=\"background: #ff9561; padding: 0.45em 0.6em; margin: 0 0.25em; line-height: 1; border-radius: 0.35em;\">\n",
       "    Lyon\n",
       "    <span style=\"font-size: 0.8em; font-weight: bold; line-height: 1; border-radius: 0.35em; vertical-align: middle; margin-left: 0.5rem\">LOC</span>\n",
       "</mark>\n",
       ".</div></span>"
      ],
      "text/plain": [
       "<IPython.core.display.HTML object>"
      ]
     },
     "metadata": {},
     "output_type": "display_data"
    }
   ],
   "source": [
    "from spacy import displacy\n",
    "displacy.render(doc, style=\"ent\")"
   ]
  },
  {
   "cell_type": "markdown",
   "metadata": {},
   "source": [
    "🤓 Vous pouvez même modifier le style d'affichage en indiquant `\"dep\"` pour afficher le graphe de dépendances syntaxiques de notre document."
   ]
  },
  {
   "cell_type": "code",
   "execution_count": 32,
   "metadata": {
    "tags": [
     "treacher"
    ]
   },
   "outputs": [
    {
     "data": {
      "text/html": [
       "<span class=\"tex2jax_ignore\"><svg xmlns=\"http://www.w3.org/2000/svg\" xmlns:xlink=\"http://www.w3.org/1999/xlink\" xml:lang=\"fr\" id=\"112f6f7cdc054457bdc79943fc3eb3bc-0\" class=\"displacy\" width=\"1275\" height=\"312.0\" direction=\"ltr\" style=\"max-width: none; height: 312.0px; color: #000000; background: #ffffff; font-family: Arial; direction: ltr\">\n",
       "<text class=\"displacy-token\" fill=\"currentColor\" text-anchor=\"middle\" y=\"222.0\">\n",
       "    <tspan class=\"displacy-word\" fill=\"currentColor\" x=\"50\">Joseph</tspan>\n",
       "    <tspan class=\"displacy-tag\" dy=\"2em\" fill=\"currentColor\" x=\"50\">PROPN</tspan>\n",
       "</text>\n",
       "\n",
       "<text class=\"displacy-token\" fill=\"currentColor\" text-anchor=\"middle\" y=\"222.0\">\n",
       "    <tspan class=\"displacy-word\" fill=\"currentColor\" x=\"225\">est</tspan>\n",
       "    <tspan class=\"displacy-tag\" dy=\"2em\" fill=\"currentColor\" x=\"225\">AUX</tspan>\n",
       "</text>\n",
       "\n",
       "<text class=\"displacy-token\" fill=\"currentColor\" text-anchor=\"middle\" y=\"222.0\">\n",
       "    <tspan class=\"displacy-word\" fill=\"currentColor\" x=\"400\">venu</tspan>\n",
       "    <tspan class=\"displacy-tag\" dy=\"2em\" fill=\"currentColor\" x=\"400\">VERB</tspan>\n",
       "</text>\n",
       "\n",
       "<text class=\"displacy-token\" fill=\"currentColor\" text-anchor=\"middle\" y=\"222.0\">\n",
       "    <tspan class=\"displacy-word\" fill=\"currentColor\" x=\"575\">en</tspan>\n",
       "    <tspan class=\"displacy-tag\" dy=\"2em\" fill=\"currentColor\" x=\"575\">ADP</tspan>\n",
       "</text>\n",
       "\n",
       "<text class=\"displacy-token\" fill=\"currentColor\" text-anchor=\"middle\" y=\"222.0\">\n",
       "    <tspan class=\"displacy-word\" fill=\"currentColor\" x=\"750\">train</tspan>\n",
       "    <tspan class=\"displacy-tag\" dy=\"2em\" fill=\"currentColor\" x=\"750\">NOUN</tspan>\n",
       "</text>\n",
       "\n",
       "<text class=\"displacy-token\" fill=\"currentColor\" text-anchor=\"middle\" y=\"222.0\">\n",
       "    <tspan class=\"displacy-word\" fill=\"currentColor\" x=\"925\">à</tspan>\n",
       "    <tspan class=\"displacy-tag\" dy=\"2em\" fill=\"currentColor\" x=\"925\">ADP</tspan>\n",
       "</text>\n",
       "\n",
       "<text class=\"displacy-token\" fill=\"currentColor\" text-anchor=\"middle\" y=\"222.0\">\n",
       "    <tspan class=\"displacy-word\" fill=\"currentColor\" x=\"1100\">Lyon.</tspan>\n",
       "    <tspan class=\"displacy-tag\" dy=\"2em\" fill=\"currentColor\" x=\"1100\">PROPN</tspan>\n",
       "</text>\n",
       "\n",
       "<g class=\"displacy-arrow\">\n",
       "    <path class=\"displacy-arc\" id=\"arrow-112f6f7cdc054457bdc79943fc3eb3bc-0-0\" stroke-width=\"2px\" d=\"M70,177.0 C70,2.0 400.0,2.0 400.0,177.0\" fill=\"none\" stroke=\"currentColor\"/>\n",
       "    <text dy=\"1.25em\" style=\"font-size: 0.8em; letter-spacing: 1px\">\n",
       "        <textPath xlink:href=\"#arrow-112f6f7cdc054457bdc79943fc3eb3bc-0-0\" class=\"displacy-label\" startOffset=\"50%\" side=\"left\" fill=\"currentColor\" text-anchor=\"middle\">nsubj:pass</textPath>\n",
       "    </text>\n",
       "    <path class=\"displacy-arrowhead\" d=\"M70,179.0 L62,167.0 78,167.0\" fill=\"currentColor\"/>\n",
       "</g>\n",
       "\n",
       "<g class=\"displacy-arrow\">\n",
       "    <path class=\"displacy-arc\" id=\"arrow-112f6f7cdc054457bdc79943fc3eb3bc-0-1\" stroke-width=\"2px\" d=\"M245,177.0 C245,89.5 395.0,89.5 395.0,177.0\" fill=\"none\" stroke=\"currentColor\"/>\n",
       "    <text dy=\"1.25em\" style=\"font-size: 0.8em; letter-spacing: 1px\">\n",
       "        <textPath xlink:href=\"#arrow-112f6f7cdc054457bdc79943fc3eb3bc-0-1\" class=\"displacy-label\" startOffset=\"50%\" side=\"left\" fill=\"currentColor\" text-anchor=\"middle\">aux:tense</textPath>\n",
       "    </text>\n",
       "    <path class=\"displacy-arrowhead\" d=\"M245,179.0 L237,167.0 253,167.0\" fill=\"currentColor\"/>\n",
       "</g>\n",
       "\n",
       "<g class=\"displacy-arrow\">\n",
       "    <path class=\"displacy-arc\" id=\"arrow-112f6f7cdc054457bdc79943fc3eb3bc-0-2\" stroke-width=\"2px\" d=\"M595,177.0 C595,89.5 745.0,89.5 745.0,177.0\" fill=\"none\" stroke=\"currentColor\"/>\n",
       "    <text dy=\"1.25em\" style=\"font-size: 0.8em; letter-spacing: 1px\">\n",
       "        <textPath xlink:href=\"#arrow-112f6f7cdc054457bdc79943fc3eb3bc-0-2\" class=\"displacy-label\" startOffset=\"50%\" side=\"left\" fill=\"currentColor\" text-anchor=\"middle\">case</textPath>\n",
       "    </text>\n",
       "    <path class=\"displacy-arrowhead\" d=\"M595,179.0 L587,167.0 603,167.0\" fill=\"currentColor\"/>\n",
       "</g>\n",
       "\n",
       "<g class=\"displacy-arrow\">\n",
       "    <path class=\"displacy-arc\" id=\"arrow-112f6f7cdc054457bdc79943fc3eb3bc-0-3\" stroke-width=\"2px\" d=\"M420,177.0 C420,2.0 750.0,2.0 750.0,177.0\" fill=\"none\" stroke=\"currentColor\"/>\n",
       "    <text dy=\"1.25em\" style=\"font-size: 0.8em; letter-spacing: 1px\">\n",
       "        <textPath xlink:href=\"#arrow-112f6f7cdc054457bdc79943fc3eb3bc-0-3\" class=\"displacy-label\" startOffset=\"50%\" side=\"left\" fill=\"currentColor\" text-anchor=\"middle\">obl:arg</textPath>\n",
       "    </text>\n",
       "    <path class=\"displacy-arrowhead\" d=\"M750.0,179.0 L758.0,167.0 742.0,167.0\" fill=\"currentColor\"/>\n",
       "</g>\n",
       "\n",
       "<g class=\"displacy-arrow\">\n",
       "    <path class=\"displacy-arc\" id=\"arrow-112f6f7cdc054457bdc79943fc3eb3bc-0-4\" stroke-width=\"2px\" d=\"M945,177.0 C945,89.5 1095.0,89.5 1095.0,177.0\" fill=\"none\" stroke=\"currentColor\"/>\n",
       "    <text dy=\"1.25em\" style=\"font-size: 0.8em; letter-spacing: 1px\">\n",
       "        <textPath xlink:href=\"#arrow-112f6f7cdc054457bdc79943fc3eb3bc-0-4\" class=\"displacy-label\" startOffset=\"50%\" side=\"left\" fill=\"currentColor\" text-anchor=\"middle\">case</textPath>\n",
       "    </text>\n",
       "    <path class=\"displacy-arrowhead\" d=\"M945,179.0 L937,167.0 953,167.0\" fill=\"currentColor\"/>\n",
       "</g>\n",
       "\n",
       "<g class=\"displacy-arrow\">\n",
       "    <path class=\"displacy-arc\" id=\"arrow-112f6f7cdc054457bdc79943fc3eb3bc-0-5\" stroke-width=\"2px\" d=\"M770,177.0 C770,2.0 1100.0,2.0 1100.0,177.0\" fill=\"none\" stroke=\"currentColor\"/>\n",
       "    <text dy=\"1.25em\" style=\"font-size: 0.8em; letter-spacing: 1px\">\n",
       "        <textPath xlink:href=\"#arrow-112f6f7cdc054457bdc79943fc3eb3bc-0-5\" class=\"displacy-label\" startOffset=\"50%\" side=\"left\" fill=\"currentColor\" text-anchor=\"middle\">nmod</textPath>\n",
       "    </text>\n",
       "    <path class=\"displacy-arrowhead\" d=\"M1100.0,179.0 L1108.0,167.0 1092.0,167.0\" fill=\"currentColor\"/>\n",
       "</g>\n",
       "</svg></span>"
      ],
      "text/plain": [
       "<IPython.core.display.HTML object>"
      ]
     },
     "metadata": {},
     "output_type": "display_data"
    }
   ],
   "source": [
    "# TEACHER\n",
    "displacy.render(doc, style=\"dep\")"
   ]
  },
  {
   "attachments": {},
   "cell_type": "markdown",
   "metadata": {},
   "source": [
    "## 4. Traiter les données de notre corpus d'exemple — *⏱️ 5 mn*"
   ]
  },
  {
   "attachments": {},
   "cell_type": "markdown",
   "metadata": {},
   "source": [
    "Nous allons à présent utiliser notre modèle pour traiter les données de notre corpus et réaliser une première analyse qualitative superficielle des résultats produits.\n",
    "\n",
    "Pour vous illustrer la procédure à suivre avec vos propres données, nous allons vous montrer comment accéder à une collection de fichiers texte :\n",
    "1. si vous utilisez **Google Colab**, en utilisant le contenu d'un de vos dossiers Google Drive,\n",
    "2. si vous utilisez **votre propre machine**, en indiquant simplement le chemin vers lequel les fichiers sont stockés.\n",
    "\n",
    "Ces deux cas sont assez semblables, la seule différence est qu'avec Google Colab, vous utiliser une machine virtuelle distance, et que vous ne pouvez contrôler cette dernière que par l'intermédiaire de l'interface de Colab (un notebook amélioré)."
   ]
  },
  {
   "attachments": {},
   "cell_type": "markdown",
   "metadata": {},
   "source": [
    "#### 🛠️ Récupérer des fichiers intéressants sur votre machine\n",
    "Vous allez télécharger le jeu de données original “[French ELTEC NER Open Dataset](http://hdl.handle.net/20.500.11752/OPEN-986)” par Carmen Brando, Francesca Frontini, et Ioana Galleron.\n",
    "\n",
    "[![📦 Cliquez ici pour télécharger le jeu de données](https://img.shields.io/badge/%F0%9F%93%A6-Cliquez_ici_pour_t%C3%A9l%C3%A9charger_le_jeu_de_donn%C3%A9es-blue)](https://dspace-clarin-it.ilc.cnr.it/repository/xmlui/bitstream/handle/20.500.11752/OPEN-986/French_ELTEC_NER_Open_Dataset.zip) et enregistrez-le quelque-part sur votre ordinateur personnel."
   ]
  },
  {
   "attachments": {},
   "cell_type": "markdown",
   "metadata": {},
   "source": [
    "### Utiliser Drive pour envoyer des fichiers sur Colab\n",
    "**Si vous exécutez votre *notebook* sur votre propre machine, vous pouvez passer cette partie.**\n",
    "\n",
    "À présent, copiez le fichier Zip téléchargé dans un dossier de votre choix (par exemple \"Formation Ariane\") de votre Drive.\n",
    "\n",
    "Nous sommes maintenant prêts à \"monter\" votre Drive sur la machine virtuelle que vous utilisez sur Google Colab."
   ]
  },
  {
   "attachments": {},
   "cell_type": "markdown",
   "metadata": {},
   "source": [
    "#### 🛠️ Complétez et exécutez la cellule ci-dessous et autorisez Colab à accéder à votre Drive\n",
    "Une fois cette opération réalisée, votre machine virtuelle Google Colab pourra accéder au fichier que vous venez de déposer."
   ]
  },
  {
   "cell_type": "code",
   "execution_count": null,
   "metadata": {},
   "outputs": [],
   "source": [
    "# Mount drive\n",
    "from google.colab import drive\n",
    "drive.mount('/gdrive')\n",
    "\n",
    "# COMPLÉTEZ CETTE LIGNE AVEC LE NOM DU DOSSIER DANS LEQUEL VOUS AVEZ DÉPOSÉ VOTRE FICHIER\n",
    "# > just access \"/gdrive/My Drive/...\"\n",
    "FOLDER_NAME = \"Formation Ariane\"  # 👈👈👈\n",
    "\n",
    "# Si vous avez changé le nom du fichier, vous pouvez l'indiquer ici\n",
    "ZIP_FILENAME = \"French_ELTEC_NER_Open_Dataset.zip\"\n",
    "\n",
    "# On vérifie qu'on arrive bien à accéder au fichier\n",
    "import os.path\n",
    "dataset_zip_path = f\"/gdrive/My Drive/{FOLDER_NAME}/{ZIP_FILENAME}\"\n",
    "if os.path.exists(dataset_zip_path):\n",
    "    print(\"Fichier bien trouvé !\")\n",
    "else:\n",
    "    err_msg = f\"Erreur, le fichier n'a pas été trouvé au chemin '{dataset_zip_path}'.\"\n",
    "    print(err_msg)\n",
    "    raise ValueError(err_msg)"
   ]
  },
  {
   "attachments": {},
   "cell_type": "markdown",
   "metadata": {},
   "source": [
    "#### ⚠️ Si vous travaillez sur votre machine personnelle, dé-commentez, modifiez et exécutez la cellule suivante\n",
    "Ceci nous servira à indiquer :\n",
    "1. où est rangé le fichier ZIP contenant le jeu de données\n",
    "2. où il faudra décompresser les fichiers qu'il contient"
   ]
  },
  {
   "cell_type": "code",
   "execution_count": 18,
   "metadata": {},
   "outputs": [],
   "source": [
    "# dataset_zip_path = \"/home/jchazalo/tmp/French_ELTEC_NER_Open_Dataset.zip\"\n",
    "# dataset_destination_dir = \"/home/jchazalo/tmp/datasets\""
   ]
  },
  {
   "cell_type": "code",
   "execution_count": null,
   "metadata": {
    "tags": [
     "teacher"
    ]
   },
   "outputs": [],
   "source": [
    "# TEACHER\n",
    "dataset_zip_path = \"/home/jchazalo/tmp/French_ELTEC_NER_Open_Dataset.zip\"\n",
    "dataset_destination_dir = \"/home/jchazalo/tmp/datasets\""
   ]
  },
  {
   "attachments": {},
   "cell_type": "markdown",
   "metadata": {},
   "source": [
    "### Décompresser les fichiers\n",
    "Afin de faciliter l'accès aux différents fichiers, nous allons à présent décompresser les fichiers du jeu de données.\n",
    "\n",
    "Nous allons utiliser les 100 fichiers texte extraits de romans du 19e siècle."
   ]
  },
  {
   "attachments": {},
   "cell_type": "markdown",
   "metadata": {},
   "source": [
    "#### 🛠️ Exécutez la cellule suivante et vérifiez qu'aucune erreur n'est rencontrée"
   ]
  },
  {
   "cell_type": "code",
   "execution_count": 20,
   "metadata": {},
   "outputs": [
    {
     "name": "stdout",
     "output_type": "stream",
     "text": [
      "/home/jchazalo/tmp/French_ELTEC_NER_Open_Dataset.zip: OK\n",
      "Archive:  /home/jchazalo/tmp/French_ELTEC_NER_Open_Dataset.zip\n",
      "   creating: /home/jchazalo/tmp/datasets/French_ELTEC_NER_Open_Dataset/annotations/\n",
      "   creating: /home/jchazalo/tmp/datasets/French_ELTEC_NER_Open_Dataset/annotations/pool/\n",
      "  inflating: /home/jchazalo/tmp/datasets/French_ELTEC_NER_Open_Dataset/annotations/pool/a.0MBIm18ieWUH8iyy4d4RIFZKSu-FRA02802_Mirbeau.txt.ann.json  \n",
      "  inflating: /home/jchazalo/tmp/datasets/French_ELTEC_NER_Open_Dataset/annotations/pool/a.GwmWhiyt0OKvDrD6b._1MxEt2K-FRA03101_Ponson.txt.ann.json  \n",
      "  inflating: /home/jchazalo/tmp/datasets/French_ELTEC_NER_Open_Dataset/annotations/pool/a.JUEoYT5Jt44vnpvLAg8WSk0iVm-FRA00901_Daudet.txt.ann.json  \n",
      "  inflating: /home/jchazalo/tmp/datasets/French_ELTEC_NER_Open_Dataset/annotations/pool/a.n8hDHVP39RVA3a5sKkRffFXIUO-FRA04102_Erckmann.txt.ann.json  \n",
      "  inflating: /home/jchazalo/tmp/datasets/French_ELTEC_NER_Open_Dataset/annotations/pool/a_C54L4cLST4beyZLSbBM1qUuygK-FRA07001_Mendes.txt.ann.json  \n",
      "  inflating: /home/jchazalo/tmp/datasets/French_ELTEC_NER_Open_Dataset/annotations/pool/a_cdO7G8FaGY5emxh2eoIs4VTvWq-FRA01302_Flaubert.txt.ann.json  \n",
      "  inflating: /home/jchazalo/tmp/datasets/French_ELTEC_NER_Open_Dataset/annotations/pool/a0z.I.nFSfzECA9d.L_J7DCWOZXm-FRA05801_Mille.txt.ann.json  \n",
      "  inflating: /home/jchazalo/tmp/datasets/French_ELTEC_NER_Open_Dataset/annotations/pool/a34P3V2Cg118Ym0ahNVjTy4.Ex5O-FRA04601_Bazin.txt.ann.json  \n",
      "  inflating: /home/jchazalo/tmp/datasets/French_ELTEC_NER_Open_Dataset/annotations/pool/a3MNF7TUrtea7XfRiJXn6Wk0b858-FRA07201_Montagne.txt.ann.json  \n",
      "  inflating: /home/jchazalo/tmp/datasets/French_ELTEC_NER_Open_Dataset/annotations/pool/a49_fmd9IHJ2wC1gsQKizy8CDYZi-FRA04001_Verne.txt.ann.json  \n",
      "  inflating: /home/jchazalo/tmp/datasets/French_ELTEC_NER_Open_Dataset/annotations/pool/a5.iqH.1H1PMZS_S9ADOeQldE17q-FRA01602_GautierJ.txt.ann.json  \n",
      "  inflating: /home/jchazalo/tmp/datasets/French_ELTEC_NER_Open_Dataset/annotations/pool/a5af6lkwwCShnfYUFUypljWGfaOK-FRA03601_Proust.txt.ann.json  \n",
      "  inflating: /home/jchazalo/tmp/datasets/French_ELTEC_NER_Open_Dataset/annotations/pool/a5KaOu4YsuzLiiz0ROmtJI7AnhtG-FRA03702_Sand.txt.ann.json  \n",
      "  inflating: /home/jchazalo/tmp/datasets/French_ELTEC_NER_Open_Dataset/annotations/pool/a6R7A7Zoq2ls3KXj7rL3NT_W4V6S-FRA00101_Adam.txt.ann.json  \n",
      "  inflating: /home/jchazalo/tmp/datasets/French_ELTEC_NER_Open_Dataset/annotations/pool/a71F.BlguFo3ou6nE0MparHkmd_C-FRA02202_Gouraud.txt.ann.json  \n",
      "  inflating: /home/jchazalo/tmp/datasets/French_ELTEC_NER_Open_Dataset/annotations/pool/a7hmKErzaA84WwEI1CA2P3X.8vOW-FRA02302_Greville.txt.ann.json  \n",
      "  inflating: /home/jchazalo/tmp/datasets/French_ELTEC_NER_Open_Dataset/annotations/pool/a7K9yh.2wyxHG509T8Fb8wCuufFy-FRA02701_Maupassant.txt.ann.json  \n",
      "  inflating: /home/jchazalo/tmp/datasets/French_ELTEC_NER_Open_Dataset/annotations/pool/a7KC5U74jME2kMN7UrkwepzFM77S-FRA05702_Maquet.txt.ann.json  \n",
      "  inflating: /home/jchazalo/tmp/datasets/French_ELTEC_NER_Open_Dataset/annotations/pool/a7p9e.No7R2GKqDgEh5gBOdCRhne-FRA02203_Gouraud.txt.ann.json  \n",
      "  inflating: /home/jchazalo/tmp/datasets/French_ELTEC_NER_Open_Dataset/annotations/pool/a7x9ILGFUg81t609xJAbRizBuA9K-FRA06801_Vaillant.txt.ann.json  \n",
      "  inflating: /home/jchazalo/tmp/datasets/French_ELTEC_NER_Open_Dataset/annotations/pool/a8ifGWtH6jLsTLFEhsHz_ENJP11y-FRA00602_Boisgobey.txt.ann.json  \n",
      "  inflating: /home/jchazalo/tmp/datasets/French_ELTEC_NER_Open_Dataset/annotations/pool/a9_JuHi9In_5VsmgTMcy5iOTqgVe-FRA01603_GautierJ.txt.ann.json  \n",
      "  inflating: /home/jchazalo/tmp/datasets/French_ELTEC_NER_Open_Dataset/annotations/pool/a92twUwlsYoRjJ8euN0AMEhWGNQW-FRA04901_Dumas.txt.ann.json  \n",
      "  inflating: /home/jchazalo/tmp/datasets/French_ELTEC_NER_Open_Dataset/annotations/pool/a9FSAunkcRYSVp9TeHFuqJ5cVxIS-FRA01201_Feval.txt.ann.json  \n",
      "  inflating: /home/jchazalo/tmp/datasets/French_ELTEC_NER_Open_Dataset/annotations/pool/a9P3XY5QqtvJFE.mQfM9M23M4M4m-FRA01401_Fleuriot.txt.ann.json  \n",
      "  inflating: /home/jchazalo/tmp/datasets/French_ELTEC_NER_Open_Dataset/annotations/pool/aAAH8jUAa3ntArp8vRpY5ugdwvLS-FRA05201_Feuillet.txt.ann.json  \n",
      "  inflating: /home/jchazalo/tmp/datasets/French_ELTEC_NER_Open_Dataset/annotations/pool/aaNd0P7.1oMqW5ygGCMZqhCCzXZe-FRA06001_Rebell.txt.ann.json  \n",
      "  inflating: /home/jchazalo/tmp/datasets/French_ELTEC_NER_Open_Dataset/annotations/pool/aap1i.sUcbMOHzBFrWagaR3v9YhK-FRA06501_Gyp.txt.ann.json  \n",
      "  inflating: /home/jchazalo/tmp/datasets/French_ELTEC_NER_Open_Dataset/annotations/pool/aAS0WZEtuwL67MLmDsJ3kLDhe33W-FRA04801_Corday.txt.ann.json  \n",
      "  inflating: /home/jchazalo/tmp/datasets/French_ELTEC_NER_Open_Dataset/annotations/pool/aatgMri5vGFFR91ztyo2Vpp4RLJ4-FRA06901_Vignon.txt.ann.json  \n",
      "  inflating: /home/jchazalo/tmp/datasets/French_ELTEC_NER_Open_Dataset/annotations/pool/aaUXY5cOU5zVcD4h6kxELupRWNKC-FRA00801_Dash.txt.ann.json  \n",
      "  inflating: /home/jchazalo/tmp/datasets/French_ELTEC_NER_Open_Dataset/annotations/pool/abAe3jd6lQovJLSTvdifwTjw14iK-FRA02303_Greville.txt.ann.json  \n",
      "  inflating: /home/jchazalo/tmp/datasets/French_ELTEC_NER_Open_Dataset/annotations/pool/abBmPweZyAxzbqSOGsC_bzk_WIuG-FRA02301_Greville.txt.ann.json  \n",
      "  inflating: /home/jchazalo/tmp/datasets/French_ELTEC_NER_Open_Dataset/annotations/pool/abRcy3SO2ZZgE3XqxWkJ2goP1D30-FRA04002_Verne.txt.ann.json  \n",
      "  inflating: /home/jchazalo/tmp/datasets/French_ELTEC_NER_Open_Dataset/annotations/pool/aCBPDbOM5zaCJ.9M5n6m8l9RxWMC-FRA00601_Boisgobey.txt.ann.json  \n",
      "  inflating: /home/jchazalo/tmp/datasets/French_ELTEC_NER_Open_Dataset/annotations/pool/aCQVyShyQUhBawtxZ9Eq7whm687a-FRA00401_Allais.txt.ann.json  \n",
      "  inflating: /home/jchazalo/tmp/datasets/French_ELTEC_NER_Open_Dataset/annotations/pool/aDNsOWosoMcvWAOS7unI4MFI5va4-FRA03701_Sand.txt.ann.json  \n",
      "  inflating: /home/jchazalo/tmp/datasets/French_ELTEC_NER_Open_Dataset/annotations/pool/aDXiGUcFvQ5eGRTuXHgEa3Jj7zQu-FRA01301_Flaubert.txt.ann.json  \n",
      "  inflating: /home/jchazalo/tmp/datasets/French_ELTEC_NER_Open_Dataset/annotations/pool/ae7pSxEUY74LSaal.Kro451VKTsq-FRA01102_Dombre.txt.ann.json  \n",
      "  inflating: /home/jchazalo/tmp/datasets/French_ELTEC_NER_Open_Dataset/annotations/pool/aeA9_2pkQRJejockZFU7lsVocD.m-FRA03802_Stern.txt.ann.json  \n",
      "  inflating: /home/jchazalo/tmp/datasets/French_ELTEC_NER_Open_Dataset/annotations/pool/aeb6idLObyWMnd5MtaJys1554048-FRA07401_Leblanc.txt.ann.json  \n",
      "  inflating: /home/jchazalo/tmp/datasets/French_ELTEC_NER_Open_Dataset/annotations/pool/aEf9W6iinoZdPr42zuEOPWW0TMPS-FRA06201_Viel_Castel.txt.ann.json  \n",
      "  inflating: /home/jchazalo/tmp/datasets/French_ELTEC_NER_Open_Dataset/annotations/pool/aEh3dvy7r5ksqjMb7fjWUtll7Zg8-FRA02101_Girardin.txt.ann.json  \n",
      "  inflating: /home/jchazalo/tmp/datasets/French_ELTEC_NER_Open_Dataset/annotations/pool/aEHUPuyJPVmulQZkJ8BakruAiyDW-FRA05501_Lermina.txt.ann.json  \n",
      "  inflating: /home/jchazalo/tmp/datasets/French_ELTEC_NER_Open_Dataset/annotations/pool/aEO_8KhvsTLAWv2QqX4SZ0IvY7hm-FRA06701_Uchard.txt.ann.json  \n",
      "  inflating: /home/jchazalo/tmp/datasets/French_ELTEC_NER_Open_Dataset/annotations/pool/af0u6DgsEdyVpxcbndj0QXkD5f8e-FRA02001_Gilbert.txt.ann.json  \n",
      "  inflating: /home/jchazalo/tmp/datasets/French_ELTEC_NER_Open_Dataset/annotations/pool/af67Kaz1_jylPOmtkzzx3n1glxgu-FRA02602_Malot.txt.ann.json  \n",
      "  inflating: /home/jchazalo/tmp/datasets/French_ELTEC_NER_Open_Dataset/annotations/pool/afD.eCL61SdDPWRjTudoAM2jk9DS-FRA04301_Achard.txt.ann.json  \n",
      "  inflating: /home/jchazalo/tmp/datasets/French_ELTEC_NER_Open_Dataset/annotations/pool/afvwbyoO7Lc3pbviRJ4voJDp9CFy-FRA00701_Carraud.txt.ann.json  \n",
      "  inflating: /home/jchazalo/tmp/datasets/French_ELTEC_NER_Open_Dataset/annotations/pool/afXwgQxPdGPe1nuqY7U97zHX_0YO-FRA02702_Maupassant.txt.ann.json  \n",
      "  inflating: /home/jchazalo/tmp/datasets/French_ELTEC_NER_Open_Dataset/annotations/pool/aG49xz4Q9_gdA4MV1ZHTDJY7iTxu-FRA05301_Galopin.txt.ann.json  \n",
      "  inflating: /home/jchazalo/tmp/datasets/French_ELTEC_NER_Open_Dataset/annotations/pool/ag93CAXG3E9n6DWgCGjk1_8VctWG-FRA04501_Barres.txt.ann.json  \n",
      "  inflating: /home/jchazalo/tmp/datasets/French_ELTEC_NER_Open_Dataset/annotations/pool/aGi__KH0QNZ1ANFO76o7qB8OvMXy-FRA06601_Peladan.txt.ann.json  \n",
      "  inflating: /home/jchazalo/tmp/datasets/French_ELTEC_NER_Open_Dataset/annotations/pool/aH5qNy4.zUDTPvAx3QCcB2tmag.m-FRA01601_GautierJ.txt.ann.json  \n",
      "  inflating: /home/jchazalo/tmp/datasets/French_ELTEC_NER_Open_Dataset/annotations/pool/aHqzKMns1U.VfQU61Eidq6joaKY8-FRA00501_Balzac.txt.ann.json  \n",
      "  inflating: /home/jchazalo/tmp/datasets/French_ELTEC_NER_Open_Dataset/annotations/pool/aIReqXLmfG2XNR9EgVhsTm7g9Nwq-FRA01202_Feval.txt.ann.json  \n",
      "  inflating: /home/jchazalo/tmp/datasets/French_ELTEC_NER_Open_Dataset/annotations/pool/ais.zEAqAoTv6LLSHmdQZZhpotOy-FRA03704_Sand.txt.ann.json  \n",
      "  inflating: /home/jchazalo/tmp/datasets/French_ELTEC_NER_Open_Dataset/annotations/pool/aIxhb2vKFLTTMf2ar6HKtpfoykbu-FRA00503_Balzac.txt.ann.json  \n",
      "  inflating: /home/jchazalo/tmp/datasets/French_ELTEC_NER_Open_Dataset/annotations/pool/ajipOWiJD9GPyfbX6PqrIe8zjSaq-FRA02901_Noailles.txt.ann.json  \n",
      "  inflating: /home/jchazalo/tmp/datasets/French_ELTEC_NER_Open_Dataset/annotations/pool/aJQTThcaB8.Acw1DFtECxCK5vzt8-FRA04701_Bourget.txt.ann.json  \n",
      "  inflating: /home/jchazalo/tmp/datasets/French_ELTEC_NER_Open_Dataset/annotations/pool/ajZkDlX3ay1ok7gRkblZSAtH9zqu-FRA02603_Malot.txt.ann.json  \n",
      "  inflating: /home/jchazalo/tmp/datasets/French_ELTEC_NER_Open_Dataset/annotations/pool/aKkZSKV.hejO9ZW8qYAWkHXDvJDS-FRA02401_LeRouge.txt.ann.json  \n",
      "  inflating: /home/jchazalo/tmp/datasets/French_ELTEC_NER_Open_Dataset/annotations/pool/akYsbhpc1oJq3Dehn4EHwAvA8AtO-FRA00102_Adam.txt.ann.json  \n",
      "  inflating: /home/jchazalo/tmp/datasets/French_ELTEC_NER_Open_Dataset/annotations/pool/alkA23MadVN2ldDkHGZVuuIZTrJ0-FRA03903_Stolz.txt.ann.json  \n",
      "  inflating: /home/jchazalo/tmp/datasets/French_ELTEC_NER_Open_Dataset/annotations/pool/am4zRbLRf8dk_Aq0ezymar2pUN4C-FRA03401_Reybaud.txt.ann.json  \n",
      "  inflating: /home/jchazalo/tmp/datasets/French_ELTEC_NER_Open_Dataset/annotations/pool/amC03G616xHD2JuEngguPRbuYrUq-FRA01203_Feval.txt.ann.json  \n",
      "  inflating: /home/jchazalo/tmp/datasets/French_ELTEC_NER_Open_Dataset/annotations/pool/aMZR68No2EuMXD9NXGsQEtfYuquS-FRA01801_Gay.txt.ann.json  \n",
      "  inflating: /home/jchazalo/tmp/datasets/French_ELTEC_NER_Open_Dataset/annotations/pool/aNCbIv5xgBC.YcGZOQCyOAqK2poS-FRA03201_Blandy.txt.ann.json  \n",
      "  inflating: /home/jchazalo/tmp/datasets/French_ELTEC_NER_Open_Dataset/annotations/pool/aOjm9dSki.Gyp1bEbyCKUXvR3Z8O-FRA01902_Gaboriau.txt.ann.json  \n",
      "  inflating: /home/jchazalo/tmp/datasets/French_ELTEC_NER_Open_Dataset/annotations/pool/aOZ2nsgBpU4w83XtJzB_t5XIPaMK-FRA05602_Lesueur.txt.ann.json  \n",
      "  inflating: /home/jchazalo/tmp/datasets/French_ELTEC_NER_Open_Dataset/annotations/pool/apApNAN_NnyMmYsg0izGu5fIi02q-FRA00302_Aimard.txt.ann.json  \n",
      "  inflating: /home/jchazalo/tmp/datasets/French_ELTEC_NER_Open_Dataset/annotations/pool/apJyPBI2e_FpFsK_ZetwJmImElc8-FRA01701_GautierT.txt.ann.json  \n",
      "  inflating: /home/jchazalo/tmp/datasets/French_ELTEC_NER_Open_Dataset/annotations/pool/apRNjaOFY5VhqHbJ1QCQ6BWo7QAG-FRA07601_Leroux.txt.ann.json  \n",
      "  inflating: /home/jchazalo/tmp/datasets/French_ELTEC_NER_Open_Dataset/annotations/pool/aQMcTkc_8bmGK97Mddjf6.wBMR74-FRA01402_Fleuriot.txt.ann.json  \n",
      "  inflating: /home/jchazalo/tmp/datasets/French_ELTEC_NER_Open_Dataset/annotations/pool/aQpnuNsLE_swa6vu75f8axlDHpaW-FRA00301_Aimard.txt.ann.json  \n",
      "  inflating: /home/jchazalo/tmp/datasets/French_ELTEC_NER_Open_Dataset/annotations/pool/aradq6esreGAcnK9UnA4GpsvPaDG-FRA07301_Valgand.txt.ann.json  \n",
      "  inflating: /home/jchazalo/tmp/datasets/French_ELTEC_NER_Open_Dataset/annotations/pool/aRKaO1HTqsWZrkEblhrEyMnJaTke-FRA03003_Ohnet.txt.ann.json  \n",
      "  inflating: /home/jchazalo/tmp/datasets/French_ELTEC_NER_Open_Dataset/annotations/pool/aRkvpMC35BRiZLXyqejK7zHtvVTC-FRA01303_Flaubert.txt.ann.json  \n",
      "  inflating: /home/jchazalo/tmp/datasets/French_ELTEC_NER_Open_Dataset/annotations/pool/arpPvk5rH.GEmSvcIuqvNk894DvC-FRA00201_Audoux.txt.ann.json  \n",
      "  inflating: /home/jchazalo/tmp/datasets/French_ELTEC_NER_Open_Dataset/annotations/pool/aRsXx.vht_It2aJeIZUc7MyU8Pdu-FRA04202_Rolland.txt.ann.json  \n",
      "  inflating: /home/jchazalo/tmp/datasets/French_ELTEC_NER_Open_Dataset/annotations/pool/aS22wZszAN02LNh6VcXvYm.zrhiq-FRA05401_Kock.txt.ann.json  \n",
      "  inflating: /home/jchazalo/tmp/datasets/French_ELTEC_NER_Open_Dataset/annotations/pool/aszTBqJICElzYQZ2KOuA80nSuzzO-FRA03002_Ohnet.txt.ann.json  \n",
      "  inflating: /home/jchazalo/tmp/datasets/French_ELTEC_NER_Open_Dataset/annotations/pool/aTq8HnN_Pw58oRJ1gClDvWtU8mqG-FRA07501_Darien.txt.ann.json  \n",
      "  inflating: /home/jchazalo/tmp/datasets/French_ELTEC_NER_Open_Dataset/annotations/pool/aTZvAK.SNhyJlS.YZjENrPlhU8wC-FRA02601_Malot.txt.ann.json  \n",
      "  inflating: /home/jchazalo/tmp/datasets/French_ELTEC_NER_Open_Dataset/annotations/pool/au1r7i2CdAMXL_66FKdlUjAeYR_S-FRA01501_France.txt.ann.json  \n",
      "  inflating: /home/jchazalo/tmp/datasets/French_ELTEC_NER_Open_Dataset/annotations/pool/au8d_r3CRvJGVeD3BSAhJnkTySTi-FRA02201_Gouraud.txt.ann.json  \n",
      "  inflating: /home/jchazalo/tmp/datasets/French_ELTEC_NER_Open_Dataset/annotations/pool/auKBnMUJlJYT0kIXYs26Mc9NvDVi-FRA05101_Eekhoud.txt.ann.json  \n",
      "  inflating: /home/jchazalo/tmp/datasets/French_ELTEC_NER_Open_Dataset/annotations/pool/aUUjL2CF6wN9In1aTr_rEIT5J23e-FRA06301_Montepin.txt.ann.json  \n",
      "  inflating: /home/jchazalo/tmp/datasets/French_ELTEC_NER_Open_Dataset/annotations/pool/auZmigexkcZAtLsTQcKBSTBTmaOi-FRA02501_Loti.txt.ann.json  \n",
      "  inflating: /home/jchazalo/tmp/datasets/French_ELTEC_NER_Open_Dataset/annotations/pool/aV6f6cXGmcgx5FnxTWk5NIZBGHce-FRA03302_Rattazzi.txt.ann.json  \n",
      "  inflating: /home/jchazalo/tmp/datasets/French_ELTEC_NER_Open_Dataset/annotations/pool/aVsLobdZGQhwZQVfrVYk0W49xpqu-FRA05901_Moselly.txt.ann.json  \n",
      "  inflating: /home/jchazalo/tmp/datasets/French_ELTEC_NER_Open_Dataset/annotations/pool/aW9XeObpMHpr3FpcV0GTZMD1ntlK-FRA01101_Dombre.txt.ann.json  \n",
      "  inflating: /home/jchazalo/tmp/datasets/French_ELTEC_NER_Open_Dataset/annotations/pool/aWhjJ.i8J0rR69twVQsYk70I8umq-FRA04401_Barbusse.txt.ann.json  \n",
      "  inflating: /home/jchazalo/tmp/datasets/French_ELTEC_NER_Open_Dataset/annotations/pool/aWKzYsiJtoMDIhWYTDBWtOaMQUDG-FRA01403_Fleuriot.txt.ann.json  \n",
      "  inflating: /home/jchazalo/tmp/datasets/French_ELTEC_NER_Open_Dataset/annotations/pool/aWPS3B83IFWYCcPBZBSr8630HPUm-FRA06101_Sandeau.txt.ann.json  \n",
      "  inflating: /home/jchazalo/tmp/datasets/French_ELTEC_NER_Open_Dataset/annotations/pool/axs3Hj9KXAuLCtKIRi416p2YrmmC-FRA03001_Ohnet.txt.ann.json  \n",
      "  inflating: /home/jchazalo/tmp/datasets/French_ELTEC_NER_Open_Dataset/annotations/pool/aYfUdIZ4Enyib2yScShLWIV17L28-FRA00502_Balzac.txt.ann.json  \n",
      "  inflating: /home/jchazalo/tmp/datasets/French_ELTEC_NER_Open_Dataset/annotations/pool/ayHhyo58Td1JOQQPB6UAy67azg_O-FRA06401_Chandeneux.txt.ann.json  \n",
      "  inflating: /home/jchazalo/tmp/datasets/French_ELTEC_NER_Open_Dataset/annotations/pool/az2CA8KJWOb.PZ49ZQoBqRmF3SLO-FRA01002_DelarueMardrus.txt.ann.json  \n",
      "  inflating: /home/jchazalo/tmp/datasets/French_ELTEC_NER_Open_Dataset/annotations/pool/azSpIJFtoHBLzVpZM3UCSIkAoQwC-FRA07101_Blondel.txt.ann.json  \n",
      "  inflating: /home/jchazalo/tmp/datasets/French_ELTEC_NER_Open_Dataset/annotations-legend.json  \n",
      "   creating: /home/jchazalo/tmp/datasets/French_ELTEC_NER_Open_Dataset/plain.html/\n",
      "   creating: /home/jchazalo/tmp/datasets/French_ELTEC_NER_Open_Dataset/plain.html/pool/\n",
      "  inflating: /home/jchazalo/tmp/datasets/French_ELTEC_NER_Open_Dataset/plain.html/pool/a.0MBIm18ieWUH8iyy4d4RIFZKSu-FRA02802_Mirbeau.txt.plain.html  \n",
      "  inflating: /home/jchazalo/tmp/datasets/French_ELTEC_NER_Open_Dataset/plain.html/pool/a.GwmWhiyt0OKvDrD6b._1MxEt2K-FRA03101_Ponson.txt.plain.html  \n",
      "  inflating: /home/jchazalo/tmp/datasets/French_ELTEC_NER_Open_Dataset/plain.html/pool/a.JUEoYT5Jt44vnpvLAg8WSk0iVm-FRA00901_Daudet.txt.plain.html  \n",
      "  inflating: /home/jchazalo/tmp/datasets/French_ELTEC_NER_Open_Dataset/plain.html/pool/a.n8hDHVP39RVA3a5sKkRffFXIUO-FRA04102_Erckmann.txt.plain.html  \n",
      "  inflating: /home/jchazalo/tmp/datasets/French_ELTEC_NER_Open_Dataset/plain.html/pool/a_C54L4cLST4beyZLSbBM1qUuygK-FRA07001_Mendes.txt.plain.html  \n",
      "  inflating: /home/jchazalo/tmp/datasets/French_ELTEC_NER_Open_Dataset/plain.html/pool/a_cdO7G8FaGY5emxh2eoIs4VTvWq-FRA01302_Flaubert.txt.plain.html  \n",
      "  inflating: /home/jchazalo/tmp/datasets/French_ELTEC_NER_Open_Dataset/plain.html/pool/a0z.I.nFSfzECA9d.L_J7DCWOZXm-FRA05801_Mille.txt.plain.html  \n",
      "  inflating: /home/jchazalo/tmp/datasets/French_ELTEC_NER_Open_Dataset/plain.html/pool/a34P3V2Cg118Ym0ahNVjTy4.Ex5O-FRA04601_Bazin.txt.plain.html  \n",
      "  inflating: /home/jchazalo/tmp/datasets/French_ELTEC_NER_Open_Dataset/plain.html/pool/a3MNF7TUrtea7XfRiJXn6Wk0b858-FRA07201_Montagne.txt.plain.html  \n",
      "  inflating: /home/jchazalo/tmp/datasets/French_ELTEC_NER_Open_Dataset/plain.html/pool/a49_fmd9IHJ2wC1gsQKizy8CDYZi-FRA04001_Verne.txt.plain.html  \n",
      "  inflating: /home/jchazalo/tmp/datasets/French_ELTEC_NER_Open_Dataset/plain.html/pool/a5.iqH.1H1PMZS_S9ADOeQldE17q-FRA01602_GautierJ.txt.plain.html  \n",
      "  inflating: /home/jchazalo/tmp/datasets/French_ELTEC_NER_Open_Dataset/plain.html/pool/a5af6lkwwCShnfYUFUypljWGfaOK-FRA03601_Proust.txt.plain.html  \n",
      "  inflating: /home/jchazalo/tmp/datasets/French_ELTEC_NER_Open_Dataset/plain.html/pool/a5KaOu4YsuzLiiz0ROmtJI7AnhtG-FRA03702_Sand.txt.plain.html  \n",
      "  inflating: /home/jchazalo/tmp/datasets/French_ELTEC_NER_Open_Dataset/plain.html/pool/a6R7A7Zoq2ls3KXj7rL3NT_W4V6S-FRA00101_Adam.txt.plain.html  \n",
      "  inflating: /home/jchazalo/tmp/datasets/French_ELTEC_NER_Open_Dataset/plain.html/pool/a71F.BlguFo3ou6nE0MparHkmd_C-FRA02202_Gouraud.txt.plain.html  \n",
      "  inflating: /home/jchazalo/tmp/datasets/French_ELTEC_NER_Open_Dataset/plain.html/pool/a7hmKErzaA84WwEI1CA2P3X.8vOW-FRA02302_Greville.txt.plain.html  \n",
      "  inflating: /home/jchazalo/tmp/datasets/French_ELTEC_NER_Open_Dataset/plain.html/pool/a7K9yh.2wyxHG509T8Fb8wCuufFy-FRA02701_Maupassant.txt.plain.html  \n",
      "  inflating: /home/jchazalo/tmp/datasets/French_ELTEC_NER_Open_Dataset/plain.html/pool/a7KC5U74jME2kMN7UrkwepzFM77S-FRA05702_Maquet.txt.plain.html  \n",
      "  inflating: /home/jchazalo/tmp/datasets/French_ELTEC_NER_Open_Dataset/plain.html/pool/a7p9e.No7R2GKqDgEh5gBOdCRhne-FRA02203_Gouraud.txt.plain.html  \n",
      "  inflating: /home/jchazalo/tmp/datasets/French_ELTEC_NER_Open_Dataset/plain.html/pool/a7x9ILGFUg81t609xJAbRizBuA9K-FRA06801_Vaillant.txt.plain.html  \n",
      "  inflating: /home/jchazalo/tmp/datasets/French_ELTEC_NER_Open_Dataset/plain.html/pool/a8ifGWtH6jLsTLFEhsHz_ENJP11y-FRA00602_Boisgobey.txt.plain.html  \n",
      "  inflating: /home/jchazalo/tmp/datasets/French_ELTEC_NER_Open_Dataset/plain.html/pool/a9_JuHi9In_5VsmgTMcy5iOTqgVe-FRA01603_GautierJ.txt.plain.html  \n",
      "  inflating: /home/jchazalo/tmp/datasets/French_ELTEC_NER_Open_Dataset/plain.html/pool/a92twUwlsYoRjJ8euN0AMEhWGNQW-FRA04901_Dumas.txt.plain.html  \n",
      "  inflating: /home/jchazalo/tmp/datasets/French_ELTEC_NER_Open_Dataset/plain.html/pool/a9FSAunkcRYSVp9TeHFuqJ5cVxIS-FRA01201_Feval.txt.plain.html  \n",
      "  inflating: /home/jchazalo/tmp/datasets/French_ELTEC_NER_Open_Dataset/plain.html/pool/a9P3XY5QqtvJFE.mQfM9M23M4M4m-FRA01401_Fleuriot.txt.plain.html  \n",
      "  inflating: /home/jchazalo/tmp/datasets/French_ELTEC_NER_Open_Dataset/plain.html/pool/aAAH8jUAa3ntArp8vRpY5ugdwvLS-FRA05201_Feuillet.txt.plain.html  \n",
      "  inflating: /home/jchazalo/tmp/datasets/French_ELTEC_NER_Open_Dataset/plain.html/pool/aaNd0P7.1oMqW5ygGCMZqhCCzXZe-FRA06001_Rebell.txt.plain.html  \n",
      "  inflating: /home/jchazalo/tmp/datasets/French_ELTEC_NER_Open_Dataset/plain.html/pool/aap1i.sUcbMOHzBFrWagaR3v9YhK-FRA06501_Gyp.txt.plain.html  \n",
      "  inflating: /home/jchazalo/tmp/datasets/French_ELTEC_NER_Open_Dataset/plain.html/pool/aAS0WZEtuwL67MLmDsJ3kLDhe33W-FRA04801_Corday.txt.plain.html  \n",
      "  inflating: /home/jchazalo/tmp/datasets/French_ELTEC_NER_Open_Dataset/plain.html/pool/aatgMri5vGFFR91ztyo2Vpp4RLJ4-FRA06901_Vignon.txt.plain.html  \n",
      "  inflating: /home/jchazalo/tmp/datasets/French_ELTEC_NER_Open_Dataset/plain.html/pool/aaUXY5cOU5zVcD4h6kxELupRWNKC-FRA00801_Dash.txt.plain.html  \n",
      "  inflating: /home/jchazalo/tmp/datasets/French_ELTEC_NER_Open_Dataset/plain.html/pool/abAe3jd6lQovJLSTvdifwTjw14iK-FRA02303_Greville.txt.plain.html  \n",
      "  inflating: /home/jchazalo/tmp/datasets/French_ELTEC_NER_Open_Dataset/plain.html/pool/abBmPweZyAxzbqSOGsC_bzk_WIuG-FRA02301_Greville.txt.plain.html  \n",
      "  inflating: /home/jchazalo/tmp/datasets/French_ELTEC_NER_Open_Dataset/plain.html/pool/abRcy3SO2ZZgE3XqxWkJ2goP1D30-FRA04002_Verne.txt.plain.html  \n",
      "  inflating: /home/jchazalo/tmp/datasets/French_ELTEC_NER_Open_Dataset/plain.html/pool/aCBPDbOM5zaCJ.9M5n6m8l9RxWMC-FRA00601_Boisgobey.txt.plain.html  \n",
      "  inflating: /home/jchazalo/tmp/datasets/French_ELTEC_NER_Open_Dataset/plain.html/pool/aCQVyShyQUhBawtxZ9Eq7whm687a-FRA00401_Allais.txt.plain.html  \n",
      "  inflating: /home/jchazalo/tmp/datasets/French_ELTEC_NER_Open_Dataset/plain.html/pool/aDNsOWosoMcvWAOS7unI4MFI5va4-FRA03701_Sand.txt.plain.html  \n",
      "  inflating: /home/jchazalo/tmp/datasets/French_ELTEC_NER_Open_Dataset/plain.html/pool/aDXiGUcFvQ5eGRTuXHgEa3Jj7zQu-FRA01301_Flaubert.txt.plain.html  \n",
      "  inflating: /home/jchazalo/tmp/datasets/French_ELTEC_NER_Open_Dataset/plain.html/pool/ae7pSxEUY74LSaal.Kro451VKTsq-FRA01102_Dombre.txt.plain.html  \n",
      "  inflating: /home/jchazalo/tmp/datasets/French_ELTEC_NER_Open_Dataset/plain.html/pool/aeA9_2pkQRJejockZFU7lsVocD.m-FRA03802_Stern.txt.plain.html  \n",
      "  inflating: /home/jchazalo/tmp/datasets/French_ELTEC_NER_Open_Dataset/plain.html/pool/aeb6idLObyWMnd5MtaJys1554048-FRA07401_Leblanc.txt.plain.html  \n",
      "  inflating: /home/jchazalo/tmp/datasets/French_ELTEC_NER_Open_Dataset/plain.html/pool/aEf9W6iinoZdPr42zuEOPWW0TMPS-FRA06201_Viel_Castel.txt.plain.html  \n",
      "  inflating: /home/jchazalo/tmp/datasets/French_ELTEC_NER_Open_Dataset/plain.html/pool/aEh3dvy7r5ksqjMb7fjWUtll7Zg8-FRA02101_Girardin.txt.plain.html  \n",
      "  inflating: /home/jchazalo/tmp/datasets/French_ELTEC_NER_Open_Dataset/plain.html/pool/aEHUPuyJPVmulQZkJ8BakruAiyDW-FRA05501_Lermina.txt.plain.html  \n",
      "  inflating: /home/jchazalo/tmp/datasets/French_ELTEC_NER_Open_Dataset/plain.html/pool/aEO_8KhvsTLAWv2QqX4SZ0IvY7hm-FRA06701_Uchard.txt.plain.html  \n",
      "  inflating: /home/jchazalo/tmp/datasets/French_ELTEC_NER_Open_Dataset/plain.html/pool/af0u6DgsEdyVpxcbndj0QXkD5f8e-FRA02001_Gilbert.txt.plain.html  \n",
      "  inflating: /home/jchazalo/tmp/datasets/French_ELTEC_NER_Open_Dataset/plain.html/pool/af67Kaz1_jylPOmtkzzx3n1glxgu-FRA02602_Malot.txt.plain.html  \n",
      "  inflating: /home/jchazalo/tmp/datasets/French_ELTEC_NER_Open_Dataset/plain.html/pool/afD.eCL61SdDPWRjTudoAM2jk9DS-FRA04301_Achard.txt.plain.html  \n",
      "  inflating: /home/jchazalo/tmp/datasets/French_ELTEC_NER_Open_Dataset/plain.html/pool/afvwbyoO7Lc3pbviRJ4voJDp9CFy-FRA00701_Carraud.txt.plain.html  \n",
      "  inflating: /home/jchazalo/tmp/datasets/French_ELTEC_NER_Open_Dataset/plain.html/pool/afXwgQxPdGPe1nuqY7U97zHX_0YO-FRA02702_Maupassant.txt.plain.html  \n",
      "  inflating: /home/jchazalo/tmp/datasets/French_ELTEC_NER_Open_Dataset/plain.html/pool/aG49xz4Q9_gdA4MV1ZHTDJY7iTxu-FRA05301_Galopin.txt.plain.html  \n",
      "  inflating: /home/jchazalo/tmp/datasets/French_ELTEC_NER_Open_Dataset/plain.html/pool/ag93CAXG3E9n6DWgCGjk1_8VctWG-FRA04501_Barres.txt.plain.html  \n",
      "  inflating: /home/jchazalo/tmp/datasets/French_ELTEC_NER_Open_Dataset/plain.html/pool/aGi__KH0QNZ1ANFO76o7qB8OvMXy-FRA06601_Peladan.txt.plain.html  \n",
      "  inflating: /home/jchazalo/tmp/datasets/French_ELTEC_NER_Open_Dataset/plain.html/pool/aH5qNy4.zUDTPvAx3QCcB2tmag.m-FRA01601_GautierJ.txt.plain.html  \n",
      "  inflating: /home/jchazalo/tmp/datasets/French_ELTEC_NER_Open_Dataset/plain.html/pool/aHqzKMns1U.VfQU61Eidq6joaKY8-FRA00501_Balzac.txt.plain.html  \n",
      "  inflating: /home/jchazalo/tmp/datasets/French_ELTEC_NER_Open_Dataset/plain.html/pool/aIReqXLmfG2XNR9EgVhsTm7g9Nwq-FRA01202_Feval.txt.plain.html  \n",
      "  inflating: /home/jchazalo/tmp/datasets/French_ELTEC_NER_Open_Dataset/plain.html/pool/ais.zEAqAoTv6LLSHmdQZZhpotOy-FRA03704_Sand.txt.plain.html  \n",
      "  inflating: /home/jchazalo/tmp/datasets/French_ELTEC_NER_Open_Dataset/plain.html/pool/aIxhb2vKFLTTMf2ar6HKtpfoykbu-FRA00503_Balzac.txt.plain.html  \n",
      "  inflating: /home/jchazalo/tmp/datasets/French_ELTEC_NER_Open_Dataset/plain.html/pool/ajipOWiJD9GPyfbX6PqrIe8zjSaq-FRA02901_Noailles.txt.plain.html  \n",
      "  inflating: /home/jchazalo/tmp/datasets/French_ELTEC_NER_Open_Dataset/plain.html/pool/aJQTThcaB8.Acw1DFtECxCK5vzt8-FRA04701_Bourget.txt.plain.html  \n",
      "  inflating: /home/jchazalo/tmp/datasets/French_ELTEC_NER_Open_Dataset/plain.html/pool/ajZkDlX3ay1ok7gRkblZSAtH9zqu-FRA02603_Malot.txt.plain.html  \n",
      "  inflating: /home/jchazalo/tmp/datasets/French_ELTEC_NER_Open_Dataset/plain.html/pool/aKkZSKV.hejO9ZW8qYAWkHXDvJDS-FRA02401_LeRouge.txt.plain.html  \n",
      "  inflating: /home/jchazalo/tmp/datasets/French_ELTEC_NER_Open_Dataset/plain.html/pool/akYsbhpc1oJq3Dehn4EHwAvA8AtO-FRA00102_Adam.txt.plain.html  \n",
      "  inflating: /home/jchazalo/tmp/datasets/French_ELTEC_NER_Open_Dataset/plain.html/pool/alkA23MadVN2ldDkHGZVuuIZTrJ0-FRA03903_Stolz.txt.plain.html  \n",
      "  inflating: /home/jchazalo/tmp/datasets/French_ELTEC_NER_Open_Dataset/plain.html/pool/am4zRbLRf8dk_Aq0ezymar2pUN4C-FRA03401_Reybaud.txt.plain.html  \n",
      "  inflating: /home/jchazalo/tmp/datasets/French_ELTEC_NER_Open_Dataset/plain.html/pool/amC03G616xHD2JuEngguPRbuYrUq-FRA01203_Feval.txt.plain.html  \n",
      "  inflating: /home/jchazalo/tmp/datasets/French_ELTEC_NER_Open_Dataset/plain.html/pool/aMZR68No2EuMXD9NXGsQEtfYuquS-FRA01801_Gay.txt.plain.html  \n",
      "  inflating: /home/jchazalo/tmp/datasets/French_ELTEC_NER_Open_Dataset/plain.html/pool/aNCbIv5xgBC.YcGZOQCyOAqK2poS-FRA03201_Blandy.txt.plain.html  \n",
      "  inflating: /home/jchazalo/tmp/datasets/French_ELTEC_NER_Open_Dataset/plain.html/pool/aOjm9dSki.Gyp1bEbyCKUXvR3Z8O-FRA01902_Gaboriau.txt.plain.html  \n",
      "  inflating: /home/jchazalo/tmp/datasets/French_ELTEC_NER_Open_Dataset/plain.html/pool/aOZ2nsgBpU4w83XtJzB_t5XIPaMK-FRA05602_Lesueur.txt.plain.html  \n",
      "  inflating: /home/jchazalo/tmp/datasets/French_ELTEC_NER_Open_Dataset/plain.html/pool/apApNAN_NnyMmYsg0izGu5fIi02q-FRA00302_Aimard.txt.plain.html  \n",
      "  inflating: /home/jchazalo/tmp/datasets/French_ELTEC_NER_Open_Dataset/plain.html/pool/apJyPBI2e_FpFsK_ZetwJmImElc8-FRA01701_GautierT.txt.plain.html  \n",
      "  inflating: /home/jchazalo/tmp/datasets/French_ELTEC_NER_Open_Dataset/plain.html/pool/apRNjaOFY5VhqHbJ1QCQ6BWo7QAG-FRA07601_Leroux.txt.plain.html  \n",
      "  inflating: /home/jchazalo/tmp/datasets/French_ELTEC_NER_Open_Dataset/plain.html/pool/aQMcTkc_8bmGK97Mddjf6.wBMR74-FRA01402_Fleuriot.txt.plain.html  \n",
      "  inflating: /home/jchazalo/tmp/datasets/French_ELTEC_NER_Open_Dataset/plain.html/pool/aQpnuNsLE_swa6vu75f8axlDHpaW-FRA00301_Aimard.txt.plain.html  \n",
      "  inflating: /home/jchazalo/tmp/datasets/French_ELTEC_NER_Open_Dataset/plain.html/pool/aradq6esreGAcnK9UnA4GpsvPaDG-FRA07301_Valgand.txt.plain.html  \n",
      "  inflating: /home/jchazalo/tmp/datasets/French_ELTEC_NER_Open_Dataset/plain.html/pool/aRKaO1HTqsWZrkEblhrEyMnJaTke-FRA03003_Ohnet.txt.plain.html  \n",
      "  inflating: /home/jchazalo/tmp/datasets/French_ELTEC_NER_Open_Dataset/plain.html/pool/aRkvpMC35BRiZLXyqejK7zHtvVTC-FRA01303_Flaubert.txt.plain.html  \n",
      "  inflating: /home/jchazalo/tmp/datasets/French_ELTEC_NER_Open_Dataset/plain.html/pool/arpPvk5rH.GEmSvcIuqvNk894DvC-FRA00201_Audoux.txt.plain.html  \n",
      "  inflating: /home/jchazalo/tmp/datasets/French_ELTEC_NER_Open_Dataset/plain.html/pool/aRsXx.vht_It2aJeIZUc7MyU8Pdu-FRA04202_Rolland.txt.plain.html  \n",
      "  inflating: /home/jchazalo/tmp/datasets/French_ELTEC_NER_Open_Dataset/plain.html/pool/aS22wZszAN02LNh6VcXvYm.zrhiq-FRA05401_Kock.txt.plain.html  \n",
      "  inflating: /home/jchazalo/tmp/datasets/French_ELTEC_NER_Open_Dataset/plain.html/pool/aszTBqJICElzYQZ2KOuA80nSuzzO-FRA03002_Ohnet.txt.plain.html  \n",
      "  inflating: /home/jchazalo/tmp/datasets/French_ELTEC_NER_Open_Dataset/plain.html/pool/aTq8HnN_Pw58oRJ1gClDvWtU8mqG-FRA07501_Darien.txt.plain.html  \n",
      "  inflating: /home/jchazalo/tmp/datasets/French_ELTEC_NER_Open_Dataset/plain.html/pool/aTZvAK.SNhyJlS.YZjENrPlhU8wC-FRA02601_Malot.txt.plain.html  \n",
      "  inflating: /home/jchazalo/tmp/datasets/French_ELTEC_NER_Open_Dataset/plain.html/pool/au1r7i2CdAMXL_66FKdlUjAeYR_S-FRA01501_France.txt.plain.html  \n",
      "  inflating: /home/jchazalo/tmp/datasets/French_ELTEC_NER_Open_Dataset/plain.html/pool/au8d_r3CRvJGVeD3BSAhJnkTySTi-FRA02201_Gouraud.txt.plain.html  \n",
      "  inflating: /home/jchazalo/tmp/datasets/French_ELTEC_NER_Open_Dataset/plain.html/pool/auKBnMUJlJYT0kIXYs26Mc9NvDVi-FRA05101_Eekhoud.txt.plain.html  \n",
      "  inflating: /home/jchazalo/tmp/datasets/French_ELTEC_NER_Open_Dataset/plain.html/pool/aUUjL2CF6wN9In1aTr_rEIT5J23e-FRA06301_Montepin.txt.plain.html  \n",
      "  inflating: /home/jchazalo/tmp/datasets/French_ELTEC_NER_Open_Dataset/plain.html/pool/auZmigexkcZAtLsTQcKBSTBTmaOi-FRA02501_Loti.txt.plain.html  \n",
      "  inflating: /home/jchazalo/tmp/datasets/French_ELTEC_NER_Open_Dataset/plain.html/pool/aV6f6cXGmcgx5FnxTWk5NIZBGHce-FRA03302_Rattazzi.txt.plain.html  \n",
      "  inflating: /home/jchazalo/tmp/datasets/French_ELTEC_NER_Open_Dataset/plain.html/pool/aVsLobdZGQhwZQVfrVYk0W49xpqu-FRA05901_Moselly.txt.plain.html  \n",
      "  inflating: /home/jchazalo/tmp/datasets/French_ELTEC_NER_Open_Dataset/plain.html/pool/aW9XeObpMHpr3FpcV0GTZMD1ntlK-FRA01101_Dombre.txt.plain.html  \n",
      "  inflating: /home/jchazalo/tmp/datasets/French_ELTEC_NER_Open_Dataset/plain.html/pool/aWhjJ.i8J0rR69twVQsYk70I8umq-FRA04401_Barbusse.txt.plain.html  \n",
      "  inflating: /home/jchazalo/tmp/datasets/French_ELTEC_NER_Open_Dataset/plain.html/pool/aWKzYsiJtoMDIhWYTDBWtOaMQUDG-FRA01403_Fleuriot.txt.plain.html  \n",
      "  inflating: /home/jchazalo/tmp/datasets/French_ELTEC_NER_Open_Dataset/plain.html/pool/aWPS3B83IFWYCcPBZBSr8630HPUm-FRA06101_Sandeau.txt.plain.html  \n",
      "  inflating: /home/jchazalo/tmp/datasets/French_ELTEC_NER_Open_Dataset/plain.html/pool/axs3Hj9KXAuLCtKIRi416p2YrmmC-FRA03001_Ohnet.txt.plain.html  \n",
      "  inflating: /home/jchazalo/tmp/datasets/French_ELTEC_NER_Open_Dataset/plain.html/pool/aYfUdIZ4Enyib2yScShLWIV17L28-FRA00502_Balzac.txt.plain.html  \n",
      "  inflating: /home/jchazalo/tmp/datasets/French_ELTEC_NER_Open_Dataset/plain.html/pool/ayHhyo58Td1JOQQPB6UAy67azg_O-FRA06401_Chandeneux.txt.plain.html  \n",
      "  inflating: /home/jchazalo/tmp/datasets/French_ELTEC_NER_Open_Dataset/plain.html/pool/az2CA8KJWOb.PZ49ZQoBqRmF3SLO-FRA01002_DelarueMardrus.txt.plain.html  \n",
      "  inflating: /home/jchazalo/tmp/datasets/French_ELTEC_NER_Open_Dataset/plain.html/pool/azSpIJFtoHBLzVpZM3UCSIkAoQwC-FRA07101_Blondel.txt.plain.html  \n",
      "  inflating: /home/jchazalo/tmp/datasets/French_ELTEC_NER_Open_Dataset/README.md  \n",
      "   creating: /home/jchazalo/tmp/datasets/French_ELTEC_NER_Open_Dataset/texts/\n",
      "  inflating: /home/jchazalo/tmp/datasets/French_ELTEC_NER_Open_Dataset/texts/tr_FRA00101_Adam.txt  \n",
      "  inflating: /home/jchazalo/tmp/datasets/French_ELTEC_NER_Open_Dataset/texts/tr_FRA00102_Adam.txt  \n",
      "  inflating: /home/jchazalo/tmp/datasets/French_ELTEC_NER_Open_Dataset/texts/tr_FRA00201_Audoux.txt  \n",
      "  inflating: /home/jchazalo/tmp/datasets/French_ELTEC_NER_Open_Dataset/texts/tr_FRA00301_Aimard.txt  \n",
      "  inflating: /home/jchazalo/tmp/datasets/French_ELTEC_NER_Open_Dataset/texts/tr_FRA00302_Aimard.txt  \n",
      "  inflating: /home/jchazalo/tmp/datasets/French_ELTEC_NER_Open_Dataset/texts/tr_FRA00401_Allais.txt  \n",
      "  inflating: /home/jchazalo/tmp/datasets/French_ELTEC_NER_Open_Dataset/texts/tr_FRA00501_Balzac.txt  \n",
      "  inflating: /home/jchazalo/tmp/datasets/French_ELTEC_NER_Open_Dataset/texts/tr_FRA00502_Balzac.txt  \n",
      "  inflating: /home/jchazalo/tmp/datasets/French_ELTEC_NER_Open_Dataset/texts/tr_FRA00503_Balzac.txt  \n",
      "  inflating: /home/jchazalo/tmp/datasets/French_ELTEC_NER_Open_Dataset/texts/tr_FRA00601_Boisgobey.txt  \n",
      "  inflating: /home/jchazalo/tmp/datasets/French_ELTEC_NER_Open_Dataset/texts/tr_FRA00602_Boisgobey.txt  \n",
      "  inflating: /home/jchazalo/tmp/datasets/French_ELTEC_NER_Open_Dataset/texts/tr_FRA00701_Carraud.txt  \n",
      "  inflating: /home/jchazalo/tmp/datasets/French_ELTEC_NER_Open_Dataset/texts/tr_FRA00801_Dash.txt  \n",
      "  inflating: /home/jchazalo/tmp/datasets/French_ELTEC_NER_Open_Dataset/texts/tr_FRA00901_Daudet.txt  \n",
      "  inflating: /home/jchazalo/tmp/datasets/French_ELTEC_NER_Open_Dataset/texts/tr_FRA01002_DelarueMardrus.txt  \n",
      "  inflating: /home/jchazalo/tmp/datasets/French_ELTEC_NER_Open_Dataset/texts/tr_FRA01101_Dombre.txt  \n",
      "  inflating: /home/jchazalo/tmp/datasets/French_ELTEC_NER_Open_Dataset/texts/tr_FRA01102_Dombre.txt  \n",
      "  inflating: /home/jchazalo/tmp/datasets/French_ELTEC_NER_Open_Dataset/texts/tr_FRA01201_Feval.txt  \n",
      "  inflating: /home/jchazalo/tmp/datasets/French_ELTEC_NER_Open_Dataset/texts/tr_FRA01202_Feval.txt  \n",
      "  inflating: /home/jchazalo/tmp/datasets/French_ELTEC_NER_Open_Dataset/texts/tr_FRA01203_Feval.txt  \n",
      "  inflating: /home/jchazalo/tmp/datasets/French_ELTEC_NER_Open_Dataset/texts/tr_FRA01301_Flaubert.txt  \n",
      "  inflating: /home/jchazalo/tmp/datasets/French_ELTEC_NER_Open_Dataset/texts/tr_FRA01302_Flaubert.txt  \n",
      "  inflating: /home/jchazalo/tmp/datasets/French_ELTEC_NER_Open_Dataset/texts/tr_FRA01303_Flaubert.txt  \n",
      "  inflating: /home/jchazalo/tmp/datasets/French_ELTEC_NER_Open_Dataset/texts/tr_FRA01401_Fleuriot.txt  \n",
      "  inflating: /home/jchazalo/tmp/datasets/French_ELTEC_NER_Open_Dataset/texts/tr_FRA01402_Fleuriot.txt  \n",
      "  inflating: /home/jchazalo/tmp/datasets/French_ELTEC_NER_Open_Dataset/texts/tr_FRA01403_Fleuriot.txt  \n",
      "  inflating: /home/jchazalo/tmp/datasets/French_ELTEC_NER_Open_Dataset/texts/tr_FRA01501_France.txt  \n",
      "  inflating: /home/jchazalo/tmp/datasets/French_ELTEC_NER_Open_Dataset/texts/tr_FRA01601_GautierJ.txt  \n",
      "  inflating: /home/jchazalo/tmp/datasets/French_ELTEC_NER_Open_Dataset/texts/tr_FRA01602_GautierJ.txt  \n",
      "  inflating: /home/jchazalo/tmp/datasets/French_ELTEC_NER_Open_Dataset/texts/tr_FRA01603_GautierJ.txt  \n",
      "  inflating: /home/jchazalo/tmp/datasets/French_ELTEC_NER_Open_Dataset/texts/tr_FRA01701_GautierT.txt  \n",
      "  inflating: /home/jchazalo/tmp/datasets/French_ELTEC_NER_Open_Dataset/texts/tr_FRA01801_Gay.txt  \n",
      "  inflating: /home/jchazalo/tmp/datasets/French_ELTEC_NER_Open_Dataset/texts/tr_FRA01902_Gaboriau.txt  \n",
      "  inflating: /home/jchazalo/tmp/datasets/French_ELTEC_NER_Open_Dataset/texts/tr_FRA02001_Gilbert.txt  \n",
      "  inflating: /home/jchazalo/tmp/datasets/French_ELTEC_NER_Open_Dataset/texts/tr_FRA02101_Girardin.txt  \n",
      "  inflating: /home/jchazalo/tmp/datasets/French_ELTEC_NER_Open_Dataset/texts/tr_FRA02201_Gouraud.txt  \n",
      "  inflating: /home/jchazalo/tmp/datasets/French_ELTEC_NER_Open_Dataset/texts/tr_FRA02202_Gouraud.txt  \n",
      "  inflating: /home/jchazalo/tmp/datasets/French_ELTEC_NER_Open_Dataset/texts/tr_FRA02203_Gouraud.txt  \n",
      "  inflating: /home/jchazalo/tmp/datasets/French_ELTEC_NER_Open_Dataset/texts/tr_FRA02301_Greville.txt  \n",
      "  inflating: /home/jchazalo/tmp/datasets/French_ELTEC_NER_Open_Dataset/texts/tr_FRA02302_Greville.txt  \n",
      "  inflating: /home/jchazalo/tmp/datasets/French_ELTEC_NER_Open_Dataset/texts/tr_FRA02303_Greville.txt  \n",
      "  inflating: /home/jchazalo/tmp/datasets/French_ELTEC_NER_Open_Dataset/texts/tr_FRA02401_LeRouge.txt  \n",
      "  inflating: /home/jchazalo/tmp/datasets/French_ELTEC_NER_Open_Dataset/texts/tr_FRA02501_Loti.txt  \n",
      "  inflating: /home/jchazalo/tmp/datasets/French_ELTEC_NER_Open_Dataset/texts/tr_FRA02601_Malot.txt  \n",
      "  inflating: /home/jchazalo/tmp/datasets/French_ELTEC_NER_Open_Dataset/texts/tr_FRA02602_Malot.txt  \n",
      "  inflating: /home/jchazalo/tmp/datasets/French_ELTEC_NER_Open_Dataset/texts/tr_FRA02603_Malot.txt  \n",
      "  inflating: /home/jchazalo/tmp/datasets/French_ELTEC_NER_Open_Dataset/texts/tr_FRA02701_Maupassant.txt  \n",
      "  inflating: /home/jchazalo/tmp/datasets/French_ELTEC_NER_Open_Dataset/texts/tr_FRA02702_Maupassant.txt  \n",
      "  inflating: /home/jchazalo/tmp/datasets/French_ELTEC_NER_Open_Dataset/texts/tr_FRA02802_Mirbeau.txt  \n",
      "  inflating: /home/jchazalo/tmp/datasets/French_ELTEC_NER_Open_Dataset/texts/tr_FRA02901_Noailles.txt  \n",
      "  inflating: /home/jchazalo/tmp/datasets/French_ELTEC_NER_Open_Dataset/texts/tr_FRA03001_Ohnet.txt  \n",
      "  inflating: /home/jchazalo/tmp/datasets/French_ELTEC_NER_Open_Dataset/texts/tr_FRA03002_Ohnet.txt  \n",
      "  inflating: /home/jchazalo/tmp/datasets/French_ELTEC_NER_Open_Dataset/texts/tr_FRA03003_Ohnet.txt  \n",
      "  inflating: /home/jchazalo/tmp/datasets/French_ELTEC_NER_Open_Dataset/texts/tr_FRA03101_Ponson.txt  \n",
      "  inflating: /home/jchazalo/tmp/datasets/French_ELTEC_NER_Open_Dataset/texts/tr_FRA03201_Blandy.txt  \n",
      "  inflating: /home/jchazalo/tmp/datasets/French_ELTEC_NER_Open_Dataset/texts/tr_FRA03302_Rattazzi.txt  \n",
      "  inflating: /home/jchazalo/tmp/datasets/French_ELTEC_NER_Open_Dataset/texts/tr_FRA03401_Reybaud.txt  \n",
      "  inflating: /home/jchazalo/tmp/datasets/French_ELTEC_NER_Open_Dataset/texts/tr_FRA03601_Proust.txt  \n",
      "  inflating: /home/jchazalo/tmp/datasets/French_ELTEC_NER_Open_Dataset/texts/tr_FRA03701_Sand.txt  \n",
      "  inflating: /home/jchazalo/tmp/datasets/French_ELTEC_NER_Open_Dataset/texts/tr_FRA03702_Sand.txt  \n",
      "  inflating: /home/jchazalo/tmp/datasets/French_ELTEC_NER_Open_Dataset/texts/tr_FRA03704_Sand.txt  \n",
      "  inflating: /home/jchazalo/tmp/datasets/French_ELTEC_NER_Open_Dataset/texts/tr_FRA03802_Stern.txt  \n",
      "  inflating: /home/jchazalo/tmp/datasets/French_ELTEC_NER_Open_Dataset/texts/tr_FRA03903_Stolz.txt  \n",
      "  inflating: /home/jchazalo/tmp/datasets/French_ELTEC_NER_Open_Dataset/texts/tr_FRA04001_Verne.txt  \n",
      "  inflating: /home/jchazalo/tmp/datasets/French_ELTEC_NER_Open_Dataset/texts/tr_FRA04002_Verne.txt  \n",
      "  inflating: /home/jchazalo/tmp/datasets/French_ELTEC_NER_Open_Dataset/texts/tr_FRA04102_Erckmann.txt  \n",
      "  inflating: /home/jchazalo/tmp/datasets/French_ELTEC_NER_Open_Dataset/texts/tr_FRA04202_Rolland.txt  \n",
      "  inflating: /home/jchazalo/tmp/datasets/French_ELTEC_NER_Open_Dataset/texts/tr_FRA04301_Achard.txt  \n",
      "  inflating: /home/jchazalo/tmp/datasets/French_ELTEC_NER_Open_Dataset/texts/tr_FRA04401_Barbusse.txt  \n",
      "  inflating: /home/jchazalo/tmp/datasets/French_ELTEC_NER_Open_Dataset/texts/tr_FRA04501_Barres.txt  \n",
      "  inflating: /home/jchazalo/tmp/datasets/French_ELTEC_NER_Open_Dataset/texts/tr_FRA04601_Bazin.txt  \n",
      "  inflating: /home/jchazalo/tmp/datasets/French_ELTEC_NER_Open_Dataset/texts/tr_FRA04701_Bourget.txt  \n",
      "  inflating: /home/jchazalo/tmp/datasets/French_ELTEC_NER_Open_Dataset/texts/tr_FRA04801_Corday.txt  \n",
      "  inflating: /home/jchazalo/tmp/datasets/French_ELTEC_NER_Open_Dataset/texts/tr_FRA04901_Dumas.txt  \n",
      "  inflating: /home/jchazalo/tmp/datasets/French_ELTEC_NER_Open_Dataset/texts/tr_FRA05101_Eekhoud.txt  \n",
      "  inflating: /home/jchazalo/tmp/datasets/French_ELTEC_NER_Open_Dataset/texts/tr_FRA05201_Feuillet.txt  \n",
      "  inflating: /home/jchazalo/tmp/datasets/French_ELTEC_NER_Open_Dataset/texts/tr_FRA05301_Galopin.txt  \n",
      "  inflating: /home/jchazalo/tmp/datasets/French_ELTEC_NER_Open_Dataset/texts/tr_FRA05401_Kock.txt  \n",
      "  inflating: /home/jchazalo/tmp/datasets/French_ELTEC_NER_Open_Dataset/texts/tr_FRA05501_Lermina.txt  \n",
      "  inflating: /home/jchazalo/tmp/datasets/French_ELTEC_NER_Open_Dataset/texts/tr_FRA05602_Lesueur.txt  \n",
      "  inflating: /home/jchazalo/tmp/datasets/French_ELTEC_NER_Open_Dataset/texts/tr_FRA05702_Maquet.txt  \n",
      "  inflating: /home/jchazalo/tmp/datasets/French_ELTEC_NER_Open_Dataset/texts/tr_FRA05801_Mille.txt  \n",
      "  inflating: /home/jchazalo/tmp/datasets/French_ELTEC_NER_Open_Dataset/texts/tr_FRA05901_Moselly.txt  \n",
      "  inflating: /home/jchazalo/tmp/datasets/French_ELTEC_NER_Open_Dataset/texts/tr_FRA06001_Rebell.txt  \n",
      "  inflating: /home/jchazalo/tmp/datasets/French_ELTEC_NER_Open_Dataset/texts/tr_FRA06101_Sandeau.txt  \n",
      "  inflating: /home/jchazalo/tmp/datasets/French_ELTEC_NER_Open_Dataset/texts/tr_FRA06201_Viel-Castel.txt  \n",
      "  inflating: /home/jchazalo/tmp/datasets/French_ELTEC_NER_Open_Dataset/texts/tr_FRA06301_Montepin.txt  \n",
      "  inflating: /home/jchazalo/tmp/datasets/French_ELTEC_NER_Open_Dataset/texts/tr_FRA06401_Chandeneux.txt  \n",
      "  inflating: /home/jchazalo/tmp/datasets/French_ELTEC_NER_Open_Dataset/texts/tr_FRA06501_Gyp.txt  \n",
      "  inflating: /home/jchazalo/tmp/datasets/French_ELTEC_NER_Open_Dataset/texts/tr_FRA06601_Peladan.txt  \n",
      "  inflating: /home/jchazalo/tmp/datasets/French_ELTEC_NER_Open_Dataset/texts/tr_FRA06701_Uchard.txt  \n",
      "  inflating: /home/jchazalo/tmp/datasets/French_ELTEC_NER_Open_Dataset/texts/tr_FRA06801_Vaillant.txt  \n",
      "  inflating: /home/jchazalo/tmp/datasets/French_ELTEC_NER_Open_Dataset/texts/tr_FRA06901_Vignon.txt  \n",
      "  inflating: /home/jchazalo/tmp/datasets/French_ELTEC_NER_Open_Dataset/texts/tr_FRA07001_Mendes.txt  \n",
      "  inflating: /home/jchazalo/tmp/datasets/French_ELTEC_NER_Open_Dataset/texts/tr_FRA07101_Blondel.txt  \n",
      "  inflating: /home/jchazalo/tmp/datasets/French_ELTEC_NER_Open_Dataset/texts/tr_FRA07201_Montagne.txt  \n",
      "  inflating: /home/jchazalo/tmp/datasets/French_ELTEC_NER_Open_Dataset/texts/tr_FRA07301_Valgand.txt  \n",
      "  inflating: /home/jchazalo/tmp/datasets/French_ELTEC_NER_Open_Dataset/texts/tr_FRA07401_Leblanc.txt  \n",
      "  inflating: /home/jchazalo/tmp/datasets/French_ELTEC_NER_Open_Dataset/texts/tr_FRA07501_Darien.txt  \n",
      "  inflating: /home/jchazalo/tmp/datasets/French_ELTEC_NER_Open_Dataset/texts/tr_FRA07601_Leroux.txt  \n",
      "total 896\n",
      "-rw-r--r-- 1 jchazalo jchazalo  2929 nov.  11  2022 tr_FRA00101_Adam.txt\n",
      "-rw-r--r-- 1 jchazalo jchazalo  2303 nov.  11  2022 tr_FRA00102_Adam.txt\n",
      "-rw-r--r-- 1 jchazalo jchazalo  4095 nov.  11  2022 tr_FRA00201_Audoux.txt\n",
      "-rw-r--r-- 1 jchazalo jchazalo  6142 nov.  11  2022 tr_FRA00301_Aimard.txt\n",
      "-rw-r--r-- 1 jchazalo jchazalo  1954 nov.  11  2022 tr_FRA00302_Aimard.txt\n",
      "-rw-r--r-- 1 jchazalo jchazalo  2023 nov.  11  2022 tr_FRA00401_Allais.txt\n",
      "-rw-r--r-- 1 jchazalo jchazalo  7188 nov.  11  2022 tr_FRA00501_Balzac.txt\n",
      "-rw-r--r-- 1 jchazalo jchazalo 29251 nov.  11  2022 tr_FRA00502_Balzac.txt\n",
      "-rw-r--r-- 1 jchazalo jchazalo 47515 nov.  11  2022 tr_FRA00503_Balzac.txt\n",
      "-rw-r--r-- 1 jchazalo jchazalo  4732 nov.  11  2022 tr_FRA00601_Boisgobey.txt\n",
      "-rw-r--r-- 1 jchazalo jchazalo  2631 nov.  11  2022 tr_FRA00602_Boisgobey.txt\n",
      "-rw-r--r-- 1 jchazalo jchazalo  5961 nov.  11  2022 tr_FRA00701_Carraud.txt\n",
      "-rw-r--r-- 1 jchazalo jchazalo  4751 nov.  11  2022 tr_FRA00801_Dash.txt\n",
      "-rw-r--r-- 1 jchazalo jchazalo  9130 nov.  11  2022 tr_FRA00901_Daudet.txt\n",
      "-rw-r--r-- 1 jchazalo jchazalo  4564 nov.  11  2022 tr_FRA01002_DelarueMardrus.txt\n",
      "-rw-r--r-- 1 jchazalo jchazalo  2014 nov.  11  2022 tr_FRA01101_Dombre.txt\n",
      "-rw-r--r-- 1 jchazalo jchazalo  3864 nov.  11  2022 tr_FRA01102_Dombre.txt\n",
      "-rw-r--r-- 1 jchazalo jchazalo  3661 nov.  11  2022 tr_FRA01201_Feval.txt\n",
      "-rw-r--r-- 1 jchazalo jchazalo  6176 nov.  11  2022 tr_FRA01202_Feval.txt\n",
      "-rw-r--r-- 1 jchazalo jchazalo  5912 nov.  11  2022 tr_FRA01203_Feval.txt\n",
      "-rw-r--r-- 1 jchazalo jchazalo  5451 nov.  11  2022 tr_FRA01301_Flaubert.txt\n",
      "-rw-r--r-- 1 jchazalo jchazalo  3752 nov.  11  2022 tr_FRA01302_Flaubert.txt\n",
      "-rw-r--r-- 1 jchazalo jchazalo 10335 nov.  11  2022 tr_FRA01303_Flaubert.txt\n",
      "-rw-r--r-- 1 jchazalo jchazalo  2707 nov.  11  2022 tr_FRA01401_Fleuriot.txt\n",
      "-rw-r--r-- 1 jchazalo jchazalo  6348 nov.  11  2022 tr_FRA01402_Fleuriot.txt\n",
      "-rw-r--r-- 1 jchazalo jchazalo  1348 nov.  11  2022 tr_FRA01403_Fleuriot.txt\n",
      "-rw-r--r-- 1 jchazalo jchazalo  5098 nov.  11  2022 tr_FRA01501_France.txt\n",
      "-rw-r--r-- 1 jchazalo jchazalo  3957 nov.  11  2022 tr_FRA01601_GautierJ.txt\n",
      "-rw-r--r-- 1 jchazalo jchazalo  3725 nov.  11  2022 tr_FRA01602_GautierJ.txt\n",
      "-rw-r--r-- 1 jchazalo jchazalo  6962 nov.  11  2022 tr_FRA01603_GautierJ.txt\n",
      "-rw-r--r-- 1 jchazalo jchazalo  5191 nov.  11  2022 tr_FRA01701_GautierT.txt\n",
      "-rw-r--r-- 1 jchazalo jchazalo  9852 nov.  11  2022 tr_FRA01801_Gay.txt\n",
      "-rw-r--r-- 1 jchazalo jchazalo  3243 nov.  11  2022 tr_FRA01902_Gaboriau.txt\n",
      "-rw-r--r-- 1 jchazalo jchazalo  3945 nov.  11  2022 tr_FRA02001_Gilbert.txt\n",
      "-rw-r--r-- 1 jchazalo jchazalo  3205 nov.  11  2022 tr_FRA02101_Girardin.txt\n",
      "-rw-r--r-- 1 jchazalo jchazalo  4179 nov.  11  2022 tr_FRA02201_Gouraud.txt\n",
      "-rw-r--r-- 1 jchazalo jchazalo  2874 nov.  11  2022 tr_FRA02202_Gouraud.txt\n",
      "-rw-r--r-- 1 jchazalo jchazalo  4262 nov.  11  2022 tr_FRA02203_Gouraud.txt\n",
      "-rw-r--r-- 1 jchazalo jchazalo  5184 nov.  11  2022 tr_FRA02301_Greville.txt\n",
      "-rw-r--r-- 1 jchazalo jchazalo  5716 nov.  11  2022 tr_FRA02302_Greville.txt\n",
      "-rw-r--r-- 1 jchazalo jchazalo  5031 nov.  11  2022 tr_FRA02303_Greville.txt\n",
      "-rw-r--r-- 1 jchazalo jchazalo  4165 nov.  11  2022 tr_FRA02401_LeRouge.txt\n",
      "-rw-r--r-- 1 jchazalo jchazalo  4856 nov.  11  2022 tr_FRA02501_Loti.txt\n",
      "-rw-r--r-- 1 jchazalo jchazalo  9893 nov.  11  2022 tr_FRA02601_Malot.txt\n",
      "-rw-r--r-- 1 jchazalo jchazalo  4030 nov.  11  2022 tr_FRA02602_Malot.txt\n",
      "-rw-r--r-- 1 jchazalo jchazalo  8414 nov.  11  2022 tr_FRA02603_Malot.txt\n",
      "-rw-r--r-- 1 jchazalo jchazalo  6676 nov.  11  2022 tr_FRA02701_Maupassant.txt\n",
      "-rw-r--r-- 1 jchazalo jchazalo  4144 nov.  11  2022 tr_FRA02702_Maupassant.txt\n",
      "-rw-r--r-- 1 jchazalo jchazalo  3666 nov.  11  2022 tr_FRA02802_Mirbeau.txt\n",
      "-rw-r--r-- 1 jchazalo jchazalo  3559 nov.  11  2022 tr_FRA02901_Noailles.txt\n",
      "-rw-r--r-- 1 jchazalo jchazalo  6178 nov.  11  2022 tr_FRA03001_Ohnet.txt\n",
      "-rw-r--r-- 1 jchazalo jchazalo  2559 nov.  11  2022 tr_FRA03002_Ohnet.txt\n",
      "-rw-r--r-- 1 jchazalo jchazalo 11146 nov.  11  2022 tr_FRA03003_Ohnet.txt\n",
      "-rw-r--r-- 1 jchazalo jchazalo  1375 nov.  11  2022 tr_FRA03101_Ponson.txt\n",
      "-rw-r--r-- 1 jchazalo jchazalo  6722 nov.  11  2022 tr_FRA03201_Blandy.txt\n",
      "-rw-r--r-- 1 jchazalo jchazalo  9507 nov.  11  2022 tr_FRA03302_Rattazzi.txt\n",
      "-rw-r--r-- 1 jchazalo jchazalo 15708 nov.  11  2022 tr_FRA03401_Reybaud.txt\n",
      "-rw-r--r-- 1 jchazalo jchazalo 35651 nov.  11  2022 tr_FRA03601_Proust.txt\n",
      "-rw-r--r-- 1 jchazalo jchazalo  7781 nov.  11  2022 tr_FRA03701_Sand.txt\n",
      "-rw-r--r-- 1 jchazalo jchazalo  5648 nov.  11  2022 tr_FRA03702_Sand.txt\n",
      "-rw-r--r-- 1 jchazalo jchazalo 18888 nov.  11  2022 tr_FRA03704_Sand.txt\n",
      "-rw-r--r-- 1 jchazalo jchazalo  4950 nov.  11  2022 tr_FRA03802_Stern.txt\n",
      "-rw-r--r-- 1 jchazalo jchazalo  6861 nov.  11  2022 tr_FRA03903_Stolz.txt\n",
      "-rw-r--r-- 1 jchazalo jchazalo  8406 nov.  11  2022 tr_FRA04001_Verne.txt\n",
      "-rw-r--r-- 1 jchazalo jchazalo  5981 nov.  11  2022 tr_FRA04002_Verne.txt\n",
      "-rw-r--r-- 1 jchazalo jchazalo  3687 nov.  11  2022 tr_FRA04102_Erckmann.txt\n",
      "-rw-r--r-- 1 jchazalo jchazalo  3306 nov.  11  2022 tr_FRA04202_Rolland.txt\n",
      "-rw-r--r-- 1 jchazalo jchazalo 11583 nov.  11  2022 tr_FRA04301_Achard.txt\n",
      "-rw-r--r-- 1 jchazalo jchazalo  3599 nov.  11  2022 tr_FRA04401_Barbusse.txt\n",
      "-rw-r--r-- 1 jchazalo jchazalo 14797 nov.  11  2022 tr_FRA04501_Barres.txt\n",
      "-rw-r--r-- 1 jchazalo jchazalo  6898 nov.  11  2022 tr_FRA04601_Bazin.txt\n",
      "-rw-r--r-- 1 jchazalo jchazalo 12178 nov.  11  2022 tr_FRA04701_Bourget.txt\n",
      "-rw-r--r-- 1 jchazalo jchazalo  3621 nov.  11  2022 tr_FRA04801_Corday.txt\n",
      "-rw-r--r-- 1 jchazalo jchazalo 25221 nov.  11  2022 tr_FRA04901_Dumas.txt\n",
      "-rw-r--r-- 1 jchazalo jchazalo  5633 nov.  11  2022 tr_FRA05101_Eekhoud.txt\n",
      "-rw-r--r-- 1 jchazalo jchazalo 18658 nov.  11  2022 tr_FRA05201_Feuillet.txt\n",
      "-rw-r--r-- 1 jchazalo jchazalo  2555 nov.  11  2022 tr_FRA05301_Galopin.txt\n",
      "-rw-r--r-- 1 jchazalo jchazalo 10359 nov.  11  2022 tr_FRA05401_Kock.txt\n",
      "-rw-r--r-- 1 jchazalo jchazalo  4189 nov.  11  2022 tr_FRA05501_Lermina.txt\n",
      "-rw-r--r-- 1 jchazalo jchazalo  4457 nov.  11  2022 tr_FRA05602_Lesueur.txt\n",
      "-rw-r--r-- 1 jchazalo jchazalo  5926 nov.  11  2022 tr_FRA05702_Maquet.txt\n",
      "-rw-r--r-- 1 jchazalo jchazalo  4150 nov.  11  2022 tr_FRA05801_Mille.txt\n",
      "-rw-r--r-- 1 jchazalo jchazalo  5428 nov.  11  2022 tr_FRA05901_Moselly.txt\n",
      "-rw-r--r-- 1 jchazalo jchazalo  6551 nov.  11  2022 tr_FRA06001_Rebell.txt\n",
      "-rw-r--r-- 1 jchazalo jchazalo 19390 nov.  11  2022 tr_FRA06101_Sandeau.txt\n",
      "-rw-r--r-- 1 jchazalo jchazalo  8990 nov.  11  2022 tr_FRA06201_Viel-Castel.txt\n",
      "-rw-r--r-- 1 jchazalo jchazalo  2379 nov.  11  2022 tr_FRA06301_Montepin.txt\n",
      "-rw-r--r-- 1 jchazalo jchazalo  3294 nov.  11  2022 tr_FRA06401_Chandeneux.txt\n",
      "-rw-r--r-- 1 jchazalo jchazalo  2578 nov.  11  2022 tr_FRA06501_Gyp.txt\n",
      "-rw-r--r-- 1 jchazalo jchazalo  4963 nov.  11  2022 tr_FRA06601_Peladan.txt\n",
      "-rw-r--r-- 1 jchazalo jchazalo  3665 nov.  11  2022 tr_FRA06701_Uchard.txt\n",
      "-rw-r--r-- 1 jchazalo jchazalo 11378 nov.  11  2022 tr_FRA06801_Vaillant.txt\n",
      "-rw-r--r-- 1 jchazalo jchazalo  5195 nov.  11  2022 tr_FRA06901_Vignon.txt\n",
      "-rw-r--r-- 1 jchazalo jchazalo 14068 nov.  11  2022 tr_FRA07001_Mendes.txt\n",
      "-rw-r--r-- 1 jchazalo jchazalo  8503 nov.  11  2022 tr_FRA07101_Blondel.txt\n",
      "-rw-r--r-- 1 jchazalo jchazalo  4192 nov.  11  2022 tr_FRA07201_Montagne.txt\n",
      "-rw-r--r-- 1 jchazalo jchazalo  4773 nov.  11  2022 tr_FRA07301_Valgand.txt\n",
      "-rw-r--r-- 1 jchazalo jchazalo  3501 nov.  11  2022 tr_FRA07401_Leblanc.txt\n",
      "-rw-r--r-- 1 jchazalo jchazalo  4713 nov.  11  2022 tr_FRA07501_Darien.txt\n",
      "-rw-r--r-- 1 jchazalo jchazalo  4194 nov.  11  2022 tr_FRA07601_Leroux.txt\n"
     ]
    }
   ],
   "source": [
    "# On commence par vérifier qu'on trouve bien le fichier et que son contenu n'a pas été altéré\n",
    "!echo \"7dc395be9d84ac481ff6cf0a726862b66967898986f387dd5659d554394101d6  {dataset_zip_path}\" | sha256sum -c -\n",
    "# On vérifie que le répertoire de destination existe et on le crée sinon\n",
    "!mkdir -p \"{dataset_destination_dir}\"\n",
    "# On décompresse le fichier dans le répertoire de destination\n",
    "!unzip \"{dataset_zip_path}\" -d \"{dataset_destination_dir}\"\n",
    "# On liste le contenu du répertoire de destination : on s'attend à trouver le répertoire \"French_ELTEC_NER_Open_Dataset/texts\" et à ce qu'il contienne des fichiers texte\n",
    "!ls -lA \"{dataset_destination_dir}/French_ELTEC_NER_Open_Dataset/texts\""
   ]
  },
  {
   "attachments": {},
   "cell_type": "markdown",
   "metadata": {},
   "source": [
    "Parfait ! Nous avons des fichiers prêts à être traités 🦾 !"
   ]
  },
  {
   "attachments": {},
   "cell_type": "markdown",
   "metadata": {},
   "source": [
    "### Construire une liste de fichiers à traiter\n",
    "\n",
    "Nous allons devoir charger chacun des fichiers du corpus et les passer à notre modèle de langue `nlp`.\n",
    "\n",
    "Nous allons procéder de la façon suivante :\n",
    "\n",
    "1. nous allons construire la liste des chemins vers chacun de ces fichiers à traiter\n",
    "2. nous allons définir une fonction qui permet de charger le contenu de ces fichiers\n",
    "3. nous allons regarder les résultats pour quelques fichiers\n",
    "4. finalement nous allons appeler notre modèle de langue avec le contenu de chacun de ces fichiers, pour stocker les entités détectées dans une grande liste"
   ]
  },
  {
   "attachments": {},
   "cell_type": "markdown",
   "metadata": {},
   "source": [
    "Pour lister les fichiers, nous allons utiliser le module Python [`glob`](https://docs.python.org/3/library/glob.html) qui permet d'obtenir une liste de fichier à partir d'un motif.\n",
    "\n",
    "Nous allons utiliser un motif simple en indiquant un caractère joker `*` pour indiquer que n'importe quel caractère peut être trouvé à cette position."
   ]
  },
  {
   "attachments": {},
   "cell_type": "markdown",
   "metadata": {},
   "source": [
    "#### 🛠️ Corrigez l'extension des fichiers à trouver dans la cellule suivante pour collecter la liste des fichiers texte à traiter\n",
    "Nous allons afficher le contenu de cette liste pour vérifier que nous avons bien trouvé les fichiers à traiter.\n",
    "\n",
    "<details>\n",
    "<summary>Solution</summary>\n",
    "\n",
    "Remplacez le `*.json` par `*.txt`.\n",
    "\n",
    "</details>"
   ]
  },
  {
   "cell_type": "code",
   "execution_count": 22,
   "metadata": {},
   "outputs": [
    {
     "data": {
      "text/plain": [
       "[]"
      ]
     },
     "execution_count": 22,
     "metadata": {},
     "output_type": "execute_result"
    }
   ],
   "source": [
    "from glob import glob\n",
    "text_file_paths = glob(f\"{dataset_destination_dir}/French_ELTEC_NER_Open_Dataset/texts/*.json\")\n",
    "text_file_paths"
   ]
  },
  {
   "cell_type": "code",
   "execution_count": 26,
   "metadata": {
    "tags": [
     "teacher"
    ]
   },
   "outputs": [
    {
     "data": {
      "text/plain": [
       "['/home/jchazalo/tmp/datasets/French_ELTEC_NER_Open_Dataset/texts/tr_FRA01203_Feval.txt',\n",
       " '/home/jchazalo/tmp/datasets/French_ELTEC_NER_Open_Dataset/texts/tr_FRA00701_Carraud.txt',\n",
       " '/home/jchazalo/tmp/datasets/French_ELTEC_NER_Open_Dataset/texts/tr_FRA02301_Greville.txt',\n",
       " '/home/jchazalo/tmp/datasets/French_ELTEC_NER_Open_Dataset/texts/tr_FRA01602_GautierJ.txt',\n",
       " '/home/jchazalo/tmp/datasets/French_ELTEC_NER_Open_Dataset/texts/tr_FRA03401_Reybaud.txt',\n",
       " '/home/jchazalo/tmp/datasets/French_ELTEC_NER_Open_Dataset/texts/tr_FRA07601_Leroux.txt',\n",
       " '/home/jchazalo/tmp/datasets/French_ELTEC_NER_Open_Dataset/texts/tr_FRA02901_Noailles.txt',\n",
       " '/home/jchazalo/tmp/datasets/French_ELTEC_NER_Open_Dataset/texts/tr_FRA02202_Gouraud.txt',\n",
       " '/home/jchazalo/tmp/datasets/French_ELTEC_NER_Open_Dataset/texts/tr_FRA03704_Sand.txt',\n",
       " '/home/jchazalo/tmp/datasets/French_ELTEC_NER_Open_Dataset/texts/tr_FRA00102_Adam.txt',\n",
       " '/home/jchazalo/tmp/datasets/French_ELTEC_NER_Open_Dataset/texts/tr_FRA03003_Ohnet.txt',\n",
       " '/home/jchazalo/tmp/datasets/French_ELTEC_NER_Open_Dataset/texts/tr_FRA00201_Audoux.txt',\n",
       " '/home/jchazalo/tmp/datasets/French_ELTEC_NER_Open_Dataset/texts/tr_FRA06001_Rebell.txt',\n",
       " '/home/jchazalo/tmp/datasets/French_ELTEC_NER_Open_Dataset/texts/tr_FRA05101_Eekhoud.txt',\n",
       " '/home/jchazalo/tmp/datasets/French_ELTEC_NER_Open_Dataset/texts/tr_FRA03201_Blandy.txt',\n",
       " '/home/jchazalo/tmp/datasets/French_ELTEC_NER_Open_Dataset/texts/tr_FRA05401_Kock.txt',\n",
       " '/home/jchazalo/tmp/datasets/French_ELTEC_NER_Open_Dataset/texts/tr_FRA01601_GautierJ.txt',\n",
       " '/home/jchazalo/tmp/datasets/French_ELTEC_NER_Open_Dataset/texts/tr_FRA00301_Aimard.txt',\n",
       " '/home/jchazalo/tmp/datasets/French_ELTEC_NER_Open_Dataset/texts/tr_FRA00503_Balzac.txt',\n",
       " '/home/jchazalo/tmp/datasets/French_ELTEC_NER_Open_Dataset/texts/tr_FRA05501_Lermina.txt',\n",
       " '/home/jchazalo/tmp/datasets/French_ELTEC_NER_Open_Dataset/texts/tr_FRA00901_Daudet.txt',\n",
       " '/home/jchazalo/tmp/datasets/French_ELTEC_NER_Open_Dataset/texts/tr_FRA04601_Bazin.txt',\n",
       " '/home/jchazalo/tmp/datasets/French_ELTEC_NER_Open_Dataset/texts/tr_FRA07401_Leblanc.txt',\n",
       " '/home/jchazalo/tmp/datasets/French_ELTEC_NER_Open_Dataset/texts/tr_FRA06201_Viel-Castel.txt',\n",
       " '/home/jchazalo/tmp/datasets/French_ELTEC_NER_Open_Dataset/texts/tr_FRA04701_Bourget.txt',\n",
       " '/home/jchazalo/tmp/datasets/French_ELTEC_NER_Open_Dataset/texts/tr_FRA02401_LeRouge.txt',\n",
       " '/home/jchazalo/tmp/datasets/French_ELTEC_NER_Open_Dataset/texts/tr_FRA06401_Chandeneux.txt',\n",
       " '/home/jchazalo/tmp/datasets/French_ELTEC_NER_Open_Dataset/texts/tr_FRA06501_Gyp.txt',\n",
       " '/home/jchazalo/tmp/datasets/French_ELTEC_NER_Open_Dataset/texts/tr_FRA00101_Adam.txt',\n",
       " '/home/jchazalo/tmp/datasets/French_ELTEC_NER_Open_Dataset/texts/tr_FRA02501_Loti.txt',\n",
       " '/home/jchazalo/tmp/datasets/French_ELTEC_NER_Open_Dataset/texts/tr_FRA00401_Allais.txt',\n",
       " '/home/jchazalo/tmp/datasets/French_ELTEC_NER_Open_Dataset/texts/tr_FRA07001_Mendes.txt',\n",
       " '/home/jchazalo/tmp/datasets/French_ELTEC_NER_Open_Dataset/texts/tr_FRA01302_Flaubert.txt',\n",
       " '/home/jchazalo/tmp/datasets/French_ELTEC_NER_Open_Dataset/texts/tr_FRA04901_Dumas.txt',\n",
       " '/home/jchazalo/tmp/datasets/French_ELTEC_NER_Open_Dataset/texts/tr_FRA00501_Balzac.txt',\n",
       " '/home/jchazalo/tmp/datasets/French_ELTEC_NER_Open_Dataset/texts/tr_FRA02303_Greville.txt',\n",
       " '/home/jchazalo/tmp/datasets/French_ELTEC_NER_Open_Dataset/texts/tr_FRA07301_Valgand.txt',\n",
       " '/home/jchazalo/tmp/datasets/French_ELTEC_NER_Open_Dataset/texts/tr_FRA03002_Ohnet.txt',\n",
       " '/home/jchazalo/tmp/datasets/French_ELTEC_NER_Open_Dataset/texts/tr_FRA02603_Malot.txt',\n",
       " '/home/jchazalo/tmp/datasets/French_ELTEC_NER_Open_Dataset/texts/tr_FRA00801_Dash.txt',\n",
       " '/home/jchazalo/tmp/datasets/French_ELTEC_NER_Open_Dataset/texts/tr_FRA07501_Darien.txt',\n",
       " '/home/jchazalo/tmp/datasets/French_ELTEC_NER_Open_Dataset/texts/tr_FRA03701_Sand.txt',\n",
       " '/home/jchazalo/tmp/datasets/French_ELTEC_NER_Open_Dataset/texts/tr_FRA02201_Gouraud.txt',\n",
       " '/home/jchazalo/tmp/datasets/French_ELTEC_NER_Open_Dataset/texts/tr_FRA06901_Vignon.txt',\n",
       " '/home/jchazalo/tmp/datasets/French_ELTEC_NER_Open_Dataset/texts/tr_FRA03802_Stern.txt',\n",
       " '/home/jchazalo/tmp/datasets/French_ELTEC_NER_Open_Dataset/texts/tr_FRA02701_Maupassant.txt',\n",
       " '/home/jchazalo/tmp/datasets/French_ELTEC_NER_Open_Dataset/texts/tr_FRA06301_Montepin.txt',\n",
       " '/home/jchazalo/tmp/datasets/French_ELTEC_NER_Open_Dataset/texts/tr_FRA00502_Balzac.txt',\n",
       " '/home/jchazalo/tmp/datasets/French_ELTEC_NER_Open_Dataset/texts/tr_FRA04102_Erckmann.txt',\n",
       " '/home/jchazalo/tmp/datasets/French_ELTEC_NER_Open_Dataset/texts/tr_FRA01403_Fleuriot.txt',\n",
       " '/home/jchazalo/tmp/datasets/French_ELTEC_NER_Open_Dataset/texts/tr_FRA05801_Mille.txt',\n",
       " '/home/jchazalo/tmp/datasets/French_ELTEC_NER_Open_Dataset/texts/tr_FRA01401_Fleuriot.txt',\n",
       " '/home/jchazalo/tmp/datasets/French_ELTEC_NER_Open_Dataset/texts/tr_FRA04401_Barbusse.txt',\n",
       " '/home/jchazalo/tmp/datasets/French_ELTEC_NER_Open_Dataset/texts/tr_FRA06101_Sandeau.txt',\n",
       " '/home/jchazalo/tmp/datasets/French_ELTEC_NER_Open_Dataset/texts/tr_FRA05602_Lesueur.txt',\n",
       " '/home/jchazalo/tmp/datasets/French_ELTEC_NER_Open_Dataset/texts/tr_FRA04202_Rolland.txt',\n",
       " '/home/jchazalo/tmp/datasets/French_ELTEC_NER_Open_Dataset/texts/tr_FRA02802_Mirbeau.txt',\n",
       " '/home/jchazalo/tmp/datasets/French_ELTEC_NER_Open_Dataset/texts/tr_FRA01303_Flaubert.txt',\n",
       " '/home/jchazalo/tmp/datasets/French_ELTEC_NER_Open_Dataset/texts/tr_FRA04301_Achard.txt',\n",
       " '/home/jchazalo/tmp/datasets/French_ELTEC_NER_Open_Dataset/texts/tr_FRA04801_Corday.txt',\n",
       " '/home/jchazalo/tmp/datasets/French_ELTEC_NER_Open_Dataset/texts/tr_FRA03601_Proust.txt',\n",
       " '/home/jchazalo/tmp/datasets/French_ELTEC_NER_Open_Dataset/texts/tr_FRA01801_Gay.txt',\n",
       " '/home/jchazalo/tmp/datasets/French_ELTEC_NER_Open_Dataset/texts/tr_FRA04501_Barres.txt',\n",
       " '/home/jchazalo/tmp/datasets/French_ELTEC_NER_Open_Dataset/texts/tr_FRA01202_Feval.txt',\n",
       " '/home/jchazalo/tmp/datasets/French_ELTEC_NER_Open_Dataset/texts/tr_FRA01902_Gaboriau.txt',\n",
       " '/home/jchazalo/tmp/datasets/French_ELTEC_NER_Open_Dataset/texts/tr_FRA05702_Maquet.txt',\n",
       " '/home/jchazalo/tmp/datasets/French_ELTEC_NER_Open_Dataset/texts/tr_FRA03001_Ohnet.txt',\n",
       " '/home/jchazalo/tmp/datasets/French_ELTEC_NER_Open_Dataset/texts/tr_FRA01201_Feval.txt',\n",
       " '/home/jchazalo/tmp/datasets/French_ELTEC_NER_Open_Dataset/texts/tr_FRA02601_Malot.txt',\n",
       " '/home/jchazalo/tmp/datasets/French_ELTEC_NER_Open_Dataset/texts/tr_FRA07201_Montagne.txt',\n",
       " '/home/jchazalo/tmp/datasets/French_ELTEC_NER_Open_Dataset/texts/tr_FRA05201_Feuillet.txt',\n",
       " '/home/jchazalo/tmp/datasets/French_ELTEC_NER_Open_Dataset/texts/tr_FRA07101_Blondel.txt',\n",
       " '/home/jchazalo/tmp/datasets/French_ELTEC_NER_Open_Dataset/texts/tr_FRA00602_Boisgobey.txt',\n",
       " '/home/jchazalo/tmp/datasets/French_ELTEC_NER_Open_Dataset/texts/tr_FRA01603_GautierJ.txt',\n",
       " '/home/jchazalo/tmp/datasets/French_ELTEC_NER_Open_Dataset/texts/tr_FRA04002_Verne.txt',\n",
       " '/home/jchazalo/tmp/datasets/French_ELTEC_NER_Open_Dataset/texts/tr_FRA00302_Aimard.txt',\n",
       " '/home/jchazalo/tmp/datasets/French_ELTEC_NER_Open_Dataset/texts/tr_FRA06601_Peladan.txt',\n",
       " '/home/jchazalo/tmp/datasets/French_ELTEC_NER_Open_Dataset/texts/tr_FRA05301_Galopin.txt',\n",
       " '/home/jchazalo/tmp/datasets/French_ELTEC_NER_Open_Dataset/texts/tr_FRA06701_Uchard.txt',\n",
       " '/home/jchazalo/tmp/datasets/French_ELTEC_NER_Open_Dataset/texts/tr_FRA02101_Girardin.txt',\n",
       " '/home/jchazalo/tmp/datasets/French_ELTEC_NER_Open_Dataset/texts/tr_FRA02001_Gilbert.txt',\n",
       " '/home/jchazalo/tmp/datasets/French_ELTEC_NER_Open_Dataset/texts/tr_FRA02302_Greville.txt',\n",
       " '/home/jchazalo/tmp/datasets/French_ELTEC_NER_Open_Dataset/texts/tr_FRA01002_DelarueMardrus.txt',\n",
       " '/home/jchazalo/tmp/datasets/French_ELTEC_NER_Open_Dataset/texts/tr_FRA03302_Rattazzi.txt',\n",
       " '/home/jchazalo/tmp/datasets/French_ELTEC_NER_Open_Dataset/texts/tr_FRA03903_Stolz.txt',\n",
       " '/home/jchazalo/tmp/datasets/French_ELTEC_NER_Open_Dataset/texts/tr_FRA01101_Dombre.txt',\n",
       " '/home/jchazalo/tmp/datasets/French_ELTEC_NER_Open_Dataset/texts/tr_FRA01501_France.txt',\n",
       " '/home/jchazalo/tmp/datasets/French_ELTEC_NER_Open_Dataset/texts/tr_FRA01102_Dombre.txt',\n",
       " '/home/jchazalo/tmp/datasets/French_ELTEC_NER_Open_Dataset/texts/tr_FRA02203_Gouraud.txt',\n",
       " '/home/jchazalo/tmp/datasets/French_ELTEC_NER_Open_Dataset/texts/tr_FRA03101_Ponson.txt',\n",
       " '/home/jchazalo/tmp/datasets/French_ELTEC_NER_Open_Dataset/texts/tr_FRA01301_Flaubert.txt',\n",
       " '/home/jchazalo/tmp/datasets/French_ELTEC_NER_Open_Dataset/texts/tr_FRA03702_Sand.txt',\n",
       " '/home/jchazalo/tmp/datasets/French_ELTEC_NER_Open_Dataset/texts/tr_FRA06801_Vaillant.txt',\n",
       " '/home/jchazalo/tmp/datasets/French_ELTEC_NER_Open_Dataset/texts/tr_FRA02602_Malot.txt',\n",
       " '/home/jchazalo/tmp/datasets/French_ELTEC_NER_Open_Dataset/texts/tr_FRA01402_Fleuriot.txt',\n",
       " '/home/jchazalo/tmp/datasets/French_ELTEC_NER_Open_Dataset/texts/tr_FRA04001_Verne.txt',\n",
       " '/home/jchazalo/tmp/datasets/French_ELTEC_NER_Open_Dataset/texts/tr_FRA05901_Moselly.txt',\n",
       " '/home/jchazalo/tmp/datasets/French_ELTEC_NER_Open_Dataset/texts/tr_FRA00601_Boisgobey.txt',\n",
       " '/home/jchazalo/tmp/datasets/French_ELTEC_NER_Open_Dataset/texts/tr_FRA02702_Maupassant.txt',\n",
       " '/home/jchazalo/tmp/datasets/French_ELTEC_NER_Open_Dataset/texts/tr_FRA01701_GautierT.txt']"
      ]
     },
     "execution_count": 26,
     "metadata": {},
     "output_type": "execute_result"
    }
   ],
   "source": [
    "# TEACHER\n",
    "from glob import glob\n",
    "text_file_paths = glob(f\"{dataset_destination_dir}/French_ELTEC_NER_Open_Dataset/texts/*.txt\")\n",
    "text_file_paths"
   ]
  },
  {
   "attachments": {},
   "cell_type": "markdown",
   "metadata": {},
   "source": [
    "#### 🛠️ Complétez la cellule suivante pour vérifier que nous avons bien trouvé 100 fichiers\n",
    "<details>\n",
    "<summary>Indice</summary>\n",
    "Vérifiez que la liste des noms de fichiers contient bien 100 éléments.\n",
    "</details>\n",
    "<br>\n",
    "<details>\n",
    "<summary>Solution</summary>\n",
    "\n",
    "```python\n",
    "len(text_file_paths)\n",
    "```\n",
    "</details>"
   ]
  },
  {
   "cell_type": "code",
   "execution_count": null,
   "metadata": {},
   "outputs": [],
   "source": [
    "___(text_file_paths)"
   ]
  },
  {
   "cell_type": "code",
   "execution_count": 27,
   "metadata": {
    "tags": [
     "teacher"
    ]
   },
   "outputs": [
    {
     "data": {
      "text/plain": [
       "True"
      ]
     },
     "execution_count": 27,
     "metadata": {},
     "output_type": "execute_result"
    }
   ],
   "source": [
    "# TEACHER\n",
    "len(text_file_paths) == 100"
   ]
  },
  {
   "attachments": {},
   "cell_type": "markdown",
   "metadata": {},
   "source": [
    "### Observation des résultats pour quelques textes\n",
    "Avant de traiter les données, nous allons vérifier que le modèle de langue produit des résultats raisonnables sur quelques exemples.\n",
    "\n",
    "Si ces résultats sont satisfaisants, alors nous pourrons lancer un traitement plus large, et, plus tard, mesurer la performance de façon objective sur un échantillon représentatif, de taille suffisante, annoté de façon fiable."
   ]
  },
  {
   "cell_type": "markdown",
   "metadata": {},
   "source": [
    "Pour vous aider, voici une fonction `load_text(filename)` qui prend en paramètre un chemin vers un fichier texte et renvoie la (longue) chaîne de caractères de son contenu."
   ]
  },
  {
   "cell_type": "code",
   "execution_count": 29,
   "metadata": {},
   "outputs": [],
   "source": [
    "def load_text(filename: str) -> str:\n",
    "    \"\"\"Loads and returns the content of a text file.\n",
    "\n",
    "    Args:\n",
    "        filename (str): Path to the text file\n",
    "\n",
    "    Returns:\n",
    "        str: String representation of the content of the file. Newlines are preserved.\n",
    "    \"\"\"\n",
    "    with open(filename, encoding=\"utf8\") as in_file:\n",
    "        return \"\".join(in_file.readlines())"
   ]
  },
  {
   "attachments": {},
   "cell_type": "markdown",
   "metadata": {},
   "source": [
    "#### 🛠️ Compléter la cellule suivante pour traiter et visualiser les entités extraites d'un texte de votre choix\n",
    "Si nécessaire, consultez les étapes précédentes pour retrouver les opérations réalisées.\n",
    "\n",
    "Rappel : la variable qui pointe vers notre modèle de langue s'appelle `nlp`.\n",
    "\n",
    "<details>\n",
    "<summary>Solution</summary>\n",
    "\n",
    "```python\n",
    "some_filename = text_file_paths[10]\n",
    "some_text = load_text(some_filename)\n",
    "some_doc = nlp(some_text)\n",
    "displacy.render(some_doc, style=\"ent\")\n",
    "```\n",
    "</details>"
   ]
  },
  {
   "cell_type": "code",
   "execution_count": null,
   "metadata": {},
   "outputs": [],
   "source": [
    "# On choisit un fichier parmi la liste des fichiers disponibles\n",
    "some_filename = text_file_paths[10]\n",
    "# On charge son contenu\n",
    "some_text = load_text(____)\n",
    "# On applique notre modèle de langue pour extraire des entités nommées (entre autres)\n",
    "some_doc = ___(____)\n",
    "# On utilise displaCy pour visualiser les entités nommées détectées dans ce texte\n",
    "____.render(____, style=____)"
   ]
  },
  {
   "cell_type": "code",
   "execution_count": 30,
   "metadata": {
    "tags": [
     "teacher"
    ]
   },
   "outputs": [
    {
     "data": {
      "text/html": [
       "<span class=\"tex2jax_ignore\"><div class=\"entities\" style=\"line-height: 2.5; direction: ltr\">PREMIÈRE PARTIE<br>\n",
       "<mark class=\"entity\" style=\"background: #ff9561; padding: 0.45em 0.6em; margin: 0 0.25em; line-height: 1; border-radius: 0.35em;\">\n",
       "    I\n",
       "    <span style=\"font-size: 0.8em; font-weight: bold; line-height: 1; border-radius: 0.35em; vertical-align: middle; margin-left: 0.5rem\">LOC</span>\n",
       "</mark>\n",
       "<br>\n",
       "<mark class=\"entity\" style=\"background: #ff9561; padding: 0.45em 0.6em; margin: 0 0.25em; line-height: 1; border-radius: 0.35em;\">\n",
       "    Rue de Châteaudun\n",
       "    <span style=\"font-size: 0.8em; font-weight: bold; line-height: 1; border-radius: 0.35em; vertical-align: middle; margin-left: 0.5rem\">LOC</span>\n",
       "</mark>\n",
       ", sur la façade d'un des immeubles qui avoisinent les jardins, derniers vestiges des seigneuriales demeures où habitèrent \n",
       "<mark class=\"entity\" style=\"background: #ddd; padding: 0.45em 0.6em; margin: 0 0.25em; line-height: 1; border-radius: 0.35em;\">\n",
       "    Talleyrand\n",
       "    <span style=\"font-size: 0.8em; font-weight: bold; line-height: 1; border-radius: 0.35em; vertical-align: middle; margin-left: 0.5rem\">PER</span>\n",
       "</mark>\n",
       " et la reine \n",
       "<mark class=\"entity\" style=\"background: #ddd; padding: 0.45em 0.6em; margin: 0 0.25em; line-height: 1; border-radius: 0.35em;\">\n",
       "    Hortense\n",
       "    <span style=\"font-size: 0.8em; font-weight: bold; line-height: 1; border-radius: 0.35em; vertical-align: middle; margin-left: 0.5rem\">PER</span>\n",
       "</mark>\n",
       ", se lit, sur une plaque de marbre, cette inscription : \n",
       "<mark class=\"entity\" style=\"background: #7aecec; padding: 0.45em 0.6em; margin: 0 0.25em; line-height: 1; border-radius: 0.35em;\">\n",
       "    Banque de l'Alimentation -- Vernier-Mareuil\n",
       "    <span style=\"font-size: 0.8em; font-weight: bold; line-height: 1; border-radius: 0.35em; vertical-align: middle; margin-left: 0.5rem\">ORG</span>\n",
       "</mark>\n",
       " . Cette maison, hautement estimée dans le commerce, porte les noms de deux hommes très connus dans le monde parisien pour leur soudaine et rapide ascension vers la grande fortune. En vingt ans, \n",
       "<mark class=\"entity\" style=\"background: #ddd; padding: 0.45em 0.6em; margin: 0 0.25em; line-height: 1; border-radius: 0.35em;\">\n",
       "    Vernier et son beau-frère Mareuil\n",
       "    <span style=\"font-size: 0.8em; font-weight: bold; line-height: 1; border-radius: 0.35em; vertical-align: middle; margin-left: 0.5rem\">MISC</span>\n",
       "</mark>\n",
       ", partis de rien, sont arrivés à tenir une place prépondérante à la \n",
       "<mark class=\"entity\" style=\"background: #ff9561; padding: 0.45em 0.6em; margin: 0 0.25em; line-height: 1; border-radius: 0.35em;\">\n",
       "    Bourse\n",
       "    <span style=\"font-size: 0.8em; font-weight: bold; line-height: 1; border-radius: 0.35em; vertical-align: middle; margin-left: 0.5rem\">LOC</span>\n",
       "</mark>\n",
       ", et les banques les plus solides sont obligées de compter avec eux. Par l'alimentation, ils étendent leur influence sur le négoce des vins, des eaux-de-vie et des liqueurs, et enlacent le \n",
       "<mark class=\"entity\" style=\"background: #ff9561; padding: 0.45em 0.6em; margin: 0 0.25em; line-height: 1; border-radius: 0.35em;\">\n",
       "    Midi\n",
       "    <span style=\"font-size: 0.8em; font-weight: bold; line-height: 1; border-radius: 0.35em; vertical-align: middle; margin-left: 0.5rem\">LOC</span>\n",
       "</mark>\n",
       " tout entier sous les mailles d'un gigantesque filet dont ils tiennent la corde dans leurs bureaux de la rue de Châteaudun.<br>Ils ont établi, pour lutter contre la mévente des vins, un système de prêts sur warrants qui met en leur dépendance tous les viticulteurs \n",
       "<mark class=\"entity\" style=\"background: #ff9561; padding: 0.45em 0.6em; margin: 0 0.25em; line-height: 1; border-radius: 0.35em;\">\n",
       "    de France\n",
       "    <span style=\"font-size: 0.8em; font-weight: bold; line-height: 1; border-radius: 0.35em; vertical-align: middle; margin-left: 0.5rem\">LOC</span>\n",
       "</mark>\n",
       " embarrassés dans leurs affaires. Il est juste de dire qu'ils n'abusent pas de cette puissance formidable, qu'ils ne l'exercent qu'au profit de leurs adhérents, et se bornent, en ce qui les concerne, à se procurer dans des conditions avantageuses les alcools qui leur servent à fabriquer les apéritifs célèbres avec la vente desquels ils ont commencé leur fortune. A la \n",
       "<mark class=\"entity\" style=\"background: #ff9561; padding: 0.45em 0.6em; margin: 0 0.25em; line-height: 1; border-radius: 0.35em;\">\n",
       "    Bourse du Commerce\n",
       "    <span style=\"font-size: 0.8em; font-weight: bold; line-height: 1; border-radius: 0.35em; vertical-align: middle; margin-left: 0.5rem\">LOC</span>\n",
       "</mark>\n",
       ", \n",
       "<mark class=\"entity\" style=\"background: #ff9561; padding: 0.45em 0.6em; margin: 0 0.25em; line-height: 1; border-radius: 0.35em;\">\n",
       "    Vernier-Mareuil\n",
       "    <span style=\"font-size: 0.8em; font-weight: bold; line-height: 1; border-radius: 0.35em; vertical-align: middle; margin-left: 0.5rem\">LOC</span>\n",
       "</mark>\n",
       " sont aussi glorieusement connus, traités avec autant de respectueuse déférence que \n",
       "<mark class=\"entity\" style=\"background: #7aecec; padding: 0.45em 0.6em; margin: 0 0.25em; line-height: 1; border-radius: 0.35em;\">\n",
       "    Rothschild\n",
       "    <span style=\"font-size: 0.8em; font-weight: bold; line-height: 1; border-radius: 0.35em; vertical-align: middle; margin-left: 0.5rem\">ORG</span>\n",
       "</mark>\n",
       ", à la \n",
       "<mark class=\"entity\" style=\"background: #7aecec; padding: 0.45em 0.6em; margin: 0 0.25em; line-height: 1; border-radius: 0.35em;\">\n",
       "    Bourse des Valeurs\n",
       "    <span style=\"font-size: 0.8em; font-weight: bold; line-height: 1; border-radius: 0.35em; vertical-align: middle; margin-left: 0.5rem\">ORG</span>\n",
       "</mark>\n",
       ". Ils sont, au point de vue spécial de l'alimentation, de véritables potentats. Et quand on a dit d'une spéculation : «Les Vernier-Mareuil en sont», il n'y a plus qu'à s'incliner devant la réussite certaine.<br>\n",
       "<mark class=\"entity\" style=\"background: #ddd; padding: 0.45em 0.6em; margin: 0 0.25em; line-height: 1; border-radius: 0.35em;\">\n",
       "    Vernier\n",
       "    <span style=\"font-size: 0.8em; font-weight: bold; line-height: 1; border-radius: 0.35em; vertical-align: middle; margin-left: 0.5rem\">PER</span>\n",
       "</mark>\n",
       " n'avait pas eu des commencements brillants. Après son service militaire, fait, tant bien que mal, dans un régiment de ligne, à \n",
       "<mark class=\"entity\" style=\"background: #ff9561; padding: 0.45em 0.6em; margin: 0 0.25em; line-height: 1; border-radius: 0.35em;\">\n",
       "    Courbevoie\n",
       "    <span style=\"font-size: 0.8em; font-weight: bold; line-height: 1; border-radius: 0.35em; vertical-align: middle; margin-left: 0.5rem\">LOC</span>\n",
       "</mark>\n",
       ", il était entré, à vingt-quatre ans, chez un marchand de vins du quai de \n",
       "<mark class=\"entity\" style=\"background: #ff9561; padding: 0.45em 0.6em; margin: 0 0.25em; line-height: 1; border-radius: 0.35em;\">\n",
       "    Bercy\n",
       "    <span style=\"font-size: 0.8em; font-weight: bold; line-height: 1; border-radius: 0.35em; vertical-align: middle; margin-left: 0.5rem\">LOC</span>\n",
       "</mark>\n",
       ", qui l'avait initié à tous les mystères de la science œnophile. Il avait, pendant quelques mois, manié le campèche, l'acide tartrique, et fabriqué des tonnes de vin, dans lesquelles l'eau de \n",
       "<mark class=\"entity\" style=\"background: #ff9561; padding: 0.45em 0.6em; margin: 0 0.25em; line-height: 1; border-radius: 0.35em;\">\n",
       "    la Seine\n",
       "    <span style=\"font-size: 0.8em; font-weight: bold; line-height: 1; border-radius: 0.35em; vertical-align: middle; margin-left: 0.5rem\">LOC</span>\n",
       "</mark>\n",
       " entrait pour plus que le jus de la vigne. Le commerce lui avait paru si facile et si simple qu'il avait rêvé de l'exercer pour son propre compte. Il avait loué une petite boutique avenue de Tourville, près de l'\n",
       "<mark class=\"entity\" style=\"background: #ff9561; padding: 0.45em 0.6em; margin: 0 0.25em; line-height: 1; border-radius: 0.35em;\">\n",
       "    École militaire\n",
       "    <span style=\"font-size: 0.8em; font-weight: bold; line-height: 1; border-radius: 0.35em; vertical-align: middle; margin-left: 0.5rem\">LOC</span>\n",
       "</mark>\n",
       ", et s'était mis à pratiquer la falsification des boissons avec autant de suite que de succès.<br>Mais bientôt la vente du vin, dans lequel il n'y avait pas de vin, lui parut sans intérêt. Il rêva de doter l'ivrognerie nationale d'un produit personnel, et comme ses études en l'art de frelater les liquides lui avaient donné quelques notions de chimie, il se décida à créer un apéritif. Ce n'était encore qu'un «\n",
       "<mark class=\"entity\" style=\"background: #ddd; padding: 0.45em 0.6em; margin: 0 0.25em; line-height: 1; border-radius: 0.35em;\">\n",
       "    Prunelet\n",
       "    <span style=\"font-size: 0.8em; font-weight: bold; line-height: 1; border-radius: 0.35em; vertical-align: middle; margin-left: 0.5rem\">PER</span>\n",
       "</mark>\n",
       "», à base d'alcool à quatre-vingt-dix degrés, qui faisait dresser les cheveux sur la tête à tout homme sain, mais procurait une douce sensation de chaleur dans la gorge de tout pochard invétéré. Or, ce n'était que pour les pochards que \n",
       "<mark class=\"entity\" style=\"background: #ff9561; padding: 0.45em 0.6em; margin: 0 0.25em; line-height: 1; border-radius: 0.35em;\">\n",
       "    Vernier-Mareuil\n",
       "    <span style=\"font-size: 0.8em; font-weight: bold; line-height: 1; border-radius: 0.35em; vertical-align: middle; margin-left: 0.5rem\">LOC</span>\n",
       "</mark>\n",
       " travaillait.<br>Il avait promptement compris qu'il n'y a rien à faire avec les gens sobres, et que la société, détraquée par le socialisme, affolée par la haine de tout ce qui est respectable : la morale, la religion, la patrie, était mûre pour le coup de grâce de l'ivrognerie triomphante. Il lisait les journaux, dans ses heures de chômage, et savait qu'un alcoolique engendre un alcoolique. Il cultivait donc l'abâtardissement de la race avec un soin méthodique, et chaque billet de mille francs qu'il serrait précieusement dans sa caisse représentait, pour lui, la raison, le courage, le génie peut-être des malheureux qu'il avait intoxiqués.<br>Il était sans remords. «Si ce n'est pas moi qui leur vends ce qu'ils aiment à boire, disait-il, les jours où il raisonnait avec lui-même, ce sera le voisin, et je n'en aurai pas le bénéfice. On n'empêche pas de boire celui qui a soif. Et qu'est-ce que ça fait que ce soit l'un ou l'autre qui en profite ?» Il ne s'expliquait pas sur la question des poisons qui formaient la base de son breuvage. Il était établi, pour lui, que tous les commerçants se livraient aux mêmes procédés de fabrication. Il n'y avait donc pas à se préoccuper de la moralité du négoce, qui était infâme par destination. Il eut cependant quelques petits ennuis qui auraient pu lui ouvrir les yeux sur la régularité de ses opérations s'il n'avait pas été décidé à rejeter tout scrupule.<br>Il rentrait, depuis quelques semaines, à la caserne, de l'\n",
       "<mark class=\"entity\" style=\"background: #ff9561; padding: 0.45em 0.6em; margin: 0 0.25em; line-height: 1; border-radius: 0.35em;\">\n",
       "    École\n",
       "    <span style=\"font-size: 0.8em; font-weight: bold; line-height: 1; border-radius: 0.35em; vertical-align: middle; margin-left: 0.5rem\">LOC</span>\n",
       "</mark>\n",
       ", tant de soldats dans des états d'abrutissement ou de fureur d'un caractère si morbide, que le médecin-major, qui ne péchait cependant pas par excès de soin, s'inquiéta et crut devoir faire une enquête sur les débits dans lesquels fréquentaient les hommes qui présentaient ces symptômes d'empoisonnement alcoolique. Les adjudants interrogés furent tous d'accord pour désigner le café de l'\n",
       "<mark class=\"entity\" style=\"background: #ff9561; padding: 0.45em 0.6em; margin: 0 0.25em; line-height: 1; border-radius: 0.35em;\">\n",
       "    avenue de Tourville\n",
       "    <span style=\"font-size: 0.8em; font-weight: bold; line-height: 1; border-radius: 0.35em; vertical-align: middle; margin-left: 0.5rem\">LOC</span>\n",
       "</mark>\n",
       ", où trônait, en bras de chemise, le tablier noir du mastroquet sur le ventre, le distillateur \n",
       "<mark class=\"entity\" style=\"background: #ddd; padding: 0.45em 0.6em; margin: 0 0.25em; line-height: 1; border-radius: 0.35em;\">\n",
       "    Vernier\n",
       "    <span style=\"font-size: 0.8em; font-weight: bold; line-height: 1; border-radius: 0.35em; vertical-align: middle; margin-left: 0.5rem\">MISC</span>\n",
       "</mark>\n",
       ". Le major se lit apporter une bouteille du «\n",
       "<mark class=\"entity\" style=\"background: #ddd; padding: 0.45em 0.6em; margin: 0 0.25em; line-height: 1; border-radius: 0.35em;\">\n",
       "    Prunelet\n",
       "    <span style=\"font-size: 0.8em; font-weight: bold; line-height: 1; border-radius: 0.35em; vertical-align: middle; margin-left: 0.5rem\">PER</span>\n",
       "</mark>\n",
       "» au nom engageant et à l'apparence débonnaire, qui ravageait ainsi les cerveaux des hommes de la classe, et, se défiant de ses facultés d'analyse, il envoya purement et simplement le liquide au \n",
       "<mark class=\"entity\" style=\"background: #ff9561; padding: 0.45em 0.6em; margin: 0 0.25em; line-height: 1; border-radius: 0.35em;\">\n",
       "    Laboratoire\n",
       "    <span style=\"font-size: 0.8em; font-weight: bold; line-height: 1; border-radius: 0.35em; vertical-align: middle; margin-left: 0.5rem\">LOC</span>\n",
       "</mark>\n",
       " municipal, avec une apostille du colonel.<br>Le résultat ne se fit pas attendre. Le rapport de l'expert fut foudroyant, comme la liqueur elle-même. Les substances les plus nocives étaient mélangées dans l'apéritif \n",
       "<mark class=\"entity\" style=\"background: #ff9561; padding: 0.45em 0.6em; margin: 0 0.25em; line-height: 1; border-radius: 0.35em;\">\n",
       "    Vernier-Mareuil\n",
       "    <span style=\"font-size: 0.8em; font-weight: bold; line-height: 1; border-radius: 0.35em; vertical-align: middle; margin-left: 0.5rem\">LOC</span>\n",
       "</mark>\n",
       ", avec une audace qui ressemblait à de la candeur. On aurait précipité un homme sain et vigoureux dans l'épilepsie, en peu de temps, avec un produit moins compliqué. Il y avait exagération dans l'empoisonnement. Une descente de police eut lieu dans la cave où le brave garçon composait sa liqueur. On trouva un matériel bien simple : un coquemard en fonte, un alambic, un fourneau, de l'alcool et des poudres. Le tout n'emplit pas une petite charrette à bras. \n",
       "<mark class=\"entity\" style=\"background: #ff9561; padding: 0.45em 0.6em; margin: 0 0.25em; line-height: 1; border-radius: 0.35em;\">\n",
       "    Sainte-Anne\n",
       "    <span style=\"font-size: 0.8em; font-weight: bold; line-height: 1; border-radius: 0.35em; vertical-align: middle; margin-left: 0.5rem\">LOC</span>\n",
       "</mark>\n",
       " était déjà peuplée de plus d'aliénés dus à \n",
       "<mark class=\"entity\" style=\"background: #ff9561; padding: 0.45em 0.6em; margin: 0 0.25em; line-height: 1; border-radius: 0.35em;\">\n",
       "    Vernier\n",
       "    <span style=\"font-size: 0.8em; font-weight: bold; line-height: 1; border-radius: 0.35em; vertical-align: middle; margin-left: 0.5rem\">LOC</span>\n",
       "</mark>\n",
       " que son matériel ne pesait de décigrammes.<br>\n",
       "<mark class=\"entity\" style=\"background: #ff9561; padding: 0.45em 0.6em; margin: 0 0.25em; line-height: 1; border-radius: 0.35em;\">\n",
       "    Traduit\n",
       "    <span style=\"font-size: 0.8em; font-weight: bold; line-height: 1; border-radius: 0.35em; vertical-align: middle; margin-left: 0.5rem\">LOC</span>\n",
       "</mark>\n",
       " en police correctionnelle, le délinquant fit preuve d'une telle douceur, exprima de tels regrets que les juges crurent à son inconscience. Il fit, comme pendant le reste de sa vie, aux heures les plus difficiles, la meilleure impression. Il avait reçu du ciel le masque d'un honnête homme et une voix persuasive. Il n'en faut pas plus, dans des temps où la vertu est rare, pour parvenir, avec les actions les plus abominables sur la conscience, aux plus hautes situations.<br>De sa première rencontre avec la justice de son pays, \n",
       "<mark class=\"entity\" style=\"background: #ddd; padding: 0.45em 0.6em; margin: 0 0.25em; line-height: 1; border-radius: 0.35em;\">\n",
       "    Vernier\n",
       "    <span style=\"font-size: 0.8em; font-weight: bold; line-height: 1; border-radius: 0.35em; vertical-align: middle; margin-left: 0.5rem\">PER</span>\n",
       "</mark>\n",
       " se tira avec cinq cents francs d'amende et l'affichage du jugement à la porte de son établissement. Il poussa un ouf de satisfaction. Son avocat -- car il s'était fait défendre ; c'est sans doute ce qui lui valut d'être condamné -- lui avait laissé entrevoir six mois de prison. Il rentra donc avenue de \n",
       "<mark class=\"entity\" style=\"background: #ff9561; padding: 0.45em 0.6em; margin: 0 0.25em; line-height: 1; border-radius: 0.35em;\">\n",
       "    Tourville\n",
       "    <span style=\"font-size: 0.8em; font-weight: bold; line-height: 1; border-radius: 0.35em; vertical-align: middle; margin-left: 0.5rem\">LOC</span>\n",
       "</mark>\n",
       " avec la tranquillité d'un homme qui se considère comme innocenté, puisqu'on ne l'a pas jeté sous les verrous. Il protesta de la pureté de ses intentions à l'égard de l'armée française, laissa entendre que le major était un âne. Mais il changea de mixture, supprima les poudres et augmenta le degré d'alcool.<br>Sa clientèle doubla. On eût dit que, depuis qu'il était avéré que \n",
       "<mark class=\"entity\" style=\"background: #ddd; padding: 0.45em 0.6em; margin: 0 0.25em; line-height: 1; border-radius: 0.35em;\">\n",
       "    Vernier\n",
       "    <span style=\"font-size: 0.8em; font-weight: bold; line-height: 1; border-radius: 0.35em; vertical-align: middle; margin-left: 0.5rem\">PER</span>\n",
       "</mark>\n",
       " assassinait ses pratiques, l'engouement pour sa liqueur se fût accru, comme si ce flot de buveurs qui roulait devant son comptoir se précipitait, de son plein gré, à la démence et à la mort. Vainement de nouveaux échantillons avaient été prélevés sur ses produits, par la rancune en éveil du major. Ils ne contenaient plus rien de nuisible que de l'alcool qui corrodait la tôle des tables et brûlait le drap des uniformes. Mais c'était de la production courante. Et, à moins de consigner l'établissement, il n'y avait rien à faire.<br>Cependant \n",
       "<mark class=\"entity\" style=\"background: #ddd; padding: 0.45em 0.6em; margin: 0 0.25em; line-height: 1; border-radius: 0.35em;\">\n",
       "    Vernier\n",
       "    <span style=\"font-size: 0.8em; font-weight: bold; line-height: 1; border-radius: 0.35em; vertical-align: middle; margin-left: 0.5rem\">PER</span>\n",
       "</mark>\n",
       " voyait prospérer son commerce. Il était béni par la \n",
       "<mark class=\"entity\" style=\"background: #ff9561; padding: 0.45em 0.6em; margin: 0 0.25em; line-height: 1; border-radius: 0.35em;\">\n",
       "    Providence\n",
       "    <span style=\"font-size: 0.8em; font-weight: bold; line-height: 1; border-radius: 0.35em; vertical-align: middle; margin-left: 0.5rem\">LOC</span>\n",
       "</mark>\n",
       " comme s'il eut fait le bien. Son orgueil n'en était pas enflé. Mais il songeait au moyen de décupler ses capitaux. C'est alors qu'il se trouva en rapport avec l'homme qui devait donner à son industrie morticole toute l'extension qu'elle méritait de prendre pour le malheur de l'humanité. Il rencontra \n",
       "<mark class=\"entity\" style=\"background: #ff9561; padding: 0.45em 0.6em; margin: 0 0.25em; line-height: 1; border-radius: 0.35em;\">\n",
       "    Mareuil\n",
       "    <span style=\"font-size: 0.8em; font-weight: bold; line-height: 1; border-radius: 0.35em; vertical-align: middle; margin-left: 0.5rem\">LOC</span>\n",
       "</mark>\n",
       ". Celui-ci était un bohème qui battait le pavé de \n",
       "<mark class=\"entity\" style=\"background: #ff9561; padding: 0.45em 0.6em; margin: 0 0.25em; line-height: 1; border-radius: 0.35em;\">\n",
       "    Paris\n",
       "    <span style=\"font-size: 0.8em; font-weight: bold; line-height: 1; border-radius: 0.35em; vertical-align: middle; margin-left: 0.5rem\">LOC</span>\n",
       "</mark>\n",
       ", continuellement à la recherche des dix francs qu'il lui fallait pour vivre avec sa sœur, dans un petit appartement des \n",
       "<mark class=\"entity\" style=\"background: #ff9561; padding: 0.45em 0.6em; margin: 0 0.25em; line-height: 1; border-radius: 0.35em;\">\n",
       "    Batignolles\n",
       "    <span style=\"font-size: 0.8em; font-weight: bold; line-height: 1; border-radius: 0.35em; vertical-align: middle; margin-left: 0.5rem\">LOC</span>\n",
       "</mark>\n",
       ". \n",
       "<mark class=\"entity\" style=\"background: #ddd; padding: 0.45em 0.6em; margin: 0 0.25em; line-height: 1; border-radius: 0.35em;\">\n",
       "    Maigre\n",
       "    <span style=\"font-size: 0.8em; font-weight: bold; line-height: 1; border-radius: 0.35em; vertical-align: middle; margin-left: 0.5rem\">PER</span>\n",
       "</mark>\n",
       ", noir, hâbleur comme un bon méridional, il avait essayé de tout, même de la littérature, sans parvenir à se faire une place. Il ne répugnait à aucune tâche, pourvu qu'elle fût rétribuée.<br>Cependant il était honnête et n'aurait pas pris un centime à son prochain, à moins que ce ne fût en traitant une affaire. Alors, rouler la partie adverse lui paraissait le premier des devoirs, presque une nécessité professionnelle. Il était sobre, dur et entêté comme un âne. Il n'aimait au monde que sa sœur \n",
       "<mark class=\"entity\" style=\"background: #7aecec; padding: 0.45em 0.6em; margin: 0 0.25em; line-height: 1; border-radius: 0.35em;\">\n",
       "    Félicité\n",
       "    <span style=\"font-size: 0.8em; font-weight: bold; line-height: 1; border-radius: 0.35em; vertical-align: middle; margin-left: 0.5rem\">ORG</span>\n",
       "</mark>\n",
       ", et n'avait qu'un but : lui assurer un avenir tranquille. Elle faisait de la lingerie bien misérablement dans son petit logis, pendant que \n",
       "<mark class=\"entity\" style=\"background: #ff9561; padding: 0.45em 0.6em; margin: 0 0.25em; line-height: 1; border-radius: 0.35em;\">\n",
       "    Mareuil\n",
       "    <span style=\"font-size: 0.8em; font-weight: bold; line-height: 1; border-radius: 0.35em; vertical-align: middle; margin-left: 0.5rem\">LOC</span>\n",
       "</mark>\n",
       " cherchait la fortune sur le pavé de bois de la ville. Il était rabatteur pour le compte d'un annoncier, quand sa déambulation sans répit le conduisit avenue de \n",
       "<mark class=\"entity\" style=\"background: #ff9561; padding: 0.45em 0.6em; margin: 0 0.25em; line-height: 1; border-radius: 0.35em;\">\n",
       "    Tourville\n",
       "    <span style=\"font-size: 0.8em; font-weight: bold; line-height: 1; border-radius: 0.35em; vertical-align: middle; margin-left: 0.5rem\">LOC</span>\n",
       "</mark>\n",
       ". Il entra dans le café de \n",
       "<mark class=\"entity\" style=\"background: #ddd; padding: 0.45em 0.6em; margin: 0 0.25em; line-height: 1; border-radius: 0.35em;\">\n",
       "    Vernier\n",
       "    <span style=\"font-size: 0.8em; font-weight: bold; line-height: 1; border-radius: 0.35em; vertical-align: middle; margin-left: 0.5rem\">PER</span>\n",
       "</mark>\n",
       ", et sur les offres du patron qui lui poussait un verre de son fameux \n",
       "<mark class=\"entity\" style=\"background: #ddd; padding: 0.45em 0.6em; margin: 0 0.25em; line-height: 1; border-radius: 0.35em;\">\n",
       "    Prunelet\n",
       "    <span style=\"font-size: 0.8em; font-weight: bold; line-height: 1; border-radius: 0.35em; vertical-align: middle; margin-left: 0.5rem\">MISC</span>\n",
       "</mark>\n",
       ", il entra en propos. \n",
       "<mark class=\"entity\" style=\"background: #ddd; padding: 0.45em 0.6em; margin: 0 0.25em; line-height: 1; border-radius: 0.35em;\">\n",
       "    Vernier\n",
       "    <span style=\"font-size: 0.8em; font-weight: bold; line-height: 1; border-radius: 0.35em; vertical-align: middle; margin-left: 0.5rem\">PER</span>\n",
       "</mark>\n",
       " vanta les vertus de sa liqueur. \n",
       "<mark class=\"entity\" style=\"background: #ddd; padding: 0.45em 0.6em; margin: 0 0.25em; line-height: 1; border-radius: 0.35em;\">\n",
       "    Mareuil\n",
       "    <span style=\"font-size: 0.8em; font-weight: bold; line-height: 1; border-radius: 0.35em; vertical-align: middle; margin-left: 0.5rem\">MISC</span>\n",
       "</mark>\n",
       " s'étonna qu'il n'eût pas l'idée d'en faire célébrer les mérites par la presse. Il entonna son boniment :<br>— La réclame, monsieur, n'est-elle pas le plus puissant, le seul levier de l'époque ? Avec la réclame, monsieur, on fait passer un idiot, aux yeux des électeurs, pour un homme de talent et on le pousse au ministère ! Avec la réclame.... \n",
       "<mark class=\"entity\" style=\"background: #ff9561; padding: 0.45em 0.6em; margin: 0 0.25em; line-height: 1; border-radius: 0.35em;\">\n",
       "    Tenez\n",
       "    <span style=\"font-size: 0.8em; font-weight: bold; line-height: 1; border-radius: 0.35em; vertical-align: middle; margin-left: 0.5rem\">LOC</span>\n",
       "</mark>\n",
       ", monsieur, la réclame, c'est bien simple.... Je vous fais une annonce périodique, pendant un mois, de semaine en semaine, dans mes journaux.... \n",
       "<mark class=\"entity\" style=\"background: #ddd; padding: 0.45em 0.6em; margin: 0 0.25em; line-height: 1; border-radius: 0.35em;\">\n",
       "    Ça\n",
       "    <span style=\"font-size: 0.8em; font-weight: bold; line-height: 1; border-radius: 0.35em; vertical-align: middle; margin-left: 0.5rem\">MISC</span>\n",
       "</mark>\n",
       " ne vous coûte rien !<br>— \n",
       "<mark class=\"entity\" style=\"background: #ddd; padding: 0.45em 0.6em; margin: 0 0.25em; line-height: 1; border-radius: 0.35em;\">\n",
       "    Rien\n",
       "    <span style=\"font-size: 0.8em; font-weight: bold; line-height: 1; border-radius: 0.35em; vertical-align: middle; margin-left: 0.5rem\">PER</span>\n",
       "</mark>\n",
       " ? s'écria \n",
       "<mark class=\"entity\" style=\"background: #ddd; padding: 0.45em 0.6em; margin: 0 0.25em; line-height: 1; border-radius: 0.35em;\">\n",
       "    Vernier\n",
       "    <span style=\"font-size: 0.8em; font-weight: bold; line-height: 1; border-radius: 0.35em; vertical-align: middle; margin-left: 0.5rem\">PER</span>\n",
       "</mark>\n",
       ", alléché par cette déclaration. Alors que gagnez-vous ?<br>— \n",
       "<mark class=\"entity\" style=\"background: #ddd; padding: 0.45em 0.6em; margin: 0 0.25em; line-height: 1; border-radius: 0.35em;\">\n",
       "    Vous allez comprendre le mécanisme de l'opération\n",
       "    <span style=\"font-size: 0.8em; font-weight: bold; line-height: 1; border-radius: 0.35em; vertical-align: middle; margin-left: 0.5rem\">MISC</span>\n",
       "</mark>\n",
       ".... Je vous avance ma publicité.... Mais vous, sur toute vente de votre \n",
       "<mark class=\"entity\" style=\"background: #ddd; padding: 0.45em 0.6em; margin: 0 0.25em; line-height: 1; border-radius: 0.35em;\">\n",
       "    Prunelet\n",
       "    <span style=\"font-size: 0.8em; font-weight: bold; line-height: 1; border-radius: 0.35em; vertical-align: middle; margin-left: 0.5rem\">PER</span>\n",
       "</mark>\n",
       " que vous ferez hors de votre établissement, vous me paierez un droit de dix centimes par bouteille.<br>\n",
       "<mark class=\"entity\" style=\"background: #ddd; padding: 0.45em 0.6em; margin: 0 0.25em; line-height: 1; border-radius: 0.35em;\">\n",
       "    Vernier\n",
       "    <span style=\"font-size: 0.8em; font-weight: bold; line-height: 1; border-radius: 0.35em; vertical-align: middle; margin-left: 0.5rem\">PER</span>\n",
       "</mark>\n",
       ", qui n'avait jamais débité de sa liqueur que chez lui, regarda son interlocuteur avec un air narquois. Il se dit : «Tu veux m'enfoncer. Je ne sais comment. Mais l'enfoncé, ce sera toi. Qu'est-ce que je risque ? Si je ne vends rien, je ne paierai pas. Et si, par hasard, la réclame agissait... si je vendais !»<br>Une flamme d'orgueil monta au cerveau de \n",
       "<mark class=\"entity\" style=\"background: #ff9561; padding: 0.45em 0.6em; margin: 0 0.25em; line-height: 1; border-radius: 0.35em;\">\n",
       "    Vernier\n",
       "    <span style=\"font-size: 0.8em; font-weight: bold; line-height: 1; border-radius: 0.35em; vertical-align: middle; margin-left: 0.5rem\">LOC</span>\n",
       "</mark>\n",
       ", qui se vit marchand en gros, expédiant des caisses de \n",
       "<mark class=\"entity\" style=\"background: #ff9561; padding: 0.45em 0.6em; margin: 0 0.25em; line-height: 1; border-radius: 0.35em;\">\n",
       "    Prunelet\n",
       "    <span style=\"font-size: 0.8em; font-weight: bold; line-height: 1; border-radius: 0.35em; vertical-align: middle; margin-left: 0.5rem\">LOC</span>\n",
       "</mark>\n",
       " dans tous les cafés de la province, et, qui sait ? de \n",
       "<mark class=\"entity\" style=\"background: #ff9561; padding: 0.45em 0.6em; margin: 0 0.25em; line-height: 1; border-radius: 0.35em;\">\n",
       "    Paris\n",
       "    <span style=\"font-size: 0.8em; font-weight: bold; line-height: 1; border-radius: 0.35em; vertical-align: middle; margin-left: 0.5rem\">LOC</span>\n",
       "</mark>\n",
       " peut-être. Il dit :</div></span>"
      ],
      "text/plain": [
       "<IPython.core.display.HTML object>"
      ]
     },
     "metadata": {},
     "output_type": "display_data"
    }
   ],
   "source": [
    "# TEACHER\n",
    "# On choisit un fichier parmi la liste des fichiers disponibles\n",
    "some_filename = text_file_paths[10]\n",
    "# On charge son contenu\n",
    "some_text = load_text(some_filename)\n",
    "# On applique notre modèle de langue pour extraire des entités nommées (entre autres)\n",
    "some_doc = nlp(some_text)\n",
    "# On utilise displaCy pour visualiser les entités nommées détectées dans ce texte\n",
    "displacy.render(some_doc, style=\"ent\")"
   ]
  },
  {
   "attachments": {},
   "cell_type": "markdown",
   "metadata": {},
   "source": [
    "**Qu'en pensez-vous ?**  \n",
    "— Pas si mal, à première vue, pour un modèle de langue minimaliste !"
   ]
  },
  {
   "attachments": {},
   "cell_type": "markdown",
   "metadata": {},
   "source": [
    "### Traiter les données de façon massive\n",
    "\n",
    "Nous allons traiter chacun des textes et récupérer le texte des entités nommées de type \"`LOC`\" pour les ajouter à une liste.\n",
    "\n",
    "Cette liste contiendra des éléments qui nous intéressent (comment \"Paris\", \"Bretagne\"), ne contiendra pas quelques éléments manqués, et contiendra en plus quelques éléments de bruit faussement détectés comme des entités de type `LOC`.\n",
    "\n",
    "Afin de diminuer le plus possible le temps de calcul, nous allons réaliser un certain nombre d'optimisations :\n",
    "\n",
    "- nous allons charger les fichiers texte à la demande pour limiter l'utilisation de la mémoire de la machine et commencer à les analyser dès qu'ils sont chargés (au lieu d'attendre de tous les charger) → utilisation d'un générateur Python\n",
    "- nous allons temporairement [limiter les composants actifs de notre modèle de langue](https://spacy.io/usage/processing-pipelines#disabling) afin de ne calculer que les éléments nécessaires à la reconnaissance d'entités nommées → utilisation du *context manager* [`Language.select_pipes()`](https://spacy.io/api/language#select_pipes),\n",
    "- nous allons utiliser la fonctionnalité de traitement à la volée de Spacy pour accélérer les calculs et limiter l'utilisation de la mémoire → méthode [`Language.pipe()`](https://spacy.io/api/language#pipe),\n",
    "- nous allons analyser les documents au fur et à mesure de leur analyse pour en extraire les entités qui nous intéressent → parcours des éléments [`Doc.ents`](https://spacy.io/api/doc#ents) et sélection des éléments dont l'attribut [`Span.label_`](https://spacy.io/api/span#attributes) nous convient,\n",
    "- et finalement nous ne stockerons que le texte des entités nommées, et non l'objet [`Span`](https://spacy.io/api/span) complet qui contient une référence vers tout le texte du document, afin de limiter l'utilisation mémoire.\n",
    "\n"
   ]
  },
  {
   "attachments": {},
   "cell_type": "markdown",
   "metadata": {},
   "source": [
    "#### 🛠️ Compléter la cellule suivante pour traiter tous les fichiers texte du corpus\n",
    "Rappel : la variable qui pointe vers notre modèle de langue s'appelle `nlp`.\n",
    "\n",
    "Convention : nous définissons une variable `all_loc_entities: list[str]` qui contiendra le texte de toutes nos entités.\n",
    "\n",
    "<details>\n",
    "<summary>Solution</summary>\n",
    "\n",
    "```python\n",
    "texts = (load_text(filename) for filename in text_file_paths)\n",
    "all_loc_entities: list[str] = []\n",
    "with nlp.select_pipes(enable=\"ner\"):\n",
    "    for doc in nlp.pipe(texts):\n",
    "        for ent in doc.ents:\n",
    "            if ent.label_ == \"LOC\":\n",
    "                all_loc_entities.append(ent.text)\n",
    "```\n",
    "</details>"
   ]
  },
  {
   "cell_type": "code",
   "execution_count": null,
   "metadata": {},
   "outputs": [],
   "source": [
    "%%time\n",
    "# ↑ l'instruction ci-dessus sert à mesurer le temps d'exécution de la cellule courante\n",
    "texts = (load_text(filename) for filename in text_file_paths)  # on charge les fichiers à la demande avec un générateur\n",
    "all_loc_entities: list[str] = []  # la liste qui va stocker nos résultats : une simple liste d'entités nommées\n",
    "with nlp.____(enable=____):  # on restreint les calculs au composant \"ner\" exclusivement pour aller plus vite\n",
    "    for doc in nlp.____(texts):  # on utilise le traitement à la volée\n",
    "        for ent in doc.____:  # on parcourt les entités du document\n",
    "            if ent.label_ == ____:  # on ne conserve que les entités du type qui nous intéresse\n",
    "                all_loc_entities.append(ent.____)  # on ne conserve que le texte et pas toute l'entité pour éviter de garder le document en mémoire\n",
    "# On affiche le nombre d'entités nommées trouvées\n",
    "len(all_loc_entities)"
   ]
  },
  {
   "cell_type": "code",
   "execution_count": 46,
   "metadata": {
    "tags": [
     "teacher"
    ]
   },
   "outputs": [
    {
     "name": "stdout",
     "output_type": "stream",
     "text": [
      "CPU times: user 6.26 s, sys: 5.98 s, total: 12.2 s\n",
      "Wall time: 12.3 s\n"
     ]
    },
    {
     "data": {
      "text/plain": [
       "1567"
      ]
     },
     "execution_count": 46,
     "metadata": {},
     "output_type": "execute_result"
    }
   ],
   "source": [
    "%%time\n",
    "# TEACHER\n",
    "# ↑ l'instruction ci-dessus sert à mesurer le temps d'exécution de la cellule courante\n",
    "texts = (load_text(filename) for filename in text_file_paths)  # on charge les fichiers à la demande avec un générateur\n",
    "all_loc_entities: list[str] = []  # la liste qui va stocker nos résultats : une simple liste d'entités nommées\n",
    "with nlp.select_pipes(enable=\"ner\"):  # on restreint les calculs au composant \"ner\" exclusivement pour aller plus vite\n",
    "    for doc in nlp.pipe(texts):  # on utilise le traitement à la volée\n",
    "        for ent in doc.ents:\n",
    "            if ent.label_ == \"LOC\":  # on ne conserve que les entités du type qui nous intéresse\n",
    "                all_loc_entities.append(ent.text)  # on ne conserve que le texte et pas toute l'entité pour éviter de garder le document en mémoire\n",
    "# On affiche le nombre d'entités nommées trouvées\n",
    "len(all_loc_entities)"
   ]
  },
  {
   "cell_type": "code",
   "execution_count": 48,
   "metadata": {},
   "outputs": [
    {
     "data": {
      "text/plain": [
       "['I',\n",
       " 'Paris',\n",
       " 'Brest',\n",
       " 'pauvre Bretagne',\n",
       " 'Perche',\n",
       " 'Beauce',\n",
       " 'Orne',\n",
       " 'Basse-Normandie',\n",
       " 'Vitré',\n",
       " 'la Vilaine']"
      ]
     },
     "execution_count": 48,
     "metadata": {},
     "output_type": "execute_result"
    }
   ],
   "source": [
    "# Voici les premiers éléments de cette grande liste\n",
    "all_loc_entities[:10]"
   ]
  },
  {
   "attachments": {},
   "cell_type": "markdown",
   "metadata": {},
   "source": [
    "### ⏰ Où en êtes-vous ?\n",
    "\n",
    "**Si vous n'avez pas le temps d'aller plus loin, ce n'est pas grave** : vous pourrez finir cette activité chez vous.\n",
    "Vous avez déjà réussi à produire des données dans un format qui peut être utile pour une analyse ultérieure.\n",
    "**Vous pouvez passer directement à l'étape 8 d'export des données** pour avoir une vision complète de la phase d'extraction de données.\n",
    "\n",
    "🤓 Dans ce qui suit, nous allons essayer d'aller plus loin pour :\n",
    "- mettre en place un protocole d'évaluation rigoureux nous permettant de comparer la performance de différents modèles (et ne pas nous contenter du modèle le plus léger de Spacy)\n",
    "- entraîner un modèle spécialisé pour l'analyse de nos données, en vérifiant bien qu'il nous apporte un gain par rapport aux modèles existants !"
   ]
  },
  {
   "attachments": {},
   "cell_type": "markdown",
   "metadata": {},
   "source": [
    "## 5. Évaluer objectivement la performance d'un modèle de langage — *⏱️ 5 mn*\n",
    "\n",
    "Faire l'évaluation sur le jeu de données complet ici pour simplifier, ou plutôt sur des données simplistes pour comprendre le comportement des métriques.\n",
    "\n",
    "TODO\n",
    "- expliquer le principe général et les métriques\n",
    "- Définir la fonction d'évaluation (simplifier les métriques présentées ?)\n",
    "- définir quelques textes de test, la vérité terrain associée (visualiser pour valider correction), et de fausses prédictions\n",
    "- illustrer les variations de valeurs de la précision, du rappel et du f-score"
   ]
  },
  {
   "attachments": {},
   "cell_type": "markdown",
   "metadata": {},
   "source": [
    "## 6. Annoter un jeu de données complet : aperçu du problème — *⏱️ 5 mn*\n"
   ]
  },
  {
   "attachments": {},
   "cell_type": "markdown",
   "metadata": {},
   "source": [
    "reprendre le texte\n",
    "\n",
    "proposer de télécharger un fichier bien choisi et de l'annoter via le petit outil pour discuter des problèmes éventuels"
   ]
  },
  {
   "attachments": {},
   "cell_type": "markdown",
   "metadata": {},
   "source": [
    "## 7. Entraîner un modèle spécialisé et comparer sa performance — *⏱️ 10 mn*\n",
    "\n",
    "train/test split : load données déjà préparées (donner lien vers le code de préparation pour les curieux⋅ses)\n",
    "\n",
    "eval fr-sm, fr-md, fr-lg (pas de NER pour la version transformer)\n",
    "\n",
    "train la version fr-sm pour avoir le temps de regarder les résultats\n",
    "\n",
    "reload best model\n",
    "\n",
    "eval best trained model\n",
    "\n",
    "\n",
    "comparer et conclure\n",
    "\n",
    "(exercice : utiliser le meilleur modèle pour traiter toutes les données)"
   ]
  },
  {
   "attachments": {},
   "cell_type": "markdown",
   "metadata": {},
   "source": [
    "## 8. Export des données pour une utilisation ultérieure — *⏱️ 2 mn*\n",
    "\n",
    "Nous allons stocker les données produites dans un fichier JSON facile à réutiliser et convertir.\n",
    "\n",
    "Nous allons sauvegarder ce fichier dans votre Drive ou à l'emplacement que vous indiquerez ci-après.\n",
    "\n",
    "Nous allons également vous montrer comment télécharger directement le fichier vers votre machine locale si vous utilisez Google Colab."
   ]
  },
  {
   "attachments": {},
   "cell_type": "markdown",
   "metadata": {},
   "source": [
    "#### 🚧 Exécutez les cellules suivantes, en modifiant le chemin vers l'emplacement de sauvegarde du fichier si nécessaire"
   ]
  },
  {
   "cell_type": "code",
   "execution_count": null,
   "metadata": {},
   "outputs": [],
   "source": [
    "# CHEMIN VERS LE FICHIER DE SAUVEGARDE\n",
    "PATH_TO_SAVE_FILE = f\"/gdrive/My Drive/{FOLDER_NAME}/en_french_eltec_dataset.json\""
   ]
  },
  {
   "cell_type": "code",
   "execution_count": 50,
   "metadata": {
    "tags": [
     "teacher"
    ]
   },
   "outputs": [],
   "source": [
    "# TEACHER\n",
    "PATH_TO_SAVE_FILE = f\"/home/jchazalo/tmp/entites_loc_french_eltec_dataset.json\""
   ]
  },
  {
   "cell_type": "code",
   "execution_count": 53,
   "metadata": {},
   "outputs": [],
   "source": [
    "# Définition d'une fonction de sauvegarde\n",
    "import json\n",
    "def save_my_entities(data: list[str], filename: str):\n",
    "    with open(filename, mode='w', encoding=\"utf8\") as out_file:\n",
    "        json.dump(data, out_file, indent=0)\n",
    "    print(f\"Saved your data to '{filename}'!\")"
   ]
  },
  {
   "cell_type": "code",
   "execution_count": 54,
   "metadata": {},
   "outputs": [
    {
     "name": "stdout",
     "output_type": "stream",
     "text": [
      "Saved your data to '/home/jchazalo/tmp/entites_loc_french_eltec_dataset.json'!\n"
     ]
    }
   ],
   "source": [
    "# Sauvegarde du fichier\n",
    "save_my_entities(all_loc_entities, PATH_TO_SAVE_FILE)"
   ]
  },
  {
   "cell_type": "code",
   "execution_count": null,
   "metadata": {},
   "outputs": [],
   "source": [
    "# Téléchargement direct du fichier depuis la VM Colab\n",
    "files.download(PATH_TO_SAVE_FILE)"
   ]
  }
 ],
 "metadata": {
  "kernelspec": {
   "display_name": "hn-ariane-ner-tuto-2023-PwR_0BG5",
   "language": "python",
   "name": "python3"
  },
  "language_info": {
   "codemirror_mode": {
    "name": "ipython",
    "version": 3
   },
   "file_extension": ".py",
   "mimetype": "text/x-python",
   "name": "python",
   "nbconvert_exporter": "python",
   "pygments_lexer": "ipython3",
   "version": "3.10.12"
  },
  "orig_nbformat": 4
 },
 "nbformat": 4,
 "nbformat_minor": 2
}
