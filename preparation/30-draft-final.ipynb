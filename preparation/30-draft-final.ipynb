{
 "cells": [
  {
   "attachments": {},
   "cell_type": "markdown",
   "metadata": {},
   "source": [
    "# Initiation à la reconnaissance d'entités nommées 🔍 avec [Spacy](https://spacy.io/)\n",
    "\n",
    "👋 Bonjour !\n",
    "\n",
    "Cette activité a pour objectif de vous apprendre à utiliser la bibliothèque [Spacy](https://spacy.io/) et de mettre en place un projet de reconnaissance d'entités nommées (*Named entities recognition*, ou *NER* en anglais).\n",
    "Au travers d'exercices et d'observations simples, vous allez prendre en main un ensemble minimaliste d'outils qui vous permettra d'envisager la chaîne de traitement de données dans son ensemble,\n",
    "et de réappliquer cette approches sur des données de votre choix, après cet atelier, en toute autonomie.\n",
    "\n",
    "Voici le contenu proposé pour cette activité :\n",
    "\n",
    "### TODO auto generate TOC\n",
    "1. [5 mn] introduction (vous pouvez [consulter la présentation sur Google slides](https://docs.google.com/presentation/d/1_RycfOOeQo8XZNojsx7SzaSDyhepj-8n8w7xMpf9UGI/edit))\n",
    "1. [5 mn] Installation et généralités à propos de Spacy, manipulation des objets de base\n",
    "1. [5 mn] utilisation d'un modèle de langage existant pour reconnaitre des entités nommées\n",
    "1. [5 mn] traitement des données de notre corpus d'exemple\n",
    "1. [5 mn] évaluation objective de la performance d'un modèle de langage\n",
    "1. [5 mn] aperçu du problème d'annotation pour avoir un jeu de données complet\n",
    "1. [10 mn] comparaison de la performance de modèles de langage pré-entraînés génériques et entraînement d'un modèle spécialisé\n",
    "1. [2 mn] export des données pour une utilisation ultérieure\n",
    "\n",
    "Symboles utilisés :\n",
    "- Au cours de cette activité, vous aurez des actions à réaliser.\n",
    "  Celles-ci sont indiquées par les symboles 🚧, 🏗️, 🛠️.\n",
    "- Certains éléments nécessitant votre attention sont indiqués par des symboles comme 🚨, ⚠️, 👉.\n",
    "- Et finalement, certains éléments sont indiqués pour vous permettre de prolonger cette activité en dehors du créneau réservé, et sont indiqués par le symbole 🤓.\n",
    "\n",
    "Démarrez l'activité dès l'introduction générale par les formateurs terminée !\n",
    "Parcourez ce *notebook* dans l'ordre, et n'hésitez pas à solliciter les formateurs dès que vous avez une question.\n",
    "Aux étapes clés de l'atelier, ces derniers utiliseront les supports de cours pour introduire certaines notions collectivement.\n",
    "Vous pouvez cependant avancer à votre rythme en toute autonomie.\n"
   ]
  },
  {
   "attachments": {},
   "cell_type": "markdown",
   "metadata": {},
   "source": [
    "### Sources et licence\n",
    "\n",
    "Cet atelier est largement tiré du cours “[NLP avancé avec Spacy](https://course.spacy.io/fr)” réalisé par [Ines Montani](https://twitter.com/_inesmontani) (créatrice de [Spacy](https://spacy.io/)) sous [licence MIT](https://www.tldrlegal.com/license/mit-license).\n",
    "Cette licence nous autorise à reprendre, modifier et diffuser le contenu tant que nous indiquons la licence originale :\n",
    "\n",
    ">The MIT License (MIT)\n",
    ">Copyright (C) 2019 Ines Montani\n",
    ">Permission is hereby granted, free of charge, to any person obtaining a copy of this software and associated documentation files (the \"Software\"), to deal in the Software without restriction, including without limitation the rights to use, copy, modify, merge, publish, distribute, sublicense, and/or sell copies of the Software, and to permit persons to whom the Software is furnished to do so, subject to the following conditions:\n",
    "The above copyright notice and this permission notice shall be included in all copies or substantial portions of the Software.\n",
    "THE SOFTWARE IS PROVIDED \"AS IS\", WITHOUT WARRANTY OF ANY KIND, EXPRESS OR IMPLIED, INCLUDING BUT NOT LIMITED TO THE WARRANTIES OF MERCHANTABILITY, FITNESS FOR A PARTICULAR PURPOSE AND NONINFRINGEMENT. IN NO EVENT SHALL THE AUTHORS OR COPYRIGHT HOLDERS BE LIABLE FOR ANY CLAIM, DAMAGES OR OTHER LIABILITY, WHETHER IN AN ACTION OF CONTRACT, TORT OR OTHERWISE, ARISING FROM, OUT OF OR IN CONNECTION WITH THE SOFTWARE OR THE USE OR OTHER DEALINGS IN THE SOFTWARE.\n",
    "\n",
    "\n",
    "Les données de cet atelier sont adaptées du “[French ELTEC NER Open Dataset](http://hdl.handle.net/20.500.11752/OPEN-986)” par Carmen Brando, Francesca Frontini, et Ioana Galleron sous licence [Creative Commons - Attribution-ShareAlike 4.0 International (CC BY-SA 4.0)](http://creativecommons.org/licenses/by-sa/4.0/). \n",
    "\n",
    "Publication de référence :\n",
    "> Brando, Carmen; Frontini, Francesca and Galleron, Ioana, 2022, French ELTEC NER Open Dataset, ILC-CNR for CLARIN-IT repository hosted at Institute for Computational Linguistics \"A. Zampolli\", National Research Council, in Pisa, [http://hdl.handle.net/20.500.11752/OPEN-986](http://hdl.handle.net/20.500.11752/OPEN-986).\n",
    "\n",
    "Ce cours et les données associées sont sous licence [Creative Commons - Attribution-ShareAlike 4.0 International (CC BY-SA 4.0)](http://creativecommons.org/licenses/by-sa/4.0/).\n",
    "Pour citer ce travail, merci d'indiquer :\n",
    "\n",
    "> Consortium HumaNum Ariane, Joseph Chazalon, Atelier d'initiation à l'extraction d'entités nommées, en ligne: <https://github.com/jchazalon/hn-ariane-ner-tuto-2023>, 9 novembre 2023, Lyon."
   ]
  },
  {
   "cell_type": "markdown",
   "metadata": {},
   "source": []
  }
 ],
 "metadata": {
  "language_info": {
   "name": "python"
  },
  "orig_nbformat": 4
 },
 "nbformat": 4,
 "nbformat_minor": 2
}
