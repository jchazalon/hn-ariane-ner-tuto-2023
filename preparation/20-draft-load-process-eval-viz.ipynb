{
 "cells": [
  {
   "cell_type": "markdown",
   "metadata": {},
   "source": [
    "# Analyse 1 : utilisation de regexp et de patterns spacy\n",
    "\n",
    "on essaie d'extraire des termes connus, et des locutions typiques, pour détecter les références aux personnages et aux lieux.\n",
    "\n"
   ]
  },
  {
   "cell_type": "markdown",
   "metadata": {},
   "source": [
    "## Trouver et lister les fichiers"
   ]
  },
  {
   "cell_type": "code",
   "execution_count": 1,
   "metadata": {},
   "outputs": [],
   "source": [
    "from glob import glob\n",
    "import os.path"
   ]
  },
  {
   "cell_type": "code",
   "execution_count": 2,
   "metadata": {},
   "outputs": [],
   "source": [
    "# FIXME fournir code lecture fichiers depuis Google Drive ici (archive format zip)"
   ]
  },
  {
   "cell_type": "code",
   "execution_count": 3,
   "metadata": {},
   "outputs": [],
   "source": [
    "PATH_TEXT_FILES_DIR = \"/home/jchazalo/tmp/French_ELTEC_NER_Open_Dataset/texts\""
   ]
  },
  {
   "cell_type": "code",
   "execution_count": 4,
   "metadata": {},
   "outputs": [
    {
     "name": "stdout",
     "output_type": "stream",
     "text": [
      "Found 100 files.\n"
     ]
    },
    {
     "data": {
      "text/plain": [
       "['/home/jchazalo/tmp/French_ELTEC_NER_Open_Dataset/texts/tr_FRA00101_Adam.txt',\n",
       " '/home/jchazalo/tmp/French_ELTEC_NER_Open_Dataset/texts/tr_FRA00102_Adam.txt',\n",
       " '/home/jchazalo/tmp/French_ELTEC_NER_Open_Dataset/texts/tr_FRA00201_Audoux.txt',\n",
       " '/home/jchazalo/tmp/French_ELTEC_NER_Open_Dataset/texts/tr_FRA00301_Aimard.txt',\n",
       " '/home/jchazalo/tmp/French_ELTEC_NER_Open_Dataset/texts/tr_FRA00302_Aimard.txt',\n",
       " '/home/jchazalo/tmp/French_ELTEC_NER_Open_Dataset/texts/tr_FRA00401_Allais.txt',\n",
       " '/home/jchazalo/tmp/French_ELTEC_NER_Open_Dataset/texts/tr_FRA00501_Balzac.txt',\n",
       " '/home/jchazalo/tmp/French_ELTEC_NER_Open_Dataset/texts/tr_FRA00502_Balzac.txt',\n",
       " '/home/jchazalo/tmp/French_ELTEC_NER_Open_Dataset/texts/tr_FRA00503_Balzac.txt',\n",
       " '/home/jchazalo/tmp/French_ELTEC_NER_Open_Dataset/texts/tr_FRA00601_Boisgobey.txt']"
      ]
     },
     "execution_count": 4,
     "metadata": {},
     "output_type": "execute_result"
    }
   ],
   "source": [
    "files = sorted(glob(os.path.join(PATH_TEXT_FILES_DIR, \"*.txt\")))\n",
    "print(\"Found\", len(files), \"files.\")\n",
    "files[:10]"
   ]
  },
  {
   "cell_type": "code",
   "execution_count": 5,
   "metadata": {},
   "outputs": [
    {
     "data": {
      "text/plain": [
       "'/home/jchazalo/tmp/French_ELTEC_NER_Open_Dataset/texts/tr_FRA03001_Ohnet.txt'"
      ]
     },
     "execution_count": 5,
     "metadata": {},
     "output_type": "execute_result"
    }
   ],
   "source": [
    "sample = files[50]\n",
    "sample"
   ]
  },
  {
   "cell_type": "markdown",
   "metadata": {},
   "source": [
    "## Import spacy and start processing"
   ]
  },
  {
   "cell_type": "code",
   "execution_count": 6,
   "metadata": {},
   "outputs": [],
   "source": [
    "import spacy"
   ]
  },
  {
   "attachments": {},
   "cell_type": "markdown",
   "metadata": {},
   "source": [
    "\n",
    "## L'objet [`Language`](https://spacy.io/api/language)\n",
    "On construit une nouvelle chaîne de traitements de plusieurs façon. La manière la plus simple est de construire une chaîne de traitement vide (ou presque) pour le français à l'aide de la \"fabrique\" à chaînes de traitement `spacy.blank(LANGAGE)`."
   ]
  },
  {
   "cell_type": "code",
   "execution_count": 7,
   "metadata": {},
   "outputs": [],
   "source": [
    "nlp = spacy.blank(\"fr\")"
   ]
  },
  {
   "cell_type": "markdown",
   "metadata": {},
   "source": [
    "\n",
    "La chaîne de traitements contient différents traitements appliqués les uns après les autres.\n",
    "On peut afficher cette liste de traitements à l'aide de l'attribut `pipe_names` de l'objet `nlp`."
   ]
  },
  {
   "cell_type": "code",
   "execution_count": 8,
   "metadata": {},
   "outputs": [
    {
     "data": {
      "text/plain": [
       "[]"
      ]
     },
     "execution_count": 8,
     "metadata": {},
     "output_type": "execute_result"
    }
   ],
   "source": [
    "nlp.pipe_names"
   ]
  },
  {
   "cell_type": "markdown",
   "metadata": {},
   "source": [
    "Par défaut, une chaîne de traitement ne contient rien… Sauf un *tokenizer*, d'où l'importance de préciser la langue !"
   ]
  },
  {
   "attachments": {},
   "cell_type": "markdown",
   "metadata": {},
   "source": [
    "## L'objet [`Doc`](https://spacy.io/api/doc)\n",
    "On obtient un objet [`Doc`](https://spacy.io/api/doc) en appliquant la chaîne de traitement [`Language`](https://spacy.io/api/language) à une chaîne de texte.\n",
    "\n",
    "Cet objet [`Doc`](https://spacy.io/api/doc) est central pour Spacy car va être progressivement enrichi par chacun de traitements qui va venir y piocher les informations dont il a besoin en entrée, et ajouter les informations qu'il a calculées.\n",
    "Par exemple, le composant \"ner\" va venir affecter une étiquette (*\"label\"*) à chacun des *tokens* du document. Il va stocker cette information dans un nouvel attribut `doc.ents` du document.\n",
    "\n",
    "L'attribut `doc.text` quant à lui contient la liste des *tokens* extraits.\n",
    "\n",
    "![](https://spacy.io/images/architecture.svg)\n",
    "\n",
    "![](https://spacy.io/images/pipeline.svg)"
   ]
  },
  {
   "cell_type": "code",
   "execution_count": 9,
   "metadata": {},
   "outputs": [],
   "source": [
    "# Créé en traitant une chaine de caractères avec l'objet nlp\n",
    "doc = nlp(\"Bonjour tout le monde !\")"
   ]
  },
  {
   "attachments": {},
   "cell_type": "markdown",
   "metadata": {},
   "source": [
    "On peut parcourir les *tokens* extraits d'un [`Doc`](https://spacy.io/api/doc) à l'aide d'une boucle classique en Python."
   ]
  },
  {
   "cell_type": "code",
   "execution_count": 10,
   "metadata": {},
   "outputs": [
    {
     "name": "stdout",
     "output_type": "stream",
     "text": [
      "Bonjour\n",
      "tout\n",
      "le\n",
      "monde\n",
      "!\n"
     ]
    }
   ],
   "source": [
    "# Itère sur les tokens dans un Doc\n",
    "for token in doc:\n",
    "    print(token.text)"
   ]
  },
  {
   "cell_type": "code",
   "execution_count": 11,
   "metadata": {},
   "outputs": [
    {
     "data": {
      "text/plain": [
       "tout"
      ]
     },
     "execution_count": 11,
     "metadata": {},
     "output_type": "execute_result"
    }
   ],
   "source": [
    "# On peut sélectionner un token particulier, grâce à son indice dans le document\n",
    "token = doc[1]\n",
    "token"
   ]
  },
  {
   "cell_type": "markdown",
   "metadata": {},
   "source": [
    "### Exemple de cellule avec contenu caché par défaut\n",
    "#### 🚧 <b>Essayez à présent de sélectionner et afficher les <i>tokens</i> \"tout le monde\".</b>\n",
    "\n",
    "<details>\n",
    "<summary>Indices</summary>\n",
    "\n",
    "Vous pouvez utiliser les *ranges* pour sélectionner plusieurs éléments d'un itérable. Voici un exemple de la syntaxe à utiliser :\n",
    "```python\n",
    "ma_liste = [0, 1, 2, 3]\n",
    "print(ma_liste[1:3])\n",
    "```\n",
    "</details>\n",
    "\n",
    "<details>\n",
    "<summary>Solution</summary>\n",
    "\n",
    "On applique cette syntaxe pour sélectionner les tokens du rang 1 (2e token, inclus) au rang 4 (non inclus) :\n",
    "\n",
    "```python\n",
    "doc[1:4]\n",
    "```\n",
    "</details>\n"
   ]
  },
  {
   "cell_type": "code",
   "execution_count": 12,
   "metadata": {},
   "outputs": [
    {
     "data": {
      "text/plain": [
       "tout le monde"
      ]
     },
     "execution_count": 12,
     "metadata": {},
     "output_type": "execute_result"
    }
   ],
   "source": [
    "# On peut également utiliser les \"ranges\" Python pour sélectionner plusieurs tokens\n",
    "span = doc[1:4]\n",
    "span"
   ]
  },
  {
   "cell_type": "code",
   "execution_count": 13,
   "metadata": {},
   "outputs": [
    {
     "data": {
      "text/plain": [
       "'tout le monde'"
      ]
     },
     "execution_count": 13,
     "metadata": {},
     "output_type": "execute_result"
    }
   ],
   "source": [
    "# On peut également accéder aux attributs d'un span\n",
    "span.text"
   ]
  },
  {
   "cell_type": "markdown",
   "metadata": {},
   "source": [
    "## "
   ]
  },
  {
   "cell_type": "code",
   "execution_count": 15,
   "metadata": {},
   "outputs": [
    {
     "name": "stdout",
     "output_type": "stream",
     "text": [
      "Index :    [0, 1, 2, 3, 4]\n",
      "Text :     ['Cela', 'coûte', '5', '€', '.']\n",
      "is_alpha : [True, True, False, False, False]\n",
      "is_punct : [False, False, False, False, True]\n",
      "like_num : [False, False, True, False, False]\n"
     ]
    }
   ],
   "source": [
    "## Autres attributs des tokens et des spans\n",
    "\n",
    "doc = nlp(\"Cela coûte 5 €.\")\n",
    "\n",
    "print(\"Index :   \", [token.i for token in doc])\n",
    "print(\"Text :    \", [token.text for token in doc])\n",
    "\n",
    "print(\"is_alpha :\", [token.is_alpha for token in doc])\n",
    "print(\"is_punct :\", [token.is_punct for token in doc])\n",
    "print(\"like_num :\", [token.like_num for token in doc])"
   ]
  },
  {
   "cell_type": "markdown",
   "metadata": {},
   "source": [
    "## Utilisation d'un pipeline avec un pos_tagger et un reconnaisseur d'entités nommées"
   ]
  },
  {
   "cell_type": "code",
   "execution_count": null,
   "metadata": {},
   "outputs": [],
   "source": []
  },
  {
   "cell_type": "code",
   "execution_count": null,
   "metadata": {},
   "outputs": [
    {
     "name": "stdout",
     "output_type": "stream",
     "text": [
      "Collecting fr-core-news-sm==3.7.0\n",
      "  Downloading https://github.com/explosion/spacy-models/releases/download/fr_core_news_sm-3.7.0/fr_core_news_sm-3.7.0-py3-none-any.whl (16.3 MB)\n",
      "\u001b[2K     \u001b[38;2;114;156;31m━━━━━━━━━━━━━━━━━━━━━━━━━━━━━━━━━━━━━━━━\u001b[0m \u001b[32m16.3/16.3 MB\u001b[0m \u001b[31m2.6 MB/s\u001b[0m eta \u001b[36m0:00:00\u001b[0mm eta \u001b[36m0:00:01\u001b[0m[36m0:00:01\u001b[0m\n",
      "\u001b[?25hRequirement already satisfied: spacy<3.8.0,>=3.7.0 in /home/jchazalo/.virtualenvs/hn-ariane-ner-tuto-2023-PwR_0BG5/lib/python3.10/site-packages (from fr-core-news-sm==3.7.0) (3.7.1)\n",
      "Requirement already satisfied: spacy-legacy<3.1.0,>=3.0.11 in /home/jchazalo/.virtualenvs/hn-ariane-ner-tuto-2023-PwR_0BG5/lib/python3.10/site-packages (from spacy<3.8.0,>=3.7.0->fr-core-news-sm==3.7.0) (3.0.12)\n",
      "Requirement already satisfied: spacy-loggers<2.0.0,>=1.0.0 in /home/jchazalo/.virtualenvs/hn-ariane-ner-tuto-2023-PwR_0BG5/lib/python3.10/site-packages (from spacy<3.8.0,>=3.7.0->fr-core-news-sm==3.7.0) (1.0.5)\n",
      "Requirement already satisfied: murmurhash<1.1.0,>=0.28.0 in /home/jchazalo/.virtualenvs/hn-ariane-ner-tuto-2023-PwR_0BG5/lib/python3.10/site-packages (from spacy<3.8.0,>=3.7.0->fr-core-news-sm==3.7.0) (1.0.10)\n",
      "Requirement already satisfied: cymem<2.1.0,>=2.0.2 in /home/jchazalo/.virtualenvs/hn-ariane-ner-tuto-2023-PwR_0BG5/lib/python3.10/site-packages (from spacy<3.8.0,>=3.7.0->fr-core-news-sm==3.7.0) (2.0.8)\n",
      "Requirement already satisfied: preshed<3.1.0,>=3.0.2 in /home/jchazalo/.virtualenvs/hn-ariane-ner-tuto-2023-PwR_0BG5/lib/python3.10/site-packages (from spacy<3.8.0,>=3.7.0->fr-core-news-sm==3.7.0) (3.0.9)\n",
      "Requirement already satisfied: thinc<8.3.0,>=8.1.8 in /home/jchazalo/.virtualenvs/hn-ariane-ner-tuto-2023-PwR_0BG5/lib/python3.10/site-packages (from spacy<3.8.0,>=3.7.0->fr-core-news-sm==3.7.0) (8.2.1)\n",
      "Requirement already satisfied: wasabi<1.2.0,>=0.9.1 in /home/jchazalo/.virtualenvs/hn-ariane-ner-tuto-2023-PwR_0BG5/lib/python3.10/site-packages (from spacy<3.8.0,>=3.7.0->fr-core-news-sm==3.7.0) (1.1.2)\n",
      "Requirement already satisfied: srsly<3.0.0,>=2.4.3 in /home/jchazalo/.virtualenvs/hn-ariane-ner-tuto-2023-PwR_0BG5/lib/python3.10/site-packages (from spacy<3.8.0,>=3.7.0->fr-core-news-sm==3.7.0) (2.4.8)\n",
      "Requirement already satisfied: catalogue<2.1.0,>=2.0.6 in /home/jchazalo/.virtualenvs/hn-ariane-ner-tuto-2023-PwR_0BG5/lib/python3.10/site-packages (from spacy<3.8.0,>=3.7.0->fr-core-news-sm==3.7.0) (2.0.10)\n",
      "Requirement already satisfied: weasel<0.4.0,>=0.1.0 in /home/jchazalo/.virtualenvs/hn-ariane-ner-tuto-2023-PwR_0BG5/lib/python3.10/site-packages (from spacy<3.8.0,>=3.7.0->fr-core-news-sm==3.7.0) (0.3.2)\n",
      "Requirement already satisfied: typer<0.10.0,>=0.3.0 in /home/jchazalo/.virtualenvs/hn-ariane-ner-tuto-2023-PwR_0BG5/lib/python3.10/site-packages (from spacy<3.8.0,>=3.7.0->fr-core-news-sm==3.7.0) (0.9.0)\n",
      "Requirement already satisfied: pathy>=0.10.0 in /home/jchazalo/.virtualenvs/hn-ariane-ner-tuto-2023-PwR_0BG5/lib/python3.10/site-packages (from spacy<3.8.0,>=3.7.0->fr-core-news-sm==3.7.0) (0.10.2)\n",
      "Requirement already satisfied: smart-open<7.0.0,>=5.2.1 in /home/jchazalo/.virtualenvs/hn-ariane-ner-tuto-2023-PwR_0BG5/lib/python3.10/site-packages (from spacy<3.8.0,>=3.7.0->fr-core-news-sm==3.7.0) (6.4.0)\n",
      "Requirement already satisfied: tqdm<5.0.0,>=4.38.0 in /home/jchazalo/.virtualenvs/hn-ariane-ner-tuto-2023-PwR_0BG5/lib/python3.10/site-packages (from spacy<3.8.0,>=3.7.0->fr-core-news-sm==3.7.0) (4.66.1)\n",
      "Requirement already satisfied: requests<3.0.0,>=2.13.0 in /home/jchazalo/.virtualenvs/hn-ariane-ner-tuto-2023-PwR_0BG5/lib/python3.10/site-packages (from spacy<3.8.0,>=3.7.0->fr-core-news-sm==3.7.0) (2.31.0)\n",
      "Requirement already satisfied: pydantic!=1.8,!=1.8.1,<3.0.0,>=1.7.4 in /home/jchazalo/.virtualenvs/hn-ariane-ner-tuto-2023-PwR_0BG5/lib/python3.10/site-packages (from spacy<3.8.0,>=3.7.0->fr-core-news-sm==3.7.0) (2.4.2)\n",
      "Requirement already satisfied: jinja2 in /home/jchazalo/.virtualenvs/hn-ariane-ner-tuto-2023-PwR_0BG5/lib/python3.10/site-packages (from spacy<3.8.0,>=3.7.0->fr-core-news-sm==3.7.0) (3.1.2)\n",
      "Requirement already satisfied: setuptools in /home/jchazalo/.virtualenvs/hn-ariane-ner-tuto-2023-PwR_0BG5/lib/python3.10/site-packages (from spacy<3.8.0,>=3.7.0->fr-core-news-sm==3.7.0) (68.2.2)\n",
      "Requirement already satisfied: packaging>=20.0 in /home/jchazalo/.virtualenvs/hn-ariane-ner-tuto-2023-PwR_0BG5/lib/python3.10/site-packages (from spacy<3.8.0,>=3.7.0->fr-core-news-sm==3.7.0) (23.2)\n",
      "Requirement already satisfied: langcodes<4.0.0,>=3.2.0 in /home/jchazalo/.virtualenvs/hn-ariane-ner-tuto-2023-PwR_0BG5/lib/python3.10/site-packages (from spacy<3.8.0,>=3.7.0->fr-core-news-sm==3.7.0) (3.3.0)\n",
      "Requirement already satisfied: numpy>=1.19.0 in /home/jchazalo/.virtualenvs/hn-ariane-ner-tuto-2023-PwR_0BG5/lib/python3.10/site-packages (from spacy<3.8.0,>=3.7.0->fr-core-news-sm==3.7.0) (1.26.0)\n",
      "Requirement already satisfied: annotated-types>=0.4.0 in /home/jchazalo/.virtualenvs/hn-ariane-ner-tuto-2023-PwR_0BG5/lib/python3.10/site-packages (from pydantic!=1.8,!=1.8.1,<3.0.0,>=1.7.4->spacy<3.8.0,>=3.7.0->fr-core-news-sm==3.7.0) (0.6.0)\n",
      "Requirement already satisfied: pydantic-core==2.10.1 in /home/jchazalo/.virtualenvs/hn-ariane-ner-tuto-2023-PwR_0BG5/lib/python3.10/site-packages (from pydantic!=1.8,!=1.8.1,<3.0.0,>=1.7.4->spacy<3.8.0,>=3.7.0->fr-core-news-sm==3.7.0) (2.10.1)\n",
      "Requirement already satisfied: typing-extensions>=4.6.1 in /home/jchazalo/.virtualenvs/hn-ariane-ner-tuto-2023-PwR_0BG5/lib/python3.10/site-packages (from pydantic!=1.8,!=1.8.1,<3.0.0,>=1.7.4->spacy<3.8.0,>=3.7.0->fr-core-news-sm==3.7.0) (4.8.0)\n",
      "Requirement already satisfied: charset-normalizer<4,>=2 in /home/jchazalo/.virtualenvs/hn-ariane-ner-tuto-2023-PwR_0BG5/lib/python3.10/site-packages (from requests<3.0.0,>=2.13.0->spacy<3.8.0,>=3.7.0->fr-core-news-sm==3.7.0) (3.3.0)\n",
      "Requirement already satisfied: idna<4,>=2.5 in /home/jchazalo/.virtualenvs/hn-ariane-ner-tuto-2023-PwR_0BG5/lib/python3.10/site-packages (from requests<3.0.0,>=2.13.0->spacy<3.8.0,>=3.7.0->fr-core-news-sm==3.7.0) (3.4)\n",
      "Requirement already satisfied: urllib3<3,>=1.21.1 in /home/jchazalo/.virtualenvs/hn-ariane-ner-tuto-2023-PwR_0BG5/lib/python3.10/site-packages (from requests<3.0.0,>=2.13.0->spacy<3.8.0,>=3.7.0->fr-core-news-sm==3.7.0) (2.0.6)\n",
      "Requirement already satisfied: certifi>=2017.4.17 in /home/jchazalo/.virtualenvs/hn-ariane-ner-tuto-2023-PwR_0BG5/lib/python3.10/site-packages (from requests<3.0.0,>=2.13.0->spacy<3.8.0,>=3.7.0->fr-core-news-sm==3.7.0) (2023.7.22)\n",
      "Requirement already satisfied: blis<0.8.0,>=0.7.8 in /home/jchazalo/.virtualenvs/hn-ariane-ner-tuto-2023-PwR_0BG5/lib/python3.10/site-packages (from thinc<8.3.0,>=8.1.8->spacy<3.8.0,>=3.7.0->fr-core-news-sm==3.7.0) (0.7.11)\n",
      "Requirement already satisfied: confection<1.0.0,>=0.0.1 in /home/jchazalo/.virtualenvs/hn-ariane-ner-tuto-2023-PwR_0BG5/lib/python3.10/site-packages (from thinc<8.3.0,>=8.1.8->spacy<3.8.0,>=3.7.0->fr-core-news-sm==3.7.0) (0.1.3)\n",
      "Requirement already satisfied: click<9.0.0,>=7.1.1 in /home/jchazalo/.virtualenvs/hn-ariane-ner-tuto-2023-PwR_0BG5/lib/python3.10/site-packages (from typer<0.10.0,>=0.3.0->spacy<3.8.0,>=3.7.0->fr-core-news-sm==3.7.0) (8.1.7)\n",
      "Requirement already satisfied: cloudpathlib<0.16.0,>=0.7.0 in /home/jchazalo/.virtualenvs/hn-ariane-ner-tuto-2023-PwR_0BG5/lib/python3.10/site-packages (from weasel<0.4.0,>=0.1.0->spacy<3.8.0,>=3.7.0->fr-core-news-sm==3.7.0) (0.15.1)\n",
      "Requirement already satisfied: MarkupSafe>=2.0 in /home/jchazalo/.virtualenvs/hn-ariane-ner-tuto-2023-PwR_0BG5/lib/python3.10/site-packages (from jinja2->spacy<3.8.0,>=3.7.0->fr-core-news-sm==3.7.0) (2.1.3)\n",
      "Installing collected packages: fr-core-news-sm\n",
      "Successfully installed fr-core-news-sm-3.7.0\n",
      "\u001b[38;5;2m✔ Download and installation successful\u001b[0m\n",
      "You can now load the package via spacy.load('fr_core_news_sm')\n"
     ]
    }
   ],
   "source": [
    "!python -m spacy download fr_core_news_sm"
   ]
  },
  {
   "cell_type": "code",
   "execution_count": null,
   "metadata": {},
   "outputs": [],
   "source": [
    "nlp = spacy.load(\"fr_core_news_sm\")\n",
    "# Charge un vocabulaire français (utilisé pour la tokenization), et bien d'autres composants !\n",
    "nlp.pipe_names"
   ]
  },
  {
   "cell_type": "code",
   "execution_count": 37,
   "metadata": {},
   "outputs": [
    {
     "name": "stdout",
     "output_type": "stream",
     "text": [
      "        La    DET          det    journée\n",
      "   journée   NOUN        nsubj    déroule\n",
      "        de    ADP         case  formation\n",
      " formation   NOUN         nmod    journée\n",
      "         à    ADP         case       Lyon\n",
      "      Lyon  PROPN         nmod    journée\n",
      "        se   PRON    expl:comp    déroule\n",
      "   déroule   VERB         ROOT    déroule\n",
      "      bien    ADV       advmod    déroule\n",
      "         .  PUNCT        punct    déroule\n"
     ]
    }
   ],
   "source": [
    "# Process a text\n",
    "doc = nlp(\"La journée de formation à Lyon se déroule bien.\")\n",
    "for token in doc:\n",
    "    # print(token.text, token.pos_, token.dep_, token.head.text)\n",
    "    print(f\"{token.text:>10s}\", f\"{token.pos_:>6s}\", f\"{token.dep_:>12s}\", f\"{token.head.text:>10s}\")"
   ]
  },
  {
   "attachments": {},
   "cell_type": "markdown",
   "metadata": {},
   "source": [
    "## Visualisation des résultats avec *displaCy*"
   ]
  },
  {
   "cell_type": "code",
   "execution_count": 38,
   "metadata": {},
   "outputs": [],
   "source": [
    "from spacy import displacy"
   ]
  },
  {
   "cell_type": "code",
   "execution_count": 39,
   "metadata": {},
   "outputs": [
    {
     "data": {
      "text/html": [
       "<span class=\"tex2jax_ignore\"><div class=\"entities\" style=\"line-height: 2.5; direction: ltr\">La journée de formation à \n",
       "<mark class=\"entity\" style=\"background: #ff9561; padding: 0.45em 0.6em; margin: 0 0.25em; line-height: 1; border-radius: 0.35em;\">\n",
       "    Lyon\n",
       "    <span style=\"font-size: 0.8em; font-weight: bold; line-height: 1; border-radius: 0.35em; vertical-align: middle; margin-left: 0.5rem\">LOC</span>\n",
       "</mark>\n",
       " se déroule bien.</div></span>"
      ],
      "text/plain": [
       "<IPython.core.display.HTML object>"
      ]
     },
     "metadata": {},
     "output_type": "display_data"
    }
   ],
   "source": [
    "displacy.render(doc, style=\"ent\", jupyter=True)"
   ]
  },
  {
   "cell_type": "code",
   "execution_count": 42,
   "metadata": {},
   "outputs": [
    {
     "data": {
      "text/html": [
       "<span class=\"tex2jax_ignore\"><div class=\"spans\" style=\"line-height: 2.5; direction: ltr\">La journée de formation à Lyon se déroule bien . </div></span>"
      ],
      "text/plain": [
       "<IPython.core.display.HTML object>"
      ]
     },
     "metadata": {},
     "output_type": "display_data"
    }
   ],
   "source": [
    "displacy.render(doc, style=\"span\", jupyter=True)"
   ]
  },
  {
   "cell_type": "code",
   "execution_count": 43,
   "metadata": {},
   "outputs": [
    {
     "data": {
      "text/html": [
       "<span class=\"tex2jax_ignore\"><svg xmlns=\"http://www.w3.org/2000/svg\" xmlns:xlink=\"http://www.w3.org/1999/xlink\" xml:lang=\"fr\" id=\"7e8685702ac54800838047503236bf93-0\" class=\"displacy\" width=\"1625\" height=\"487.0\" direction=\"ltr\" style=\"max-width: none; height: 487.0px; color: #000000; background: #ffffff; font-family: Arial; direction: ltr\">\n",
       "<text class=\"displacy-token\" fill=\"currentColor\" text-anchor=\"middle\" y=\"397.0\">\n",
       "    <tspan class=\"displacy-word\" fill=\"currentColor\" x=\"50\">La</tspan>\n",
       "    <tspan class=\"displacy-tag\" dy=\"2em\" fill=\"currentColor\" x=\"50\">DET</tspan>\n",
       "</text>\n",
       "\n",
       "<text class=\"displacy-token\" fill=\"currentColor\" text-anchor=\"middle\" y=\"397.0\">\n",
       "    <tspan class=\"displacy-word\" fill=\"currentColor\" x=\"225\">journée</tspan>\n",
       "    <tspan class=\"displacy-tag\" dy=\"2em\" fill=\"currentColor\" x=\"225\">NOUN</tspan>\n",
       "</text>\n",
       "\n",
       "<text class=\"displacy-token\" fill=\"currentColor\" text-anchor=\"middle\" y=\"397.0\">\n",
       "    <tspan class=\"displacy-word\" fill=\"currentColor\" x=\"400\">de</tspan>\n",
       "    <tspan class=\"displacy-tag\" dy=\"2em\" fill=\"currentColor\" x=\"400\">ADP</tspan>\n",
       "</text>\n",
       "\n",
       "<text class=\"displacy-token\" fill=\"currentColor\" text-anchor=\"middle\" y=\"397.0\">\n",
       "    <tspan class=\"displacy-word\" fill=\"currentColor\" x=\"575\">formation</tspan>\n",
       "    <tspan class=\"displacy-tag\" dy=\"2em\" fill=\"currentColor\" x=\"575\">NOUN</tspan>\n",
       "</text>\n",
       "\n",
       "<text class=\"displacy-token\" fill=\"currentColor\" text-anchor=\"middle\" y=\"397.0\">\n",
       "    <tspan class=\"displacy-word\" fill=\"currentColor\" x=\"750\">à</tspan>\n",
       "    <tspan class=\"displacy-tag\" dy=\"2em\" fill=\"currentColor\" x=\"750\">ADP</tspan>\n",
       "</text>\n",
       "\n",
       "<text class=\"displacy-token\" fill=\"currentColor\" text-anchor=\"middle\" y=\"397.0\">\n",
       "    <tspan class=\"displacy-word\" fill=\"currentColor\" x=\"925\">Lyon</tspan>\n",
       "    <tspan class=\"displacy-tag\" dy=\"2em\" fill=\"currentColor\" x=\"925\">PROPN</tspan>\n",
       "</text>\n",
       "\n",
       "<text class=\"displacy-token\" fill=\"currentColor\" text-anchor=\"middle\" y=\"397.0\">\n",
       "    <tspan class=\"displacy-word\" fill=\"currentColor\" x=\"1100\">se</tspan>\n",
       "    <tspan class=\"displacy-tag\" dy=\"2em\" fill=\"currentColor\" x=\"1100\">PRON</tspan>\n",
       "</text>\n",
       "\n",
       "<text class=\"displacy-token\" fill=\"currentColor\" text-anchor=\"middle\" y=\"397.0\">\n",
       "    <tspan class=\"displacy-word\" fill=\"currentColor\" x=\"1275\">déroule</tspan>\n",
       "    <tspan class=\"displacy-tag\" dy=\"2em\" fill=\"currentColor\" x=\"1275\">VERB</tspan>\n",
       "</text>\n",
       "\n",
       "<text class=\"displacy-token\" fill=\"currentColor\" text-anchor=\"middle\" y=\"397.0\">\n",
       "    <tspan class=\"displacy-word\" fill=\"currentColor\" x=\"1450\">bien.</tspan>\n",
       "    <tspan class=\"displacy-tag\" dy=\"2em\" fill=\"currentColor\" x=\"1450\">ADV</tspan>\n",
       "</text>\n",
       "\n",
       "<g class=\"displacy-arrow\">\n",
       "    <path class=\"displacy-arc\" id=\"arrow-7e8685702ac54800838047503236bf93-0-0\" stroke-width=\"2px\" d=\"M70,352.0 C70,264.5 210.0,264.5 210.0,352.0\" fill=\"none\" stroke=\"currentColor\"/>\n",
       "    <text dy=\"1.25em\" style=\"font-size: 0.8em; letter-spacing: 1px\">\n",
       "        <textPath xlink:href=\"#arrow-7e8685702ac54800838047503236bf93-0-0\" class=\"displacy-label\" startOffset=\"50%\" side=\"left\" fill=\"currentColor\" text-anchor=\"middle\">det</textPath>\n",
       "    </text>\n",
       "    <path class=\"displacy-arrowhead\" d=\"M70,354.0 L62,342.0 78,342.0\" fill=\"currentColor\"/>\n",
       "</g>\n",
       "\n",
       "<g class=\"displacy-arrow\">\n",
       "    <path class=\"displacy-arc\" id=\"arrow-7e8685702ac54800838047503236bf93-0-1\" stroke-width=\"2px\" d=\"M245,352.0 C245,2.0 1275.0,2.0 1275.0,352.0\" fill=\"none\" stroke=\"currentColor\"/>\n",
       "    <text dy=\"1.25em\" style=\"font-size: 0.8em; letter-spacing: 1px\">\n",
       "        <textPath xlink:href=\"#arrow-7e8685702ac54800838047503236bf93-0-1\" class=\"displacy-label\" startOffset=\"50%\" side=\"left\" fill=\"currentColor\" text-anchor=\"middle\">nsubj</textPath>\n",
       "    </text>\n",
       "    <path class=\"displacy-arrowhead\" d=\"M245,354.0 L237,342.0 253,342.0\" fill=\"currentColor\"/>\n",
       "</g>\n",
       "\n",
       "<g class=\"displacy-arrow\">\n",
       "    <path class=\"displacy-arc\" id=\"arrow-7e8685702ac54800838047503236bf93-0-2\" stroke-width=\"2px\" d=\"M420,352.0 C420,264.5 560.0,264.5 560.0,352.0\" fill=\"none\" stroke=\"currentColor\"/>\n",
       "    <text dy=\"1.25em\" style=\"font-size: 0.8em; letter-spacing: 1px\">\n",
       "        <textPath xlink:href=\"#arrow-7e8685702ac54800838047503236bf93-0-2\" class=\"displacy-label\" startOffset=\"50%\" side=\"left\" fill=\"currentColor\" text-anchor=\"middle\">case</textPath>\n",
       "    </text>\n",
       "    <path class=\"displacy-arrowhead\" d=\"M420,354.0 L412,342.0 428,342.0\" fill=\"currentColor\"/>\n",
       "</g>\n",
       "\n",
       "<g class=\"displacy-arrow\">\n",
       "    <path class=\"displacy-arc\" id=\"arrow-7e8685702ac54800838047503236bf93-0-3\" stroke-width=\"2px\" d=\"M245,352.0 C245,177.0 565.0,177.0 565.0,352.0\" fill=\"none\" stroke=\"currentColor\"/>\n",
       "    <text dy=\"1.25em\" style=\"font-size: 0.8em; letter-spacing: 1px\">\n",
       "        <textPath xlink:href=\"#arrow-7e8685702ac54800838047503236bf93-0-3\" class=\"displacy-label\" startOffset=\"50%\" side=\"left\" fill=\"currentColor\" text-anchor=\"middle\">nmod</textPath>\n",
       "    </text>\n",
       "    <path class=\"displacy-arrowhead\" d=\"M565.0,354.0 L573.0,342.0 557.0,342.0\" fill=\"currentColor\"/>\n",
       "</g>\n",
       "\n",
       "<g class=\"displacy-arrow\">\n",
       "    <path class=\"displacy-arc\" id=\"arrow-7e8685702ac54800838047503236bf93-0-4\" stroke-width=\"2px\" d=\"M770,352.0 C770,264.5 910.0,264.5 910.0,352.0\" fill=\"none\" stroke=\"currentColor\"/>\n",
       "    <text dy=\"1.25em\" style=\"font-size: 0.8em; letter-spacing: 1px\">\n",
       "        <textPath xlink:href=\"#arrow-7e8685702ac54800838047503236bf93-0-4\" class=\"displacy-label\" startOffset=\"50%\" side=\"left\" fill=\"currentColor\" text-anchor=\"middle\">case</textPath>\n",
       "    </text>\n",
       "    <path class=\"displacy-arrowhead\" d=\"M770,354.0 L762,342.0 778,342.0\" fill=\"currentColor\"/>\n",
       "</g>\n",
       "\n",
       "<g class=\"displacy-arrow\">\n",
       "    <path class=\"displacy-arc\" id=\"arrow-7e8685702ac54800838047503236bf93-0-5\" stroke-width=\"2px\" d=\"M245,352.0 C245,89.5 920.0,89.5 920.0,352.0\" fill=\"none\" stroke=\"currentColor\"/>\n",
       "    <text dy=\"1.25em\" style=\"font-size: 0.8em; letter-spacing: 1px\">\n",
       "        <textPath xlink:href=\"#arrow-7e8685702ac54800838047503236bf93-0-5\" class=\"displacy-label\" startOffset=\"50%\" side=\"left\" fill=\"currentColor\" text-anchor=\"middle\">nmod</textPath>\n",
       "    </text>\n",
       "    <path class=\"displacy-arrowhead\" d=\"M920.0,354.0 L928.0,342.0 912.0,342.0\" fill=\"currentColor\"/>\n",
       "</g>\n",
       "\n",
       "<g class=\"displacy-arrow\">\n",
       "    <path class=\"displacy-arc\" id=\"arrow-7e8685702ac54800838047503236bf93-0-6\" stroke-width=\"2px\" d=\"M1120,352.0 C1120,264.5 1260.0,264.5 1260.0,352.0\" fill=\"none\" stroke=\"currentColor\"/>\n",
       "    <text dy=\"1.25em\" style=\"font-size: 0.8em; letter-spacing: 1px\">\n",
       "        <textPath xlink:href=\"#arrow-7e8685702ac54800838047503236bf93-0-6\" class=\"displacy-label\" startOffset=\"50%\" side=\"left\" fill=\"currentColor\" text-anchor=\"middle\">expl:comp</textPath>\n",
       "    </text>\n",
       "    <path class=\"displacy-arrowhead\" d=\"M1120,354.0 L1112,342.0 1128,342.0\" fill=\"currentColor\"/>\n",
       "</g>\n",
       "\n",
       "<g class=\"displacy-arrow\">\n",
       "    <path class=\"displacy-arc\" id=\"arrow-7e8685702ac54800838047503236bf93-0-7\" stroke-width=\"2px\" d=\"M1295,352.0 C1295,264.5 1435.0,264.5 1435.0,352.0\" fill=\"none\" stroke=\"currentColor\"/>\n",
       "    <text dy=\"1.25em\" style=\"font-size: 0.8em; letter-spacing: 1px\">\n",
       "        <textPath xlink:href=\"#arrow-7e8685702ac54800838047503236bf93-0-7\" class=\"displacy-label\" startOffset=\"50%\" side=\"left\" fill=\"currentColor\" text-anchor=\"middle\">advmod</textPath>\n",
       "    </text>\n",
       "    <path class=\"displacy-arrowhead\" d=\"M1435.0,354.0 L1443.0,342.0 1427.0,342.0\" fill=\"currentColor\"/>\n",
       "</g>\n",
       "</svg></span>"
      ],
      "text/plain": [
       "<IPython.core.display.HTML object>"
      ]
     },
     "metadata": {},
     "output_type": "display_data"
    }
   ],
   "source": [
    "displacy.render(doc, style=\"dep\", jupyter=True)"
   ]
  },
  {
   "attachments": {},
   "cell_type": "markdown",
   "metadata": {},
   "source": [
    "## Utilisation de la nouvelle chaîne de traitement pour traiter nos données"
   ]
  },
  {
   "cell_type": "code",
   "execution_count": 21,
   "metadata": {},
   "outputs": [],
   "source": [
    "def load_text(filename: str) -> str:\n",
    "    with open(filename, encoding=\"utf8\") as in_file:\n",
    "        return \"\".join(in_file.readlines())"
   ]
  },
  {
   "cell_type": "code",
   "execution_count": 22,
   "metadata": {},
   "outputs": [
    {
     "name": "stdout",
     "output_type": "stream",
     "text": [
      "I\n",
      "Dans un de ces charmants chemins creux de Normandie, serpentant entre les levées, plantées de grands arbres, qui entourent les fermes d'un rempart de verdure impénétrable au vent et au soleil, par une belle matinée d'été, une amazone, montée sur une jument de forme assez médiocre, s'avançait au pas, les rênes abandonnées, rêveuse, respirant l'air tiède, embaumé du parfum des trèfles en fleurs. Avec son chapeau de feutre noir entouré d'un voile de gaze blanche, son costume de drap gris fer à longue jupe, elle avait fière tournure. On eût dit une de ces aventureuses grandes dames qui, au temps de Stofflet et de Cathelineau, suivaient hardiment l'armée royaliste, dans les traînes du Bocage, et éclairaient de leur sourire la sombre épopée vendéenne.\n",
      "Élégante et svelte, elle se laissait aller gracieusement au mouvement de sa monture, fouettant distraitement de sa cravache les tiges vertes des genêts. Un lévrier d'Écosse au poil rude et rougeâtre l'accompagnait, réglant son allure souple sur la marche lassée du cheval, et levant, de temps en temps, vers sa maîtresse, sa tête pointue, éclairée par deux yeux noirs qui brillaient sous des sourcils en broussailles. L'herbe courte et grasse, qui poussait sous la voûte sombre des hêtres, étendait devant la promeneuse un tapis moelleux comme du velours. Dans les herbages, les vaches appesanties tendaient vers la fraîcheur du chemin leurs mufles tourmentés par les mouches. Pas un souffle de vent n'agitait les feuilles. Sous les feux du soleil l'air vibrait embrasé, et une torpeur lourde pesait sur la terre.\n",
      "La tête penchée sur la poitrine, absorbée, l'amazone allait, indifférente au charme de ce chemin plein d'ombre et de silence.\n",
      "Soudainement, son cheval fit un écart, pointa les oreilles, et faillit se renverser, soufflant bruyamment, tandis que le lévrier, s'élançant en avant, aboyait avec fureur, et montrait à un homme qui venait de sauter dans le chemin creux une double rangée de dents aiguës et grinçantes.\n",
      "L'amazone, tirée brutalement de sa méditation, rassembla les rênes, ramena son cheval et, s'assurant sur sa selle, adressa à l'auteur de tout ce trouble un regard plus étonné que mécontent.\n",
      "— Je vous demande bien pardon, Madame, dit celui-ci d'une voix pleine et sonore... Je me suis très maladroitement élancé en travers de votre route... Je ne vous entendais pas arriver... Il y a plus d'une heure que je tourne dans ces herbages sans pouvoir en sortir... Toutes les barrières des cours sont cadenassées, et les haies sont trop hautes pour qu'on puisse les franchir... Enfin j'ai trouvé ce petit chemin caché sous les arbres, et, en y prenant pied, j'ai failli vous faire jeter à terre...\n",
      "L'amazone sourit un peu, et son visage aux traits nobles et délicats prit une expression enjouée et charmante :\n",
      "— Rassurez-vous, Monsieur : vous n'êtes pas très coupable, et je ne tombe pas de cheval si facilement que vous paraissez le croire...\n",
      "Et comme son lévrier continuait à gronder en menaçant:\n",
      "— Allons, Fox, la paix ! dit-elle.\n",
      "Le chien se retourna et, se mâtant sur ses pattes de derrière, posa son museau fin sur la main de sa maîtresse. Celle-ci, tout en caressant le lévrier, examinait son interlocuteur. C'était un homme d'une trentaine d'années, de haute taille, au visage énergique, encadré d'une épaisse barbe brune. Sa lèvre rasée et son teint basané lui donnaient l'air d'un marin. Il était vêtu d'un costume complet de drap chiné, coiffé d'un chapeau de feutre mou, et à la main il tenait une canne en bois de fer, mieux faite pour la bataille que pour la promenade.\n",
      "— Vous n'êtes pas de ce pays ? demanda alors l'amazone.\n",
      "— Je suis ici seulement depuis hier, dit l'étranger, sans répondre à la question qui lui était posée... J'ai eu la fantaisie d'aller me promener ce matin dans la campagne, et je me suis égaré... J'ai pourtant l'habitude de m'orienter... Mais ces diables de petits chemins qui n'aboutissent à rien forment un labyrinthe inextricable...\n",
      "— Où désirez-vous aller ?\n",
      "— À La Neuville...\n",
      "— Très bien ! Vous lui tournez le dos... Si vous voulez me suivre pendant quelques instants, je vous mettrai dans une route où vous ne risquerez plus de vous perdre...\n",
      "— Bien volontiers, Madame... Mais j'espère que vous ne vous éloignerez pas de la direction que vous suiviez...\n",
      "L'amazone secoua gravement la tête, et dit:\n",
      "— Cela ne me détourne point d'un seul pas... L'étranger fit un signe d'acquiescement, et, séparé de la jeune femme par le lévrier, qui ne revenait pas de son antipathie et trottait en grondant sourdement, il suivit la fraîche et verte percée, ne parlant pas, mais admirant la beauté rayonnante de son guide. Par moments, des branches basses, pendant des troncs d'arbres, barraient le chemin, et l'amazone était obligée de courber la tête pour les éviter. Dans ce mouvement, sous son feutre, apparaissait sa nuque blanche sur laquelle frisaient des mèches folles, et son pur profil se détachait sur le fond sombre de la verdure. Elle se penchait souple et se redressait avec une grâce élégante et simple, ne paraissant pas se douter qu'elle était admirée, et, soit par fierté, soit par insouciance, ne tenant aucun compte du compagnon que le hasard lui avait donné. Au repos, son visage exprimait une gravité mélancolique, comme si elle vivait sous l'empire d'une habituelle tristesse. Quels chagrins pouvait avoir cette jeune et belle personne créée pour être servie, choyée et adorée ? La destinée injuste lui avait-elle donné le malheur, à elle faite pour la joie ? Elle semblait riche. Sa peine devait donc être toute morale. Arrivé à ce point de ses inductions, l'étranger se demanda si sa compagne était une jeune femme ou une jeune fille. Sa haute taille, ses épaules rondes, dont l'harmonieuse ampleur était accentuée par la finesse de sa ceinture, étaient d'une femme. Mais la suavité veloutée de ses joues, la fraîche pureté de ses yeux trahissaient la jeune fille. Le lobe rosé de ses oreilles n'était point percé, et ni au cou ni aux poignets elle ne portait de bijou.\n"
     ]
    }
   ],
   "source": [
    "text = load_text(files[50])\n",
    "print(text)\n",
    "doc = nlp(text)"
   ]
  },
  {
   "cell_type": "code",
   "execution_count": 23,
   "metadata": {},
   "outputs": [
    {
     "name": "stdout",
     "output_type": "stream",
     "text": [
      "I LOC\n",
      "Normandie LOC\n",
      "Stofflet PER\n",
      "Cathelineau LOC\n",
      "Bocage LOC\n",
      "Élégante ORG\n",
      "Écosse LOC\n",
      "amazone LOC\n",
      "Madame PER\n",
      "Rassurez PER\n",
      "Monsieur PER\n",
      "Allons PER\n",
      "Fox ORG\n",
      "Où MISC\n",
      "La Neuville LOC\n",
      "Madame PER\n"
     ]
    }
   ],
   "source": [
    "# Itère sur les entités prédites\n",
    "for ent in doc.ents:\n",
    "    # Affiche le texte de l'entité et son label\n",
    "    print(ent.text, ent.label_)"
   ]
  },
  {
   "cell_type": "code",
   "execution_count": 24,
   "metadata": {},
   "outputs": [
    {
     "data": {
      "text/plain": [
       "'Countries, cities, states'"
      ]
     },
     "execution_count": 24,
     "metadata": {},
     "output_type": "execute_result"
    }
   ],
   "source": [
    "spacy.explain(\"GPE\")"
   ]
  },
  {
   "cell_type": "code",
   "execution_count": 25,
   "metadata": {},
   "outputs": [
    {
     "data": {
      "text/plain": [
       "'Non-GPE locations, mountain ranges, bodies of water'"
      ]
     },
     "execution_count": 25,
     "metadata": {},
     "output_type": "execute_result"
    }
   ],
   "source": [
    "spacy.explain(\"LOC\")"
   ]
  },
  {
   "attachments": {},
   "cell_type": "markdown",
   "metadata": {},
   "source": [
    "## (❓ opt ❓) Utilisation du matcher Spacy\n",
    "TODO montrer comment filtrer sur lexème, nature ou fonction du token."
   ]
  },
  {
   "cell_type": "code",
   "execution_count": 26,
   "metadata": {},
   "outputs": [],
   "source": [
    "pattern = [{\"POS\": \"PROPN\"}]"
   ]
  },
  {
   "cell_type": "code",
   "execution_count": 27,
   "metadata": {},
   "outputs": [
    {
     "data": {
      "text/plain": [
       "'proper noun'"
      ]
     },
     "execution_count": 27,
     "metadata": {},
     "output_type": "execute_result"
    }
   ],
   "source": [
    "spacy.explain(\"PROPN\")"
   ]
  },
  {
   "cell_type": "code",
   "execution_count": 28,
   "metadata": {},
   "outputs": [],
   "source": [
    "from spacy.matcher import Matcher\n",
    "matcher = Matcher(nlp.vocab)\n",
    "matcher.add(\"NOMS_PROPRES\", [pattern])\n",
    "matches = matcher(doc)"
   ]
  },
  {
   "cell_type": "code",
   "execution_count": 29,
   "metadata": {},
   "outputs": [
    {
     "name": "stdout",
     "output_type": "stream",
     "text": [
      "Nombre de correspondances trouvées : 10\n",
      "Correspondance trouvée : Normandie\n",
      "Correspondance trouvée : Stofflet\n",
      "Correspondance trouvée : Cathelineau\n",
      "Correspondance trouvée : Écosse\n",
      "Correspondance trouvée : Rassurez\n",
      "Correspondance trouvée : Allons\n",
      "Correspondance trouvée : Fox\n",
      "Correspondance trouvée : Neuville\n",
      "Correspondance trouvée : volontiers\n",
      "Correspondance trouvée : hasard\n"
     ]
    }
   ],
   "source": [
    "print(\"Nombre de correspondances trouvées :\", len(matches))\n",
    "\n",
    "# Itère sur les correspondances et affiche la portion de texte\n",
    "for match_id, start, end in matches:\n",
    "    print(\"Correspondance trouvée :\", doc[start:end].text)"
   ]
  },
  {
   "cell_type": "markdown",
   "metadata": {},
   "source": []
  },
  {
   "cell_type": "code",
   "execution_count": null,
   "metadata": {},
   "outputs": [],
   "source": []
  },
  {
   "attachments": {},
   "cell_type": "markdown",
   "metadata": {},
   "source": [
    "## Traitement massif des données\n",
    "\n",
    "TODO documentation de l'utilisation de `nlp.pipe` plutôt à ce moment-là ?"
   ]
  },
  {
   "cell_type": "markdown",
   "metadata": {},
   "source": [
    "Lorsqu'on souhaite traiter plusieurs documents, on peut utiliser `nlp.pipe(LISTE_DE_TEXTES)`.\n",
    "Dans ce cas, on obtient une liste de documents en sortie, qu'il est possible d'inspecter avec une seconde boucle !"
   ]
  },
  {
   "cell_type": "code",
   "execution_count": 31,
   "metadata": {},
   "outputs": [
    {
     "name": "stdout",
     "output_type": "stream",
     "text": [
      "doc#0, tok#0: Bonjour\n",
      "doc#0, tok#1: tout\n",
      "doc#0, tok#2: le\n",
      "doc#0, tok#3: monde\n",
      "doc#0, tok#4: !\n",
      "doc#1, tok#0: Comment\n",
      "doc#1, tok#1: allez\n",
      "doc#1, tok#2: -vous\n",
      "doc#1, tok#3: ?\n",
      "doc#1, tok#4: Bien\n",
      "doc#1, tok#5: ,\n",
      "doc#1, tok#6: j'\n",
      "doc#1, tok#7: espère\n",
      "doc#1, tok#8: !\n",
      "doc#2, tok#0: Savez\n",
      "doc#2, tok#1: -vous\n",
      "doc#2, tok#2: qu'\n",
      "doc#2, tok#3: une\n",
      "doc#2, tok#4: chaîne\n",
      "doc#2, tok#5: de\n",
      "doc#2, tok#6: caractères\n",
      "doc#2, tok#7: peut\n",
      "doc#2, tok#8: contenir\n",
      "doc#2, tok#9: des\n",
      "doc#2, tok#10: retours\n",
      "doc#2, tok#11: à\n",
      "doc#2, tok#12: la\n",
      "doc#2, tok#13: ligne\n",
      "doc#2, tok#14: \n",
      "\n",
      "doc#2, tok#15: comme\n",
      "doc#2, tok#16: celui-ci\n",
      "doc#2, tok#17: ?\n"
     ]
    }
   ],
   "source": [
    "TEXTES = [\n",
    "    \"Bonjour tout le monde !\", \n",
    "    \"Comment allez-vous ? Bien, j'espère !\",\n",
    "    \"Savez-vous qu'une chaîne de caractères peut contenir des retours à la ligne\\ncomme celui-ci ?\"\n",
    "    ]\n",
    "documents = nlp.pipe(TEXTES)\n",
    "for doc_id, doc in enumerate(documents):\n",
    "    for token in doc:\n",
    "        print(f\"doc#{doc_id}, tok#{token.i}: {token.text}\")"
   ]
  },
  {
   "cell_type": "code",
   "execution_count": 32,
   "metadata": {},
   "outputs": [
    {
     "name": "stdout",
     "output_type": "stream",
     "text": [
      "CPU times: user 4 µs, sys: 0 ns, total: 4 µs\n",
      "Wall time: 7.15 µs\n",
      "Got 1655 entites about persons, and 1562 entities about spatial objects.\n"
     ]
    }
   ],
   "source": [
    "%%time\n",
    "# FIXME use the dataset file here\n",
    "documents = nlp.pipe([load_text(path) for path in files])\n",
    "per_tokens = []\n",
    "spat_tokens = []\n",
    "for doc in documents:\n",
    "    for ent in doc.ents:\n",
    "        if ent.label_ in (\"PER\"):\n",
    "            per_tokens.append(ent)\n",
    "        elif ent.label_ in (\"LOC\", \"GPE\"):\n",
    "            spat_tokens.append(ent)\n",
    "print(f\"Got {len(per_tokens)} entites about persons, and {len(spat_tokens)} entities about spatial objects.\")"
   ]
  },
  {
   "cell_type": "code",
   "execution_count": 34,
   "metadata": {},
   "outputs": [
    {
     "data": {
      "text/plain": [
       "[I,\n",
       " Norine Duclos,\n",
       " Adonc,\n",
       " Rose,\n",
       " Norine,\n",
       " Saint-Brunelle,\n",
       " Armandine,\n",
       " Rose,\n",
       " réserve de la Rose,\n",
       " Norine,\n",
       " couseuses,\n",
       " couseuses,\n",
       " Garde-les,\n",
       " Tiens,\n",
       " Norine,\n",
       " Bassette,\n",
       " bras-le-corps,\n",
       " Sorgues,\n",
       " Vaucluse,\n",
       " Château de Saint-Estève,\n",
       " Durance,\n",
       " notre Provence,\n",
       " Oasis,\n",
       " Saint-Estève,\n",
       " Durance,\n",
       " Notre voisine,\n",
       " Paris,\n",
       " Prologue,\n",
       " l'Amérique,\n",
       " l'Amérique,\n",
       " Amérique,\n",
       " Espagnols,\n",
       " les Incas,\n",
       " l'Europe,\n",
       " l'Amérique,\n",
       " États,\n",
       " État de Sonora,\n",
       " rio Gila,\n",
       " État,\n",
       " sierra Madre,\n",
       " golfe de Californie,\n",
       " sierra Madre,\n",
       " Durango,\n",
       " États de Durango,\n",
       " Guadalajara,\n",
       " Pacifique,\n",
       " Sonora,\n",
       " rio Gila,\n",
       " sierra Madre,\n",
       " Indiens,\n",
       " Comanches,\n",
       " Pawnees,\n",
       " Pimas,\n",
       " Opatas,\n",
       " Apaches,\n",
       " Sonora,\n",
       " Guaymas,\n",
       " Hermosillo,\n",
       " Pacifique,\n",
       " Montagne,\n",
       " Hermosillo,\n",
       " Gambusinos,\n",
       " Rosario,\n",
       " rue du Rosaire,\n",
       " Mexique,\n",
       " I,\n",
       " l'Amérique,\n",
       " la France,\n",
       " Canada,\n",
       " Nouvelle-France,\n",
       " Anglais,\n",
       " Angleterre,\n",
       " Mississipiens,\n",
       " la France,\n",
       " Canada,\n",
       " Européens,\n",
       " Indiens,\n",
       " Nouvelle-France,\n",
       " baie d'Hudson,\n",
       " golfe du Mexique,\n",
       " Nouvelle-Orléans,\n",
       " la France,\n",
       " Canada,\n",
       " Ville de Paris\n",
       " Aux Électeurs du IXe arrondissement,\n",
       " hôtel Saint-Pétersbourg,\n",
       " rue Royale,\n",
       " Silver-Grill,\n",
       " Astorg,\n",
       " avenue d'Eylau,\n",
       " Bureaucratie,\n",
       " Europe,\n",
       " Cap,\n",
       " Québec,\n",
       " Cap,\n",
       " Observatoire,\n",
       " Labrador,\n",
       " Cap,\n",
       " de Besançon,\n",
       " Watteville,\n",
       " de Besançon,\n",
       " Comté,\n",
       " Rupt,\n",
       " Watteville,\n",
       " Watteville,\n",
       " Suisse,\n",
       " Rupt,\n",
       " Préfecture,\n",
       " Rupt,\n",
       " rue du Perron,\n",
       " de Besançon,\n",
       " Italie,\n",
       " Watteville,\n",
       " Rupt,\n",
       " de Besançon,\n",
       " hôtel de Rupt,\n",
       " damas,\n",
       " de Saxe,\n",
       " Paris,\n",
       " Besançon,\n",
       " Watteville,\n",
       " Besançon,\n",
       " Rupt,\n",
       " Paris,\n",
       " Conseillers,\n",
       " Chapitre,\n",
       " Droit,\n",
       " Politique,\n",
       " Bisontins,\n",
       " Chapitre,\n",
       " cathédrale de Besançon,\n",
       " Paris,\n",
       " rue du Perron,\n",
       " Comté,\n",
       " Italiens,\n",
       " Paris,\n",
       " Paris,\n",
       " Parisien,\n",
       " Paris,\n",
       " l'Empire,\n",
       " Anglais,\n",
       " France,\n",
       " l'Empire,\n",
       " L'Empire,\n",
       " Chinois,\n",
       " Français,\n",
       " châle,\n",
       " Garat,\n",
       " Beau,\n",
       " Incroyables,\n",
       " Paris,\n",
       " Français,\n",
       " Paris,\n",
       " Institut,\n",
       " Combien,\n",
       " l'Empire,\n",
       " France,\n",
       " Beaux-Arts,\n",
       " Égyptiens,\n",
       " la France,\n",
       " Decamps,\n",
       " État,\n",
       " Rome,\n",
       " Pensée,\n",
       " Bric-à-Brac,\n",
       " Euterpe,\n",
       " Paris,\n",
       " Rome,\n",
       " Italie,\n",
       " Rome,\n",
       " Venise,\n",
       " Milan,\n",
       " Florence,\n",
       " Bologne,\n",
       " Naples,\n",
       " France,\n",
       " Paris,\n",
       " Tériaskis,\n",
       " Paris,\n",
       " Contrepoint,\n",
       " Rossini,\n",
       " Rome,\n",
       " Paris,\n",
       " Rome,\n",
       " Paris,\n",
       " Sèvres,\n",
       " Auvergnats,\n",
       " Bande-Noire,\n",
       " la France-Pompadour,\n",
       " Lepautre,\n",
       " Lavallée-Poussin,\n",
       " Bricabraquologie,\n",
       " musée Pons,\n",
       " Main,\n",
       " rue des Jeûneurs,\n",
       " Bric-à-Brac,\n",
       " l'Empire,\n",
       " la France,\n",
       " Éliante,\n",
       " l'Empire,\n",
       " Paris,\n",
       " La Table,\n",
       " Paris,\n",
       " Recette,\n",
       " Habitué,\n",
       " Paris,\n",
       " Timidité,\n",
       " Porto,\n",
       " Vénus,\n",
       " Italie,\n",
       " Bric-à-Brac,\n",
       " Bas-Limoges,\n",
       " Vieille-Poste,\n",
       " rue de la Cité,\n",
       " Bâtis,\n",
       " rue de la Cité,\n",
       " Vieille-Poste,\n",
       " Limousins,\n",
       " Sauviat,\n",
       " Auvergne,\n",
       " Paris,\n",
       " Bande Noire,\n",
       " Sauviat,\n",
       " Limoges,\n",
       " Limoges,\n",
       " Sauviat,\n",
       " vieux Champagnac,\n",
       " Auvergne,\n",
       " Sauviat,\n",
       " Champagnac,\n",
       " Harpagon,\n",
       " Sauviat,\n",
       " Sauviat,\n",
       " Sauviat,\n",
       " Sauviat,\n",
       " Vieille-Poste,\n",
       " rue de la Cité,\n",
       " Sauviat,\n",
       " Sauviat,\n",
       " Paris,\n",
       " Paris,\n",
       " Paris,\n",
       " Bande Noire,\n",
       " Sauviat,\n",
       " Sauviat,\n",
       " Sauviat,\n",
       " Sauviat,\n",
       " Sauviat,\n",
       " Sauviat,\n",
       " Sauviat,\n",
       " Sauviat,\n",
       " Sauviat,\n",
       " Sauviat,\n",
       " Saint-Étienne,\n",
       " Sauviat,\n",
       " Vierge,\n",
       " Sauviat,\n",
       " Sauviat,\n",
       " Sauviat,\n",
       " Sauviat,\n",
       " Sauviat,\n",
       " Sauviat,\n",
       " Sauviat,\n",
       " Sauviat,\n",
       " Vienne,\n",
       " Saint-Étienne,\n",
       " Sauviat,\n",
       " Sauviat,\n",
       " Sauviat,\n",
       " Paris,\n",
       " rue de la Cité,\n",
       " Sauviat,\n",
       " damas rouge,\n",
       " Mieris,\n",
       " Terburg,\n",
       " Sauviat,\n",
       " Auvergne,\n",
       " Virginie,\n",
       " Ne ferais-tu pas bien de le montrer,\n",
       " Saint-Étienne,\n",
       " Génie,\n",
       " Virginie,\n",
       " Idéal,\n",
       " Vienne,\n",
       " Limoges,\n",
       " Ile-de-France,\n",
       " Vienne,\n",
       " Paris,\n",
       " Sauviat,\n",
       " Sauviat,\n",
       " Sauviat,\n",
       " Paris,\n",
       " Véronique,\n",
       " Sauviat,\n",
       " Véronique,\n",
       " Sauviat,\n",
       " Limoges,\n",
       " Sauviat,\n",
       " Auvergne,\n",
       " Département,\n",
       " place des Arbres,\n",
       " Limoges,\n",
       " rue Montantmanigne,\n",
       " Sauviat,\n",
       " Receveur-général,\n",
       " Préfecture,\n",
       " Conseil-général du Département,\n",
       " Limoges,\n",
       " Limoges,\n",
       " Limousin,\n",
       " Sauviat,\n",
       " Limoges,\n",
       " Sauviat,\n",
       " Auvergne,\n",
       " Bourges,\n",
       " — Est,\n",
       " Paris,\n",
       " Sauviat,\n",
       " Paris,\n",
       " Limousin,\n",
       " Limoges,\n",
       " Sauviat,\n",
       " Paris,\n",
       " Limoges,\n",
       " hôtel Graslin,\n",
       " Paris,\n",
       " Limousin,\n",
       " Limoges,\n",
       " Sauviat,\n",
       " Sauviat,\n",
       " Paris,\n",
       " boulevard Saint-Germain,\n",
       " rue du Cardinal-Lemoine,\n",
       " Halle,\n",
       " place Pigalle,\n",
       " Jardin des Plantes,\n",
       " quai Saint-Bernard,\n",
       " Paris,\n",
       " boulevard Montmartre,\n",
       " Dinan,\n",
       " Panoramas,\n",
       " rue d'Enghien,\n",
       " département du Cher,\n",
       " Cher,\n",
       " I,\n",
       " rue Saint-Honoré,\n",
       " Saint-Gabriel,\n",
       " Lameth,\n",
       " Paris,\n",
       " Bussy,\n",
       " Que veux-tu dire,\n",
       " Sissone,\n",
       " Bussy-Lameth,\n",
       " comtesse de Lameth,\n",
       " Paris,\n",
       " Picardie,\n",
       " Roucy,\n",
       " I,\n",
       " Languedoc,\n",
       " Midi,\n",
       " Eyssette,\n",
       " Annou,\n",
       " Marseille,\n",
       " Marseille,\n",
       " Marseille,\n",
       " Annou,\n",
       " Eyssette,\n",
       " Annou,\n",
       " Eyssette,\n",
       " Eyssette,\n",
       " Annou,\n",
       " Annou,\n",
       " Océan,\n",
       " Toutoune,\n",
       " Toutoune,\n",
       " Paris,\n",
       " Serquigny,\n",
       " I,\n",
       " Lazare,\n",
       " Paris,\n",
       " Moët,\n",
       " sablé,\n",
       " Moselle,\n",
       " Tockay,\n",
       " Nouvelle-Orléans,\n",
       " Décidément,\n",
       " I,\n",
       " nacre,\n",
       " Seille,\n",
       " Sapho,\n",
       " Sapho,\n",
       " Français,\n",
       " Espagnols,\n",
       " Paris,\n",
       " Florence,\n",
       " Turin,\n",
       " d'Espagne,\n",
       " Castillane,\n",
       " Italien,\n",
       " cathédrale de Plaisance,\n",
       " État,\n",
       " Suède,\n",
       " l'Italie,\n",
       " Allemagne,\n",
       " Turquie,\n",
       " Russie,\n",
       " la France,\n",
       " Angleterre,\n",
       " France,\n",
       " Angleterre,\n",
       " l'Europe,\n",
       " Angleterre,\n",
       " France,\n",
       " la France,\n",
       " province de Bretagne,\n",
       " Angleterre,\n",
       " Écosse,\n",
       " Irlande,\n",
       " Ursins,\n",
       " Madrid,\n",
       " Ardennes,\n",
       " la Meuse,\n",
       " Hollande,\n",
       " Loire,\n",
       " Rhône,\n",
       " Seine,\n",
       " la France,\n",
       " France,\n",
       " comté de Champagne,\n",
       " forêt des Ardennes,\n",
       " Francheval,\n",
       " Château-,\n",
       " la Roche,\n",
       " Sedan,\n",
       " Meuse,\n",
       " Sedan,\n",
       " Sedan,\n",
       " Sedan,\n",
       " forêt des Ardennes,\n",
       " Luxembourg,\n",
       " comté de Chiny,\n",
       " Orval,\n",
       " Orval,\n",
       " Sedan,\n",
       " Raison,\n",
       " Être suprême,\n",
       " Mlle,\n",
       " Telle,\n",
       " Sedan,\n",
       " XVe,\n",
       " Mlle,\n",
       " Mesnard,\n",
       " Mesnarde,\n",
       " abbaye d'Orval,\n",
       " Douzy,\n",
       " Bazeille,\n",
       " I,\n",
       " Paris,\n",
       " Brest,\n",
       " pauvre Bretagne,\n",
       " Perche,\n",
       " Beauce,\n",
       " Orne,\n",
       " Basse-Normandie,\n",
       " Vitré,\n",
       " la Vilaine,\n",
       " Rennes,\n",
       " forêt de Rennes,\n",
       " Châteaubriant,\n",
       " Laval,\n",
       " taillis,\n",
       " forêt de Rennes,\n",
       " tonneliers,\n",
       " Bretagne,\n",
       " États,\n",
       " Rennes,\n",
       " la Bretagne,\n",
       " France,\n",
       " États de forfaiture,\n",
       " Bretagne,\n",
       " Pontcallec,\n",
       " Bouffay de Nantes,\n",
       " Ville-de-Montereau,\n",
       " quai Saint-Bernard,\n",
       " île Saint-Louis,\n",
       " Cité,\n",
       " Notre-Dame,\n",
       " Paris,\n",
       " Nogent-sur-Seine,\n",
       " au Havre,\n",
       " de la Seine,\n",
       " de Russie,\n",
       " boulevard Montmartre,\n",
       " I,\n",
       " Étude,\n",
       " Resté,\n",
       " Levez,\n",
       " Levez,\n",
       " Festin,\n",
       " Mégara,\n",
       " Carthage,\n",
       " Sicile,\n",
       " Ligures,\n",
       " Lusitaniens,\n",
       " Baléares,\n",
       " Nègres,\n",
       " Rome,\n",
       " Cariens,\n",
       " Cappadoce,\n",
       " Lydiens,\n",
       " vermillon,\n",
       " Tamrapanni,\n",
       " Gaulois,\n",
       " Nègres,\n",
       " Brutium,\n",
       " Campanie,\n",
       " Carthage,\n",
       " Rome,\n",
       " Carthage,\n",
       " Carthage,\n",
       " Lusitanien,\n",
       " Lacédémoniens,\n",
       " I,\n",
       " Marraine,\n",
       " I,\n",
       " Louis-le-Grand,\n",
       " Chine,\n",
       " Souviens-toi,\n",
       " Continuerai,\n",
       " Julie,\n",
       " Paris,\n",
       " Enghien,\n",
       " Enghien,\n",
       " Enghien,\n",
       " Enghien,\n",
       " I,\n",
       " Êtes,\n",
       " Paris,\n",
       " Paris,\n",
       " place Vendôme,\n",
       " Allez,\n",
       " rue Castiglione,\n",
       " Vienne,\n",
       " Paris,\n",
       " Exquis,\n",
       " Barnabites,\n",
       " Palais,\n",
       " Épître,\n",
       " Thionville,\n",
       " citoyen Dupont aîné,\n",
       " Dupont,\n",
       " Évangile,\n",
       " Salut,\n",
       " Opticien,\n",
       " Orfèvres,\n",
       " Mayence,\n",
       " Valenciennes,\n",
       " Fontenay,\n",
       " Vendéens,\n",
       " Lyon,\n",
       " Cévennes,\n",
       " Espagnols,\n",
       " Paris,\n",
       " I,\n",
       " Osaka,\n",
       " Palais,\n",
       " Arrivés,\n",
       " lune,\n",
       " conduis-tu,\n",
       " Ivakoura,\n",
       " I,\n",
       " Nil,\n",
       " Oph,\n",
       " ville royale des Pharaons,\n",
       " Nil,\n",
       " Splendide,\n",
       " Arabie !,\n",
       " Ra,\n",
       " Nun,\n",
       " Nun !,\n",
       " I,\n",
       " Paris,\n",
       " Kama-Koura,\n",
       " trouverez,\n",
       " Yosi-Wara,\n",
       " Champ des Roseaux !,\n",
       " Yosi-Wara,\n",
       " Japon,\n",
       " Yédo,\n",
       " Décidément,\n",
       " Celles,\n",
       " I,\n",
       " Espagne,\n",
       " rue San-Bernardo,\n",
       " Madrid,\n",
       " Andrès,\n",
       " Salcedo,\n",
       " Don,\n",
       " Salcedo,\n",
       " los Rios,\n",
       " los Rios,\n",
       " Pourvu,\n",
       " alguazil,\n",
       " Telle,\n",
       " Andrès,\n",
       " Manille,\n",
       " Andrès,\n",
       " Paris,\n",
       " Souvenirs,\n",
       " Regrets,\n",
       " Petits Braconniers,\n",
       " Paris,\n",
       " I,\n",
       " France,\n",
       " Boulogne,\n",
       " Irlande,\n",
       " Ellénore,\n",
       " Londres,\n",
       " Boulogne,\n",
       " Paris,\n",
       " Irlande,\n",
       " Ellénore,\n",
       " de France,\n",
       " Paris,\n",
       " Ellénore,\n",
       " Ellénore,\n",
       " Ellénore,\n",
       " Versailles,\n",
       " France,\n",
       " Croixville,\n",
       " d'Italie,\n",
       " Fontainebleau,\n",
       " Seine,\n",
       " Amérique,\n",
       " Paris,\n",
       " Préfecture,\n",
       " Prestes,\n",
       " Horizons,\n",
       " Faulhan,\n",
       " Horizons,\n",
       " soleil,\n",
       " champagne,\n",
       " France,\n",
       " Paris,\n",
       " la France,\n",
       " Paris,\n",
       " la France,\n",
       " A,\n",
       " Villeberthier,\n",
       " Quelquefois,\n",
       " I,\n",
       " Lycée,\n",
       " Lorraine,\n",
       " Paris,\n",
       " Paris,\n",
       " Sais-tu,\n",
       " Mesdemoiselles,\n",
       " maman,\n",
       " Amérique,\n",
       " Strasbourg,\n",
       " Amérique,\n",
       " I,\n",
       " cathédrale de,\n",
       " Clermont-Ferrand,\n",
       " rue de la Treille,\n",
       " Elvire,\n",
       " Janique,\n",
       " Aline,\n",
       " Auvergne,\n",
       " Paris,\n",
       " rue Saint-Jacques,\n",
       " Auvergne,\n",
       " I,\n",
       " de France,\n",
       " Oui,\n",
       " Jaffé,\n",
       " Paris,\n",
       " Bourgogne,\n",
       " Saint-Martin-les-Mines,\n",
       " Paris,\n",
       " Batignolles,\n",
       " île Saint-Louis,\n",
       " Paris,\n",
       " Bengale,\n",
       " I,\n",
       " Soudain,\n",
       " Venez,\n",
       " Ranine,\n",
       " de Russie,\n",
       " Retournez,\n",
       " I,\n",
       " Louisiane,\n",
       " République des États-Unis,\n",
       " Saint-Elme,\n",
       " Nouvelle-Orléans,\n",
       " Saint-Elme,\n",
       " sonnette,\n",
       " grand Condé,\n",
       " Krupp,\n",
       " Lebaudy,\n",
       " Saint-Elme,\n",
       " jardin des Hespérides,\n",
       " Saint-Elme,\n",
       " Nouvelle-Orléans,\n",
       " de France,\n",
       " I,\n",
       " Kermadec,\n",
       " P,\n",
       " Paimpol,\n",
       " Saint-Pol-de-Léon,\n",
       " Finistère,\n",
       " Taille,\n",
       " Marques,\n",
       " Saint-Pol-de-Léon,\n",
       " Finistère,\n",
       " la Bretagne,\n",
       " la Bretagne,\n",
       " Bugel-Du,\n",
       " Kermadec,\n",
       " hâle de mer,\n",
       " Saint-Pol-de-Léon,\n",
       " Yvonne,\n",
       " I,\n",
       " État,\n",
       " Port-Dieu,\n",
       " État,\n",
       " Jersey,\n",
       " Port-Dieu,\n",
       " Phéniciens,\n",
       " Archipel,\n",
       " Manche,\n",
       " Flohy,\n",
       " Inde,\n",
       " Anglais,\n",
       " Islande,\n",
       " État,\n",
       " Combien,\n",
       " Port-Dieu,\n",
       " Terre-Neuve,\n",
       " Celles,\n",
       " Prudence,\n",
       " Amérique,\n",
       " Pacifique,\n",
       " I,\n",
       " Chavanon,\n",
       " la France,\n",
       " Loire,\n",
       " Paris,\n",
       " Paris,\n",
       " Paris,\n",
       " Paris,\n",
       " I,\n",
       " rue de Vaugirard,\n",
       " rue Ganneron,\n",
       " Hôtel des Médicis,\n",
       " Beauvais,\n",
       " Formé,\n",
       " Paris,\n",
       " Luxembourg,\n",
       " Crozat,\n",
       " Combien,\n",
       " Nouméa,\n",
       " Paris,\n",
       " Tiens,\n",
       " I,\n",
       " rue Notre-Dame-de-Lorette,\n",
       " Paris,\n",
       " Champs-Élysées,\n",
       " bois de Boulogne,\n",
       " Venez,\n",
       " Madeleine,\n",
       " Duroy,\n",
       " Américain,\n",
       " Afrique,\n",
       " du Sud,\n",
       " Ouled-Alane,\n",
       " Sacré-Cœur,\n",
       " Hollande,\n",
       " I,\n",
       " Français,\n",
       " Andilly,\n",
       " Ronserolles,\n",
       " Tiens,\n",
       " Cannes,\n",
       " Institut,\n",
       " Avez,\n",
       " Paris,\n",
       " bah,\n",
       " Muette,\n",
       " Passy,\n",
       " Bois de Boulogne,\n",
       " Muette,\n",
       " Derrière,\n",
       " Que vas-tu,\n",
       " I,\n",
       " Normandie,\n",
       " Cathelineau,\n",
       " Bocage,\n",
       " Écosse,\n",
       " amazone,\n",
       " La Neuville,\n",
       " I,\n",
       " Napolitain,\n",
       " Hôtel de Paris,\n",
       " Monte-Carlo,\n",
       " Voulez,\n",
       " I,\n",
       " Rue de Châteaudun,\n",
       " Bourse,\n",
       " Midi,\n",
       " de France,\n",
       " Bourse du Commerce,\n",
       " Vernier-Mareuil,\n",
       " Courbevoie,\n",
       " Bercy,\n",
       " la Seine,\n",
       " École militaire,\n",
       " Vernier-Mareuil,\n",
       " École,\n",
       " avenue de Tourville,\n",
       " Laboratoire,\n",
       " Vernier-Mareuil,\n",
       " Sainte-Anne,\n",
       " Vernier,\n",
       " Traduit,\n",
       " Tourville,\n",
       " Providence,\n",
       " Mareuil,\n",
       " Paris,\n",
       " Batignolles,\n",
       " Mareuil,\n",
       " Tourville,\n",
       " Tenez,\n",
       " Vernier,\n",
       " Prunelet,\n",
       " Paris,\n",
       " Avez,\n",
       " province de Normandie,\n",
       " Pyrénées,\n",
       " canton de Montserrou,\n",
       " Toulouse,\n",
       " Suzelle,\n",
       " Lapeyre,\n",
       " soleil,\n",
       " Bordelaise,\n",
       " I,\n",
       " Domfront,\n",
       " Comlie,\n",
       " Fac simile,\n",
       " I,\n",
       " Provence,\n",
       " Piémont,\n",
       " d'Espagne,\n",
       " Italie,\n",
       " Saint-Pierre-de-Corbie,\n",
       " Alpes,\n",
       " du Var,\n",
       " Italie,\n",
       " de France,\n",
       " du Japon,\n",
       " Saint-Maur,\n",
       " Saint-Pierre,\n",
       " Malepeire,\n",
       " de France,\n",
       " Malepeire,\n",
       " Malepeire,\n",
       " Saint-Pierre,\n",
       " Pas de Malepeire,\n",
       " château de Malepeire,\n",
       " Alpes,\n",
       " Malepeire,\n",
       " Combray,\n",
       " Quelquefois,\n",
       " Ève,\n",
       " col rabattu,\n",
       " baldaquin,\n",
       " Tiens,\n",
       " Bohême,\n",
       " Sienne,\n",
       " Combray,\n",
       " Combray,\n",
       " Tansonville,\n",
       " lune,\n",
       " soleil,\n",
       " Combray,\n",
       " Balbec,\n",
       " Paris,\n",
       " Doncières,\n",
       " Venise,\n",
       " Combray,\n",
       " Brabant,\n",
       " Barbe-Bleue,\n",
       " Combray,\n",
       " Bressant,\n",
       " Combray,\n",
       " Amédée,\n",
       " Combray,\n",
       " Orléans,\n",
       " Êtes,\n",
       " Combray,\n",
       " boulevard Haussmann,\n",
       " Opéra,\n",
       " Paris,\n",
       " Entrepôt,\n",
       " Lyon,\n",
       " Petite Nanette,\n",
       " Mariotte,\n",
       " Mariotte,\n",
       " Mariotte,\n",
       " Mariotte,\n",
       " Mariotte,\n",
       " fort doux,\n",
       " Suisse,\n",
       " France,\n",
       " Paris,\n",
       " Paris,\n",
       " Français,\n",
       " Dumontet,\n",
       " Paris,\n",
       " Paris,\n",
       " Paris,\n",
       " Paris,\n",
       " Luxembourg,\n",
       " Luxembourg,\n",
       " grand bassin,\n",
       " boulevard de Gand,\n",
       " jardin du Luxembourg,\n",
       " parterre de l'Odéon,\n",
       " vicomtesse d'Hespel,\n",
       " Paris,\n",
       " Nélida,\n",
       " Nélida,\n",
       " I,\n",
       " Avez,\n",
       " Bac,\n",
       " Saint-Germain,\n",
       " rue du Bac,\n",
       " Saint-Germain,\n",
       " Providence,\n",
       " I,\n",
       " Pilgrim,\n",
       " brick-goélette Pilgrim,\n",
       " méridien de,\n",
       " San Francisco,\n",
       " Le Pilgrim,\n",
       " détroit de Behring,\n",
       " Tasmanie,\n",
       " cap Horn,\n",
       " océan Antarctique,\n",
       " Nouvelle-Zélande,\n",
       " cap de Bonne-Espérance,\n",
       " Pacifique,\n",
       " Atlantique,\n",
       " San Francisco,\n",
       " Pilgrim,\n",
       " Nord-caper,\n",
       " océan Boréal,\n",
       " Sulpher-boltone,\n",
       " du Sud,\n",
       " Astrolabe,\n",
       " Zélée,\n",
       " Français,\n",
       " le Pilgrim,\n",
       " Le Pilgrim,\n",
       " Nouvelle-Zélande,\n",
       " Auckland,\n",
       " golfe de Chouraki,\n",
       " Pilgrim,\n",
       " Auckland,\n",
       " Pilgrim,\n",
       " Auckland,\n",
       " Mrs,\n",
       " Pilgrim,\n",
       " Auckland,\n",
       " Nouvelle-Zélande,\n",
       " San Francisco,\n",
       " Auckland,\n",
       " Mrs,\n",
       " Pilgrim,\n",
       " San Francisco,\n",
       " Mrs,\n",
       " Australie,\n",
       " Melbourne,\n",
       " isthme de Panama,\n",
       " Papéiti,\n",
       " Panama,\n",
       " Californie,\n",
       " le Pilgrim,\n",
       " Auckland,\n",
       " San Francisco,\n",
       " Nan,\n",
       " Équateur,\n",
       " Mrs,\n",
       " Mrs,\n",
       " Pilgrim,\n",
       " Valparaiso,\n",
       " Chili,\n",
       " Mrs,\n",
       " Le Pilgrim,\n",
       " I,\n",
       " Basse Hongrie,\n",
       " ...]"
      ]
     },
     "execution_count": 34,
     "metadata": {},
     "output_type": "execute_result"
    }
   ],
   "source": [
    "spat_tokens"
   ]
  },
  {
   "attachments": {},
   "cell_type": "markdown",
   "metadata": {},
   "source": [
    "## Mise en place d'une évaluation objective\n",
    "Très important : besoin d'avoir une référence validée, aussi appelée \"vérité terrain\" (*\"ground truth\"*), \"données cibles\" (*\"targets\"*), *\"gold standard\"*…\n",
    "\n",
    "Cette référence contient, pour une échantillon représentatif de données d'entrée de notre système, les données idéales que notre système devrait produire en sortie.\n",
    "Dans le doute, il est important de bien coller à la définition d'une tâche de traitement de données \"classique\", c'est à dire à un triplet (type et format des données d'entrées, type et format des données de sortie, méthode d'évaluation de la conformité entre données prédite et données attendues) communément utilisé par les équipes expérimentées sur ce sujet."
   ]
  },
  {
   "attachments": {},
   "cell_type": "markdown",
   "metadata": {},
   "source": [
    "TODO introduire notions de precision/recall/fscore (métriques de détection / retrieval)"
   ]
  },
  {
   "cell_type": "code",
   "execution_count": 74,
   "metadata": {},
   "outputs": [
    {
     "name": "stdout",
     "output_type": "stream",
     "text": [
      "Loaded text and target entities for 100 samples.\n"
     ]
    }
   ],
   "source": [
    "# On charge le dataset dans un format facile\n",
    "import json\n",
    "def load_dataset(path_to_json: str) -> dict[str, tuple[str, list[tuple[int, int, str]]]]:\n",
    "    with open(path_to_json, encoding=\"utf8\") as in_file:\n",
    "        return json.load(in_file)\n",
    "\n",
    "all_data = load_dataset(\"../dataset/French_ELTEC_NER_Open_Dataset.json\")\n",
    "print(f\"Loaded text and target entities for {len(all_data)} samples.\")"
   ]
  },
  {
   "cell_type": "code",
   "execution_count": 75,
   "metadata": {},
   "outputs": [],
   "source": [
    "from spacy.scorer import Scorer\n",
    "from spacy.training.example import Example\n",
    "\n",
    "def evaluate(ner_model, dataset_dict, debug=False):\n",
    "    \"\"\"FIXME DOC\"\"\"\n",
    "    examples = []\n",
    "    for doc_id, (text, target_entities) in dataset_dict.items():\n",
    "        pred_doc = ner_model(text)\n",
    "        if debug:\n",
    "            print(\"Pred.:\", [(ent.text, ent.label_) for ent in pred_doc.ents], \" ↔ Targ.:\", [(text[e[0]:e[1]], e[2]) for e in target_entities])\n",
    "        try:\n",
    "            example = Example.from_dict(pred_doc, {\"entities\": target_entities})\n",
    "            examples.append(example)\n",
    "        except ValueError as e:\n",
    "            err_msg = f\"Error parsing document '{doc_id}': \"\n",
    "            err_msg += getattr(e, \"msg\", str(e))\n",
    "            print(err_msg)\n",
    "            raise ValueError(err_msg)\n",
    "    \n",
    "    scorer = Scorer()\n",
    "    scores = scorer.score_spans(examples, \"ents\")\n",
    "    # print(scores[\"ents_f\"])\n",
    "    return scores"
   ]
  },
  {
   "cell_type": "code",
   "execution_count": 80,
   "metadata": {},
   "outputs": [],
   "source": [
    "# Load a NER model\n",
    "ner_model = spacy.load('fr_core_news_sm')"
   ]
  },
  {
   "attachments": {},
   "cell_type": "markdown",
   "metadata": {},
   "source": [
    "We should deactivate the useless parts of the pipeline here, to accelerate the evaluation."
   ]
  },
  {
   "cell_type": "code",
   "execution_count": 81,
   "metadata": {},
   "outputs": [
    {
     "data": {
      "text/plain": [
       "['tok2vec', 'morphologizer', 'parser', 'attribute_ruler', 'lemmatizer', 'ner']"
      ]
     },
     "execution_count": 81,
     "metadata": {},
     "output_type": "execute_result"
    }
   ],
   "source": [
    "ner_model.pipe_names"
   ]
  },
  {
   "cell_type": "code",
   "execution_count": 82,
   "metadata": {},
   "outputs": [
    {
     "data": {
      "text/plain": [
       "['ner']"
      ]
     },
     "execution_count": 82,
     "metadata": {},
     "output_type": "execute_result"
    }
   ],
   "source": [
    "ner_model.select_pipes(enable=\"ner\")\n",
    "ner_model.pipe_names"
   ]
  },
  {
   "cell_type": "code",
   "execution_count": 85,
   "metadata": {},
   "outputs": [
    {
     "name": "stderr",
     "output_type": "stream",
     "text": [
      "/home/jchazalo/.virtualenvs/hn-ariane-ner-tuto-2023-PwR_0BG5/lib/python3.10/site-packages/spacy/training/iob_utils.py:149: UserWarning: [W030] Some entities could not be aligned in the text \"PREMIÈRE PARTIE -- LA CONSPIRATION EN DENTELLES\n",
      "Où...\" with entities \"[[51, 58, 'PER'], [106, 113, 'PER'], [369, 374, 'L...\". Use `spacy.training.offsets_to_biluo_tags(nlp.make_doc(text), entities)` to check the alignment. Misaligned entities ('-') will be ignored during training.\n",
      "  warnings.warn(\n",
      "/home/jchazalo/.virtualenvs/hn-ariane-ner-tuto-2023-PwR_0BG5/lib/python3.10/site-packages/spacy/training/iob_utils.py:149: UserWarning: [W030] Some entities could not be aligned in the text \"LE BANQUET\n",
      "Dans la grande salle des fêtes de 1' « ...\" with entities \"[[1003, 1014, 'PER'], [1246, 1252, 'PER'], [1254, ...\". Use `spacy.training.offsets_to_biluo_tags(nlp.make_doc(text), entities)` to check the alignment. Misaligned entities ('-') will be ignored during training.\n",
      "  warnings.warn(\n",
      "/home/jchazalo/.virtualenvs/hn-ariane-ner-tuto-2023-PwR_0BG5/lib/python3.10/site-packages/spacy/training/iob_utils.py:149: UserWarning: [W030] Some entities could not be aligned in the text \"\n",
      "\n",
      "\n",
      "\n",
      "CHAPITRE PREMIER\n",
      "PREMIERS SIGNES\n",
      "Je suis toute...\" with entities \"[[122, 140, 'PER'], [160, 168, 'PER'], [998, 1006,...\". Use `spacy.training.offsets_to_biluo_tags(nlp.make_doc(text), entities)` to check the alignment. Misaligned entities ('-') will be ignored during training.\n",
      "  warnings.warn(\n"
     ]
    },
    {
     "name": "stdout",
     "output_type": "stream",
     "text": [
      "CPU times: user 7.77 s, sys: 213 ms, total: 7.98 s\n",
      "Wall time: 7.98 s\n"
     ]
    },
    {
     "data": {
      "text/plain": [
       "{'ents_p': 0.4317656129529684,\n",
       " 'ents_r': 0.6339622641509434,\n",
       " 'ents_f': 0.5136829231004433,\n",
       " 'ents_per_type': {'MISC': {'p': 0.0, 'r': 0.0, 'f': 0.0},\n",
       "  'PER': {'p': 0.6165458937198067,\n",
       "   'r': 0.5984759671746777,\n",
       "   'f': 0.6073765615704938},\n",
       "  'LOC': {'p': 0.4205488194001276,\n",
       "   'r': 0.698093220338983,\n",
       "   'f': 0.5248904818797292},\n",
       "  'ORG': {'p': 0.0, 'r': 0.0, 'f': 0.0}}}"
      ]
     },
     "execution_count": 85,
     "metadata": {},
     "output_type": "execute_result"
    }
   ],
   "source": [
    "%%time\n",
    "# evaluate using custom function, maybe useless because of the Language.evaluate() method! <https://spacy.io/api/language#evaluate>\n",
    "results = evaluate(ner_model, all_data, debug=False)\n",
    "results"
   ]
  },
  {
   "attachments": {},
   "cell_type": "markdown",
   "metadata": {},
   "source": [
    "\n",
    "Try the evaluation using the [`Language.evaluate()`](https://spacy.io/api/language#evaluate) method."
   ]
  },
  {
   "cell_type": "code",
   "execution_count": 86,
   "metadata": {},
   "outputs": [
    {
     "name": "stderr",
     "output_type": "stream",
     "text": [
      "/home/jchazalo/.virtualenvs/hn-ariane-ner-tuto-2023-PwR_0BG5/lib/python3.10/site-packages/spacy/training/iob_utils.py:149: UserWarning: [W030] Some entities could not be aligned in the text \"PREMIÈRE PARTIE -- LA CONSPIRATION EN DENTELLES\n",
      "Où...\" with entities \"[[51, 58, 'PER'], [106, 113, 'PER'], [369, 374, 'L...\". Use `spacy.training.offsets_to_biluo_tags(nlp.make_doc(text), entities)` to check the alignment. Misaligned entities ('-') will be ignored during training.\n",
      "  warnings.warn(\n",
      "/home/jchazalo/.virtualenvs/hn-ariane-ner-tuto-2023-PwR_0BG5/lib/python3.10/site-packages/spacy/training/iob_utils.py:149: UserWarning: [W030] Some entities could not be aligned in the text \"LE BANQUET\n",
      "Dans la grande salle des fêtes de 1' « ...\" with entities \"[[1003, 1014, 'PER'], [1246, 1252, 'PER'], [1254, ...\". Use `spacy.training.offsets_to_biluo_tags(nlp.make_doc(text), entities)` to check the alignment. Misaligned entities ('-') will be ignored during training.\n",
      "  warnings.warn(\n",
      "/home/jchazalo/.virtualenvs/hn-ariane-ner-tuto-2023-PwR_0BG5/lib/python3.10/site-packages/spacy/training/iob_utils.py:149: UserWarning: [W030] Some entities could not be aligned in the text \"\n",
      "\n",
      "\n",
      "\n",
      "CHAPITRE PREMIER\n",
      "PREMIERS SIGNES\n",
      "Je suis toute...\" with entities \"[[122, 140, 'PER'], [160, 168, 'PER'], [998, 1006,...\". Use `spacy.training.offsets_to_biluo_tags(nlp.make_doc(text), entities)` to check the alignment. Misaligned entities ('-') will be ignored during training.\n",
      "  warnings.warn(\n"
     ]
    },
    {
     "name": "stdout",
     "output_type": "stream",
     "text": [
      "Created 100 examples.\n",
      "CPU times: user 3.13 s, sys: 2.09 ms, total: 3.13 s\n",
      "Wall time: 3.14 s\n"
     ]
    }
   ],
   "source": [
    "%%time\n",
    "examples = []\n",
    "for doc_id, (text, target_entities) in all_data.items():\n",
    "    base_doc = ner_model.make_doc(text)  # We create simpler examples here but will the evaluate function recompute them?\n",
    "    try:\n",
    "        example = Example.from_dict(base_doc, {\"entities\": target_entities})\n",
    "        examples.append(example)\n",
    "    except ValueError as e:\n",
    "        err_msg = f\"Error parsing document '{doc_id}': \"\n",
    "        err_msg += getattr(e, \"msg\", str(e))\n",
    "        print(err_msg)\n",
    "        raise ValueError(err_msg)\n",
    "print(f\"Created {len(examples)} examples.\")"
   ]
  },
  {
   "cell_type": "code",
   "execution_count": 87,
   "metadata": {},
   "outputs": [
    {
     "name": "stdout",
     "output_type": "stream",
     "text": [
      "CPU times: user 7.78 s, sys: 8.48 s, total: 16.3 s\n",
      "Wall time: 16.4 s\n"
     ]
    },
    {
     "data": {
      "text/plain": [
       "{'token_acc': 1.0,\n",
       " 'token_p': 1.0,\n",
       " 'token_r': 1.0,\n",
       " 'token_f': 1.0,\n",
       " 'ents_p': 0.43243243243243246,\n",
       " 'ents_r': 0.6339622641509434,\n",
       " 'ents_f': 0.5141545524100996,\n",
       " 'ents_per_type': {'LOC': {'p': 0.4216250799744082,\n",
       "   'r': 0.698093220338983,\n",
       "   'f': 0.5257279617072198},\n",
       "  'MISC': {'p': 0.0, 'r': 0.0, 'f': 0.0},\n",
       "  'PER': {'p': 0.6172914147521161,\n",
       "   'r': 0.5984759671746777,\n",
       "   'f': 0.6077380952380953},\n",
       "  'ORG': {'p': 0.0, 'r': 0.0, 'f': 0.0}},\n",
       " 'speed': 9838.436375865644}"
      ]
     },
     "execution_count": 87,
     "metadata": {},
     "output_type": "execute_result"
    }
   ],
   "source": [
    "%%time\n",
    "scores = ner_model.evaluate(examples)\n",
    "scores"
   ]
  },
  {
   "attachments": {},
   "cell_type": "markdown",
   "metadata": {},
   "source": [
    "On obtient les mêmes valeurs, mais plus lentement ; probablement car on fait une évaluation plus large avec l'évaluation de la tokenization et de la vitesse en plus."
   ]
  },
  {
   "attachments": {},
   "cell_type": "markdown",
   "metadata": {},
   "source": [
    "## TODO produire soi-même des données d'entraînement ou de test\n",
    "\n",
    "jeu de test : besoin d'une quantité et d'une variété suffisantes pour que les résulats soient significatifs. Ce jeu de données ne peut pas contenir de données vues pendant l'entraînement.\n",
    "\n",
    "jeu d'entraînement : généralement besoin d'une quantité plus importante pour permettre la stabilisation des paramètres statistiques d'un modèle.\n",
    "Ces données doivent être suffisamment variées pour permettre de capturer les subtilités des données à traiter, et assez représentatives pour capturer en priorité les généralités.\n",
    "\n",
    "Dans les 2 cas, il faut préparer :\n",
    "- de exemples de données d'entrée pour le sytème (échantillons de textes)\n",
    "- les sorties parfaites attendues pour ces données (dans le cas du NER, liste des entités — avec position et étiquette — à extraire)\n",
    "\n",
    "\n",
    "TODO indiquer exemple procédure la plus basique possible :\n",
    "- identifier groupe de textes à étiqueter\n",
    "- les importer dans <https://tecoholic.github.io/ner-annotator/> et annoter\n",
    "- exporter les données\n",
    "- les convertir au format adapté\n",
    "\n",
    "### 🤓 Pour aller plus loin\n",
    "Questions à pointer (sans forcément y répondre car ça serait pour une autre formation/atelier) :\n",
    "- quelles étiquettes/labels ?\n",
    "- quelles règles suivre, comment gérer les ambiguïtés ?\n",
    "- comment distribuer le travail ? Comment assurer la cohérence entre le travail des différents annotateurs ?\n",
    "- Comment diffuser ton travail, le partager, quelle licence utiliser ?"
   ]
  },
  {
   "cell_type": "code",
   "execution_count": null,
   "metadata": {},
   "outputs": [],
   "source": []
  }
 ],
 "metadata": {
  "kernelspec": {
   "display_name": "hn-ariane-ner-tuto-2023-5IA5eVhR",
   "language": "python",
   "name": "python3"
  },
  "language_info": {
   "codemirror_mode": {
    "name": "ipython",
    "version": 3
   },
   "file_extension": ".py",
   "mimetype": "text/x-python",
   "name": "python",
   "nbconvert_exporter": "python",
   "pygments_lexer": "ipython3",
   "version": "3.10.12"
  }
 },
 "nbformat": 4,
 "nbformat_minor": 2
}
