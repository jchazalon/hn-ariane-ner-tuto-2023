{
 "cells": [
  {
   "attachments": {},
   "cell_type": "markdown",
   "metadata": {},
   "source": [
    "# Tentative d'annotation avec UDT\n",
    "\n",
    "[universal Data Tool](https://universaldatatool.com/) semblait être une solution intéressante pour permettre d'annoter facilement des données sans sortir d'un notebook. Ça aurait été une alternative gratuite et *open source* intéressante à [Prodigy](https://prodi.gy/).\n",
    "\n",
    "Pas de chance, je n'ai pas réussi à faire fonctionner rapidement l'annotation d'entités nommées.\n",
    "\n",
    "Remarque : il faut installer les paquets Python `universaldatatool` et `web.py`."
   ]
  },
  {
   "cell_type": "code",
   "execution_count": 2,
   "metadata": {},
   "outputs": [
    {
     "data": {
      "text/plain": [
       "4"
      ]
     },
     "execution_count": 2,
     "metadata": {},
     "output_type": "execute_result"
    }
   ],
   "source": [
    "my_samples = []\n",
    "for ii, (text, entities) in enumerate(all_data.values()):\n",
    "    if ii > 3:\n",
    "        break\n",
    "    my_samples.append(text)\n",
    "len(my_samples)"
   ]
  },
  {
   "cell_type": "code",
   "execution_count": 3,
   "metadata": {},
   "outputs": [
    {
     "ename": "AttributeError",
     "evalue": "'str' object has no attribute 'copy'",
     "output_type": "error",
     "traceback": [
      "\u001b[0;31m---------------------------------------------------------------------------\u001b[0m",
      "\u001b[0;31mAttributeError\u001b[0m                            Traceback (most recent call last)",
      "Cell \u001b[0;32mIn[3], line 3\u001b[0m\n\u001b[1;32m      1\u001b[0m \u001b[39mimport\u001b[39;00m \u001b[39muniversaldatatool\u001b[39;00m \u001b[39mas\u001b[39;00m \u001b[39mudt\u001b[39;00m\n\u001b[0;32m----> 3\u001b[0m ds \u001b[39m=\u001b[39m udt\u001b[39m.\u001b[39;49mDataset(\n\u001b[1;32m      4\u001b[0m     interface\u001b[39m=\u001b[39;49m\u001b[39m\"\u001b[39;49m\u001b[39mnamed_entity_recognition\u001b[39;49m\u001b[39m\"\u001b[39;49m,\n\u001b[1;32m      5\u001b[0m     samples\u001b[39m=\u001b[39;49m[my_samples],\n\u001b[1;32m      6\u001b[0m     labels\u001b[39m=\u001b[39;49m[\u001b[39m\"\u001b[39;49m\u001b[39mPER\u001b[39;49m\u001b[39m\"\u001b[39;49m, \u001b[39m\"\u001b[39;49m\u001b[39mLOC\u001b[39;49m\u001b[39m\"\u001b[39;49m]\n\u001b[1;32m      7\u001b[0m )\n\u001b[1;32m      9\u001b[0m \u001b[39m# ds.to_json() # Outputs .udt.json\u001b[39;00m\n\u001b[1;32m     11\u001b[0m udt\u001b[39m.\u001b[39mopen()\n",
      "File \u001b[0;32m~/.virtualenvs/hn-ariane-ner-tuto-2023-PwR_0BG5/lib/python3.10/site-packages/universaldatatool/dataset.py:34\u001b[0m, in \u001b[0;36mDataset.__init__\u001b[0;34m(self, constructor_dict, **kwargs)\u001b[0m\n\u001b[1;32m     32\u001b[0m         \u001b[39mself\u001b[39m\u001b[39m.\u001b[39minterface \u001b[39m=\u001b[39m kwargs[\u001b[39m\"\u001b[39m\u001b[39minterface\u001b[39m\u001b[39m\"\u001b[39m]\n\u001b[1;32m     33\u001b[0m     \u001b[39melse\u001b[39;00m:\n\u001b[0;32m---> 34\u001b[0m         \u001b[39mself\u001b[39m\u001b[39m.\u001b[39minterface \u001b[39m=\u001b[39m Interface(kwargs[\u001b[39m\"\u001b[39;49m\u001b[39minterface\u001b[39;49m\u001b[39m\"\u001b[39;49m])\n\u001b[1;32m     36\u001b[0m \u001b[39mif\u001b[39;00m \u001b[39mself\u001b[39m\u001b[39m.\u001b[39minterface \u001b[39mis\u001b[39;00m \u001b[39mNone\u001b[39;00m:\n\u001b[1;32m     37\u001b[0m     \u001b[39mif\u001b[39;00m constructor_dict \u001b[39mis\u001b[39;00m \u001b[39mnot\u001b[39;00m \u001b[39mNone\u001b[39;00m:\n",
      "File \u001b[0;32m~/.virtualenvs/hn-ariane-ner-tuto-2023-PwR_0BG5/lib/python3.10/site-packages/universaldatatool/interface.py:28\u001b[0m, in \u001b[0;36mInterface.__init__\u001b[0;34m(self, constructor_dict, **kwargs)\u001b[0m\n\u001b[1;32m     27\u001b[0m \u001b[39mdef\u001b[39;00m \u001b[39m__init__\u001b[39m(\u001b[39mself\u001b[39m, constructor_dict\u001b[39m=\u001b[39m{}, \u001b[39m*\u001b[39m\u001b[39m*\u001b[39mkwargs):\n\u001b[0;32m---> 28\u001b[0m     \u001b[39mself\u001b[39m\u001b[39m.\u001b[39mparams \u001b[39m=\u001b[39m constructor_dict\u001b[39m.\u001b[39;49mcopy()\n\u001b[1;32m     29\u001b[0m     \u001b[39mself\u001b[39m\u001b[39m.\u001b[39mparams\u001b[39m.\u001b[39mupdate(camelify_dict(kwargs))\n",
      "\u001b[0;31mAttributeError\u001b[0m: 'str' object has no attribute 'copy'"
     ]
    }
   ],
   "source": [
    "import universaldatatool as udt\n",
    "\n",
    "ds = udt.Dataset(\n",
    "    interface=\"named_entity_recognition\",\n",
    "    samples=[my_samples],\n",
    "    labels=[\"PER\", \"LOC\"]\n",
    ")\n",
    "\n",
    "# ds.to_json() # Outputs .udt.json\n",
    "\n",
    "udt.open()"
   ]
  },
  {
   "cell_type": "code",
   "execution_count": null,
   "metadata": {},
   "outputs": [],
   "source": []
  }
 ],
 "metadata": {
  "kernelspec": {
   "display_name": "hn-ariane-ner-tuto-2023-PwR_0BG5",
   "language": "python",
   "name": "python3"
  },
  "language_info": {
   "codemirror_mode": {
    "name": "ipython",
    "version": 3
   },
   "file_extension": ".py",
   "mimetype": "text/x-python",
   "name": "python",
   "nbconvert_exporter": "python",
   "pygments_lexer": "ipython3",
   "version": "3.10.12"
  },
  "orig_nbformat": 4
 },
 "nbformat": 4,
 "nbformat_minor": 2
}
