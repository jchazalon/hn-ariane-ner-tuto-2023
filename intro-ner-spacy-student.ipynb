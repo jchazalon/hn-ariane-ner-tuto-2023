{
 "cells": [
  {
   "attachments": {},
   "cell_type": "markdown",
   "metadata": {},
   "source": [
    "# Initiation à la 🔎 reconnaissance d'entités nommées 🔍 avec [spaCy](https://spacy.io/)\n",
    "\n",
    "<p style=\"font-size:small;font-style:italic\">filename: \"intro-ner-spacy-student.ipynb\" — generation_timestamp: 2023-10-13_170413 — source_commit: 6884f66c9f265b2d76ac0c83107aa6c03b0653b5</p>\n",
    "<p style=\"font-size:small;\" xmlns:cc=\"http://creativecommons.org/ns#\" xmlns:dct=\"http://purl.org/dc/terms/\"><a property=\"dct:title\" rel=\"cc:attributionURL\" href=\"https://github.com/jchazalon/hn-ariane-ner-tuto-2023 \">Tous les supports de cette activité</a> créés par <a rel=\"cc:attributionURL dct:creator\" property=\"cc:attributionName\" href=\"https://jchazalon.github.io\">Joseph Chazalon</a> sont distribués selon les termes de la licence Creative Commons <a href=\"http://creativecommons.org/licenses/by-sa/4.0/?ref=chooser-v1\" target=\"_blank\" rel=\"license noopener noreferrer\" style=\"display:inline-block;\">Attribution-ShareAlike 4.0 International<img style=\"height:22px!important;margin-left:3px;vertical-align:text-bottom;\" src=\"https://mirrors.creativecommons.org/presskit/icons/cc.svg?ref=chooser-v1\"><img style=\"height:22px!important;margin-left:3px;vertical-align:text-bottom;\" src=\"https://mirrors.creativecommons.org/presskit/icons/by.svg?ref=chooser-v1\"><img style=\"height:22px!important;margin-left:3px;vertical-align:text-bottom;\" src=\"https://mirrors.creativecommons.org/presskit/icons/sa.svg?ref=chooser-v1\"></a></p> \n",
    "\n",
    "[![](https://img.shields.io/badge/Google_%20_Colab-Cliquez_ici_pour_éditer_ce_notebook-blue?logo=googlecolab)](https://colab.research.google.com/github/jchazalon/hn-ariane-ner-tuto-2023/blob/main/intro-ner-spacy-student.ipynb)"
   ]
  },
  {
   "attachments": {},
   "cell_type": "markdown",
   "metadata": {},
   "source": [
    "## 1. Introduction — *⏱️ 5 mn*"
   ]
  },
  {
   "attachments": {},
   "cell_type": "markdown",
   "metadata": {},
   "source": [
    "\n",
    "**👋 Bonjour !**\n",
    "\n",
    "Cette activité a pour objectif de vous apprendre à utiliser la bibliothèque [spaCy](https://spacy.io/) et de mettre en place un projet de reconnaissance d'entités nommées (*[Named entities recognition](https://en.wikipedia.org/wiki/Named-entity_recognition)*, ou *NER* en anglais).\n",
    "\n",
    "Au travers d'exercices et d'observations simples qui vous permettront d'envisager la chaîne de traitement de données dans son ensemble, vous allez prendre en main quelques d'outils essentiels.\n",
    "Ainsi, vous devriez pouvoir réappliquer cette approche sur des données de votre choix, après cet atelier, en toute autonomie."
   ]
  },
  {
   "attachments": {},
   "cell_type": "markdown",
   "metadata": {},
   "source": [
    "\n",
    "### Contenu de cette activité"
   ]
  },
  {
   "attachments": {},
   "cell_type": "markdown",
   "metadata": {},
   "source": [
    "1. Introduction — *⏱️ 5 mn*\n",
    "2. Installation et généralités à propos de spaCy — *⏱️ 5 mn*\n",
    "3. Reconnaître des entités nommées avec un modèle existant et visualiser les résultats — *⏱️ 5 mn*\n",
    "4. Traiter les données de notre corpus d'exemple — *⏱️ 5 mn*\n",
    "5. Évaluer objectivement la performance d'un modèle de langage — *⏱️ 5 mn*\n",
    "6. Annoter un jeu de données complet : aperçu du problème — *⏱️ 5 mn*\n",
    "7. Entraîner un modèle spécialisé et comparer sa performance — *⏱️ 10 mn*\n",
    "8. Export des données pour une utilisation ultérieure — *⏱️ 2 mn*"
   ]
  },
  {
   "attachments": {},
   "cell_type": "markdown",
   "metadata": {},
   "source": [
    "### 🗺️ Symboles utilisés"
   ]
  },
  {
   "cell_type": "markdown",
   "metadata": {},
   "source": [
    "\n",
    "- Au cours de cette activité, vous aurez des actions à réaliser.\n",
    "  Celles-ci sont indiquées par les symboles 🚧, 🏗️, 🛠️, 👷.\n",
    "- Certains éléments nécessitant votre attention sont indiqués par des symboles comme 🚨, ⚠️, 👉.\n",
    "- Et finalement, certains éléments sont indiqués pour vous permettre de prolonger cette activité en dehors du créneau réservé et sont indiqués par le symbole 🤓.\n"
   ]
  },
  {
   "attachments": {},
   "cell_type": "markdown",
   "metadata": {},
   "source": [
    "### Sources et licence"
   ]
  },
  {
   "attachments": {},
   "cell_type": "markdown",
   "metadata": {},
   "source": [
    "\n",
    "Cet atelier est largement tiré du cours “[NLP avancé avec spaCy](https://course.spacy.io/fr)” réalisé par [Ines Montani](https://twitter.com/_inesmontani) (créatrice de [spaCy](https://spacy.io/)) sous [licence MIT](https://www.tldrlegal.com/license/mit-license).\n",
    "Cette licence nous autorise à reprendre, modifier et diffuser son contenu tant que nous indiquons la licence originale :\n",
    "\n",
    ">The MIT License (MIT)\n",
    ">Copyright (C) 2019 Ines Montani\n",
    ">Permission is hereby granted, free of charge, to any person obtaining a copy of this software and associated documentation files (the \"Software\"), to deal in the Software without restriction, including without limitation the rights to use, copy, modify, merge, publish, distribute, sublicense, and/or sell copies of the Software, and to permit persons to whom the Software is furnished to do so, subject to the following conditions:\n",
    "The above copyright notice and this permission notice shall be included in all copies or substantial portions of the Software.\n",
    "THE SOFTWARE IS PROVIDED \"AS IS\", WITHOUT WARRANTY OF ANY KIND, EXPRESS OR IMPLIED, INCLUDING BUT NOT LIMITED TO THE WARRANTIES OF MERCHANTABILITY, FITNESS FOR A PARTICULAR PURPOSE AND NONINFRINGEMENT. IN NO EVENT SHALL THE AUTHORS OR COPYRIGHT HOLDERS BE LIABLE FOR ANY CLAIM, DAMAGES OR OTHER LIABILITY, WHETHER IN AN ACTION OF CONTRACT, TORT OR OTHERWISE, ARISING FROM, OUT OF OR IN CONNECTION WITH THE SOFTWARE OR THE USE OR OTHER DEALINGS IN THE SOFTWARE.\n",
    "\n",
    "\n",
    "Les données de cet atelier sont adaptées du “[French ELTEC NER Open Dataset](http://hdl.handle.net/20.500.11752/OPEN-986)” par Carmen Brando, Francesca Frontini, et Ioana Galleron sous licence [Creative Commons - Attribution-ShareAlike 4.0 International (CC BY-SA 4.0)](http://creativecommons.org/licenses/by-sa/4.0/). \n",
    "\n",
    "> Brando, Carmen; Frontini, Francesca and Galleron, Ioana, 2022, French ELTEC NER Open Dataset, ILC-CNR for CLARIN-IT repository hosted at Institute for Computational Linguistics \"A. Zampolli\", National Research Council, in Pisa, [http://hdl.handle.net/20.500.11752/OPEN-986](http://hdl.handle.net/20.500.11752/OPEN-986).\n",
    "\n",
    "Ce cours et les données associées sont sous licence [Creative Commons - Attribution-ShareAlike 4.0 International (CC BY-SA 4.0)](http://creativecommons.org/licenses/by-sa/4.0/).\n",
    "Pour citer ce travail, merci d'indiquer :\n",
    "\n",
    "> Consortium HumaNum Ariane, Joseph Chazalon, Atelier d'initiation à la reconnaissance d'entités nommées avec spaCy, en ligne : <https://github.com/jchazalon/hn-ariane-ner-tuto-2023>, 9 novembre 2023, Lyon."
   ]
  },
  {
   "attachments": {},
   "cell_type": "markdown",
   "metadata": {},
   "source": [
    "### 🚀 C'est parti !"
   ]
  },
  {
   "cell_type": "markdown",
   "metadata": {},
   "source": [
    "Voici le lien vers la présentation : <https://docs.google.com/presentation/d/1_RycfOOeQo8XZNojsx7SzaSDyhepj-8n8w7xMpf9UGI/edit>\n",
    "\n",
    "Vous pouvez aussi accéder à tous les fichiers de cette activité (pour les télécharger par exemple) sur GitHub : <https://github.com/jchazalon/hn-ariane-ner-tuto-2023>\n",
    "\n",
    "**Démarrez l'activité dès l'introduction générale par les formateurs terminée !**\n",
    "\n",
    "Parcourez ce *notebook* dans l'ordre, et n'hésitez pas à solliciter les formateurs dès que vous avez une question.\n",
    "Aux étapes clés de l'atelier, ces derniers utiliseront les supports de cours pour introduire certaines notions collectivement.\n",
    "Vous pouvez cependant avancer à votre rythme en toute autonomie."
   ]
  },
  {
   "attachments": {},
   "cell_type": "markdown",
   "metadata": {},
   "source": [
    "## 2. Installation et généralités à propos de spaCy — *⏱️ 5 mn*\n",
    "Dans cette section, nous allons installer *spaCy* et comprendre quelques principes de base essentiels.\n",
    "\n",
    "En particulier, nous allons nous intéresser aux objets représentant un modèle de langage et un « document » en cours d'analyse."
   ]
  },
  {
   "attachments": {},
   "cell_type": "markdown",
   "metadata": {},
   "source": [
    "### 2.1 Installation de spaCy\n",
    "Avant toute autre chose, nous devons installer *spaCy* !\n",
    "\n",
    "Nous avons préparé un fichier décrivant les paquets Python nécessaires à la réalisation de cette activité.\n",
    "Si vous n'avez pas déjà installé et configuré un environnement de travail, vous pouvez exécuter la cellule suivante pour le faire.\n",
    "\n",
    "🤓 Notez le `!` qui précède l'instruction : il signifie que la ligne n'est pas une instruction Python, mais une instruction shell exécutée sur la machine qui exécute ce *notebook*."
   ]
  },
  {
   "attachments": {},
   "cell_type": "markdown",
   "metadata": {},
   "source": [
    "#### 🚧 Exécutez la cellule suivante pour installer spaCy et les autres outils nécessaires"
   ]
  },
  {
   "cell_type": "code",
   "execution_count": null,
   "metadata": {},
   "outputs": [],
   "source": [
    "!pip install -r https://raw.githubusercontent.com/jchazalon/hn-ariane-ner-tuto-2023/main/requirements.txt"
   ]
  },
  {
   "attachments": {},
   "cell_type": "markdown",
   "metadata": {},
   "source": [
    "### 2.2 Import de la bibliothèque\n",
    "Pour rendre disponible les objets, fonctions et autres éléments proposés par la bibliothèque, nous avons besoin de la charger et de définir un nom qui permet d'y faire référence.\n",
    "\n",
    "C'est le rôle de l'instruction `import`."
   ]
  },
  {
   "attachments": {},
   "cell_type": "markdown",
   "metadata": {},
   "source": [
    "#### 🚧 Exécutez la cellule suivante pour importer *spaCy* dans votre environnement d'exécution"
   ]
  },
  {
   "cell_type": "code",
   "execution_count": null,
   "metadata": {},
   "outputs": [],
   "source": [
    "import spacy"
   ]
  },
  {
   "attachments": {},
   "cell_type": "markdown",
   "metadata": {},
   "source": [
    "### 2.3 L'objet [`Language`](https://spacy.io/api/language)\n",
    "L'objet [`Language`](https://spacy.io/api/language) sert à représenter une chaîne de traitements qui \n",
    "- possède une représentation interne d'un langage \n",
    "- et permet de calculer un certain nombre d'éléments à partir d'un texte ou d'autres éléments déjà calculés.\n",
    "\n",
    "On peut construire une nouvelle chaîne de traitements de plusieurs façons.\n",
    "La manière la plus simple est de construire une chaîne de traitement **vide** (ou presque) pour le français à l'aide de la \"fabrique\" à chaînes de traitement [`spacy.blank(LANGAGE)`](https://spacy.io/api/top-level/#spacy.blank)."
   ]
  },
  {
   "attachments": {},
   "cell_type": "markdown",
   "metadata": {},
   "source": [
    "#### 🚧 Complétez et exécutez la cellule suivante pour créer un modèle de langue vide 🪹 pour le français 🇫🇷\n",
    "<details>\n",
    "<summary>Cliquez ici pour voir un indice</summary>\n",
    "\n",
    "N'hésitez pas à consulter l'aide officielle de la fonction [`spacy.blank(LANGAGE)`](https://spacy.io/api/top-level/#spacy.blank) pour savoir comment l'utiliser !\n",
    "\n",
    "</details>\n",
    "<br>\n",
    "<details>\n",
    "<summary>Cliquez ici pour voir la solution</summary>\n",
    "\n",
    "```python\n",
    "nlp = spacy.blank(\"fr\")\n",
    "```\n",
    "\n",
    "</details>"
   ]
  },
  {
   "cell_type": "code",
   "execution_count": null,
   "metadata": {},
   "outputs": [],
   "source": [
    "nlp = spacy._____(____)"
   ]
  },
  {
   "cell_type": "markdown",
   "metadata": {},
   "source": [
    "\n",
    "La chaîne de traitements contient différents traitements appliqués les uns après les autres.\n",
    "On peut afficher cette liste de traitements à l'aide de l'attribut `pipe_names` de l'objet `nlp`."
   ]
  },
  {
   "cell_type": "code",
   "execution_count": null,
   "metadata": {},
   "outputs": [],
   "source": [
    "nlp.pipe_names"
   ]
  },
  {
   "cell_type": "markdown",
   "metadata": {},
   "source": [
    "Par défaut, une chaîne de traitement ne contient rien… Sauf un *tokenizer*, d'où l'importance de préciser la langue !"
   ]
  },
  {
   "attachments": {},
   "cell_type": "markdown",
   "metadata": {},
   "source": [
    "### 2.4 L'objet [`Doc`](https://spacy.io/api/doc)\n",
    "On obtient un objet [`Doc`](https://spacy.io/api/doc) en appliquant la chaîne de traitement [`Language`](https://spacy.io/api/language) à une chaîne de texte.\n",
    "\n",
    "Cet objet [`Doc`](https://spacy.io/api/doc) est central pour spaCy car il va être progressivement enrichi par chacun de traitements qui va venir y piocher les informations dont il a besoin en entrée, et y ajouter les informations qu'il a calculées.\n",
    "\n",
    "Ce principe est résumé dans la figure suivante, extraire de la documentation officielle de spaCy :  \n",
    "![](https://spacy.io/images/pipeline.svg)\n",
    "\n",
    "Par exemple, le composant \"ner\" (que nous utiliserons plus tard) va venir affecter une étiquette (*\"label\"*) à chacun des *tokens* du document. Il va stocker cette information dans un nouvel attribut `doc.ents` du document.\n",
    "\n",
    "L'attribut `doc.text` contient quant à lui la liste des *tokens* extraits.\n",
    "\n",
    "<!-- More complex architecture diagram ![](https://spacy.io/images/architecture.svg) -->\n",
    "\n",
    "Pour appliquer un modèle de langue à une chaîne de texte, il suffit d'utiliser la variable `nlp` créé comme une fonction !"
   ]
  },
  {
   "attachments": {},
   "cell_type": "markdown",
   "metadata": {},
   "source": [
    "#### 🚧 Exécutez la cellule suivante"
   ]
  },
  {
   "cell_type": "code",
   "execution_count": null,
   "metadata": {},
   "outputs": [],
   "source": [
    "# Créé en traitant une chaine de caractères avec l'objet nlp\n",
    "doc = nlp(\"Bonjour tout le monde !\")"
   ]
  },
  {
   "cell_type": "markdown",
   "metadata": {},
   "source": [
    "On peut parcourir les *tokens* extraits d'un [`Doc`](https://spacy.io/api/doc) à l'aide d'une boucle classique en Python."
   ]
  },
  {
   "attachments": {},
   "cell_type": "markdown",
   "metadata": {},
   "source": [
    "### 2.5 L'objet [`Token`](https://spacy.io/api/token)"
   ]
  },
  {
   "attachments": {},
   "cell_type": "markdown",
   "metadata": {},
   "source": [
    "#### 🚧 Complétez et exécutez la cellule suivante pour afficher le contenu de chaque token du document\n",
    "Un objet [`Token`](https://spacy.io/api/token) contient un certain nombre d'[attributs](https://spacy.io/api/token#attributes) intéressants.\n",
    "\n",
    "Tous ces attributs ne sont pas nécessairement calculés avec un modèle de langue vide, mais il est déjà possible d'en observer un certain nombre.\n",
    "En particulier, vous devez utiliser l'attribut `Token.text` pour accéder à sa représentation textuelle.\n",
    "\n",
    "<details>\n",
    "<summary>Solution</summary>\n",
    "\n",
    "```python\n",
    "for token in doc:\n",
    "    print(token.text)\n",
    "```\n",
    "\n",
    "</details>"
   ]
  },
  {
   "cell_type": "code",
   "execution_count": null,
   "metadata": {},
   "outputs": [],
   "source": [
    "# Itère sur les tokens dans un Doc\n",
    "for ____ in ____:\n",
    "    print(____.____)"
   ]
  },
  {
   "attachments": {},
   "cell_type": "markdown",
   "metadata": {},
   "source": [
    "Il est possible d'obtenir des informations utiles à propos des *tokens* de notre document sans même avoir besoin d'utiliser un modèle de langue complexe.\n",
    "\n",
    "Voici un exemple que vous pouvez observer, qui tire profit des [attributs](https://spacy.io/api/token#attributes) `Token.i` (qui indique l'identifiant du *token* au sein du document parent), `Token.is_alpha`, `Token.is_punct` et `Token.like_num`. "
   ]
  },
  {
   "cell_type": "markdown",
   "metadata": {},
   "source": [
    "#### 🚧 Exécutez la cellule suivante"
   ]
  },
  {
   "cell_type": "code",
   "execution_count": null,
   "metadata": {},
   "outputs": [],
   "source": [
    "## Autres attributs des tokens et des spans\n",
    "doc2 = nlp(\"Cela coûte 5 €.\")\n",
    "\n",
    "print(\"Index :   \", [token.i for token in doc2])\n",
    "print(\"Text :    \", [token.text for token in doc2])\n",
    "\n",
    "print(\"is_alpha :\", [token.is_alpha for token in doc2])\n",
    "print(\"is_punct :\", [token.is_punct for token in doc2])\n",
    "print(\"like_num :\", [token.like_num for token in doc2])"
   ]
  },
  {
   "attachments": {},
   "cell_type": "markdown",
   "metadata": {},
   "source": [
    "Il est également possible d'accéder à un token particulier, grâce à son indice dans le document."
   ]
  },
  {
   "attachments": {},
   "cell_type": "markdown",
   "metadata": {},
   "source": [
    "#### 🚧 Exécutez la cellule suivante pour afficher le premier token du document\n",
    "N'hésitez pas à en afficher d'autres pour observer ce comportement.\n",
    "\n",
    "🤓 Notez qu'il n'est pas toujours nécessaire d'appeler `print()` avec Jupyter : la valeur de retour de la dernière instruction sera affichée, au format texte par défaut ou au format HTML si une représentation plus riche est disponible."
   ]
  },
  {
   "cell_type": "code",
   "execution_count": null,
   "metadata": {},
   "outputs": [],
   "source": [
    "# On peut sélectionner un token particulier, grâce à son indice dans le document\n",
    "token = doc[0]\n",
    "token"
   ]
  },
  {
   "attachments": {},
   "cell_type": "markdown",
   "metadata": {},
   "source": [
    "### 2.5 L'objet [Span](https://spacy.io/api/span)"
   ]
  },
  {
   "attachments": {},
   "cell_type": "markdown",
   "metadata": {},
   "source": [
    "L'objet [Span](https://spacy.io/api/span) est un autre objet utile à connaître, qui représente une séquence de *tokens* contiguë au sein d'un document."
   ]
  },
  {
   "attachments": {},
   "cell_type": "markdown",
   "metadata": {},
   "source": [
    "#### 🚧 <b>Essayez à présent de sélectionner et afficher les <i>tokens</i> \"tout le monde\".</b>\n",
    "\n",
    "<details>\n",
    "<summary>Indices</summary>\n",
    "\n",
    "Vous pouvez utiliser les *ranges* pour sélectionner plusieurs éléments d'un itérable. Voici un exemple de la syntaxe à utiliser :\n",
    "```python\n",
    "ma_liste = [0, 1, 2, 3]\n",
    "print(ma_liste[1:3])\n",
    "# Affiche : [1, 2]\n",
    "```\n",
    "</details>\n",
    "\n",
    "<details>\n",
    "<summary>Solution</summary>\n",
    "\n",
    "On applique cette syntaxe pour sélectionner les tokens du rang 1 (2e token, inclus) au rang 4 (non inclus) :\n",
    "\n",
    "```python\n",
    "span = doc[1:4]\n",
    "span\n",
    "```\n",
    "</details>\n"
   ]
  },
  {
   "cell_type": "code",
   "execution_count": null,
   "metadata": {},
   "outputs": [],
   "source": [
    "# On peut également utiliser les \"ranges\" Python pour sélectionner plusieurs tokens\n",
    "span = doc[____]\n",
    "span"
   ]
  },
  {
   "attachments": {},
   "cell_type": "markdown",
   "metadata": {},
   "source": [
    "À l'instar des objets Token, ils possèdent également des [attributs](https://spacy.io/api/span#attributes) intéressants, comme `Span.text` qui permet d'en obtenir une représentation textuelle."
   ]
  },
  {
   "cell_type": "markdown",
   "metadata": {},
   "source": [
    "#### 🚧 Exécutez la cellule suivante"
   ]
  },
  {
   "cell_type": "code",
   "execution_count": null,
   "metadata": {},
   "outputs": [],
   "source": [
    "# On peut également accéder aux attributs d'un span\n",
    "span.text"
   ]
  },
  {
   "attachments": {},
   "cell_type": "markdown",
   "metadata": {},
   "source": [
    "\n",
    "## 3. Reconnaître des entités nommées avec un modèle existant et visualiser les résultats — *⏱️ 5 mn*"
   ]
  },
  {
   "attachments": {},
   "cell_type": "markdown",
   "metadata": {},
   "source": [
    "Nous allons à présent utiliser un modèle existant mis à disposition par les créateurs de spaCy pour comprendre le fonctionnement d'un modèle de langue intégrant un composant de reconnaissance d'entités nommées.\n",
    "\n",
    "Pour cela, nous allons commencer par utiliser une chaîne de traitement entraînée pour le français."
   ]
  },
  {
   "attachments": {},
   "cell_type": "markdown",
   "metadata": {},
   "source": [
    "### 3.1 Choix, installation et chargement du modèle"
   ]
  },
  {
   "cell_type": "markdown",
   "metadata": {},
   "source": [
    "#### 🏗️ Cherchez [dans la documentation](https://spacy.io/models/fr) un modèle adapté pour démarrer\n",
    "Trouvez le nom du **plus petit modèle contenant un composant NER** qui nous permettra de faire des premières expériences rapides.\n",
    "\n",
    "La taille du modèle est indiquée dans le champ *\"Size\"*.\n",
    "\n",
    "<details>\n",
    "<summary>Solution</summary>\n",
    "\n",
    "On trouve 4 modèles :\n",
    "1. `fr_core_news_sm` : un petit modèle adapté pour nos premières expériences, contenant tous les composants nécessaires 👈 *utilisez celui-ci pour mettre au point votre approche !*\n",
    "2. `fr_core_news_md` : un modèle de taille moyenne, contenant également tous les composants de base, adapté à des cas simples pour lesquels l'efficacité prime\n",
    "3. `fr_core_news_lg` : un modèle large, adapté au travail sur CPU, contenant tous les composants de base et offrant de bonnes performances.\n",
    "4. `fr_dep_news_trf` : un nouveau modèle qui devrait offrir les meilleures performances, mais ne disposant pas de composant NER pré-entraîné et pour lequel il faut préférer une exécution sur GPU.\n",
    "</details>\n"
   ]
  },
  {
   "attachments": {},
   "cell_type": "markdown",
   "metadata": {},
   "source": [
    "#### 🏗️ Complétez à présent la commande suivante pour télécharger les fichiers du modèle\n",
    "Indiquez le nom du modèle que vous avez sélectionné.\n",
    "\n",
    "<details>\n",
    "<summary>Solution</summary>\n",
    "\n",
    "```\n",
    "!python -m spacy download fr_core_news_sm\n",
    "```\n",
    "</details>"
   ]
  },
  {
   "cell_type": "code",
   "execution_count": null,
   "metadata": {},
   "outputs": [],
   "source": [
    "!python -m spacy download __________"
   ]
  },
  {
   "cell_type": "markdown",
   "metadata": {},
   "source": [
    "Nous pouvons à présent charger ce nouveau modèle à l'aide de la commande [`spacy.load(NOM_DU_MODÈLE)`](https://spacy.io/api/top-level#spacy.load)."
   ]
  },
  {
   "cell_type": "markdown",
   "metadata": {},
   "source": [
    "#### 🏗️ Complétez la cellule suivante pour charger le modèle que vous venez de télécharger.\n",
    "\n",
    "<details>\n",
    "<summary>Solution</summary>\n",
    "\n",
    "```python\n",
    "nlp = spacy.load(\"fr_core_news_sm\")\n",
    "````\n",
    "</details>\n"
   ]
  },
  {
   "cell_type": "code",
   "execution_count": null,
   "metadata": {},
   "outputs": [],
   "source": [
    "nlp = spacy.load(________)"
   ]
  },
  {
   "cell_type": "markdown",
   "metadata": {},
   "source": [
    "#### 🏗️ Exécutez à présent la cellule suivante pour vérifier que nous disposons bien de nouveau composants"
   ]
  },
  {
   "cell_type": "code",
   "execution_count": null,
   "metadata": {},
   "outputs": [],
   "source": [
    "nlp.pipe_names"
   ]
  },
  {
   "attachments": {},
   "cell_type": "markdown",
   "metadata": {},
   "source": [
    "### 3.2 Premiers pas avec un modèle sur étagère 📦"
   ]
  },
  {
   "cell_type": "markdown",
   "metadata": {},
   "source": [
    "Nous pouvons à présent utiliser notre modèle pour extraire des informations plus intéressantes d'un texte, comme de l'[étiquetage morpho-syntaxique](https://fr.wikipedia.org/wiki/%C3%89tiquetage_morpho-syntaxique), aussi appelé étiquetage grammatical, ou *POS tagging* (*part-of-speech tagging*) en anglais, pour jouer un peu avant de nous recentrer sur la reconnaissance d'entités nommées."
   ]
  },
  {
   "cell_type": "code",
   "execution_count": null,
   "metadata": {},
   "outputs": [],
   "source": [
    "# POS tagging example\n",
    "doc = nlp(\"La journée de formation à Lyon se déroule bien.\")\n",
    "print(f\"{'Token':>10s}\", f\"{'POS':>6s}\", f\"{'Synt. dep. rel.':>18s}\", f\"{'Synt. parent':>15s}\")\n",
    "print(\"-\"*50)\n",
    "for token in doc:\n",
    "    print(f\"{token.text:>10s}\", f\"{token.pos_:>6s}\", f\"{token.dep_:>18s}\", f\"{token.head.text:>15s}\")"
   ]
  },
  {
   "cell_type": "markdown",
   "metadata": {},
   "source": [
    "🤓 Pourquoi certains [attributs des tokens](https://spacy.io/api/token#attributes) terminent-ils par un `_` ?  \n",
    "C'est parce que la valeur de base (sans le `_`) est un identifiant (un nombre entier) qui pointe vers une case d'un grand dictionnaire d'éléments connus. C'est une façon efficace, mais peu lisible, de stocker l'information. D'où la variante lisible !"
   ]
  },
  {
   "attachments": {},
   "cell_type": "markdown",
   "metadata": {},
   "source": [
    "Il est également possible de demander à spaCy des explications sur un terme utilisé à l'aide de la fonction `spacy.explain()`.\n",
    "\n",
    "Vous pouvez modifier la cellule ci-dessous pour obtenir plus d'information sur un terme si vous le souhaitez."
   ]
  },
  {
   "cell_type": "code",
   "execution_count": null,
   "metadata": {},
   "outputs": [],
   "source": [
    "spacy.explain(\"advmod\")"
   ]
  },
  {
   "attachments": {},
   "cell_type": "markdown",
   "metadata": {},
   "source": [
    "### 3.3 Reconnaissance d'entités nommées"
   ]
  },
  {
   "cell_type": "markdown",
   "metadata": {},
   "source": [
    "Voici une nouvelle phrase qui contient deux entités classiques : une **personne** (à laquelle correspondra l'étiquette `PER`) et un **lieu** (qui sera repéré par l'étiquette `LOC`)."
   ]
  },
  {
   "cell_type": "markdown",
   "metadata": {},
   "source": [
    "#### 🏗️ Analysons-la avec notre nouveau modèle !\n",
    "Exécutez la cellule ci-dessous."
   ]
  },
  {
   "cell_type": "code",
   "execution_count": null,
   "metadata": {},
   "outputs": [],
   "source": [
    "doc = nlp(\"Joseph est venu en train à Lyon.\")"
   ]
  },
  {
   "cell_type": "markdown",
   "metadata": {},
   "source": [
    "Bien qu'on puisse lire la valeur de l'attribut `ent_type_` de chaque objet [`Token`](https://spacy.io/api/token#attributes), il est souvent plus pratique de ne lister que les entités nommées détectées dans un document. De plus, certaines entités peuvent contenir plusieurs *tokens*, ce qui rend leur extraction manuelle plus délicate !\n",
    "\n",
    "Heureusement, l'objet [`Doc`](https://spacy.io/api/doc) dispose d'une propriété [`Doc.ents`](https://spacy.io/api/doc#ents) qui renvoie une liste d'objets [`Span`](https://spacy.io/api/span) qui représentent les positions des entités et les étiquettes (*labels*) qui leur sont associés."
   ]
  },
  {
   "cell_type": "markdown",
   "metadata": {},
   "source": [
    "#### 🏗️ Complétez le code de la cellule ci-dessous pour afficher le texte et le *label* de chaque entité\n",
    "- Utilisez les attributs `start`, `end` de chaque `Span` pour sélectionner le fragment de document couvert à l'aide d'un *range* Python\n",
    "- Utiliser leur attribut `label_` pour afficher le type d'entité détecté sous forme textuelle\n",
    "\n",
    "<details>\n",
    "<summary>Solution</summary>\n",
    "\n",
    "```python\n",
    "for ent in doc.ents:\n",
    "    print(doc[ent.start:ent.end], ent.label_)\n",
    "```\n",
    "</details>\n"
   ]
  },
  {
   "cell_type": "code",
   "execution_count": null,
   "metadata": {},
   "outputs": [],
   "source": [
    "for ent in doc.____:\n",
    "    print(doc[____:____], ____)"
   ]
  },
  {
   "attachments": {},
   "cell_type": "markdown",
   "metadata": {},
   "source": [
    "### 3.4 Visualisation\n"
   ]
  },
  {
   "attachments": {},
   "cell_type": "markdown",
   "metadata": {},
   "source": [
    "spaCy dispose d'un moteur de visualisation très pratique, qui produit de très jolis résultats.\n",
    "\n",
    "Il est utilisable via le module [`displacy`](https://spacy.io/universe/project/displacy) qui permet de visualiser les informations extraites d'un document, en particulier les [entités nommées](https://spacy.io/usage/visualizers#ent).\n",
    "\n",
    "Encore mieux, il peut être [utilisé dans un notebook](https://spacy.io/usage/visualizers#jupyter) !"
   ]
  },
  {
   "cell_type": "code",
   "execution_count": null,
   "metadata": {},
   "outputs": [],
   "source": [
    "from spacy import displacy\n",
    "displacy.render(doc, style=\"ent\", jupyter=True)"
   ]
  },
  {
   "cell_type": "markdown",
   "metadata": {},
   "source": [
    "🤓 Vous pouvez même modifier le style d'affichage en indiquant `\"dep\"` pour afficher le graphe de dépendances syntaxiques de notre document."
   ]
  },
  {
   "cell_type": "code",
   "execution_count": null,
   "metadata": {
    "tags": [
     "treacher"
    ]
   },
   "outputs": [],
   "source": [
    "displacy.render(doc, style=\"dep\", jupyter=True)"
   ]
  },
  {
   "attachments": {},
   "cell_type": "markdown",
   "metadata": {},
   "source": [
    "## 4. Traiter les données de notre corpus d'exemple — *⏱️ 5 mn*"
   ]
  },
  {
   "attachments": {},
   "cell_type": "markdown",
   "metadata": {},
   "source": [
    "Nous allons à présent utiliser notre modèle pour traiter les données de notre corpus et réaliser une première analyse qualitative superficielle des résultats produits.\n",
    "\n",
    "Pour vous illustrer la procédure à suivre avec vos propres données, nous allons vous montrer comment accéder à une collection de fichiers texte :\n",
    "1. si vous utilisez **Google Colab**, en utilisant le contenu d'un de vos dossiers Google Drive,\n",
    "2. si vous utilisez **votre propre machine**, en indiquant simplement le chemin vers lequel les fichiers sont stockés.\n",
    "\n",
    "Ces deux cas sont assez semblables, la seule différence est qu'avec Google Colab, vous utiliser une machine virtuelle distance, et que vous ne pouvez contrôler cette dernière que par l'intermédiaire de l'interface de Colab (un notebook amélioré)."
   ]
  },
  {
   "attachments": {},
   "cell_type": "markdown",
   "metadata": {},
   "source": [
    "#### 🛠️ Récupérer des fichiers intéressants sur votre machine\n",
    "Vous allez télécharger le jeu de données original “[French ELTEC NER Open Dataset](http://hdl.handle.net/20.500.11752/OPEN-986)” par Carmen Brando, Francesca Frontini, et Ioana Galleron.\n",
    "\n",
    "[![📦 Cliquez ici pour télécharger le jeu de données](https://img.shields.io/badge/%F0%9F%93%A6-Cliquez_ici_pour_t%C3%A9l%C3%A9charger_le_jeu_de_donn%C3%A9es-blue)](https://dspace-clarin-it.ilc.cnr.it/repository/xmlui/bitstream/handle/20.500.11752/OPEN-986/French_ELTEC_NER_Open_Dataset.zip) et enregistrez-le quelque-part sur votre ordinateur personnel."
   ]
  },
  {
   "attachments": {},
   "cell_type": "markdown",
   "metadata": {},
   "source": [
    "### 4.1 Utiliser Drive pour envoyer des fichiers sur Colab\n",
    "**Si vous exécutez votre *notebook* sur votre propre machine, vous pouvez passer cette partie.**\n",
    "\n",
    "À présent, copiez le fichier Zip téléchargé dans un dossier de votre choix (par exemple \"Formation Ariane\") de votre Drive.\n",
    "\n",
    "Nous sommes maintenant prêts à \"monter\" votre Drive sur la machine virtuelle que vous utilisez sur Google Colab."
   ]
  },
  {
   "attachments": {},
   "cell_type": "markdown",
   "metadata": {},
   "source": [
    "#### 🛠️ Complétez et exécutez la cellule ci-dessous et autorisez Colab à accéder à votre Drive\n",
    "Une fois cette opération réalisée, votre machine virtuelle Google Colab pourra accéder au fichier que vous venez de déposer."
   ]
  },
  {
   "cell_type": "code",
   "execution_count": null,
   "metadata": {},
   "outputs": [],
   "source": [
    "# Mount drive\n",
    "from google.colab import drive\n",
    "drive.mount('/gdrive')\n",
    "\n",
    "# COMPLÉTEZ CETTE LIGNE AVEC LE NOM DU DOSSIER DANS LEQUEL VOUS AVEZ DÉPOSÉ VOTRE FICHIER\n",
    "# > just access \"/gdrive/My Drive/...\"\n",
    "FOLDER_NAME = \"Formation Ariane\"  # 👈👈👈\n",
    "\n",
    "# Si vous avez changé le nom du fichier, vous pouvez l'indiquer ici\n",
    "ZIP_FILENAME = \"French_ELTEC_NER_Open_Dataset.zip\"\n",
    "\n",
    "# On vérifie qu'on arrive bien à accéder au fichier\n",
    "import os.path\n",
    "dataset_zip_path = f\"/gdrive/My Drive/{FOLDER_NAME}/{ZIP_FILENAME}\"\n",
    "if os.path.exists(dataset_zip_path):\n",
    "    print(\"Fichier bien trouvé !\")\n",
    "else:\n",
    "    err_msg = f\"Erreur, le fichier n'a pas été trouvé au chemin '{dataset_zip_path}'.\"\n",
    "    print(err_msg)\n",
    "    raise ValueError(err_msg)\n",
    "dataset_destination_dir = \"./dataset/\""
   ]
  },
  {
   "attachments": {},
   "cell_type": "markdown",
   "metadata": {},
   "source": [
    "#### ⚠️ Si vous travaillez sur votre machine personnelle, dé-commentez, modifiez et exécutez la cellule suivante\n",
    "Ceci nous servira à indiquer :\n",
    "1. où est rangé le fichier ZIP contenant le jeu de données\n",
    "2. où il faudra décompresser les fichiers qu'il contient"
   ]
  },
  {
   "cell_type": "code",
   "execution_count": null,
   "metadata": {},
   "outputs": [],
   "source": [
    "# dataset_zip_path = \"/home/jchazalo/Downloads/French_ELTEC_NER_Open_Dataset.zip\"\n",
    "# dataset_destination_dir = \"/home/jchazalo/tmp/datasets\""
   ]
  },
  {
   "attachments": {},
   "cell_type": "markdown",
   "metadata": {},
   "source": [
    "### 4.2 Décompresser les fichiers\n",
    "Afin de faciliter l'accès aux différents fichiers, nous allons à présent décompresser les fichiers du jeu de données.\n",
    "\n",
    "Nous allons utiliser les 100 fichiers texte extraits de romans du 19e siècle."
   ]
  },
  {
   "attachments": {},
   "cell_type": "markdown",
   "metadata": {},
   "source": [
    "#### 🛠️ Exécutez la cellule suivante et vérifiez qu'aucune erreur n'est rencontrée"
   ]
  },
  {
   "cell_type": "code",
   "execution_count": null,
   "metadata": {},
   "outputs": [],
   "source": [
    "# On commence par vérifier qu'on trouve bien le fichier et que son contenu n'a pas été altéré\n",
    "!echo \"7dc395be9d84ac481ff6cf0a726862b66967898986f387dd5659d554394101d6  {dataset_zip_path}\" | sha256sum -c -\n",
    "# On vérifie que le répertoire de destination existe et on le crée sinon\n",
    "!mkdir -p \"{dataset_destination_dir}\"\n",
    "# On décompresse le fichier dans le répertoire de destination\n",
    "!unzip \"{dataset_zip_path}\" -d \"{dataset_destination_dir}\"\n",
    "# On liste le contenu du répertoire de destination : on s'attend à trouver le répertoire \"French_ELTEC_NER_Open_Dataset/texts\" et à ce qu'il contienne des fichiers texte\n",
    "!ls -lA \"{dataset_destination_dir}/French_ELTEC_NER_Open_Dataset/texts\""
   ]
  },
  {
   "attachments": {},
   "cell_type": "markdown",
   "metadata": {},
   "source": [
    "Parfait ! Nous avons des fichiers prêts à être traités 🦾 !"
   ]
  },
  {
   "attachments": {},
   "cell_type": "markdown",
   "metadata": {},
   "source": [
    "### 4.3 Construire une liste de fichiers à traiter\n",
    "\n",
    "Nous allons devoir charger chacun des fichiers du corpus et les passer à notre modèle de langue `nlp`.\n",
    "\n",
    "Nous allons procéder de la façon suivante :\n",
    "\n",
    "1. nous allons construire la liste des chemins vers chacun de ces fichiers à traiter\n",
    "2. nous allons définir une fonction qui permet de charger le contenu de ces fichiers\n",
    "3. nous allons regarder les résultats pour quelques fichiers\n",
    "4. finalement nous allons appeler notre modèle de langue avec le contenu de chacun de ces fichiers, pour stocker les entités détectées dans une grande liste"
   ]
  },
  {
   "attachments": {},
   "cell_type": "markdown",
   "metadata": {},
   "source": [
    "Pour lister les fichiers, nous allons utiliser le module Python [`glob`](https://docs.python.org/3/library/glob.html) qui permet d'obtenir une liste de fichier à partir d'un motif.\n",
    "\n",
    "Nous allons utiliser un motif simple en indiquant un caractère joker `*` pour indiquer que n'importe quel caractère peut être trouvé à cette position."
   ]
  },
  {
   "attachments": {},
   "cell_type": "markdown",
   "metadata": {},
   "source": [
    "#### 🛠️ Corrigez l'extension des fichiers à trouver dans la cellule suivante pour collecter la liste des fichiers texte à traiter\n",
    "Nous allons afficher le contenu de cette liste pour vérifier que nous avons bien trouvé les fichiers à traiter.\n",
    "\n",
    "<details>\n",
    "<summary>Solution</summary>\n",
    "\n",
    "Remplacez le `*.json` par `*.txt`.\n",
    "\n",
    "</details>"
   ]
  },
  {
   "cell_type": "code",
   "execution_count": null,
   "metadata": {},
   "outputs": [],
   "source": [
    "from glob import glob\n",
    "text_file_paths = glob(f\"{dataset_destination_dir}/French_ELTEC_NER_Open_Dataset/texts/*.json\")\n",
    "text_file_paths"
   ]
  },
  {
   "attachments": {},
   "cell_type": "markdown",
   "metadata": {},
   "source": [
    "#### 🛠️ Complétez la cellule suivante pour vérifier que nous avons bien trouvé 100 fichiers\n",
    "<details>\n",
    "<summary>Indice</summary>\n",
    "Vérifiez que la liste des noms de fichiers contient bien 100 éléments.\n",
    "</details>\n",
    "<br>\n",
    "<details>\n",
    "<summary>Solution</summary>\n",
    "\n",
    "```python\n",
    "len(text_file_paths)\n",
    "```\n",
    "</details>"
   ]
  },
  {
   "cell_type": "code",
   "execution_count": null,
   "metadata": {},
   "outputs": [],
   "source": [
    "___(text_file_paths)"
   ]
  },
  {
   "attachments": {},
   "cell_type": "markdown",
   "metadata": {},
   "source": [
    "### 4.4 Observation des résultats pour quelques textes\n",
    "Avant de traiter les données, nous allons vérifier que le modèle de langue produit des résultats raisonnables sur quelques exemples.\n",
    "\n",
    "Si ces résultats sont satisfaisants, alors nous pourrons lancer un traitement plus large, et, plus tard, mesurer la performance de façon objective sur un échantillon représentatif, de taille suffisante, annoté de façon fiable."
   ]
  },
  {
   "cell_type": "markdown",
   "metadata": {},
   "source": [
    "Pour vous aider, voici une fonction `load_text(filename)` qui prend en paramètre un chemin vers un fichier texte et renvoie la (longue) chaîne de caractères de son contenu."
   ]
  },
  {
   "cell_type": "code",
   "execution_count": null,
   "metadata": {},
   "outputs": [],
   "source": [
    "def load_text(filename: str) -> str:\n",
    "    \"\"\"Loads and returns the content of a text file.\n",
    "\n",
    "    Args:\n",
    "        filename (str): Path to the text file\n",
    "\n",
    "    Returns:\n",
    "        str: String representation of the content of the file. Newlines are preserved.\n",
    "    \"\"\"\n",
    "    with open(filename, encoding=\"utf8\") as in_file:\n",
    "        return \"\".join(in_file.readlines())"
   ]
  },
  {
   "attachments": {},
   "cell_type": "markdown",
   "metadata": {},
   "source": [
    "#### 🛠️ Compléter la cellule suivante pour traiter et visualiser les entités extraites d'un texte de votre choix\n",
    "Si nécessaire, consultez les étapes précédentes pour retrouver les opérations réalisées.\n",
    "\n",
    "Rappel : la variable qui pointe vers notre modèle de langue s'appelle `nlp`.\n",
    "\n",
    "<details>\n",
    "<summary>Solution</summary>\n",
    "\n",
    "```python\n",
    "some_filename = text_file_paths[10]\n",
    "some_text = load_text(some_filename)\n",
    "some_doc = nlp(some_text)\n",
    "displacy.render(some_doc, style=\"ent\", jupyter=True)\n",
    "```\n",
    "</details>"
   ]
  },
  {
   "cell_type": "code",
   "execution_count": null,
   "metadata": {},
   "outputs": [],
   "source": [
    "# On choisit un fichier parmi la liste des fichiers disponibles\n",
    "some_filename = text_file_paths[10]\n",
    "# On charge son contenu\n",
    "some_text = load_text(____)\n",
    "# On applique notre modèle de langue pour extraire des entités nommées (entre autres)\n",
    "some_doc = ___(____)\n",
    "# On utilise displaCy pour visualiser les entités nommées détectées dans ce texte\n",
    "____.render(____, style=____, jupyter=True)"
   ]
  },
  {
   "attachments": {},
   "cell_type": "markdown",
   "metadata": {},
   "source": [
    "**Qu'en pensez-vous ?**  \n",
    "— Pas si mal, à première vue, pour un modèle de langue minimaliste !"
   ]
  },
  {
   "attachments": {},
   "cell_type": "markdown",
   "metadata": {},
   "source": [
    "### 4.5 Traiter les données de façon massive\n",
    "\n",
    "Nous allons traiter chacun des textes et récupérer le texte des entités nommées de type \"`LOC`\" pour les ajouter à une liste.\n",
    "\n",
    "Cette liste contiendra des éléments qui nous intéressent (comment \"Paris\", \"Bretagne\"), ne contiendra pas quelques éléments manqués, et contiendra en plus quelques éléments de bruit faussement détectés comme des entités de type `LOC`.\n",
    "\n",
    "Afin de diminuer le plus possible le temps de calcul, nous allons réaliser un certain nombre d'optimisations :\n",
    "\n",
    "- nous allons charger les fichiers texte à la demande pour limiter l'utilisation de la mémoire de la machine et commencer à les analyser dès qu'ils sont chargés (au lieu d'attendre de tous les charger) → utilisation d'un générateur Python\n",
    "- nous allons temporairement [limiter les composants actifs de notre modèle de langue](https://spacy.io/usage/processing-pipelines#disabling) afin de ne calculer que les éléments nécessaires à la reconnaissance d'entités nommées → utilisation du *context manager* [`Language.select_pipes()`](https://spacy.io/api/language#select_pipes),\n",
    "- nous allons utiliser la fonctionnalité de traitement à la volée de spaCy pour accélérer les calculs et limiter l'utilisation de la mémoire → méthode [`Language.pipe()`](https://spacy.io/api/language#pipe),\n",
    "- nous allons analyser les documents au fur et à mesure de leur analyse pour en extraire les entités qui nous intéressent → parcours des éléments [`Doc.ents`](https://spacy.io/api/doc#ents) et sélection des éléments dont l'attribut [`Span.label_`](https://spacy.io/api/span#attributes) nous convient,\n",
    "- et finalement nous ne stockerons que le texte des entités nommées, et non l'objet [`Span`](https://spacy.io/api/span) complet qui contient une référence vers tout le texte du document, afin de limiter l'utilisation mémoire.\n",
    "\n"
   ]
  },
  {
   "attachments": {},
   "cell_type": "markdown",
   "metadata": {},
   "source": [
    "#### 🛠️ Compléter la cellule suivante pour traiter tous les fichiers texte du corpus\n",
    "Rappel : la variable qui pointe vers notre modèle de langue s'appelle `nlp`.\n",
    "\n",
    "Convention : nous définissons une variable `all_loc_entities: list[str]` qui contiendra le texte de toutes nos entités.\n",
    "\n",
    "<details>\n",
    "<summary>Solution</summary>\n",
    "\n",
    "```python\n",
    "texts = (load_text(filename) for filename in text_file_paths)\n",
    "all_loc_entities: list[str] = []\n",
    "with nlp.select_pipes(enable=\"ner\"):\n",
    "    for doc in nlp.pipe(texts):\n",
    "        for ent in doc.ents:\n",
    "            if ent.label_ == \"LOC\":\n",
    "                all_loc_entities.append(ent.text)\n",
    "```\n",
    "</details>"
   ]
  },
  {
   "cell_type": "code",
   "execution_count": null,
   "metadata": {},
   "outputs": [],
   "source": [
    "%%time\n",
    "# ↑ l'instruction ci-dessus sert à mesurer le temps d'exécution de la cellule courante\n",
    "texts = (load_text(filename) for filename in text_file_paths)  # on charge les fichiers à la demande avec un générateur\n",
    "all_loc_entities: list[str] = []  # la liste qui va stocker nos résultats : une simple liste d'entités nommées\n",
    "with nlp.____(enable=____):  # on restreint les calculs au composant \"ner\" exclusivement pour aller plus vite\n",
    "    for doc in nlp.____(texts):  # on utilise le traitement à la volée\n",
    "        for ent in doc.____:  # on parcourt les entités du document\n",
    "            if ent.label_ == ____:  # on ne conserve que les entités du type qui nous intéresse\n",
    "                all_loc_entities.append(ent.____)  # on ne conserve que le texte et pas toute l'entité pour éviter de garder le document en mémoire\n",
    "# On affiche le nombre d'entités nommées trouvées\n",
    "len(all_loc_entities)"
   ]
  },
  {
   "cell_type": "code",
   "execution_count": null,
   "metadata": {},
   "outputs": [],
   "source": [
    "# Voici les premiers éléments de cette grande liste\n",
    "all_loc_entities[:10]"
   ]
  },
  {
   "attachments": {},
   "cell_type": "markdown",
   "metadata": {},
   "source": [
    "### ⏰ Où en êtes-vous ?\n",
    "\n",
    "**Si vous n'avez pas le temps d'aller plus loin, ce n'est pas grave** : vous pourrez finir cette activité chez vous.\n",
    "🎉 Vous avez déjà réussi à produire des données dans un format qui peut être utile pour une analyse ultérieure.\n",
    "**Vous pouvez passer directement à l'étape 8 d'export des données** pour avoir une vision complète de la phase d'extraction de données.\n",
    "\n",
    "🤓 Dans ce qui suit, nous allons essayer d'aller plus loin pour :\n",
    "- mettre en place un protocole d'évaluation rigoureux nous permettant de comparer la performance de différents modèles (et ne pas nous contenter du modèle le plus léger de spaCy)\n",
    "- entraîner un modèle spécialisé pour l'analyse de nos données, en vérifiant bien qu'il nous apporte un gain par rapport aux modèles existants !"
   ]
  },
  {
   "attachments": {},
   "cell_type": "markdown",
   "metadata": {},
   "source": [
    "## 5. Évaluer objectivement la performance d'un modèle de langage — *⏱️ 5 mn*"
   ]
  },
  {
   "attachments": {},
   "cell_type": "markdown",
   "metadata": {},
   "source": [
    "### 5.1 Un problème de détection\n",
    "\n",
    "Dans le cas de la reconnaissance d'entités nommées, le problème est généralement considéré comme un problème de **détection**, c'est-à-dire qu'il s'agit de repérer la position et le type de données d'intérêt dans un ensemble de données : texte, image, son…\n",
    "\n",
    "Détecter un élément dans du texte revient à identifier :\n",
    "- sa position initiale,\n",
    "- sa position finale,\n",
    "- son type.\n",
    "\n",
    "C'est exactement pour décrire ce type d'objet que les [`Span`](https://spacy.io/api/span) existent : leurs attributs `start`, `end` et `label_` contiennent ces informations.\n",
    "\n",
    "L'exemple ci-dessous montre comment :\n",
    "1. créer un document sans en extraire aucune autre information que les *tokens* grâce à la méthode [`Language.make_doc(text)`](https://spacy.io/api/Language#attributes)\n",
    "2. créer un objet [`Span`](https://spacy.io/api/Span#init) avec les paramètres utiles :\n",
    "   - les positions correspondent au caractère (ou token) de début, et au caractère (ou token) après la fin, indexées à partir de 0\n",
    "   - la valeur de son étiquette."
   ]
  },
  {
   "cell_type": "code",
   "execution_count": null,
   "metadata": {},
   "outputs": [],
   "source": [
    "# Exemple 1 avec `Doc.char_span` \n",
    "# → les positions sont correspondent à des caractères !\n",
    "doc = nlp.make_doc(\"Il est parti de Paris tôt ce matin.\")\n",
    "span = doc.char_span(16, 21, label=\"LOC\")  \n",
    "span  # on affiche l'objet créé pour vérifier qu'on a saisi les bonnes valeurs !"
   ]
  },
  {
   "cell_type": "code",
   "execution_count": null,
   "metadata": {},
   "outputs": [],
   "source": [
    "# Exemple 1 avec la construction directe d'un `Span`\n",
    "# → c'est pratique car les positions correspondent aux tokens : plus facile à saisir\n",
    "# → mais il faut indiquer le document auquel on fait référence\n",
    "from spacy.tokens import Span\n",
    "doc = nlp.make_doc(\"Il est parti de Paris tôt ce matin.\")\n",
    "span = Span(doc, 4, 5, label=\"LOC\")\n",
    "span  # on affiche l'objet créé pour vérifier qu'on a saisi les bonnes valeurs !"
   ]
  },
  {
   "attachments": {},
   "cell_type": "markdown",
   "metadata": {},
   "source": [
    "### 5.2 Bases théoriques\n",
    "\n",
    "Pour évaluer objectivement la performance d'un système de traitement de données, il nous faut 3 choses :\n",
    "1. un **ensemble de couples (données d'entrée, donnée idéale de sortie)** — exemple : un texte et la liste des positions et types des entités nommées à détecter\n",
    "2. les **données produites par le système** à évaluer pour chacune des données d'entrée de l'ensemble précédent\n",
    "3. une **mesure permettant de comparer** les données produites et les données attendues\n",
    "\n",
    "Nous venons de voir qu'il est possible de représenter les données produites (on dit plus souvent *\"prédites\"*) et les données attendues à l'aide de d'objets [`Span`](https://spacy.io/api/Span#init).\n",
    "\n",
    "Mais **comment les comparer**, et surtout **calculer une valeur qui résume la ressemblance entre deux ensembles** de positions et types prédits ou attendus ?\n",
    "\n",
    "C'est très simple en réalité, car le problème de détection dispose de mesures standard et fiables :\n",
    "- la [**précision**](https://en.wikipedia.org/wiki/Precision_and_recall), notée $P$, qui mesure la quantité de bruit dans les résultats.\n",
    "  Elle est définie comme  \n",
    "  $$P = \\frac{\\text{nombre d'éléments corrects}}{\\text{nombre d'éléments détectés}}$$\n",
    "- le [**rappel**](https://en.wikipedia.org/wiki/Precision_and_recall), noté $R$, qui mesure la proportion d'éléments manqués dans les résultats.\n",
    "  Il est défini comme  \n",
    "  $$R = \\frac{\\text{nombre d'éléments corrects}}{\\text{nombre d'éléments attendus}}$$\n",
    "- le [**F-score**](https://en.wikipedia.org/wiki/F-score), noté $F$, qui synthétise ces deux indicateurs en calculant leur moyenne harmonique.\n",
    "  Il est défini par \n",
    "  $$F = 2 \\times \\frac{P \\times R}{P + R}$$\n",
    "\n",
    "Pour chacune de ces mesures, la **valeur minimale (pire cas) est $0$**, et la **valeur maximale (détection parfaite) est $1$**.\n",
    "Il est courant d'indiquer des pourcentages lorsqu'on parle de ces valeurs (il suffit de les multiplier par 100).\n",
    "\n",
    "#### 🧐 Bon, tout ça c'est bien joli, mais comment fait-on pour **savoir qu'un élément prédit correspond à un élément attendu** ?\n",
    "Dans notre cas, c'est très simple ! Il suffit de considérer que les éléments doivent avoir **exactement la même position et la même étiquette.** Si un élément attendu n'a aucune correspondance, alors on dit qu'il a été manqué, et au contraire si un élément prédit ne correspond à aucun élément attendu, alors on dit qu'il s'agit d'une fausse détection (on dit aussi \"du bruit\").\n",
    "\n",
    "#### Mesures par classe\n",
    "En général, on s'intéresse à un type de données particulier, aussi les outils de mesure rapportent généralement les mesures de précision, rappel et F-score pour chaque classe (par exemple \"LOC\"). Il s'agit du même calcul que précédemment, mais en restreignant les éléments considérés à un type d'étiquette précis.\n",
    "\n",
    "#### 🤓 Bon à savoir : on donne de multiples noms aux données attendues :\n",
    "- données cibles (*targets*)\n",
    "- vérité terrain (*ground truth*)\n",
    "- valeurs de référence (*gold standard*)\n",
    "- …"
   ]
  },
  {
   "attachments": {},
   "cell_type": "markdown",
   "metadata": {},
   "source": [
    "### 5.3 Place à la pratique !\n",
    "Nous allons générer des données prédites et des données de référence factices pour quelques fragments de texte simplistes, et nous allons calculer les différents scores pour chacun d'entre eux, de manière à comprendre le comportement de la précision, du rappel et du F-score (celui qui nous intéresse le plus).\n",
    "\n",
    "Avant de réaliser des mesures, nous avons besoin de comprendre le rôle de deux types d'objets spaCy supplémentaires :\n",
    "- [`Scorer`](https://spacy.io/api/scorer) : il est responsable de la **comparaison entre les documents de référence et les documents prédits**. Il renvoie les mesures pour toutes les données disponibles (donc pas seulement le NER si on ne précise rien). Dans notre cas, nous utiliserons la méthode [`Scorer.score_spans(examples, \"ents\")`](https://spacy.io/api/scorer#score_spans) qui nous permettra de restreindre l'évaluation aux entités nommées. L'utilisation typique sera la suivante :  \n",
    "    ```python\n",
    "    scorer = Scorer()\n",
    "    scores = Scorer.score_spans(examples, \"ents\")\n",
    "    ```\n",
    "- [`Example`](https://spacy.io/api/example) : on l'a vu dans l'exemple précédent : il faut des exemples pour appeler le `Scorer`. Ces exemples correspondent à des **paires de documents**, qui sont basés sur le **même texte** : un document contenant les **valeurs prédites**, et un document contenant les **valeurs de référence**. Pour construire un exemple, on a donc besoin de créer deux documents :\n",
    "    ```python\n",
    "    text = \"Bonjour de Lyon\"\n",
    "    doc_pred = nlp(text)\n",
    "    doc_ref = nlp.make_doc(text)\n",
    "    doc_ref.ents = [Span(doc_ref, 2, 3, \"LOC\")]\n",
    "    exemple = Example(doc_pred, doc_ref)\n",
    "    ```"
   ]
  },
  {
   "cell_type": "code",
   "execution_count": null,
   "metadata": {},
   "outputs": [],
   "source": [
    "from spacy.scorer import Scorer\n",
    "from spacy.training.example import Example"
   ]
  },
  {
   "cell_type": "markdown",
   "metadata": {},
   "source": [
    "#### 👷 Complétez les définitions des Spans ci-dessous pour constituer une vérité terrain parfaite\n",
    "\n",
    "<details>\n",
    "<summary>Solution</summary>\n",
    "\n",
    "```python\n",
    "doc1_ref.ents = [\n",
    "    Span(doc1_ref, 0, 1, label=\"PER\"),\n",
    "    Span(doc1_ref, 4, 5, label=\"LOC\"),\n",
    "    ]\n",
    "```\n",
    "</details>"
   ]
  },
  {
   "cell_type": "code",
   "execution_count": null,
   "metadata": {},
   "outputs": [],
   "source": [
    "# Exemple 1 : La référence et la prédiction coincident\n",
    "text1 = \"Alice est allée à Amsterdam l'an dernier et elle a trouvé les canaux magnifiques.\"\n",
    "doc1_ref = nlp.make_doc(text1)\n",
    "doc1_ref.ents = [\n",
    "    Span(_____, __, __, label=____),\n",
    "    Span(_____, __, __, label=____),\n",
    "    ]\n",
    "doc1_ref.ents  # On verifie"
   ]
  },
  {
   "cell_type": "markdown",
   "metadata": {},
   "source": [
    "#### 👷 Appelez à présent notre modèle de langue sur le même texte pour définir la prédiction\n",
    "\n",
    "<details>\n",
    "<summary>Solution</summary>\n",
    "\n",
    "```python\n",
    "doc1_pred = nlp(text1)\n",
    "```\n",
    "</details>"
   ]
  },
  {
   "cell_type": "code",
   "execution_count": null,
   "metadata": {},
   "outputs": [],
   "source": [
    "doc1_pred = ___(_____)  # Par chance, le modèle de base indique les bons résultats !\n",
    "doc1_pred.ents"
   ]
  },
  {
   "cell_type": "markdown",
   "metadata": {},
   "source": [
    "#### 👷 Créez à présent un `Example` qui contient les deux documents, et passez une __liste__ d'exemples au `Scorer`\n",
    "\n",
    "Faites attention à l'ordre des paramètres pour construire un [`Example`](https://spacy.io/api/example#init) : le premier est la prédiction, le second la référence.\n",
    "\n",
    "<details>\n",
    "<summary>Solution</summary>\n",
    "\n",
    "```python\n",
    "example = Example(doc1_pred, doc1_ref)\n",
    "scorer = Scorer()\n",
    "score = scorer.score_spans([example], attr=\"ents\")\n",
    "score\n",
    "```\n",
    "</details>"
   ]
  },
  {
   "cell_type": "code",
   "execution_count": null,
   "metadata": {},
   "outputs": [],
   "source": [
    "example = Example(_____, _____)\n",
    "scorer = Scorer()\n",
    "score = scorer.score_spans(_____, attr=\"ents\")\n",
    "score"
   ]
  },
  {
   "cell_type": "markdown",
   "metadata": {},
   "source": [
    "On doit vérifier que tous les indicateurs sont à 1 (la valeur maximale)."
   ]
  },
  {
   "cell_type": "markdown",
   "metadata": {},
   "source": [
    "À présent, nous pouvons adapter l'exemple précédent pour tester les cas suivants et observer l'impact sur les différents scores :\n",
    "- une entité attendue est manquée\n",
    "- une entité est prédite par erreur"
   ]
  },
  {
   "cell_type": "markdown",
   "metadata": {},
   "source": [
    "#### 👷 Adaptez le code suivant pour tester les cas que nous venons de mentionner\n",
    "\n",
    "Nous allons simuler des détections erronées plutôt que d'essayer de piéger le modèle de langue.\n",
    "\n",
    "Observez l'impact des oublis et des fausses détection sur la précision, le rappel et le F-score.\n",
    "\n",
    "<details>\n",
    "<summary>Solution cas 1</summary>\n",
    "\n",
    "```python\n",
    "text1 = \"Alice et Alex sont est allés à Amsterdam l'an dernier.\"\n",
    "doc1_ref = nlp.make_doc(text1)\n",
    "doc1_ref.ents = [\n",
    "    Span(doc1_ref, 0, 1, label=\"PER\"),\n",
    "    Span(doc1_ref, 2, 3, label=\"PER\"),\n",
    "    Span(doc1_ref, 7, 8, label=\"LOC\"),\n",
    "    ]\n",
    "# doc1_ref.ents  # On verifie\n",
    "doc1_pred = nlp.make_doc(text1)\n",
    "doc1_pred.ents = [\n",
    "    Span(doc1_ref, 0, 1, label=\"PER\"),  # Il manque Alex\n",
    "    Span(doc1_ref, 7, 8, label=\"LOC\"),\n",
    "    ]\n",
    "example1 = Example(doc1_pred, doc1_ref)\n",
    "scorer.score_spans([example1], attr=\"ents\")\n",
    "```\n",
    "</details>\n",
    "\n",
    "<br>\n",
    "\n",
    "<details>\n",
    "<summary>Solution cas 2</summary>\n",
    "\n",
    "```python\n",
    "text2 = \"Alice et Alex sont est allés à Amsterdam l'an dernier.\"\n",
    "doc2_ref = nlp.make_doc(text2)\n",
    "doc2_ref.ents = [\n",
    "    Span(doc2_ref, 0, 1, label=\"PER\"),\n",
    "    Span(doc2_ref, 2, 3, label=\"PER\"),\n",
    "    Span(doc2_ref, 7, 8, label=\"LOC\"),\n",
    "    ]\n",
    "# doc2_ref.ents  # On verifie\n",
    "doc2_pred = nlp.make_doc(text2)\n",
    "doc2_pred.ents = [\n",
    "    Span(doc2_ref, 0, 1, label=\"PER\"),\n",
    "    Span(doc2_ref, 2, 3, label=\"PER\"),\n",
    "    Span(doc2_ref, 7, 8, label=\"LOC\"),\n",
    "    Span(doc2_ref, 10, 11, label=\"LOC\"),  # \"dernier\" détecté par erreur\n",
    "    ]\n",
    "example2 = Example(doc2_pred, doc2_ref)\n",
    "scorer.score_spans([example2], attr=\"ents\")\n",
    "```\n",
    "</details>"
   ]
  },
  {
   "cell_type": "code",
   "execution_count": null,
   "metadata": {},
   "outputs": [],
   "source": [
    "# CAS 1 : UNE ENTITÉ ATTENDUE EST MANQUÉE\n",
    "text1 = \"Alice et Alex sont est allés à Amsterdam l'an dernier.\"\n",
    "doc1_ref = nlp.make_doc(text1)\n",
    "doc1_ref.ents = [\n",
    "    ___, \n",
    "    ...\n",
    "    ]\n",
    "# doc1_ref.ents  # On verifie\n",
    "doc1_pred = nlp.make_doc(text1)\n",
    "doc1_pred.ents = [\n",
    "    ___, \n",
    "    ...\n",
    "    ]\n",
    "example1 = Example(doc1_pred, doc1_ref)\n",
    "scorer.score_spans([example1], attr=\"ents\")"
   ]
  },
  {
   "cell_type": "code",
   "execution_count": null,
   "metadata": {},
   "outputs": [],
   "source": [
    "# CAS 2 : UNE ENTITÉ EST PRÉDITE PAR ERREUR\n",
    "text2 = \"Alice et Alex sont est allés à Amsterdam l'an dernier.\"\n",
    "doc2_ref = nlp.make_doc(text2)\n",
    "doc2_ref.ents = [\n",
    "    ___, \n",
    "    ...\n",
    "    ]\n",
    "# doc2_ref.ents  # On verifie\n",
    "doc2_pred = nlp.make_doc(text2)\n",
    "doc2_pred.ents = [\n",
    "    ___, \n",
    "    ...\n",
    "    ]\n",
    "example2 = Example(doc2_pred, doc2_ref)\n",
    "scorer.score_spans([example2], attr=\"ents\")"
   ]
  },
  {
   "attachments": {},
   "cell_type": "markdown",
   "metadata": {},
   "source": [
    "## 6. Annoter un jeu de données complet : aperçu du problème — *⏱️ 5 mn*\n"
   ]
  },
  {
   "attachments": {},
   "cell_type": "markdown",
   "metadata": {},
   "source": [
    "En général, on a besoin de constituer et d'annoter un nouveau de données pour (au moins) une des deux raisons suivantes :\n",
    "1. Pour **évaluer** rigoureusement la performance d'un ou plusieurs systèmes de traitement de données. Dans ce cas, on parle généralement de **jeu de test**, de **développement** ou de **validation** (notions voisines sans être exactement équivalentes). Il faut des données d'une quantité et d'une variété suffisantes pour que les résultats soient significatifs. Ce jeu de données ne peut pas contenir de données vues pendant l'entraînement.\n",
    "2. Pour **entraîner** ou **spécialiser** un modèle de langue basé sur une approche statistique. Dans ce cas, on parle de **jeu d'entraînement** (*\"train set\"*). On a généralement besoin d'une quantité de données plus importante pour permettre la stabilisation des paramètres statistiques du modèle. Ici aussi, ces données doivent être suffisamment variées pour permettre de capturer les subtilités des données à traiter, et assez représentatives pour capturer en priorité les généralités.\n",
    "\n",
    "\n",
    "Dans les 2 cas, comme nous n'avons vu dans la section précédente, il faut préparer :\n",
    "- des exemples de données d'entrée pour le système (échantillons de textes)\n",
    "- les sorties parfaites attendues pour ces données (dans le cas du NER, liste des entités — avec position et étiquette — à extraire).\n",
    "\n",
    "\n",
    "La façon la plus élémentaire de réaliser ce travail peut se décomposer en :\n",
    "1. **identifier** un groupe de textes à étiqueter,\n",
    "2. **importer** les textes dans un outil d'annotation et les **annoter**,\n",
    "3. **exporter** les données et les **convertir** dans un format adapté."
   ]
  },
  {
   "attachments": {},
   "cell_type": "markdown",
   "metadata": {},
   "source": [
    "\n",
    "### Quelques outils d'annotation\n",
    "- [ner-annotator](https://tecoholic.github.io/ner-annotator) : un petit outil libre et gratuit, très simple, qui a le mérite d'être rapide à utiliser pour illustrer la démarche.\n",
    "- [Brat](http://brat.nlplab.org/) : un outil libre et gratuit, plus complet, mais qui nécessite une installation.\n",
    "- [LabelStudio](https://labelstud.io/) : un outil autre libre et gratuit, assez complet, qui nécessite une installation mais peut aussi être utilisé en ligne.\n",
    "- [UniversalDataTool](https://universaldatatool.com) : un outil autre libre et gratuit, assez complet, qui nécessite une installation mais peut aussi être utilisé en ligne, et qui offre des fonctionnalités de collaboration.\n",
    "- [TagTog](https://www.tagtog.com/) : un outil en ligne payant, offrant de nombreuses fonctionnalités, mais qui ne semble plus trop maintenu.\n",
    "- [Prodigy](https://prodi.gy/) : un outil en ligne, payant, développé par les créateurs de spaCy, qui offre de nombreuses fonctionnalités."
   ]
  },
  {
   "attachments": {},
   "cell_type": "markdown",
   "metadata": {},
   "source": [
    "#### 🏗️ Place à la pratique !\n",
    "\n",
    "Pour appréhender rapidement les joies et peines de l'annotation, nous vous proposons d'annoter (au moins partiellement) un texte choisi au hasard parmi ceux du corpus.\n",
    "\n",
    "Vous pouvez soit sélectionner un des textes du corpus sur votre ordinateur, soit en télécharger un au hasard depuis la machine virtuelle Colab en exécutant la cellule ci-dessous.\n",
    "\n",
    "Ensuite, consultez la page <https://tecoholic.github.io/ner-annotator/> pour réaliser une annotation rapide :\n",
    "1. déposez votre fichier texte,\n",
    "2. configurer les tags à utiliser,\n",
    "3. annotez le texte,\n",
    "4. téléchargez vos annotations au format JSON, qui pourront facilement être [converties au format spaCy](https://spacy.io/api/data-formats#json-input)."
   ]
  },
  {
   "cell_type": "code",
   "execution_count": null,
   "metadata": {},
   "outputs": [],
   "source": [
    "# Download a file from the VM\n",
    "from google.colab import files\n",
    "files.download(text_file_paths[10])"
   ]
  },
  {
   "cell_type": "markdown",
   "metadata": {},
   "source": [
    "Bon à savoir : il existe plusieurs techniques pour prémâcher le travail :\n",
    "- utiliser un premier modèle de langue qui donne des résultats moyens, mais qui permet toutefois de gagner du temps (ce n'est pas toujours le cas)\n",
    "- chercher des motifs particuliers en utilisant un [`Matcher`](https://spacy.io/api/matcher) ; c'est rapide mais il faut avoir une bonne connaissance de notre corpus."
   ]
  },
  {
   "attachments": {},
   "cell_type": "markdown",
   "metadata": {},
   "source": [
    "### 🤓 Pour aller plus loin\n",
    "Voici quelques questions qu'on se pose généralement lorsqu'on démarre une campagne d'annotation.\n",
    "- Quelles étiquettes/labels utiliser ?\n",
    "- Quelles règles suivre, comment gérer les ambiguïtés ?\n",
    "- Comment distribuer le travail entre plusieurs annotateurs ? Comment assurer la cohérence entre le travail des différents annotateurs ?\n",
    "- Comment diffuser notre travail, le partager, quelle licence utiliser ?\n",
    "\n",
    "Toutes ces questions mériteraient un atelier dédié…\n",
    "\n",
    "*Sachez juste qu'il faut essayer de démarrer peu de données et valider l'intégralité du processus avant d'investir massivement dans un effort d'annotation.*"
   ]
  },
  {
   "attachments": {},
   "cell_type": "markdown",
   "metadata": {},
   "source": [
    "## 7. Entraîner un modèle spécialisé et comparer sa performance — *⏱️ 10 mn*\n",
    "\n",
    "Enfin, nous allons nous intéresser à l'entraînement d'un modèle spécialisé pour nos données.\n",
    "En effet, il est parfois possible de dépasser la performance des modèles \"sur étagère\" sur des cas particuliers mal gérés par des modèles généralistes.\n",
    "\n",
    "Nous allons utiliser des données d'entraînement et de test que nous avons préparées pour vous à partir du jeu de données “[French ELTEC NER Open Dataset](http://hdl.handle.net/20.500.11752/OPEN-986)”.\n",
    "Si vous le souhaitez, vous pourrez regarder plus tard comment nous avons procédé dans les [notebooks](https://github.com/jchazalon/hn-ariane-ner-tuto-2023/blob/main/preparation/2-preparation-nettoyage-donnees-export-json.ipynb) [dédiés](https://github.com/jchazalon/hn-ariane-ner-tuto-2023/blob/main/preparation/4-bench-mdls-convert-data-train-model.ipynb)."
   ]
  },
  {
   "cell_type": "markdown",
   "metadata": {},
   "source": [
    "Si vous utilisez Google Colab, vous devrez télécharger ces fichiers en exécutant la cellule suivante :"
   ]
  },
  {
   "cell_type": "markdown",
   "metadata": {},
   "source": [
    "#### 🚧 Exécutez la cellule suivante pour télécharger les jeux d'entraînement et de test"
   ]
  },
  {
   "cell_type": "code",
   "execution_count": null,
   "metadata": {},
   "outputs": [],
   "source": [
    "# Création du répertoire si nécessaire\n",
    "!mkdir -p ./dataset\n",
    "# Téléchargement du dataset\n",
    "!wget -O ./dataset/train.spacy https://github.com/jchazalon/hn-ariane-ner-tuto-2023/raw/main/dataset/train.spacy\n",
    "!wget -O ./dataset/test.spacy https://github.com/jchazalon/hn-ariane-ner-tuto-2023/raw/main/dataset/test.spacy"
   ]
  },
  {
   "attachments": {},
   "cell_type": "markdown",
   "metadata": {},
   "source": [
    "### 7.1 Évaluation des modèles disponibles\n",
    "\n",
    "Nous allons commencer par mesurer la performance des modèles déjà disponibles avant d'en entraîner un nouveau.\n",
    "\n",
    "Nous allons vous fournir deux éléments utiles :\n",
    "- un **jeu de test** `test_set` que nous utiliserons pour comparer les modèles (et qui ne sera pas utilisé pour entraîner notre modèle par la suite),\n",
    "- une **fonction d'évaluation** `evaluate(model, dataset)` qui permet d'évaluer un modèle sur un jeu de test."
   ]
  },
  {
   "attachments": {},
   "cell_type": "markdown",
   "metadata": {},
   "source": [
    "#### 🚧 À vous de jouer\n",
    "Comme indiqué dans [la documentation](https://spacy.io/models/fr), trois modèles en français sont disponibles pour reconnaître des entités nommées :\n",
    "- `fr_core_news_sm` : version *small*\n",
    "- `fr_core_news_md` : version *medium*\n",
    "- `fr_core_news_lg` : version *large*\n",
    "\n",
    "Utilisez la fonction `evaluate(model, dataset)` et le jeu de teste `train_set` fournis ci-après pour évaluer la performance de ces trois modèles.\n",
    "\n",
    "N'oubliez pas de :\n",
    "- télécharger ces modèles si c'est nécessaire avec la commande `!python -m spacy download NOM_DU_MODELE`\n",
    "- de charger ces modèles avec l'instruction `model = spacy.load(NUM_DU_MODELE)`\n",
    "\n",
    "<details>\n",
    "<summary>Solution</summary>\n",
    "\n",
    "```python\n",
    "models_to_test = (\"fr_core_news_sm\", \"fr_core_news_md\", \"fr_core_news_lg\")\n",
    "for model_name in models_to_test:\n",
    "    print(f\"Installing model '{model_name}'…\")\n",
    "    !python -m spacy download {model_name}\n",
    "for model_name in models_to_test:\n",
    "    print(f\"Try to load the model '{model_name}'…\")\n",
    "    model = spacy.load(model_name)\n",
    "    print(f\"Benchmarking the model '{model_name}' on our dataset…\")\n",
    "    scores = evaluate(model, test_set)\n",
    "    print(\"Scores:\", scores)\n",
    "    print(\"-\"*20)\n",
    "```\n",
    "</details>"
   ]
  },
  {
   "cell_type": "code",
   "execution_count": null,
   "metadata": {},
   "outputs": [],
   "source": [
    "from spacy.tokens import DocBin\n",
    "test_set = DocBin().from_disk(\"./dataset/test.spacy\")\n",
    "print(f\"Loaded a dataset with {len(test_set)} documents.\")"
   ]
  },
  {
   "cell_type": "code",
   "execution_count": null,
   "metadata": {},
   "outputs": [],
   "source": [
    "from typing import Iterable\n",
    "from spacy import Language\n",
    "from spacy.tokens import Doc\n",
    "from spacy.training import Example\n",
    "from spacy.scorer import Scorer\n",
    "def evaluate(ner_model: Language, dataset: Iterable[Doc], debug: bool=False) -> dict:\n",
    "    examples = []\n",
    "    for doc_ref in dataset.get_docs(ner_model.vocab):\n",
    "        text = doc_ref.text\n",
    "        # doc_pred = None\n",
    "        # with ner_model.select_pipes(enable=\"ner\"):  # does not work with trained model\n",
    "        #     doc_pred = ner_model(text)\n",
    "        doc_pred = ner_model(text)\n",
    "        if debug:\n",
    "            print(\"Pred.:\", [(ent.text, ent.label_) for ent in doc_pred.ents], \" ↔ Targ.:\", [(ent.text, ent.label_) for ent in doc_ref.ents])\n",
    "        example = Example(doc_pred, doc_ref)\n",
    "        examples.append(example)\n",
    "    \n",
    "    scorer = Scorer()\n",
    "    scores = scorer.score_spans(examples, \"ents\")\n",
    "    # print(scores[\"ents_f\"])\n",
    "    return scores"
   ]
  },
  {
   "cell_type": "code",
   "execution_count": null,
   "metadata": {},
   "outputs": [],
   "source": [
    "# Ajoutez votre code ici pour évaluer les différents modèles\n",
    "# N'hésitez pas à utiliser plusieurs cellules"
   ]
  },
  {
   "attachments": {},
   "cell_type": "markdown",
   "metadata": {},
   "source": [
    "Dans nos tests, nous avons obtenus les F-scores suivants pour les entités de types `LOC`, pouvez-vous retrouver des valeurs similaires dans vos résultats ?\n",
    "\n",
    "| Modèle | F-Score pour entités `LOC` |\n",
    "|--------|---------------------------:|\n",
    "| `fr_core_news_sm` | 58% |\n",
    "| `fr_core_news_md` | 65% |\n",
    "| `fr_core_news_lg` | 68% |"
   ]
  },
  {
   "attachments": {},
   "cell_type": "markdown",
   "metadata": {},
   "source": [
    "### 7.2 Entraînement d'un modèle léger *from scratch*\n",
    "\n",
    "Un entraînement *from scratch*, ou *à partir de rien*, consiste à apprendre un nouveau modèle depuis le début, sans aucune connaissance autre que le jeu d'entraînement.\n",
    "\n",
    "Par facilité, nous allons illustrer la capacité à entraîner ou améliorer des modèles existants de spaCy avec un entraînement de ce type, qui nécessite une dizaine de minutes de calcul sur un ordinateur portable.\n",
    "Bien entendu, d'autres techniques plus avancées sont possibles, et nous les présenterons rapidement à la fin de cette section.\n",
    "Notre motivation ici est de vous permettre de prendre en main ce processus, et de l'améliorer par vous-mêmes ensuite.\n",
    "\n",
    "Pour vous permettre d'entraîner votre modèle, nous vous fournissons un jeu d'entraînement qui contient 70% du jeu de données “[French ELTEC NER Open Dataset](http://hdl.handle.net/20.500.11752/OPEN-986)”, 30% ayant été réservés pour le jeu de test.\n",
    "\n",
    "Les fichiers correspondant aux *train* et *test* *sets* sont disponibles dans le répertoire `dataset/` :\n",
    "- `./dataset/train.spacy` : jeu d'entraînement (*train set*)\n",
    "- `./dataset/test.spacy` : jeu de test (*test set*, aussi appelé *dev set* ici)"
   ]
  },
  {
   "attachments": {},
   "cell_type": "markdown",
   "metadata": {},
   "source": [
    "Pour entraîner votre modèle avec spaCy, vous allez devoir réaliser les actions suivantes :\n",
    "1. Créer un fichier de configuration de base `base_config.cfg` à l'aide de l'assistant en ligne <https://spacy.io/usage/training#quickstart>,\n",
    "2. Compléter le fichier de configuration avec la commande [`!python -m spacy init fill-config ...`](https://spacy.io/api/cli#init-fill-config),\n",
    "3. Lancer l'entraînement avec la commande [`!python -m spacy train ...`](https://spacy.io/api/cli#train),\n",
    "4. Charger le modèle appris avec la fonction [`spacy.load()`](https://spacy.io/api/top-level#spacy.load), l'évaluer manuellement et l'utiliser sur un fichier jamais vu pendant l'entraînement.\n",
    "\n",
    "Nous stockerons tous les fichiers de configuration et les modèles générés dans le répertoire `training-scratch/` afin de centraliser l'information à propos de l'entraînement."
   ]
  },
  {
   "attachments": {},
   "cell_type": "markdown",
   "metadata": {},
   "source": [
    "#### 🚧 Créez un fichier de configuration à l'aide de l'assistant\n",
    "\n",
    "Visitez la page <https://spacy.io/usage/training#quickstart> et sélectionner les paramètres suivants :\n",
    "- Language: français\n",
    "- Composants: NER seul\n",
    "- Hardware: CPU dans le doute, GPU si vous disposez d'une machine avec un accélérateur GPU\n",
    "- Optimize for: efficiency (vous pourrez sélectionner \"accuracy\" si vous lancez un entraînement plus long)\n",
    "\n",
    "Ensuite, copiez-collez le contenu du fichier généré dans la cellule ci-dessous pour créer notre fichier de configuration.  \n",
    "Attention à ne remplacer que le texte entre les délimiteurs `-------8<---------8<----------`."
   ]
  },
  {
   "cell_type": "code",
   "execution_count": null,
   "metadata": {},
   "outputs": [],
   "source": [
    "%%bash\n",
    "mkdir -p training-scratch\n",
    "echo '\n",
    "# -------8<---------8<----------\n",
    "# This is an auto-generated partial config. To use it with 'spacy train'\n",
    "# you can run spacy init fill-config to auto-fill all default settings:\n",
    "# python -m spacy init fill-config ./base_config.cfg ./config.cfg\n",
    "[paths]\n",
    "train = null\n",
    "dev = null\n",
    "vectors = null\n",
    "[system]\n",
    "gpu_allocator = null\n",
    "\n",
    "[nlp]\n",
    "lang = \"fr\"\n",
    "pipeline = [\"tok2vec\",\"ner\"]\n",
    "batch_size = 1000\n",
    "\n",
    "[components]\n",
    "\n",
    "[components.tok2vec]\n",
    "factory = \"tok2vec\"\n",
    "\n",
    "[components.tok2vec.model]\n",
    "@architectures = \"spacy.Tok2Vec.v2\"\n",
    "\n",
    "[components.tok2vec.model.embed]\n",
    "@architectures = \"spacy.MultiHashEmbed.v2\"\n",
    "width = ${components.tok2vec.model.encode.width}\n",
    "attrs = [\"NORM\", \"PREFIX\", \"SUFFIX\", \"SHAPE\"]\n",
    "rows = [5000, 1000, 2500, 2500]\n",
    "include_static_vectors = false\n",
    "\n",
    "[components.tok2vec.model.encode]\n",
    "@architectures = \"spacy.MaxoutWindowEncoder.v2\"\n",
    "width = 96\n",
    "depth = 4\n",
    "window_size = 1\n",
    "maxout_pieces = 3\n",
    "\n",
    "[components.ner]\n",
    "factory = \"ner\"\n",
    "\n",
    "[components.ner.model]\n",
    "@architectures = \"spacy.TransitionBasedParser.v2\"\n",
    "state_type = \"ner\"\n",
    "extra_state_tokens = false\n",
    "hidden_width = 64\n",
    "maxout_pieces = 2\n",
    "use_upper = true\n",
    "nO = null\n",
    "\n",
    "[components.ner.model.tok2vec]\n",
    "@architectures = \"spacy.Tok2VecListener.v1\"\n",
    "width = ${components.tok2vec.model.encode.width}\n",
    "\n",
    "[corpora]\n",
    "\n",
    "[corpora.train]\n",
    "@readers = \"spacy.Corpus.v1\"\n",
    "path = ${paths.train}\n",
    "max_length = 0\n",
    "\n",
    "[corpora.dev]\n",
    "@readers = \"spacy.Corpus.v1\"\n",
    "path = ${paths.dev}\n",
    "max_length = 0\n",
    "\n",
    "[training]\n",
    "dev_corpus = \"corpora.dev\"\n",
    "train_corpus = \"corpora.train\"\n",
    "\n",
    "[training.optimizer]\n",
    "@optimizers = \"Adam.v1\"\n",
    "\n",
    "[training.batcher]\n",
    "@batchers = \"spacy.batch_by_words.v1\"\n",
    "discard_oversize = false\n",
    "tolerance = 0.2\n",
    "\n",
    "[training.batcher.size]\n",
    "@schedules = \"compounding.v1\"\n",
    "start = 100\n",
    "stop = 1000\n",
    "compound = 1.001\n",
    "\n",
    "[initialize]\n",
    "vectors = ${paths.vectors}\n",
    "# -------8<---------8<----------\n",
    "' > ./training-scratch/base_config.cfg"
   ]
  },
  {
   "attachments": {},
   "cell_type": "markdown",
   "metadata": {},
   "source": [
    "#### 🚧 Compléter le fichier de configuration\n",
    "Complétez la commande [`!python -m spacy init fill-config ...`](https://spacy.io/api/cli#init-fill-config) suivante pour indiquer :\n",
    "- le fichier de configuration de base `./training-scratch/base_config.cfg`,\n",
    "- un fichier de configuration cible : nommez-le `config.cfg` et stockez-le dans le même répertoire.\n",
    "\n",
    "N'hésitez pas à consulter la documentation.\n",
    "\n",
    "<details>\n",
    "<summary>Solution</summary>\n",
    "\n",
    "```\n",
    "!python -m spacy init fill-config ./training-scratch/base_config.cfg ./training-scratch/config.cfg\n",
    "```\n",
    "</details>"
   ]
  },
  {
   "cell_type": "code",
   "execution_count": null,
   "metadata": {},
   "outputs": [],
   "source": [
    "# TEACHER\n",
    "!python -m spacy init fill-config ___________   ___________"
   ]
  },
  {
   "attachments": {},
   "cell_type": "markdown",
   "metadata": {},
   "source": [
    "#### 🚧 Lancer l'entraînement\n",
    "Complétez la commande [`!python -m spacy train ...`](https://spacy.io/api/cli#train) suivante pour indiquer :\n",
    "- le chemin vers le fichier de configuration\n",
    "- le chemin vers le répertoire de sortie `./training-scratch/output`\n",
    "- le chemin vers le jeu d'entraînement\n",
    "- le chemin vers le jeu de test\n",
    "\n",
    "N'hésitez pas à consulter la documentation.\n",
    "\n",
    "<details>\n",
    "<summary>Solution</summary>\n",
    "\n",
    "```\n",
    "!python -m spacy train ./training-scratch/config.cfg --output ./training-scratch/output --paths.train ./dataset/train.spacy --paths.dev ./dataset/test.spacy\n",
    "```\n",
    "</details>"
   ]
  },
  {
   "cell_type": "code",
   "execution_count": null,
   "metadata": {},
   "outputs": [],
   "source": [
    "!python -m spacy train ________ --output ________ --paths.train ________ --paths.dev ________"
   ]
  },
  {
   "attachments": {},
   "cell_type": "markdown",
   "metadata": {},
   "source": [
    "🎉 Bravo, vous avez réussi à entraîner un modèle ! 🎊\n",
    "\n",
    "Deux variantes du modèle sont conservées :\n",
    "- la dernière version, celle qui est optimisée à chaque étape de l'apprentissage\n",
    "- la meilleure version, celle qui a donné les meilleurs résultats sur le jeu de test/dev.\n",
    "\n",
    "🤓 Il est même possible de créer un package Python facile à partager, sauvegarder et réutiliser avec la commande [`spacy package`](https://spacy.io/api/cli#package)."
   ]
  },
  {
   "attachments": {},
   "cell_type": "markdown",
   "metadata": {},
   "source": [
    "### 7.3 Chargement du modèle entraîné, évaluation et utilisation\n",
    "\n",
    "Nous allons à présent charger et évaluer le modèle qui vient d'être entraîné.\n",
    "\n",
    "On sélectionne le meilleur modèle, qui n'est pas forcément le dernier, afin d'espérer les meilleurs résultats possibles.\n",
    "\n",
    "Cette **évaluation quantitative** sur **le jeu de test** nous permet d'avoir une estimation non biaisée de la performance de ce modèle sur d'autres textes similaires qui n'ont pas été vus pendant l'entraînement."
   ]
  },
  {
   "cell_type": "code",
   "execution_count": null,
   "metadata": {},
   "outputs": [],
   "source": [
    "my_model = spacy.load(\"./training-scratch/output/model-best\")\n",
    "evaluate(my_model, test_set)"
   ]
  },
  {
   "attachments": {},
   "cell_type": "markdown",
   "metadata": {},
   "source": [
    "On remarque que le F-score de ce modèle est plus faible, pour les entités de type `LOC`, que les modèles déjà disponibles.\n",
    "\n",
    "Il y a plusieurs raisons à cela :\n",
    "- nous avons entraîné avec très peu de données\n",
    "- nous avons optimisé l'apprentissage en intégrant les entités `PER` et `LOC`, et ce modèle s'avère meilleur sur les entités `PER` que le modèle *small* de base ; le choix du critère est important !\n",
    "\n",
    "Toutefois, ce petit modèle donne déjà une meilleure précision (c'est-à-dire qu'il produit moins de fausses détections) que le petit modèle de base. Pour de l'extraction de données, cela peut déjà être un gain !"
   ]
  },
  {
   "attachments": {},
   "cell_type": "markdown",
   "metadata": {},
   "source": [
    "On peut également appeler le modèles sur un texte du jeu de test afin d'avoir un **aperçu qualitatif** de ses résultats."
   ]
  },
  {
   "cell_type": "code",
   "execution_count": null,
   "metadata": {},
   "outputs": [],
   "source": [
    "unseen_text = next(test_set.get_docs(my_model.vocab))\n",
    "doc_test = my_model(unseen_text)\n",
    "doc_test.ents"
   ]
  },
  {
   "cell_type": "code",
   "execution_count": null,
   "metadata": {},
   "outputs": [],
   "source": [
    "from spacy import displacy\n",
    "displacy.render(doc_test, style=\"ent\", jupyter=True)"
   ]
  },
  {
   "attachments": {},
   "cell_type": "markdown",
   "metadata": {},
   "source": [
    "\n",
    "### 7.4 En résumé à propos de l'entraînement\n",
    "\n",
    "Nous avons vu qu'il était simple d'entraîner un petit modèle *from scratch*, et vous devriez à présent être en mesure d'aller plus loin (hors du cadre de cette activité) en :\n",
    "- partant non plus de zéro, mais à partir d'un modèle déjà entraîné pour réutiliser les connaissances déjà apprises (*transfer learning*)\n",
    "- utiliser un modèle plus puissant (mais aussi plus gourmand en ressources de calcul pour l'apprentissage)"
   ]
  },
  {
   "attachments": {},
   "cell_type": "markdown",
   "metadata": {},
   "source": [
    "## 8. Export des données pour une utilisation ultérieure — *⏱️ 2 mn*\n",
    "\n",
    "Nous allons stocker les données produites dans un fichier JSON facile à réutiliser et convertir.\n",
    "\n",
    "Nous allons sauvegarder ce fichier dans votre Drive ou à l'emplacement que vous indiquerez ci-après.\n",
    "\n",
    "Nous allons également vous montrer comment télécharger directement le fichier vers votre machine locale si vous utilisez Google Colab."
   ]
  },
  {
   "attachments": {},
   "cell_type": "markdown",
   "metadata": {},
   "source": [
    "#### 🚧 Exécutez les cellules suivantes, en modifiant le chemin vers l'emplacement de sauvegarde du fichier si nécessaire"
   ]
  },
  {
   "cell_type": "code",
   "execution_count": null,
   "metadata": {},
   "outputs": [],
   "source": [
    "# CHEMIN VERS LE FICHIER DE SAUVEGARDE\n",
    "PATH_TO_SAVE_FILE = f\"/gdrive/My Drive/{FOLDER_NAME}/en_french_eltec_dataset.json\""
   ]
  },
  {
   "cell_type": "code",
   "execution_count": null,
   "metadata": {},
   "outputs": [],
   "source": [
    "# Définition d'une fonction de sauvegarde\n",
    "import json\n",
    "def save_my_entities(data: list[str], filename: str):\n",
    "    with open(filename, mode='w', encoding=\"utf8\") as out_file:\n",
    "        json.dump(data, out_file, indent=0)\n",
    "    print(f\"Your data was successfully save to '{filename}'.\")"
   ]
  },
  {
   "cell_type": "code",
   "execution_count": null,
   "metadata": {},
   "outputs": [],
   "source": [
    "# Sauvegarde du fichier\n",
    "save_my_entities(all_loc_entities, PATH_TO_SAVE_FILE)"
   ]
  },
  {
   "cell_type": "code",
   "execution_count": null,
   "metadata": {},
   "outputs": [],
   "source": [
    "# Téléchargement direct du fichier depuis la VM Colab\n",
    "files.download(PATH_TO_SAVE_FILE)"
   ]
  },
  {
   "attachments": {},
   "cell_type": "markdown",
   "metadata": {},
   "source": [
    "## 🏁 C'est tout pour cette fois !\n",
    "\n",
    "Nous espérons que cette activité a été enrichissante.\n",
    "\n",
    "N'hésitez pas à **donner rapidement votre avis anonyme 📢** via [ce **formulaire** 📝](https://docs.google.com/forms/d/e/1FAIpQLSfS46qZC5Bz7ultNm2tLLYl6b72HonbERt1srpaoLUes-tNJA/viewform?usp=sf_link) pour nous aider à l'améliorer.\n",
    "\n",
    "Finalement, notez que plusieurs points n'ont pas pu être abordés ici pour des raisons de temps :\n",
    "- la sélection des données du corpus,\n",
    "- la conversion des données vers et depuis la plateforme d'annotation,\n",
    "- la préparation des données d'entraînement et d'évaluation,\n",
    "- les [matchers](https://spacy.io/api/matcher),\n",
    "- utiliser d'autres outils, comme la bibliothèque [Transformers d'HuggingFace](https://huggingface.co/transformers/).\n",
    "\n",
    "Nous avons réalisé toutes ces opérations pour la préparation de cette activité, et vous pourrez regarder nos [notebooks de brouillon](https://github.com/jchazalon/hn-ariane-ner-tuto-2023/tree/main/preparation) si vous le souhaitez, afin de disposer d'exemples de code à réutiliser.\n",
    "\n",
    "👍 Bonne analyse de données !"
   ]
  }
 ],
 "metadata": {
  "kernelspec": {
   "display_name": "hn-ariane-ner-tuto-2023-PwR_0BG5",
   "language": "python",
   "name": "python3"
  },
  "language_info": {
   "codemirror_mode": {
    "name": "ipython",
    "version": 3
   },
   "file_extension": ".py",
   "mimetype": "text/x-python",
   "name": "python",
   "nbconvert_exporter": "python",
   "pygments_lexer": "ipython3",
   "version": "3.10.12"
  }
 },
 "nbformat": 4,
 "nbformat_minor": 2
}
