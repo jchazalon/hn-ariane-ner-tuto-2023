{
 "cells": [
  {
   "attachments": {},
   "cell_type": "markdown",
   "metadata": {},
   "source": [
    "# Initiation à la 🔎 reconnaissance d'entités nommées 🔍 avec [spaCy](https://spacy.io/)\n",
    "\n",
    "<p style=\"font-size:small;font-style:italic\">filename: \"%%%FIXME_SED_FILENAME%%%\" — generation_timestamp: %%%FIXME_SED_TIMESTAMP%%% — source_commit: %%%FIXME_SED_GITCOMMIT%%%</p>\n",
    "<p style=\"font-size:small;\" xmlns:cc=\"http://creativecommons.org/ns#\" xmlns:dct=\"http://purl.org/dc/terms/\"><a property=\"dct:title\" rel=\"cc:attributionURL\" href=\"https://github.com/jchazalon/hn-ariane-ner-tuto-2023 \">Tous les supports de cette activité</a> créés par <a rel=\"cc:attributionURL dct:creator\" property=\"cc:attributionName\" href=\"https://jchazalon.github.io\">Joseph Chazalon</a> sont distribués selon les termes de la licence Creative Commons <a href=\"http://creativecommons.org/licenses/by-sa/4.0/?ref=chooser-v1\" target=\"_blank\" rel=\"license noopener noreferrer\" style=\"display:inline-block;\">Attribution-ShareAlike 4.0 International<img style=\"height:22px!important;margin-left:3px;vertical-align:text-bottom;\" src=\"https://mirrors.creativecommons.org/presskit/icons/cc.svg?ref=chooser-v1\"><img style=\"height:22px!important;margin-left:3px;vertical-align:text-bottom;\" src=\"https://mirrors.creativecommons.org/presskit/icons/by.svg?ref=chooser-v1\"><img style=\"height:22px!important;margin-left:3px;vertical-align:text-bottom;\" src=\"https://mirrors.creativecommons.org/presskit/icons/sa.svg?ref=chooser-v1\"></a></p> \n",
    "\n",
    "[![](https://img.shields.io/badge/Google_%20_Colab-Cliquez_ici_pour_éditer_ce_notebook-blue?logo=googlecolab)](https://colab.research.google.com/github/jchazalon/hn-ariane-ner-tuto-2023/blob/main/%%%FIXME_SED_FILENAME%%%)"
   ]
  },
  {
   "attachments": {},
   "cell_type": "markdown",
   "metadata": {},
   "source": [
    "## 1. Introduction — *⏱️ 5 mn*"
   ]
  },
  {
   "attachments": {},
   "cell_type": "markdown",
   "metadata": {},
   "source": [
    "\n",
    "**👋 Bonjour !**\n",
    "\n",
    "Cette activité a pour objectif de vous apprendre à utiliser la bibliothèque [spaCy](https://spacy.io/) et de mettre en place un projet de reconnaissance d'entités nommées (*[Named entities recognition](https://en.wikipedia.org/wiki/Named-entity_recognition)*, ou *NER* en anglais).\n",
    "\n",
    "Au travers d'exercices et d'observations simples qui vous permettront d'envisager la chaîne de traitement de données dans son ensemble, vous allez prendre en main quelques d'outils essentiels.\n",
    "Ainsi, vous devriez pouvoir réappliquer cette approche sur des données de votre choix, après cet atelier, en toute autonomie."
   ]
  },
  {
   "attachments": {},
   "cell_type": "markdown",
   "metadata": {},
   "source": [
    "\n",
    "### Contenu de cette activité"
   ]
  },
  {
   "attachments": {},
   "cell_type": "markdown",
   "metadata": {},
   "source": [
    "1. Introduction — *⏱️ 5 mn*\n",
    "2. Installation et généralités à propos de spaCy — *⏱️ 5 mn*\n",
    "3. Reconnaître des entités nommées avec un modèle existant et visualiser les résultats — *⏱️ 5 mn*\n",
    "4. Traiter les données de notre corpus d'exemple — *⏱️ 5 mn*\n",
    "5. Évaluer objectivement la performance d'un modèle de langage — *⏱️ 5 mn*\n",
    "6. Annoter un jeu de données complet : aperçu du problème — *⏱️ 5 mn*\n",
    "7. Entraîner un modèle spécialisé et comparer sa performance — *⏱️ 10 mn*\n",
    "8. Export des données pour une utilisation ultérieure — *⏱️ 2 mn*"
   ]
  },
  {
   "attachments": {},
   "cell_type": "markdown",
   "metadata": {},
   "source": [
    "### 🗺️ Symboles utilisés"
   ]
  },
  {
   "cell_type": "markdown",
   "metadata": {},
   "source": [
    "\n",
    "- Au cours de cette activité, vous aurez des actions à réaliser.\n",
    "  Celles-ci sont indiquées par les symboles 🚧, 🏗️, 🛠️, 👷.\n",
    "- Certains éléments nécessitant votre attention sont indiqués par des symboles comme 🚨, ⚠️, 👉.\n",
    "- Et finalement, certains éléments sont indiqués pour vous permettre de prolonger cette activité en dehors du créneau réservé et sont indiqués par le symbole 🤓.\n"
   ]
  },
  {
   "attachments": {},
   "cell_type": "markdown",
   "metadata": {},
   "source": [
    "### Sources et licence"
   ]
  },
  {
   "attachments": {},
   "cell_type": "markdown",
   "metadata": {},
   "source": [
    "\n",
    "Cet atelier est largement tiré du cours “[NLP avancé avec spaCy](https://course.spacy.io/fr)” réalisé par [Ines Montani](https://twitter.com/_inesmontani) (créatrice de [spaCy](https://spacy.io/)) sous [licence MIT](https://www.tldrlegal.com/license/mit-license).\n",
    "Cette licence nous autorise à reprendre, modifier et diffuser son contenu tant que nous indiquons la licence originale :\n",
    "\n",
    ">The MIT License (MIT)\n",
    ">Copyright (C) 2019 Ines Montani\n",
    ">Permission is hereby granted, free of charge, to any person obtaining a copy of this software and associated documentation files (the \"Software\"), to deal in the Software without restriction, including without limitation the rights to use, copy, modify, merge, publish, distribute, sublicense, and/or sell copies of the Software, and to permit persons to whom the Software is furnished to do so, subject to the following conditions:\n",
    "The above copyright notice and this permission notice shall be included in all copies or substantial portions of the Software.\n",
    "THE SOFTWARE IS PROVIDED \"AS IS\", WITHOUT WARRANTY OF ANY KIND, EXPRESS OR IMPLIED, INCLUDING BUT NOT LIMITED TO THE WARRANTIES OF MERCHANTABILITY, FITNESS FOR A PARTICULAR PURPOSE AND NONINFRINGEMENT. IN NO EVENT SHALL THE AUTHORS OR COPYRIGHT HOLDERS BE LIABLE FOR ANY CLAIM, DAMAGES OR OTHER LIABILITY, WHETHER IN AN ACTION OF CONTRACT, TORT OR OTHERWISE, ARISING FROM, OUT OF OR IN CONNECTION WITH THE SOFTWARE OR THE USE OR OTHER DEALINGS IN THE SOFTWARE.\n",
    "\n",
    "\n",
    "Les données de cet atelier sont adaptées du “[French ELTEC NER Open Dataset](http://hdl.handle.net/20.500.11752/OPEN-986)” par Carmen Brando, Francesca Frontini, et Ioana Galleron sous licence [Creative Commons - Attribution-ShareAlike 4.0 International (CC BY-SA 4.0)](http://creativecommons.org/licenses/by-sa/4.0/). \n",
    "\n",
    "> Brando, Carmen; Frontini, Francesca and Galleron, Ioana, 2022, French ELTEC NER Open Dataset, ILC-CNR for CLARIN-IT repository hosted at Institute for Computational Linguistics \"A. Zampolli\", National Research Council, in Pisa, [http://hdl.handle.net/20.500.11752/OPEN-986](http://hdl.handle.net/20.500.11752/OPEN-986).\n",
    "\n",
    "Ce cours et les données associées sont sous licence [Creative Commons - Attribution-ShareAlike 4.0 International (CC BY-SA 4.0)](http://creativecommons.org/licenses/by-sa/4.0/).\n",
    "Pour citer ce travail, merci d'indiquer :\n",
    "\n",
    "> Consortium HumaNum Ariane, Joseph Chazalon, Atelier d'initiation à la reconnaissance d'entités nommées avec spaCy, en ligne : <https://github.com/jchazalon/hn-ariane-ner-tuto-2023>, 9 novembre 2023, Lyon."
   ]
  },
  {
   "attachments": {},
   "cell_type": "markdown",
   "metadata": {},
   "source": [
    "### 🚀 C'est parti !"
   ]
  },
  {
   "cell_type": "markdown",
   "metadata": {},
   "source": [
    "Voici le lien vers la présentation : <https://docs.google.com/presentation/d/1_RycfOOeQo8XZNojsx7SzaSDyhepj-8n8w7xMpf9UGI/edit>\n",
    "\n",
    "Vous pouvez aussi accéder à tous les fichiers de cette activité (pour les télécharger par exemple) sur GitHub : <https://github.com/jchazalon/hn-ariane-ner-tuto-2023>\n",
    "\n",
    "**Démarrez l'activité dès l'introduction générale par les formateurs terminée !**\n",
    "\n",
    "Parcourez ce *notebook* dans l'ordre, et n'hésitez pas à solliciter les formateurs dès que vous avez une question.\n",
    "Aux étapes clés de l'atelier, ces derniers utiliseront les supports de cours pour introduire certaines notions collectivement.\n",
    "Vous pouvez cependant avancer à votre rythme en toute autonomie."
   ]
  },
  {
   "attachments": {},
   "cell_type": "markdown",
   "metadata": {},
   "source": [
    "## 2. Installation et généralités à propos de spaCy — *⏱️ 5 mn*\n",
    "Dans cette section, nous allons installer *spaCy* et comprendre quelques principes de base essentiels.\n",
    "\n",
    "En particulier, nous allons nous intéresser aux objets représentant un modèle de langage et un « document » en cours d'analyse."
   ]
  },
  {
   "attachments": {},
   "cell_type": "markdown",
   "metadata": {},
   "source": [
    "### 2.1 Installation de spaCy\n",
    "Avant toute autre chose, nous devons installer *spaCy* !\n",
    "\n",
    "Nous avons préparé un fichier décrivant les paquets Python nécessaires à la réalisation de cette activité.\n",
    "Si vous n'avez pas déjà installé et configuré un environnement de travail, vous pouvez exécuter la cellule suivante pour le faire.\n",
    "\n",
    "🤓 Notez le `!` qui précède l'instruction : il signifie que la ligne n'est pas une instruction Python, mais une instruction shell exécutée sur la machine qui exécute ce *notebook*."
   ]
  },
  {
   "attachments": {},
   "cell_type": "markdown",
   "metadata": {},
   "source": [
    "#### 🚧 Exécutez la cellule suivante pour installer spaCy et les autres outils nécessaires"
   ]
  },
  {
   "cell_type": "code",
   "execution_count": null,
   "metadata": {},
   "outputs": [],
   "source": [
    "!pip install -r https://raw.githubusercontent.com/jchazalon/hn-ariane-ner-tuto-2023/main/requirements.txt"
   ]
  },
  {
   "attachments": {},
   "cell_type": "markdown",
   "metadata": {},
   "source": [
    "### 2.2 Import de la bibliothèque\n",
    "Pour rendre disponible les objets, fonctions et autres éléments proposés par la bibliothèque, nous avons besoin de la charger et de définir un nom qui permet d'y faire référence.\n",
    "\n",
    "C'est le rôle de l'instruction `import`."
   ]
  },
  {
   "attachments": {},
   "cell_type": "markdown",
   "metadata": {},
   "source": [
    "#### 🚧 Exécutez la cellule suivante pour importer *spaCy* dans votre environnement d'exécution"
   ]
  },
  {
   "cell_type": "code",
   "execution_count": 10,
   "metadata": {},
   "outputs": [],
   "source": [
    "import spacy"
   ]
  },
  {
   "attachments": {},
   "cell_type": "markdown",
   "metadata": {},
   "source": [
    "### 2.3 L'objet [`Language`](https://spacy.io/api/language)\n",
    "L'objet [`Language`](https://spacy.io/api/language) sert à représenter une chaîne de traitements qui \n",
    "- possède une représentation interne d'un langage \n",
    "- et permet de calculer un certain nombre d'éléments à partir d'un texte ou d'autres éléments déjà calculés.\n",
    "\n",
    "On peut construire une nouvelle chaîne de traitements de plusieurs façons.\n",
    "La manière la plus simple est de construire une chaîne de traitement **vide** (ou presque) pour le français à l'aide de la \"fabrique\" à chaînes de traitement [`spacy.blank(LANGAGE)`](https://spacy.io/api/top-level/#spacy.blank)."
   ]
  },
  {
   "attachments": {},
   "cell_type": "markdown",
   "metadata": {},
   "source": [
    "#### 🚧 Complétez et exécutez la cellule suivante pour créer un modèle de langue vide 🪹 pour le français 🇫🇷\n",
    "<details>\n",
    "<summary>Cliquez ici pour voir un indice</summary>\n",
    "\n",
    "N'hésitez pas à consulter l'aide officielle de la fonction [`spacy.blank(LANGAGE)`](https://spacy.io/api/top-level/#spacy.blank) pour savoir comment l'utiliser !\n",
    "\n",
    "</details>\n",
    "<br>\n",
    "<details>\n",
    "<summary>Cliquez ici pour voir la solution</summary>\n",
    "\n",
    "```python\n",
    "nlp = spacy.blank(\"fr\")\n",
    "```\n",
    "\n",
    "</details>"
   ]
  },
  {
   "cell_type": "code",
   "execution_count": null,
   "metadata": {},
   "outputs": [],
   "source": [
    "nlp = spacy._____(____)"
   ]
  },
  {
   "cell_type": "code",
   "execution_count": 4,
   "metadata": {
    "tags": [
     "teacher"
    ]
   },
   "outputs": [],
   "source": [
    "# TEACHER\n",
    "nlp = spacy.blank(\"fr\")"
   ]
  },
  {
   "cell_type": "markdown",
   "metadata": {},
   "source": [
    "\n",
    "La chaîne de traitements contient différents traitements appliqués les uns après les autres.\n",
    "On peut afficher cette liste de traitements à l'aide de l'attribut `pipe_names` de l'objet `nlp`."
   ]
  },
  {
   "cell_type": "code",
   "execution_count": 5,
   "metadata": {},
   "outputs": [
    {
     "data": {
      "text/plain": [
       "[]"
      ]
     },
     "execution_count": 5,
     "metadata": {},
     "output_type": "execute_result"
    }
   ],
   "source": [
    "nlp.pipe_names"
   ]
  },
  {
   "cell_type": "markdown",
   "metadata": {},
   "source": [
    "Par défaut, une chaîne de traitement ne contient rien… Sauf un *tokenizer*, d'où l'importance de préciser la langue !"
   ]
  },
  {
   "attachments": {},
   "cell_type": "markdown",
   "metadata": {},
   "source": [
    "### 2.4 L'objet [`Doc`](https://spacy.io/api/doc)\n",
    "On obtient un objet [`Doc`](https://spacy.io/api/doc) en appliquant la chaîne de traitement [`Language`](https://spacy.io/api/language) à une chaîne de texte.\n",
    "\n",
    "Cet objet [`Doc`](https://spacy.io/api/doc) est central pour spaCy car il va être progressivement enrichi par chacun de traitements qui va venir y piocher les informations dont il a besoin en entrée, et y ajouter les informations qu'il a calculées.\n",
    "\n",
    "Ce principe est résumé dans la figure suivante, extraire de la documentation officielle de spaCy :  \n",
    "![](https://spacy.io/images/pipeline.svg)\n",
    "\n",
    "Par exemple, le composant \"ner\" (que nous utiliserons plus tard) va venir affecter une étiquette (*\"label\"*) à chacun des *tokens* du document. Il va stocker cette information dans un nouvel attribut `doc.ents` du document.\n",
    "\n",
    "L'attribut `doc.text` contient quant à lui la liste des *tokens* extraits.\n",
    "\n",
    "<!-- More complex architecture diagram ![](https://spacy.io/images/architecture.svg) -->\n",
    "\n",
    "Pour appliquer un modèle de langue à une chaîne de texte, il suffit d'utiliser la variable `nlp` créé comme une fonction !"
   ]
  },
  {
   "attachments": {},
   "cell_type": "markdown",
   "metadata": {},
   "source": [
    "#### 🚧 Exécutez la cellule suivante"
   ]
  },
  {
   "cell_type": "code",
   "execution_count": 6,
   "metadata": {},
   "outputs": [],
   "source": [
    "# Créé en traitant une chaine de caractères avec l'objet nlp\n",
    "doc = nlp(\"Bonjour tout le monde !\")"
   ]
  },
  {
   "cell_type": "markdown",
   "metadata": {},
   "source": [
    "On peut parcourir les *tokens* extraits d'un [`Doc`](https://spacy.io/api/doc) à l'aide d'une boucle classique en Python."
   ]
  },
  {
   "attachments": {},
   "cell_type": "markdown",
   "metadata": {},
   "source": [
    "### 2.5 L'objet [`Token`](https://spacy.io/api/token)"
   ]
  },
  {
   "attachments": {},
   "cell_type": "markdown",
   "metadata": {},
   "source": [
    "#### 🚧 Complétez et exécutez la cellule suivante pour afficher le contenu de chaque token du document\n",
    "Un objet [`Token`](https://spacy.io/api/token) contient un certain nombre d'[attributs](https://spacy.io/api/token#attributes) intéressants.\n",
    "\n",
    "Tous ces attributs ne sont pas nécessairement calculés avec un modèle de langue vide, mais il est déjà possible d'en observer un certain nombre.\n",
    "En particulier, vous devez utiliser l'attribut `Token.text` pour accéder à sa représentation textuelle.\n",
    "\n",
    "<details>\n",
    "<summary>Solution</summary>\n",
    "\n",
    "```python\n",
    "for token in doc:\n",
    "    print(token.text)\n",
    "```\n",
    "\n",
    "</details>"
   ]
  },
  {
   "cell_type": "code",
   "execution_count": null,
   "metadata": {},
   "outputs": [],
   "source": [
    "# Itère sur les tokens dans un Doc\n",
    "for ____ in ____:\n",
    "    print(____.____)"
   ]
  },
  {
   "cell_type": "code",
   "execution_count": 7,
   "metadata": {
    "tags": [
     "teacher"
    ]
   },
   "outputs": [
    {
     "name": "stdout",
     "output_type": "stream",
     "text": [
      "Bonjour\n",
      "tout\n",
      "le\n",
      "monde\n",
      "!\n"
     ]
    }
   ],
   "source": [
    "# TEACHER\n",
    "# Itère sur les tokens dans un Doc\n",
    "for token in doc:\n",
    "    print(token.text)\n",
    "    # REMARQUE : on peut utiliser `print(token)` directement,\n",
    "    # mais c'est piègeux car l'affichage semble être celui d'une chaîne de caractères"
   ]
  },
  {
   "attachments": {},
   "cell_type": "markdown",
   "metadata": {},
   "source": [
    "Il est possible d'obtenir des informations utiles à propos des *tokens* de notre document sans même avoir besoin d'utiliser un modèle de langue complexe.\n",
    "\n",
    "Voici un exemple que vous pouvez observer, qui tire profit des [attributs](https://spacy.io/api/token#attributes) `Token.i` (qui indique l'identifiant du *token* au sein du document parent), `Token.is_alpha`, `Token.is_punct` et `Token.like_num`. "
   ]
  },
  {
   "cell_type": "markdown",
   "metadata": {},
   "source": [
    "#### 🚧 Exécutez la cellule suivante"
   ]
  },
  {
   "cell_type": "code",
   "execution_count": 9,
   "metadata": {},
   "outputs": [
    {
     "name": "stdout",
     "output_type": "stream",
     "text": [
      "Index :    [0, 1, 2, 3, 4]\n",
      "Text :     ['Cela', 'coûte', '5', '€', '.']\n",
      "is_alpha : [True, True, False, False, False]\n",
      "is_punct : [False, False, False, False, True]\n",
      "like_num : [False, False, True, False, False]\n"
     ]
    }
   ],
   "source": [
    "## Autres attributs des tokens et des spans\n",
    "doc2 = nlp(\"Cela coûte 5 €.\")\n",
    "\n",
    "print(\"Index :   \", [token.i for token in doc2])\n",
    "print(\"Text :    \", [token.text for token in doc2])\n",
    "\n",
    "print(\"is_alpha :\", [token.is_alpha for token in doc2])\n",
    "print(\"is_punct :\", [token.is_punct for token in doc2])\n",
    "print(\"like_num :\", [token.like_num for token in doc2])"
   ]
  },
  {
   "attachments": {},
   "cell_type": "markdown",
   "metadata": {},
   "source": [
    "Il est également possible d'accéder à un token particulier, grâce à son indice dans le document."
   ]
  },
  {
   "attachments": {},
   "cell_type": "markdown",
   "metadata": {},
   "source": [
    "#### 🚧 Exécutez la cellule suivante pour afficher le premier token du document\n",
    "N'hésitez pas à en afficher d'autres pour observer ce comportement.\n",
    "\n",
    "🤓 Notez qu'il n'est pas toujours nécessaire d'appeler `print()` avec Jupyter : la valeur de retour de la dernière instruction sera affichée, au format texte par défaut ou au format HTML si une représentation plus riche est disponible."
   ]
  },
  {
   "cell_type": "code",
   "execution_count": 10,
   "metadata": {},
   "outputs": [
    {
     "data": {
      "text/plain": [
       "Bonjour"
      ]
     },
     "execution_count": 10,
     "metadata": {},
     "output_type": "execute_result"
    }
   ],
   "source": [
    "# On peut sélectionner un token particulier, grâce à son indice dans le document\n",
    "token = doc[0]\n",
    "token"
   ]
  },
  {
   "attachments": {},
   "cell_type": "markdown",
   "metadata": {},
   "source": [
    "### 2.5 L'objet [Span](https://spacy.io/api/span)"
   ]
  },
  {
   "attachments": {},
   "cell_type": "markdown",
   "metadata": {},
   "source": [
    "L'objet [Span](https://spacy.io/api/span) est un autre objet utile à connaître, qui représente une séquence de *tokens* contiguë au sein d'un document."
   ]
  },
  {
   "attachments": {},
   "cell_type": "markdown",
   "metadata": {},
   "source": [
    "#### 🚧 <b>Essayez à présent de sélectionner et afficher les <i>tokens</i> \"tout le monde\".</b>\n",
    "\n",
    "<details>\n",
    "<summary>Indices</summary>\n",
    "\n",
    "Vous pouvez utiliser les *ranges* pour sélectionner plusieurs éléments d'un itérable. Voici un exemple de la syntaxe à utiliser :\n",
    "```python\n",
    "ma_liste = [0, 1, 2, 3]\n",
    "print(ma_liste[1:3])\n",
    "# Affiche : [1, 2]\n",
    "```\n",
    "</details>\n",
    "\n",
    "<details>\n",
    "<summary>Solution</summary>\n",
    "\n",
    "On applique cette syntaxe pour sélectionner les tokens du rang 1 (2e token, inclus) au rang 4 (non inclus) :\n",
    "\n",
    "```python\n",
    "span = doc[1:4]\n",
    "span\n",
    "```\n",
    "</details>\n"
   ]
  },
  {
   "cell_type": "code",
   "execution_count": null,
   "metadata": {},
   "outputs": [
    {
     "data": {
      "text/plain": [
       "tout le monde"
      ]
     },
     "metadata": {},
     "output_type": "display_data"
    }
   ],
   "source": [
    "# On peut également utiliser les \"ranges\" Python pour sélectionner plusieurs tokens\n",
    "span = doc[____]\n",
    "span"
   ]
  },
  {
   "cell_type": "code",
   "execution_count": 11,
   "metadata": {
    "tags": [
     "teacher"
    ]
   },
   "outputs": [
    {
     "data": {
      "text/plain": [
       "tout le monde"
      ]
     },
     "execution_count": 11,
     "metadata": {},
     "output_type": "execute_result"
    }
   ],
   "source": [
    "# TEACHER\n",
    "# On peut également utiliser les \"ranges\" Python pour sélectionner plusieurs tokens\n",
    "span = doc[1:4]\n",
    "span"
   ]
  },
  {
   "attachments": {},
   "cell_type": "markdown",
   "metadata": {},
   "source": [
    "À l'instar des objets Token, ils possèdent également des [attributs](https://spacy.io/api/span#attributes) intéressants, comme `Span.text` qui permet d'en obtenir une représentation textuelle."
   ]
  },
  {
   "cell_type": "markdown",
   "metadata": {},
   "source": [
    "#### 🚧 Exécutez la cellule suivante"
   ]
  },
  {
   "cell_type": "code",
   "execution_count": 12,
   "metadata": {},
   "outputs": [
    {
     "data": {
      "text/plain": [
       "'tout le monde'"
      ]
     },
     "execution_count": 12,
     "metadata": {},
     "output_type": "execute_result"
    }
   ],
   "source": [
    "# On peut également accéder aux attributs d'un span\n",
    "span.text"
   ]
  },
  {
   "attachments": {},
   "cell_type": "markdown",
   "metadata": {},
   "source": [
    "\n",
    "## 3. Reconnaître des entités nommées avec un modèle existant et visualiser les résultats — *⏱️ 5 mn*"
   ]
  },
  {
   "attachments": {},
   "cell_type": "markdown",
   "metadata": {},
   "source": [
    "Nous allons à présent utiliser un modèle existant mis à disposition par les créateurs de spaCy pour comprendre le fonctionnement d'un modèle de langue intégrant un composant de reconnaissance d'entités nommées.\n",
    "\n",
    "Pour cela, nous allons commencer par utiliser une chaîne de traitement entraînée pour le français."
   ]
  },
  {
   "attachments": {},
   "cell_type": "markdown",
   "metadata": {},
   "source": [
    "### 3.1 Choix, installation et chargement du modèle"
   ]
  },
  {
   "cell_type": "markdown",
   "metadata": {},
   "source": [
    "#### 🏗️ Cherchez [dans la documentation](https://spacy.io/models/fr) un modèle adapté pour démarrer\n",
    "Trouvez le nom du **plus petit modèle contenant un composant NER** qui nous permettra de faire des premières expériences rapides.\n",
    "\n",
    "La taille du modèle est indiquée dans le champ *\"Size\"*.\n",
    "\n",
    "<details>\n",
    "<summary>Solution</summary>\n",
    "\n",
    "On trouve 4 modèles :\n",
    "1. `fr_core_news_sm` : un petit modèle adapté pour nos premières expériences, contenant tous les composants nécessaires 👈 *utilisez celui-ci pour mettre au point votre approche !*\n",
    "2. `fr_core_news_md` : un modèle de taille moyenne, contenant également tous les composants de base, adapté à des cas simples pour lesquels l'efficacité prime\n",
    "3. `fr_core_news_lg` : un modèle large, adapté au travail sur CPU, contenant tous les composants de base et offrant de bonnes performances.\n",
    "4. `fr_dep_news_trf` : un nouveau modèle qui devrait offrir les meilleures performances, mais ne disposant pas de composant NER pré-entraîné et pour lequel il faut préférer une exécution sur GPU.\n",
    "</details>\n"
   ]
  },
  {
   "attachments": {},
   "cell_type": "markdown",
   "metadata": {},
   "source": [
    "#### 🏗️ Complétez à présent la commande suivante pour télécharger les fichiers du modèle\n",
    "Indiquez le nom du modèle que vous avez sélectionné.\n",
    "\n",
    "<details>\n",
    "<summary>Solution</summary>\n",
    "\n",
    "```\n",
    "!python -m spacy download fr_core_news_sm\n",
    "```\n",
    "</details>"
   ]
  },
  {
   "cell_type": "code",
   "execution_count": null,
   "metadata": {},
   "outputs": [],
   "source": [
    "!python -m spacy download __________"
   ]
  },
  {
   "cell_type": "code",
   "execution_count": 13,
   "metadata": {
    "tags": [
     "teacher"
    ]
   },
   "outputs": [
    {
     "name": "stdout",
     "output_type": "stream",
     "text": [
      "Collecting fr-core-news-sm==3.7.0\n",
      "  Downloading https://github.com/explosion/spacy-models/releases/download/fr_core_news_sm-3.7.0/fr_core_news_sm-3.7.0-py3-none-any.whl (16.3 MB)\n",
      "\u001b[2K     \u001b[38;2;114;156;31m━━━━━━━━━━━━━━━━━━━━━━━━━━━━━━━━━━━━━━━━\u001b[0m \u001b[32m16.3/16.3 MB\u001b[0m \u001b[31m25.0 MB/s\u001b[0m eta \u001b[36m0:00:00\u001b[0mm eta \u001b[36m0:00:01\u001b[0m[36m0:00:01\u001b[0m\n",
      "\u001b[?25hRequirement already satisfied: spacy<3.8.0,>=3.7.0 in /home/joseph/.virtualenvs/hn-ariane-ner-tuto-2023-5IA5eVhR/lib/python3.10/site-packages (from fr-core-news-sm==3.7.0) (3.7.1)\n",
      "Requirement already satisfied: spacy-legacy<3.1.0,>=3.0.11 in /home/joseph/.virtualenvs/hn-ariane-ner-tuto-2023-5IA5eVhR/lib/python3.10/site-packages (from spacy<3.8.0,>=3.7.0->fr-core-news-sm==3.7.0) (3.0.12)\n",
      "Requirement already satisfied: spacy-loggers<2.0.0,>=1.0.0 in /home/joseph/.virtualenvs/hn-ariane-ner-tuto-2023-5IA5eVhR/lib/python3.10/site-packages (from spacy<3.8.0,>=3.7.0->fr-core-news-sm==3.7.0) (1.0.5)\n",
      "Requirement already satisfied: murmurhash<1.1.0,>=0.28.0 in /home/joseph/.virtualenvs/hn-ariane-ner-tuto-2023-5IA5eVhR/lib/python3.10/site-packages (from spacy<3.8.0,>=3.7.0->fr-core-news-sm==3.7.0) (1.0.10)\n",
      "Requirement already satisfied: cymem<2.1.0,>=2.0.2 in /home/joseph/.virtualenvs/hn-ariane-ner-tuto-2023-5IA5eVhR/lib/python3.10/site-packages (from spacy<3.8.0,>=3.7.0->fr-core-news-sm==3.7.0) (2.0.8)\n",
      "Requirement already satisfied: preshed<3.1.0,>=3.0.2 in /home/joseph/.virtualenvs/hn-ariane-ner-tuto-2023-5IA5eVhR/lib/python3.10/site-packages (from spacy<3.8.0,>=3.7.0->fr-core-news-sm==3.7.0) (3.0.9)\n",
      "Requirement already satisfied: thinc<8.3.0,>=8.1.8 in /home/joseph/.virtualenvs/hn-ariane-ner-tuto-2023-5IA5eVhR/lib/python3.10/site-packages (from spacy<3.8.0,>=3.7.0->fr-core-news-sm==3.7.0) (8.2.1)\n",
      "Requirement already satisfied: wasabi<1.2.0,>=0.9.1 in /home/joseph/.virtualenvs/hn-ariane-ner-tuto-2023-5IA5eVhR/lib/python3.10/site-packages (from spacy<3.8.0,>=3.7.0->fr-core-news-sm==3.7.0) (1.1.2)\n",
      "Requirement already satisfied: srsly<3.0.0,>=2.4.3 in /home/joseph/.virtualenvs/hn-ariane-ner-tuto-2023-5IA5eVhR/lib/python3.10/site-packages (from spacy<3.8.0,>=3.7.0->fr-core-news-sm==3.7.0) (2.4.8)\n",
      "Requirement already satisfied: catalogue<2.1.0,>=2.0.6 in /home/joseph/.virtualenvs/hn-ariane-ner-tuto-2023-5IA5eVhR/lib/python3.10/site-packages (from spacy<3.8.0,>=3.7.0->fr-core-news-sm==3.7.0) (2.0.10)\n",
      "Requirement already satisfied: weasel<0.4.0,>=0.1.0 in /home/joseph/.virtualenvs/hn-ariane-ner-tuto-2023-5IA5eVhR/lib/python3.10/site-packages (from spacy<3.8.0,>=3.7.0->fr-core-news-sm==3.7.0) (0.3.2)\n",
      "Requirement already satisfied: typer<0.10.0,>=0.3.0 in /home/joseph/.virtualenvs/hn-ariane-ner-tuto-2023-5IA5eVhR/lib/python3.10/site-packages (from spacy<3.8.0,>=3.7.0->fr-core-news-sm==3.7.0) (0.9.0)\n",
      "Requirement already satisfied: pathy>=0.10.0 in /home/joseph/.virtualenvs/hn-ariane-ner-tuto-2023-5IA5eVhR/lib/python3.10/site-packages (from spacy<3.8.0,>=3.7.0->fr-core-news-sm==3.7.0) (0.10.2)\n",
      "Requirement already satisfied: smart-open<7.0.0,>=5.2.1 in /home/joseph/.virtualenvs/hn-ariane-ner-tuto-2023-5IA5eVhR/lib/python3.10/site-packages (from spacy<3.8.0,>=3.7.0->fr-core-news-sm==3.7.0) (6.4.0)\n",
      "Requirement already satisfied: tqdm<5.0.0,>=4.38.0 in /home/joseph/.virtualenvs/hn-ariane-ner-tuto-2023-5IA5eVhR/lib/python3.10/site-packages (from spacy<3.8.0,>=3.7.0->fr-core-news-sm==3.7.0) (4.66.1)\n",
      "Requirement already satisfied: requests<3.0.0,>=2.13.0 in /home/joseph/.virtualenvs/hn-ariane-ner-tuto-2023-5IA5eVhR/lib/python3.10/site-packages (from spacy<3.8.0,>=3.7.0->fr-core-news-sm==3.7.0) (2.31.0)\n",
      "Requirement already satisfied: pydantic!=1.8,!=1.8.1,<3.0.0,>=1.7.4 in /home/joseph/.virtualenvs/hn-ariane-ner-tuto-2023-5IA5eVhR/lib/python3.10/site-packages (from spacy<3.8.0,>=3.7.0->fr-core-news-sm==3.7.0) (2.4.2)\n",
      "Requirement already satisfied: jinja2 in /home/joseph/.virtualenvs/hn-ariane-ner-tuto-2023-5IA5eVhR/lib/python3.10/site-packages (from spacy<3.8.0,>=3.7.0->fr-core-news-sm==3.7.0) (3.1.2)\n",
      "Requirement already satisfied: setuptools in /home/joseph/.virtualenvs/hn-ariane-ner-tuto-2023-5IA5eVhR/lib/python3.10/site-packages (from spacy<3.8.0,>=3.7.0->fr-core-news-sm==3.7.0) (68.2.2)\n",
      "Requirement already satisfied: packaging>=20.0 in /home/joseph/.virtualenvs/hn-ariane-ner-tuto-2023-5IA5eVhR/lib/python3.10/site-packages (from spacy<3.8.0,>=3.7.0->fr-core-news-sm==3.7.0) (23.2)\n",
      "Requirement already satisfied: langcodes<4.0.0,>=3.2.0 in /home/joseph/.virtualenvs/hn-ariane-ner-tuto-2023-5IA5eVhR/lib/python3.10/site-packages (from spacy<3.8.0,>=3.7.0->fr-core-news-sm==3.7.0) (3.3.0)\n",
      "Requirement already satisfied: numpy>=1.19.0 in /home/joseph/.virtualenvs/hn-ariane-ner-tuto-2023-5IA5eVhR/lib/python3.10/site-packages (from spacy<3.8.0,>=3.7.0->fr-core-news-sm==3.7.0) (1.26.0)\n",
      "Requirement already satisfied: annotated-types>=0.4.0 in /home/joseph/.virtualenvs/hn-ariane-ner-tuto-2023-5IA5eVhR/lib/python3.10/site-packages (from pydantic!=1.8,!=1.8.1,<3.0.0,>=1.7.4->spacy<3.8.0,>=3.7.0->fr-core-news-sm==3.7.0) (0.6.0)\n",
      "Requirement already satisfied: pydantic-core==2.10.1 in /home/joseph/.virtualenvs/hn-ariane-ner-tuto-2023-5IA5eVhR/lib/python3.10/site-packages (from pydantic!=1.8,!=1.8.1,<3.0.0,>=1.7.4->spacy<3.8.0,>=3.7.0->fr-core-news-sm==3.7.0) (2.10.1)\n",
      "Requirement already satisfied: typing-extensions>=4.6.1 in /home/joseph/.virtualenvs/hn-ariane-ner-tuto-2023-5IA5eVhR/lib/python3.10/site-packages (from pydantic!=1.8,!=1.8.1,<3.0.0,>=1.7.4->spacy<3.8.0,>=3.7.0->fr-core-news-sm==3.7.0) (4.8.0)\n",
      "Requirement already satisfied: charset-normalizer<4,>=2 in /home/joseph/.virtualenvs/hn-ariane-ner-tuto-2023-5IA5eVhR/lib/python3.10/site-packages (from requests<3.0.0,>=2.13.0->spacy<3.8.0,>=3.7.0->fr-core-news-sm==3.7.0) (3.3.0)\n",
      "Requirement already satisfied: idna<4,>=2.5 in /home/joseph/.virtualenvs/hn-ariane-ner-tuto-2023-5IA5eVhR/lib/python3.10/site-packages (from requests<3.0.0,>=2.13.0->spacy<3.8.0,>=3.7.0->fr-core-news-sm==3.7.0) (3.4)\n",
      "Requirement already satisfied: urllib3<3,>=1.21.1 in /home/joseph/.virtualenvs/hn-ariane-ner-tuto-2023-5IA5eVhR/lib/python3.10/site-packages (from requests<3.0.0,>=2.13.0->spacy<3.8.0,>=3.7.0->fr-core-news-sm==3.7.0) (2.0.6)\n",
      "Requirement already satisfied: certifi>=2017.4.17 in /home/joseph/.virtualenvs/hn-ariane-ner-tuto-2023-5IA5eVhR/lib/python3.10/site-packages (from requests<3.0.0,>=2.13.0->spacy<3.8.0,>=3.7.0->fr-core-news-sm==3.7.0) (2023.7.22)\n",
      "Requirement already satisfied: blis<0.8.0,>=0.7.8 in /home/joseph/.virtualenvs/hn-ariane-ner-tuto-2023-5IA5eVhR/lib/python3.10/site-packages (from thinc<8.3.0,>=8.1.8->spacy<3.8.0,>=3.7.0->fr-core-news-sm==3.7.0) (0.7.11)\n",
      "Requirement already satisfied: confection<1.0.0,>=0.0.1 in /home/joseph/.virtualenvs/hn-ariane-ner-tuto-2023-5IA5eVhR/lib/python3.10/site-packages (from thinc<8.3.0,>=8.1.8->spacy<3.8.0,>=3.7.0->fr-core-news-sm==3.7.0) (0.1.3)\n",
      "Requirement already satisfied: click<9.0.0,>=7.1.1 in /home/joseph/.virtualenvs/hn-ariane-ner-tuto-2023-5IA5eVhR/lib/python3.10/site-packages (from typer<0.10.0,>=0.3.0->spacy<3.8.0,>=3.7.0->fr-core-news-sm==3.7.0) (8.1.7)\n",
      "Requirement already satisfied: cloudpathlib<0.16.0,>=0.7.0 in /home/joseph/.virtualenvs/hn-ariane-ner-tuto-2023-5IA5eVhR/lib/python3.10/site-packages (from weasel<0.4.0,>=0.1.0->spacy<3.8.0,>=3.7.0->fr-core-news-sm==3.7.0) (0.15.1)\n",
      "Requirement already satisfied: MarkupSafe>=2.0 in /home/joseph/.virtualenvs/hn-ariane-ner-tuto-2023-5IA5eVhR/lib/python3.10/site-packages (from jinja2->spacy<3.8.0,>=3.7.0->fr-core-news-sm==3.7.0) (2.1.3)\n",
      "\u001b[38;5;2m✔ Download and installation successful\u001b[0m\n",
      "You can now load the package via spacy.load('fr_core_news_sm')\n"
     ]
    }
   ],
   "source": [
    "# TEACHER\n",
    "!python -m spacy download fr_core_news_sm"
   ]
  },
  {
   "cell_type": "markdown",
   "metadata": {},
   "source": [
    "Nous pouvons à présent charger ce nouveau modèle à l'aide de la commande [`spacy.load(NOM_DU_MODÈLE)`](https://spacy.io/api/top-level#spacy.load)."
   ]
  },
  {
   "cell_type": "markdown",
   "metadata": {},
   "source": [
    "#### 🏗️ Complétez la cellule suivante pour charger le modèle que vous venez de télécharger.\n",
    "\n",
    "<details>\n",
    "<summary>Solution</summary>\n",
    "\n",
    "```python\n",
    "nlp = spacy.load(\"fr_core_news_sm\")\n",
    "````\n",
    "</details>\n"
   ]
  },
  {
   "cell_type": "code",
   "execution_count": null,
   "metadata": {},
   "outputs": [],
   "source": [
    "nlp = spacy.load(________)"
   ]
  },
  {
   "cell_type": "code",
   "execution_count": 11,
   "metadata": {
    "tags": [
     "teacher"
    ]
   },
   "outputs": [],
   "source": [
    "# TEACHER\n",
    "nlp = spacy.load(\"fr_core_news_sm\")"
   ]
  },
  {
   "cell_type": "markdown",
   "metadata": {},
   "source": [
    "#### 🏗️ Exécutez à présent la cellule suivante pour vérifier que nous disposons bien de nouveau composants"
   ]
  },
  {
   "cell_type": "code",
   "execution_count": 15,
   "metadata": {},
   "outputs": [
    {
     "data": {
      "text/plain": [
       "['tok2vec', 'morphologizer', 'parser', 'attribute_ruler', 'lemmatizer', 'ner']"
      ]
     },
     "execution_count": 15,
     "metadata": {},
     "output_type": "execute_result"
    }
   ],
   "source": [
    "nlp.pipe_names"
   ]
  },
  {
   "attachments": {},
   "cell_type": "markdown",
   "metadata": {},
   "source": [
    "### 3.2 Premiers pas avec un modèle sur étagère 📦"
   ]
  },
  {
   "cell_type": "markdown",
   "metadata": {},
   "source": [
    "Nous pouvons à présent utiliser notre modèle pour extraire des informations plus intéressantes d'un texte, comme de l'[étiquetage morpho-syntaxique](https://fr.wikipedia.org/wiki/%C3%89tiquetage_morpho-syntaxique), aussi appelé étiquetage grammatical, ou *POS tagging* (*part-of-speech tagging*) en anglais, pour jouer un peu avant de nous recentrer sur la reconnaissance d'entités nommées."
   ]
  },
  {
   "cell_type": "code",
   "execution_count": 16,
   "metadata": {},
   "outputs": [
    {
     "name": "stdout",
     "output_type": "stream",
     "text": [
      "     Token    POS    Synt. dep. rel.    Synt. parent\n",
      "--------------------------------------------------\n",
      "        La    DET                det         journée\n",
      "   journée   NOUN              nsubj         déroule\n",
      "        de    ADP               case       formation\n",
      " formation   NOUN               nmod         journée\n",
      "         à    ADP               case            Lyon\n",
      "      Lyon  PROPN               nmod         journée\n",
      "        se   PRON          expl:comp         déroule\n",
      "   déroule   VERB               ROOT         déroule\n",
      "      bien    ADV             advmod         déroule\n",
      "         .  PUNCT              punct         déroule\n"
     ]
    }
   ],
   "source": [
    "# POS tagging example\n",
    "doc = nlp(\"La journée de formation à Lyon se déroule bien.\")\n",
    "print(f\"{'Token':>10s}\", f\"{'POS':>6s}\", f\"{'Synt. dep. rel.':>18s}\", f\"{'Synt. parent':>15s}\")\n",
    "print(\"-\"*50)\n",
    "for token in doc:\n",
    "    print(f\"{token.text:>10s}\", f\"{token.pos_:>6s}\", f\"{token.dep_:>18s}\", f\"{token.head.text:>15s}\")"
   ]
  },
  {
   "cell_type": "markdown",
   "metadata": {},
   "source": [
    "🤓 Pourquoi certains [attributs des tokens](https://spacy.io/api/token#attributes) terminent-ils par un `_` ?  \n",
    "C'est parce que la valeur de base (sans le `_`) est un identifiant (un nombre entier) qui pointe vers une case d'un grand dictionnaire d'éléments connus. C'est une façon efficace, mais peu lisible, de stocker l'information. D'où la variante lisible !"
   ]
  },
  {
   "attachments": {},
   "cell_type": "markdown",
   "metadata": {},
   "source": [
    "Il est également possible de demander à spaCy des explications sur un terme utilisé à l'aide de la fonction `spacy.explain()`.\n",
    "\n",
    "Vous pouvez modifier la cellule ci-dessous pour obtenir plus d'information sur un terme si vous le souhaitez."
   ]
  },
  {
   "cell_type": "code",
   "execution_count": 17,
   "metadata": {},
   "outputs": [
    {
     "data": {
      "text/plain": [
       "'adverbial modifier'"
      ]
     },
     "execution_count": 17,
     "metadata": {},
     "output_type": "execute_result"
    }
   ],
   "source": [
    "spacy.explain(\"advmod\")"
   ]
  },
  {
   "attachments": {},
   "cell_type": "markdown",
   "metadata": {},
   "source": [
    "### 3.3 Reconnaissance d'entités nommées"
   ]
  },
  {
   "cell_type": "markdown",
   "metadata": {},
   "source": [
    "Voici une nouvelle phrase qui contient deux entités classiques : une **personne** (à laquelle correspondra l'étiquette `PER`) et un **lieu** (qui sera repéré par l'étiquette `LOC`)."
   ]
  },
  {
   "cell_type": "markdown",
   "metadata": {},
   "source": [
    "#### 🏗️ Analysons-la avec notre nouveau modèle !\n",
    "Exécutez la cellule ci-dessous."
   ]
  },
  {
   "cell_type": "code",
   "execution_count": 18,
   "metadata": {},
   "outputs": [],
   "source": [
    "doc = nlp(\"Joseph est venu en train à Lyon.\")"
   ]
  },
  {
   "cell_type": "markdown",
   "metadata": {},
   "source": [
    "Bien qu'on puisse lire la valeur de l'attribut `ent_type_` de chaque objet [`Token`](https://spacy.io/api/token#attributes), il est souvent plus pratique de ne lister que les entités nommées détectées dans un document. De plus, certaines entités peuvent contenir plusieurs *tokens*, ce qui rend leur extraction manuelle plus délicate !\n",
    "\n",
    "Heureusement, l'objet [`Doc`](https://spacy.io/api/doc) dispose d'une propriété [`Doc.ents`](https://spacy.io/api/doc#ents) qui renvoie une liste d'objets [`Span`](https://spacy.io/api/span) qui représentent les positions des entités et les étiquettes (*labels*) qui leur sont associés."
   ]
  },
  {
   "cell_type": "markdown",
   "metadata": {},
   "source": [
    "#### 🏗️ Complétez le code de la cellule ci-dessous pour afficher le texte et le *label* de chaque entité\n",
    "- Utilisez les attributs `start`, `end` de chaque `Span` pour sélectionner le fragment de document couvert à l'aide d'un *range* Python\n",
    "- Utiliser leur attribut `label_` pour afficher le type d'entité détecté sous forme textuelle\n",
    "\n",
    "<details>\n",
    "<summary>Solution</summary>\n",
    "\n",
    "```python\n",
    "for ent in doc.ents:\n",
    "    print(doc[ent.start:ent.end], ent.label_)\n",
    "```\n",
    "</details>\n"
   ]
  },
  {
   "cell_type": "code",
   "execution_count": null,
   "metadata": {},
   "outputs": [],
   "source": [
    "for ent in doc.____:\n",
    "    print(doc[____:____], ____)"
   ]
  },
  {
   "cell_type": "code",
   "execution_count": 20,
   "metadata": {
    "tags": [
     "teacher"
    ]
   },
   "outputs": [
    {
     "name": "stdout",
     "output_type": "stream",
     "text": [
      "Joseph PER\n",
      "Lyon LOC\n"
     ]
    }
   ],
   "source": [
    "# TEACHER\n",
    "for ent in doc.ents:\n",
    "    print(doc[ent.start:ent.end], ent.label_)\n",
    "    # print(ent, ent.label_)  # fonctionne aussi car le texte du Span est utilisé comme valeur à afficher\n",
    "    # print(ent.text, ent.label_)  # fonctionne également / plus simple : à privilégier ?"
   ]
  },
  {
   "attachments": {},
   "cell_type": "markdown",
   "metadata": {},
   "source": [
    "### 3.4 Visualisation\n"
   ]
  },
  {
   "attachments": {},
   "cell_type": "markdown",
   "metadata": {},
   "source": [
    "spaCy dispose d'un moteur de visualisation très pratique, qui produit de très jolis résultats.\n",
    "\n",
    "Il est utilisable via le module [`displacy`](https://spacy.io/universe/project/displacy) qui permet de visualiser les informations extraites d'un document, en particulier les [entités nommées](https://spacy.io/usage/visualizers#ent).\n",
    "\n",
    "Encore mieux, il peut être [utilisé dans un notebook](https://spacy.io/usage/visualizers#jupyter) !"
   ]
  },
  {
   "cell_type": "code",
   "execution_count": 21,
   "metadata": {},
   "outputs": [
    {
     "data": {
      "text/html": [
       "<span class=\"tex2jax_ignore\"><div class=\"entities\" style=\"line-height: 2.5; direction: ltr\">\n",
       "<mark class=\"entity\" style=\"background: #ddd; padding: 0.45em 0.6em; margin: 0 0.25em; line-height: 1; border-radius: 0.35em;\">\n",
       "    Joseph\n",
       "    <span style=\"font-size: 0.8em; font-weight: bold; line-height: 1; border-radius: 0.35em; vertical-align: middle; margin-left: 0.5rem\">PER</span>\n",
       "</mark>\n",
       " est venu en train à \n",
       "<mark class=\"entity\" style=\"background: #ff9561; padding: 0.45em 0.6em; margin: 0 0.25em; line-height: 1; border-radius: 0.35em;\">\n",
       "    Lyon\n",
       "    <span style=\"font-size: 0.8em; font-weight: bold; line-height: 1; border-radius: 0.35em; vertical-align: middle; margin-left: 0.5rem\">LOC</span>\n",
       "</mark>\n",
       ".</div></span>"
      ],
      "text/plain": [
       "<IPython.core.display.HTML object>"
      ]
     },
     "metadata": {},
     "output_type": "display_data"
    }
   ],
   "source": [
    "from spacy import displacy\n",
    "displacy.render(doc, style=\"ent\", jupyter=True)"
   ]
  },
  {
   "cell_type": "markdown",
   "metadata": {},
   "source": [
    "🤓 Vous pouvez même modifier le style d'affichage en indiquant `\"dep\"` pour afficher le graphe de dépendances syntaxiques de notre document."
   ]
  },
  {
   "cell_type": "code",
   "execution_count": 22,
   "metadata": {
    "tags": [
     "treacher"
    ]
   },
   "outputs": [
    {
     "data": {
      "text/html": [
       "<span class=\"tex2jax_ignore\"><svg xmlns=\"http://www.w3.org/2000/svg\" xmlns:xlink=\"http://www.w3.org/1999/xlink\" xml:lang=\"fr\" id=\"2a6d733d03d74027b9deb540a40a13ed-0\" class=\"displacy\" width=\"1275\" height=\"312.0\" direction=\"ltr\" style=\"max-width: none; height: 312.0px; color: #000000; background: #ffffff; font-family: Arial; direction: ltr\">\n",
       "<text class=\"displacy-token\" fill=\"currentColor\" text-anchor=\"middle\" y=\"222.0\">\n",
       "    <tspan class=\"displacy-word\" fill=\"currentColor\" x=\"50\">Joseph</tspan>\n",
       "    <tspan class=\"displacy-tag\" dy=\"2em\" fill=\"currentColor\" x=\"50\">PROPN</tspan>\n",
       "</text>\n",
       "\n",
       "<text class=\"displacy-token\" fill=\"currentColor\" text-anchor=\"middle\" y=\"222.0\">\n",
       "    <tspan class=\"displacy-word\" fill=\"currentColor\" x=\"225\">est</tspan>\n",
       "    <tspan class=\"displacy-tag\" dy=\"2em\" fill=\"currentColor\" x=\"225\">AUX</tspan>\n",
       "</text>\n",
       "\n",
       "<text class=\"displacy-token\" fill=\"currentColor\" text-anchor=\"middle\" y=\"222.0\">\n",
       "    <tspan class=\"displacy-word\" fill=\"currentColor\" x=\"400\">venu</tspan>\n",
       "    <tspan class=\"displacy-tag\" dy=\"2em\" fill=\"currentColor\" x=\"400\">VERB</tspan>\n",
       "</text>\n",
       "\n",
       "<text class=\"displacy-token\" fill=\"currentColor\" text-anchor=\"middle\" y=\"222.0\">\n",
       "    <tspan class=\"displacy-word\" fill=\"currentColor\" x=\"575\">en</tspan>\n",
       "    <tspan class=\"displacy-tag\" dy=\"2em\" fill=\"currentColor\" x=\"575\">ADP</tspan>\n",
       "</text>\n",
       "\n",
       "<text class=\"displacy-token\" fill=\"currentColor\" text-anchor=\"middle\" y=\"222.0\">\n",
       "    <tspan class=\"displacy-word\" fill=\"currentColor\" x=\"750\">train</tspan>\n",
       "    <tspan class=\"displacy-tag\" dy=\"2em\" fill=\"currentColor\" x=\"750\">NOUN</tspan>\n",
       "</text>\n",
       "\n",
       "<text class=\"displacy-token\" fill=\"currentColor\" text-anchor=\"middle\" y=\"222.0\">\n",
       "    <tspan class=\"displacy-word\" fill=\"currentColor\" x=\"925\">à</tspan>\n",
       "    <tspan class=\"displacy-tag\" dy=\"2em\" fill=\"currentColor\" x=\"925\">ADP</tspan>\n",
       "</text>\n",
       "\n",
       "<text class=\"displacy-token\" fill=\"currentColor\" text-anchor=\"middle\" y=\"222.0\">\n",
       "    <tspan class=\"displacy-word\" fill=\"currentColor\" x=\"1100\">Lyon.</tspan>\n",
       "    <tspan class=\"displacy-tag\" dy=\"2em\" fill=\"currentColor\" x=\"1100\">PROPN</tspan>\n",
       "</text>\n",
       "\n",
       "<g class=\"displacy-arrow\">\n",
       "    <path class=\"displacy-arc\" id=\"arrow-2a6d733d03d74027b9deb540a40a13ed-0-0\" stroke-width=\"2px\" d=\"M70,177.0 C70,2.0 400.0,2.0 400.0,177.0\" fill=\"none\" stroke=\"currentColor\"/>\n",
       "    <text dy=\"1.25em\" style=\"font-size: 0.8em; letter-spacing: 1px\">\n",
       "        <textPath xlink:href=\"#arrow-2a6d733d03d74027b9deb540a40a13ed-0-0\" class=\"displacy-label\" startOffset=\"50%\" side=\"left\" fill=\"currentColor\" text-anchor=\"middle\">nsubj:pass</textPath>\n",
       "    </text>\n",
       "    <path class=\"displacy-arrowhead\" d=\"M70,179.0 L62,167.0 78,167.0\" fill=\"currentColor\"/>\n",
       "</g>\n",
       "\n",
       "<g class=\"displacy-arrow\">\n",
       "    <path class=\"displacy-arc\" id=\"arrow-2a6d733d03d74027b9deb540a40a13ed-0-1\" stroke-width=\"2px\" d=\"M245,177.0 C245,89.5 395.0,89.5 395.0,177.0\" fill=\"none\" stroke=\"currentColor\"/>\n",
       "    <text dy=\"1.25em\" style=\"font-size: 0.8em; letter-spacing: 1px\">\n",
       "        <textPath xlink:href=\"#arrow-2a6d733d03d74027b9deb540a40a13ed-0-1\" class=\"displacy-label\" startOffset=\"50%\" side=\"left\" fill=\"currentColor\" text-anchor=\"middle\">aux:tense</textPath>\n",
       "    </text>\n",
       "    <path class=\"displacy-arrowhead\" d=\"M245,179.0 L237,167.0 253,167.0\" fill=\"currentColor\"/>\n",
       "</g>\n",
       "\n",
       "<g class=\"displacy-arrow\">\n",
       "    <path class=\"displacy-arc\" id=\"arrow-2a6d733d03d74027b9deb540a40a13ed-0-2\" stroke-width=\"2px\" d=\"M595,177.0 C595,89.5 745.0,89.5 745.0,177.0\" fill=\"none\" stroke=\"currentColor\"/>\n",
       "    <text dy=\"1.25em\" style=\"font-size: 0.8em; letter-spacing: 1px\">\n",
       "        <textPath xlink:href=\"#arrow-2a6d733d03d74027b9deb540a40a13ed-0-2\" class=\"displacy-label\" startOffset=\"50%\" side=\"left\" fill=\"currentColor\" text-anchor=\"middle\">case</textPath>\n",
       "    </text>\n",
       "    <path class=\"displacy-arrowhead\" d=\"M595,179.0 L587,167.0 603,167.0\" fill=\"currentColor\"/>\n",
       "</g>\n",
       "\n",
       "<g class=\"displacy-arrow\">\n",
       "    <path class=\"displacy-arc\" id=\"arrow-2a6d733d03d74027b9deb540a40a13ed-0-3\" stroke-width=\"2px\" d=\"M420,177.0 C420,2.0 750.0,2.0 750.0,177.0\" fill=\"none\" stroke=\"currentColor\"/>\n",
       "    <text dy=\"1.25em\" style=\"font-size: 0.8em; letter-spacing: 1px\">\n",
       "        <textPath xlink:href=\"#arrow-2a6d733d03d74027b9deb540a40a13ed-0-3\" class=\"displacy-label\" startOffset=\"50%\" side=\"left\" fill=\"currentColor\" text-anchor=\"middle\">obl:arg</textPath>\n",
       "    </text>\n",
       "    <path class=\"displacy-arrowhead\" d=\"M750.0,179.0 L758.0,167.0 742.0,167.0\" fill=\"currentColor\"/>\n",
       "</g>\n",
       "\n",
       "<g class=\"displacy-arrow\">\n",
       "    <path class=\"displacy-arc\" id=\"arrow-2a6d733d03d74027b9deb540a40a13ed-0-4\" stroke-width=\"2px\" d=\"M945,177.0 C945,89.5 1095.0,89.5 1095.0,177.0\" fill=\"none\" stroke=\"currentColor\"/>\n",
       "    <text dy=\"1.25em\" style=\"font-size: 0.8em; letter-spacing: 1px\">\n",
       "        <textPath xlink:href=\"#arrow-2a6d733d03d74027b9deb540a40a13ed-0-4\" class=\"displacy-label\" startOffset=\"50%\" side=\"left\" fill=\"currentColor\" text-anchor=\"middle\">case</textPath>\n",
       "    </text>\n",
       "    <path class=\"displacy-arrowhead\" d=\"M945,179.0 L937,167.0 953,167.0\" fill=\"currentColor\"/>\n",
       "</g>\n",
       "\n",
       "<g class=\"displacy-arrow\">\n",
       "    <path class=\"displacy-arc\" id=\"arrow-2a6d733d03d74027b9deb540a40a13ed-0-5\" stroke-width=\"2px\" d=\"M770,177.0 C770,2.0 1100.0,2.0 1100.0,177.0\" fill=\"none\" stroke=\"currentColor\"/>\n",
       "    <text dy=\"1.25em\" style=\"font-size: 0.8em; letter-spacing: 1px\">\n",
       "        <textPath xlink:href=\"#arrow-2a6d733d03d74027b9deb540a40a13ed-0-5\" class=\"displacy-label\" startOffset=\"50%\" side=\"left\" fill=\"currentColor\" text-anchor=\"middle\">nmod</textPath>\n",
       "    </text>\n",
       "    <path class=\"displacy-arrowhead\" d=\"M1100.0,179.0 L1108.0,167.0 1092.0,167.0\" fill=\"currentColor\"/>\n",
       "</g>\n",
       "</svg></span>"
      ],
      "text/plain": [
       "<IPython.core.display.HTML object>"
      ]
     },
     "metadata": {},
     "output_type": "display_data"
    }
   ],
   "source": [
    "displacy.render(doc, style=\"dep\", jupyter=True)"
   ]
  },
  {
   "attachments": {},
   "cell_type": "markdown",
   "metadata": {},
   "source": [
    "## 4. Traiter les données de notre corpus d'exemple — *⏱️ 5 mn*"
   ]
  },
  {
   "attachments": {},
   "cell_type": "markdown",
   "metadata": {},
   "source": [
    "Nous allons à présent utiliser notre modèle pour traiter les données de notre corpus et réaliser une première analyse qualitative superficielle des résultats produits.\n",
    "\n",
    "Pour vous illustrer la procédure à suivre avec vos propres données, nous allons vous montrer comment accéder à une collection de fichiers texte :\n",
    "1. si vous utilisez **Google Colab**, en utilisant le contenu d'un de vos dossiers Google Drive,\n",
    "2. si vous utilisez **votre propre machine**, en indiquant simplement le chemin vers lequel les fichiers sont stockés.\n",
    "\n",
    "Ces deux cas sont assez semblables, la seule différence est qu'avec Google Colab, vous utiliser une machine virtuelle distance, et que vous ne pouvez contrôler cette dernière que par l'intermédiaire de l'interface de Colab (un notebook amélioré)."
   ]
  },
  {
   "attachments": {},
   "cell_type": "markdown",
   "metadata": {},
   "source": [
    "#### 🛠️ Récupérer des fichiers intéressants sur votre machine\n",
    "Vous allez télécharger le jeu de données original “[French ELTEC NER Open Dataset](http://hdl.handle.net/20.500.11752/OPEN-986)” par Carmen Brando, Francesca Frontini, et Ioana Galleron.\n",
    "\n",
    "[![📦 Cliquez ici pour télécharger le jeu de données](https://img.shields.io/badge/%F0%9F%93%A6-Cliquez_ici_pour_t%C3%A9l%C3%A9charger_le_jeu_de_donn%C3%A9es-blue)](https://dspace-clarin-it.ilc.cnr.it/repository/xmlui/bitstream/handle/20.500.11752/OPEN-986/French_ELTEC_NER_Open_Dataset.zip) et enregistrez-le quelque-part sur votre ordinateur personnel."
   ]
  },
  {
   "attachments": {},
   "cell_type": "markdown",
   "metadata": {},
   "source": [
    "### 4.1 Utiliser Drive pour envoyer des fichiers sur Colab\n",
    "**Si vous exécutez votre *notebook* sur votre propre machine, vous pouvez passer cette partie.**\n",
    "\n",
    "À présent, copiez le fichier Zip téléchargé dans un dossier de votre choix (par exemple \"Formation Ariane\") de votre Drive.\n",
    "\n",
    "Nous sommes maintenant prêts à \"monter\" votre Drive sur la machine virtuelle que vous utilisez sur Google Colab."
   ]
  },
  {
   "attachments": {},
   "cell_type": "markdown",
   "metadata": {},
   "source": [
    "#### 🛠️ Complétez et exécutez la cellule ci-dessous et autorisez Colab à accéder à votre Drive\n",
    "Une fois cette opération réalisée, votre machine virtuelle Google Colab pourra accéder au fichier que vous venez de déposer."
   ]
  },
  {
   "cell_type": "code",
   "execution_count": null,
   "metadata": {},
   "outputs": [],
   "source": [
    "# Mount drive\n",
    "from google.colab import drive\n",
    "drive.mount('/gdrive')\n",
    "\n",
    "# COMPLÉTEZ CETTE LIGNE AVEC LE NOM DU DOSSIER DANS LEQUEL VOUS AVEZ DÉPOSÉ VOTRE FICHIER\n",
    "# > just access \"/gdrive/My Drive/...\"\n",
    "FOLDER_NAME = \"Formation Ariane\"  # 👈👈👈\n",
    "\n",
    "# Si vous avez changé le nom du fichier, vous pouvez l'indiquer ici\n",
    "ZIP_FILENAME = \"French_ELTEC_NER_Open_Dataset.zip\"\n",
    "\n",
    "# On vérifie qu'on arrive bien à accéder au fichier\n",
    "import os.path\n",
    "dataset_zip_path = f\"/gdrive/My Drive/{FOLDER_NAME}/{ZIP_FILENAME}\"\n",
    "if os.path.exists(dataset_zip_path):\n",
    "    print(\"Fichier bien trouvé !\")\n",
    "else:\n",
    "    err_msg = f\"Erreur, le fichier n'a pas été trouvé au chemin '{dataset_zip_path}'.\"\n",
    "    print(err_msg)\n",
    "    raise ValueError(err_msg)\n",
    "dataset_destination_dir = \"./dataset/\""
   ]
  },
  {
   "attachments": {},
   "cell_type": "markdown",
   "metadata": {},
   "source": [
    "#### ⚠️ Si vous travaillez sur votre machine personnelle, dé-commentez, modifiez et exécutez la cellule suivante\n",
    "Ceci nous servira à indiquer :\n",
    "1. où est rangé le fichier ZIP contenant le jeu de données\n",
    "2. où il faudra décompresser les fichiers qu'il contient"
   ]
  },
  {
   "cell_type": "code",
   "execution_count": 18,
   "metadata": {},
   "outputs": [],
   "source": [
    "# dataset_zip_path = \"/home/jchazalo/Downloads/French_ELTEC_NER_Open_Dataset.zip\"\n",
    "# dataset_destination_dir = \"/home/jchazalo/tmp/datasets\""
   ]
  },
  {
   "cell_type": "code",
   "execution_count": 23,
   "metadata": {
    "tags": [
     "teacher"
    ]
   },
   "outputs": [],
   "source": [
    "# TEACHER\n",
    "dataset_zip_path = \"/home/jchazalo/Downloads/French_ELTEC_NER_Open_Dataset.zip\"\n",
    "dataset_destination_dir = \"/home/jchazalo/tmp/datasets\""
   ]
  },
  {
   "attachments": {},
   "cell_type": "markdown",
   "metadata": {},
   "source": [
    "### 4.2 Décompresser les fichiers\n",
    "Afin de faciliter l'accès aux différents fichiers, nous allons à présent décompresser les fichiers du jeu de données.\n",
    "\n",
    "Nous allons utiliser les 100 fichiers texte extraits de romans du 19e siècle."
   ]
  },
  {
   "attachments": {},
   "cell_type": "markdown",
   "metadata": {},
   "source": [
    "#### 🛠️ Exécutez la cellule suivante et vérifiez qu'aucune erreur n'est rencontrée"
   ]
  },
  {
   "cell_type": "code",
   "execution_count": 24,
   "metadata": {},
   "outputs": [
    {
     "name": "stdout",
     "output_type": "stream",
     "text": [
      "/home/jchazalo/tmp/French_ELTEC_NER_Open_Dataset.zip: OK\n",
      "Archive:  /home/jchazalo/tmp/French_ELTEC_NER_Open_Dataset.zip\n",
      "   creating: /home/jchazalo/tmp/datasets/French_ELTEC_NER_Open_Dataset/annotations/\n",
      "   creating: /home/jchazalo/tmp/datasets/French_ELTEC_NER_Open_Dataset/annotations/pool/\n",
      "  inflating: /home/jchazalo/tmp/datasets/French_ELTEC_NER_Open_Dataset/annotations/pool/a.0MBIm18ieWUH8iyy4d4RIFZKSu-FRA02802_Mirbeau.txt.ann.json  \n",
      "  inflating: /home/jchazalo/tmp/datasets/French_ELTEC_NER_Open_Dataset/annotations/pool/a.GwmWhiyt0OKvDrD6b._1MxEt2K-FRA03101_Ponson.txt.ann.json  \n",
      "  inflating: /home/jchazalo/tmp/datasets/French_ELTEC_NER_Open_Dataset/annotations/pool/a.JUEoYT5Jt44vnpvLAg8WSk0iVm-FRA00901_Daudet.txt.ann.json  \n",
      "  inflating: /home/jchazalo/tmp/datasets/French_ELTEC_NER_Open_Dataset/annotations/pool/a.n8hDHVP39RVA3a5sKkRffFXIUO-FRA04102_Erckmann.txt.ann.json  \n",
      "  inflating: /home/jchazalo/tmp/datasets/French_ELTEC_NER_Open_Dataset/annotations/pool/a_C54L4cLST4beyZLSbBM1qUuygK-FRA07001_Mendes.txt.ann.json  \n",
      "  inflating: /home/jchazalo/tmp/datasets/French_ELTEC_NER_Open_Dataset/annotations/pool/a_cdO7G8FaGY5emxh2eoIs4VTvWq-FRA01302_Flaubert.txt.ann.json  \n",
      "  inflating: /home/jchazalo/tmp/datasets/French_ELTEC_NER_Open_Dataset/annotations/pool/a0z.I.nFSfzECA9d.L_J7DCWOZXm-FRA05801_Mille.txt.ann.json  \n",
      "  inflating: /home/jchazalo/tmp/datasets/French_ELTEC_NER_Open_Dataset/annotations/pool/a34P3V2Cg118Ym0ahNVjTy4.Ex5O-FRA04601_Bazin.txt.ann.json  \n",
      "  inflating: /home/jchazalo/tmp/datasets/French_ELTEC_NER_Open_Dataset/annotations/pool/a3MNF7TUrtea7XfRiJXn6Wk0b858-FRA07201_Montagne.txt.ann.json  \n",
      "  inflating: /home/jchazalo/tmp/datasets/French_ELTEC_NER_Open_Dataset/annotations/pool/a49_fmd9IHJ2wC1gsQKizy8CDYZi-FRA04001_Verne.txt.ann.json  \n",
      "  inflating: /home/jchazalo/tmp/datasets/French_ELTEC_NER_Open_Dataset/annotations/pool/a5.iqH.1H1PMZS_S9ADOeQldE17q-FRA01602_GautierJ.txt.ann.json  \n",
      "  inflating: /home/jchazalo/tmp/datasets/French_ELTEC_NER_Open_Dataset/annotations/pool/a5af6lkwwCShnfYUFUypljWGfaOK-FRA03601_Proust.txt.ann.json  \n",
      "  inflating: /home/jchazalo/tmp/datasets/French_ELTEC_NER_Open_Dataset/annotations/pool/a5KaOu4YsuzLiiz0ROmtJI7AnhtG-FRA03702_Sand.txt.ann.json  \n",
      "  inflating: /home/jchazalo/tmp/datasets/French_ELTEC_NER_Open_Dataset/annotations/pool/a6R7A7Zoq2ls3KXj7rL3NT_W4V6S-FRA00101_Adam.txt.ann.json  \n",
      "  inflating: /home/jchazalo/tmp/datasets/French_ELTEC_NER_Open_Dataset/annotations/pool/a71F.BlguFo3ou6nE0MparHkmd_C-FRA02202_Gouraud.txt.ann.json  \n",
      "  inflating: /home/jchazalo/tmp/datasets/French_ELTEC_NER_Open_Dataset/annotations/pool/a7hmKErzaA84WwEI1CA2P3X.8vOW-FRA02302_Greville.txt.ann.json  \n",
      "  inflating: /home/jchazalo/tmp/datasets/French_ELTEC_NER_Open_Dataset/annotations/pool/a7K9yh.2wyxHG509T8Fb8wCuufFy-FRA02701_Maupassant.txt.ann.json  \n",
      "  inflating: /home/jchazalo/tmp/datasets/French_ELTEC_NER_Open_Dataset/annotations/pool/a7KC5U74jME2kMN7UrkwepzFM77S-FRA05702_Maquet.txt.ann.json  \n",
      "  inflating: /home/jchazalo/tmp/datasets/French_ELTEC_NER_Open_Dataset/annotations/pool/a7p9e.No7R2GKqDgEh5gBOdCRhne-FRA02203_Gouraud.txt.ann.json  \n",
      "  inflating: /home/jchazalo/tmp/datasets/French_ELTEC_NER_Open_Dataset/annotations/pool/a7x9ILGFUg81t609xJAbRizBuA9K-FRA06801_Vaillant.txt.ann.json  \n",
      "  inflating: /home/jchazalo/tmp/datasets/French_ELTEC_NER_Open_Dataset/annotations/pool/a8ifGWtH6jLsTLFEhsHz_ENJP11y-FRA00602_Boisgobey.txt.ann.json  \n",
      "  inflating: /home/jchazalo/tmp/datasets/French_ELTEC_NER_Open_Dataset/annotations/pool/a9_JuHi9In_5VsmgTMcy5iOTqgVe-FRA01603_GautierJ.txt.ann.json  \n",
      "  inflating: /home/jchazalo/tmp/datasets/French_ELTEC_NER_Open_Dataset/annotations/pool/a92twUwlsYoRjJ8euN0AMEhWGNQW-FRA04901_Dumas.txt.ann.json  \n",
      "  inflating: /home/jchazalo/tmp/datasets/French_ELTEC_NER_Open_Dataset/annotations/pool/a9FSAunkcRYSVp9TeHFuqJ5cVxIS-FRA01201_Feval.txt.ann.json  \n",
      "  inflating: /home/jchazalo/tmp/datasets/French_ELTEC_NER_Open_Dataset/annotations/pool/a9P3XY5QqtvJFE.mQfM9M23M4M4m-FRA01401_Fleuriot.txt.ann.json  \n",
      "  inflating: /home/jchazalo/tmp/datasets/French_ELTEC_NER_Open_Dataset/annotations/pool/aAAH8jUAa3ntArp8vRpY5ugdwvLS-FRA05201_Feuillet.txt.ann.json  \n",
      "  inflating: /home/jchazalo/tmp/datasets/French_ELTEC_NER_Open_Dataset/annotations/pool/aaNd0P7.1oMqW5ygGCMZqhCCzXZe-FRA06001_Rebell.txt.ann.json  \n",
      "  inflating: /home/jchazalo/tmp/datasets/French_ELTEC_NER_Open_Dataset/annotations/pool/aap1i.sUcbMOHzBFrWagaR3v9YhK-FRA06501_Gyp.txt.ann.json  \n",
      "  inflating: /home/jchazalo/tmp/datasets/French_ELTEC_NER_Open_Dataset/annotations/pool/aAS0WZEtuwL67MLmDsJ3kLDhe33W-FRA04801_Corday.txt.ann.json  \n",
      "  inflating: /home/jchazalo/tmp/datasets/French_ELTEC_NER_Open_Dataset/annotations/pool/aatgMri5vGFFR91ztyo2Vpp4RLJ4-FRA06901_Vignon.txt.ann.json  \n",
      "  inflating: /home/jchazalo/tmp/datasets/French_ELTEC_NER_Open_Dataset/annotations/pool/aaUXY5cOU5zVcD4h6kxELupRWNKC-FRA00801_Dash.txt.ann.json  \n",
      "  inflating: /home/jchazalo/tmp/datasets/French_ELTEC_NER_Open_Dataset/annotations/pool/abAe3jd6lQovJLSTvdifwTjw14iK-FRA02303_Greville.txt.ann.json  \n",
      "  inflating: /home/jchazalo/tmp/datasets/French_ELTEC_NER_Open_Dataset/annotations/pool/abBmPweZyAxzbqSOGsC_bzk_WIuG-FRA02301_Greville.txt.ann.json  \n",
      "  inflating: /home/jchazalo/tmp/datasets/French_ELTEC_NER_Open_Dataset/annotations/pool/abRcy3SO2ZZgE3XqxWkJ2goP1D30-FRA04002_Verne.txt.ann.json  \n",
      "  inflating: /home/jchazalo/tmp/datasets/French_ELTEC_NER_Open_Dataset/annotations/pool/aCBPDbOM5zaCJ.9M5n6m8l9RxWMC-FRA00601_Boisgobey.txt.ann.json  \n",
      "  inflating: /home/jchazalo/tmp/datasets/French_ELTEC_NER_Open_Dataset/annotations/pool/aCQVyShyQUhBawtxZ9Eq7whm687a-FRA00401_Allais.txt.ann.json  \n",
      "  inflating: /home/jchazalo/tmp/datasets/French_ELTEC_NER_Open_Dataset/annotations/pool/aDNsOWosoMcvWAOS7unI4MFI5va4-FRA03701_Sand.txt.ann.json  \n",
      "  inflating: /home/jchazalo/tmp/datasets/French_ELTEC_NER_Open_Dataset/annotations/pool/aDXiGUcFvQ5eGRTuXHgEa3Jj7zQu-FRA01301_Flaubert.txt.ann.json  \n",
      "  inflating: /home/jchazalo/tmp/datasets/French_ELTEC_NER_Open_Dataset/annotations/pool/ae7pSxEUY74LSaal.Kro451VKTsq-FRA01102_Dombre.txt.ann.json  \n",
      "  inflating: /home/jchazalo/tmp/datasets/French_ELTEC_NER_Open_Dataset/annotations/pool/aeA9_2pkQRJejockZFU7lsVocD.m-FRA03802_Stern.txt.ann.json  \n",
      "  inflating: /home/jchazalo/tmp/datasets/French_ELTEC_NER_Open_Dataset/annotations/pool/aeb6idLObyWMnd5MtaJys1554048-FRA07401_Leblanc.txt.ann.json  \n",
      "  inflating: /home/jchazalo/tmp/datasets/French_ELTEC_NER_Open_Dataset/annotations/pool/aEf9W6iinoZdPr42zuEOPWW0TMPS-FRA06201_Viel_Castel.txt.ann.json  \n",
      "  inflating: /home/jchazalo/tmp/datasets/French_ELTEC_NER_Open_Dataset/annotations/pool/aEh3dvy7r5ksqjMb7fjWUtll7Zg8-FRA02101_Girardin.txt.ann.json  \n",
      "  inflating: /home/jchazalo/tmp/datasets/French_ELTEC_NER_Open_Dataset/annotations/pool/aEHUPuyJPVmulQZkJ8BakruAiyDW-FRA05501_Lermina.txt.ann.json  \n",
      "  inflating: /home/jchazalo/tmp/datasets/French_ELTEC_NER_Open_Dataset/annotations/pool/aEO_8KhvsTLAWv2QqX4SZ0IvY7hm-FRA06701_Uchard.txt.ann.json  \n",
      "  inflating: /home/jchazalo/tmp/datasets/French_ELTEC_NER_Open_Dataset/annotations/pool/af0u6DgsEdyVpxcbndj0QXkD5f8e-FRA02001_Gilbert.txt.ann.json  \n",
      "  inflating: /home/jchazalo/tmp/datasets/French_ELTEC_NER_Open_Dataset/annotations/pool/af67Kaz1_jylPOmtkzzx3n1glxgu-FRA02602_Malot.txt.ann.json  \n",
      "  inflating: /home/jchazalo/tmp/datasets/French_ELTEC_NER_Open_Dataset/annotations/pool/afD.eCL61SdDPWRjTudoAM2jk9DS-FRA04301_Achard.txt.ann.json  \n",
      "  inflating: /home/jchazalo/tmp/datasets/French_ELTEC_NER_Open_Dataset/annotations/pool/afvwbyoO7Lc3pbviRJ4voJDp9CFy-FRA00701_Carraud.txt.ann.json  \n",
      "  inflating: /home/jchazalo/tmp/datasets/French_ELTEC_NER_Open_Dataset/annotations/pool/afXwgQxPdGPe1nuqY7U97zHX_0YO-FRA02702_Maupassant.txt.ann.json  \n",
      "  inflating: /home/jchazalo/tmp/datasets/French_ELTEC_NER_Open_Dataset/annotations/pool/aG49xz4Q9_gdA4MV1ZHTDJY7iTxu-FRA05301_Galopin.txt.ann.json  \n",
      "  inflating: /home/jchazalo/tmp/datasets/French_ELTEC_NER_Open_Dataset/annotations/pool/ag93CAXG3E9n6DWgCGjk1_8VctWG-FRA04501_Barres.txt.ann.json  \n",
      "  inflating: /home/jchazalo/tmp/datasets/French_ELTEC_NER_Open_Dataset/annotations/pool/aGi__KH0QNZ1ANFO76o7qB8OvMXy-FRA06601_Peladan.txt.ann.json  \n",
      "  inflating: /home/jchazalo/tmp/datasets/French_ELTEC_NER_Open_Dataset/annotations/pool/aH5qNy4.zUDTPvAx3QCcB2tmag.m-FRA01601_GautierJ.txt.ann.json  \n",
      "  inflating: /home/jchazalo/tmp/datasets/French_ELTEC_NER_Open_Dataset/annotations/pool/aHqzKMns1U.VfQU61Eidq6joaKY8-FRA00501_Balzac.txt.ann.json  \n",
      "  inflating: /home/jchazalo/tmp/datasets/French_ELTEC_NER_Open_Dataset/annotations/pool/aIReqXLmfG2XNR9EgVhsTm7g9Nwq-FRA01202_Feval.txt.ann.json  \n",
      "  inflating: /home/jchazalo/tmp/datasets/French_ELTEC_NER_Open_Dataset/annotations/pool/ais.zEAqAoTv6LLSHmdQZZhpotOy-FRA03704_Sand.txt.ann.json  \n",
      "  inflating: /home/jchazalo/tmp/datasets/French_ELTEC_NER_Open_Dataset/annotations/pool/aIxhb2vKFLTTMf2ar6HKtpfoykbu-FRA00503_Balzac.txt.ann.json  \n",
      "  inflating: /home/jchazalo/tmp/datasets/French_ELTEC_NER_Open_Dataset/annotations/pool/ajipOWiJD9GPyfbX6PqrIe8zjSaq-FRA02901_Noailles.txt.ann.json  \n",
      "  inflating: /home/jchazalo/tmp/datasets/French_ELTEC_NER_Open_Dataset/annotations/pool/aJQTThcaB8.Acw1DFtECxCK5vzt8-FRA04701_Bourget.txt.ann.json  \n",
      "  inflating: /home/jchazalo/tmp/datasets/French_ELTEC_NER_Open_Dataset/annotations/pool/ajZkDlX3ay1ok7gRkblZSAtH9zqu-FRA02603_Malot.txt.ann.json  \n",
      "  inflating: /home/jchazalo/tmp/datasets/French_ELTEC_NER_Open_Dataset/annotations/pool/aKkZSKV.hejO9ZW8qYAWkHXDvJDS-FRA02401_LeRouge.txt.ann.json  \n",
      "  inflating: /home/jchazalo/tmp/datasets/French_ELTEC_NER_Open_Dataset/annotations/pool/akYsbhpc1oJq3Dehn4EHwAvA8AtO-FRA00102_Adam.txt.ann.json  \n",
      "  inflating: /home/jchazalo/tmp/datasets/French_ELTEC_NER_Open_Dataset/annotations/pool/alkA23MadVN2ldDkHGZVuuIZTrJ0-FRA03903_Stolz.txt.ann.json  \n",
      "  inflating: /home/jchazalo/tmp/datasets/French_ELTEC_NER_Open_Dataset/annotations/pool/am4zRbLRf8dk_Aq0ezymar2pUN4C-FRA03401_Reybaud.txt.ann.json  \n",
      "  inflating: /home/jchazalo/tmp/datasets/French_ELTEC_NER_Open_Dataset/annotations/pool/amC03G616xHD2JuEngguPRbuYrUq-FRA01203_Feval.txt.ann.json  \n",
      "  inflating: /home/jchazalo/tmp/datasets/French_ELTEC_NER_Open_Dataset/annotations/pool/aMZR68No2EuMXD9NXGsQEtfYuquS-FRA01801_Gay.txt.ann.json  \n",
      "  inflating: /home/jchazalo/tmp/datasets/French_ELTEC_NER_Open_Dataset/annotations/pool/aNCbIv5xgBC.YcGZOQCyOAqK2poS-FRA03201_Blandy.txt.ann.json  \n",
      "  inflating: /home/jchazalo/tmp/datasets/French_ELTEC_NER_Open_Dataset/annotations/pool/aOjm9dSki.Gyp1bEbyCKUXvR3Z8O-FRA01902_Gaboriau.txt.ann.json  \n",
      "  inflating: /home/jchazalo/tmp/datasets/French_ELTEC_NER_Open_Dataset/annotations/pool/aOZ2nsgBpU4w83XtJzB_t5XIPaMK-FRA05602_Lesueur.txt.ann.json  \n",
      "  inflating: /home/jchazalo/tmp/datasets/French_ELTEC_NER_Open_Dataset/annotations/pool/apApNAN_NnyMmYsg0izGu5fIi02q-FRA00302_Aimard.txt.ann.json  \n",
      "  inflating: /home/jchazalo/tmp/datasets/French_ELTEC_NER_Open_Dataset/annotations/pool/apJyPBI2e_FpFsK_ZetwJmImElc8-FRA01701_GautierT.txt.ann.json  \n",
      "  inflating: /home/jchazalo/tmp/datasets/French_ELTEC_NER_Open_Dataset/annotations/pool/apRNjaOFY5VhqHbJ1QCQ6BWo7QAG-FRA07601_Leroux.txt.ann.json  \n",
      "  inflating: /home/jchazalo/tmp/datasets/French_ELTEC_NER_Open_Dataset/annotations/pool/aQMcTkc_8bmGK97Mddjf6.wBMR74-FRA01402_Fleuriot.txt.ann.json  \n",
      "  inflating: /home/jchazalo/tmp/datasets/French_ELTEC_NER_Open_Dataset/annotations/pool/aQpnuNsLE_swa6vu75f8axlDHpaW-FRA00301_Aimard.txt.ann.json  \n",
      "  inflating: /home/jchazalo/tmp/datasets/French_ELTEC_NER_Open_Dataset/annotations/pool/aradq6esreGAcnK9UnA4GpsvPaDG-FRA07301_Valgand.txt.ann.json  \n",
      "  inflating: /home/jchazalo/tmp/datasets/French_ELTEC_NER_Open_Dataset/annotations/pool/aRKaO1HTqsWZrkEblhrEyMnJaTke-FRA03003_Ohnet.txt.ann.json  \n",
      "  inflating: /home/jchazalo/tmp/datasets/French_ELTEC_NER_Open_Dataset/annotations/pool/aRkvpMC35BRiZLXyqejK7zHtvVTC-FRA01303_Flaubert.txt.ann.json  \n",
      "  inflating: /home/jchazalo/tmp/datasets/French_ELTEC_NER_Open_Dataset/annotations/pool/arpPvk5rH.GEmSvcIuqvNk894DvC-FRA00201_Audoux.txt.ann.json  \n",
      "  inflating: /home/jchazalo/tmp/datasets/French_ELTEC_NER_Open_Dataset/annotations/pool/aRsXx.vht_It2aJeIZUc7MyU8Pdu-FRA04202_Rolland.txt.ann.json  \n",
      "  inflating: /home/jchazalo/tmp/datasets/French_ELTEC_NER_Open_Dataset/annotations/pool/aS22wZszAN02LNh6VcXvYm.zrhiq-FRA05401_Kock.txt.ann.json  \n",
      "  inflating: /home/jchazalo/tmp/datasets/French_ELTEC_NER_Open_Dataset/annotations/pool/aszTBqJICElzYQZ2KOuA80nSuzzO-FRA03002_Ohnet.txt.ann.json  \n",
      "  inflating: /home/jchazalo/tmp/datasets/French_ELTEC_NER_Open_Dataset/annotations/pool/aTq8HnN_Pw58oRJ1gClDvWtU8mqG-FRA07501_Darien.txt.ann.json  \n",
      "  inflating: /home/jchazalo/tmp/datasets/French_ELTEC_NER_Open_Dataset/annotations/pool/aTZvAK.SNhyJlS.YZjENrPlhU8wC-FRA02601_Malot.txt.ann.json  \n",
      "  inflating: /home/jchazalo/tmp/datasets/French_ELTEC_NER_Open_Dataset/annotations/pool/au1r7i2CdAMXL_66FKdlUjAeYR_S-FRA01501_France.txt.ann.json  \n",
      "  inflating: /home/jchazalo/tmp/datasets/French_ELTEC_NER_Open_Dataset/annotations/pool/au8d_r3CRvJGVeD3BSAhJnkTySTi-FRA02201_Gouraud.txt.ann.json  \n",
      "  inflating: /home/jchazalo/tmp/datasets/French_ELTEC_NER_Open_Dataset/annotations/pool/auKBnMUJlJYT0kIXYs26Mc9NvDVi-FRA05101_Eekhoud.txt.ann.json  \n",
      "  inflating: /home/jchazalo/tmp/datasets/French_ELTEC_NER_Open_Dataset/annotations/pool/aUUjL2CF6wN9In1aTr_rEIT5J23e-FRA06301_Montepin.txt.ann.json  \n",
      "  inflating: /home/jchazalo/tmp/datasets/French_ELTEC_NER_Open_Dataset/annotations/pool/auZmigexkcZAtLsTQcKBSTBTmaOi-FRA02501_Loti.txt.ann.json  \n",
      "  inflating: /home/jchazalo/tmp/datasets/French_ELTEC_NER_Open_Dataset/annotations/pool/aV6f6cXGmcgx5FnxTWk5NIZBGHce-FRA03302_Rattazzi.txt.ann.json  \n",
      "  inflating: /home/jchazalo/tmp/datasets/French_ELTEC_NER_Open_Dataset/annotations/pool/aVsLobdZGQhwZQVfrVYk0W49xpqu-FRA05901_Moselly.txt.ann.json  \n",
      "  inflating: /home/jchazalo/tmp/datasets/French_ELTEC_NER_Open_Dataset/annotations/pool/aW9XeObpMHpr3FpcV0GTZMD1ntlK-FRA01101_Dombre.txt.ann.json  \n",
      "  inflating: /home/jchazalo/tmp/datasets/French_ELTEC_NER_Open_Dataset/annotations/pool/aWhjJ.i8J0rR69twVQsYk70I8umq-FRA04401_Barbusse.txt.ann.json  \n",
      "  inflating: /home/jchazalo/tmp/datasets/French_ELTEC_NER_Open_Dataset/annotations/pool/aWKzYsiJtoMDIhWYTDBWtOaMQUDG-FRA01403_Fleuriot.txt.ann.json  \n",
      "  inflating: /home/jchazalo/tmp/datasets/French_ELTEC_NER_Open_Dataset/annotations/pool/aWPS3B83IFWYCcPBZBSr8630HPUm-FRA06101_Sandeau.txt.ann.json  \n",
      "  inflating: /home/jchazalo/tmp/datasets/French_ELTEC_NER_Open_Dataset/annotations/pool/axs3Hj9KXAuLCtKIRi416p2YrmmC-FRA03001_Ohnet.txt.ann.json  \n",
      "  inflating: /home/jchazalo/tmp/datasets/French_ELTEC_NER_Open_Dataset/annotations/pool/aYfUdIZ4Enyib2yScShLWIV17L28-FRA00502_Balzac.txt.ann.json  \n",
      "  inflating: /home/jchazalo/tmp/datasets/French_ELTEC_NER_Open_Dataset/annotations/pool/ayHhyo58Td1JOQQPB6UAy67azg_O-FRA06401_Chandeneux.txt.ann.json  \n",
      "  inflating: /home/jchazalo/tmp/datasets/French_ELTEC_NER_Open_Dataset/annotations/pool/az2CA8KJWOb.PZ49ZQoBqRmF3SLO-FRA01002_DelarueMardrus.txt.ann.json  \n",
      "  inflating: /home/jchazalo/tmp/datasets/French_ELTEC_NER_Open_Dataset/annotations/pool/azSpIJFtoHBLzVpZM3UCSIkAoQwC-FRA07101_Blondel.txt.ann.json  \n",
      "  inflating: /home/jchazalo/tmp/datasets/French_ELTEC_NER_Open_Dataset/annotations-legend.json  \n",
      "   creating: /home/jchazalo/tmp/datasets/French_ELTEC_NER_Open_Dataset/plain.html/\n",
      "   creating: /home/jchazalo/tmp/datasets/French_ELTEC_NER_Open_Dataset/plain.html/pool/\n",
      "  inflating: /home/jchazalo/tmp/datasets/French_ELTEC_NER_Open_Dataset/plain.html/pool/a.0MBIm18ieWUH8iyy4d4RIFZKSu-FRA02802_Mirbeau.txt.plain.html  \n",
      "  inflating: /home/jchazalo/tmp/datasets/French_ELTEC_NER_Open_Dataset/plain.html/pool/a.GwmWhiyt0OKvDrD6b._1MxEt2K-FRA03101_Ponson.txt.plain.html  \n",
      "  inflating: /home/jchazalo/tmp/datasets/French_ELTEC_NER_Open_Dataset/plain.html/pool/a.JUEoYT5Jt44vnpvLAg8WSk0iVm-FRA00901_Daudet.txt.plain.html  \n",
      "  inflating: /home/jchazalo/tmp/datasets/French_ELTEC_NER_Open_Dataset/plain.html/pool/a.n8hDHVP39RVA3a5sKkRffFXIUO-FRA04102_Erckmann.txt.plain.html  \n",
      "  inflating: /home/jchazalo/tmp/datasets/French_ELTEC_NER_Open_Dataset/plain.html/pool/a_C54L4cLST4beyZLSbBM1qUuygK-FRA07001_Mendes.txt.plain.html  \n",
      "  inflating: /home/jchazalo/tmp/datasets/French_ELTEC_NER_Open_Dataset/plain.html/pool/a_cdO7G8FaGY5emxh2eoIs4VTvWq-FRA01302_Flaubert.txt.plain.html  \n",
      "  inflating: /home/jchazalo/tmp/datasets/French_ELTEC_NER_Open_Dataset/plain.html/pool/a0z.I.nFSfzECA9d.L_J7DCWOZXm-FRA05801_Mille.txt.plain.html  \n",
      "  inflating: /home/jchazalo/tmp/datasets/French_ELTEC_NER_Open_Dataset/plain.html/pool/a34P3V2Cg118Ym0ahNVjTy4.Ex5O-FRA04601_Bazin.txt.plain.html  \n",
      "  inflating: /home/jchazalo/tmp/datasets/French_ELTEC_NER_Open_Dataset/plain.html/pool/a3MNF7TUrtea7XfRiJXn6Wk0b858-FRA07201_Montagne.txt.plain.html  \n",
      "  inflating: /home/jchazalo/tmp/datasets/French_ELTEC_NER_Open_Dataset/plain.html/pool/a49_fmd9IHJ2wC1gsQKizy8CDYZi-FRA04001_Verne.txt.plain.html  \n",
      "  inflating: /home/jchazalo/tmp/datasets/French_ELTEC_NER_Open_Dataset/plain.html/pool/a5.iqH.1H1PMZS_S9ADOeQldE17q-FRA01602_GautierJ.txt.plain.html  \n",
      "  inflating: /home/jchazalo/tmp/datasets/French_ELTEC_NER_Open_Dataset/plain.html/pool/a5af6lkwwCShnfYUFUypljWGfaOK-FRA03601_Proust.txt.plain.html  \n",
      "  inflating: /home/jchazalo/tmp/datasets/French_ELTEC_NER_Open_Dataset/plain.html/pool/a5KaOu4YsuzLiiz0ROmtJI7AnhtG-FRA03702_Sand.txt.plain.html  \n",
      "  inflating: /home/jchazalo/tmp/datasets/French_ELTEC_NER_Open_Dataset/plain.html/pool/a6R7A7Zoq2ls3KXj7rL3NT_W4V6S-FRA00101_Adam.txt.plain.html  \n",
      "  inflating: /home/jchazalo/tmp/datasets/French_ELTEC_NER_Open_Dataset/plain.html/pool/a71F.BlguFo3ou6nE0MparHkmd_C-FRA02202_Gouraud.txt.plain.html  \n",
      "  inflating: /home/jchazalo/tmp/datasets/French_ELTEC_NER_Open_Dataset/plain.html/pool/a7hmKErzaA84WwEI1CA2P3X.8vOW-FRA02302_Greville.txt.plain.html  \n",
      "  inflating: /home/jchazalo/tmp/datasets/French_ELTEC_NER_Open_Dataset/plain.html/pool/a7K9yh.2wyxHG509T8Fb8wCuufFy-FRA02701_Maupassant.txt.plain.html  \n",
      "  inflating: /home/jchazalo/tmp/datasets/French_ELTEC_NER_Open_Dataset/plain.html/pool/a7KC5U74jME2kMN7UrkwepzFM77S-FRA05702_Maquet.txt.plain.html  \n",
      "  inflating: /home/jchazalo/tmp/datasets/French_ELTEC_NER_Open_Dataset/plain.html/pool/a7p9e.No7R2GKqDgEh5gBOdCRhne-FRA02203_Gouraud.txt.plain.html  \n",
      "  inflating: /home/jchazalo/tmp/datasets/French_ELTEC_NER_Open_Dataset/plain.html/pool/a7x9ILGFUg81t609xJAbRizBuA9K-FRA06801_Vaillant.txt.plain.html  \n",
      "  inflating: /home/jchazalo/tmp/datasets/French_ELTEC_NER_Open_Dataset/plain.html/pool/a8ifGWtH6jLsTLFEhsHz_ENJP11y-FRA00602_Boisgobey.txt.plain.html  \n",
      "  inflating: /home/jchazalo/tmp/datasets/French_ELTEC_NER_Open_Dataset/plain.html/pool/a9_JuHi9In_5VsmgTMcy5iOTqgVe-FRA01603_GautierJ.txt.plain.html  \n",
      "  inflating: /home/jchazalo/tmp/datasets/French_ELTEC_NER_Open_Dataset/plain.html/pool/a92twUwlsYoRjJ8euN0AMEhWGNQW-FRA04901_Dumas.txt.plain.html  \n",
      "  inflating: /home/jchazalo/tmp/datasets/French_ELTEC_NER_Open_Dataset/plain.html/pool/a9FSAunkcRYSVp9TeHFuqJ5cVxIS-FRA01201_Feval.txt.plain.html  \n",
      "  inflating: /home/jchazalo/tmp/datasets/French_ELTEC_NER_Open_Dataset/plain.html/pool/a9P3XY5QqtvJFE.mQfM9M23M4M4m-FRA01401_Fleuriot.txt.plain.html  \n",
      "  inflating: /home/jchazalo/tmp/datasets/French_ELTEC_NER_Open_Dataset/plain.html/pool/aAAH8jUAa3ntArp8vRpY5ugdwvLS-FRA05201_Feuillet.txt.plain.html  \n",
      "  inflating: /home/jchazalo/tmp/datasets/French_ELTEC_NER_Open_Dataset/plain.html/pool/aaNd0P7.1oMqW5ygGCMZqhCCzXZe-FRA06001_Rebell.txt.plain.html  \n",
      "  inflating: /home/jchazalo/tmp/datasets/French_ELTEC_NER_Open_Dataset/plain.html/pool/aap1i.sUcbMOHzBFrWagaR3v9YhK-FRA06501_Gyp.txt.plain.html  \n",
      "  inflating: /home/jchazalo/tmp/datasets/French_ELTEC_NER_Open_Dataset/plain.html/pool/aAS0WZEtuwL67MLmDsJ3kLDhe33W-FRA04801_Corday.txt.plain.html  \n",
      "  inflating: /home/jchazalo/tmp/datasets/French_ELTEC_NER_Open_Dataset/plain.html/pool/aatgMri5vGFFR91ztyo2Vpp4RLJ4-FRA06901_Vignon.txt.plain.html  \n",
      "  inflating: /home/jchazalo/tmp/datasets/French_ELTEC_NER_Open_Dataset/plain.html/pool/aaUXY5cOU5zVcD4h6kxELupRWNKC-FRA00801_Dash.txt.plain.html  \n",
      "  inflating: /home/jchazalo/tmp/datasets/French_ELTEC_NER_Open_Dataset/plain.html/pool/abAe3jd6lQovJLSTvdifwTjw14iK-FRA02303_Greville.txt.plain.html  \n",
      "  inflating: /home/jchazalo/tmp/datasets/French_ELTEC_NER_Open_Dataset/plain.html/pool/abBmPweZyAxzbqSOGsC_bzk_WIuG-FRA02301_Greville.txt.plain.html  \n",
      "  inflating: /home/jchazalo/tmp/datasets/French_ELTEC_NER_Open_Dataset/plain.html/pool/abRcy3SO2ZZgE3XqxWkJ2goP1D30-FRA04002_Verne.txt.plain.html  \n",
      "  inflating: /home/jchazalo/tmp/datasets/French_ELTEC_NER_Open_Dataset/plain.html/pool/aCBPDbOM5zaCJ.9M5n6m8l9RxWMC-FRA00601_Boisgobey.txt.plain.html  \n",
      "  inflating: /home/jchazalo/tmp/datasets/French_ELTEC_NER_Open_Dataset/plain.html/pool/aCQVyShyQUhBawtxZ9Eq7whm687a-FRA00401_Allais.txt.plain.html  \n",
      "  inflating: /home/jchazalo/tmp/datasets/French_ELTEC_NER_Open_Dataset/plain.html/pool/aDNsOWosoMcvWAOS7unI4MFI5va4-FRA03701_Sand.txt.plain.html  \n",
      "  inflating: /home/jchazalo/tmp/datasets/French_ELTEC_NER_Open_Dataset/plain.html/pool/aDXiGUcFvQ5eGRTuXHgEa3Jj7zQu-FRA01301_Flaubert.txt.plain.html  \n",
      "  inflating: /home/jchazalo/tmp/datasets/French_ELTEC_NER_Open_Dataset/plain.html/pool/ae7pSxEUY74LSaal.Kro451VKTsq-FRA01102_Dombre.txt.plain.html  \n",
      "  inflating: /home/jchazalo/tmp/datasets/French_ELTEC_NER_Open_Dataset/plain.html/pool/aeA9_2pkQRJejockZFU7lsVocD.m-FRA03802_Stern.txt.plain.html  \n",
      "  inflating: /home/jchazalo/tmp/datasets/French_ELTEC_NER_Open_Dataset/plain.html/pool/aeb6idLObyWMnd5MtaJys1554048-FRA07401_Leblanc.txt.plain.html  \n",
      "  inflating: /home/jchazalo/tmp/datasets/French_ELTEC_NER_Open_Dataset/plain.html/pool/aEf9W6iinoZdPr42zuEOPWW0TMPS-FRA06201_Viel_Castel.txt.plain.html  \n",
      "  inflating: /home/jchazalo/tmp/datasets/French_ELTEC_NER_Open_Dataset/plain.html/pool/aEh3dvy7r5ksqjMb7fjWUtll7Zg8-FRA02101_Girardin.txt.plain.html  \n",
      "  inflating: /home/jchazalo/tmp/datasets/French_ELTEC_NER_Open_Dataset/plain.html/pool/aEHUPuyJPVmulQZkJ8BakruAiyDW-FRA05501_Lermina.txt.plain.html  \n",
      "  inflating: /home/jchazalo/tmp/datasets/French_ELTEC_NER_Open_Dataset/plain.html/pool/aEO_8KhvsTLAWv2QqX4SZ0IvY7hm-FRA06701_Uchard.txt.plain.html  \n",
      "  inflating: /home/jchazalo/tmp/datasets/French_ELTEC_NER_Open_Dataset/plain.html/pool/af0u6DgsEdyVpxcbndj0QXkD5f8e-FRA02001_Gilbert.txt.plain.html  \n",
      "  inflating: /home/jchazalo/tmp/datasets/French_ELTEC_NER_Open_Dataset/plain.html/pool/af67Kaz1_jylPOmtkzzx3n1glxgu-FRA02602_Malot.txt.plain.html  \n",
      "  inflating: /home/jchazalo/tmp/datasets/French_ELTEC_NER_Open_Dataset/plain.html/pool/afD.eCL61SdDPWRjTudoAM2jk9DS-FRA04301_Achard.txt.plain.html  \n",
      "  inflating: /home/jchazalo/tmp/datasets/French_ELTEC_NER_Open_Dataset/plain.html/pool/afvwbyoO7Lc3pbviRJ4voJDp9CFy-FRA00701_Carraud.txt.plain.html  \n",
      "  inflating: /home/jchazalo/tmp/datasets/French_ELTEC_NER_Open_Dataset/plain.html/pool/afXwgQxPdGPe1nuqY7U97zHX_0YO-FRA02702_Maupassant.txt.plain.html  \n",
      "  inflating: /home/jchazalo/tmp/datasets/French_ELTEC_NER_Open_Dataset/plain.html/pool/aG49xz4Q9_gdA4MV1ZHTDJY7iTxu-FRA05301_Galopin.txt.plain.html  \n",
      "  inflating: /home/jchazalo/tmp/datasets/French_ELTEC_NER_Open_Dataset/plain.html/pool/ag93CAXG3E9n6DWgCGjk1_8VctWG-FRA04501_Barres.txt.plain.html  \n",
      "  inflating: /home/jchazalo/tmp/datasets/French_ELTEC_NER_Open_Dataset/plain.html/pool/aGi__KH0QNZ1ANFO76o7qB8OvMXy-FRA06601_Peladan.txt.plain.html  \n",
      "  inflating: /home/jchazalo/tmp/datasets/French_ELTEC_NER_Open_Dataset/plain.html/pool/aH5qNy4.zUDTPvAx3QCcB2tmag.m-FRA01601_GautierJ.txt.plain.html  \n",
      "  inflating: /home/jchazalo/tmp/datasets/French_ELTEC_NER_Open_Dataset/plain.html/pool/aHqzKMns1U.VfQU61Eidq6joaKY8-FRA00501_Balzac.txt.plain.html  \n",
      "  inflating: /home/jchazalo/tmp/datasets/French_ELTEC_NER_Open_Dataset/plain.html/pool/aIReqXLmfG2XNR9EgVhsTm7g9Nwq-FRA01202_Feval.txt.plain.html  \n",
      "  inflating: /home/jchazalo/tmp/datasets/French_ELTEC_NER_Open_Dataset/plain.html/pool/ais.zEAqAoTv6LLSHmdQZZhpotOy-FRA03704_Sand.txt.plain.html  \n",
      "  inflating: /home/jchazalo/tmp/datasets/French_ELTEC_NER_Open_Dataset/plain.html/pool/aIxhb2vKFLTTMf2ar6HKtpfoykbu-FRA00503_Balzac.txt.plain.html  \n",
      "  inflating: /home/jchazalo/tmp/datasets/French_ELTEC_NER_Open_Dataset/plain.html/pool/ajipOWiJD9GPyfbX6PqrIe8zjSaq-FRA02901_Noailles.txt.plain.html  \n",
      "  inflating: /home/jchazalo/tmp/datasets/French_ELTEC_NER_Open_Dataset/plain.html/pool/aJQTThcaB8.Acw1DFtECxCK5vzt8-FRA04701_Bourget.txt.plain.html  \n",
      "  inflating: /home/jchazalo/tmp/datasets/French_ELTEC_NER_Open_Dataset/plain.html/pool/ajZkDlX3ay1ok7gRkblZSAtH9zqu-FRA02603_Malot.txt.plain.html  \n",
      "  inflating: /home/jchazalo/tmp/datasets/French_ELTEC_NER_Open_Dataset/plain.html/pool/aKkZSKV.hejO9ZW8qYAWkHXDvJDS-FRA02401_LeRouge.txt.plain.html  \n",
      "  inflating: /home/jchazalo/tmp/datasets/French_ELTEC_NER_Open_Dataset/plain.html/pool/akYsbhpc1oJq3Dehn4EHwAvA8AtO-FRA00102_Adam.txt.plain.html  \n",
      "  inflating: /home/jchazalo/tmp/datasets/French_ELTEC_NER_Open_Dataset/plain.html/pool/alkA23MadVN2ldDkHGZVuuIZTrJ0-FRA03903_Stolz.txt.plain.html  \n",
      "  inflating: /home/jchazalo/tmp/datasets/French_ELTEC_NER_Open_Dataset/plain.html/pool/am4zRbLRf8dk_Aq0ezymar2pUN4C-FRA03401_Reybaud.txt.plain.html  \n",
      "  inflating: /home/jchazalo/tmp/datasets/French_ELTEC_NER_Open_Dataset/plain.html/pool/amC03G616xHD2JuEngguPRbuYrUq-FRA01203_Feval.txt.plain.html  \n",
      "  inflating: /home/jchazalo/tmp/datasets/French_ELTEC_NER_Open_Dataset/plain.html/pool/aMZR68No2EuMXD9NXGsQEtfYuquS-FRA01801_Gay.txt.plain.html  \n",
      "  inflating: /home/jchazalo/tmp/datasets/French_ELTEC_NER_Open_Dataset/plain.html/pool/aNCbIv5xgBC.YcGZOQCyOAqK2poS-FRA03201_Blandy.txt.plain.html  \n",
      "  inflating: /home/jchazalo/tmp/datasets/French_ELTEC_NER_Open_Dataset/plain.html/pool/aOjm9dSki.Gyp1bEbyCKUXvR3Z8O-FRA01902_Gaboriau.txt.plain.html  \n",
      "  inflating: /home/jchazalo/tmp/datasets/French_ELTEC_NER_Open_Dataset/plain.html/pool/aOZ2nsgBpU4w83XtJzB_t5XIPaMK-FRA05602_Lesueur.txt.plain.html  \n",
      "  inflating: /home/jchazalo/tmp/datasets/French_ELTEC_NER_Open_Dataset/plain.html/pool/apApNAN_NnyMmYsg0izGu5fIi02q-FRA00302_Aimard.txt.plain.html  \n",
      "  inflating: /home/jchazalo/tmp/datasets/French_ELTEC_NER_Open_Dataset/plain.html/pool/apJyPBI2e_FpFsK_ZetwJmImElc8-FRA01701_GautierT.txt.plain.html  \n",
      "  inflating: /home/jchazalo/tmp/datasets/French_ELTEC_NER_Open_Dataset/plain.html/pool/apRNjaOFY5VhqHbJ1QCQ6BWo7QAG-FRA07601_Leroux.txt.plain.html  \n",
      "  inflating: /home/jchazalo/tmp/datasets/French_ELTEC_NER_Open_Dataset/plain.html/pool/aQMcTkc_8bmGK97Mddjf6.wBMR74-FRA01402_Fleuriot.txt.plain.html  \n",
      "  inflating: /home/jchazalo/tmp/datasets/French_ELTEC_NER_Open_Dataset/plain.html/pool/aQpnuNsLE_swa6vu75f8axlDHpaW-FRA00301_Aimard.txt.plain.html  \n",
      "  inflating: /home/jchazalo/tmp/datasets/French_ELTEC_NER_Open_Dataset/plain.html/pool/aradq6esreGAcnK9UnA4GpsvPaDG-FRA07301_Valgand.txt.plain.html  \n",
      "  inflating: /home/jchazalo/tmp/datasets/French_ELTEC_NER_Open_Dataset/plain.html/pool/aRKaO1HTqsWZrkEblhrEyMnJaTke-FRA03003_Ohnet.txt.plain.html  \n",
      "  inflating: /home/jchazalo/tmp/datasets/French_ELTEC_NER_Open_Dataset/plain.html/pool/aRkvpMC35BRiZLXyqejK7zHtvVTC-FRA01303_Flaubert.txt.plain.html  \n",
      "  inflating: /home/jchazalo/tmp/datasets/French_ELTEC_NER_Open_Dataset/plain.html/pool/arpPvk5rH.GEmSvcIuqvNk894DvC-FRA00201_Audoux.txt.plain.html  \n",
      "  inflating: /home/jchazalo/tmp/datasets/French_ELTEC_NER_Open_Dataset/plain.html/pool/aRsXx.vht_It2aJeIZUc7MyU8Pdu-FRA04202_Rolland.txt.plain.html  \n",
      "  inflating: /home/jchazalo/tmp/datasets/French_ELTEC_NER_Open_Dataset/plain.html/pool/aS22wZszAN02LNh6VcXvYm.zrhiq-FRA05401_Kock.txt.plain.html  \n",
      "  inflating: /home/jchazalo/tmp/datasets/French_ELTEC_NER_Open_Dataset/plain.html/pool/aszTBqJICElzYQZ2KOuA80nSuzzO-FRA03002_Ohnet.txt.plain.html  \n",
      "  inflating: /home/jchazalo/tmp/datasets/French_ELTEC_NER_Open_Dataset/plain.html/pool/aTq8HnN_Pw58oRJ1gClDvWtU8mqG-FRA07501_Darien.txt.plain.html  \n",
      "  inflating: /home/jchazalo/tmp/datasets/French_ELTEC_NER_Open_Dataset/plain.html/pool/aTZvAK.SNhyJlS.YZjENrPlhU8wC-FRA02601_Malot.txt.plain.html  \n",
      "  inflating: /home/jchazalo/tmp/datasets/French_ELTEC_NER_Open_Dataset/plain.html/pool/au1r7i2CdAMXL_66FKdlUjAeYR_S-FRA01501_France.txt.plain.html  \n",
      "  inflating: /home/jchazalo/tmp/datasets/French_ELTEC_NER_Open_Dataset/plain.html/pool/au8d_r3CRvJGVeD3BSAhJnkTySTi-FRA02201_Gouraud.txt.plain.html  \n",
      "  inflating: /home/jchazalo/tmp/datasets/French_ELTEC_NER_Open_Dataset/plain.html/pool/auKBnMUJlJYT0kIXYs26Mc9NvDVi-FRA05101_Eekhoud.txt.plain.html  \n",
      "  inflating: /home/jchazalo/tmp/datasets/French_ELTEC_NER_Open_Dataset/plain.html/pool/aUUjL2CF6wN9In1aTr_rEIT5J23e-FRA06301_Montepin.txt.plain.html  \n",
      "  inflating: /home/jchazalo/tmp/datasets/French_ELTEC_NER_Open_Dataset/plain.html/pool/auZmigexkcZAtLsTQcKBSTBTmaOi-FRA02501_Loti.txt.plain.html  \n",
      "  inflating: /home/jchazalo/tmp/datasets/French_ELTEC_NER_Open_Dataset/plain.html/pool/aV6f6cXGmcgx5FnxTWk5NIZBGHce-FRA03302_Rattazzi.txt.plain.html  \n",
      "  inflating: /home/jchazalo/tmp/datasets/French_ELTEC_NER_Open_Dataset/plain.html/pool/aVsLobdZGQhwZQVfrVYk0W49xpqu-FRA05901_Moselly.txt.plain.html  \n",
      "  inflating: /home/jchazalo/tmp/datasets/French_ELTEC_NER_Open_Dataset/plain.html/pool/aW9XeObpMHpr3FpcV0GTZMD1ntlK-FRA01101_Dombre.txt.plain.html  \n",
      "  inflating: /home/jchazalo/tmp/datasets/French_ELTEC_NER_Open_Dataset/plain.html/pool/aWhjJ.i8J0rR69twVQsYk70I8umq-FRA04401_Barbusse.txt.plain.html  \n",
      "  inflating: /home/jchazalo/tmp/datasets/French_ELTEC_NER_Open_Dataset/plain.html/pool/aWKzYsiJtoMDIhWYTDBWtOaMQUDG-FRA01403_Fleuriot.txt.plain.html  \n",
      "  inflating: /home/jchazalo/tmp/datasets/French_ELTEC_NER_Open_Dataset/plain.html/pool/aWPS3B83IFWYCcPBZBSr8630HPUm-FRA06101_Sandeau.txt.plain.html  \n",
      "  inflating: /home/jchazalo/tmp/datasets/French_ELTEC_NER_Open_Dataset/plain.html/pool/axs3Hj9KXAuLCtKIRi416p2YrmmC-FRA03001_Ohnet.txt.plain.html  \n",
      "  inflating: /home/jchazalo/tmp/datasets/French_ELTEC_NER_Open_Dataset/plain.html/pool/aYfUdIZ4Enyib2yScShLWIV17L28-FRA00502_Balzac.txt.plain.html  \n",
      "  inflating: /home/jchazalo/tmp/datasets/French_ELTEC_NER_Open_Dataset/plain.html/pool/ayHhyo58Td1JOQQPB6UAy67azg_O-FRA06401_Chandeneux.txt.plain.html  \n",
      "  inflating: /home/jchazalo/tmp/datasets/French_ELTEC_NER_Open_Dataset/plain.html/pool/az2CA8KJWOb.PZ49ZQoBqRmF3SLO-FRA01002_DelarueMardrus.txt.plain.html  \n",
      "  inflating: /home/jchazalo/tmp/datasets/French_ELTEC_NER_Open_Dataset/plain.html/pool/azSpIJFtoHBLzVpZM3UCSIkAoQwC-FRA07101_Blondel.txt.plain.html  \n",
      "  inflating: /home/jchazalo/tmp/datasets/French_ELTEC_NER_Open_Dataset/README.md  \n",
      "   creating: /home/jchazalo/tmp/datasets/French_ELTEC_NER_Open_Dataset/texts/\n",
      "  inflating: /home/jchazalo/tmp/datasets/French_ELTEC_NER_Open_Dataset/texts/tr_FRA00101_Adam.txt  \n",
      "  inflating: /home/jchazalo/tmp/datasets/French_ELTEC_NER_Open_Dataset/texts/tr_FRA00102_Adam.txt  \n",
      "  inflating: /home/jchazalo/tmp/datasets/French_ELTEC_NER_Open_Dataset/texts/tr_FRA00201_Audoux.txt  \n",
      "  inflating: /home/jchazalo/tmp/datasets/French_ELTEC_NER_Open_Dataset/texts/tr_FRA00301_Aimard.txt  \n",
      "  inflating: /home/jchazalo/tmp/datasets/French_ELTEC_NER_Open_Dataset/texts/tr_FRA00302_Aimard.txt  \n",
      "  inflating: /home/jchazalo/tmp/datasets/French_ELTEC_NER_Open_Dataset/texts/tr_FRA00401_Allais.txt  \n",
      "  inflating: /home/jchazalo/tmp/datasets/French_ELTEC_NER_Open_Dataset/texts/tr_FRA00501_Balzac.txt  \n",
      "  inflating: /home/jchazalo/tmp/datasets/French_ELTEC_NER_Open_Dataset/texts/tr_FRA00502_Balzac.txt  \n",
      "  inflating: /home/jchazalo/tmp/datasets/French_ELTEC_NER_Open_Dataset/texts/tr_FRA00503_Balzac.txt  \n",
      "  inflating: /home/jchazalo/tmp/datasets/French_ELTEC_NER_Open_Dataset/texts/tr_FRA00601_Boisgobey.txt  \n",
      "  inflating: /home/jchazalo/tmp/datasets/French_ELTEC_NER_Open_Dataset/texts/tr_FRA00602_Boisgobey.txt  \n",
      "  inflating: /home/jchazalo/tmp/datasets/French_ELTEC_NER_Open_Dataset/texts/tr_FRA00701_Carraud.txt  \n",
      "  inflating: /home/jchazalo/tmp/datasets/French_ELTEC_NER_Open_Dataset/texts/tr_FRA00801_Dash.txt  \n",
      "  inflating: /home/jchazalo/tmp/datasets/French_ELTEC_NER_Open_Dataset/texts/tr_FRA00901_Daudet.txt  \n",
      "  inflating: /home/jchazalo/tmp/datasets/French_ELTEC_NER_Open_Dataset/texts/tr_FRA01002_DelarueMardrus.txt  \n",
      "  inflating: /home/jchazalo/tmp/datasets/French_ELTEC_NER_Open_Dataset/texts/tr_FRA01101_Dombre.txt  \n",
      "  inflating: /home/jchazalo/tmp/datasets/French_ELTEC_NER_Open_Dataset/texts/tr_FRA01102_Dombre.txt  \n",
      "  inflating: /home/jchazalo/tmp/datasets/French_ELTEC_NER_Open_Dataset/texts/tr_FRA01201_Feval.txt  \n",
      "  inflating: /home/jchazalo/tmp/datasets/French_ELTEC_NER_Open_Dataset/texts/tr_FRA01202_Feval.txt  \n",
      "  inflating: /home/jchazalo/tmp/datasets/French_ELTEC_NER_Open_Dataset/texts/tr_FRA01203_Feval.txt  \n",
      "  inflating: /home/jchazalo/tmp/datasets/French_ELTEC_NER_Open_Dataset/texts/tr_FRA01301_Flaubert.txt  \n",
      "  inflating: /home/jchazalo/tmp/datasets/French_ELTEC_NER_Open_Dataset/texts/tr_FRA01302_Flaubert.txt  \n",
      "  inflating: /home/jchazalo/tmp/datasets/French_ELTEC_NER_Open_Dataset/texts/tr_FRA01303_Flaubert.txt  \n",
      "  inflating: /home/jchazalo/tmp/datasets/French_ELTEC_NER_Open_Dataset/texts/tr_FRA01401_Fleuriot.txt  \n",
      "  inflating: /home/jchazalo/tmp/datasets/French_ELTEC_NER_Open_Dataset/texts/tr_FRA01402_Fleuriot.txt  \n",
      "  inflating: /home/jchazalo/tmp/datasets/French_ELTEC_NER_Open_Dataset/texts/tr_FRA01403_Fleuriot.txt  \n",
      "  inflating: /home/jchazalo/tmp/datasets/French_ELTEC_NER_Open_Dataset/texts/tr_FRA01501_France.txt  \n",
      "  inflating: /home/jchazalo/tmp/datasets/French_ELTEC_NER_Open_Dataset/texts/tr_FRA01601_GautierJ.txt  \n",
      "  inflating: /home/jchazalo/tmp/datasets/French_ELTEC_NER_Open_Dataset/texts/tr_FRA01602_GautierJ.txt  \n",
      "  inflating: /home/jchazalo/tmp/datasets/French_ELTEC_NER_Open_Dataset/texts/tr_FRA01603_GautierJ.txt  \n",
      "  inflating: /home/jchazalo/tmp/datasets/French_ELTEC_NER_Open_Dataset/texts/tr_FRA01701_GautierT.txt  \n",
      "  inflating: /home/jchazalo/tmp/datasets/French_ELTEC_NER_Open_Dataset/texts/tr_FRA01801_Gay.txt  \n",
      "  inflating: /home/jchazalo/tmp/datasets/French_ELTEC_NER_Open_Dataset/texts/tr_FRA01902_Gaboriau.txt  \n",
      "  inflating: /home/jchazalo/tmp/datasets/French_ELTEC_NER_Open_Dataset/texts/tr_FRA02001_Gilbert.txt  \n",
      "  inflating: /home/jchazalo/tmp/datasets/French_ELTEC_NER_Open_Dataset/texts/tr_FRA02101_Girardin.txt  \n",
      "  inflating: /home/jchazalo/tmp/datasets/French_ELTEC_NER_Open_Dataset/texts/tr_FRA02201_Gouraud.txt  \n",
      "  inflating: /home/jchazalo/tmp/datasets/French_ELTEC_NER_Open_Dataset/texts/tr_FRA02202_Gouraud.txt  \n",
      "  inflating: /home/jchazalo/tmp/datasets/French_ELTEC_NER_Open_Dataset/texts/tr_FRA02203_Gouraud.txt  \n",
      "  inflating: /home/jchazalo/tmp/datasets/French_ELTEC_NER_Open_Dataset/texts/tr_FRA02301_Greville.txt  \n",
      "  inflating: /home/jchazalo/tmp/datasets/French_ELTEC_NER_Open_Dataset/texts/tr_FRA02302_Greville.txt  \n",
      "  inflating: /home/jchazalo/tmp/datasets/French_ELTEC_NER_Open_Dataset/texts/tr_FRA02303_Greville.txt  \n",
      "  inflating: /home/jchazalo/tmp/datasets/French_ELTEC_NER_Open_Dataset/texts/tr_FRA02401_LeRouge.txt  \n",
      "  inflating: /home/jchazalo/tmp/datasets/French_ELTEC_NER_Open_Dataset/texts/tr_FRA02501_Loti.txt  \n",
      "  inflating: /home/jchazalo/tmp/datasets/French_ELTEC_NER_Open_Dataset/texts/tr_FRA02601_Malot.txt  \n",
      "  inflating: /home/jchazalo/tmp/datasets/French_ELTEC_NER_Open_Dataset/texts/tr_FRA02602_Malot.txt  \n",
      "  inflating: /home/jchazalo/tmp/datasets/French_ELTEC_NER_Open_Dataset/texts/tr_FRA02603_Malot.txt  \n",
      "  inflating: /home/jchazalo/tmp/datasets/French_ELTEC_NER_Open_Dataset/texts/tr_FRA02701_Maupassant.txt  \n",
      "  inflating: /home/jchazalo/tmp/datasets/French_ELTEC_NER_Open_Dataset/texts/tr_FRA02702_Maupassant.txt  \n",
      "  inflating: /home/jchazalo/tmp/datasets/French_ELTEC_NER_Open_Dataset/texts/tr_FRA02802_Mirbeau.txt  \n",
      "  inflating: /home/jchazalo/tmp/datasets/French_ELTEC_NER_Open_Dataset/texts/tr_FRA02901_Noailles.txt  \n",
      "  inflating: /home/jchazalo/tmp/datasets/French_ELTEC_NER_Open_Dataset/texts/tr_FRA03001_Ohnet.txt  \n",
      "  inflating: /home/jchazalo/tmp/datasets/French_ELTEC_NER_Open_Dataset/texts/tr_FRA03002_Ohnet.txt  \n",
      "  inflating: /home/jchazalo/tmp/datasets/French_ELTEC_NER_Open_Dataset/texts/tr_FRA03003_Ohnet.txt  \n",
      "  inflating: /home/jchazalo/tmp/datasets/French_ELTEC_NER_Open_Dataset/texts/tr_FRA03101_Ponson.txt  \n",
      "  inflating: /home/jchazalo/tmp/datasets/French_ELTEC_NER_Open_Dataset/texts/tr_FRA03201_Blandy.txt  \n",
      "  inflating: /home/jchazalo/tmp/datasets/French_ELTEC_NER_Open_Dataset/texts/tr_FRA03302_Rattazzi.txt  \n",
      "  inflating: /home/jchazalo/tmp/datasets/French_ELTEC_NER_Open_Dataset/texts/tr_FRA03401_Reybaud.txt  \n",
      "  inflating: /home/jchazalo/tmp/datasets/French_ELTEC_NER_Open_Dataset/texts/tr_FRA03601_Proust.txt  \n",
      "  inflating: /home/jchazalo/tmp/datasets/French_ELTEC_NER_Open_Dataset/texts/tr_FRA03701_Sand.txt  \n",
      "  inflating: /home/jchazalo/tmp/datasets/French_ELTEC_NER_Open_Dataset/texts/tr_FRA03702_Sand.txt  \n",
      "  inflating: /home/jchazalo/tmp/datasets/French_ELTEC_NER_Open_Dataset/texts/tr_FRA03704_Sand.txt  \n",
      "  inflating: /home/jchazalo/tmp/datasets/French_ELTEC_NER_Open_Dataset/texts/tr_FRA03802_Stern.txt  \n",
      "  inflating: /home/jchazalo/tmp/datasets/French_ELTEC_NER_Open_Dataset/texts/tr_FRA03903_Stolz.txt  \n",
      "  inflating: /home/jchazalo/tmp/datasets/French_ELTEC_NER_Open_Dataset/texts/tr_FRA04001_Verne.txt  \n",
      "  inflating: /home/jchazalo/tmp/datasets/French_ELTEC_NER_Open_Dataset/texts/tr_FRA04002_Verne.txt  \n",
      "  inflating: /home/jchazalo/tmp/datasets/French_ELTEC_NER_Open_Dataset/texts/tr_FRA04102_Erckmann.txt  \n",
      "  inflating: /home/jchazalo/tmp/datasets/French_ELTEC_NER_Open_Dataset/texts/tr_FRA04202_Rolland.txt  \n",
      "  inflating: /home/jchazalo/tmp/datasets/French_ELTEC_NER_Open_Dataset/texts/tr_FRA04301_Achard.txt  \n",
      "  inflating: /home/jchazalo/tmp/datasets/French_ELTEC_NER_Open_Dataset/texts/tr_FRA04401_Barbusse.txt  \n",
      "  inflating: /home/jchazalo/tmp/datasets/French_ELTEC_NER_Open_Dataset/texts/tr_FRA04501_Barres.txt  \n",
      "  inflating: /home/jchazalo/tmp/datasets/French_ELTEC_NER_Open_Dataset/texts/tr_FRA04601_Bazin.txt  \n",
      "  inflating: /home/jchazalo/tmp/datasets/French_ELTEC_NER_Open_Dataset/texts/tr_FRA04701_Bourget.txt  \n",
      "  inflating: /home/jchazalo/tmp/datasets/French_ELTEC_NER_Open_Dataset/texts/tr_FRA04801_Corday.txt  \n",
      "  inflating: /home/jchazalo/tmp/datasets/French_ELTEC_NER_Open_Dataset/texts/tr_FRA04901_Dumas.txt  \n",
      "  inflating: /home/jchazalo/tmp/datasets/French_ELTEC_NER_Open_Dataset/texts/tr_FRA05101_Eekhoud.txt  \n",
      "  inflating: /home/jchazalo/tmp/datasets/French_ELTEC_NER_Open_Dataset/texts/tr_FRA05201_Feuillet.txt  \n",
      "  inflating: /home/jchazalo/tmp/datasets/French_ELTEC_NER_Open_Dataset/texts/tr_FRA05301_Galopin.txt  \n",
      "  inflating: /home/jchazalo/tmp/datasets/French_ELTEC_NER_Open_Dataset/texts/tr_FRA05401_Kock.txt  \n",
      "  inflating: /home/jchazalo/tmp/datasets/French_ELTEC_NER_Open_Dataset/texts/tr_FRA05501_Lermina.txt  \n",
      "  inflating: /home/jchazalo/tmp/datasets/French_ELTEC_NER_Open_Dataset/texts/tr_FRA05602_Lesueur.txt  \n",
      "  inflating: /home/jchazalo/tmp/datasets/French_ELTEC_NER_Open_Dataset/texts/tr_FRA05702_Maquet.txt  \n",
      "  inflating: /home/jchazalo/tmp/datasets/French_ELTEC_NER_Open_Dataset/texts/tr_FRA05801_Mille.txt  \n",
      "  inflating: /home/jchazalo/tmp/datasets/French_ELTEC_NER_Open_Dataset/texts/tr_FRA05901_Moselly.txt  \n",
      "  inflating: /home/jchazalo/tmp/datasets/French_ELTEC_NER_Open_Dataset/texts/tr_FRA06001_Rebell.txt  \n",
      "  inflating: /home/jchazalo/tmp/datasets/French_ELTEC_NER_Open_Dataset/texts/tr_FRA06101_Sandeau.txt  \n",
      "  inflating: /home/jchazalo/tmp/datasets/French_ELTEC_NER_Open_Dataset/texts/tr_FRA06201_Viel-Castel.txt  \n",
      "  inflating: /home/jchazalo/tmp/datasets/French_ELTEC_NER_Open_Dataset/texts/tr_FRA06301_Montepin.txt  \n",
      "  inflating: /home/jchazalo/tmp/datasets/French_ELTEC_NER_Open_Dataset/texts/tr_FRA06401_Chandeneux.txt  \n",
      "  inflating: /home/jchazalo/tmp/datasets/French_ELTEC_NER_Open_Dataset/texts/tr_FRA06501_Gyp.txt  \n",
      "  inflating: /home/jchazalo/tmp/datasets/French_ELTEC_NER_Open_Dataset/texts/tr_FRA06601_Peladan.txt  \n",
      "  inflating: /home/jchazalo/tmp/datasets/French_ELTEC_NER_Open_Dataset/texts/tr_FRA06701_Uchard.txt  \n",
      "  inflating: /home/jchazalo/tmp/datasets/French_ELTEC_NER_Open_Dataset/texts/tr_FRA06801_Vaillant.txt  \n",
      "  inflating: /home/jchazalo/tmp/datasets/French_ELTEC_NER_Open_Dataset/texts/tr_FRA06901_Vignon.txt  \n",
      "  inflating: /home/jchazalo/tmp/datasets/French_ELTEC_NER_Open_Dataset/texts/tr_FRA07001_Mendes.txt  \n",
      "  inflating: /home/jchazalo/tmp/datasets/French_ELTEC_NER_Open_Dataset/texts/tr_FRA07101_Blondel.txt  \n",
      "  inflating: /home/jchazalo/tmp/datasets/French_ELTEC_NER_Open_Dataset/texts/tr_FRA07201_Montagne.txt  \n",
      "  inflating: /home/jchazalo/tmp/datasets/French_ELTEC_NER_Open_Dataset/texts/tr_FRA07301_Valgand.txt  \n",
      "  inflating: /home/jchazalo/tmp/datasets/French_ELTEC_NER_Open_Dataset/texts/tr_FRA07401_Leblanc.txt  \n",
      "  inflating: /home/jchazalo/tmp/datasets/French_ELTEC_NER_Open_Dataset/texts/tr_FRA07501_Darien.txt  \n",
      "  inflating: /home/jchazalo/tmp/datasets/French_ELTEC_NER_Open_Dataset/texts/tr_FRA07601_Leroux.txt  \n",
      "total 896\n",
      "-rw-r--r-- 1 joseph joseph  2929 nov.  11  2022 tr_FRA00101_Adam.txt\n",
      "-rw-r--r-- 1 joseph joseph  2303 nov.  11  2022 tr_FRA00102_Adam.txt\n",
      "-rw-r--r-- 1 joseph joseph  4095 nov.  11  2022 tr_FRA00201_Audoux.txt\n",
      "-rw-r--r-- 1 joseph joseph  6142 nov.  11  2022 tr_FRA00301_Aimard.txt\n",
      "-rw-r--r-- 1 joseph joseph  1954 nov.  11  2022 tr_FRA00302_Aimard.txt\n",
      "-rw-r--r-- 1 joseph joseph  2023 nov.  11  2022 tr_FRA00401_Allais.txt\n",
      "-rw-r--r-- 1 joseph joseph  7188 nov.  11  2022 tr_FRA00501_Balzac.txt\n",
      "-rw-r--r-- 1 joseph joseph 29251 nov.  11  2022 tr_FRA00502_Balzac.txt\n",
      "-rw-r--r-- 1 joseph joseph 47515 nov.  11  2022 tr_FRA00503_Balzac.txt\n",
      "-rw-r--r-- 1 joseph joseph  4732 nov.  11  2022 tr_FRA00601_Boisgobey.txt\n",
      "-rw-r--r-- 1 joseph joseph  2631 nov.  11  2022 tr_FRA00602_Boisgobey.txt\n",
      "-rw-r--r-- 1 joseph joseph  5961 nov.  11  2022 tr_FRA00701_Carraud.txt\n",
      "-rw-r--r-- 1 joseph joseph  4751 nov.  11  2022 tr_FRA00801_Dash.txt\n",
      "-rw-r--r-- 1 joseph joseph  9130 nov.  11  2022 tr_FRA00901_Daudet.txt\n",
      "-rw-r--r-- 1 joseph joseph  4564 nov.  11  2022 tr_FRA01002_DelarueMardrus.txt\n",
      "-rw-r--r-- 1 joseph joseph  2014 nov.  11  2022 tr_FRA01101_Dombre.txt\n",
      "-rw-r--r-- 1 joseph joseph  3864 nov.  11  2022 tr_FRA01102_Dombre.txt\n",
      "-rw-r--r-- 1 joseph joseph  3661 nov.  11  2022 tr_FRA01201_Feval.txt\n",
      "-rw-r--r-- 1 joseph joseph  6176 nov.  11  2022 tr_FRA01202_Feval.txt\n",
      "-rw-r--r-- 1 joseph joseph  5912 nov.  11  2022 tr_FRA01203_Feval.txt\n",
      "-rw-r--r-- 1 joseph joseph  5451 nov.  11  2022 tr_FRA01301_Flaubert.txt\n",
      "-rw-r--r-- 1 joseph joseph  3752 nov.  11  2022 tr_FRA01302_Flaubert.txt\n",
      "-rw-r--r-- 1 joseph joseph 10335 nov.  11  2022 tr_FRA01303_Flaubert.txt\n",
      "-rw-r--r-- 1 joseph joseph  2707 nov.  11  2022 tr_FRA01401_Fleuriot.txt\n",
      "-rw-r--r-- 1 joseph joseph  6348 nov.  11  2022 tr_FRA01402_Fleuriot.txt\n",
      "-rw-r--r-- 1 joseph joseph  1348 nov.  11  2022 tr_FRA01403_Fleuriot.txt\n",
      "-rw-r--r-- 1 joseph joseph  5098 nov.  11  2022 tr_FRA01501_France.txt\n",
      "-rw-r--r-- 1 joseph joseph  3957 nov.  11  2022 tr_FRA01601_GautierJ.txt\n",
      "-rw-r--r-- 1 joseph joseph  3725 nov.  11  2022 tr_FRA01602_GautierJ.txt\n",
      "-rw-r--r-- 1 joseph joseph  6962 nov.  11  2022 tr_FRA01603_GautierJ.txt\n",
      "-rw-r--r-- 1 joseph joseph  5191 nov.  11  2022 tr_FRA01701_GautierT.txt\n",
      "-rw-r--r-- 1 joseph joseph  9852 nov.  11  2022 tr_FRA01801_Gay.txt\n",
      "-rw-r--r-- 1 joseph joseph  3243 nov.  11  2022 tr_FRA01902_Gaboriau.txt\n",
      "-rw-r--r-- 1 joseph joseph  3945 nov.  11  2022 tr_FRA02001_Gilbert.txt\n",
      "-rw-r--r-- 1 joseph joseph  3205 nov.  11  2022 tr_FRA02101_Girardin.txt\n",
      "-rw-r--r-- 1 joseph joseph  4179 nov.  11  2022 tr_FRA02201_Gouraud.txt\n",
      "-rw-r--r-- 1 joseph joseph  2874 nov.  11  2022 tr_FRA02202_Gouraud.txt\n",
      "-rw-r--r-- 1 joseph joseph  4262 nov.  11  2022 tr_FRA02203_Gouraud.txt\n",
      "-rw-r--r-- 1 joseph joseph  5184 nov.  11  2022 tr_FRA02301_Greville.txt\n",
      "-rw-r--r-- 1 joseph joseph  5716 nov.  11  2022 tr_FRA02302_Greville.txt\n",
      "-rw-r--r-- 1 joseph joseph  5031 nov.  11  2022 tr_FRA02303_Greville.txt\n",
      "-rw-r--r-- 1 joseph joseph  4165 nov.  11  2022 tr_FRA02401_LeRouge.txt\n",
      "-rw-r--r-- 1 joseph joseph  4856 nov.  11  2022 tr_FRA02501_Loti.txt\n",
      "-rw-r--r-- 1 joseph joseph  9893 nov.  11  2022 tr_FRA02601_Malot.txt\n",
      "-rw-r--r-- 1 joseph joseph  4030 nov.  11  2022 tr_FRA02602_Malot.txt\n",
      "-rw-r--r-- 1 joseph joseph  8414 nov.  11  2022 tr_FRA02603_Malot.txt\n",
      "-rw-r--r-- 1 joseph joseph  6676 nov.  11  2022 tr_FRA02701_Maupassant.txt\n",
      "-rw-r--r-- 1 joseph joseph  4144 nov.  11  2022 tr_FRA02702_Maupassant.txt\n",
      "-rw-r--r-- 1 joseph joseph  3666 nov.  11  2022 tr_FRA02802_Mirbeau.txt\n",
      "-rw-r--r-- 1 joseph joseph  3559 nov.  11  2022 tr_FRA02901_Noailles.txt\n",
      "-rw-r--r-- 1 joseph joseph  6178 nov.  11  2022 tr_FRA03001_Ohnet.txt\n",
      "-rw-r--r-- 1 joseph joseph  2559 nov.  11  2022 tr_FRA03002_Ohnet.txt\n",
      "-rw-r--r-- 1 joseph joseph 11146 nov.  11  2022 tr_FRA03003_Ohnet.txt\n",
      "-rw-r--r-- 1 joseph joseph  1375 nov.  11  2022 tr_FRA03101_Ponson.txt\n",
      "-rw-r--r-- 1 joseph joseph  6722 nov.  11  2022 tr_FRA03201_Blandy.txt\n",
      "-rw-r--r-- 1 joseph joseph  9507 nov.  11  2022 tr_FRA03302_Rattazzi.txt\n",
      "-rw-r--r-- 1 joseph joseph 15708 nov.  11  2022 tr_FRA03401_Reybaud.txt\n",
      "-rw-r--r-- 1 joseph joseph 35651 nov.  11  2022 tr_FRA03601_Proust.txt\n",
      "-rw-r--r-- 1 joseph joseph  7781 nov.  11  2022 tr_FRA03701_Sand.txt\n",
      "-rw-r--r-- 1 joseph joseph  5648 nov.  11  2022 tr_FRA03702_Sand.txt\n",
      "-rw-r--r-- 1 joseph joseph 18888 nov.  11  2022 tr_FRA03704_Sand.txt\n",
      "-rw-r--r-- 1 joseph joseph  4950 nov.  11  2022 tr_FRA03802_Stern.txt\n",
      "-rw-r--r-- 1 joseph joseph  6861 nov.  11  2022 tr_FRA03903_Stolz.txt\n",
      "-rw-r--r-- 1 joseph joseph  8406 nov.  11  2022 tr_FRA04001_Verne.txt\n",
      "-rw-r--r-- 1 joseph joseph  5981 nov.  11  2022 tr_FRA04002_Verne.txt\n",
      "-rw-r--r-- 1 joseph joseph  3687 nov.  11  2022 tr_FRA04102_Erckmann.txt\n",
      "-rw-r--r-- 1 joseph joseph  3306 nov.  11  2022 tr_FRA04202_Rolland.txt\n",
      "-rw-r--r-- 1 joseph joseph 11583 nov.  11  2022 tr_FRA04301_Achard.txt\n",
      "-rw-r--r-- 1 joseph joseph  3599 nov.  11  2022 tr_FRA04401_Barbusse.txt\n",
      "-rw-r--r-- 1 joseph joseph 14797 nov.  11  2022 tr_FRA04501_Barres.txt\n",
      "-rw-r--r-- 1 joseph joseph  6898 nov.  11  2022 tr_FRA04601_Bazin.txt\n",
      "-rw-r--r-- 1 joseph joseph 12178 nov.  11  2022 tr_FRA04701_Bourget.txt\n",
      "-rw-r--r-- 1 joseph joseph  3621 nov.  11  2022 tr_FRA04801_Corday.txt\n",
      "-rw-r--r-- 1 joseph joseph 25221 nov.  11  2022 tr_FRA04901_Dumas.txt\n",
      "-rw-r--r-- 1 joseph joseph  5633 nov.  11  2022 tr_FRA05101_Eekhoud.txt\n",
      "-rw-r--r-- 1 joseph joseph 18658 nov.  11  2022 tr_FRA05201_Feuillet.txt\n",
      "-rw-r--r-- 1 joseph joseph  2555 nov.  11  2022 tr_FRA05301_Galopin.txt\n",
      "-rw-r--r-- 1 joseph joseph 10359 nov.  11  2022 tr_FRA05401_Kock.txt\n",
      "-rw-r--r-- 1 joseph joseph  4189 nov.  11  2022 tr_FRA05501_Lermina.txt\n",
      "-rw-r--r-- 1 joseph joseph  4457 nov.  11  2022 tr_FRA05602_Lesueur.txt\n",
      "-rw-r--r-- 1 joseph joseph  5926 nov.  11  2022 tr_FRA05702_Maquet.txt\n",
      "-rw-r--r-- 1 joseph joseph  4150 nov.  11  2022 tr_FRA05801_Mille.txt\n",
      "-rw-r--r-- 1 joseph joseph  5428 nov.  11  2022 tr_FRA05901_Moselly.txt\n",
      "-rw-r--r-- 1 joseph joseph  6551 nov.  11  2022 tr_FRA06001_Rebell.txt\n",
      "-rw-r--r-- 1 joseph joseph 19390 nov.  11  2022 tr_FRA06101_Sandeau.txt\n",
      "-rw-r--r-- 1 joseph joseph  8990 nov.  11  2022 tr_FRA06201_Viel-Castel.txt\n",
      "-rw-r--r-- 1 joseph joseph  2379 nov.  11  2022 tr_FRA06301_Montepin.txt\n",
      "-rw-r--r-- 1 joseph joseph  3294 nov.  11  2022 tr_FRA06401_Chandeneux.txt\n",
      "-rw-r--r-- 1 joseph joseph  2578 nov.  11  2022 tr_FRA06501_Gyp.txt\n",
      "-rw-r--r-- 1 joseph joseph  4963 nov.  11  2022 tr_FRA06601_Peladan.txt\n",
      "-rw-r--r-- 1 joseph joseph  3665 nov.  11  2022 tr_FRA06701_Uchard.txt\n",
      "-rw-r--r-- 1 joseph joseph 11378 nov.  11  2022 tr_FRA06801_Vaillant.txt\n",
      "-rw-r--r-- 1 joseph joseph  5195 nov.  11  2022 tr_FRA06901_Vignon.txt\n",
      "-rw-r--r-- 1 joseph joseph 14068 nov.  11  2022 tr_FRA07001_Mendes.txt\n",
      "-rw-r--r-- 1 joseph joseph  8503 nov.  11  2022 tr_FRA07101_Blondel.txt\n",
      "-rw-r--r-- 1 joseph joseph  4192 nov.  11  2022 tr_FRA07201_Montagne.txt\n",
      "-rw-r--r-- 1 joseph joseph  4773 nov.  11  2022 tr_FRA07301_Valgand.txt\n",
      "-rw-r--r-- 1 joseph joseph  3501 nov.  11  2022 tr_FRA07401_Leblanc.txt\n",
      "-rw-r--r-- 1 joseph joseph  4713 nov.  11  2022 tr_FRA07501_Darien.txt\n",
      "-rw-r--r-- 1 joseph joseph  4194 nov.  11  2022 tr_FRA07601_Leroux.txt\n"
     ]
    }
   ],
   "source": [
    "# On commence par vérifier qu'on trouve bien le fichier et que son contenu n'a pas été altéré\n",
    "!echo \"7dc395be9d84ac481ff6cf0a726862b66967898986f387dd5659d554394101d6  {dataset_zip_path}\" | sha256sum -c -\n",
    "# On vérifie que le répertoire de destination existe et on le crée sinon\n",
    "!mkdir -p \"{dataset_destination_dir}\"\n",
    "# On décompresse le fichier dans le répertoire de destination\n",
    "!unzip \"{dataset_zip_path}\" -d \"{dataset_destination_dir}\"\n",
    "# On liste le contenu du répertoire de destination : on s'attend à trouver le répertoire \"French_ELTEC_NER_Open_Dataset/texts\" et à ce qu'il contienne des fichiers texte\n",
    "!ls -lA \"{dataset_destination_dir}/French_ELTEC_NER_Open_Dataset/texts\""
   ]
  },
  {
   "attachments": {},
   "cell_type": "markdown",
   "metadata": {},
   "source": [
    "Parfait ! Nous avons des fichiers prêts à être traités 🦾 !"
   ]
  },
  {
   "attachments": {},
   "cell_type": "markdown",
   "metadata": {},
   "source": [
    "### 4.3 Construire une liste de fichiers à traiter\n",
    "\n",
    "Nous allons devoir charger chacun des fichiers du corpus et les passer à notre modèle de langue `nlp`.\n",
    "\n",
    "Nous allons procéder de la façon suivante :\n",
    "\n",
    "1. nous allons construire la liste des chemins vers chacun de ces fichiers à traiter\n",
    "2. nous allons définir une fonction qui permet de charger le contenu de ces fichiers\n",
    "3. nous allons regarder les résultats pour quelques fichiers\n",
    "4. finalement nous allons appeler notre modèle de langue avec le contenu de chacun de ces fichiers, pour stocker les entités détectées dans une grande liste"
   ]
  },
  {
   "attachments": {},
   "cell_type": "markdown",
   "metadata": {},
   "source": [
    "Pour lister les fichiers, nous allons utiliser le module Python [`glob`](https://docs.python.org/3/library/glob.html) qui permet d'obtenir une liste de fichier à partir d'un motif.\n",
    "\n",
    "Nous allons utiliser un motif simple en indiquant un caractère joker `*` pour indiquer que n'importe quel caractère peut être trouvé à cette position."
   ]
  },
  {
   "attachments": {},
   "cell_type": "markdown",
   "metadata": {},
   "source": [
    "#### 🛠️ Corrigez l'extension des fichiers à trouver dans la cellule suivante pour collecter la liste des fichiers texte à traiter\n",
    "Nous allons afficher le contenu de cette liste pour vérifier que nous avons bien trouvé les fichiers à traiter.\n",
    "\n",
    "<details>\n",
    "<summary>Solution</summary>\n",
    "\n",
    "Remplacez le `*.json` par `*.txt`.\n",
    "\n",
    "</details>"
   ]
  },
  {
   "cell_type": "code",
   "execution_count": 25,
   "metadata": {},
   "outputs": [
    {
     "data": {
      "text/plain": [
       "[]"
      ]
     },
     "execution_count": 25,
     "metadata": {},
     "output_type": "execute_result"
    }
   ],
   "source": [
    "from glob import glob\n",
    "text_file_paths = glob(f\"{dataset_destination_dir}/French_ELTEC_NER_Open_Dataset/texts/*.json\")\n",
    "text_file_paths"
   ]
  },
  {
   "cell_type": "code",
   "execution_count": 26,
   "metadata": {
    "tags": [
     "teacher"
    ]
   },
   "outputs": [
    {
     "data": {
      "text/plain": [
       "['/home/jchazalo/tmp/datasets/French_ELTEC_NER_Open_Dataset/texts/tr_FRA03201_Blandy.txt',\n",
       " '/home/jchazalo/tmp/datasets/French_ELTEC_NER_Open_Dataset/texts/tr_FRA00502_Balzac.txt',\n",
       " '/home/jchazalo/tmp/datasets/French_ELTEC_NER_Open_Dataset/texts/tr_FRA00602_Boisgobey.txt',\n",
       " '/home/jchazalo/tmp/datasets/French_ELTEC_NER_Open_Dataset/texts/tr_FRA00701_Carraud.txt',\n",
       " '/home/jchazalo/tmp/datasets/French_ELTEC_NER_Open_Dataset/texts/tr_FRA00901_Daudet.txt',\n",
       " '/home/jchazalo/tmp/datasets/French_ELTEC_NER_Open_Dataset/texts/tr_FRA02301_Greville.txt',\n",
       " '/home/jchazalo/tmp/datasets/French_ELTEC_NER_Open_Dataset/texts/tr_FRA01201_Feval.txt',\n",
       " '/home/jchazalo/tmp/datasets/French_ELTEC_NER_Open_Dataset/texts/tr_FRA03903_Stolz.txt',\n",
       " '/home/jchazalo/tmp/datasets/French_ELTEC_NER_Open_Dataset/texts/tr_FRA01302_Flaubert.txt',\n",
       " '/home/jchazalo/tmp/datasets/French_ELTEC_NER_Open_Dataset/texts/tr_FRA00201_Audoux.txt',\n",
       " '/home/jchazalo/tmp/datasets/French_ELTEC_NER_Open_Dataset/texts/tr_FRA02603_Malot.txt',\n",
       " '/home/jchazalo/tmp/datasets/French_ELTEC_NER_Open_Dataset/texts/tr_FRA00601_Boisgobey.txt',\n",
       " '/home/jchazalo/tmp/datasets/French_ELTEC_NER_Open_Dataset/texts/tr_FRA04801_Corday.txt',\n",
       " '/home/jchazalo/tmp/datasets/French_ELTEC_NER_Open_Dataset/texts/tr_FRA05301_Galopin.txt',\n",
       " '/home/jchazalo/tmp/datasets/French_ELTEC_NER_Open_Dataset/texts/tr_FRA01102_Dombre.txt',\n",
       " '/home/jchazalo/tmp/datasets/French_ELTEC_NER_Open_Dataset/texts/tr_FRA04901_Dumas.txt',\n",
       " '/home/jchazalo/tmp/datasets/French_ELTEC_NER_Open_Dataset/texts/tr_FRA02202_Gouraud.txt',\n",
       " '/home/jchazalo/tmp/datasets/French_ELTEC_NER_Open_Dataset/texts/tr_FRA07301_Valgand.txt',\n",
       " '/home/jchazalo/tmp/datasets/French_ELTEC_NER_Open_Dataset/texts/tr_FRA00503_Balzac.txt',\n",
       " '/home/jchazalo/tmp/datasets/French_ELTEC_NER_Open_Dataset/texts/tr_FRA00102_Adam.txt',\n",
       " '/home/jchazalo/tmp/datasets/French_ELTEC_NER_Open_Dataset/texts/tr_FRA00301_Aimard.txt',\n",
       " '/home/jchazalo/tmp/datasets/French_ELTEC_NER_Open_Dataset/texts/tr_FRA00302_Aimard.txt',\n",
       " '/home/jchazalo/tmp/datasets/French_ELTEC_NER_Open_Dataset/texts/tr_FRA01202_Feval.txt',\n",
       " '/home/jchazalo/tmp/datasets/French_ELTEC_NER_Open_Dataset/texts/tr_FRA06601_Peladan.txt',\n",
       " '/home/jchazalo/tmp/datasets/French_ELTEC_NER_Open_Dataset/texts/tr_FRA04601_Bazin.txt',\n",
       " '/home/jchazalo/tmp/datasets/French_ELTEC_NER_Open_Dataset/texts/tr_FRA07101_Blondel.txt',\n",
       " '/home/jchazalo/tmp/datasets/French_ELTEC_NER_Open_Dataset/texts/tr_FRA01101_Dombre.txt',\n",
       " '/home/jchazalo/tmp/datasets/French_ELTEC_NER_Open_Dataset/texts/tr_FRA02401_LeRouge.txt',\n",
       " '/home/jchazalo/tmp/datasets/French_ELTEC_NER_Open_Dataset/texts/tr_FRA01902_Gaboriau.txt',\n",
       " '/home/jchazalo/tmp/datasets/French_ELTEC_NER_Open_Dataset/texts/tr_FRA05602_Lesueur.txt',\n",
       " '/home/jchazalo/tmp/datasets/French_ELTEC_NER_Open_Dataset/texts/tr_FRA05201_Feuillet.txt',\n",
       " '/home/jchazalo/tmp/datasets/French_ELTEC_NER_Open_Dataset/texts/tr_FRA06801_Vaillant.txt',\n",
       " '/home/jchazalo/tmp/datasets/French_ELTEC_NER_Open_Dataset/texts/tr_FRA03701_Sand.txt',\n",
       " '/home/jchazalo/tmp/datasets/French_ELTEC_NER_Open_Dataset/texts/tr_FRA03601_Proust.txt',\n",
       " '/home/jchazalo/tmp/datasets/French_ELTEC_NER_Open_Dataset/texts/tr_FRA02302_Greville.txt',\n",
       " '/home/jchazalo/tmp/datasets/French_ELTEC_NER_Open_Dataset/texts/tr_FRA02701_Maupassant.txt',\n",
       " '/home/jchazalo/tmp/datasets/French_ELTEC_NER_Open_Dataset/texts/tr_FRA02702_Maupassant.txt',\n",
       " '/home/jchazalo/tmp/datasets/French_ELTEC_NER_Open_Dataset/texts/tr_FRA07401_Leblanc.txt',\n",
       " '/home/jchazalo/tmp/datasets/French_ELTEC_NER_Open_Dataset/texts/tr_FRA05702_Maquet.txt',\n",
       " '/home/jchazalo/tmp/datasets/French_ELTEC_NER_Open_Dataset/texts/tr_FRA03101_Ponson.txt',\n",
       " '/home/jchazalo/tmp/datasets/French_ELTEC_NER_Open_Dataset/texts/tr_FRA06701_Uchard.txt',\n",
       " '/home/jchazalo/tmp/datasets/French_ELTEC_NER_Open_Dataset/texts/tr_FRA02001_Gilbert.txt',\n",
       " '/home/jchazalo/tmp/datasets/French_ELTEC_NER_Open_Dataset/texts/tr_FRA07601_Leroux.txt',\n",
       " '/home/jchazalo/tmp/datasets/French_ELTEC_NER_Open_Dataset/texts/tr_FRA03002_Ohnet.txt',\n",
       " '/home/jchazalo/tmp/datasets/French_ELTEC_NER_Open_Dataset/texts/tr_FRA01402_Fleuriot.txt',\n",
       " '/home/jchazalo/tmp/datasets/French_ELTEC_NER_Open_Dataset/texts/tr_FRA01602_GautierJ.txt',\n",
       " '/home/jchazalo/tmp/datasets/French_ELTEC_NER_Open_Dataset/texts/tr_FRA03702_Sand.txt',\n",
       " '/home/jchazalo/tmp/datasets/French_ELTEC_NER_Open_Dataset/texts/tr_FRA06901_Vignon.txt',\n",
       " '/home/jchazalo/tmp/datasets/French_ELTEC_NER_Open_Dataset/texts/tr_FRA04202_Rolland.txt',\n",
       " '/home/jchazalo/tmp/datasets/French_ELTEC_NER_Open_Dataset/texts/tr_FRA03302_Rattazzi.txt',\n",
       " '/home/jchazalo/tmp/datasets/French_ELTEC_NER_Open_Dataset/texts/tr_FRA02602_Malot.txt',\n",
       " '/home/jchazalo/tmp/datasets/French_ELTEC_NER_Open_Dataset/texts/tr_FRA00101_Adam.txt',\n",
       " '/home/jchazalo/tmp/datasets/French_ELTEC_NER_Open_Dataset/texts/tr_FRA02101_Girardin.txt',\n",
       " '/home/jchazalo/tmp/datasets/French_ELTEC_NER_Open_Dataset/texts/tr_FRA04301_Achard.txt',\n",
       " '/home/jchazalo/tmp/datasets/French_ELTEC_NER_Open_Dataset/texts/tr_FRA01801_Gay.txt',\n",
       " '/home/jchazalo/tmp/datasets/French_ELTEC_NER_Open_Dataset/texts/tr_FRA01301_Flaubert.txt',\n",
       " '/home/jchazalo/tmp/datasets/French_ELTEC_NER_Open_Dataset/texts/tr_FRA02501_Loti.txt',\n",
       " '/home/jchazalo/tmp/datasets/French_ELTEC_NER_Open_Dataset/texts/tr_FRA06401_Chandeneux.txt',\n",
       " '/home/jchazalo/tmp/datasets/French_ELTEC_NER_Open_Dataset/texts/tr_FRA02901_Noailles.txt',\n",
       " '/home/jchazalo/tmp/datasets/French_ELTEC_NER_Open_Dataset/texts/tr_FRA04002_Verne.txt',\n",
       " '/home/jchazalo/tmp/datasets/French_ELTEC_NER_Open_Dataset/texts/tr_FRA06101_Sandeau.txt',\n",
       " '/home/jchazalo/tmp/datasets/French_ELTEC_NER_Open_Dataset/texts/tr_FRA01701_GautierT.txt',\n",
       " '/home/jchazalo/tmp/datasets/French_ELTEC_NER_Open_Dataset/texts/tr_FRA00501_Balzac.txt',\n",
       " '/home/jchazalo/tmp/datasets/French_ELTEC_NER_Open_Dataset/texts/tr_FRA01603_GautierJ.txt',\n",
       " '/home/jchazalo/tmp/datasets/French_ELTEC_NER_Open_Dataset/texts/tr_FRA03001_Ohnet.txt',\n",
       " '/home/jchazalo/tmp/datasets/French_ELTEC_NER_Open_Dataset/texts/tr_FRA07201_Montagne.txt',\n",
       " '/home/jchazalo/tmp/datasets/French_ELTEC_NER_Open_Dataset/texts/tr_FRA02203_Gouraud.txt',\n",
       " '/home/jchazalo/tmp/datasets/French_ELTEC_NER_Open_Dataset/texts/tr_FRA06201_Viel-Castel.txt',\n",
       " '/home/jchazalo/tmp/datasets/French_ELTEC_NER_Open_Dataset/texts/tr_FRA05801_Mille.txt',\n",
       " '/home/jchazalo/tmp/datasets/French_ELTEC_NER_Open_Dataset/texts/tr_FRA01002_DelarueMardrus.txt',\n",
       " '/home/jchazalo/tmp/datasets/French_ELTEC_NER_Open_Dataset/texts/tr_FRA06301_Montepin.txt',\n",
       " '/home/jchazalo/tmp/datasets/French_ELTEC_NER_Open_Dataset/texts/tr_FRA05401_Kock.txt',\n",
       " '/home/jchazalo/tmp/datasets/French_ELTEC_NER_Open_Dataset/texts/tr_FRA05101_Eekhoud.txt',\n",
       " '/home/jchazalo/tmp/datasets/French_ELTEC_NER_Open_Dataset/texts/tr_FRA04501_Barres.txt',\n",
       " '/home/jchazalo/tmp/datasets/French_ELTEC_NER_Open_Dataset/texts/tr_FRA01203_Feval.txt',\n",
       " '/home/jchazalo/tmp/datasets/French_ELTEC_NER_Open_Dataset/texts/tr_FRA04001_Verne.txt',\n",
       " '/home/jchazalo/tmp/datasets/French_ELTEC_NER_Open_Dataset/texts/tr_FRA01403_Fleuriot.txt',\n",
       " '/home/jchazalo/tmp/datasets/French_ELTEC_NER_Open_Dataset/texts/tr_FRA04102_Erckmann.txt',\n",
       " '/home/jchazalo/tmp/datasets/French_ELTEC_NER_Open_Dataset/texts/tr_FRA07001_Mendes.txt',\n",
       " '/home/jchazalo/tmp/datasets/French_ELTEC_NER_Open_Dataset/texts/tr_FRA02303_Greville.txt',\n",
       " '/home/jchazalo/tmp/datasets/French_ELTEC_NER_Open_Dataset/texts/tr_FRA06001_Rebell.txt',\n",
       " '/home/jchazalo/tmp/datasets/French_ELTEC_NER_Open_Dataset/texts/tr_FRA01601_GautierJ.txt',\n",
       " '/home/jchazalo/tmp/datasets/French_ELTEC_NER_Open_Dataset/texts/tr_FRA04701_Bourget.txt',\n",
       " '/home/jchazalo/tmp/datasets/French_ELTEC_NER_Open_Dataset/texts/tr_FRA03003_Ohnet.txt',\n",
       " '/home/jchazalo/tmp/datasets/French_ELTEC_NER_Open_Dataset/texts/tr_FRA00401_Allais.txt',\n",
       " '/home/jchazalo/tmp/datasets/French_ELTEC_NER_Open_Dataset/texts/tr_FRA02802_Mirbeau.txt',\n",
       " '/home/jchazalo/tmp/datasets/French_ELTEC_NER_Open_Dataset/texts/tr_FRA06501_Gyp.txt',\n",
       " '/home/jchazalo/tmp/datasets/French_ELTEC_NER_Open_Dataset/texts/tr_FRA04401_Barbusse.txt',\n",
       " '/home/jchazalo/tmp/datasets/French_ELTEC_NER_Open_Dataset/texts/tr_FRA03401_Reybaud.txt',\n",
       " '/home/jchazalo/tmp/datasets/French_ELTEC_NER_Open_Dataset/texts/tr_FRA01303_Flaubert.txt',\n",
       " '/home/jchazalo/tmp/datasets/French_ELTEC_NER_Open_Dataset/texts/tr_FRA02601_Malot.txt',\n",
       " '/home/jchazalo/tmp/datasets/French_ELTEC_NER_Open_Dataset/texts/tr_FRA03704_Sand.txt',\n",
       " '/home/jchazalo/tmp/datasets/French_ELTEC_NER_Open_Dataset/texts/tr_FRA00801_Dash.txt',\n",
       " '/home/jchazalo/tmp/datasets/French_ELTEC_NER_Open_Dataset/texts/tr_FRA05901_Moselly.txt',\n",
       " '/home/jchazalo/tmp/datasets/French_ELTEC_NER_Open_Dataset/texts/tr_FRA01501_France.txt',\n",
       " '/home/jchazalo/tmp/datasets/French_ELTEC_NER_Open_Dataset/texts/tr_FRA07501_Darien.txt',\n",
       " '/home/jchazalo/tmp/datasets/French_ELTEC_NER_Open_Dataset/texts/tr_FRA05501_Lermina.txt',\n",
       " '/home/jchazalo/tmp/datasets/French_ELTEC_NER_Open_Dataset/texts/tr_FRA03802_Stern.txt',\n",
       " '/home/jchazalo/tmp/datasets/French_ELTEC_NER_Open_Dataset/texts/tr_FRA01401_Fleuriot.txt',\n",
       " '/home/jchazalo/tmp/datasets/French_ELTEC_NER_Open_Dataset/texts/tr_FRA02201_Gouraud.txt']"
      ]
     },
     "execution_count": 26,
     "metadata": {},
     "output_type": "execute_result"
    }
   ],
   "source": [
    "# TEACHER\n",
    "from glob import glob\n",
    "text_file_paths = glob(f\"{dataset_destination_dir}/French_ELTEC_NER_Open_Dataset/texts/*.txt\")\n",
    "text_file_paths"
   ]
  },
  {
   "attachments": {},
   "cell_type": "markdown",
   "metadata": {},
   "source": [
    "#### 🛠️ Complétez la cellule suivante pour vérifier que nous avons bien trouvé 100 fichiers\n",
    "<details>\n",
    "<summary>Indice</summary>\n",
    "Vérifiez que la liste des noms de fichiers contient bien 100 éléments.\n",
    "</details>\n",
    "<br>\n",
    "<details>\n",
    "<summary>Solution</summary>\n",
    "\n",
    "```python\n",
    "len(text_file_paths)\n",
    "```\n",
    "</details>"
   ]
  },
  {
   "cell_type": "code",
   "execution_count": null,
   "metadata": {},
   "outputs": [],
   "source": [
    "___(text_file_paths)"
   ]
  },
  {
   "cell_type": "code",
   "execution_count": 27,
   "metadata": {
    "tags": [
     "teacher"
    ]
   },
   "outputs": [
    {
     "data": {
      "text/plain": [
       "True"
      ]
     },
     "execution_count": 27,
     "metadata": {},
     "output_type": "execute_result"
    }
   ],
   "source": [
    "# TEACHER\n",
    "len(text_file_paths) == 100"
   ]
  },
  {
   "attachments": {},
   "cell_type": "markdown",
   "metadata": {},
   "source": [
    "### 4.4 Observation des résultats pour quelques textes\n",
    "Avant de traiter les données, nous allons vérifier que le modèle de langue produit des résultats raisonnables sur quelques exemples.\n",
    "\n",
    "Si ces résultats sont satisfaisants, alors nous pourrons lancer un traitement plus large, et, plus tard, mesurer la performance de façon objective sur un échantillon représentatif, de taille suffisante, annoté de façon fiable."
   ]
  },
  {
   "cell_type": "markdown",
   "metadata": {},
   "source": [
    "Pour vous aider, voici une fonction `load_text(filename)` qui prend en paramètre un chemin vers un fichier texte et renvoie la (longue) chaîne de caractères de son contenu."
   ]
  },
  {
   "cell_type": "code",
   "execution_count": 28,
   "metadata": {},
   "outputs": [],
   "source": [
    "def load_text(filename: str) -> str:\n",
    "    \"\"\"Loads and returns the content of a text file.\n",
    "\n",
    "    Args:\n",
    "        filename (str): Path to the text file\n",
    "\n",
    "    Returns:\n",
    "        str: String representation of the content of the file. Newlines are preserved.\n",
    "    \"\"\"\n",
    "    with open(filename, encoding=\"utf8\") as in_file:\n",
    "        return \"\".join(in_file.readlines())"
   ]
  },
  {
   "attachments": {},
   "cell_type": "markdown",
   "metadata": {},
   "source": [
    "#### 🛠️ Compléter la cellule suivante pour traiter et visualiser les entités extraites d'un texte de votre choix\n",
    "Si nécessaire, consultez les étapes précédentes pour retrouver les opérations réalisées.\n",
    "\n",
    "Rappel : la variable qui pointe vers notre modèle de langue s'appelle `nlp`.\n",
    "\n",
    "<details>\n",
    "<summary>Solution</summary>\n",
    "\n",
    "```python\n",
    "some_filename = text_file_paths[10]\n",
    "some_text = load_text(some_filename)\n",
    "some_doc = nlp(some_text)\n",
    "displacy.render(some_doc, style=\"ent\", jupyter=True)\n",
    "```\n",
    "</details>"
   ]
  },
  {
   "cell_type": "code",
   "execution_count": null,
   "metadata": {},
   "outputs": [],
   "source": [
    "# On choisit un fichier parmi la liste des fichiers disponibles\n",
    "some_filename = text_file_paths[10]\n",
    "# On charge son contenu\n",
    "some_text = load_text(____)\n",
    "# On applique notre modèle de langue pour extraire des entités nommées (entre autres)\n",
    "some_doc = ___(____)\n",
    "# On utilise displaCy pour visualiser les entités nommées détectées dans ce texte\n",
    "____.render(____, style=____, jupyter=True)"
   ]
  },
  {
   "cell_type": "code",
   "execution_count": 29,
   "metadata": {
    "tags": [
     "teacher"
    ]
   },
   "outputs": [
    {
     "data": {
      "text/html": [
       "<span class=\"tex2jax_ignore\"><div class=\"entities\" style=\"line-height: 2.5; direction: ltr\">\n",
       "<mark class=\"entity\" style=\"background: #ddd; padding: 0.45em 0.6em; margin: 0 0.25em; line-height: 1; border-radius: 0.35em;\">\n",
       "    Première\n",
       "    <span style=\"font-size: 0.8em; font-weight: bold; line-height: 1; border-radius: 0.35em; vertical-align: middle; margin-left: 0.5rem\">MISC</span>\n",
       "</mark>\n",
       " partie<br>\n",
       "<mark class=\"entity\" style=\"background: #ff9561; padding: 0.45em 0.6em; margin: 0 0.25em; line-height: 1; border-radius: 0.35em;\">\n",
       "    I\n",
       "    <span style=\"font-size: 0.8em; font-weight: bold; line-height: 1; border-radius: 0.35em; vertical-align: middle; margin-left: 0.5rem\">LOC</span>\n",
       "</mark>\n",
       "<br>Lorsque le bohème \n",
       "<mark class=\"entity\" style=\"background: #ddd; padding: 0.45em 0.6em; margin: 0 0.25em; line-height: 1; border-radius: 0.35em;\">\n",
       "    Crozat\n",
       "    <span style=\"font-size: 0.8em; font-weight: bold; line-height: 1; border-radius: 0.35em; vertical-align: middle; margin-left: 0.5rem\">PER</span>\n",
       "</mark>\n",
       " était sorti de la misère par un bon mariage qui le faisait bourgeois de la \n",
       "<mark class=\"entity\" style=\"background: #ff9561; padding: 0.45em 0.6em; margin: 0 0.25em; line-height: 1; border-radius: 0.35em;\">\n",
       "    rue de Vaugirard\n",
       "    <span style=\"font-size: 0.8em; font-weight: bold; line-height: 1; border-radius: 0.35em; vertical-align: middle; margin-left: 0.5rem\">LOC</span>\n",
       "</mark>\n",
       ", il n'avait pas rompu avec ses anciens camarades ; au lieu de les fuir ou de les tenir à distance, il avait pris plaisir à les grouper autour de lui, très content de leur ouvrir sa maison, dont le confortable le jetait loin de la mansarde de la \n",
       "<mark class=\"entity\" style=\"background: #ff9561; padding: 0.45em 0.6em; margin: 0 0.25em; line-height: 1; border-radius: 0.35em;\">\n",
       "    rue Ganneron\n",
       "    <span style=\"font-size: 0.8em; font-weight: bold; line-height: 1; border-radius: 0.35em; vertical-align: middle; margin-left: 0.5rem\">LOC</span>\n",
       "</mark>\n",
       " qu'il avait si longtemps habitée, et le flattait agréablement.<br>Tous les mercredis, de quatre à sept heures, il y avait réunion chez lui à l' \n",
       "<mark class=\"entity\" style=\"background: #ff9561; padding: 0.45em 0.6em; margin: 0 0.25em; line-height: 1; border-radius: 0.35em;\">\n",
       "    Hôtel des Médicis\n",
       "    <span style=\"font-size: 0.8em; font-weight: bold; line-height: 1; border-radius: 0.35em; vertical-align: middle; margin-left: 0.5rem\">LOC</span>\n",
       "</mark>\n",
       " , et c'était un jour sacré pour lequel on se réservait : quand une idée nouvelle germait dans l'esprit d'un des habitués, elle était caressée, mûrie, étudiée en silence, afin d'être présentée dans sa fleur au cénacle. « J'en parlerai chez \n",
       "<mark class=\"entity\" style=\"background: #ddd; padding: 0.45em 0.6em; margin: 0 0.25em; line-height: 1; border-radius: 0.35em;\">\n",
       "    Crozat\n",
       "    <span style=\"font-size: 0.8em; font-weight: bold; line-height: 1; border-radius: 0.35em; vertical-align: middle; margin-left: 0.5rem\">PER</span>\n",
       "</mark>\n",
       " » ; les lèvres prenaient un sourire d'espérance, et l'on s'endormait tranquillement en écoutant déjà le tapage qui se ferait dans la petite salle basse de l'hôtel où \n",
       "<mark class=\"entity\" style=\"background: #ddd; padding: 0.45em 0.6em; margin: 0 0.25em; line-height: 1; border-radius: 0.35em;\">\n",
       "    Crozat\n",
       "    <span style=\"font-size: 0.8em; font-weight: bold; line-height: 1; border-radius: 0.35em; vertical-align: middle; margin-left: 0.5rem\">PER</span>\n",
       "</mark>\n",
       ", les mains tendues, la figure ouverte, recevait ses amis.<br>Elle était aimable cette réception, simple comme l'homme, cordiale de la part du mari ainsi que de celle de la femme, qui ayant été comédienne, avait gardé la religion de la camaraderie. Sur une table, on trouvait des cruchons de bière et des chopes ; à longueur de bras, un vieux pot en grès de \n",
       "<mark class=\"entity\" style=\"background: #ff9561; padding: 0.45em 0.6em; margin: 0 0.25em; line-height: 1; border-radius: 0.35em;\">\n",
       "    Beauvais\n",
       "    <span style=\"font-size: 0.8em; font-weight: bold; line-height: 1; border-radius: 0.35em; vertical-align: middle; margin-left: 0.5rem\">LOC</span>\n",
       "</mark>\n",
       ", plein de tabac. La bière était bonne, le tabac sec ; les chopes ne restaient jamais vides ; on pouvait mettre ses pieds crottés sur les barreaux des chaises en causant librement entre hommes, et cracher sans gêne autour de soi.<br>Et ce n'était point de niaiseries ou de futilités qu'on s'entretenait, de bavardages mondains, de commérages sur les amis absents, ou de potins de coteries, mais des grandes questions philosophiques, politiques, sociales, religieuses, qui règlent l'humanité.<br>\n",
       "<mark class=\"entity\" style=\"background: #ff9561; padding: 0.45em 0.6em; margin: 0 0.25em; line-height: 1; border-radius: 0.35em;\">\n",
       "    Formé\n",
       "    <span style=\"font-size: 0.8em; font-weight: bold; line-height: 1; border-radius: 0.35em; vertical-align: middle; margin-left: 0.5rem\">LOC</span>\n",
       "</mark>\n",
       " d'abord d'amis ou tout au moins de camarades qui avaient travaillé et traîné la misère ensemble, le cercle de ces réunions s'était peu à peu élargi, et si bien qu'un jour la salle de l'hôtel des \n",
       "<mark class=\"entity\" style=\"background: #ddd; padding: 0.45em 0.6em; margin: 0 0.25em; line-height: 1; border-radius: 0.35em;\">\n",
       "    Médicis\n",
       "    <span style=\"font-size: 0.8em; font-weight: bold; line-height: 1; border-radius: 0.35em; vertical-align: middle; margin-left: 0.5rem\">PER</span>\n",
       "</mark>\n",
       " était devenue une « parlotte » où les prêcheurs d'idées et de religions nouvelles, les penseurs, les réformateurs, les apôtres, les politiciens, les esthéticiens et même simplement les bavards en quête d'oreilles plus ou moins complaisantes se donnaient rendez-vous ; venait qui voulait, et, si l'on n'entrait point là tout à fait comme dans une brasserie, il suffisait d'être amené par un habitué pour avoir droit à la pipe, à la bière et à la parole.<br>Mais, quoiqu'une certaine liberté réglât l'ordre du jour de cette parlotte, on n'était pas toujours certain d'arriver à placer le discours préparé pour lequel on était venu ; car \n",
       "<mark class=\"entity\" style=\"background: #ddd; padding: 0.45em 0.6em; margin: 0 0.25em; line-height: 1; border-radius: 0.35em;\">\n",
       "    Crozat\n",
       "    <span style=\"font-size: 0.8em; font-weight: bold; line-height: 1; border-radius: 0.35em; vertical-align: middle; margin-left: 0.5rem\">PER</span>\n",
       "</mark>\n",
       " qui, selon ses propres expressions, « poursuivait la conciliation de la science moderne avec les religions, quelles qu'elles fussent », usait et même abusait de sa qualité de maître de maison pour ne pas laisser les discussions s'écarter des sujets qui le passionnaient.<br>D'ailleurs, eût-il faibli en cédant à des considérations de bienveillance, de politesse, ou même de faiblesse qui étaient assez dans son caractère, que le plus assidu de ses habitués, le \n",
       "<mark class=\"entity\" style=\"background: #ddd; padding: 0.45em 0.6em; margin: 0 0.25em; line-height: 1; border-radius: 0.35em;\">\n",
       "    père Brigard\n",
       "    <span style=\"font-size: 0.8em; font-weight: bold; line-height: 1; border-radius: 0.35em; vertical-align: middle; margin-left: 0.5rem\">PER</span>\n",
       "</mark>\n",
       ", eût montré de la fermeté pour lui.<br>C'était une sorte d'apôtre que \n",
       "<mark class=\"entity\" style=\"background: #ddd; padding: 0.45em 0.6em; margin: 0 0.25em; line-height: 1; border-radius: 0.35em;\">\n",
       "    Brigard\n",
       "    <span style=\"font-size: 0.8em; font-weight: bold; line-height: 1; border-radius: 0.35em; vertical-align: middle; margin-left: 0.5rem\">PER</span>\n",
       "</mark>\n",
       ", qui s'était acquis une célébrité en mettant en pratique dans sa vie les idées qu'il professait et prêchait : \n",
       "<mark class=\"entity\" style=\"background: #ddd; padding: 0.45em 0.6em; margin: 0 0.25em; line-height: 1; border-radius: 0.35em;\">\n",
       "    comte de Brigard\n",
       "    <span style=\"font-size: 0.8em; font-weight: bold; line-height: 1; border-radius: 0.35em; vertical-align: middle; margin-left: 0.5rem\">PER</span>\n",
       "</mark>\n",
       ", il avait commencé par renoncer à son titre qui le faisait vassal du respect humain et des conventions sociales ; -- répétiteur de droit, il eût pu facilement gagner mille ou douze cents francs par mois, mais il avait arrangé le nombre et le prix de ses leçons de façon que sa journée ne lui rapportât que dix francs, pour n'être pas l'esclave de l'argent ; -- vivant avec une femme qu'il aimait, il avait toujours tenu, bien qu'il en eût deux filles, à rester avec elle « en union libre » et à ne pas reconnaître ses enfants, parce que la loi eût affaibli les liens qui l'attachaient à elles et amoindri ses devoirs ; c'était la conscience qui sanctionnait ces devoirs ; et la nature comme la conscience faisaient de lui le plus fidèle des maris, le meilleur, le plus affectueux, le plus tendre des pères. Grand, fier, portant dans sa personne et ses manières l'élégance native de sa race, il s'habillait comme le commissionnaire du coin, remplaçant seulement le velours bleu par le velours marron, couleur moins frivole. Habitant \n",
       "<mark class=\"entity\" style=\"background: #ddd; padding: 0.45em 0.6em; margin: 0 0.25em; line-height: 1; border-radius: 0.35em;\">\n",
       "    Clamart\n",
       "    <span style=\"font-size: 0.8em; font-weight: bold; line-height: 1; border-radius: 0.35em; vertical-align: middle; margin-left: 0.5rem\">PER</span>\n",
       "</mark>\n",
       " depuis vingt ans, il n'était jamais venu à \n",
       "<mark class=\"entity\" style=\"background: #ff9561; padding: 0.45em 0.6em; margin: 0 0.25em; line-height: 1; border-radius: 0.35em;\">\n",
       "    Paris\n",
       "    <span style=\"font-size: 0.8em; font-weight: bold; line-height: 1; border-radius: 0.35em; vertical-align: middle; margin-left: 0.5rem\">LOC</span>\n",
       "</mark>\n",
       " qu'à pied, et les seules concessions qu'il accordât au superflu ou au bien-être consistaient l'hiver, à faire le chemin en sabots, l'été à porter sa veste sur son bras.<br>Ainsi organisé, il lui fallait des disciples, et il en cherchait partout, dans les rues, où il retenait par le bouton les gens qu'il avait pu agripper sous les arbres du \n",
       "<mark class=\"entity\" style=\"background: #ff9561; padding: 0.45em 0.6em; margin: 0 0.25em; line-height: 1; border-radius: 0.35em;\">\n",
       "    Luxembourg\n",
       "    <span style=\"font-size: 0.8em; font-weight: bold; line-height: 1; border-radius: 0.35em; vertical-align: middle; margin-left: 0.5rem\">LOC</span>\n",
       "</mark>\n",
       ", et le mercredi chez son ami, son vieux camarade \n",
       "<mark class=\"entity\" style=\"background: #ff9561; padding: 0.45em 0.6em; margin: 0 0.25em; line-height: 1; border-radius: 0.35em;\">\n",
       "    Crozat\n",
       "    <span style=\"font-size: 0.8em; font-weight: bold; line-height: 1; border-radius: 0.35em; vertical-align: middle; margin-left: 0.5rem\">LOC</span>\n",
       "</mark>\n",
       ". \n",
       "<mark class=\"entity\" style=\"background: #ff9561; padding: 0.45em 0.6em; margin: 0 0.25em; line-height: 1; border-radius: 0.35em;\">\n",
       "    Combien\n",
       "    <span style=\"font-size: 0.8em; font-weight: bold; line-height: 1; border-radius: 0.35em; vertical-align: middle; margin-left: 0.5rem\">LOC</span>\n",
       "</mark>\n",
       " n'en avait-il pas eu ! Par malheur, la plupart avaient mal tourné ; quelques-uns étaient devenus ministres ; d'autres s'étaient laissés ensevelir dans les hautes places de la magistrature inamovible ; il y en avait qui remuaient des millions ; deux étaient à \n",
       "<mark class=\"entity\" style=\"background: #ff9561; padding: 0.45em 0.6em; margin: 0 0.25em; line-height: 1; border-radius: 0.35em;\">\n",
       "    Nouméa\n",
       "    <span style=\"font-size: 0.8em; font-weight: bold; line-height: 1; border-radius: 0.35em; vertical-align: middle; margin-left: 0.5rem\">LOC</span>\n",
       "</mark>\n",
       " ; l'un prêchait dans la chaire de \n",
       "<mark class=\"entity\" style=\"background: #ddd; padding: 0.45em 0.6em; margin: 0 0.25em; line-height: 1; border-radius: 0.35em;\">\n",
       "    Notre-Dame\n",
       "    <span style=\"font-size: 0.8em; font-weight: bold; line-height: 1; border-radius: 0.35em; vertical-align: middle; margin-left: 0.5rem\">PER</span>\n",
       "</mark>\n",
       ".<br>Une après-midi d'octobre, la petite salle était pleine ; la fin des vacances avait ramené les habitués et pour la première fois on se trouvait à peu près en nombre pour ouvrir une discussion utile. \n",
       "<mark class=\"entity\" style=\"background: #ddd; padding: 0.45em 0.6em; margin: 0 0.25em; line-height: 1; border-radius: 0.35em;\">\n",
       "    Crozat\n",
       "    <span style=\"font-size: 0.8em; font-weight: bold; line-height: 1; border-radius: 0.35em; vertical-align: middle; margin-left: 0.5rem\">PER</span>\n",
       "</mark>\n",
       ", près de la porte, souriait aux arrivants en donnant des poignées de main « retour de vacances » ; et \n",
       "<mark class=\"entity\" style=\"background: #ddd; padding: 0.45em 0.6em; margin: 0 0.25em; line-height: 1; border-radius: 0.35em;\">\n",
       "    Brigard\n",
       "    <span style=\"font-size: 0.8em; font-weight: bold; line-height: 1; border-radius: 0.35em; vertical-align: middle; margin-left: 0.5rem\">PER</span>\n",
       "</mark>\n",
       ", son chapeau de feutre mou sur la tête, présidait, assisté de ses deux disciples préférés en ce moment, l'avocat \n",
       "<mark class=\"entity\" style=\"background: #ddd; padding: 0.45em 0.6em; margin: 0 0.25em; line-height: 1; border-radius: 0.35em;\">\n",
       "    Nougarède\n",
       "    <span style=\"font-size: 0.8em; font-weight: bold; line-height: 1; border-radius: 0.35em; vertical-align: middle; margin-left: 0.5rem\">PER</span>\n",
       "</mark>\n",
       " et le poète \n",
       "<mark class=\"entity\" style=\"background: #ddd; padding: 0.45em 0.6em; margin: 0 0.25em; line-height: 1; border-radius: 0.35em;\">\n",
       "    Glady\n",
       "    <span style=\"font-size: 0.8em; font-weight: bold; line-height: 1; border-radius: 0.35em; vertical-align: middle; margin-left: 0.5rem\">PER</span>\n",
       "</mark>\n",
       " qui, eux, ne tourneraient pas mal, il en était certain.<br>À la vérité, pour ceux qui savaient regarder et voir, la mine blême de \n",
       "<mark class=\"entity\" style=\"background: #ddd; padding: 0.45em 0.6em; margin: 0 0.25em; line-height: 1; border-radius: 0.35em;\">\n",
       "    Nougarède\n",
       "    <span style=\"font-size: 0.8em; font-weight: bold; line-height: 1; border-radius: 0.35em; vertical-align: middle; margin-left: 0.5rem\">PER</span>\n",
       "</mark>\n",
       ", ses lèvres minces, ses yeux inquiets et une austérité de tenue et de manières qui jurait avec ses vingt-six ans, faisaient croire à un ambitieux plutôt qu'à un apôtre. De même, quand on savait que \n",
       "<mark class=\"entity\" style=\"background: #ddd; padding: 0.45em 0.6em; margin: 0 0.25em; line-height: 1; border-radius: 0.35em;\">\n",
       "    Glady\n",
       "    <span style=\"font-size: 0.8em; font-weight: bold; line-height: 1; border-radius: 0.35em; vertical-align: middle; margin-left: 0.5rem\">PER</span>\n",
       "</mark>\n",
       " était propriétaire d'une belle maison à \n",
       "<mark class=\"entity\" style=\"background: #ff9561; padding: 0.45em 0.6em; margin: 0 0.25em; line-height: 1; border-radius: 0.35em;\">\n",
       "    Paris\n",
       "    <span style=\"font-size: 0.8em; font-weight: bold; line-height: 1; border-radius: 0.35em; vertical-align: middle; margin-left: 0.5rem\">LOC</span>\n",
       "</mark>\n",
       " et d'immeubles en province qui lui rapportaient une centaine de mille francs de rente, on imaginait difficilement qu'il continuât le \n",
       "<mark class=\"entity\" style=\"background: #ddd; padding: 0.45em 0.6em; margin: 0 0.25em; line-height: 1; border-radius: 0.35em;\">\n",
       "    père Brigard\n",
       "    <span style=\"font-size: 0.8em; font-weight: bold; line-height: 1; border-radius: 0.35em; vertical-align: middle; margin-left: 0.5rem\">PER</span>\n",
       "</mark>\n",
       ".<br>Mais voir n'était pas la faculté dominante de \n",
       "<mark class=\"entity\" style=\"background: #ddd; padding: 0.45em 0.6em; margin: 0 0.25em; line-height: 1; border-radius: 0.35em;\">\n",
       "    Brigard\n",
       "    <span style=\"font-size: 0.8em; font-weight: bold; line-height: 1; border-radius: 0.35em; vertical-align: middle; margin-left: 0.5rem\">PER</span>\n",
       "</mark>\n",
       ", c'était raisonner, et le raisonnement lui disait que l'ambition ferait bientôt de \n",
       "<mark class=\"entity\" style=\"background: #ddd; padding: 0.45em 0.6em; margin: 0 0.25em; line-height: 1; border-radius: 0.35em;\">\n",
       "    Nougarède\n",
       "    <span style=\"font-size: 0.8em; font-weight: bold; line-height: 1; border-radius: 0.35em; vertical-align: middle; margin-left: 0.5rem\">PER</span>\n",
       "</mark>\n",
       " un député, comme la fortune ferait un jour de \n",
       "<mark class=\"entity\" style=\"background: #ddd; padding: 0.45em 0.6em; margin: 0 0.25em; line-height: 1; border-radius: 0.35em;\">\n",
       "    Glady\n",
       "    <span style=\"font-size: 0.8em; font-weight: bold; line-height: 1; border-radius: 0.35em; vertical-align: middle; margin-left: 0.5rem\">PER</span>\n",
       "</mark>\n",
       " un académicien, et alors, bien qu'il détestât les assemblées autant que les académies, ils auraient deux tribunes élevées d'où la bonne parole tomberait sur la foule avec plus de poids. On pouvait compter sur eux. Quand \n",
       "<mark class=\"entity\" style=\"background: #ddd; padding: 0.45em 0.6em; margin: 0 0.25em; line-height: 1; border-radius: 0.35em;\">\n",
       "    Nougarède\n",
       "    <span style=\"font-size: 0.8em; font-weight: bold; line-height: 1; border-radius: 0.35em; vertical-align: middle; margin-left: 0.5rem\">PER</span>\n",
       "</mark>\n",
       " avait commencé à venir aux réunions du mercredi, il était creux comme un tambour, et, s'il parlait brillamment sur n'importe quel sujet avec une faconde imperturbable, c'était pour ne rien dire. Dans le premier volume de \n",
       "<mark class=\"entity\" style=\"background: #ddd; padding: 0.45em 0.6em; margin: 0 0.25em; line-height: 1; border-radius: 0.35em;\">\n",
       "    Glady\n",
       "    <span style=\"font-size: 0.8em; font-weight: bold; line-height: 1; border-radius: 0.35em; vertical-align: middle; margin-left: 0.5rem\">PER</span>\n",
       "</mark>\n",
       ", on n'avait trouvé que des mots savamment arrangés pour le plaisir des oreilles et des yeux. Maintenant, des idées soutenaient les discours de l'avocat, comme les vers du poète disaient quelque chose -- et ces idées, c'étaient les siennes ; ce quelque chose, c'était le parfum de son enseignement.<br>Depuis une demi-heure que les pipes brûlaient avec un tirage forcé, la fumée ne s'élevait plus que lourdement au plafond, et c'était dans un nuage qu'on voyait \n",
       "<mark class=\"entity\" style=\"background: #ddd; padding: 0.45em 0.6em; margin: 0 0.25em; line-height: 1; border-radius: 0.35em;\">\n",
       "    Brigard\n",
       "    <span style=\"font-size: 0.8em; font-weight: bold; line-height: 1; border-radius: 0.35em; vertical-align: middle; margin-left: 0.5rem\">PER</span>\n",
       "</mark>\n",
       ", comme un dieu barbu, proclamant sa loi, le chapeau sur la tête, car, s'il avait pour règle de ne jamais l'ôter, il le manœuvrait continuellement pendant qu'il parlait, le mettant tantôt en avant, tantôt en arrière, à droite, à gauche, le relevant, l'aplatissant selon les besoins de son argumentation.<br>Il est incontestable, disait-il, que nous éparpillons notre grande force, quand nous devrions la concentrer.<br>Il enfonça son chapeau.<br>— En effet, -- il le releva -- l'heure est venue de nous affirmer comme groupe, et c'est un devoir, pour nous, puisque c'est un besoin pour l'humanité...<br>À ce moment, un nouveau venu se glissa dans la salle, sans bruit, discrètement, avec l'intention manifeste de ne déranger personne ; mais \n",
       "<mark class=\"entity\" style=\"background: #ddd; padding: 0.45em 0.6em; margin: 0 0.25em; line-height: 1; border-radius: 0.35em;\">\n",
       "    Crozat\n",
       "    <span style=\"font-size: 0.8em; font-weight: bold; line-height: 1; border-radius: 0.35em; vertical-align: middle; margin-left: 0.5rem\">PER</span>\n",
       "</mark>\n",
       ", qui était assis près de l'entrée, l'arrêta au passage et lui serra la main :<br>— \n",
       "<mark class=\"entity\" style=\"background: #ff9561; padding: 0.45em 0.6em; margin: 0 0.25em; line-height: 1; border-radius: 0.35em;\">\n",
       "    Tiens\n",
       "    <span style=\"font-size: 0.8em; font-weight: bold; line-height: 1; border-radius: 0.35em; vertical-align: middle; margin-left: 0.5rem\">LOC</span>\n",
       "</mark>\n",
       ", \n",
       "<mark class=\"entity\" style=\"background: #ddd; padding: 0.45em 0.6em; margin: 0 0.25em; line-height: 1; border-radius: 0.35em;\">\n",
       "    Saniel !\n",
       "    <span style=\"font-size: 0.8em; font-weight: bold; line-height: 1; border-radius: 0.35em; vertical-align: middle; margin-left: 0.5rem\">MISC</span>\n",
       "</mark>\n",
       " bonjour, docteur.</div></span>"
      ],
      "text/plain": [
       "<IPython.core.display.HTML object>"
      ]
     },
     "metadata": {},
     "output_type": "display_data"
    }
   ],
   "source": [
    "# TEACHER\n",
    "# On choisit un fichier parmi la liste des fichiers disponibles\n",
    "some_filename = text_file_paths[10]\n",
    "# On charge son contenu\n",
    "some_text = load_text(some_filename)\n",
    "# On applique notre modèle de langue pour extraire des entités nommées (entre autres)\n",
    "some_doc = nlp(some_text)\n",
    "# On utilise displaCy pour visualiser les entités nommées détectées dans ce texte\n",
    "displacy.render(some_doc, style=\"ent\", jupyter=True)"
   ]
  },
  {
   "attachments": {},
   "cell_type": "markdown",
   "metadata": {},
   "source": [
    "**Qu'en pensez-vous ?**  \n",
    "— Pas si mal, à première vue, pour un modèle de langue minimaliste !"
   ]
  },
  {
   "attachments": {},
   "cell_type": "markdown",
   "metadata": {},
   "source": [
    "### 4.5 Traiter les données de façon massive\n",
    "\n",
    "Nous allons traiter chacun des textes et récupérer le texte des entités nommées de type \"`LOC`\" pour les ajouter à une liste.\n",
    "\n",
    "Cette liste contiendra des éléments qui nous intéressent (comment \"Paris\", \"Bretagne\"), ne contiendra pas quelques éléments manqués, et contiendra en plus quelques éléments de bruit faussement détectés comme des entités de type `LOC`.\n",
    "\n",
    "Afin de diminuer le plus possible le temps de calcul, nous allons réaliser un certain nombre d'optimisations :\n",
    "\n",
    "- nous allons charger les fichiers texte à la demande pour limiter l'utilisation de la mémoire de la machine et commencer à les analyser dès qu'ils sont chargés (au lieu d'attendre de tous les charger) → utilisation d'un générateur Python\n",
    "- nous allons temporairement [limiter les composants actifs de notre modèle de langue](https://spacy.io/usage/processing-pipelines#disabling) afin de ne calculer que les éléments nécessaires à la reconnaissance d'entités nommées → utilisation du *context manager* [`Language.select_pipes()`](https://spacy.io/api/language#select_pipes),\n",
    "- nous allons utiliser la fonctionnalité de traitement à la volée de spaCy pour accélérer les calculs et limiter l'utilisation de la mémoire → méthode [`Language.pipe()`](https://spacy.io/api/language#pipe),\n",
    "- nous allons analyser les documents au fur et à mesure de leur analyse pour en extraire les entités qui nous intéressent → parcours des éléments [`Doc.ents`](https://spacy.io/api/doc#ents) et sélection des éléments dont l'attribut [`Span.label_`](https://spacy.io/api/span#attributes) nous convient,\n",
    "- et finalement nous ne stockerons que le texte des entités nommées, et non l'objet [`Span`](https://spacy.io/api/span) complet qui contient une référence vers tout le texte du document, afin de limiter l'utilisation mémoire.\n",
    "\n"
   ]
  },
  {
   "attachments": {},
   "cell_type": "markdown",
   "metadata": {},
   "source": [
    "#### 🛠️ Compléter la cellule suivante pour traiter tous les fichiers texte du corpus\n",
    "Rappel : la variable qui pointe vers notre modèle de langue s'appelle `nlp`.\n",
    "\n",
    "Convention : nous définissons une variable `all_loc_entities: list[str]` qui contiendra le texte de toutes nos entités.\n",
    "\n",
    "<details>\n",
    "<summary>Solution</summary>\n",
    "\n",
    "```python\n",
    "texts = (load_text(filename) for filename in text_file_paths)\n",
    "all_loc_entities: list[str] = []\n",
    "with nlp.select_pipes(enable=\"ner\"):\n",
    "    for doc in nlp.pipe(texts):\n",
    "        for ent in doc.ents:\n",
    "            if ent.label_ == \"LOC\":\n",
    "                all_loc_entities.append(ent.text)\n",
    "```\n",
    "</details>"
   ]
  },
  {
   "cell_type": "code",
   "execution_count": null,
   "metadata": {},
   "outputs": [],
   "source": [
    "%%time\n",
    "# ↑ l'instruction ci-dessus sert à mesurer le temps d'exécution de la cellule courante\n",
    "texts = (load_text(filename) for filename in text_file_paths)  # on charge les fichiers à la demande avec un générateur\n",
    "all_loc_entities: list[str] = []  # la liste qui va stocker nos résultats : une simple liste d'entités nommées\n",
    "with nlp.____(enable=____):  # on restreint les calculs au composant \"ner\" exclusivement pour aller plus vite\n",
    "    for doc in nlp.____(texts):  # on utilise le traitement à la volée\n",
    "        for ent in doc.____:  # on parcourt les entités du document\n",
    "            if ent.label_ == ____:  # on ne conserve que les entités du type qui nous intéresse\n",
    "                all_loc_entities.append(ent.____)  # on ne conserve que le texte et pas toute l'entité pour éviter de garder le document en mémoire\n",
    "# On affiche le nombre d'entités nommées trouvées\n",
    "len(all_loc_entities)"
   ]
  },
  {
   "cell_type": "code",
   "execution_count": 30,
   "metadata": {
    "tags": [
     "teacher"
    ]
   },
   "outputs": [
    {
     "name": "stdout",
     "output_type": "stream",
     "text": [
      "CPU times: user 7.58 s, sys: 1.98 s, total: 9.56 s\n",
      "Wall time: 9.67 s\n"
     ]
    },
    {
     "data": {
      "text/plain": [
       "1567"
      ]
     },
     "execution_count": 30,
     "metadata": {},
     "output_type": "execute_result"
    }
   ],
   "source": [
    "%%time\n",
    "# TEACHER\n",
    "# ↑ l'instruction ci-dessus sert à mesurer le temps d'exécution de la cellule courante\n",
    "texts = (load_text(filename) for filename in text_file_paths)  # on charge les fichiers à la demande avec un générateur\n",
    "all_loc_entities: list[str] = []  # la liste qui va stocker nos résultats : une simple liste d'entités nommées\n",
    "with nlp.select_pipes(enable=\"ner\"):  # on restreint les calculs au composant \"ner\" exclusivement pour aller plus vite\n",
    "    for doc in nlp.pipe(texts):  # on utilise le traitement à la volée\n",
    "        for ent in doc.ents:\n",
    "            if ent.label_ == \"LOC\":  # on ne conserve que les entités du type qui nous intéresse\n",
    "                all_loc_entities.append(ent.text)  # on ne conserve que le texte et pas toute l'entité pour éviter de garder le document en mémoire\n",
    "# On affiche le nombre d'entités nommées trouvées\n",
    "len(all_loc_entities)"
   ]
  },
  {
   "cell_type": "code",
   "execution_count": 31,
   "metadata": {},
   "outputs": [
    {
     "data": {
      "text/plain": [
       "['Pyrénées',\n",
       " 'canton de Montserrou',\n",
       " 'Toulouse',\n",
       " 'Suzelle',\n",
       " 'Lapeyre',\n",
       " 'soleil',\n",
       " 'Bordelaise',\n",
       " 'Italiens',\n",
       " 'Paris',\n",
       " 'Paris']"
      ]
     },
     "execution_count": 31,
     "metadata": {},
     "output_type": "execute_result"
    }
   ],
   "source": [
    "# Voici les premiers éléments de cette grande liste\n",
    "all_loc_entities[:10]"
   ]
  },
  {
   "attachments": {},
   "cell_type": "markdown",
   "metadata": {},
   "source": [
    "### ⏰ Où en êtes-vous ?\n",
    "\n",
    "**Si vous n'avez pas le temps d'aller plus loin, ce n'est pas grave** : vous pourrez finir cette activité chez vous.\n",
    "🎉 Vous avez déjà réussi à produire des données dans un format qui peut être utile pour une analyse ultérieure.\n",
    "**Vous pouvez passer directement à l'étape 8 d'export des données** pour avoir une vision complète de la phase d'extraction de données.\n",
    "\n",
    "🤓 Dans ce qui suit, nous allons essayer d'aller plus loin pour :\n",
    "- mettre en place un protocole d'évaluation rigoureux nous permettant de comparer la performance de différents modèles (et ne pas nous contenter du modèle le plus léger de spaCy)\n",
    "- entraîner un modèle spécialisé pour l'analyse de nos données, en vérifiant bien qu'il nous apporte un gain par rapport aux modèles existants !"
   ]
  },
  {
   "attachments": {},
   "cell_type": "markdown",
   "metadata": {},
   "source": [
    "## 5. Évaluer objectivement la performance d'un modèle de langage — *⏱️ 5 mn*"
   ]
  },
  {
   "attachments": {},
   "cell_type": "markdown",
   "metadata": {},
   "source": [
    "### 5.1 Un problème de détection\n",
    "\n",
    "Dans le cas de la reconnaissance d'entités nommées, le problème est généralement considéré comme un problème de **détection**, c'est-à-dire qu'il s'agit de repérer la position et le type de données d'intérêt dans un ensemble de données : texte, image, son…\n",
    "\n",
    "Détecter un élément dans du texte revient à identifier :\n",
    "- sa position initiale,\n",
    "- sa position finale,\n",
    "- son type.\n",
    "\n",
    "C'est exactement pour décrire ce type d'objet que les [`Span`](https://spacy.io/api/span) existent : leurs attributs `start`, `end` et `label_` contiennent ces informations.\n",
    "\n",
    "L'exemple ci-dessous montre comment :\n",
    "1. créer un document sans en extraire aucune autre information que les *tokens* grâce à la méthode [`Language.make_doc(text)`](https://spacy.io/api/Language#attributes)\n",
    "2. créer un objet [`Span`](https://spacy.io/api/Span#init) avec les paramètres utiles :\n",
    "   - les positions correspondent au caractère (ou token) de début, et au caractère (ou token) après la fin, indexées à partir de 0\n",
    "   - la valeur de son étiquette."
   ]
  },
  {
   "cell_type": "code",
   "execution_count": 38,
   "metadata": {},
   "outputs": [
    {
     "data": {
      "text/plain": [
       "Paris"
      ]
     },
     "execution_count": 38,
     "metadata": {},
     "output_type": "execute_result"
    }
   ],
   "source": [
    "# Exemple 1 avec `Doc.char_span` \n",
    "# → les positions sont correspondent à des caractères !\n",
    "doc = nlp.make_doc(\"Il est parti de Paris tôt ce matin.\")\n",
    "span = doc.char_span(16, 21, label=\"LOC\")  \n",
    "span  # on affiche l'objet créé pour vérifier qu'on a saisi les bonnes valeurs !"
   ]
  },
  {
   "cell_type": "code",
   "execution_count": 45,
   "metadata": {},
   "outputs": [
    {
     "data": {
      "text/plain": [
       "Paris"
      ]
     },
     "execution_count": 45,
     "metadata": {},
     "output_type": "execute_result"
    }
   ],
   "source": [
    "# Exemple 1 avec la construction directe d'un `Span`\n",
    "# → c'est pratique car les positions correspondent aux tokens : plus facile à saisir\n",
    "# → mais il faut indiquer le document auquel on fait référence\n",
    "from spacy.tokens import Span\n",
    "doc = nlp.make_doc(\"Il est parti de Paris tôt ce matin.\")\n",
    "span = Span(doc, 4, 5, label=\"LOC\")\n",
    "span  # on affiche l'objet créé pour vérifier qu'on a saisi les bonnes valeurs !"
   ]
  },
  {
   "attachments": {},
   "cell_type": "markdown",
   "metadata": {},
   "source": [
    "### 5.2 Bases théoriques\n",
    "\n",
    "Pour évaluer objectivement la performance d'un système de traitement de données, il nous faut 3 choses :\n",
    "1. un **ensemble de couples (données d'entrée, donnée idéale de sortie)** — exemple : un texte et la liste des positions et types des entités nommées à détecter\n",
    "2. les **données produites par le système** à évaluer pour chacune des données d'entrée de l'ensemble précédent\n",
    "3. une **mesure permettant de comparer** les données produites et les données attendues\n",
    "\n",
    "Nous venons de voir qu'il est possible de représenter les données produites (on dit plus souvent *\"prédites\"*) et les données attendues à l'aide de d'objets [`Span`](https://spacy.io/api/Span#init).\n",
    "\n",
    "Mais **comment les comparer**, et surtout **calculer une valeur qui résume la ressemblance entre deux ensembles** de positions et types prédits ou attendus ?\n",
    "\n",
    "C'est très simple en réalité, car le problème de détection dispose de mesures standard et fiables :\n",
    "- la [**précision**](https://en.wikipedia.org/wiki/Precision_and_recall), notée $P$, qui mesure la quantité de bruit dans les résultats.\n",
    "  Elle est définie comme  \n",
    "  $$P = \\frac{\\text{nombre d'éléments corrects}}{\\text{nombre d'éléments détectés}}$$\n",
    "- le [**rappel**](https://en.wikipedia.org/wiki/Precision_and_recall), noté $R$, qui mesure la proportion d'éléments manqués dans les résultats.\n",
    "  Il est défini comme  \n",
    "  $$R = \\frac{\\text{nombre d'éléments corrects}}{\\text{nombre d'éléments attendus}}$$\n",
    "- le [**F-score**](https://en.wikipedia.org/wiki/F-score), noté $F$, qui synthétise ces deux indicateurs en calculant leur moyenne harmonique.\n",
    "  Il est défini par \n",
    "  $$F = 2 \\times \\frac{P \\times R}{P + R}$$\n",
    "\n",
    "Pour chacune de ces mesures, la **valeur minimale (pire cas) est $0$**, et la **valeur maximale (détection parfaite) est $1$**.\n",
    "Il est courant d'indiquer des pourcentages lorsqu'on parle de ces valeurs (il suffit de les multiplier par 100).\n",
    "\n",
    "#### 🧐 Bon, tout ça c'est bien joli, mais comment fait-on pour **savoir qu'un élément prédit correspond à un élément attendu** ?\n",
    "Dans notre cas, c'est très simple ! Il suffit de considérer que les éléments doivent avoir **exactement la même position et la même étiquette.** Si un élément attendu n'a aucune correspondance, alors on dit qu'il a été manqué, et au contraire si un élément prédit ne correspond à aucun élément attendu, alors on dit qu'il s'agit d'une fausse détection (on dit aussi \"du bruit\").\n",
    "\n",
    "#### Mesures par classe\n",
    "En général, on s'intéresse à un type de données particulier, aussi les outils de mesure rapportent généralement les mesures de précision, rappel et F-score pour chaque classe (par exemple \"LOC\"). Il s'agit du même calcul que précédemment, mais en restreignant les éléments considérés à un type d'étiquette précis.\n",
    "\n",
    "#### 🤓 Bon à savoir : on donne de multiples noms aux données attendues :\n",
    "- données cibles (*targets*)\n",
    "- vérité terrain (*ground truth*)\n",
    "- valeurs de référence (*gold standard*)\n",
    "- …"
   ]
  },
  {
   "attachments": {},
   "cell_type": "markdown",
   "metadata": {},
   "source": [
    "### 5.3 Place à la pratique !\n",
    "Nous allons générer des données prédites et des données de référence factices pour quelques fragments de texte simplistes, et nous allons calculer les différents scores pour chacun d'entre eux, de manière à comprendre le comportement de la précision, du rappel et du F-score (celui qui nous intéresse le plus).\n",
    "\n",
    "Avant de réaliser des mesures, nous avons besoin de comprendre le rôle de deux types d'objets spaCy supplémentaires :\n",
    "- [`Scorer`](https://spacy.io/api/scorer) : il est responsable de la **comparaison entre les documents de référence et les documents prédits**. Il renvoie les mesures pour toutes les données disponibles (donc pas seulement le NER si on ne précise rien). Dans notre cas, nous utiliserons la méthode [`Scorer.score_spans(examples, \"ents\")`](https://spacy.io/api/scorer#score_spans) qui nous permettra de restreindre l'évaluation aux entités nommées. L'utilisation typique sera la suivante :  \n",
    "    ```python\n",
    "    scorer = Scorer()\n",
    "    scores = Scorer.score_spans(examples, \"ents\")\n",
    "    ```\n",
    "- [`Example`](https://spacy.io/api/example) : on l'a vu dans l'exemple précédent : il faut des exemples pour appeler le `Scorer`. Ces exemples correspondent à des **paires de documents**, qui sont basés sur le **même texte** : un document contenant les **valeurs prédites**, et un document contenant les **valeurs de référence**. Pour construire un exemple, on a donc besoin de créer deux documents :\n",
    "    ```python\n",
    "    text = \"Bonjour de Lyon\"\n",
    "    doc_pred = nlp(text)\n",
    "    doc_ref = nlp.make_doc(text)\n",
    "    doc_ref.ents = [Span(doc_ref, 2, 3, \"LOC\")]\n",
    "    exemple = Example(doc_pred, doc_ref)\n",
    "    ```"
   ]
  },
  {
   "cell_type": "code",
   "execution_count": 47,
   "metadata": {},
   "outputs": [],
   "source": [
    "from spacy.scorer import Scorer\n",
    "from spacy.training.example import Example"
   ]
  },
  {
   "cell_type": "markdown",
   "metadata": {},
   "source": [
    "#### 👷 Complétez les définitions des Spans ci-dessous pour constituer une vérité terrain parfaite\n",
    "\n",
    "<details>\n",
    "<summary>Solution</summary>\n",
    "\n",
    "```python\n",
    "doc1_ref.ents = [\n",
    "    Span(doc1_ref, 0, 1, label=\"PER\"),\n",
    "    Span(doc1_ref, 4, 5, label=\"LOC\"),\n",
    "    ]\n",
    "```\n",
    "</details>"
   ]
  },
  {
   "cell_type": "code",
   "execution_count": 51,
   "metadata": {},
   "outputs": [
    {
     "data": {
      "text/plain": [
       "(Alice, Amsterdam)"
      ]
     },
     "execution_count": 51,
     "metadata": {},
     "output_type": "execute_result"
    }
   ],
   "source": [
    "# Exemple 1 : La référence et la prédiction coincident\n",
    "text1 = \"Alice est allée à Amsterdam l'an dernier et elle a trouvé les canaux magnifiques.\"\n",
    "doc1_ref = nlp.make_doc(text1)\n",
    "doc1_ref.ents = [\n",
    "    Span(_____, __, __, label=____),\n",
    "    Span(_____, __, __, label=____),\n",
    "    ]\n",
    "doc1_ref.ents  # On verifie"
   ]
  },
  {
   "cell_type": "code",
   "execution_count": null,
   "metadata": {
    "tags": [
     "teacher"
    ]
   },
   "outputs": [
    {
     "data": {
      "text/plain": [
       "(Alice, Amsterdam)"
      ]
     },
     "metadata": {},
     "output_type": "display_data"
    }
   ],
   "source": [
    "# TEACHER\n",
    "# Exemple 1 : La référence et la prédiction coincident\n",
    "text1 = \"Alice est allée à Amsterdam l'an dernier et elle a trouvé les canaux magnifiques.\"\n",
    "doc1_ref = nlp.make_doc(text1)\n",
    "doc1_ref.ents = [\n",
    "    Span(doc1_ref, 0, 1, label=\"PER\"),\n",
    "    Span(doc1_ref, 4, 5, label=\"LOC\"),\n",
    "    ]\n",
    "doc1_ref.ents  # On verifie"
   ]
  },
  {
   "cell_type": "markdown",
   "metadata": {},
   "source": [
    "#### 👷 Appelez à présent notre modèle de langue sur le même texte pour définir la prédiction\n",
    "\n",
    "<details>\n",
    "<summary>Solution</summary>\n",
    "\n",
    "```python\n",
    "doc1_pred = nlp(text1)\n",
    "```\n",
    "</details>"
   ]
  },
  {
   "cell_type": "code",
   "execution_count": 52,
   "metadata": {},
   "outputs": [
    {
     "data": {
      "text/plain": [
       "(Alice, Amsterdam)"
      ]
     },
     "execution_count": 52,
     "metadata": {},
     "output_type": "execute_result"
    }
   ],
   "source": [
    "doc1_pred = ___(_____)  # Par chance, le modèle de base indique les bons résultats !\n",
    "doc1_pred.ents"
   ]
  },
  {
   "cell_type": "code",
   "execution_count": null,
   "metadata": {
    "tags": [
     "teacher"
    ]
   },
   "outputs": [
    {
     "data": {
      "text/plain": [
       "(Alice, Amsterdam)"
      ]
     },
     "metadata": {},
     "output_type": "display_data"
    }
   ],
   "source": [
    "# TEACHER\n",
    "doc1_pred = nlp(text1)  # Par chance, le modèle de base indique les bons résultats !\n",
    "doc1_pred.ents"
   ]
  },
  {
   "cell_type": "markdown",
   "metadata": {},
   "source": [
    "#### 👷 Créez à présent un `Example` qui contient les deux documents, et passez une __liste__ d'exemples au `Scorer`\n",
    "\n",
    "Faites attention à l'ordre des paramètres pour construire un [`Example`](https://spacy.io/api/example#init) : le premier est la prédiction, le second la référence.\n",
    "\n",
    "<details>\n",
    "<summary>Solution</summary>\n",
    "\n",
    "```python\n",
    "example = Example(doc1_pred, doc1_ref)\n",
    "scorer = Scorer()\n",
    "score = scorer.score_spans([example], attr=\"ents\")\n",
    "score\n",
    "```\n",
    "</details>"
   ]
  },
  {
   "cell_type": "code",
   "execution_count": 53,
   "metadata": {},
   "outputs": [
    {
     "data": {
      "text/plain": [
       "{'ents_p': 1.0,\n",
       " 'ents_r': 1.0,\n",
       " 'ents_f': 1.0,\n",
       " 'ents_per_type': {'PER': {'p': 1.0, 'r': 1.0, 'f': 1.0},\n",
       "  'LOC': {'p': 1.0, 'r': 1.0, 'f': 1.0}}}"
      ]
     },
     "execution_count": 53,
     "metadata": {},
     "output_type": "execute_result"
    }
   ],
   "source": [
    "example = Example(_____, _____)\n",
    "scorer = Scorer()\n",
    "score = scorer.score_spans(_____, attr=\"ents\")\n",
    "score"
   ]
  },
  {
   "cell_type": "code",
   "execution_count": null,
   "metadata": {
    "tags": [
     "teacher"
    ]
   },
   "outputs": [
    {
     "data": {
      "text/plain": [
       "{'ents_p': 1.0,\n",
       " 'ents_r': 1.0,\n",
       " 'ents_f': 1.0,\n",
       " 'ents_per_type': {'PER': {'p': 1.0, 'r': 1.0, 'f': 1.0},\n",
       "  'LOC': {'p': 1.0, 'r': 1.0, 'f': 1.0}}}"
      ]
     },
     "metadata": {},
     "output_type": "display_data"
    }
   ],
   "source": [
    "# TEACHER\n",
    "example = Example(doc1_pred, doc1_ref)\n",
    "scorer = Scorer()\n",
    "score = scorer.score_spans([example], attr=\"ents\")\n",
    "score"
   ]
  },
  {
   "cell_type": "markdown",
   "metadata": {},
   "source": [
    "On doit vérifier que tous les indicateurs sont à 1 (la valeur maximale)."
   ]
  },
  {
   "cell_type": "markdown",
   "metadata": {},
   "source": [
    "À présent, nous pouvons adapter l'exemple précédent pour tester les cas suivants et observer l'impact sur les différents scores :\n",
    "- une entité attendue est manquée\n",
    "- une entité est prédite par erreur"
   ]
  },
  {
   "cell_type": "markdown",
   "metadata": {},
   "source": [
    "#### 👷 Adaptez le code suivant pour tester les cas que nous venons de mentionner\n",
    "\n",
    "Nous allons simuler des détections erronées plutôt que d'essayer de piéger le modèle de langue.\n",
    "\n",
    "Observez l'impact des oublis et des fausses détection sur la précision, le rappel et le F-score.\n",
    "\n",
    "<details>\n",
    "<summary>Solution cas 1</summary>\n",
    "\n",
    "```python\n",
    "text1 = \"Alice et Alex sont est allés à Amsterdam l'an dernier.\"\n",
    "doc1_ref = nlp.make_doc(text1)\n",
    "doc1_ref.ents = [\n",
    "    Span(doc1_ref, 0, 1, label=\"PER\"),\n",
    "    Span(doc1_ref, 2, 3, label=\"PER\"),\n",
    "    Span(doc1_ref, 7, 8, label=\"LOC\"),\n",
    "    ]\n",
    "# doc1_ref.ents  # On verifie\n",
    "doc1_pred = nlp.make_doc(text1)\n",
    "doc1_pred.ents = [\n",
    "    Span(doc1_ref, 0, 1, label=\"PER\"),  # Il manque Alex\n",
    "    Span(doc1_ref, 7, 8, label=\"LOC\"),\n",
    "    ]\n",
    "example1 = Example(doc1_pred, doc1_ref)\n",
    "scorer.score_spans([example1], attr=\"ents\")\n",
    "```\n",
    "</details>\n",
    "\n",
    "<br>\n",
    "\n",
    "<details>\n",
    "<summary>Solution cas 2</summary>\n",
    "\n",
    "```python\n",
    "text2 = \"Alice et Alex sont est allés à Amsterdam l'an dernier.\"\n",
    "doc2_ref = nlp.make_doc(text2)\n",
    "doc2_ref.ents = [\n",
    "    Span(doc2_ref, 0, 1, label=\"PER\"),\n",
    "    Span(doc2_ref, 2, 3, label=\"PER\"),\n",
    "    Span(doc2_ref, 7, 8, label=\"LOC\"),\n",
    "    ]\n",
    "# doc2_ref.ents  # On verifie\n",
    "doc2_pred = nlp.make_doc(text2)\n",
    "doc2_pred.ents = [\n",
    "    Span(doc2_ref, 0, 1, label=\"PER\"),\n",
    "    Span(doc2_ref, 2, 3, label=\"PER\"),\n",
    "    Span(doc2_ref, 7, 8, label=\"LOC\"),\n",
    "    Span(doc2_ref, 10, 11, label=\"LOC\"),  # \"dernier\" détecté par erreur\n",
    "    ]\n",
    "example2 = Example(doc2_pred, doc2_ref)\n",
    "scorer.score_spans([example2], attr=\"ents\")\n",
    "```\n",
    "</details>"
   ]
  },
  {
   "cell_type": "code",
   "execution_count": 59,
   "metadata": {},
   "outputs": [
    {
     "data": {
      "text/plain": [
       "{'ents_p': 1.0,\n",
       " 'ents_r': 0.6666666666666666,\n",
       " 'ents_f': 0.8,\n",
       " 'ents_per_type': {'PER': {'p': 1.0, 'r': 0.5, 'f': 0.6666666666666666},\n",
       "  'LOC': {'p': 1.0, 'r': 1.0, 'f': 1.0}}}"
      ]
     },
     "execution_count": 59,
     "metadata": {},
     "output_type": "execute_result"
    }
   ],
   "source": [
    "# CAS 1 : UNE ENTITÉ ATTENDUE EST MANQUÉE\n",
    "text1 = \"Alice et Alex sont est allés à Amsterdam l'an dernier.\"\n",
    "doc1_ref = nlp.make_doc(text1)\n",
    "doc1_ref.ents = [\n",
    "    ___, \n",
    "    ...\n",
    "    ]\n",
    "# doc1_ref.ents  # On verifie\n",
    "doc1_pred = nlp.make_doc(text1)\n",
    "doc1_pred.ents = [\n",
    "    ___, \n",
    "    ...\n",
    "    ]\n",
    "example1 = Example(doc1_pred, doc1_ref)\n",
    "scorer.score_spans([example1], attr=\"ents\")"
   ]
  },
  {
   "cell_type": "code",
   "execution_count": null,
   "metadata": {
    "tags": [
     "teacher"
    ]
   },
   "outputs": [
    {
     "data": {
      "text/plain": [
       "{'ents_p': 1.0,\n",
       " 'ents_r': 0.6666666666666666,\n",
       " 'ents_f': 0.8,\n",
       " 'ents_per_type': {'PER': {'p': 1.0, 'r': 0.5, 'f': 0.6666666666666666},\n",
       "  'LOC': {'p': 1.0, 'r': 1.0, 'f': 1.0}}}"
      ]
     },
     "metadata": {},
     "output_type": "display_data"
    }
   ],
   "source": [
    "# TEACHER\n",
    "# CAS 1 : UNE ENTITÉ ATTENDUE EST MANQUÉE\n",
    "text1 = \"Alice et Alex sont est allés à Amsterdam l'an dernier.\"\n",
    "doc1_ref = nlp.make_doc(text1)\n",
    "doc1_ref.ents = [\n",
    "    Span(doc1_ref, 0, 1, label=\"PER\"),\n",
    "    Span(doc1_ref, 2, 3, label=\"PER\"),\n",
    "    Span(doc1_ref, 7, 8, label=\"LOC\"),\n",
    "    ]\n",
    "# doc1_ref.ents  # On verifie\n",
    "doc1_pred = nlp.make_doc(text1)\n",
    "doc1_pred.ents = [\n",
    "    Span(doc1_ref, 0, 1, label=\"PER\"),  # Il manque Alex\n",
    "    Span(doc1_ref, 7, 8, label=\"LOC\"),\n",
    "    ]\n",
    "example1 = Example(doc1_pred, doc1_ref)\n",
    "scorer.score_spans([example1], attr=\"ents\")"
   ]
  },
  {
   "cell_type": "code",
   "execution_count": 60,
   "metadata": {},
   "outputs": [
    {
     "data": {
      "text/plain": [
       "{'ents_p': 0.75,\n",
       " 'ents_r': 1.0,\n",
       " 'ents_f': 0.8571428571428571,\n",
       " 'ents_per_type': {'PER': {'p': 1.0, 'r': 1.0, 'f': 1.0},\n",
       "  'LOC': {'p': 0.5, 'r': 1.0, 'f': 0.6666666666666666}}}"
      ]
     },
     "execution_count": 60,
     "metadata": {},
     "output_type": "execute_result"
    }
   ],
   "source": [
    "# CAS 2 : UNE ENTITÉ EST PRÉDITE PAR ERREUR\n",
    "text2 = \"Alice et Alex sont est allés à Amsterdam l'an dernier.\"\n",
    "doc2_ref = nlp.make_doc(text2)\n",
    "doc2_ref.ents = [\n",
    "    ___, \n",
    "    ...\n",
    "    ]\n",
    "# doc2_ref.ents  # On verifie\n",
    "doc2_pred = nlp.make_doc(text2)\n",
    "doc2_pred.ents = [\n",
    "    ___, \n",
    "    ...\n",
    "    ]\n",
    "example2 = Example(doc2_pred, doc2_ref)\n",
    "scorer.score_spans([example2], attr=\"ents\")"
   ]
  },
  {
   "cell_type": "code",
   "execution_count": null,
   "metadata": {
    "tags": [
     "teacher"
    ]
   },
   "outputs": [
    {
     "data": {
      "text/plain": [
       "{'ents_p': 0.75,\n",
       " 'ents_r': 1.0,\n",
       " 'ents_f': 0.8571428571428571,\n",
       " 'ents_per_type': {'PER': {'p': 1.0, 'r': 1.0, 'f': 1.0},\n",
       "  'LOC': {'p': 0.5, 'r': 1.0, 'f': 0.6666666666666666}}}"
      ]
     },
     "metadata": {},
     "output_type": "display_data"
    }
   ],
   "source": [
    "# TEACHER\n",
    "# CAS 2 : UNE ENTITÉ EST PRÉDITE PAR ERREUR\n",
    "text2 = \"Alice et Alex sont est allés à Amsterdam l'an dernier.\"\n",
    "doc2_ref = nlp.make_doc(text2)\n",
    "doc2_ref.ents = [\n",
    "    Span(doc2_ref, 0, 1, label=\"PER\"),\n",
    "    Span(doc2_ref, 2, 3, label=\"PER\"),\n",
    "    Span(doc2_ref, 7, 8, label=\"LOC\"),\n",
    "    ]\n",
    "# doc2_ref.ents  # On verifie\n",
    "doc2_pred = nlp.make_doc(text2)\n",
    "doc2_pred.ents = [\n",
    "    Span(doc2_ref, 0, 1, label=\"PER\"),\n",
    "    Span(doc2_ref, 2, 3, label=\"PER\"),\n",
    "    Span(doc2_ref, 7, 8, label=\"LOC\"),\n",
    "    Span(doc2_ref, 10, 11, label=\"LOC\"),  # \"dernier\" détecté par erreur\n",
    "    ]\n",
    "example2 = Example(doc2_pred, doc2_ref)\n",
    "scorer.score_spans([example2], attr=\"ents\")"
   ]
  },
  {
   "attachments": {},
   "cell_type": "markdown",
   "metadata": {},
   "source": [
    "## 6. Annoter un jeu de données complet : aperçu du problème — *⏱️ 5 mn*\n"
   ]
  },
  {
   "attachments": {},
   "cell_type": "markdown",
   "metadata": {},
   "source": [
    "En général, on a besoin de constituer et d'annoter un nouveau de données pour (au moins) une des deux raisons suivantes :\n",
    "1. Pour **évaluer** rigoureusement la performance d'un ou plusieurs systèmes de traitement de données. Dans ce cas, on parle généralement de **jeu de test**, de **développement** ou de **validation** (notions voisines sans être exactement équivalentes). Il faut des données d'une quantité et d'une variété suffisantes pour que les résultats soient significatifs. Ce jeu de données ne peut pas contenir de données vues pendant l'entraînement.\n",
    "2. Pour **entraîner** ou **spécialiser** un modèle de langue basé sur une approche statistique. Dans ce cas, on parle de **jeu d'entraînement** (*\"train set\"*). On a généralement besoin d'une quantité de données plus importante pour permettre la stabilisation des paramètres statistiques du modèle. Ici aussi, ces données doivent être suffisamment variées pour permettre de capturer les subtilités des données à traiter, et assez représentatives pour capturer en priorité les généralités.\n",
    "\n",
    "\n",
    "Dans les 2 cas, comme nous n'avons vu dans la section précédente, il faut préparer :\n",
    "- des exemples de données d'entrée pour le système (échantillons de textes)\n",
    "- les sorties parfaites attendues pour ces données (dans le cas du NER, liste des entités — avec position et étiquette — à extraire).\n",
    "\n",
    "\n",
    "La façon la plus élémentaire de réaliser ce travail peut se décomposer en :\n",
    "1. **identifier** un groupe de textes à étiqueter,\n",
    "2. **importer** les textes dans un outil d'annotation et les **annoter**,\n",
    "3. **exporter** les données et les **convertir** dans un format adapté."
   ]
  },
  {
   "attachments": {},
   "cell_type": "markdown",
   "metadata": {},
   "source": [
    "\n",
    "### Quelques outils d'annotation\n",
    "- [ner-annotator](https://tecoholic.github.io/ner-annotator) : un petit outil libre et gratuit, très simple, qui a le mérite d'être rapide à utiliser pour illustrer la démarche.\n",
    "- [Brat](http://brat.nlplab.org/) : un outil libre et gratuit, plus complet, mais qui nécessite une installation.\n",
    "- [LabelStudio](https://labelstud.io/) : un outil autre libre et gratuit, assez complet, qui nécessite une installation mais peut aussi être utilisé en ligne.\n",
    "- [UniversalDataTool](https://universaldatatool.com) : un outil autre libre et gratuit, assez complet, qui nécessite une installation mais peut aussi être utilisé en ligne, et qui offre des fonctionnalités de collaboration.\n",
    "- [TagTog](https://www.tagtog.com/) : un outil en ligne payant, offrant de nombreuses fonctionnalités, mais qui ne semble plus trop maintenu.\n",
    "- [Prodigy](https://prodi.gy/) : un outil en ligne, payant, développé par les créateurs de spaCy, qui offre de nombreuses fonctionnalités."
   ]
  },
  {
   "attachments": {},
   "cell_type": "markdown",
   "metadata": {},
   "source": [
    "#### 🏗️ Place à la pratique !\n",
    "\n",
    "Pour appréhender rapidement les joies et peines de l'annotation, nous vous proposons d'annoter (au moins partiellement) un texte choisi au hasard parmi ceux du corpus.\n",
    "\n",
    "Vous pouvez soit sélectionner un des textes du corpus sur votre ordinateur, soit en télécharger un au hasard depuis la machine virtuelle Colab en exécutant la cellule ci-dessous.\n",
    "\n",
    "Ensuite, consultez la page <https://tecoholic.github.io/ner-annotator/> pour réaliser une annotation rapide :\n",
    "1. déposez votre fichier texte,\n",
    "2. configurer les tags à utiliser,\n",
    "3. annotez le texte,\n",
    "4. téléchargez vos annotations au format JSON, qui pourront facilement être [converties au format spaCy](https://spacy.io/api/data-formats#json-input)."
   ]
  },
  {
   "cell_type": "code",
   "execution_count": null,
   "metadata": {},
   "outputs": [],
   "source": [
    "# Download a file from the VM\n",
    "from google.colab import files\n",
    "files.download(text_file_paths[10])"
   ]
  },
  {
   "cell_type": "markdown",
   "metadata": {},
   "source": [
    "Bon à savoir : il existe plusieurs techniques pour prémâcher le travail :\n",
    "- utiliser un premier modèle de langue qui donne des résultats moyens, mais qui permet toutefois de gagner du temps (ce n'est pas toujours le cas)\n",
    "- chercher des motifs particuliers en utilisant un [`Matcher`](https://spacy.io/api/matcher) ; c'est rapide mais il faut avoir une bonne connaissance de notre corpus."
   ]
  },
  {
   "attachments": {},
   "cell_type": "markdown",
   "metadata": {},
   "source": [
    "### 🤓 Pour aller plus loin\n",
    "Voici quelques questions qu'on se pose généralement lorsqu'on démarre une campagne d'annotation.\n",
    "- Quelles étiquettes/labels utiliser ?\n",
    "- Quelles règles suivre, comment gérer les ambiguïtés ?\n",
    "- Comment distribuer le travail entre plusieurs annotateurs ? Comment assurer la cohérence entre le travail des différents annotateurs ?\n",
    "- Comment diffuser notre travail, le partager, quelle licence utiliser ?\n",
    "\n",
    "Toutes ces questions mériteraient un atelier dédié…\n",
    "\n",
    "*Sachez juste qu'il faut essayer de démarrer peu de données et valider l'intégralité du processus avant d'investir massivement dans un effort d'annotation.*"
   ]
  },
  {
   "attachments": {},
   "cell_type": "markdown",
   "metadata": {},
   "source": [
    "## 7. Entraîner un modèle spécialisé et comparer sa performance — *⏱️ 10 mn*\n",
    "\n",
    "Enfin, nous allons nous intéresser à l'entraînement d'un modèle spécialisé pour nos données.\n",
    "En effet, il est parfois possible de dépasser la performance des modèles \"sur étagère\" sur des cas particuliers mal gérés par des modèles généralistes.\n",
    "\n",
    "Nous allons utiliser des données d'entraînement et de test que nous avons préparées pour vous à partir du jeu de données “[French ELTEC NER Open Dataset](http://hdl.handle.net/20.500.11752/OPEN-986)”.\n",
    "Si vous le souhaitez, vous pourrez regarder plus tard comment nous avons procédé dans les [notebooks](https://github.com/jchazalon/hn-ariane-ner-tuto-2023/blob/main/preparation/2-preparation-nettoyage-donnees-export-json.ipynb) [dédiés](https://github.com/jchazalon/hn-ariane-ner-tuto-2023/blob/main/preparation/4-bench-mdls-convert-data-train-model.ipynb)."
   ]
  },
  {
   "cell_type": "markdown",
   "metadata": {},
   "source": [
    "Si vous utilisez Google Colab, vous devrez télécharger ces fichiers en exécutant la cellule suivante :"
   ]
  },
  {
   "cell_type": "markdown",
   "metadata": {},
   "source": [
    "#### 🚧 Exécutez la cellule suivante pour télécharger les jeux d'entraînement et de test"
   ]
  },
  {
   "cell_type": "code",
   "execution_count": null,
   "metadata": {},
   "outputs": [],
   "source": [
    "# Création du répertoire si nécessaire\n",
    "!mkdir -p ./dataset\n",
    "# Téléchargement du dataset\n",
    "!wget -O ./dataset/train.spacy https://github.com/jchazalon/hn-ariane-ner-tuto-2023/raw/main/dataset/train.spacy\n",
    "!wget -O ./dataset/test.spacy https://github.com/jchazalon/hn-ariane-ner-tuto-2023/raw/main/dataset/test.spacy"
   ]
  },
  {
   "attachments": {},
   "cell_type": "markdown",
   "metadata": {},
   "source": [
    "### 7.1 Évaluation des modèles disponibles\n",
    "\n",
    "Nous allons commencer par mesurer la performance des modèles déjà disponibles avant d'en entraîner un nouveau.\n",
    "\n",
    "Nous allons vous fournir deux éléments utiles :\n",
    "- un **jeu de test** `test_set` que nous utiliserons pour comparer les modèles (et qui ne sera pas utilisé pour entraîner notre modèle par la suite),\n",
    "- une **fonction d'évaluation** `evaluate(model, dataset)` qui permet d'évaluer un modèle sur un jeu de test."
   ]
  },
  {
   "attachments": {},
   "cell_type": "markdown",
   "metadata": {},
   "source": [
    "#### 🚧 À vous de jouer\n",
    "Comme indiqué dans [la documentation](https://spacy.io/models/fr), trois modèles en français sont disponibles pour reconnaître des entités nommées :\n",
    "- `fr_core_news_sm` : version *small*\n",
    "- `fr_core_news_md` : version *medium*\n",
    "- `fr_core_news_lg` : version *large*\n",
    "\n",
    "Utilisez la fonction `evaluate(model, dataset)` et le jeu de teste `train_set` fournis ci-après pour évaluer la performance de ces trois modèles.\n",
    "\n",
    "N'oubliez pas de :\n",
    "- télécharger ces modèles si c'est nécessaire avec la commande `!python -m spacy download NOM_DU_MODELE`\n",
    "- de charger ces modèles avec l'instruction `model = spacy.load(NUM_DU_MODELE)`\n",
    "\n",
    "<details>\n",
    "<summary>Solution</summary>\n",
    "\n",
    "```python\n",
    "models_to_test = (\"fr_core_news_sm\", \"fr_core_news_md\", \"fr_core_news_lg\")\n",
    "for model_name in models_to_test:\n",
    "    print(f\"Installing model '{model_name}'…\")\n",
    "    !python -m spacy download {model_name}\n",
    "for model_name in models_to_test:\n",
    "    print(f\"Try to load the model '{model_name}'…\")\n",
    "    model = spacy.load(model_name)\n",
    "    print(f\"Benchmarking the model '{model_name}' on our dataset…\")\n",
    "    scores = evaluate(model, test_set)\n",
    "    print(\"Scores:\", scores)\n",
    "    print(\"-\"*20)\n",
    "```\n",
    "</details>"
   ]
  },
  {
   "cell_type": "code",
   "execution_count": 3,
   "metadata": {},
   "outputs": [
    {
     "name": "stdout",
     "output_type": "stream",
     "text": [
      "Loaded a dataset with 30 documents.\n"
     ]
    }
   ],
   "source": [
    "from spacy.tokens import DocBin\n",
    "test_set = DocBin().from_disk(\"./dataset/test.spacy\")\n",
    "print(f\"Loaded a dataset with {len(test_set)} documents.\")"
   ]
  },
  {
   "cell_type": "code",
   "execution_count": 25,
   "metadata": {},
   "outputs": [],
   "source": [
    "from typing import Iterable\n",
    "from spacy import Language\n",
    "from spacy.tokens import Doc\n",
    "from spacy.training import Example\n",
    "from spacy.scorer import Scorer\n",
    "def evaluate(ner_model: Language, dataset: Iterable[Doc], debug: bool=False) -> dict:\n",
    "    examples = []\n",
    "    for doc_ref in dataset.get_docs(ner_model.vocab):\n",
    "        text = doc_ref.text\n",
    "        # doc_pred = None\n",
    "        # with ner_model.select_pipes(enable=\"ner\"):  # does not work with trained model\n",
    "        #     doc_pred = ner_model(text)\n",
    "        doc_pred = ner_model(text)\n",
    "        if debug:\n",
    "            print(\"Pred.:\", [(ent.text, ent.label_) for ent in doc_pred.ents], \" ↔ Targ.:\", [(ent.text, ent.label_) for ent in doc_ref.ents])\n",
    "        example = Example(doc_pred, doc_ref)\n",
    "        examples.append(example)\n",
    "    \n",
    "    scorer = Scorer()\n",
    "    scores = scorer.score_spans(examples, \"ents\")\n",
    "    # print(scores[\"ents_f\"])\n",
    "    return scores"
   ]
  },
  {
   "cell_type": "code",
   "execution_count": null,
   "metadata": {},
   "outputs": [],
   "source": [
    "# Ajoutez votre code ici pour évaluer les différents modèles\n",
    "# N'hésitez pas à utiliser plusieurs cellules"
   ]
  },
  {
   "cell_type": "code",
   "execution_count": 30,
   "metadata": {
    "tags": [
     "teacher"
    ]
   },
   "outputs": [],
   "source": [
    "# TEACHER\n",
    "models_to_test = (\"fr_core_news_sm\", \"fr_core_news_md\", \"fr_core_news_lg\")\n",
    "for model_name in models_to_test:\n",
    "    print(f\"Installing model '{model_name}'…\")\n",
    "    !python -m spacy download {model_name}"
   ]
  },
  {
   "cell_type": "code",
   "execution_count": 31,
   "metadata": {
    "tags": [
     "teacher"
    ]
   },
   "outputs": [
    {
     "name": "stdout",
     "output_type": "stream",
     "text": [
      "Try to load the model 'fr_core_news_sm'…\n",
      "Benchmarking the model 'fr_core_news_sm' on our dataset…\n",
      "Scores: {'ents_p': 0.4423305588585018, 'ents_r': 0.6863468634686347, 'ents_f': 0.5379609544468547, 'ents_per_type': {'MISC': {'p': 0.0, 'r': 0.0, 'f': 0.0}, 'ORG': {'p': 0.0, 'r': 0.0, 'f': 0.0}, 'PER': {'p': 0.5846560846560847, 'r': 0.6636636636636637, 'f': 0.6216596343178622}, 'LOC': {'p': 0.4674922600619195, 'r': 0.722488038277512, 'f': 0.5676691729323309}}}\n",
      "--------------------\n",
      "Try to load the model 'fr_core_news_md'…\n",
      "Benchmarking the model 'fr_core_news_md' on our dataset…\n",
      "Scores: {'ents_p': 0.47160493827160493, 'ents_r': 0.7047970479704797, 'ents_f': 0.5650887573964497, 'ents_per_type': {'MISC': {'p': 0.0, 'r': 0.0, 'f': 0.0}, 'PER': {'p': 0.6338028169014085, 'r': 0.6756756756756757, 'f': 0.6540697674418605}, 'LOC': {'p': 0.572992700729927, 'r': 0.7511961722488039, 'f': 0.650103519668737}, 'ORG': {'p': 0.0, 'r': 0.0, 'f': 0.0}}}\n",
      "--------------------\n",
      "Try to load the model 'fr_core_news_lg'…\n",
      "Benchmarking the model 'fr_core_news_lg' on our dataset…\n",
      "Scores: {'ents_p': 0.48466257668711654, 'ents_r': 0.7287822878228782, 'ents_f': 0.5821665438467207, 'ents_per_type': {'MISC': {'p': 0.0, 'r': 0.0, 'f': 0.0}, 'ORG': {'p': 0.0, 'r': 0.0, 'f': 0.0}, 'PER': {'p': 0.649171270718232, 'r': 0.7057057057057057, 'f': 0.6762589928057553}, 'LOC': {'p': 0.6037735849056604, 'r': 0.7655502392344498, 'f': 0.6751054852320676}}}\n",
      "--------------------\n"
     ]
    }
   ],
   "source": [
    "# TEACHER\n",
    "for model_name in models_to_test:\n",
    "    print(f\"Try to load the model '{model_name}'…\")\n",
    "    model = spacy.load(model_name)\n",
    "    print(f\"Benchmarking the model '{model_name}' on our dataset…\")\n",
    "    scores = evaluate(model, test_set)\n",
    "    print(\"Scores:\", scores)\n",
    "    print(\"-\"*20)"
   ]
  },
  {
   "attachments": {},
   "cell_type": "markdown",
   "metadata": {},
   "source": [
    "Dans nos tests, nous avons obtenus les F-scores suivants pour les entités de types `LOC`, pouvez-vous retrouver des valeurs similaires dans vos résultats ?\n",
    "\n",
    "| Modèle | F-Score pour entités `LOC` |\n",
    "|--------|---------------------------:|\n",
    "| `fr_core_news_sm` | 58% |\n",
    "| `fr_core_news_md` | 65% |\n",
    "| `fr_core_news_lg` | 68% |"
   ]
  },
  {
   "attachments": {},
   "cell_type": "markdown",
   "metadata": {},
   "source": [
    "### 7.2 Entraînement d'un modèle léger *from scratch*\n",
    "\n",
    "Un entraînement *from scratch*, ou *à partir de rien*, consiste à apprendre un nouveau modèle depuis le début, sans aucune connaissance autre que le jeu d'entraînement.\n",
    "\n",
    "Par facilité, nous allons illustrer la capacité à entraîner ou améliorer des modèles existants de spaCy avec un entraînement de ce type, qui nécessite une dizaine de minutes de calcul sur un ordinateur portable.\n",
    "Bien entendu, d'autres techniques plus avancées sont possibles, et nous les présenterons rapidement à la fin de cette section.\n",
    "Notre motivation ici est de vous permettre de prendre en main ce processus, et de l'améliorer par vous-mêmes ensuite.\n",
    "\n",
    "Pour vous permettre d'entraîner votre modèle, nous vous fournissons un jeu d'entraînement qui contient 70% du jeu de données “[French ELTEC NER Open Dataset](http://hdl.handle.net/20.500.11752/OPEN-986)”, 30% ayant été réservés pour le jeu de test.\n",
    "\n",
    "Les fichiers correspondant aux *train* et *test* *sets* sont disponibles dans le répertoire `dataset/` :\n",
    "- `./dataset/train.spacy` : jeu d'entraînement (*train set*)\n",
    "- `./dataset/test.spacy` : jeu de test (*test set*, aussi appelé *dev set* ici)"
   ]
  },
  {
   "attachments": {},
   "cell_type": "markdown",
   "metadata": {},
   "source": [
    "Pour entraîner votre modèle avec spaCy, vous allez devoir réaliser les actions suivantes :\n",
    "1. Créer un fichier de configuration de base `base_config.cfg` à l'aide de l'assistant en ligne <https://spacy.io/usage/training#quickstart>,\n",
    "2. Compléter le fichier de configuration avec la commande [`!python -m spacy init fill-config ...`](https://spacy.io/api/cli#init-fill-config),\n",
    "3. Lancer l'entraînement avec la commande [`!python -m spacy train ...`](https://spacy.io/api/cli#train),\n",
    "4. Charger le modèle appris avec la fonction [`spacy.load()`](https://spacy.io/api/top-level#spacy.load), l'évaluer manuellement et l'utiliser sur un fichier jamais vu pendant l'entraînement.\n",
    "\n",
    "Nous stockerons tous les fichiers de configuration et les modèles générés dans le répertoire `training-scratch/` afin de centraliser l'information à propos de l'entraînement."
   ]
  },
  {
   "attachments": {},
   "cell_type": "markdown",
   "metadata": {},
   "source": [
    "#### 🚧 Créez un fichier de configuration à l'aide de l'assistant\n",
    "\n",
    "Visitez la page <https://spacy.io/usage/training#quickstart> et sélectionner les paramètres suivants :\n",
    "- Language: français\n",
    "- Composants: NER seul\n",
    "- Hardware: CPU dans le doute, GPU si vous disposez d'une machine avec un accélérateur GPU\n",
    "- Optimize for: efficiency (vous pourrez sélectionner \"accuracy\" si vous lancez un entraînement plus long)\n",
    "\n",
    "Ensuite, copiez-collez le contenu du fichier généré dans la cellule ci-dessous pour créer notre fichier de configuration.  \n",
    "Attention à ne remplacer que le texte entre les délimiteurs `-------8<---------8<----------`."
   ]
  },
  {
   "cell_type": "code",
   "execution_count": 37,
   "metadata": {},
   "outputs": [],
   "source": [
    "%%bash\n",
    "mkdir -p training-scratch\n",
    "echo '\n",
    "# -------8<---------8<----------\n",
    "# This is an auto-generated partial config. To use it with 'spacy train'\n",
    "# you can run spacy init fill-config to auto-fill all default settings:\n",
    "# python -m spacy init fill-config ./base_config.cfg ./config.cfg\n",
    "[paths]\n",
    "train = null\n",
    "dev = null\n",
    "vectors = null\n",
    "[system]\n",
    "gpu_allocator = null\n",
    "\n",
    "[nlp]\n",
    "lang = \"fr\"\n",
    "pipeline = [\"tok2vec\",\"ner\"]\n",
    "batch_size = 1000\n",
    "\n",
    "[components]\n",
    "\n",
    "[components.tok2vec]\n",
    "factory = \"tok2vec\"\n",
    "\n",
    "[components.tok2vec.model]\n",
    "@architectures = \"spacy.Tok2Vec.v2\"\n",
    "\n",
    "[components.tok2vec.model.embed]\n",
    "@architectures = \"spacy.MultiHashEmbed.v2\"\n",
    "width = ${components.tok2vec.model.encode.width}\n",
    "attrs = [\"NORM\", \"PREFIX\", \"SUFFIX\", \"SHAPE\"]\n",
    "rows = [5000, 1000, 2500, 2500]\n",
    "include_static_vectors = false\n",
    "\n",
    "[components.tok2vec.model.encode]\n",
    "@architectures = \"spacy.MaxoutWindowEncoder.v2\"\n",
    "width = 96\n",
    "depth = 4\n",
    "window_size = 1\n",
    "maxout_pieces = 3\n",
    "\n",
    "[components.ner]\n",
    "factory = \"ner\"\n",
    "\n",
    "[components.ner.model]\n",
    "@architectures = \"spacy.TransitionBasedParser.v2\"\n",
    "state_type = \"ner\"\n",
    "extra_state_tokens = false\n",
    "hidden_width = 64\n",
    "maxout_pieces = 2\n",
    "use_upper = true\n",
    "nO = null\n",
    "\n",
    "[components.ner.model.tok2vec]\n",
    "@architectures = \"spacy.Tok2VecListener.v1\"\n",
    "width = ${components.tok2vec.model.encode.width}\n",
    "\n",
    "[corpora]\n",
    "\n",
    "[corpora.train]\n",
    "@readers = \"spacy.Corpus.v1\"\n",
    "path = ${paths.train}\n",
    "max_length = 0\n",
    "\n",
    "[corpora.dev]\n",
    "@readers = \"spacy.Corpus.v1\"\n",
    "path = ${paths.dev}\n",
    "max_length = 0\n",
    "\n",
    "[training]\n",
    "dev_corpus = \"corpora.dev\"\n",
    "train_corpus = \"corpora.train\"\n",
    "\n",
    "[training.optimizer]\n",
    "@optimizers = \"Adam.v1\"\n",
    "\n",
    "[training.batcher]\n",
    "@batchers = \"spacy.batch_by_words.v1\"\n",
    "discard_oversize = false\n",
    "tolerance = 0.2\n",
    "\n",
    "[training.batcher.size]\n",
    "@schedules = \"compounding.v1\"\n",
    "start = 100\n",
    "stop = 1000\n",
    "compound = 1.001\n",
    "\n",
    "[initialize]\n",
    "vectors = ${paths.vectors}\n",
    "# -------8<---------8<----------\n",
    "' > ./training-scratch/base_config.cfg"
   ]
  },
  {
   "attachments": {},
   "cell_type": "markdown",
   "metadata": {},
   "source": [
    "#### 🚧 Compléter le fichier de configuration\n",
    "Complétez la commande [`!python -m spacy init fill-config ...`](https://spacy.io/api/cli#init-fill-config) suivante pour indiquer :\n",
    "- le fichier de configuration de base `./training-scratch/base_config.cfg`,\n",
    "- un fichier de configuration cible : nommez-le `config.cfg` et stockez-le dans le même répertoire.\n",
    "\n",
    "N'hésitez pas à consulter la documentation.\n",
    "\n",
    "<details>\n",
    "<summary>Solution</summary>\n",
    "\n",
    "```\n",
    "!python -m spacy init fill-config ./training-scratch/base_config.cfg ./training-scratch/config.cfg\n",
    "```\n",
    "</details>"
   ]
  },
  {
   "cell_type": "code",
   "execution_count": null,
   "metadata": {},
   "outputs": [
    {
     "name": "stdout",
     "output_type": "stream",
     "text": [
      "\u001b[38;5;2m✔ Auto-filled config with all values\u001b[0m\n",
      "\u001b[38;5;2m✔ Saved config\u001b[0m\n",
      "../tmp/config.cfg\n",
      "You can now add your data and train your pipeline:\n",
      "python -m spacy train config.cfg --paths.train ./train.spacy --paths.dev ./dev.spacy\n"
     ]
    }
   ],
   "source": [
    "# TEACHER\n",
    "!python -m spacy init fill-config ___________   ___________"
   ]
  },
  {
   "cell_type": "code",
   "execution_count": null,
   "metadata": {
    "tags": [
     "teacher"
    ]
   },
   "outputs": [
    {
     "name": "stdout",
     "output_type": "stream",
     "text": [
      "\u001b[38;5;2m✔ Auto-filled config with all values\u001b[0m\n",
      "\u001b[38;5;2m✔ Saved config\u001b[0m\n",
      "../tmp/config.cfg\n",
      "You can now add your data and train your pipeline:\n",
      "python -m spacy train config.cfg --paths.train ./train.spacy --paths.dev ./dev.spacy\n"
     ]
    }
   ],
   "source": [
    "# TEACHER\n",
    "!python -m spacy init fill-config ./training-scratch/base_config.cfg ./training-scratch/config.cfg"
   ]
  },
  {
   "attachments": {},
   "cell_type": "markdown",
   "metadata": {},
   "source": [
    "#### 🚧 Lancer l'entraînement\n",
    "Complétez la commande [`!python -m spacy train ...`](https://spacy.io/api/cli#train) suivante pour indiquer :\n",
    "- le chemin vers le fichier de configuration\n",
    "- le chemin vers le répertoire de sortie `./training-scratch/output`\n",
    "- le chemin vers le jeu d'entraînement\n",
    "- le chemin vers le jeu de test\n",
    "\n",
    "N'hésitez pas à consulter la documentation.\n",
    "\n",
    "<details>\n",
    "<summary>Solution</summary>\n",
    "\n",
    "```\n",
    "!python -m spacy train ./training-scratch/config.cfg --output ./training-scratch/output --paths.train ./dataset/train.spacy --paths.dev ./dataset/test.spacy\n",
    "```\n",
    "</details>"
   ]
  },
  {
   "cell_type": "code",
   "execution_count": null,
   "metadata": {},
   "outputs": [],
   "source": [
    "!python -m spacy train ________ --output ________ --paths.train ________ --paths.dev ________"
   ]
  },
  {
   "cell_type": "code",
   "execution_count": null,
   "metadata": {
    "tags": [
     "teacher"
    ]
   },
   "outputs": [
    {
     "name": "stdout",
     "output_type": "stream",
     "text": [
      "\u001b[38;5;2m✔ Created output directory: ../tmp/output\u001b[0m\n",
      "\u001b[38;5;4mℹ Saving to output directory: ../tmp/output\u001b[0m\n",
      "\u001b[38;5;4mℹ Using CPU\u001b[0m\n",
      "\u001b[1m\n",
      "=========================== Initializing pipeline ===========================\u001b[0m\n",
      "\u001b[38;5;2m✔ Initialized pipeline\u001b[0m\n",
      "\u001b[1m\n",
      "============================= Training pipeline =============================\u001b[0m\n",
      "\u001b[38;5;4mℹ Pipeline: ['tok2vec', 'ner']\u001b[0m\n",
      "\u001b[38;5;4mℹ Initial learn rate: 0.001\u001b[0m\n",
      "E    #       LOSS TOK2VEC  LOSS NER  ENTS_F  ENTS_P  ENTS_R  SCORE \n",
      "---  ------  ------------  --------  ------  ------  ------  ------\n",
      "  0       0          0.00    273.60    0.83    0.43   14.94    0.01\n",
      "  2     200        935.92  14557.13   58.94   60.78   57.20    0.59\n",
      "  5     400        396.65   2381.73   63.99   66.34   61.81    0.64\n",
      "  8     600        438.42   1145.71   58.71   63.71   54.43    0.59\n",
      " 11     800        660.69   1098.65   64.33   68.18   60.89    0.64\n",
      " 14    1000        584.34    701.06   59.94   65.36   55.35    0.60\n",
      " 17    1200        504.11    474.06   63.68   67.42   60.33    0.64\n",
      " 20    1400        525.60    436.09   63.35   64.56   62.18    0.63\n",
      " 22    1600        529.14    317.35   62.56   67.74   58.12    0.63\n",
      " 25    1800        553.02    292.07   62.50   65.26   59.96    0.63\n",
      " 28    2000        492.68    288.30   59.04   60.00   58.12    0.59\n",
      " 31    2200        596.61    259.85   59.75   61.08   58.49    0.60\n",
      " 34    2400        557.34    272.29   65.16   69.60   61.25    0.65\n",
      " 37    2600        496.00    180.26   60.89   63.71   58.30    0.61\n",
      " 40    2800        410.16    147.70   61.40   69.21   55.17    0.61\n",
      " 42    3000        607.81    232.52   61.83   67.03   57.38    0.62\n",
      " 45    3200        324.12    128.61   63.40   66.13   60.89    0.63\n",
      " 48    3400        445.81    117.01   57.97   63.52   53.32    0.58\n",
      " 51    3600        561.37    161.01   60.18   63.71   57.01    0.60\n",
      " 54    3800        796.32    220.69   58.92   65.83   53.32    0.59\n",
      " 57    4000        619.28    186.40   61.05   65.95   56.83    0.61\n",
      "\u001b[38;5;2m✔ Saved pipeline to output directory\u001b[0m\n",
      "../tmp/output/model-last\n"
     ]
    }
   ],
   "source": [
    "# TEACHER\n",
    "!python -m spacy train ./training-scratch/config.cfg --output ./training-scratch/output --paths.train ./dataset/train.spacy --paths.dev ./dataset/test.spacy"
   ]
  },
  {
   "attachments": {},
   "cell_type": "markdown",
   "metadata": {},
   "source": [
    "🎉 Bravo, vous avez réussi à entraîner un modèle ! 🎊\n",
    "\n",
    "Deux variantes du modèle sont conservées :\n",
    "- la dernière version, celle qui est optimisée à chaque étape de l'apprentissage\n",
    "- la meilleure version, celle qui a donné les meilleurs résultats sur le jeu de test/dev.\n",
    "\n",
    "🤓 Il est même possible de créer un package Python facile à partager, sauvegarder et réutiliser avec la commande [`spacy package`](https://spacy.io/api/cli#package)."
   ]
  },
  {
   "attachments": {},
   "cell_type": "markdown",
   "metadata": {},
   "source": [
    "### 7.3 Chargement du modèle entraîné, évaluation et utilisation\n",
    "\n",
    "Nous allons à présent charger et évaluer le modèle qui vient d'être entraîné.\n",
    "\n",
    "On sélectionne le meilleur modèle, qui n'est pas forcément le dernier, afin d'espérer les meilleurs résultats possibles.\n",
    "\n",
    "Cette **évaluation quantitative** sur **le jeu de test** nous permet d'avoir une estimation non biaisée de la performance de ce modèle sur d'autres textes similaires qui n'ont pas été vus pendant l'entraînement."
   ]
  },
  {
   "cell_type": "code",
   "execution_count": 27,
   "metadata": {},
   "outputs": [
    {
     "data": {
      "text/plain": [
       "{'ents_p': 0.6960167714884696,\n",
       " 'ents_r': 0.6125461254612546,\n",
       " 'ents_f': 0.6516192345436703,\n",
       " 'ents_per_type': {'PER': {'p': 0.7055214723926381,\n",
       "   'r': 0.6906906906906907,\n",
       "   'f': 0.6980273141122912},\n",
       "  'LOC': {'p': 0.6754966887417219,\n",
       "   'r': 0.4880382775119617,\n",
       "   'f': 0.5666666666666667}}}"
      ]
     },
     "execution_count": 27,
     "metadata": {},
     "output_type": "execute_result"
    }
   ],
   "source": [
    "my_model = spacy.load(\"./training-scratch/output/model-best\")\n",
    "evaluate(my_model, test_set)"
   ]
  },
  {
   "attachments": {},
   "cell_type": "markdown",
   "metadata": {},
   "source": [
    "On remarque que le F-score de ce modèle est plus faible, pour les entités de type `LOC`, que les modèles déjà disponibles.\n",
    "\n",
    "Il y a plusieurs raisons à cela :\n",
    "- nous avons entraîné avec très peu de données\n",
    "- nous avons optimisé l'apprentissage en intégrant les entités `PER` et `LOC`, et ce modèle s'avère meilleur sur les entités `PER` que le modèle *small* de base ; le choix du critère est important !\n",
    "\n",
    "Toutefois, ce petit modèle donne déjà une meilleure précision (c'est-à-dire qu'il produit moins de fausses détections) que le petit modèle de base. Pour de l'extraction de données, cela peut déjà être un gain !"
   ]
  },
  {
   "attachments": {},
   "cell_type": "markdown",
   "metadata": {},
   "source": [
    "On peut également appeler le modèles sur un texte du jeu de test afin d'avoir un **aperçu qualitatif** de ses résultats."
   ]
  },
  {
   "cell_type": "code",
   "execution_count": 34,
   "metadata": {},
   "outputs": [
    {
     "data": {
      "text/plain": [
       "(Georges L.,\n",
       " Paul B.,\n",
       " Paris,\n",
       " Rozel,\n",
       " Allemagne,\n",
       " Paris,\n",
       " basse Normandie,\n",
       " Grâces,\n",
       " Colin,\n",
       " abbaye du Rozel,\n",
       " abbaye du,\n",
       " Rozel,\n",
       " madame V…,\n",
       " abbaye du Rozel,\n",
       " Rozel,\n",
       " l'abbaye,\n",
       " Cérès,\n",
       " Malade,\n",
       " Aventures de Télémaque,\n",
       " Mentor,\n",
       " Paul,\n",
       " Panurge,\n",
       " Rabelais,\n",
       " Robinson,\n",
       " Cologne,\n",
       " Paris,\n",
       " Iliade)"
      ]
     },
     "execution_count": 34,
     "metadata": {},
     "output_type": "execute_result"
    }
   ],
   "source": [
    "unseen_text = next(test_set.get_docs(my_model.vocab))\n",
    "doc_test = my_model(unseen_text)\n",
    "doc_test.ents"
   ]
  },
  {
   "cell_type": "code",
   "execution_count": 35,
   "metadata": {},
   "outputs": [
    {
     "data": {
      "text/html": [
       "<span class=\"tex2jax_ignore\"><div class=\"entities\" style=\"line-height: 2.5; direction: ltr\">Chapitre    1<br>\n",
       "<mark class=\"entity\" style=\"background: #ddd; padding: 0.45em 0.6em; margin: 0 0.25em; line-height: 1; border-radius: 0.35em;\">\n",
       "    Georges L.\n",
       "    <span style=\"font-size: 0.8em; font-weight: bold; line-height: 1; border-radius: 0.35em; vertical-align: middle; margin-left: 0.5rem\">PER</span>\n",
       "</mark>\n",
       " à \n",
       "<mark class=\"entity\" style=\"background: #ddd; padding: 0.45em 0.6em; margin: 0 0.25em; line-height: 1; border-radius: 0.35em;\">\n",
       "    Paul B.\n",
       "    <span style=\"font-size: 0.8em; font-weight: bold; line-height: 1; border-radius: 0.35em; vertical-align: middle; margin-left: 0.5rem\">PER</span>\n",
       "</mark>\n",
       ", à \n",
       "<mark class=\"entity\" style=\"background: #ff9561; padding: 0.45em 0.6em; margin: 0 0.25em; line-height: 1; border-radius: 0.35em;\">\n",
       "    Paris\n",
       "    <span style=\"font-size: 0.8em; font-weight: bold; line-height: 1; border-radius: 0.35em; vertical-align: middle; margin-left: 0.5rem\">LOC</span>\n",
       "</mark>\n",
       " Du \n",
       "<mark class=\"entity\" style=\"background: #ff9561; padding: 0.45em 0.6em; margin: 0 0.25em; line-height: 1; border-radius: 0.35em;\">\n",
       "    Rozel\n",
       "    <span style=\"font-size: 0.8em; font-weight: bold; line-height: 1; border-radius: 0.35em; vertical-align: middle; margin-left: 0.5rem\">LOC</span>\n",
       "</mark>\n",
       ", 15 septembre.<br>IL EST NEUF HEURES du soir, mon ami, et tu arrives d'\n",
       "<mark class=\"entity\" style=\"background: #ff9561; padding: 0.45em 0.6em; margin: 0 0.25em; line-height: 1; border-radius: 0.35em;\">\n",
       "    Allemagne\n",
       "    <span style=\"font-size: 0.8em; font-weight: bold; line-height: 1; border-radius: 0.35em; vertical-align: middle; margin-left: 0.5rem\">LOC</span>\n",
       "</mark>\n",
       ". On te remet ma lettre, dont le timbre t'annonce d'abord que je suis absent de \n",
       "<mark class=\"entity\" style=\"background: #ff9561; padding: 0.45em 0.6em; margin: 0 0.25em; line-height: 1; border-radius: 0.35em;\">\n",
       "    Paris\n",
       "    <span style=\"font-size: 0.8em; font-weight: bold; line-height: 1; border-radius: 0.35em; vertical-align: middle; margin-left: 0.5rem\">LOC</span>\n",
       "</mark>\n",
       ". Tu te permets un geste d'humeur, et tu me traites de vagabond. Cependant, tu te plonges dans ton meilleur fauteuil, tu ouvres ma lettre, et tu apprends que je suis installé depuis cinq jours dans un moulin de \n",
       "<mark class=\"entity\" style=\"background: #ff9561; padding: 0.45em 0.6em; margin: 0 0.25em; line-height: 1; border-radius: 0.35em;\">\n",
       "    basse Normandie\n",
       "    <span style=\"font-size: 0.8em; font-weight: bold; line-height: 1; border-radius: 0.35em; vertical-align: middle; margin-left: 0.5rem\">LOC</span>\n",
       "</mark>\n",
       ". – Un moulin ! comment diantre ! que peut-il faire dans un moulin ? – Ton front se plisse, tes sourcils se rapprochent : tu déposes ma lettre pour un moment, tu prétends pénétrer ce mystère par le seul effort de ton imaginative. Soudain un aimable enjouement se peint sur tes traits ; ta bouche exprime l'ironie du sage, tempérée par l'indulgence de l'ami, tu as entrevu dans un nuage d'opéra-comique une meunière poudrée, un corsage de rubans en échelle, une jupe fine et courte, et des bas à coins dorés ; bref, une de ces meunières dont le cœur fait tic tac avec accompagnement de hautbois. – Mais les \n",
       "<mark class=\"entity\" style=\"background: #ddd; padding: 0.45em 0.6em; margin: 0 0.25em; line-height: 1; border-radius: 0.35em;\">\n",
       "    Grâces\n",
       "    <span style=\"font-size: 0.8em; font-weight: bold; line-height: 1; border-radius: 0.35em; vertical-align: middle; margin-left: 0.5rem\">PER</span>\n",
       "</mark>\n",
       ", qui se jouent sans cesse devant ta pensée, l'égarent parfois : ma meunière ressemble à la tienne comme je ressemble au jeune \n",
       "<mark class=\"entity\" style=\"background: #ddd; padding: 0.45em 0.6em; margin: 0 0.25em; line-height: 1; border-radius: 0.35em;\">\n",
       "    Colin\n",
       "    <span style=\"font-size: 0.8em; font-weight: bold; line-height: 1; border-radius: 0.35em; vertical-align: middle; margin-left: 0.5rem\">PER</span>\n",
       "</mark>\n",
       " ; elle est coiffée d'un vaste bonnet de coton, auquel la couche la plus intense de farine ne réussit pas à rendre sa couleur primitive ; elle porte un jupon d'une laine grossière, qui écorcherait la peau d'un éléphant ; bref, il m'arrive fréquemment de confondre la meunière avec le meunier ; après quoi, il est superflu d'ajouter que je ne suis nullement curieux de savoir si son cœur fait tic tac.<br>La vérité est que, ne sachant comment tuer le temps, en ton absence, et n'ayant pas lieu d'espérer ton retour avant un mois (c'est ta faute), j'ai sollicité une mission. Le conseil général du département de… venait tout à point d'émettre le vœu qu'une certaine abbaye ruinée, dite l'\n",
       "<mark class=\"entity\" style=\"background: #ff9561; padding: 0.45em 0.6em; margin: 0 0.25em; line-height: 1; border-radius: 0.35em;\">\n",
       "    abbaye du Rozel\n",
       "    <span style=\"font-size: 0.8em; font-weight: bold; line-height: 1; border-radius: 0.35em; vertical-align: middle; margin-left: 0.5rem\">LOC</span>\n",
       "</mark>\n",
       ", fût classée parmi les monuments historiques : on m'a chargé d'examiner de près les titres de la postulante. Je me suis rendu en toute hâte au chef-lieu de ce département artistique , où j'ai fait mon entrée avec la gravité importante d'un homme qui tient entre ses mains la vie ou la mort d'un monument cher au pays. J'ai pris dans l'hôtel quelques renseignements : grande a été ma mortification quand j'ai reconnu que personne ne paraissait soupçonner qu'une \n",
       "<mark class=\"entity\" style=\"background: #ff9561; padding: 0.45em 0.6em; margin: 0 0.25em; line-height: 1; border-radius: 0.35em;\">\n",
       "    abbaye du\n",
       "    <span style=\"font-size: 0.8em; font-weight: bold; line-height: 1; border-radius: 0.35em; vertical-align: middle; margin-left: 0.5rem\">LOC</span>\n",
       "</mark>\n",
       " \n",
       "<mark class=\"entity\" style=\"background: #ff9561; padding: 0.45em 0.6em; margin: 0 0.25em; line-height: 1; border-radius: 0.35em;\">\n",
       "    Rozel\n",
       "    <span style=\"font-size: 0.8em; font-weight: bold; line-height: 1; border-radius: 0.35em; vertical-align: middle; margin-left: 0.5rem\">LOC</span>\n",
       "</mark>\n",
       " existât ou eût jamais existé à cent lieues à la ronde. – Je me suis présenté à la préfecture, sous le coup de ce désenchantement : le préfet, qui est V…, que tu connais, m'a reçu avec sa bonne grâce ordinaire ; mais aux questions que je lui adressais sur l'état des ruines qu'il s'agissait de conserver à l'amour traditionnel de ses administrés, il m'a répondu, avec un sourire distrait, que sa femme, qui avait vu ces ruines dans une partie de campagne, pendant son séjour aux bains de mer, m'en parlerait mieux qu'il ne saurait le faire.<br>Il m'invita à dîner, et, le soir, \n",
       "<mark class=\"entity\" style=\"background: #ddd; padding: 0.45em 0.6em; margin: 0 0.25em; line-height: 1; border-radius: 0.35em;\">\n",
       "    madame V…\n",
       "    <span style=\"font-size: 0.8em; font-weight: bold; line-height: 1; border-radius: 0.35em; vertical-align: middle; margin-left: 0.5rem\">PER</span>\n",
       "</mark>\n",
       ", après les combats ordinaires de la pudeur expirante, me montra sur son album quelques vues des fameuses ruines dessinées avec goût. Elle s'exalta tout doucement en me parlant de ces vénérables restes, encadrés, si on l'en croit, dans un site enchanteur, et fort propres, surtout, aux parties de campagne. Un regard suppliant et corrupteur termina sa harangue. Il me semble évident que cette jeune femme est la seule personne du département qui porte à cette pauvre vieille abbaye un intérêt véritable, et que les pères conscrits du conseil général ont émis un vœu de pure galanterie. Au surplus, il m'est impossible de ne pas me ranger à leur opinion : l'abbaye a de beaux yeux ; elle mérite d'être classée, elle le sera.<br>Mon siège était donc fait, dès ce moment ; mais il fallait encore l'écrire et l'appuyer de quelques pièces justificatives. Malheureusement, les archives et les bibliothèques locales n'abondent pas en traditions relatives à mon sujet : après deux jours de fouilles consciencieuses, je n'avais recueilli que de rares et insignifiants documents, qui peuvent se résumer dans ces deux lignes : « L'\n",
       "<mark class=\"entity\" style=\"background: #ff9561; padding: 0.45em 0.6em; margin: 0 0.25em; line-height: 1; border-radius: 0.35em;\">\n",
       "    abbaye du Rozel\n",
       "    <span style=\"font-size: 0.8em; font-weight: bold; line-height: 1; border-radius: 0.35em; vertical-align: middle; margin-left: 0.5rem\">LOC</span>\n",
       "</mark>\n",
       ", commune du \n",
       "<mark class=\"entity\" style=\"background: #ff9561; padding: 0.45em 0.6em; margin: 0 0.25em; line-height: 1; border-radius: 0.35em;\">\n",
       "    Rozel\n",
       "    <span style=\"font-size: 0.8em; font-weight: bold; line-height: 1; border-radius: 0.35em; vertical-align: middle; margin-left: 0.5rem\">LOC</span>\n",
       "</mark>\n",
       ", a été habitée de temps immémorial par les moines, – qui l'ont quittée lorsqu'elle a été détruite. »<br>C'est pourquoi je résolus d'aller, sans plus de retard, demander leur secret à ces ruines mystérieuses, et de multiplier au besoin les artifices de mon crayon pour suppléer à la concision forcée de ma plume. – Je partis mercredi matin pour le gros bourg de  ***, qui n'est qu'à deux ou trois lieues de l'abbaye. Un coche normand, compliqué d'un cocher normand, me promena tout le jour, comme un monarque indolent, le long des haies normandes. Le soir, j'avais fait douze lieues, et mon cocher douze repas. Le pays est beau, quoique d'un caractère agreste un peu uniforme. Sous un bocage éternel se déploie une verdure opulente et monotone, dans l'épaisseur de laquelle ruminent des bœufs satisfaits. Je conçois les douze repas de mon cocher : l'idée de manger doit se présenter fréquemment et presque uniquement à l'imagination de tout homme qui passe sa vie au milieu de cette grasse nature, dont l'herbe même donne appétit.<br>Vers le soir cependant, l'aspect du paysage changea : nous entrâmes dans des plaines basses, marécageuses et nues comme des steppes, qui s'étendaient de chaque côté de la route ; le bruit des roues sur la chaussée prit une sonorité creuse et vibrante ; des joncs de couleur sombre et de hautes herbes d'apparence malsaine couvraient, à perte de vue, la surface noirâtre du marais. J'aperçus au loin, à travers le crépuscule et derrière un rideau de pluie, deux ou trois cavaliers lancés à toute bride, qui parcouraient, comme affolés, ces espaces sans bornes : ils s'ensevelissaient par intervalles dans les bas-fonds du pâturage, et reparaissaient tout à coup, galopant toujours avec la même frénésie. Je ne pouvais imaginer vers quel but idéal se précipitaient ces fantômes équestres. Je n'eus garde de m'en informer. Le mystère est doux et sacré.<br>Le lendemain, je m'acheminai vers \n",
       "<mark class=\"entity\" style=\"background: #ff9561; padding: 0.45em 0.6em; margin: 0 0.25em; line-height: 1; border-radius: 0.35em;\">\n",
       "    l'abbaye\n",
       "    <span style=\"font-size: 0.8em; font-weight: bold; line-height: 1; border-radius: 0.35em; vertical-align: middle; margin-left: 0.5rem\">LOC</span>\n",
       "</mark>\n",
       ", emmenant dans mon cabriolet un grand paysan qui avait les cheveux jaunes, comme \n",
       "<mark class=\"entity\" style=\"background: #ddd; padding: 0.45em 0.6em; margin: 0 0.25em; line-height: 1; border-radius: 0.35em;\">\n",
       "    Cérès\n",
       "    <span style=\"font-size: 0.8em; font-weight: bold; line-height: 1; border-radius: 0.35em; vertical-align: middle; margin-left: 0.5rem\">PER</span>\n",
       "</mark>\n",
       ". C'était un valet de ferme qui demeurait depuis sa naissance à deux pas de mon monument ; il m'avait entendu, le matin, prendre des informations dans la cour de l'auberge, et s'était offert obligeamment à me conduire aux ruines, qui étaient la première chose qu'il eût vue en venant au monde. Je n'avais nul besoin d'un guide : j'acceptai cependant l'offre de ce garçon, dont l'officieux bavardage semblait me promettre une conversation suivie, où j'espérais surprendre quelque légende intéressante ; mais, dès qu'il eut pris place à mes côtés, le drôle devint muet : mes questions semblaient même, je ne sais pourquoi, lui inspirer une profonde méfiance, voisine de la colère. J'avais affaire au génie des ruines, gardien jaloux de leurs trésors. En revanche, j'eus l'avantage de le ramener chez lui en voiture : c'était apparemment ce qu'il avait voulu, et il eut tout lieu d'être satisfait de ma complaisance.<br>Après avoir déposé devant sa porte cet agréable compagnon, je dus mettre moi-même pied à terre : un escalier de rochers, serpentant sur le flanc d'une lande, me conduisit au fond d'une étroite vallée, qui s'arrondit et s'allonge entre une double chaîne de hautes collines boisées. Une petite rivière y dort sous les aulnes, séparant deux bandes de prairies fines et moelleuses comme les pelouses d'un parc : on la traverse sur un vieux pont d'une seule arche, qui dessine dans une eau tranquille le reflet de sa gracieuse ogive. Sur la droite, les collines se rapprochent en forme de cirque, et semblent réunir leurs courbes verdoyantes : à gauche, elle s'évasent et vont se perdre dans la masse haute et profonde d'une forêt. La vallée est ainsi close de toutes parts, et offre un tableau dont le calme, la fraîcheur et l'isolement pénètrent l'âme. Si l'on pouvait jamais trouver la paix hors de soi-même, ce doux asile la donnerait : il en donne du moins pour un instant l'illusion.<br>Le site eût suffi pour me faire deviner l'abbaye, qui sans doute succéda à l'ermitage. Dans cette période de transition brutale et convulsive qui ouvrit si péniblement l'ère moderne, quel immense besoin de repos et de recueillement devait se faire sentir aux âmes délicates et aux esprits contemplatifs ! – Je lis dans le cœur du moine, du poète, du spiritualiste inconnu que le hasard amena un jour, au milieu de cet âge terrible, sur la pente de ces collines, et qui découvrit soudain le trésor de solitude qu'elles recélaient ; je me figure l'attendrissement de ce rêveur fatigué en face d'une scène si paisible ; je me le figure, et, en vérité, je ne suis pas loin de le partager. Notre époque, à travers de grandes dissemblances, n'est pas sans quelques rapports essentiels avec les premiers temps du moyen âge : le désordre moral, la convoitise matérielle, la violence barbare, qui caractérisaient cette phase sinistre de notre histoire, ne semblent éloignés de nous, aujourd'hui, que par la distance qui sépare la théorie de la pratique, le complot de l'exécution, et l'âme perverse de la main criminelle.<br>Les ruines de l'abbaye sont adossées à la forêt. Ce qui survit de l'abbaye elle-même est peu de chose : à l'entrée de la cour, une porte monumentale ; une aile de bâtiment du XIIe siècle, où loge la famille du meunier dont je suis l'hôte ; la salle du chapitre, remarquable par d'élégants arceaux et quelques traces de peintures murales ; enfin, deux ou trois cellules, dont une paraît avoir servi de lieu de correction si j'en juge par la solidité de la porte et des verrous. Le reste a été démoli, et se retrouve par fragments dans les maisonnettes du voisinage. L'église, qui a presque les proportions d'une cathédrale, est d'une belle conservation et d'un effet merveilleux. Le portail et le chevet de l'abside ont seuls disparu : toute l'architecture intérieure, les voussures, les hautes colonnes, sont intactes et comme faites d'hier. Là, il semble qu'un artiste ait présidé à l'œuvre de destruction : un coup de pioche magistral a ouvert aux deux extrémités de l'église, à la place du portail et à la place de l'autel, deux baies gigantesques, de sorte que le regard, du seuil de l'édifice, plonge dans la forêt comme à travers un profond arc triomphal. Dans ce lieu solitaire, cela est inattendu et solennel. J'en fus ravi.<br>— Monsieur, dis-je au meunier, qui, depuis mon arrivée, observait de loin chacun de mes pas avec cette méfiance féroce qui semble particulière au pays, je suis chargé d'étudier et de dessiner ces ruines. Ce travail me demandera plusieurs jours : ne pourriez-vous m'épargner une course quotidienne du bourg à l'abbaye, en me logeant chez vous, tant bien que mal, pendant une semaine ou deux ?<br>Le meunier, Normand de race, m'examina des pieds à la tête sans me répondre, en homme qui sait que le silence est d'or : il me toisa, me jaugea, me pesa, et finalement, desserrant ses lèvres enfarinées, il appela sa femme. La meunière apparut alors sur le seuil de la salle du chapitre, convertie en étable à veaux, et je dus lui renouveler ma demande. Elle m'examina, à son tour, mais moins longuement que son mari, et, avec le flair supérieur de son sexe, sa conclusion fut, comme j'avais droit de m'y attendre, celle du prœses dans le \n",
       "<mark class=\"entity\" style=\"background: #ff9561; padding: 0.45em 0.6em; margin: 0 0.25em; line-height: 1; border-radius: 0.35em;\">\n",
       "    Malade\n",
       "    <span style=\"font-size: 0.8em; font-weight: bold; line-height: 1; border-radius: 0.35em; vertical-align: middle; margin-left: 0.5rem\">LOC</span>\n",
       "</mark>\n",
       "  : – Dignuses intrare . Le meunier, qui vit la tournure que prenaient les choses, souleva son bonnet et me régala d'un sourire. Ces braves gens, du reste, une fois la glace rompue, s'ingénièrent à me dédommager, par mille attentions empressées, de la prudence de leur accueil. Ils voulaient m'abandonner leur propre chambre, ornée des \n",
       "<mark class=\"entity\" style=\"background: #ff9561; padding: 0.45em 0.6em; margin: 0 0.25em; line-height: 1; border-radius: 0.35em;\">\n",
       "    Aventures de Télémaque\n",
       "    <span style=\"font-size: 0.8em; font-weight: bold; line-height: 1; border-radius: 0.35em; vertical-align: middle; margin-left: 0.5rem\">LOC</span>\n",
       "</mark>\n",
       " , à laquelle je préférai – comme eût fait \n",
       "<mark class=\"entity\" style=\"background: #ddd; padding: 0.45em 0.6em; margin: 0 0.25em; line-height: 1; border-radius: 0.35em;\">\n",
       "    Mentor\n",
       "    <span style=\"font-size: 0.8em; font-weight: bold; line-height: 1; border-radius: 0.35em; vertical-align: middle; margin-left: 0.5rem\">PER</span>\n",
       "</mark>\n",
       " – une cellule d'une austère nudité, dont la fenêtre à petits carreaux losangés s'ouvre sur le portail ruiné de l'église et sur l'horizon de la forêt.<br>Plus jeune de quelques années, j'aurais joui très vivement de cette poétique installation ; mais je grisonne, ami \n",
       "<mark class=\"entity\" style=\"background: #ddd; padding: 0.45em 0.6em; margin: 0 0.25em; line-height: 1; border-radius: 0.35em;\">\n",
       "    Paul\n",
       "    <span style=\"font-size: 0.8em; font-weight: bold; line-height: 1; border-radius: 0.35em; vertical-align: middle; margin-left: 0.5rem\">PER</span>\n",
       "</mark>\n",
       ", ou du moins j'en ai peur, bien que j'essaie encore d'attribuer à de simples jeux de lumière les tons douteux dont ma barbe s'émaille au soleil de midi. Toutefois, si ma rêverie a changé d'objet, elle dure encore et me charme toujours. Mon sentiment poétique s'est modifié, et je crois qu'il s'est élevé. L'image d'une femme n'est plus l'élément indispensable de mon rêve : mon cœur, plus calme, et qui s'étudie à l'être, se retire peu à peu du champ où s'exerce ma pensée. Je ne puis, je l'avoue, trouver un plaisir suffisant dans les pures et sèches méditations de l'intelligence : il faut que mon imagination parle d'abord et donne le branle à mon cerveau, car je suis né romanesque, romanesque je mourrai, et tout ce qu'on peut me demander, tout ce que je puis obtenir de moi, à l'âge où la bienséance commande déjà la gravité, c'est de faire des romans sans amour.<br>Les monuments du passé favorisent cette disposition incurable de mon esprit : ils m'aident à ressusciter les mœurs, les passions, les idées de leurs anciens habitants, et à interroger, sous les caractères variés de chaque époque, la vieille énigme de la vie. – Dans cette cellule où je t'écris, je ne manque pas d'évoquer, chaque soir, des robes de bure et des visages macérés : un moine m'apparaît, tantôt à genoux dans cet angle obscur, sur cette dalle usée, plongé dans les heureuses extases de la foi, tantôt accoudé sur cette noire tablette de chêne, couvrant d'auréoles d'or le parchemin des missels, perpétuant les œuvres du génie antique, ou poursuivant sa science, qui l'effraie, jusqu'aux limites de la magie. Un autre fantôme, debout près de l'étroite fenêtre, attache son regard humide sur la profondeur de ces bois, qui lui rappellent les chasses chevaleresques et les palefrois des châtelaines. – Tu en diras ce qu'il te plaira, j'aime les moines, non pas les moines de la décadence, les moines fainéants, pansus et verts gaillards, qui firent la joie de nos pères, et qui ne font pas la mienne. J'aime et je vénère cette ancienne société monastique, telle que je me la figure, recrutée parmi les races malheureuses et vaincues, conservant seule, au milieu d'un monde barbare, le sentiment et le goût des jouissances de l'esprit, ouvrant un refuge, et le seul refuge possible dans une telle époque, à toute intelligence qui laissait voir, fût-ce sous le sayon de l'esclave, quelque étincelle de génie. Combien de poètes, de savants, d'artistes, d'inventeurs anonymes ont dû bénir, pendant dix siècles, ce droit d'asile respecté, qui les avait arrachés aux misères poignantes et à la vie bestiale de la glèbe ! L'abbaye aimait à découvrir ces pauvres penseurs plébéiens et à seconder le développement de leurs aptitudes diverses : elle leur assurait le pain de chaque jour et le doux bienfait du loisir, elle s'honorait et se parait de leurs talents. Quoique leur cercle fût étroit, ils y exerçaient, du moins librement, les facultés qu'ils tenaient de Dieu : ils vivaient heureux, quoiqu'ils dussent mourir ignorés.<br>Que plus tard le cloître se soit écarté de ces nobles et sévères traditions, qu'il ait dégénéré de chute en chute jusqu'aux frères Fredons et jusqu'au directeur spirituel de \n",
       "<mark class=\"entity\" style=\"background: #ddd; padding: 0.45em 0.6em; margin: 0 0.25em; line-height: 1; border-radius: 0.35em;\">\n",
       "    Panurge\n",
       "    <span style=\"font-size: 0.8em; font-weight: bold; line-height: 1; border-radius: 0.35em; vertical-align: middle; margin-left: 0.5rem\">PER</span>\n",
       "</mark>\n",
       ", cela est possible ; il a dû subir le destin commun à toutes les institutions qui ont fait leur temps, et qui survivent à leur œuvre accomplie. Toutefois, il se peut bien que l'esprit gaulois de la bourgeoisie émancipée, auquel vint s'ajouter bientôt l'esprit de la Réforme, ait dessiné dans nos vieilles abbayes plus de caricatures que de portraits. Quoi qu'il en soit, même en lisant \n",
       "<mark class=\"entity\" style=\"background: #ddd; padding: 0.45em 0.6em; margin: 0 0.25em; line-height: 1; border-radius: 0.35em;\">\n",
       "    Rabelais\n",
       "    <span style=\"font-size: 0.8em; font-weight: bold; line-height: 1; border-radius: 0.35em; vertical-align: middle; margin-left: 0.5rem\">PER</span>\n",
       "</mark>\n",
       " avec le respect qu'il convient, aucun homme doué de pensée ne saurait oublier que, durant cette triste nuit du moyen âge, le dernier rayon de la pure vie intellectuelle éclaire le front pâle du moine.<br>Jusqu'à présent, l'ennui m'a épargné dans ma solitude. T'avouerai-je même que j'y éprouve un contentement singulier ? Il me semble que je suis à mille lieues des choses d'ici-bas, et qu'il y a une sorte de trêve et de temps d'arrêt dans la misérable routine de mon existence, à la fois tourmentée et banale. Je savoure ma complète indépendance avec l'allégresse naïve d'un \n",
       "<mark class=\"entity\" style=\"background: #ddd; padding: 0.45em 0.6em; margin: 0 0.25em; line-height: 1; border-radius: 0.35em;\">\n",
       "    Robinson\n",
       "    <span style=\"font-size: 0.8em; font-weight: bold; line-height: 1; border-radius: 0.35em; vertical-align: middle; margin-left: 0.5rem\">PER</span>\n",
       "</mark>\n",
       " de douze ans. Je dessine quand il me plaît ; le reste du temps, je me promène çà et là à l'aventure, en ayant grand soin de ne jamais franchir les bornes du vallon sacré. Je m'assois sur le parapet du pont, et je regarde couler l'eau ; je vais à la découverte dans les ruines ; je m'enfonce dans les souterrains : j'escalade les degrés rompus du beffroi ; je ne puis les redescendre, et je demeure à cheval sur une gargouille, faisant une assez sotte figure, jusqu'à ce que le meunier m'apporte une échelle. Je m'égare la nuit dans la forêt, et je vois passer les chevreuils au clair de lune. Que veux-tu ! tout cela me berce agréablement, et me produit l'impression d'un rêve d'enfant, que je fais dans l'âge mûr.<br>Ta lettre, datée de \n",
       "<mark class=\"entity\" style=\"background: #ff9561; padding: 0.45em 0.6em; margin: 0 0.25em; line-height: 1; border-radius: 0.35em;\">\n",
       "    Cologne\n",
       "    <span style=\"font-size: 0.8em; font-weight: bold; line-height: 1; border-radius: 0.35em; vertical-align: middle; margin-left: 0.5rem\">LOC</span>\n",
       "</mark>\n",
       ", et qu'on m'a renvoyée ici suivant mes instructions, a seule troublé ma béatitude. Je me console difficilement d'avoir quitté \n",
       "<mark class=\"entity\" style=\"background: #ff9561; padding: 0.45em 0.6em; margin: 0 0.25em; line-height: 1; border-radius: 0.35em;\">\n",
       "    Paris\n",
       "    <span style=\"font-size: 0.8em; font-weight: bold; line-height: 1; border-radius: 0.35em; vertical-align: middle; margin-left: 0.5rem\">LOC</span>\n",
       "</mark>\n",
       " presque à la veille de ton retour. Que le ciel confonde tes caprices et ton indécision ! Tout ce que je puis faire maintenant, c'est de hâter mon travail ; mais où trouver les documents historiques qui me manquent ? Je tiens sérieusement à sauver ces ruines. Il y a là un paysage rare, un tableau de prix, qu'on ne peut laisser périr sans vandalisme.<br>Et puis j'aime les moines, te dis-je. Je veux rendre à leurs ombres cet hommage de sympathie. Oui, si j'avais vécu, il y a quelque mille ans, j'aurais certainement cherché parmi eux le repos du cloître en attendant la paix du ciel. Quelle existence m'eût mieux convenu ? Sans souci de ce monde et assuré de l'autre, sans troubles du cœur ni de l'esprit, j'aurais écrit paisiblement de douces légendes auxquelles j'eusse été crédule, j'aurais déchiffré curieusement des manuscrits inconnus et découvert en pleurant de joie l' \n",
       "<mark class=\"entity\" style=\"background: #ff9561; padding: 0.45em 0.6em; margin: 0 0.25em; line-height: 1; border-radius: 0.35em;\">\n",
       "    Iliade\n",
       "    <span style=\"font-size: 0.8em; font-weight: bold; line-height: 1; border-radius: 0.35em; vertical-align: middle; margin-left: 0.5rem\">LOC</span>\n",
       "</mark>\n",
       " ou l' Énéide  ; j'aurais dessiné des rêves de cathédrale, chauffé des alambics, – et peut-être inventé la poudre : ce n'est pas ce que j'aurais fait de mieux.</div></span>"
      ],
      "text/plain": [
       "<IPython.core.display.HTML object>"
      ]
     },
     "metadata": {},
     "output_type": "display_data"
    }
   ],
   "source": [
    "from spacy import displacy\n",
    "displacy.render(doc_test, style=\"ent\", jupyter=True)"
   ]
  },
  {
   "attachments": {},
   "cell_type": "markdown",
   "metadata": {},
   "source": [
    "\n",
    "### 7.4 En résumé à propos de l'entraînement\n",
    "\n",
    "Nous avons vu qu'il était simple d'entraîner un petit modèle *from scratch*, et vous devriez à présent être en mesure d'aller plus loin (hors du cadre de cette activité) en :\n",
    "- partant non plus de zéro, mais à partir d'un modèle déjà entraîné pour réutiliser les connaissances déjà apprises (*transfer learning*)\n",
    "- utiliser un modèle plus puissant (mais aussi plus gourmand en ressources de calcul pour l'apprentissage)"
   ]
  },
  {
   "attachments": {},
   "cell_type": "markdown",
   "metadata": {},
   "source": [
    "## 8. Export des données pour une utilisation ultérieure — *⏱️ 2 mn*\n",
    "\n",
    "Nous allons stocker les données produites dans un fichier JSON facile à réutiliser et convertir.\n",
    "\n",
    "Nous allons sauvegarder ce fichier dans votre Drive ou à l'emplacement que vous indiquerez ci-après.\n",
    "\n",
    "Nous allons également vous montrer comment télécharger directement le fichier vers votre machine locale si vous utilisez Google Colab."
   ]
  },
  {
   "attachments": {},
   "cell_type": "markdown",
   "metadata": {},
   "source": [
    "#### 🚧 Exécutez les cellules suivantes, en modifiant le chemin vers l'emplacement de sauvegarde du fichier si nécessaire"
   ]
  },
  {
   "cell_type": "code",
   "execution_count": null,
   "metadata": {},
   "outputs": [],
   "source": [
    "# CHEMIN VERS LE FICHIER DE SAUVEGARDE\n",
    "PATH_TO_SAVE_FILE = f\"/gdrive/My Drive/{FOLDER_NAME}/en_french_eltec_dataset.json\""
   ]
  },
  {
   "cell_type": "code",
   "execution_count": 50,
   "metadata": {
    "tags": [
     "teacher"
    ]
   },
   "outputs": [],
   "source": [
    "# TEACHER\n",
    "PATH_TO_SAVE_FILE = f\"/home/jchazalo/tmp/entites_loc_french_eltec_dataset.json\""
   ]
  },
  {
   "cell_type": "code",
   "execution_count": 53,
   "metadata": {},
   "outputs": [],
   "source": [
    "# Définition d'une fonction de sauvegarde\n",
    "import json\n",
    "def save_my_entities(data: list[str], filename: str):\n",
    "    with open(filename, mode='w', encoding=\"utf8\") as out_file:\n",
    "        json.dump(data, out_file, indent=0)\n",
    "    print(f\"Your data was successfully save to '{filename}'.\")"
   ]
  },
  {
   "cell_type": "code",
   "execution_count": 54,
   "metadata": {},
   "outputs": [
    {
     "name": "stdout",
     "output_type": "stream",
     "text": [
      "Saved your data to '/home/jchazalo/tmp/entites_loc_french_eltec_dataset.json'!\n"
     ]
    }
   ],
   "source": [
    "# Sauvegarde du fichier\n",
    "save_my_entities(all_loc_entities, PATH_TO_SAVE_FILE)"
   ]
  },
  {
   "cell_type": "code",
   "execution_count": null,
   "metadata": {},
   "outputs": [],
   "source": [
    "# Téléchargement direct du fichier depuis la VM Colab\n",
    "files.download(PATH_TO_SAVE_FILE)"
   ]
  },
  {
   "attachments": {},
   "cell_type": "markdown",
   "metadata": {},
   "source": [
    "## 🏁 C'est tout pour cette fois !\n",
    "\n",
    "Nous espérons que cette activité a été enrichissante.\n",
    "\n",
    "N'hésitez pas à **donner rapidement votre avis anonyme 📢** via [ce **formulaire** 📝](https://docs.google.com/forms/d/e/1FAIpQLSfS46qZC5Bz7ultNm2tLLYl6b72HonbERt1srpaoLUes-tNJA/viewform?usp=sf_link) pour nous aider à l'améliorer.\n",
    "\n",
    "Finalement, notez que plusieurs points n'ont pas pu être abordés ici pour des raisons de temps :\n",
    "- la sélection des données du corpus,\n",
    "- la conversion des données vers et depuis la plateforme d'annotation,\n",
    "- la préparation des données d'entraînement et d'évaluation,\n",
    "- les [matchers](https://spacy.io/api/matcher),\n",
    "- utiliser d'autres outils, comme la bibliothèque [Transformers d'HuggingFace](https://huggingface.co/transformers/).\n",
    "\n",
    "Nous avons réalisé toutes ces opérations pour la préparation de cette activité, et vous pourrez regarder nos [notebooks de brouillon](https://github.com/jchazalon/hn-ariane-ner-tuto-2023/tree/main/preparation) si vous le souhaitez, afin de disposer d'exemples de code à réutiliser.\n",
    "\n",
    "👍 Bonne analyse de données !"
   ]
  }
 ],
 "metadata": {
  "kernelspec": {
   "display_name": "hn-ariane-ner-tuto-2023-PwR_0BG5",
   "language": "python",
   "name": "python3"
  },
  "language_info": {
   "codemirror_mode": {
    "name": "ipython",
    "version": 3
   },
   "file_extension": ".py",
   "mimetype": "text/x-python",
   "name": "python",
   "nbconvert_exporter": "python",
   "pygments_lexer": "ipython3",
   "version": "3.10.12"
  },
  "orig_nbformat": 4
 },
 "nbformat": 4,
 "nbformat_minor": 2
}
